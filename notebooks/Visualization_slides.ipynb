{
 "cells": [
  {
   "cell_type": "markdown",
   "id": "68530f3f",
   "metadata": {
    "slideshow": {
     "slide_type": "skip"
    }
   },
   "source": [
    "# Imports"
   ]
  },
  {
   "cell_type": "code",
   "execution_count": 1,
   "id": "d793e244",
   "metadata": {
    "slideshow": {
     "slide_type": "skip"
    }
   },
   "outputs": [],
   "source": [
    "import pandas as pd\n",
    "import numpy as np\n",
    "import seaborn as sns\n",
    "import matplotlib.pyplot as plt\n",
    "from wordcloud import WordCloud"
   ]
  },
  {
   "cell_type": "code",
   "execution_count": 2,
   "id": "2e808ce4",
   "metadata": {
    "slideshow": {
     "slide_type": "skip"
    }
   },
   "outputs": [],
   "source": [
    "pd.set_option('display.max_columns', None)"
   ]
  },
  {
   "cell_type": "markdown",
   "id": "d0127230",
   "metadata": {
    "slideshow": {
     "slide_type": "skip"
    }
   },
   "source": [
    "# First exploration"
   ]
  },
  {
   "cell_type": "code",
   "execution_count": 3,
   "id": "e8b8bec9",
   "metadata": {
    "slideshow": {
     "slide_type": "skip"
    }
   },
   "outputs": [],
   "source": [
    "users_anime_df = pd.read_csv('../data/raw_data/animelist.csv')\n"
   ]
  },
  {
   "cell_type": "code",
   "execution_count": 4,
   "id": "4593382d",
   "metadata": {
    "slideshow": {
     "slide_type": "skip"
    }
   },
   "outputs": [],
   "source": [
    "anime_df = pd.read_csv('../data/raw_data/anime.csv')\n",
    "#watching_status_df = pd.read_csv('./.data/raw_data/watching_status.csv')\n",
    "#rating_complete_df = pd.read_csv('../data/raw_data/rating_complete.csv')\n",
    "#anime_df_relevant_PG = pd.read_csv('../data/raw_data/anime_df_relevant_PG.csv')"
   ]
  },
  {
   "cell_type": "code",
   "execution_count": 5,
   "id": "4c0ade14",
   "metadata": {
    "slideshow": {
     "slide_type": "skip"
    }
   },
   "outputs": [
    {
     "data": {
      "text/plain": [
       "(17562, 35)"
      ]
     },
     "execution_count": 5,
     "metadata": {},
     "output_type": "execute_result"
    }
   ],
   "source": [
    "anime_df.shape"
   ]
  },
  {
   "cell_type": "code",
   "execution_count": 6,
   "id": "ad66eddd",
   "metadata": {
    "slideshow": {
     "slide_type": "skip"
    }
   },
   "outputs": [
    {
     "data": {
      "text/plain": [
       "Index(['MAL_ID', 'Name', 'Score', 'Genres', 'English name', 'Japanese name',\n",
       "       'Type', 'Episodes', 'Aired', 'Premiered', 'Producers', 'Licensors',\n",
       "       'Studios', 'Source', 'Duration', 'Rating', 'Ranked', 'Popularity',\n",
       "       'Members', 'Favorites', 'Watching', 'Completed', 'On-Hold', 'Dropped',\n",
       "       'Plan to Watch', 'Score-10', 'Score-9', 'Score-8', 'Score-7', 'Score-6',\n",
       "       'Score-5', 'Score-4', 'Score-3', 'Score-2', 'Score-1'],\n",
       "      dtype='object')"
      ]
     },
     "execution_count": 6,
     "metadata": {},
     "output_type": "execute_result"
    }
   ],
   "source": [
    "anime_df.columns\n"
   ]
  },
  {
   "cell_type": "code",
   "execution_count": 7,
   "id": "66fd1151",
   "metadata": {
    "scrolled": true,
    "slideshow": {
     "slide_type": "skip"
    }
   },
   "outputs": [
    {
     "data": {
      "text/plain": [
       "(109224747, 5)"
      ]
     },
     "execution_count": 7,
     "metadata": {},
     "output_type": "execute_result"
    }
   ],
   "source": [
    "users_anime_df.shape"
   ]
  },
  {
   "cell_type": "code",
   "execution_count": 8,
   "id": "2e8f06f4",
   "metadata": {
    "slideshow": {
     "slide_type": "skip"
    }
   },
   "outputs": [
    {
     "data": {
      "text/html": [
       "<div>\n",
       "<style scoped>\n",
       "    .dataframe tbody tr th:only-of-type {\n",
       "        vertical-align: middle;\n",
       "    }\n",
       "\n",
       "    .dataframe tbody tr th {\n",
       "        vertical-align: top;\n",
       "    }\n",
       "\n",
       "    .dataframe thead th {\n",
       "        text-align: right;\n",
       "    }\n",
       "</style>\n",
       "<table border=\"1\" class=\"dataframe\">\n",
       "  <thead>\n",
       "    <tr style=\"text-align: right;\">\n",
       "      <th></th>\n",
       "      <th>user_id</th>\n",
       "      <th>anime_id</th>\n",
       "      <th>rating</th>\n",
       "      <th>watching_status</th>\n",
       "      <th>watched_episodes</th>\n",
       "    </tr>\n",
       "  </thead>\n",
       "  <tbody>\n",
       "    <tr>\n",
       "      <th>0</th>\n",
       "      <td>0</td>\n",
       "      <td>67</td>\n",
       "      <td>9</td>\n",
       "      <td>1</td>\n",
       "      <td>1</td>\n",
       "    </tr>\n",
       "    <tr>\n",
       "      <th>1</th>\n",
       "      <td>0</td>\n",
       "      <td>6702</td>\n",
       "      <td>7</td>\n",
       "      <td>1</td>\n",
       "      <td>4</td>\n",
       "    </tr>\n",
       "    <tr>\n",
       "      <th>2</th>\n",
       "      <td>0</td>\n",
       "      <td>242</td>\n",
       "      <td>10</td>\n",
       "      <td>1</td>\n",
       "      <td>4</td>\n",
       "    </tr>\n",
       "    <tr>\n",
       "      <th>3</th>\n",
       "      <td>0</td>\n",
       "      <td>4898</td>\n",
       "      <td>0</td>\n",
       "      <td>1</td>\n",
       "      <td>1</td>\n",
       "    </tr>\n",
       "    <tr>\n",
       "      <th>4</th>\n",
       "      <td>0</td>\n",
       "      <td>21</td>\n",
       "      <td>10</td>\n",
       "      <td>1</td>\n",
       "      <td>0</td>\n",
       "    </tr>\n",
       "  </tbody>\n",
       "</table>\n",
       "</div>"
      ],
      "text/plain": [
       "   user_id  anime_id  rating  watching_status  watched_episodes\n",
       "0        0        67       9                1                 1\n",
       "1        0      6702       7                1                 4\n",
       "2        0       242      10                1                 4\n",
       "3        0      4898       0                1                 1\n",
       "4        0        21      10                1                 0"
      ]
     },
     "execution_count": 8,
     "metadata": {},
     "output_type": "execute_result"
    }
   ],
   "source": [
    "users_anime_df.head()"
   ]
  },
  {
   "cell_type": "markdown",
   "id": "21f3d665",
   "metadata": {
    "slideshow": {
     "slide_type": "skip"
    }
   },
   "source": [
    "# Prepare full data set for visualization"
   ]
  },
  {
   "cell_type": "code",
   "execution_count": 9,
   "id": "c86a3a91",
   "metadata": {
    "slideshow": {
     "slide_type": "skip"
    }
   },
   "outputs": [],
   "source": [
    "anime_df.rename(columns={'MAL_ID': 'anime_id'}, inplace=True)"
   ]
  },
  {
   "cell_type": "code",
   "execution_count": 10,
   "id": "7e0f5d87",
   "metadata": {
    "slideshow": {
     "slide_type": "skip"
    }
   },
   "outputs": [
    {
     "data": {
      "text/html": [
       "<div>\n",
       "<style scoped>\n",
       "    .dataframe tbody tr th:only-of-type {\n",
       "        vertical-align: middle;\n",
       "    }\n",
       "\n",
       "    .dataframe tbody tr th {\n",
       "        vertical-align: top;\n",
       "    }\n",
       "\n",
       "    .dataframe thead th {\n",
       "        text-align: right;\n",
       "    }\n",
       "</style>\n",
       "<table border=\"1\" class=\"dataframe\">\n",
       "  <thead>\n",
       "    <tr style=\"text-align: right;\">\n",
       "      <th></th>\n",
       "      <th>user_id</th>\n",
       "      <th>anime_id</th>\n",
       "      <th>rating</th>\n",
       "      <th>watching_status</th>\n",
       "      <th>watched_episodes</th>\n",
       "    </tr>\n",
       "  </thead>\n",
       "  <tbody>\n",
       "    <tr>\n",
       "      <th>0</th>\n",
       "      <td>0</td>\n",
       "      <td>67</td>\n",
       "      <td>9</td>\n",
       "      <td>1</td>\n",
       "      <td>1</td>\n",
       "    </tr>\n",
       "    <tr>\n",
       "      <th>1</th>\n",
       "      <td>0</td>\n",
       "      <td>6702</td>\n",
       "      <td>7</td>\n",
       "      <td>1</td>\n",
       "      <td>4</td>\n",
       "    </tr>\n",
       "  </tbody>\n",
       "</table>\n",
       "</div>"
      ],
      "text/plain": [
       "   user_id  anime_id  rating  watching_status  watched_episodes\n",
       "0        0        67       9                1                 1\n",
       "1        0      6702       7                1                 4"
      ]
     },
     "execution_count": 10,
     "metadata": {},
     "output_type": "execute_result"
    }
   ],
   "source": [
    "users_anime_df.head(2)"
   ]
  },
  {
   "cell_type": "code",
   "execution_count": 11,
   "id": "933dcff0",
   "metadata": {
    "slideshow": {
     "slide_type": "skip"
    }
   },
   "outputs": [],
   "source": [
    "# take a fraction of full 100M lines\n",
    "users_anime_sample = users_anime_df.sample(frac=0.05, random_state=42)"
   ]
  },
  {
   "cell_type": "code",
   "execution_count": 12,
   "id": "29b1b94b",
   "metadata": {
    "slideshow": {
     "slide_type": "skip"
    }
   },
   "outputs": [
    {
     "data": {
      "text/plain": [
       "(5461237, 5)"
      ]
     },
     "execution_count": 12,
     "metadata": {},
     "output_type": "execute_result"
    }
   ],
   "source": [
    "users_anime_sample.shape"
   ]
  },
  {
   "cell_type": "code",
   "execution_count": 13,
   "id": "70286fd9",
   "metadata": {
    "slideshow": {
     "slide_type": "skip"
    }
   },
   "outputs": [],
   "source": [
    "#merge anime_df with user_amine_sample\n",
    "full_df_sample = anime_df.merge(users_anime_sample, on=\"anime_id\", how='inner')\n"
   ]
  },
  {
   "cell_type": "code",
   "execution_count": 14,
   "id": "6d0c0b5f",
   "metadata": {
    "slideshow": {
     "slide_type": "skip"
    }
   },
   "outputs": [
    {
     "data": {
      "text/plain": [
       "(5461237, 39)"
      ]
     },
     "execution_count": 14,
     "metadata": {},
     "output_type": "execute_result"
    }
   ],
   "source": [
    "full_df_sample.shape"
   ]
  },
  {
   "cell_type": "markdown",
   "id": "e708b9c3",
   "metadata": {},
   "source": [
    "# Visualization for audience"
   ]
  },
  {
   "cell_type": "markdown",
   "id": "87ae7121",
   "metadata": {},
   "source": [
    "## N Most popular anime (ranking and completed and members)  bar chart on y axis"
   ]
  },
  {
   "cell_type": "markdown",
   "id": "ca979ee9",
   "metadata": {
    "slideshow": {
     "slide_type": "slide"
    }
   },
   "source": [
    "### Most popular anime by user score"
   ]
  },
  {
   "cell_type": "code",
   "execution_count": 15,
   "id": "7a576388",
   "metadata": {
    "slideshow": {
     "slide_type": "skip"
    }
   },
   "outputs": [
    {
     "data": {
      "text/plain": [
       "Index(['anime_id', 'Name', 'Score', 'Genres', 'English name', 'Japanese name',\n",
       "       'Type', 'Episodes', 'Aired', 'Premiered', 'Producers', 'Licensors',\n",
       "       'Studios', 'Source', 'Duration', 'Rating', 'Ranked', 'Popularity',\n",
       "       'Members', 'Favorites', 'Watching', 'Completed', 'On-Hold', 'Dropped',\n",
       "       'Plan to Watch', 'Score-10', 'Score-9', 'Score-8', 'Score-7', 'Score-6',\n",
       "       'Score-5', 'Score-4', 'Score-3', 'Score-2', 'Score-1', 'user_id',\n",
       "       'rating', 'watching_status', 'watched_episodes'],\n",
       "      dtype='object')"
      ]
     },
     "execution_count": 15,
     "metadata": {},
     "output_type": "execute_result"
    }
   ],
   "source": [
    "full_df_sample.columns"
   ]
  },
  {
   "cell_type": "code",
   "execution_count": 16,
   "id": "7f4f59ba",
   "metadata": {
    "slideshow": {
     "slide_type": "skip"
    }
   },
   "outputs": [],
   "source": [
    "full_df_sample.Ranked.replace(['Unknown'], -1,inplace = True)"
   ]
  },
  {
   "cell_type": "code",
   "execution_count": 17,
   "id": "ff5cfc51",
   "metadata": {
    "slideshow": {
     "slide_type": "skip"
    }
   },
   "outputs": [],
   "source": [
    "full_df_sample.Ranked = full_df_sample.Ranked.apply(float)"
   ]
  },
  {
   "cell_type": "code",
   "execution_count": 18,
   "id": "6b3cee59",
   "metadata": {
    "slideshow": {
     "slide_type": "skip"
    }
   },
   "outputs": [
    {
     "data": {
      "text/plain": [
       "0          28.0\n",
       "1          28.0\n",
       "2          28.0\n",
       "3          28.0\n",
       "4          28.0\n",
       "           ... \n",
       "5461232    -1.0\n",
       "5461233    -1.0\n",
       "5461234    -1.0\n",
       "5461235    -1.0\n",
       "5461236    -1.0\n",
       "Name: Ranked, Length: 5461237, dtype: float64"
      ]
     },
     "execution_count": 18,
     "metadata": {},
     "output_type": "execute_result"
    }
   ],
   "source": [
    "full_df_sample.Ranked"
   ]
  },
  {
   "cell_type": "code",
   "execution_count": 19,
   "id": "f59b46fc",
   "metadata": {
    "slideshow": {
     "slide_type": "skip"
    }
   },
   "outputs": [],
   "source": [
    "ranked = full_df_sample.sort_values(by='Ranked',ascending=True)"
   ]
  },
  {
   "cell_type": "code",
   "execution_count": null,
   "id": "226451cb",
   "metadata": {
    "slideshow": {
     "slide_type": "skip"
    }
   },
   "outputs": [],
   "source": [
    "ranked = ranked[['Ranked','Name']]"
   ]
  },
  {
   "cell_type": "code",
   "execution_count": null,
   "id": "0d62c85a",
   "metadata": {
    "slideshow": {
     "slide_type": "skip"
    }
   },
   "outputs": [],
   "source": [
    "ranked.Ranked=ranked.Ranked[ranked['Ranked']!=-1]"
   ]
  },
  {
   "cell_type": "code",
   "execution_count": null,
   "id": "34f0a5cc",
   "metadata": {
    "slideshow": {
     "slide_type": "skip"
    }
   },
   "outputs": [],
   "source": [
    "ranked.dropna(inplace=True)"
   ]
  },
  {
   "cell_type": "code",
   "execution_count": null,
   "id": "23560633",
   "metadata": {
    "slideshow": {
     "slide_type": "skip"
    }
   },
   "outputs": [],
   "source": [
    "ranked.drop_duplicates(inplace=True)"
   ]
  },
  {
   "cell_type": "code",
   "execution_count": null,
   "id": "809379c7",
   "metadata": {
    "slideshow": {
     "slide_type": "subslide"
    }
   },
   "outputs": [],
   "source": [
    "fig, ax = plt.subplots(figsize=(12,15))\n",
    "#sns.set(font_scale=1)\n",
    "sns.barplot(data=ranked.iloc[:20], y = 'Name',x='Ranked',ax=ax)"
   ]
  },
  {
   "cell_type": "markdown",
   "id": "b33c3df9",
   "metadata": {
    "slideshow": {
     "slide_type": "slide"
    }
   },
   "source": [
    "### Most popular fully watched anime\n"
   ]
  },
  {
   "cell_type": "code",
   "execution_count": null,
   "id": "48d2a9e4",
   "metadata": {
    "slideshow": {
     "slide_type": "skip"
    }
   },
   "outputs": [],
   "source": [
    "completed = full_df_sample.sort_values(by='Completed',ascending=False)"
   ]
  },
  {
   "cell_type": "code",
   "execution_count": null,
   "id": "cd2570b4",
   "metadata": {
    "slideshow": {
     "slide_type": "skip"
    }
   },
   "outputs": [],
   "source": [
    "completed = completed[['Completed','Name']]"
   ]
  },
  {
   "cell_type": "code",
   "execution_count": null,
   "id": "09c6df22",
   "metadata": {
    "slideshow": {
     "slide_type": "skip"
    }
   },
   "outputs": [],
   "source": [
    "completed.dropna(inplace=True)"
   ]
  },
  {
   "cell_type": "code",
   "execution_count": null,
   "id": "5a0025f1",
   "metadata": {
    "slideshow": {
     "slide_type": "skip"
    }
   },
   "outputs": [],
   "source": [
    "completed.drop_duplicates(inplace=True)"
   ]
  },
  {
   "cell_type": "markdown",
   "id": "c087f449",
   "metadata": {
    "slideshow": {
     "slide_type": "skip"
    }
   },
   "source": [
    "### Most popular anime by number of communities"
   ]
  },
  {
   "cell_type": "code",
   "execution_count": null,
   "id": "ea8c8093",
   "metadata": {
    "slideshow": {
     "slide_type": "skip"
    }
   },
   "outputs": [],
   "source": [
    "members = full_df_sample.sort_values(by='Members',ascending=False)\n",
    "members = members[['Members','Name']]\n",
    "members.dropna(inplace=True)\n",
    "members.drop_duplicates(inplace=True)"
   ]
  },
  {
   "cell_type": "code",
   "execution_count": null,
   "id": "383fe89f",
   "metadata": {
    "slideshow": {
     "slide_type": "subslide"
    }
   },
   "outputs": [],
   "source": [
    "fig, ax = plt.subplots(figsize=(9,12))\n",
    "sns.set(font_scale=1.1)\n",
    "p2 = sns.barplot(data=members.iloc[:20], y = 'Name',x='Members',ax=ax)\n",
    "p2.set_xlabel(\"Community members\")"
   ]
  },
  {
   "cell_type": "markdown",
   "id": "d545ed07",
   "metadata": {
    "slideshow": {
     "slide_type": "skip"
    }
   },
   "source": [
    "## N Most popular anime (user count )  bar chart on y axis -----> Tanguy made it"
   ]
  },
  {
   "cell_type": "code",
   "execution_count": null,
   "id": "8ff5bd5d",
   "metadata": {
    "slideshow": {
     "slide_type": "skip"
    }
   },
   "outputs": [],
   "source": [
    "# FIND IT IN NOTEBOOK OF DIMITRI "
   ]
  },
  {
   "cell_type": "markdown",
   "id": "031d3702",
   "metadata": {
    "slideshow": {
     "slide_type": "slide"
    }
   },
   "source": [
    "## Most popular anime genres"
   ]
  },
  {
   "cell_type": "code",
   "execution_count": null,
   "id": "6d8edfd9",
   "metadata": {
    "slideshow": {
     "slide_type": "skip"
    }
   },
   "outputs": [],
   "source": [
    "full_df_sample.columns"
   ]
  },
  {
   "cell_type": "code",
   "execution_count": null,
   "id": "d9d88af7",
   "metadata": {
    "slideshow": {
     "slide_type": "skip"
    }
   },
   "outputs": [],
   "source": [
    "genres = pd.concat([full_df_sample.drop(columns =['anime_id', 'Name', 'Score', 'Genres', 'English name', 'Japanese name',\n",
    "       'Type', 'Episodes', 'Aired', 'Premiered', 'Producers', 'Licensors',\n",
    "       'Studios', 'Source', 'Duration', 'Rating', 'Ranked', 'Popularity',\n",
    "       'Members', 'Favorites', 'Watching', 'Completed', 'On-Hold', 'Dropped',\n",
    "       'Plan to Watch', 'Score-10', 'Score-9', 'Score-8', 'Score-7', 'Score-6',\n",
    "       'Score-5', 'Score-4', 'Score-3', 'Score-2', 'Score-1', 'user_id',\n",
    "       'rating', 'watching_status', 'watched_episodes']), full_df_sample['Genres'].str.get_dummies(sep=\", \")], 1)"
   ]
  },
  {
   "cell_type": "code",
   "execution_count": null,
   "id": "b0c60b8c",
   "metadata": {
    "slideshow": {
     "slide_type": "skip"
    }
   },
   "outputs": [],
   "source": [
    "genres.head(2)"
   ]
  },
  {
   "cell_type": "code",
   "execution_count": null,
   "id": "82775505",
   "metadata": {
    "slideshow": {
     "slide_type": "skip"
    }
   },
   "outputs": [],
   "source": [
    "popular_genres = genres.apply(np.sum).sort_values(ascending=False)"
   ]
  },
  {
   "cell_type": "code",
   "execution_count": null,
   "id": "937af236",
   "metadata": {
    "slideshow": {
     "slide_type": "skip"
    }
   },
   "outputs": [],
   "source": [
    "popular_genres = popular_genres.to_frame()"
   ]
  },
  {
   "cell_type": "code",
   "execution_count": null,
   "id": "d65cbbf2",
   "metadata": {},
   "outputs": [],
   "source": [
    "popular_genres.reset_index(inplace = True)"
   ]
  },
  {
   "cell_type": "code",
   "execution_count": null,
   "id": "123733c7",
   "metadata": {
    "slideshow": {
     "slide_type": "skip"
    }
   },
   "outputs": [],
   "source": [
    "popular_genres['index'].to_list()"
   ]
  },
  {
   "cell_type": "code",
   "execution_count": null,
   "id": "1fe34ce6",
   "metadata": {
    "slideshow": {
     "slide_type": "subslide"
    }
   },
   "outputs": [],
   "source": [
    "# Start with one review:\n",
    "text = str(popular_genres['index'].to_list())\n",
    "\n",
    "# Create and generate a word cloud image:\n",
    "wordcloud = WordCloud().generate(text)\n",
    "\n",
    "# Display the generated image:\n",
    "plt.subplots(figsize=(16, 14))\n",
    "plt.imshow(wordcloud, interpolation='bilinear')\n",
    "plt.axis(\"off\")\n",
    "plt.show()"
   ]
  },
  {
   "cell_type": "markdown",
   "id": "5a372e0c",
   "metadata": {
    "slideshow": {
     "slide_type": "slide"
    }
   },
   "source": [
    "## Most popular Studios "
   ]
  },
  {
   "cell_type": "code",
   "execution_count": null,
   "id": "545b37b3",
   "metadata": {
    "slideshow": {
     "slide_type": "skip"
    }
   },
   "outputs": [],
   "source": [
    "studios = full_df_sample.Studios.value_counts().to_frame().reset_index()"
   ]
  },
  {
   "cell_type": "code",
   "execution_count": null,
   "id": "18316618",
   "metadata": {
    "slideshow": {
     "slide_type": "skip"
    }
   },
   "outputs": [],
   "source": [
    "studios = studios.rename(columns={'index':'Studios', 'Studios':'count'})"
   ]
  },
  {
   "cell_type": "code",
   "execution_count": null,
   "id": "d94cb587",
   "metadata": {
    "slideshow": {
     "slide_type": "skip"
    }
   },
   "outputs": [],
   "source": [
    "studios[studios.Studios == 'Unknown']"
   ]
  },
  {
   "cell_type": "code",
   "execution_count": null,
   "id": "d2a7f70a",
   "metadata": {
    "slideshow": {
     "slide_type": "skip"
    }
   },
   "outputs": [],
   "source": [
    "studios.drop([7],inplace=True)"
   ]
  },
  {
   "cell_type": "code",
   "execution_count": null,
   "id": "2196073c",
   "metadata": {
    "slideshow": {
     "slide_type": "skip"
    }
   },
   "outputs": [],
   "source": [
    "top_50_studios = studios.iloc[:50]\n",
    "top_10_studios = studios.iloc[:10]"
   ]
  },
  {
   "cell_type": "code",
   "execution_count": null,
   "id": "0f3cf52a",
   "metadata": {
    "slideshow": {
     "slide_type": "skip"
    }
   },
   "outputs": [],
   "source": [
    "sample_studios = studios.sample(8).sort_values(by='count',ascending=False)"
   ]
  },
  {
   "cell_type": "code",
   "execution_count": null,
   "id": "4a09a62c",
   "metadata": {
    "slideshow": {
     "slide_type": "subslide"
    }
   },
   "outputs": [],
   "source": [
    "# Creating plot\n",
    "fig = plt.figure(figsize =(14, 9))\n",
    "#plt.pie(sample_studios['count'], labels = sample_studios['Studios'])\n",
    "#plt.pie(studios['count'], labels = studios['Studios'])\n",
    "\n",
    "plt.pie(top_10_studios['count'], labels = top_10_studios['Studios'])\n",
    "\n",
    "# show plot\n",
    "plt.show()"
   ]
  },
  {
   "cell_type": "markdown",
   "id": "95150cf6",
   "metadata": {
    "slideshow": {
     "slide_type": "slide"
    }
   },
   "source": [
    "## Sources of anime: movie, OTA, TV - pie"
   ]
  },
  {
   "cell_type": "code",
   "execution_count": null,
   "id": "f07198cd",
   "metadata": {
    "slideshow": {
     "slide_type": "skip"
    }
   },
   "outputs": [],
   "source": [
    "source = full_df_sample.Source.value_counts().to_frame().reset_index()"
   ]
  },
  {
   "cell_type": "raw",
   "id": "b6e34877",
   "metadata": {
    "slideshow": {
     "slide_type": "skip"
    }
   },
   "source": [
    "source"
   ]
  },
  {
   "cell_type": "code",
   "execution_count": null,
   "id": "31cceffe",
   "metadata": {
    "slideshow": {
     "slide_type": "skip"
    }
   },
   "outputs": [],
   "source": [
    "source = source.rename(columns={'index':'Source', 'Source':'count'})"
   ]
  },
  {
   "cell_type": "code",
   "execution_count": null,
   "id": "1e3a56ec",
   "metadata": {
    "slideshow": {
     "slide_type": "skip"
    }
   },
   "outputs": [],
   "source": [
    "source[source.Source == 'Unknown']"
   ]
  },
  {
   "cell_type": "code",
   "execution_count": null,
   "id": "bf241ca0",
   "metadata": {
    "slideshow": {
     "slide_type": "skip"
    }
   },
   "outputs": [],
   "source": [
    "source.index[source['Source']=='Unknown'].tolist()[0]"
   ]
  },
  {
   "cell_type": "code",
   "execution_count": null,
   "id": "776830b9",
   "metadata": {
    "slideshow": {
     "slide_type": "skip"
    }
   },
   "outputs": [],
   "source": [
    "source.drop([source.index[source['Source']=='Unknown'].tolist()[0]],inplace=True)"
   ]
  },
  {
   "cell_type": "code",
   "execution_count": null,
   "id": "392e51bd",
   "metadata": {
    "slideshow": {
     "slide_type": "skip"
    }
   },
   "outputs": [],
   "source": [
    "top_10_sources = source.iloc[:10]"
   ]
  },
  {
   "cell_type": "code",
   "execution_count": null,
   "id": "4593fddb",
   "metadata": {},
   "outputs": [],
   "source": [
    "top_10_sources"
   ]
  },
  {
   "cell_type": "code",
   "execution_count": null,
   "id": "23695fb4",
   "metadata": {
    "slideshow": {
     "slide_type": "subslide"
    }
   },
   "outputs": [],
   "source": [
    "# Creating plot\n",
    "fig = plt.figure(figsize =(14, 9))\n",
    "#plt.pie(sample_studios['count'], labels = sample_studios['Studios'])\n",
    "#plt.pie(studios['count'], labels = studios['Studios'])\n",
    "\n",
    "plt.pie(top_10_sources['count'], labels = top_10_sources['Source'])\n",
    "\n",
    "# show plot\n",
    "plt.show()"
   ]
  },
  {
   "cell_type": "markdown",
   "id": "185d9a4c",
   "metadata": {
    "slideshow": {
     "slide_type": "skip"
    }
   },
   "source": [
    "## Community per anime "
   ]
  },
  {
   "cell_type": "markdown",
   "id": "cee2453a",
   "metadata": {
    "heading_collapsed": true,
    "slideshow": {
     "slide_type": "skip"
    }
   },
   "source": [
    "## Count of animes accoding to PG rating"
   ]
  },
  {
   "cell_type": "markdown",
   "id": "7896bea0",
   "metadata": {
    "slideshow": {
     "slide_type": "skip"
    }
   },
   "source": [
    "## How many anime each Studio produces"
   ]
  },
  {
   "cell_type": "markdown",
   "id": "99c2b9d8",
   "metadata": {
    "heading_collapsed": true,
    "slideshow": {
     "slide_type": "skip"
    }
   },
   "source": [
    "## What are the most popular anime according to watching or score or rank"
   ]
  },
  {
   "cell_type": "markdown",
   "id": "70f2237b",
   "metadata": {
    "slideshow": {
     "slide_type": "skip"
    }
   },
   "source": [
    "## How many anime made per year "
   ]
  },
  {
   "cell_type": "markdown",
   "id": "98ad58b6",
   "metadata": {
    "slideshow": {
     "slide_type": "skip"
    }
   },
   "source": [
    "## How many anime watched through years"
   ]
  },
  {
   "cell_type": "markdown",
   "id": "b6f26746",
   "metadata": {
    "slideshow": {
     "slide_type": "skip"
    }
   },
   "source": [
    "## Anime duration"
   ]
  },
  {
   "cell_type": "markdown",
   "id": "e77a5e46",
   "metadata": {
    "slideshow": {
     "slide_type": "skip"
    }
   },
   "source": [
    "## Popularity  with duration (rank(?) vs duration?)"
   ]
  },
  {
   "cell_type": "markdown",
   "id": "bb15b87f",
   "metadata": {
    "slideshow": {
     "slide_type": "skip"
    }
   },
   "source": [
    "## Dropped anime "
   ]
  },
  {
   "cell_type": "markdown",
   "id": "3fec8111",
   "metadata": {
    "slideshow": {
     "slide_type": "skip"
    }
   },
   "source": [
    "## Top anime by number of episodes"
   ]
  }
 ],
 "metadata": {
  "celltoolbar": "Slideshow",
  "kernelspec": {
   "display_name": "Python 3 (ipykernel)",
   "language": "python",
   "name": "python3"
  },
  "language_info": {
   "codemirror_mode": {
    "name": "ipython",
    "version": 3
   },
   "file_extension": ".py",
   "mimetype": "text/x-python",
   "name": "python",
   "nbconvert_exporter": "python",
   "pygments_lexer": "ipython3",
   "version": "3.8.6"
  },
  "toc": {
   "base_numbering": 1,
   "nav_menu": {},
   "number_sections": true,
   "sideBar": true,
   "skip_h1_title": false,
   "title_cell": "Table of Contents",
   "title_sidebar": "Contents",
   "toc_cell": false,
   "toc_position": {
    "height": "calc(100% - 180px)",
    "left": "10px",
    "top": "150px",
    "width": "165px"
   },
   "toc_section_display": true,
   "toc_window_display": true
  }
 },
 "nbformat": 4,
 "nbformat_minor": 5
}
