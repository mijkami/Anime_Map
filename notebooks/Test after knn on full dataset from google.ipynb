{
 "cells": [
  {
   "cell_type": "code",
   "execution_count": 20,
   "id": "086e61fb",
   "metadata": {},
   "outputs": [],
   "source": [
    "import pandas as pd\n",
    "import numpy as np\n",
    "import joblib"
   ]
  },
  {
   "cell_type": "code",
   "execution_count": 25,
   "id": "64d59364",
   "metadata": {},
   "outputs": [],
   "source": [
    "anime_name = pd.read_csv('../data/Processed_data/anime_df_relevant_PG.csv')[['MAL_ID','Name']].rename(columns={'MAL_ID':'anime_id'})"
   ]
  },
  {
   "cell_type": "code",
   "execution_count": 26,
   "id": "6b1d45ae",
   "metadata": {},
   "outputs": [
    {
     "data": {
      "text/plain": [
       "Index(['anime_id', 'Name'], dtype='object')"
      ]
     },
     "execution_count": 26,
     "metadata": {},
     "output_type": "execute_result"
    }
   ],
   "source": [
    "anime_name.columns"
   ]
  },
  {
   "cell_type": "markdown",
   "id": "cd3fd57b",
   "metadata": {},
   "source": [
    "# recomendation_rating_complete_100plus_pca"
   ]
  },
  {
   "cell_type": "code",
   "execution_count": 21,
   "id": "4da8e363",
   "metadata": {},
   "outputs": [],
   "source": [
    "model_rating_complete_100plus = joblib.load('../data/Processed_data/anime_map_data_rating_complete_100plus_PG_knn_model.joblib')"
   ]
  },
  {
   "cell_type": "code",
   "execution_count": 22,
   "id": "4c42cffe",
   "metadata": {},
   "outputs": [],
   "source": [
    "pivot_rating_complete_100plus = pd.read_csv('../data/Processed_data/anime_map_data_rating_complete_100plus_PG_PCA_vector_df.csv')"
   ]
  },
  {
   "cell_type": "code",
   "execution_count": 33,
   "id": "c9054bf0",
   "metadata": {},
   "outputs": [
    {
     "data": {
      "text/plain": [
       "(10947, 2311)"
      ]
     },
     "execution_count": 33,
     "metadata": {},
     "output_type": "execute_result"
    }
   ],
   "source": [
    "pivot_rating_complete_100plus.shape"
   ]
  },
  {
   "cell_type": "code",
   "execution_count": 23,
   "id": "3560310a",
   "metadata": {},
   "outputs": [],
   "source": [
    "anime_id_rating_complete_100plus = pd.read_csv('../data/Processed_data/anime_map_data_rating_complete_100plus_PG_anime_id_df.csv')"
   ]
  },
  {
   "cell_type": "code",
   "execution_count": 24,
   "id": "2d759e95",
   "metadata": {},
   "outputs": [
    {
     "data": {
      "text/plain": [
       "(10947, 2)"
      ]
     },
     "execution_count": 24,
     "metadata": {},
     "output_type": "execute_result"
    }
   ],
   "source": [
    "anime_id.shape"
   ]
  },
  {
   "cell_type": "code",
   "execution_count": 27,
   "id": "d4fe2429",
   "metadata": {},
   "outputs": [],
   "source": [
    "anime_id_rating_complete_100plus = anime_id_rating_complete_100plus.merge(anime_name, on = 'anime_id', how='inner')"
   ]
  },
  {
   "cell_type": "code",
   "execution_count": 53,
   "id": "7e1a4425",
   "metadata": {},
   "outputs": [
    {
     "data": {
      "text/html": [
       "<div>\n",
       "<style scoped>\n",
       "    .dataframe tbody tr th:only-of-type {\n",
       "        vertical-align: middle;\n",
       "    }\n",
       "\n",
       "    .dataframe tbody tr th {\n",
       "        vertical-align: top;\n",
       "    }\n",
       "\n",
       "    .dataframe thead th {\n",
       "        text-align: right;\n",
       "    }\n",
       "</style>\n",
       "<table border=\"1\" class=\"dataframe\">\n",
       "  <thead>\n",
       "    <tr style=\"text-align: right;\">\n",
       "      <th></th>\n",
       "      <th>anime_id</th>\n",
       "      <th>Name</th>\n",
       "    </tr>\n",
       "  </thead>\n",
       "  <tbody>\n",
       "    <tr>\n",
       "      <th>0</th>\n",
       "      <td>1</td>\n",
       "      <td>Cowboy Bebop</td>\n",
       "    </tr>\n",
       "    <tr>\n",
       "      <th>1</th>\n",
       "      <td>5</td>\n",
       "      <td>Cowboy Bebop: Tengoku no Tobira</td>\n",
       "    </tr>\n",
       "    <tr>\n",
       "      <th>2</th>\n",
       "      <td>6</td>\n",
       "      <td>Trigun</td>\n",
       "    </tr>\n",
       "    <tr>\n",
       "      <th>3</th>\n",
       "      <td>7</td>\n",
       "      <td>Witch Hunter Robin</td>\n",
       "    </tr>\n",
       "    <tr>\n",
       "      <th>4</th>\n",
       "      <td>8</td>\n",
       "      <td>Bouken Ou Beet</td>\n",
       "    </tr>\n",
       "    <tr>\n",
       "      <th>...</th>\n",
       "      <td>...</td>\n",
       "      <td>...</td>\n",
       "    </tr>\n",
       "    <tr>\n",
       "      <th>10942</th>\n",
       "      <td>47398</td>\n",
       "      <td>Kimetsu Gakuen: Valentine-hen</td>\n",
       "    </tr>\n",
       "    <tr>\n",
       "      <th>10943</th>\n",
       "      <td>47402</td>\n",
       "      <td>Heikousen</td>\n",
       "    </tr>\n",
       "    <tr>\n",
       "      <th>10944</th>\n",
       "      <td>47614</td>\n",
       "      <td>Nu Wushen de Canzhuo Spring Festival Special</td>\n",
       "    </tr>\n",
       "    <tr>\n",
       "      <th>10945</th>\n",
       "      <td>47616</td>\n",
       "      <td>Yakusoku no Neverland 2nd Season: Michishirube</td>\n",
       "    </tr>\n",
       "    <tr>\n",
       "      <th>10946</th>\n",
       "      <td>48456</td>\n",
       "      <td>SK∞: Crazy Rock Jam</td>\n",
       "    </tr>\n",
       "  </tbody>\n",
       "</table>\n",
       "<p>10947 rows × 2 columns</p>\n",
       "</div>"
      ],
      "text/plain": [
       "       anime_id                                            Name\n",
       "0             1                                    Cowboy Bebop\n",
       "1             5                 Cowboy Bebop: Tengoku no Tobira\n",
       "2             6                                          Trigun\n",
       "3             7                              Witch Hunter Robin\n",
       "4             8                                  Bouken Ou Beet\n",
       "...         ...                                             ...\n",
       "10942     47398                   Kimetsu Gakuen: Valentine-hen\n",
       "10943     47402                                       Heikousen\n",
       "10944     47614    Nu Wushen de Canzhuo Spring Festival Special\n",
       "10945     47616  Yakusoku no Neverland 2nd Season: Michishirube\n",
       "10946     48456                             SK∞: Crazy Rock Jam\n",
       "\n",
       "[10947 rows x 2 columns]"
      ]
     },
     "execution_count": 53,
     "metadata": {},
     "output_type": "execute_result"
    }
   ],
   "source": [
    "anime_id_rating_complete_100plus"
   ]
  },
  {
   "cell_type": "code",
   "execution_count": 28,
   "id": "304e23dc",
   "metadata": {},
   "outputs": [
    {
     "data": {
      "text/plain": [
       "(10947, 2)"
      ]
     },
     "execution_count": 28,
     "metadata": {},
     "output_type": "execute_result"
    }
   ],
   "source": [
    "anime_id_rating_complete_100plus.shape"
   ]
  },
  {
   "cell_type": "code",
   "execution_count": 29,
   "id": "511bbb0c",
   "metadata": {},
   "outputs": [
    {
     "data": {
      "text/html": [
       "<div>\n",
       "<style scoped>\n",
       "    .dataframe tbody tr th:only-of-type {\n",
       "        vertical-align: middle;\n",
       "    }\n",
       "\n",
       "    .dataframe tbody tr th {\n",
       "        vertical-align: top;\n",
       "    }\n",
       "\n",
       "    .dataframe thead th {\n",
       "        text-align: right;\n",
       "    }\n",
       "</style>\n",
       "<table border=\"1\" class=\"dataframe\">\n",
       "  <thead>\n",
       "    <tr style=\"text-align: right;\">\n",
       "      <th></th>\n",
       "      <th>anime_id</th>\n",
       "      <th>Name</th>\n",
       "    </tr>\n",
       "  </thead>\n",
       "  <tbody>\n",
       "    <tr>\n",
       "      <th>0</th>\n",
       "      <td>1</td>\n",
       "      <td>Cowboy Bebop</td>\n",
       "    </tr>\n",
       "    <tr>\n",
       "      <th>1</th>\n",
       "      <td>5</td>\n",
       "      <td>Cowboy Bebop: Tengoku no Tobira</td>\n",
       "    </tr>\n",
       "    <tr>\n",
       "      <th>2</th>\n",
       "      <td>6</td>\n",
       "      <td>Trigun</td>\n",
       "    </tr>\n",
       "    <tr>\n",
       "      <th>3</th>\n",
       "      <td>7</td>\n",
       "      <td>Witch Hunter Robin</td>\n",
       "    </tr>\n",
       "    <tr>\n",
       "      <th>4</th>\n",
       "      <td>8</td>\n",
       "      <td>Bouken Ou Beet</td>\n",
       "    </tr>\n",
       "    <tr>\n",
       "      <th>...</th>\n",
       "      <td>...</td>\n",
       "      <td>...</td>\n",
       "    </tr>\n",
       "    <tr>\n",
       "      <th>10942</th>\n",
       "      <td>47398</td>\n",
       "      <td>Kimetsu Gakuen: Valentine-hen</td>\n",
       "    </tr>\n",
       "    <tr>\n",
       "      <th>10943</th>\n",
       "      <td>47402</td>\n",
       "      <td>Heikousen</td>\n",
       "    </tr>\n",
       "    <tr>\n",
       "      <th>10944</th>\n",
       "      <td>47614</td>\n",
       "      <td>Nu Wushen de Canzhuo Spring Festival Special</td>\n",
       "    </tr>\n",
       "    <tr>\n",
       "      <th>10945</th>\n",
       "      <td>47616</td>\n",
       "      <td>Yakusoku no Neverland 2nd Season: Michishirube</td>\n",
       "    </tr>\n",
       "    <tr>\n",
       "      <th>10946</th>\n",
       "      <td>48456</td>\n",
       "      <td>SK∞: Crazy Rock Jam</td>\n",
       "    </tr>\n",
       "  </tbody>\n",
       "</table>\n",
       "<p>10947 rows × 2 columns</p>\n",
       "</div>"
      ],
      "text/plain": [
       "       anime_id                                            Name\n",
       "0             1                                    Cowboy Bebop\n",
       "1             5                 Cowboy Bebop: Tengoku no Tobira\n",
       "2             6                                          Trigun\n",
       "3             7                              Witch Hunter Robin\n",
       "4             8                                  Bouken Ou Beet\n",
       "...         ...                                             ...\n",
       "10942     47398                   Kimetsu Gakuen: Valentine-hen\n",
       "10943     47402                                       Heikousen\n",
       "10944     47614    Nu Wushen de Canzhuo Spring Festival Special\n",
       "10945     47616  Yakusoku no Neverland 2nd Season: Michishirube\n",
       "10946     48456                             SK∞: Crazy Rock Jam\n",
       "\n",
       "[10947 rows x 2 columns]"
      ]
     },
     "execution_count": 29,
     "metadata": {},
     "output_type": "execute_result"
    }
   ],
   "source": [
    "anime_id_rating_complete_100plus"
   ]
  },
  {
   "cell_type": "code",
   "execution_count": 30,
   "id": "74cb68b2",
   "metadata": {},
   "outputs": [],
   "source": [
    "def recomendation_rating_complete_100plus_pca(anime_name, nb_recomendation = 10):\n",
    "    index_nb = anime_id_rating_complete_100plus.index[anime_id_rating_complete_100plus['Name'] == anime_name].tolist()[0]\n",
    "    distances, indices = model_rating_complete_100plus.kneighbors(pivot_rating_complete_100plus.iloc[index_nb,:].values.reshape(1, -1), n_neighbors = nb_recomendation + 1)\n",
    "\n",
    "    prediction = []\n",
    "    for i in range(0, len(distances.flatten())):\n",
    "        if i == 0:\n",
    "            prediction.append([pivot_rating_complete_100plus.index[indices.flatten()[i]],0])\n",
    "        else:\n",
    "            prediction.append([pivot_rating_complete_100plus.index[indices.flatten()[i]],distances.flatten()[i]])\n",
    "    results = []\n",
    "    for i in range(len(prediction)):\n",
    "        anime_name = anime_id_rating_complete_100plus.iloc[prediction[i][0]].Name\n",
    "        distance = prediction[i][1]\n",
    "        results.append([anime_name,distance])\n",
    "    return results"
   ]
  },
  {
   "cell_type": "code",
   "execution_count": 31,
   "id": "603fba17",
   "metadata": {},
   "outputs": [
    {
     "data": {
      "text/plain": [
       "[['Naruto', 0],\n",
       " ['Death Note', 0.323741510573193],\n",
       " ['Shingeki no Kyojin', 0.3443082227028432],\n",
       " ['Sword Art Online', 0.3578026128416929],\n",
       " ['Naruto: Shippuuden', 0.3615097462241935],\n",
       " ['Fullmetal Alchemist: Brotherhood', 0.3631124633845627],\n",
       " ['One Punch Man', 0.3852966077032448],\n",
       " ['Code Geass: Hangyaku no Lelouch', 0.38557471057144277],\n",
       " ['Tokyo Ghoul', 0.3946939585681576],\n",
       " ['Boku no Hero Academia', 0.4015636592976439],\n",
       " ['Ao no Exorcist', 0.40637658521452813]]"
      ]
     },
     "execution_count": 31,
     "metadata": {},
     "output_type": "execute_result"
    }
   ],
   "source": [
    "recomendation_rating_complete_100plus_pca('Naruto')"
   ]
  },
  {
   "cell_type": "markdown",
   "id": "74e8b6c0",
   "metadata": {},
   "source": [
    "# recomendation_animelist_100plus_pca"
   ]
  },
  {
   "cell_type": "code",
   "execution_count": 34,
   "id": "629ae8ee",
   "metadata": {},
   "outputs": [],
   "source": [
    "model_animelist_100plus = joblib.load('../data/Processed_data/anime_map_data_animelist_100plus_PG_knn_model.joblib')"
   ]
  },
  {
   "cell_type": "code",
   "execution_count": 35,
   "id": "7011adbe",
   "metadata": {},
   "outputs": [],
   "source": [
    "pivot_animelist_100plus = pd.read_csv('../data/Processed_data/anime_map_data_animelist_100plus_PG_PCA_vector_df.csv')"
   ]
  },
  {
   "cell_type": "code",
   "execution_count": 43,
   "id": "1bd7f987",
   "metadata": {},
   "outputs": [
    {
     "data": {
      "text/plain": [
       "(11048, 2037)"
      ]
     },
     "execution_count": 43,
     "metadata": {},
     "output_type": "execute_result"
    }
   ],
   "source": [
    "pivot_animelist_100plus.shape"
   ]
  },
  {
   "cell_type": "code",
   "execution_count": 59,
   "id": "ef9f4733",
   "metadata": {},
   "outputs": [],
   "source": [
    "anime_id_animelist_100plus = pd.read_csv('../data/Processed_data/anime_map_data_animelist_100plus_PG_anime_id_df.csv')"
   ]
  },
  {
   "cell_type": "code",
   "execution_count": 60,
   "id": "17b4a8a9",
   "metadata": {},
   "outputs": [
    {
     "data": {
      "text/html": [
       "<div>\n",
       "<style scoped>\n",
       "    .dataframe tbody tr th:only-of-type {\n",
       "        vertical-align: middle;\n",
       "    }\n",
       "\n",
       "    .dataframe tbody tr th {\n",
       "        vertical-align: top;\n",
       "    }\n",
       "\n",
       "    .dataframe thead th {\n",
       "        text-align: right;\n",
       "    }\n",
       "</style>\n",
       "<table border=\"1\" class=\"dataframe\">\n",
       "  <thead>\n",
       "    <tr style=\"text-align: right;\">\n",
       "      <th></th>\n",
       "      <th>anime_id</th>\n",
       "    </tr>\n",
       "  </thead>\n",
       "  <tbody>\n",
       "    <tr>\n",
       "      <th>0</th>\n",
       "      <td>1</td>\n",
       "    </tr>\n",
       "    <tr>\n",
       "      <th>1</th>\n",
       "      <td>5</td>\n",
       "    </tr>\n",
       "    <tr>\n",
       "      <th>2</th>\n",
       "      <td>6</td>\n",
       "    </tr>\n",
       "    <tr>\n",
       "      <th>3</th>\n",
       "      <td>7</td>\n",
       "    </tr>\n",
       "    <tr>\n",
       "      <th>4</th>\n",
       "      <td>8</td>\n",
       "    </tr>\n",
       "    <tr>\n",
       "      <th>...</th>\n",
       "      <td>...</td>\n",
       "    </tr>\n",
       "    <tr>\n",
       "      <th>11043</th>\n",
       "      <td>47398</td>\n",
       "    </tr>\n",
       "    <tr>\n",
       "      <th>11044</th>\n",
       "      <td>47402</td>\n",
       "    </tr>\n",
       "    <tr>\n",
       "      <th>11045</th>\n",
       "      <td>47614</td>\n",
       "    </tr>\n",
       "    <tr>\n",
       "      <th>11046</th>\n",
       "      <td>47616</td>\n",
       "    </tr>\n",
       "    <tr>\n",
       "      <th>11047</th>\n",
       "      <td>48456</td>\n",
       "    </tr>\n",
       "  </tbody>\n",
       "</table>\n",
       "<p>11048 rows × 1 columns</p>\n",
       "</div>"
      ],
      "text/plain": [
       "       anime_id\n",
       "0             1\n",
       "1             5\n",
       "2             6\n",
       "3             7\n",
       "4             8\n",
       "...         ...\n",
       "11043     47398\n",
       "11044     47402\n",
       "11045     47614\n",
       "11046     47616\n",
       "11047     48456\n",
       "\n",
       "[11048 rows x 1 columns]"
      ]
     },
     "execution_count": 60,
     "metadata": {},
     "output_type": "execute_result"
    }
   ],
   "source": [
    "anime_id_animelist_100plus"
   ]
  },
  {
   "cell_type": "code",
   "execution_count": 61,
   "id": "bfdca0ec",
   "metadata": {
    "scrolled": true
   },
   "outputs": [
    {
     "data": {
      "text/plain": [
       "(11048, 1)"
      ]
     },
     "execution_count": 61,
     "metadata": {},
     "output_type": "execute_result"
    }
   ],
   "source": [
    "anime_id_animelist_100plus.shape"
   ]
  },
  {
   "cell_type": "code",
   "execution_count": 63,
   "id": "df9614a6",
   "metadata": {},
   "outputs": [],
   "source": [
    "anime_id_animelist_100plus = anime_id_animelist_100plus.merge(anime_name, on = 'anime_id', how='inner')"
   ]
  },
  {
   "cell_type": "code",
   "execution_count": 64,
   "id": "c04d4406",
   "metadata": {},
   "outputs": [
    {
     "data": {
      "text/plain": [
       "(11048, 2)"
      ]
     },
     "execution_count": 64,
     "metadata": {},
     "output_type": "execute_result"
    }
   ],
   "source": [
    "anime_id_animelist_100plus.shape"
   ]
  },
  {
   "cell_type": "code",
   "execution_count": 65,
   "id": "f556465f",
   "metadata": {
    "collapsed": true
   },
   "outputs": [
    {
     "data": {
      "text/html": [
       "<div>\n",
       "<style scoped>\n",
       "    .dataframe tbody tr th:only-of-type {\n",
       "        vertical-align: middle;\n",
       "    }\n",
       "\n",
       "    .dataframe tbody tr th {\n",
       "        vertical-align: top;\n",
       "    }\n",
       "\n",
       "    .dataframe thead th {\n",
       "        text-align: right;\n",
       "    }\n",
       "</style>\n",
       "<table border=\"1\" class=\"dataframe\">\n",
       "  <thead>\n",
       "    <tr style=\"text-align: right;\">\n",
       "      <th></th>\n",
       "      <th>anime_id</th>\n",
       "      <th>Name</th>\n",
       "    </tr>\n",
       "  </thead>\n",
       "  <tbody>\n",
       "    <tr>\n",
       "      <th>0</th>\n",
       "      <td>1</td>\n",
       "      <td>Cowboy Bebop</td>\n",
       "    </tr>\n",
       "    <tr>\n",
       "      <th>1</th>\n",
       "      <td>5</td>\n",
       "      <td>Cowboy Bebop: Tengoku no Tobira</td>\n",
       "    </tr>\n",
       "    <tr>\n",
       "      <th>2</th>\n",
       "      <td>6</td>\n",
       "      <td>Trigun</td>\n",
       "    </tr>\n",
       "    <tr>\n",
       "      <th>3</th>\n",
       "      <td>7</td>\n",
       "      <td>Witch Hunter Robin</td>\n",
       "    </tr>\n",
       "    <tr>\n",
       "      <th>4</th>\n",
       "      <td>8</td>\n",
       "      <td>Bouken Ou Beet</td>\n",
       "    </tr>\n",
       "    <tr>\n",
       "      <th>...</th>\n",
       "      <td>...</td>\n",
       "      <td>...</td>\n",
       "    </tr>\n",
       "    <tr>\n",
       "      <th>11043</th>\n",
       "      <td>47398</td>\n",
       "      <td>Kimetsu Gakuen: Valentine-hen</td>\n",
       "    </tr>\n",
       "    <tr>\n",
       "      <th>11044</th>\n",
       "      <td>47402</td>\n",
       "      <td>Heikousen</td>\n",
       "    </tr>\n",
       "    <tr>\n",
       "      <th>11045</th>\n",
       "      <td>47614</td>\n",
       "      <td>Nu Wushen de Canzhuo Spring Festival Special</td>\n",
       "    </tr>\n",
       "    <tr>\n",
       "      <th>11046</th>\n",
       "      <td>47616</td>\n",
       "      <td>Yakusoku no Neverland 2nd Season: Michishirube</td>\n",
       "    </tr>\n",
       "    <tr>\n",
       "      <th>11047</th>\n",
       "      <td>48456</td>\n",
       "      <td>SK∞: Crazy Rock Jam</td>\n",
       "    </tr>\n",
       "  </tbody>\n",
       "</table>\n",
       "<p>11048 rows × 2 columns</p>\n",
       "</div>"
      ],
      "text/plain": [
       "       anime_id                                            Name\n",
       "0             1                                    Cowboy Bebop\n",
       "1             5                 Cowboy Bebop: Tengoku no Tobira\n",
       "2             6                                          Trigun\n",
       "3             7                              Witch Hunter Robin\n",
       "4             8                                  Bouken Ou Beet\n",
       "...         ...                                             ...\n",
       "11043     47398                   Kimetsu Gakuen: Valentine-hen\n",
       "11044     47402                                       Heikousen\n",
       "11045     47614    Nu Wushen de Canzhuo Spring Festival Special\n",
       "11046     47616  Yakusoku no Neverland 2nd Season: Michishirube\n",
       "11047     48456                             SK∞: Crazy Rock Jam\n",
       "\n",
       "[11048 rows x 2 columns]"
      ]
     },
     "execution_count": 65,
     "metadata": {},
     "output_type": "execute_result"
    }
   ],
   "source": [
    "anime_id_animelist_100plus"
   ]
  },
  {
   "cell_type": "code",
   "execution_count": null,
   "id": "59467143",
   "metadata": {},
   "outputs": [],
   "source": []
  },
  {
   "cell_type": "code",
   "execution_count": 66,
   "id": "91cd6ff5",
   "metadata": {},
   "outputs": [],
   "source": [
    "def recomendation_animelist_100plus_pca(anime_name, nb_recomendation = 10):\n",
    "    index_nb = anime_id_animelist_100plus.index[anime_id_animelist_100plus['Name'] == anime_name].tolist()[0]\n",
    "    distances, indices = model_animelist_100plus.kneighbors(pivot_animelist_100plus.iloc[index_nb,:].values.reshape(1, -1), n_neighbors = nb_recomendation + 1)\n",
    "\n",
    "    prediction = []\n",
    "    for i in range(0, len(distances.flatten())):\n",
    "        if i == 0:\n",
    "            prediction.append([pivot_animelist_100plus.index[indices.flatten()[i]],0])\n",
    "        else:\n",
    "            prediction.append([pivot_animelist_100plus.index[indices.flatten()[i]],distances.flatten()[i]])\n",
    "    results = []\n",
    "    for i in range(len(prediction)):\n",
    "        anime_name = anime_id_animelist_100plus.iloc[prediction[i][0]].Name\n",
    "        distance = prediction[i][1]\n",
    "        results.append([anime_name,distance])\n",
    "    return results"
   ]
  },
  {
   "cell_type": "code",
   "execution_count": 67,
   "id": "4fd0a54d",
   "metadata": {},
   "outputs": [
    {
     "data": {
      "text/plain": [
       "[['Naruto', 0],\n",
       " ['Naruto: Shippuuden', 0.16479568859309957],\n",
       " ['Death Note', 0.28978191191199754],\n",
       " ['Bleach', 0.31862997487679345],\n",
       " ['Shingeki no Kyojin', 0.3200006084059118],\n",
       " ['Fullmetal Alchemist: Brotherhood', 0.34244184214998474],\n",
       " ['Sword Art Online', 0.3471770420949094],\n",
       " ['Code Geass: Hangyaku no Lelouch', 0.36965757726627224],\n",
       " ['One Punch Man', 0.37465993577686274],\n",
       " ['Tokyo Ghoul', 0.3842327761099542],\n",
       " ['Fairy Tail', 0.38772256888731504]]"
      ]
     },
     "execution_count": 67,
     "metadata": {},
     "output_type": "execute_result"
    }
   ],
   "source": [
    "recomendation_animelist_100plus_pca('Naruto')"
   ]
  },
  {
   "cell_type": "markdown",
   "id": "0ea72dab",
   "metadata": {},
   "source": [
    "# Comparaison"
   ]
  },
  {
   "cell_type": "code",
   "execution_count": 68,
   "id": "1833b2ca",
   "metadata": {},
   "outputs": [],
   "source": [
    "def compare(anime_name, nb_recomendation = 10):\n",
    "    vote_recomendation = np.array(recomendation_animelist_100plus_pca(anime_name, nb_recomendation ))[:,0]\n",
    "    completed_recomendation = np.array(recomendation_rating_complete_100plus_pca(anime_name, nb_recomendation ))[:,0]\n",
    "    return pd.DataFrame(list(zip(list(vote_recomendation), list(completed_recomendation))), columns =['vote_recomendation', 'completed_recomendation'])"
   ]
  },
  {
   "cell_type": "code",
   "execution_count": 69,
   "id": "fc822776",
   "metadata": {},
   "outputs": [
    {
     "data": {
      "text/html": [
       "<div>\n",
       "<style scoped>\n",
       "    .dataframe tbody tr th:only-of-type {\n",
       "        vertical-align: middle;\n",
       "    }\n",
       "\n",
       "    .dataframe tbody tr th {\n",
       "        vertical-align: top;\n",
       "    }\n",
       "\n",
       "    .dataframe thead th {\n",
       "        text-align: right;\n",
       "    }\n",
       "</style>\n",
       "<table border=\"1\" class=\"dataframe\">\n",
       "  <thead>\n",
       "    <tr style=\"text-align: right;\">\n",
       "      <th></th>\n",
       "      <th>vote_recomendation</th>\n",
       "      <th>completed_recomendation</th>\n",
       "    </tr>\n",
       "  </thead>\n",
       "  <tbody>\n",
       "    <tr>\n",
       "      <th>0</th>\n",
       "      <td>Naruto</td>\n",
       "      <td>Naruto</td>\n",
       "    </tr>\n",
       "    <tr>\n",
       "      <th>1</th>\n",
       "      <td>Naruto: Shippuuden</td>\n",
       "      <td>Death Note</td>\n",
       "    </tr>\n",
       "    <tr>\n",
       "      <th>2</th>\n",
       "      <td>Death Note</td>\n",
       "      <td>Shingeki no Kyojin</td>\n",
       "    </tr>\n",
       "    <tr>\n",
       "      <th>3</th>\n",
       "      <td>Bleach</td>\n",
       "      <td>Sword Art Online</td>\n",
       "    </tr>\n",
       "    <tr>\n",
       "      <th>4</th>\n",
       "      <td>Shingeki no Kyojin</td>\n",
       "      <td>Naruto: Shippuuden</td>\n",
       "    </tr>\n",
       "    <tr>\n",
       "      <th>5</th>\n",
       "      <td>Fullmetal Alchemist: Brotherhood</td>\n",
       "      <td>Fullmetal Alchemist: Brotherhood</td>\n",
       "    </tr>\n",
       "    <tr>\n",
       "      <th>6</th>\n",
       "      <td>Sword Art Online</td>\n",
       "      <td>One Punch Man</td>\n",
       "    </tr>\n",
       "    <tr>\n",
       "      <th>7</th>\n",
       "      <td>Code Geass: Hangyaku no Lelouch</td>\n",
       "      <td>Code Geass: Hangyaku no Lelouch</td>\n",
       "    </tr>\n",
       "    <tr>\n",
       "      <th>8</th>\n",
       "      <td>One Punch Man</td>\n",
       "      <td>Tokyo Ghoul</td>\n",
       "    </tr>\n",
       "    <tr>\n",
       "      <th>9</th>\n",
       "      <td>Tokyo Ghoul</td>\n",
       "      <td>Boku no Hero Academia</td>\n",
       "    </tr>\n",
       "    <tr>\n",
       "      <th>10</th>\n",
       "      <td>Fairy Tail</td>\n",
       "      <td>Ao no Exorcist</td>\n",
       "    </tr>\n",
       "    <tr>\n",
       "      <th>11</th>\n",
       "      <td>Ao no Exorcist</td>\n",
       "      <td>Code Geass: Hangyaku no Lelouch R2</td>\n",
       "    </tr>\n",
       "    <tr>\n",
       "      <th>12</th>\n",
       "      <td>Boku no Hero Academia</td>\n",
       "      <td>No Game No Life</td>\n",
       "    </tr>\n",
       "    <tr>\n",
       "      <th>13</th>\n",
       "      <td>One Piece</td>\n",
       "      <td>Angel Beats!</td>\n",
       "    </tr>\n",
       "    <tr>\n",
       "      <th>14</th>\n",
       "      <td>Code Geass: Hangyaku no Lelouch R2</td>\n",
       "      <td>Toradora!</td>\n",
       "    </tr>\n",
       "    <tr>\n",
       "      <th>15</th>\n",
       "      <td>Angel Beats!</td>\n",
       "      <td>Noragami</td>\n",
       "    </tr>\n",
       "    <tr>\n",
       "      <th>16</th>\n",
       "      <td>No Game No Life</td>\n",
       "      <td>Highschool of the Dead</td>\n",
       "    </tr>\n",
       "    <tr>\n",
       "      <th>17</th>\n",
       "      <td>Toradora!</td>\n",
       "      <td>Bleach</td>\n",
       "    </tr>\n",
       "    <tr>\n",
       "      <th>18</th>\n",
       "      <td>Fullmetal Alchemist</td>\n",
       "      <td>Nanatsu no Taizai</td>\n",
       "    </tr>\n",
       "    <tr>\n",
       "      <th>19</th>\n",
       "      <td>Hunter x Hunter (2011)</td>\n",
       "      <td>Mirai Nikki</td>\n",
       "    </tr>\n",
       "    <tr>\n",
       "      <th>20</th>\n",
       "      <td>Noragami</td>\n",
       "      <td>Boku no Hero Academia 2nd Season</td>\n",
       "    </tr>\n",
       "    <tr>\n",
       "      <th>21</th>\n",
       "      <td>Highschool of the Dead</td>\n",
       "      <td>Fullmetal Alchemist</td>\n",
       "    </tr>\n",
       "    <tr>\n",
       "      <th>22</th>\n",
       "      <td>Boku no Hero Academia 2nd Season</td>\n",
       "      <td>Dragon Ball Z</td>\n",
       "    </tr>\n",
       "    <tr>\n",
       "      <th>23</th>\n",
       "      <td>Mirai Nikki</td>\n",
       "      <td>Hunter x Hunter (2011)</td>\n",
       "    </tr>\n",
       "    <tr>\n",
       "      <th>24</th>\n",
       "      <td>Nanatsu no Taizai</td>\n",
       "      <td>Steins;Gate</td>\n",
       "    </tr>\n",
       "    <tr>\n",
       "      <th>25</th>\n",
       "      <td>Dragon Ball Z</td>\n",
       "      <td>Shingeki no Kyojin Season 2</td>\n",
       "    </tr>\n",
       "  </tbody>\n",
       "</table>\n",
       "</div>"
      ],
      "text/plain": [
       "                    vote_recomendation             completed_recomendation\n",
       "0                               Naruto                              Naruto\n",
       "1                   Naruto: Shippuuden                          Death Note\n",
       "2                           Death Note                  Shingeki no Kyojin\n",
       "3                               Bleach                    Sword Art Online\n",
       "4                   Shingeki no Kyojin                  Naruto: Shippuuden\n",
       "5     Fullmetal Alchemist: Brotherhood    Fullmetal Alchemist: Brotherhood\n",
       "6                     Sword Art Online                       One Punch Man\n",
       "7      Code Geass: Hangyaku no Lelouch     Code Geass: Hangyaku no Lelouch\n",
       "8                        One Punch Man                         Tokyo Ghoul\n",
       "9                          Tokyo Ghoul               Boku no Hero Academia\n",
       "10                          Fairy Tail                      Ao no Exorcist\n",
       "11                      Ao no Exorcist  Code Geass: Hangyaku no Lelouch R2\n",
       "12               Boku no Hero Academia                     No Game No Life\n",
       "13                           One Piece                        Angel Beats!\n",
       "14  Code Geass: Hangyaku no Lelouch R2                           Toradora!\n",
       "15                        Angel Beats!                            Noragami\n",
       "16                     No Game No Life              Highschool of the Dead\n",
       "17                           Toradora!                              Bleach\n",
       "18                 Fullmetal Alchemist                   Nanatsu no Taizai\n",
       "19              Hunter x Hunter (2011)                         Mirai Nikki\n",
       "20                            Noragami    Boku no Hero Academia 2nd Season\n",
       "21              Highschool of the Dead                 Fullmetal Alchemist\n",
       "22    Boku no Hero Academia 2nd Season                       Dragon Ball Z\n",
       "23                         Mirai Nikki              Hunter x Hunter (2011)\n",
       "24                   Nanatsu no Taizai                         Steins;Gate\n",
       "25                       Dragon Ball Z         Shingeki no Kyojin Season 2"
      ]
     },
     "execution_count": 69,
     "metadata": {},
     "output_type": "execute_result"
    }
   ],
   "source": [
    "compare('Naruto',nb_recomendation=25)"
   ]
  },
  {
   "cell_type": "code",
   "execution_count": null,
   "id": "de72e0e2",
   "metadata": {},
   "outputs": [],
   "source": []
  }
 ],
 "metadata": {
  "kernelspec": {
   "display_name": "Python 3 (ipykernel)",
   "language": "python",
   "name": "python3"
  },
  "language_info": {
   "codemirror_mode": {
    "name": "ipython",
    "version": 3
   },
   "file_extension": ".py",
   "mimetype": "text/x-python",
   "name": "python",
   "nbconvert_exporter": "python",
   "pygments_lexer": "ipython3",
   "version": "3.8.6"
  },
  "toc": {
   "base_numbering": 1,
   "nav_menu": {},
   "number_sections": true,
   "sideBar": true,
   "skip_h1_title": false,
   "title_cell": "Table of Contents",
   "title_sidebar": "Contents",
   "toc_cell": false,
   "toc_position": {},
   "toc_section_display": true,
   "toc_window_display": false
  }
 },
 "nbformat": 4,
 "nbformat_minor": 5
}
