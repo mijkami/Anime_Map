{
 "cells": [
  {
   "cell_type": "markdown",
   "id": "68530f3f",
   "metadata": {},
   "source": [
    "# Imports"
   ]
  },
  {
   "cell_type": "code",
   "execution_count": 1,
   "id": "ac7e5453",
   "metadata": {},
   "outputs": [],
   "source": [
    "#pd.set_option('display.max_columns', None)\n",
    "#pd.set_option('display.max_rows', None)"
   ]
  },
  {
   "cell_type": "code",
   "execution_count": 19,
   "id": "d793e244",
   "metadata": {},
   "outputs": [],
   "source": [
    "import pandas as pd\n",
    "import numpy as np\n",
    "import seaborn as sns"
   ]
  },
  {
   "cell_type": "markdown",
   "id": "d0127230",
   "metadata": {},
   "source": [
    "# First exploration"
   ]
  },
  {
   "cell_type": "code",
   "execution_count": 105,
   "id": "4593382d",
   "metadata": {},
   "outputs": [],
   "source": [
    "anime_df = pd.read_csv('../raw_data/anime.csv')\n",
    "#users_anime_df = pd.read_csv('../raw_data/animelist.csv')\n",
    "animo = pd.read_csv('../raw_data/anime_df_relevant_posible_PG.csv')\n",
    "#watching_status_df = pd.read_csv('../raw_data/watching_status.csv')\n",
    "#rating_complete_df = pd.read_csv('../raw_data/rating_complete.csv')"
   ]
  },
  {
   "cell_type": "code",
   "execution_count": 111,
   "id": "1dfc6191",
   "metadata": {},
   "outputs": [],
   "source": [
    "pd.set_option('display.max_columns', None)"
   ]
  },
  {
   "cell_type": "code",
   "execution_count": 112,
   "id": "ae1263d3",
   "metadata": {},
   "outputs": [
    {
     "data": {
      "text/html": [
       "<div>\n",
       "<style scoped>\n",
       "    .dataframe tbody tr th:only-of-type {\n",
       "        vertical-align: middle;\n",
       "    }\n",
       "\n",
       "    .dataframe tbody tr th {\n",
       "        vertical-align: top;\n",
       "    }\n",
       "\n",
       "    .dataframe thead th {\n",
       "        text-align: right;\n",
       "    }\n",
       "</style>\n",
       "<table border=\"1\" class=\"dataframe\">\n",
       "  <thead>\n",
       "    <tr style=\"text-align: right;\">\n",
       "      <th></th>\n",
       "      <th>MAL_ID</th>\n",
       "      <th>Name</th>\n",
       "      <th>Score</th>\n",
       "      <th>Genres</th>\n",
       "      <th>English name</th>\n",
       "      <th>Japanese name</th>\n",
       "      <th>Type</th>\n",
       "      <th>Episodes</th>\n",
       "      <th>Aired</th>\n",
       "      <th>Premiered</th>\n",
       "      <th>Producers</th>\n",
       "      <th>Licensors</th>\n",
       "      <th>Studios</th>\n",
       "      <th>Source</th>\n",
       "      <th>Duration</th>\n",
       "      <th>Rating</th>\n",
       "      <th>Ranked</th>\n",
       "      <th>Popularity</th>\n",
       "      <th>Members</th>\n",
       "      <th>Favorites</th>\n",
       "      <th>Watching</th>\n",
       "      <th>Completed</th>\n",
       "      <th>On-Hold</th>\n",
       "      <th>Dropped</th>\n",
       "      <th>Plan to Watch</th>\n",
       "      <th>Score-10</th>\n",
       "      <th>Score-9</th>\n",
       "      <th>Score-8</th>\n",
       "      <th>Score-7</th>\n",
       "      <th>Score-6</th>\n",
       "      <th>Score-5</th>\n",
       "      <th>Score-4</th>\n",
       "      <th>Score-3</th>\n",
       "      <th>Score-2</th>\n",
       "      <th>Score-1</th>\n",
       "    </tr>\n",
       "  </thead>\n",
       "  <tbody>\n",
       "    <tr>\n",
       "      <th>0</th>\n",
       "      <td>1</td>\n",
       "      <td>Cowboy Bebop</td>\n",
       "      <td>8.78</td>\n",
       "      <td>Action, Adventure, Comedy, Drama, Sci-Fi, Space</td>\n",
       "      <td>Cowboy Bebop</td>\n",
       "      <td>カウボーイビバップ</td>\n",
       "      <td>TV</td>\n",
       "      <td>26</td>\n",
       "      <td>Apr 3, 1998 to Apr 24, 1999</td>\n",
       "      <td>Spring 1998</td>\n",
       "      <td>Bandai Visual</td>\n",
       "      <td>Funimation, Bandai Entertainment</td>\n",
       "      <td>Sunrise</td>\n",
       "      <td>Original</td>\n",
       "      <td>24 min. per ep.</td>\n",
       "      <td>R - 17+ (violence &amp; profanity)</td>\n",
       "      <td>28.0</td>\n",
       "      <td>39</td>\n",
       "      <td>1251960</td>\n",
       "      <td>61971</td>\n",
       "      <td>105808</td>\n",
       "      <td>718161</td>\n",
       "      <td>71513</td>\n",
       "      <td>26678</td>\n",
       "      <td>329800</td>\n",
       "      <td>229170.0</td>\n",
       "      <td>182126.0</td>\n",
       "      <td>131625.0</td>\n",
       "      <td>62330.0</td>\n",
       "      <td>20688.0</td>\n",
       "      <td>8904.0</td>\n",
       "      <td>3184.0</td>\n",
       "      <td>1357.0</td>\n",
       "      <td>741.0</td>\n",
       "      <td>1580.0</td>\n",
       "    </tr>\n",
       "    <tr>\n",
       "      <th>1</th>\n",
       "      <td>5</td>\n",
       "      <td>Cowboy Bebop: Tengoku no Tobira</td>\n",
       "      <td>8.39</td>\n",
       "      <td>Action, Drama, Mystery, Sci-Fi, Space</td>\n",
       "      <td>Cowboy Bebop:The Movie</td>\n",
       "      <td>カウボーイビバップ 天国の扉</td>\n",
       "      <td>Movie</td>\n",
       "      <td>1</td>\n",
       "      <td>Sep 1, 2001</td>\n",
       "      <td>Unknown</td>\n",
       "      <td>Sunrise, Bandai Visual</td>\n",
       "      <td>Sony Pictures Entertainment</td>\n",
       "      <td>Bones</td>\n",
       "      <td>Original</td>\n",
       "      <td>1 hr. 55 min.</td>\n",
       "      <td>R - 17+ (violence &amp; profanity)</td>\n",
       "      <td>159.0</td>\n",
       "      <td>518</td>\n",
       "      <td>273145</td>\n",
       "      <td>1174</td>\n",
       "      <td>4143</td>\n",
       "      <td>208333</td>\n",
       "      <td>1935</td>\n",
       "      <td>770</td>\n",
       "      <td>57964</td>\n",
       "      <td>30043.0</td>\n",
       "      <td>49201.0</td>\n",
       "      <td>49505.0</td>\n",
       "      <td>22632.0</td>\n",
       "      <td>5805.0</td>\n",
       "      <td>1877.0</td>\n",
       "      <td>577.0</td>\n",
       "      <td>221.0</td>\n",
       "      <td>109.0</td>\n",
       "      <td>379.0</td>\n",
       "    </tr>\n",
       "  </tbody>\n",
       "</table>\n",
       "</div>"
      ],
      "text/plain": [
       "   MAL_ID                             Name Score  \\\n",
       "0       1                     Cowboy Bebop  8.78   \n",
       "1       5  Cowboy Bebop: Tengoku no Tobira  8.39   \n",
       "\n",
       "                                            Genres            English name  \\\n",
       "0  Action, Adventure, Comedy, Drama, Sci-Fi, Space            Cowboy Bebop   \n",
       "1            Action, Drama, Mystery, Sci-Fi, Space  Cowboy Bebop:The Movie   \n",
       "\n",
       "    Japanese name   Type Episodes                        Aired    Premiered  \\\n",
       "0       カウボーイビバップ     TV       26  Apr 3, 1998 to Apr 24, 1999  Spring 1998   \n",
       "1  カウボーイビバップ 天国の扉  Movie        1                  Sep 1, 2001      Unknown   \n",
       "\n",
       "                Producers                         Licensors  Studios  \\\n",
       "0           Bandai Visual  Funimation, Bandai Entertainment  Sunrise   \n",
       "1  Sunrise, Bandai Visual       Sony Pictures Entertainment    Bones   \n",
       "\n",
       "     Source         Duration                          Rating Ranked  \\\n",
       "0  Original  24 min. per ep.  R - 17+ (violence & profanity)   28.0   \n",
       "1  Original    1 hr. 55 min.  R - 17+ (violence & profanity)  159.0   \n",
       "\n",
       "   Popularity  Members  Favorites  Watching  Completed  On-Hold  Dropped  \\\n",
       "0          39  1251960      61971    105808     718161    71513    26678   \n",
       "1         518   273145       1174      4143     208333     1935      770   \n",
       "\n",
       "   Plan to Watch  Score-10   Score-9   Score-8  Score-7  Score-6 Score-5  \\\n",
       "0         329800  229170.0  182126.0  131625.0  62330.0  20688.0  8904.0   \n",
       "1          57964   30043.0   49201.0   49505.0  22632.0   5805.0  1877.0   \n",
       "\n",
       "  Score-4 Score-3 Score-2 Score-1  \n",
       "0  3184.0  1357.0   741.0  1580.0  \n",
       "1   577.0   221.0   109.0   379.0  "
      ]
     },
     "execution_count": 112,
     "metadata": {},
     "output_type": "execute_result"
    }
   ],
   "source": [
    "anime_df.head(2)"
   ]
  },
  {
   "cell_type": "code",
   "execution_count": 110,
   "id": "bfdcaf71",
   "metadata": {},
   "outputs": [
    {
     "data": {
      "text/plain": [
       "Index(['MAL_ID', 'Name', 'Score', 'Genres', 'English name', 'Japanese name',\n",
       "       'Type', 'Episodes', 'Aired', 'Premiered', 'Producers', 'Licensors',\n",
       "       'Studios', 'Source', 'Duration', 'Rating', 'Ranked', 'Popularity',\n",
       "       'Members', 'Favorites', 'Watching', 'Completed', 'On-Hold', 'Dropped',\n",
       "       'Plan to Watch', 'Score-10', 'Score-9', 'Score-8', 'Score-7', 'Score-6',\n",
       "       'Score-5', 'Score-4', 'Score-3', 'Score-2', 'Score-1'],\n",
       "      dtype='object')"
      ]
     },
     "execution_count": 110,
     "metadata": {},
     "output_type": "execute_result"
    }
   ],
   "source": [
    "anime_df.columns"
   ]
  },
  {
   "cell_type": "code",
   "execution_count": 76,
   "id": "1e39a57a",
   "metadata": {},
   "outputs": [
    {
     "data": {
      "text/html": [
       "<div>\n",
       "<style scoped>\n",
       "    .dataframe tbody tr th:only-of-type {\n",
       "        vertical-align: middle;\n",
       "    }\n",
       "\n",
       "    .dataframe tbody tr th {\n",
       "        vertical-align: top;\n",
       "    }\n",
       "\n",
       "    .dataframe thead th {\n",
       "        text-align: right;\n",
       "    }\n",
       "</style>\n",
       "<table border=\"1\" class=\"dataframe\">\n",
       "  <thead>\n",
       "    <tr style=\"text-align: right;\">\n",
       "      <th></th>\n",
       "      <th>MAL_ID</th>\n",
       "      <th>Name</th>\n",
       "      <th>Genres</th>\n",
       "      <th>Studios</th>\n",
       "      <th>Type</th>\n",
       "      <th>Aired</th>\n",
       "      <th>Source</th>\n",
       "      <th>Duration</th>\n",
       "      <th>Rating</th>\n",
       "      <th>Popularity</th>\n",
       "      <th>Score</th>\n",
       "    </tr>\n",
       "  </thead>\n",
       "  <tbody>\n",
       "    <tr>\n",
       "      <th>0</th>\n",
       "      <td>1.0</td>\n",
       "      <td>Cowboy Bebop</td>\n",
       "      <td>Action, Adventure, Comedy, Drama, Sci-Fi, Space</td>\n",
       "      <td>Sunrise</td>\n",
       "      <td>TV</td>\n",
       "      <td>Apr 3, 1998 to Apr 24, 1999</td>\n",
       "      <td>Original</td>\n",
       "      <td>24 min. per ep.</td>\n",
       "      <td>R - 17+ (violence &amp; profanity)</td>\n",
       "      <td>39</td>\n",
       "      <td>8.78</td>\n",
       "    </tr>\n",
       "    <tr>\n",
       "      <th>1</th>\n",
       "      <td>5.0</td>\n",
       "      <td>Cowboy Bebop: Tengoku no Tobira</td>\n",
       "      <td>Action, Drama, Mystery, Sci-Fi, Space</td>\n",
       "      <td>Bones</td>\n",
       "      <td>Movie</td>\n",
       "      <td>Sep 1, 2001</td>\n",
       "      <td>Original</td>\n",
       "      <td>1 hr. 55 min.</td>\n",
       "      <td>R - 17+ (violence &amp; profanity)</td>\n",
       "      <td>518</td>\n",
       "      <td>8.39</td>\n",
       "    </tr>\n",
       "    <tr>\n",
       "      <th>2</th>\n",
       "      <td>6.0</td>\n",
       "      <td>Trigun</td>\n",
       "      <td>Action, Sci-Fi, Adventure, Comedy, Drama, Shounen</td>\n",
       "      <td>Madhouse</td>\n",
       "      <td>TV</td>\n",
       "      <td>Apr 1, 1998 to Sep 30, 1998</td>\n",
       "      <td>Manga</td>\n",
       "      <td>24 min. per ep.</td>\n",
       "      <td>PG-13 - Teens 13 or older</td>\n",
       "      <td>201</td>\n",
       "      <td>8.24</td>\n",
       "    </tr>\n",
       "    <tr>\n",
       "      <th>3</th>\n",
       "      <td>7.0</td>\n",
       "      <td>Witch Hunter Robin</td>\n",
       "      <td>Action, Mystery, Police, Supernatural, Drama, ...</td>\n",
       "      <td>Sunrise</td>\n",
       "      <td>TV</td>\n",
       "      <td>Jul 2, 2002 to Dec 24, 2002</td>\n",
       "      <td>Original</td>\n",
       "      <td>25 min. per ep.</td>\n",
       "      <td>PG-13 - Teens 13 or older</td>\n",
       "      <td>1467</td>\n",
       "      <td>7.27</td>\n",
       "    </tr>\n",
       "    <tr>\n",
       "      <th>4</th>\n",
       "      <td>8.0</td>\n",
       "      <td>Bouken Ou Beet</td>\n",
       "      <td>Adventure, Fantasy, Shounen, Supernatural</td>\n",
       "      <td>Toei Animation</td>\n",
       "      <td>TV</td>\n",
       "      <td>Sep 30, 2004 to Sep 29, 2005</td>\n",
       "      <td>Manga</td>\n",
       "      <td>23 min. per ep.</td>\n",
       "      <td>PG - Children</td>\n",
       "      <td>4369</td>\n",
       "      <td>6.98</td>\n",
       "    </tr>\n",
       "    <tr>\n",
       "      <th>5</th>\n",
       "      <td>15.0</td>\n",
       "      <td>Eyeshield 21</td>\n",
       "      <td>Action, Sports, Comedy, Shounen</td>\n",
       "      <td>Gallop</td>\n",
       "      <td>TV</td>\n",
       "      <td>Apr 6, 2005 to Mar 19, 2008</td>\n",
       "      <td>Manga</td>\n",
       "      <td>23 min. per ep.</td>\n",
       "      <td>PG-13 - Teens 13 or older</td>\n",
       "      <td>1003</td>\n",
       "      <td>7.95</td>\n",
       "    </tr>\n",
       "    <tr>\n",
       "      <th>6</th>\n",
       "      <td>16.0</td>\n",
       "      <td>Hachimitsu to Clover</td>\n",
       "      <td>Comedy, Drama, Josei, Romance, Slice of Life</td>\n",
       "      <td>J.C.Staff</td>\n",
       "      <td>TV</td>\n",
       "      <td>Apr 15, 2005 to Sep 27, 2005</td>\n",
       "      <td>Manga</td>\n",
       "      <td>23 min. per ep.</td>\n",
       "      <td>PG-13 - Teens 13 or older</td>\n",
       "      <td>687</td>\n",
       "      <td>8.06</td>\n",
       "    </tr>\n",
       "    <tr>\n",
       "      <th>7</th>\n",
       "      <td>17.0</td>\n",
       "      <td>Hungry Heart: Wild Striker</td>\n",
       "      <td>Slice of Life, Comedy, Sports, Shounen</td>\n",
       "      <td>Nippon Animation</td>\n",
       "      <td>TV</td>\n",
       "      <td>Sep 11, 2002 to Sep 10, 2003</td>\n",
       "      <td>Manga</td>\n",
       "      <td>23 min. per ep.</td>\n",
       "      <td>PG-13 - Teens 13 or older</td>\n",
       "      <td>3612</td>\n",
       "      <td>7.59</td>\n",
       "    </tr>\n",
       "    <tr>\n",
       "      <th>8</th>\n",
       "      <td>18.0</td>\n",
       "      <td>Initial D Fourth Stage</td>\n",
       "      <td>Action, Cars, Sports, Drama, Seinen</td>\n",
       "      <td>A.C.G.T.</td>\n",
       "      <td>TV</td>\n",
       "      <td>Apr 17, 2004 to Feb 18, 2006</td>\n",
       "      <td>Manga</td>\n",
       "      <td>27 min. per ep.</td>\n",
       "      <td>PG-13 - Teens 13 or older</td>\n",
       "      <td>1233</td>\n",
       "      <td>8.15</td>\n",
       "    </tr>\n",
       "    <tr>\n",
       "      <th>9</th>\n",
       "      <td>19.0</td>\n",
       "      <td>Monster</td>\n",
       "      <td>Drama, Horror, Mystery, Police, Psychological,...</td>\n",
       "      <td>Madhouse</td>\n",
       "      <td>TV</td>\n",
       "      <td>Apr 7, 2004 to Sep 28, 2005</td>\n",
       "      <td>Manga</td>\n",
       "      <td>24 min. per ep.</td>\n",
       "      <td>R+ - Mild Nudity</td>\n",
       "      <td>169</td>\n",
       "      <td>8.76</td>\n",
       "    </tr>\n",
       "  </tbody>\n",
       "</table>\n",
       "</div>"
      ],
      "text/plain": [
       "   MAL_ID                             Name  \\\n",
       "0     1.0                     Cowboy Bebop   \n",
       "1     5.0  Cowboy Bebop: Tengoku no Tobira   \n",
       "2     6.0                           Trigun   \n",
       "3     7.0               Witch Hunter Robin   \n",
       "4     8.0                   Bouken Ou Beet   \n",
       "5    15.0                     Eyeshield 21   \n",
       "6    16.0             Hachimitsu to Clover   \n",
       "7    17.0       Hungry Heart: Wild Striker   \n",
       "8    18.0           Initial D Fourth Stage   \n",
       "9    19.0                          Monster   \n",
       "\n",
       "                                              Genres           Studios   Type  \\\n",
       "0    Action, Adventure, Comedy, Drama, Sci-Fi, Space           Sunrise     TV   \n",
       "1              Action, Drama, Mystery, Sci-Fi, Space             Bones  Movie   \n",
       "2  Action, Sci-Fi, Adventure, Comedy, Drama, Shounen          Madhouse     TV   \n",
       "3  Action, Mystery, Police, Supernatural, Drama, ...           Sunrise     TV   \n",
       "4          Adventure, Fantasy, Shounen, Supernatural    Toei Animation     TV   \n",
       "5                    Action, Sports, Comedy, Shounen            Gallop     TV   \n",
       "6       Comedy, Drama, Josei, Romance, Slice of Life         J.C.Staff     TV   \n",
       "7             Slice of Life, Comedy, Sports, Shounen  Nippon Animation     TV   \n",
       "8                Action, Cars, Sports, Drama, Seinen          A.C.G.T.     TV   \n",
       "9  Drama, Horror, Mystery, Police, Psychological,...          Madhouse     TV   \n",
       "\n",
       "                          Aired    Source         Duration  \\\n",
       "0   Apr 3, 1998 to Apr 24, 1999  Original  24 min. per ep.   \n",
       "1                   Sep 1, 2001  Original    1 hr. 55 min.   \n",
       "2   Apr 1, 1998 to Sep 30, 1998     Manga  24 min. per ep.   \n",
       "3   Jul 2, 2002 to Dec 24, 2002  Original  25 min. per ep.   \n",
       "4  Sep 30, 2004 to Sep 29, 2005     Manga  23 min. per ep.   \n",
       "5   Apr 6, 2005 to Mar 19, 2008     Manga  23 min. per ep.   \n",
       "6  Apr 15, 2005 to Sep 27, 2005     Manga  23 min. per ep.   \n",
       "7  Sep 11, 2002 to Sep 10, 2003     Manga  23 min. per ep.   \n",
       "8  Apr 17, 2004 to Feb 18, 2006     Manga  27 min. per ep.   \n",
       "9   Apr 7, 2004 to Sep 28, 2005     Manga  24 min. per ep.   \n",
       "\n",
       "                           Rating Popularity Score  \n",
       "0  R - 17+ (violence & profanity)         39  8.78  \n",
       "1  R - 17+ (violence & profanity)        518  8.39  \n",
       "2       PG-13 - Teens 13 or older        201  8.24  \n",
       "3       PG-13 - Teens 13 or older       1467  7.27  \n",
       "4                   PG - Children       4369  6.98  \n",
       "5       PG-13 - Teens 13 or older       1003  7.95  \n",
       "6       PG-13 - Teens 13 or older        687  8.06  \n",
       "7       PG-13 - Teens 13 or older       3612  7.59  \n",
       "8       PG-13 - Teens 13 or older       1233  8.15  \n",
       "9                R+ - Mild Nudity        169  8.76  "
      ]
     },
     "execution_count": 76,
     "metadata": {},
     "output_type": "execute_result"
    }
   ],
   "source": [
    "animo.head(10)"
   ]
  },
  {
   "cell_type": "code",
   "execution_count": 126,
   "id": "66fd1151",
   "metadata": {},
   "outputs": [
    {
     "data": {
      "text/plain": [
       "(17562, 11)"
      ]
     },
     "execution_count": 126,
     "metadata": {},
     "output_type": "execute_result"
    }
   ],
   "source": [
    "animo.shape"
   ]
  },
  {
   "cell_type": "markdown",
   "id": "143b57b3",
   "metadata": {},
   "source": [
    "# Drop duplicates "
   ]
  },
  {
   "cell_type": "code",
   "execution_count": 6,
   "id": "b4a8bd6b",
   "metadata": {},
   "outputs": [
    {
     "data": {
      "text/plain": [
       "0"
      ]
     },
     "execution_count": 6,
     "metadata": {},
     "output_type": "execute_result"
    }
   ],
   "source": [
    "animo.duplicated().sum()"
   ]
  },
  {
   "cell_type": "code",
   "execution_count": 79,
   "id": "5445c020",
   "metadata": {},
   "outputs": [
    {
     "data": {
      "text/plain": [
       "Index(['MAL_ID', 'Name', 'Genres', 'Studios', 'Type', 'Aired', 'Source',\n",
       "       'Duration', 'Rating', 'Popularity', 'Score'],\n",
       "      dtype='object')"
      ]
     },
     "execution_count": 79,
     "metadata": {},
     "output_type": "execute_result"
    }
   ],
   "source": [
    "animo.columns"
   ]
  },
  {
   "cell_type": "code",
   "execution_count": 8,
   "id": "53c24ecf",
   "metadata": {},
   "outputs": [
    {
     "data": {
      "text/plain": [
       "TV         3837\n",
       "Movie      1995\n",
       "Special    1731\n",
       "OVA        1692\n",
       "ONA        1063\n",
       "Music       730\n",
       "Name: Type, dtype: int64"
      ]
     },
     "execution_count": 8,
     "metadata": {},
     "output_type": "execute_result"
    }
   ],
   "source": [
    "animo.Type.value_counts()"
   ]
  },
  {
   "cell_type": "code",
   "execution_count": 84,
   "id": "74d040f9",
   "metadata": {},
   "outputs": [
    {
     "data": {
      "text/plain": [
       "4.06                                                              1\n",
       "8.62                                                              1\n",
       "Gate 0: Kesshou Takei no Valentine - Bittersweet Intermedio       1\n",
       "8.86                                                              1\n",
       "8.81                                                              1\n",
       "                                                               ... \n",
       "6.52                                                             71\n",
       "6.3                                                              72\n",
       "6.31                                                             72\n",
       "6.48                                                             74\n",
       "Unknown                                                        5140\n",
       "Name: Score, Length: 549, dtype: int64"
      ]
     },
     "execution_count": 84,
     "metadata": {},
     "output_type": "execute_result"
    }
   ],
   "source": [
    "animo.Score.value_counts().sort_values()"
   ]
  },
  {
   "cell_type": "code",
   "execution_count": 11,
   "id": "0fca0854",
   "metadata": {},
   "outputs": [
    {
     "data": {
      "text/plain": [
       "Manga            3089\n",
       "Original         2946\n",
       "Unknown          1734\n",
       "Game              714\n",
       "Light novel       688\n",
       "Novel             396\n",
       "Visual novel      359\n",
       "Other             306\n",
       "4-koma manga      249\n",
       "Music             203\n",
       "Web manga         188\n",
       "Book               67\n",
       "Card game          60\n",
       "Picture book       34\n",
       "Digital manga       9\n",
       "Radio               6\n",
       "Name: Source, dtype: int64"
      ]
     },
     "execution_count": 11,
     "metadata": {},
     "output_type": "execute_result"
    }
   ],
   "source": [
    "animo.Source.value_counts()"
   ]
  },
  {
   "cell_type": "code",
   "execution_count": 10,
   "id": "c1fcd814",
   "metadata": {},
   "outputs": [
    {
     "data": {
      "text/plain": [
       "PG-13 - Teens 13 or older         5452\n",
       "G - All Ages                      2652\n",
       "R - 17+ (violence & profanity)    1079\n",
       "R+ - Mild Nudity                   890\n",
       "PG - Children                      865\n",
       "Unknown                            110\n",
       "Name: Rating, dtype: int64"
      ]
     },
     "execution_count": 10,
     "metadata": {},
     "output_type": "execute_result"
    }
   ],
   "source": [
    "animo.Rating.value_counts()"
   ]
  },
  {
   "cell_type": "markdown",
   "id": "7441e79a",
   "metadata": {
    "heading_collapsed": true
   },
   "source": [
    "# Visualizations"
   ]
  },
  {
   "cell_type": "markdown",
   "id": "b9aa281c",
   "metadata": {
    "heading_collapsed": true
   },
   "source": [
    "# Remove columns  in users_anime_df"
   ]
  },
  {
   "cell_type": "code",
   "execution_count": null,
   "id": "da721582",
   "metadata": {
    "hidden": true
   },
   "outputs": [],
   "source": [
    "users_anime_df.head()"
   ]
  },
  {
   "cell_type": "code",
   "execution_count": null,
   "id": "f6f6ceea",
   "metadata": {
    "hidden": true
   },
   "outputs": [],
   "source": [
    "# keep ['user_id', 'anime_id', 'rating']\n",
    "# TODO : do it on all the df later, only on partial in next part at first"
   ]
  },
  {
   "cell_type": "markdown",
   "id": "849e1d3f",
   "metadata": {
    "heading_collapsed": true
   },
   "source": [
    "# Merge DFs"
   ]
  },
  {
   "cell_type": "code",
   "execution_count": null,
   "id": "30926536",
   "metadata": {
    "hidden": true,
    "scrolled": true
   },
   "outputs": [],
   "source": [
    "# rename MAL_ID in anime.csv to anime_id\n",
    "anime_df_relevant_PG.rename(columns={'MAL_ID': 'anime_id'}, inplace=True)"
   ]
  },
  {
   "cell_type": "code",
   "execution_count": null,
   "id": "758c6df0",
   "metadata": {
    "hidden": true
   },
   "outputs": [],
   "source": [
    "# (optional, exploration) split cleaned_df before merge\n",
    "users_anime_partial = users_anime_df.sample(frac=0.0001, random_state=42)"
   ]
  },
  {
   "cell_type": "code",
   "execution_count": null,
   "id": "b72a9954",
   "metadata": {
    "hidden": true
   },
   "outputs": [],
   "source": [
    "users_anime_partial_relevant = users_anime_partial[['user_id', 'anime_id', 'rating']]"
   ]
  },
  {
   "cell_type": "code",
   "execution_count": null,
   "id": "dab47296",
   "metadata": {
    "hidden": true
   },
   "outputs": [],
   "source": [
    "users_anime_partial_relevant.head()"
   ]
  },
  {
   "cell_type": "code",
   "execution_count": null,
   "id": "69a3c0c6",
   "metadata": {
    "hidden": true,
    "scrolled": false
   },
   "outputs": [],
   "source": [
    "users_anime_partial_relevant.shape"
   ]
  },
  {
   "cell_type": "code",
   "execution_count": null,
   "id": "7df617fd",
   "metadata": {
    "hidden": true
   },
   "outputs": [],
   "source": [
    "users_anime_partial_relevant.columns"
   ]
  },
  {
   "cell_type": "code",
   "execution_count": null,
   "id": "bd9dd84d",
   "metadata": {
    "hidden": true
   },
   "outputs": [],
   "source": [
    "# fuse anime.csv and animelist.csv\n",
    "# merged_df = anime_no_H_df.merge(animelist_df, on=\"anime_id\", how='left')\n",
    "merged_df = anime_df_relevant_PG.merge(users_anime_partial, on=\"anime_id\", how='left')"
   ]
  },
  {
   "cell_type": "code",
   "execution_count": null,
   "id": "f5824c0d",
   "metadata": {
    "hidden": true,
    "scrolled": true
   },
   "outputs": [],
   "source": [
    "merged_df.shape"
   ]
  },
  {
   "cell_type": "code",
   "execution_count": null,
   "id": "7452c126",
   "metadata": {
    "hidden": true
   },
   "outputs": [],
   "source": [
    "merged_df.columns"
   ]
  },
  {
   "cell_type": "code",
   "execution_count": null,
   "id": "d80fc193",
   "metadata": {
    "hidden": true
   },
   "outputs": [],
   "source": [
    "# checking on one user the data stored (animes)\n",
    "merged_df.query(\"user_id== 1\")"
   ]
  },
  {
   "cell_type": "code",
   "execution_count": null,
   "id": "a290b228",
   "metadata": {
    "hidden": true
   },
   "outputs": [],
   "source": [
    "# check that there isn't any anime ID (/ MAL_id with hentai genre left)\n",
    "merged_df.Genres.str.contains(\"Hentai\").value_counts()"
   ]
  },
  {
   "cell_type": "code",
   "execution_count": null,
   "id": "5d317a55",
   "metadata": {
    "hidden": true
   },
   "outputs": [],
   "source": [
    "merged_df.Genres.str.contains(\"Yuri\").value_counts()"
   ]
  },
  {
   "cell_type": "code",
   "execution_count": null,
   "id": "c6fc48a8",
   "metadata": {
    "hidden": true
   },
   "outputs": [],
   "source": [
    "merged_df.Genres.str.contains(\"Yaoi\").value_counts()"
   ]
  },
  {
   "cell_type": "markdown",
   "id": "59a40483",
   "metadata": {},
   "source": [
    "# reduce dimensionality of feature matrix (recommender system / movie from course)\n"
   ]
  },
  {
   "cell_type": "code",
   "execution_count": null,
   "id": "1c38cea2",
   "metadata": {},
   "outputs": [],
   "source": [
    "pd.set_option(\"display.max_columns\", None)"
   ]
  },
  {
   "cell_type": "code",
   "execution_count": null,
   "id": "c0b5df5d",
   "metadata": {},
   "outputs": [],
   "source": [
    "merged_df.head()"
   ]
  },
  {
   "cell_type": "code",
   "execution_count": null,
   "id": "57fb6f5f",
   "metadata": {},
   "outputs": [],
   "source": []
  },
  {
   "cell_type": "code",
   "execution_count": null,
   "id": "106bd20f",
   "metadata": {},
   "outputs": [],
   "source": [
    "# remove commas from genres"
   ]
  },
  {
   "cell_type": "code",
   "execution_count": null,
   "id": "90bf4ca5",
   "metadata": {},
   "outputs": [],
   "source": [
    "# pick 3rd word in Aired column (starting year)"
   ]
  },
  {
   "cell_type": "code",
   "execution_count": null,
   "id": "bf2f7b3c",
   "metadata": {},
   "outputs": [],
   "source": [
    "# Duration: transform everything into minutes duration\n",
    "# Duration: Encode in small sub-categories : \"less than 10mn\" / \"between 10 and 30\" / \"between 30 and 60mn\" / \"more than 60mn\"\n",
    "# Duration: re-evaluate duration encode and change if necessary"
   ]
  },
  {
   "cell_type": "code",
   "execution_count": null,
   "id": "0b69e6e4",
   "metadata": {},
   "outputs": [],
   "source": [
    "# for all columns, OHE + drop unknown column"
   ]
  },
  {
   "cell_type": "code",
   "execution_count": null,
   "id": "35a29416",
   "metadata": {},
   "outputs": [],
   "source": []
  },
  {
   "cell_type": "code",
   "execution_count": null,
   "id": "f3389c9a",
   "metadata": {},
   "outputs": [],
   "source": []
  },
  {
   "cell_type": "code",
   "execution_count": null,
   "id": "3e345a90",
   "metadata": {},
   "outputs": [],
   "source": [
    "## Second thought dataset shape : ['anime_id', 'Genres', 'Studios?']  (from anime_no_H_df) + user data (from animelist_df_partial)"
   ]
  },
  {
   "cell_type": "code",
   "execution_count": null,
   "id": "7a3d0b17",
   "metadata": {},
   "outputs": [],
   "source": []
  },
  {
   "cell_type": "code",
   "execution_count": null,
   "id": "dad78bd7",
   "metadata": {},
   "outputs": [],
   "source": []
  },
  {
   "cell_type": "code",
   "execution_count": null,
   "id": "b52e095f",
   "metadata": {},
   "outputs": [],
   "source": [
    "# personal work /analysis on the cleaned dataset\n",
    "# produce visualization and draw conclusions / thoughts about what the visualizations are showing\n",
    "# discuss it together\n"
   ]
  },
  {
   "cell_type": "markdown",
   "id": "8d304f21",
   "metadata": {},
   "source": [
    "# TYPE STUDY"
   ]
  },
  {
   "cell_type": "code",
   "execution_count": null,
   "id": "fa188f5b",
   "metadata": {},
   "outputs": [],
   "source": []
  },
  {
   "cell_type": "code",
   "execution_count": 12,
   "id": "b1a2541d",
   "metadata": {},
   "outputs": [
    {
     "data": {
      "text/plain": [
       "6"
      ]
     },
     "execution_count": 12,
     "metadata": {},
     "output_type": "execute_result"
    }
   ],
   "source": [
    "animo['Type'].nunique()"
   ]
  },
  {
   "cell_type": "code",
   "execution_count": 13,
   "id": "07fce836",
   "metadata": {},
   "outputs": [
    {
     "data": {
      "text/plain": [
       "TV         3837\n",
       "Movie      1995\n",
       "Special    1731\n",
       "OVA        1692\n",
       "ONA        1063\n",
       "Music       730\n",
       "Name: Type, dtype: int64"
      ]
     },
     "execution_count": 13,
     "metadata": {},
     "output_type": "execute_result"
    }
   ],
   "source": [
    "animo['Type'].value_counts()"
   ]
  },
  {
   "cell_type": "code",
   "execution_count": 14,
   "id": "cbfced97",
   "metadata": {
    "scrolled": true
   },
   "outputs": [
    {
     "data": {
      "text/plain": [
       "False    11048\n",
       "Name: Type, dtype: int64"
      ]
     },
     "execution_count": 14,
     "metadata": {},
     "output_type": "execute_result"
    }
   ],
   "source": [
    "animo.Type.str.contains(\"Unknown\").value_counts()"
   ]
  },
  {
   "cell_type": "markdown",
   "id": "15827eeb",
   "metadata": {},
   "source": [
    "# STUDIOS"
   ]
  },
  {
   "cell_type": "code",
   "execution_count": 17,
   "id": "a0409ea1",
   "metadata": {},
   "outputs": [
    {
     "data": {
      "text/plain": [
       "893"
      ]
     },
     "execution_count": 17,
     "metadata": {},
     "output_type": "execute_result"
    }
   ],
   "source": [
    "animo['Studios'].nunique()"
   ]
  },
  {
   "cell_type": "code",
   "execution_count": 25,
   "id": "15621f83",
   "metadata": {
    "scrolled": false
   },
   "outputs": [
    {
     "data": {
      "text/html": [
       "<div>\n",
       "<style scoped>\n",
       "    .dataframe tbody tr th:only-of-type {\n",
       "        vertical-align: middle;\n",
       "    }\n",
       "\n",
       "    .dataframe tbody tr th {\n",
       "        vertical-align: top;\n",
       "    }\n",
       "\n",
       "    .dataframe thead th {\n",
       "        text-align: right;\n",
       "    }\n",
       "</style>\n",
       "<table border=\"1\" class=\"dataframe\">\n",
       "  <thead>\n",
       "    <tr style=\"text-align: right;\">\n",
       "      <th></th>\n",
       "      <th>MAL_ID</th>\n",
       "      <th>Name</th>\n",
       "      <th>Genres</th>\n",
       "      <th>Studios</th>\n",
       "      <th>Type</th>\n",
       "      <th>Aired</th>\n",
       "      <th>Source</th>\n",
       "      <th>Duration</th>\n",
       "      <th>Rating</th>\n",
       "      <th>Popularity</th>\n",
       "      <th>Score</th>\n",
       "    </tr>\n",
       "  </thead>\n",
       "  <tbody>\n",
       "    <tr>\n",
       "      <th>0</th>\n",
       "      <td>1.0</td>\n",
       "      <td>Cowboy Bebop</td>\n",
       "      <td>Action, Adventure, Comedy, Drama, Sci-Fi, Space</td>\n",
       "      <td>Sunrise</td>\n",
       "      <td>TV</td>\n",
       "      <td>Apr 3, 1998 to Apr 24, 1999</td>\n",
       "      <td>Original</td>\n",
       "      <td>24 min. per ep.</td>\n",
       "      <td>R - 17+ (violence &amp; profanity)</td>\n",
       "      <td>39</td>\n",
       "      <td>8.78</td>\n",
       "    </tr>\n",
       "    <tr>\n",
       "      <th>1</th>\n",
       "      <td>5.0</td>\n",
       "      <td>Cowboy Bebop: Tengoku no Tobira</td>\n",
       "      <td>Action, Drama, Mystery, Sci-Fi, Space</td>\n",
       "      <td>Bones</td>\n",
       "      <td>Movie</td>\n",
       "      <td>Sep 1, 2001</td>\n",
       "      <td>Original</td>\n",
       "      <td>1 hr. 55 min.</td>\n",
       "      <td>R - 17+ (violence &amp; profanity)</td>\n",
       "      <td>518</td>\n",
       "      <td>8.39</td>\n",
       "    </tr>\n",
       "    <tr>\n",
       "      <th>2</th>\n",
       "      <td>6.0</td>\n",
       "      <td>Trigun</td>\n",
       "      <td>Action, Sci-Fi, Adventure, Comedy, Drama, Shounen</td>\n",
       "      <td>Madhouse</td>\n",
       "      <td>TV</td>\n",
       "      <td>Apr 1, 1998 to Sep 30, 1998</td>\n",
       "      <td>Manga</td>\n",
       "      <td>24 min. per ep.</td>\n",
       "      <td>PG-13 - Teens 13 or older</td>\n",
       "      <td>201</td>\n",
       "      <td>8.24</td>\n",
       "    </tr>\n",
       "    <tr>\n",
       "      <th>3</th>\n",
       "      <td>7.0</td>\n",
       "      <td>Witch Hunter Robin</td>\n",
       "      <td>Action, Mystery, Police, Supernatural, Drama, ...</td>\n",
       "      <td>Sunrise</td>\n",
       "      <td>TV</td>\n",
       "      <td>Jul 2, 2002 to Dec 24, 2002</td>\n",
       "      <td>Original</td>\n",
       "      <td>25 min. per ep.</td>\n",
       "      <td>PG-13 - Teens 13 or older</td>\n",
       "      <td>1467</td>\n",
       "      <td>7.27</td>\n",
       "    </tr>\n",
       "    <tr>\n",
       "      <th>4</th>\n",
       "      <td>8.0</td>\n",
       "      <td>Bouken Ou Beet</td>\n",
       "      <td>Adventure, Fantasy, Shounen, Supernatural</td>\n",
       "      <td>Toei Animation</td>\n",
       "      <td>TV</td>\n",
       "      <td>Sep 30, 2004 to Sep 29, 2005</td>\n",
       "      <td>Manga</td>\n",
       "      <td>23 min. per ep.</td>\n",
       "      <td>PG - Children</td>\n",
       "      <td>4369</td>\n",
       "      <td>6.98</td>\n",
       "    </tr>\n",
       "    <tr>\n",
       "      <th>...</th>\n",
       "      <td>...</td>\n",
       "      <td>...</td>\n",
       "      <td>...</td>\n",
       "      <td>...</td>\n",
       "      <td>...</td>\n",
       "      <td>...</td>\n",
       "      <td>...</td>\n",
       "      <td>...</td>\n",
       "      <td>...</td>\n",
       "      <td>...</td>\n",
       "      <td>...</td>\n",
       "    </tr>\n",
       "    <tr>\n",
       "      <th>95</th>\n",
       "      <td>116.0</td>\n",
       "      <td>El Hazard: The Wanderers</td>\n",
       "      <td>Adventure, Comedy, Romance, Fantasy</td>\n",
       "      <td>AIC</td>\n",
       "      <td>TV</td>\n",
       "      <td>Oct 6, 1995 to Mar 29, 1996</td>\n",
       "      <td>Original</td>\n",
       "      <td>23 min. per ep.</td>\n",
       "      <td>PG-13 - Teens 13 or older</td>\n",
       "      <td>4198</td>\n",
       "      <td>6.97</td>\n",
       "    </tr>\n",
       "    <tr>\n",
       "      <th>96</th>\n",
       "      <td>117.0</td>\n",
       "      <td>El Hazard: The Magnificent World</td>\n",
       "      <td>Adventure, Comedy, Romance, Fantasy</td>\n",
       "      <td>AIC</td>\n",
       "      <td>OVA</td>\n",
       "      <td>May 26, 1995 to Jan 25, 1996</td>\n",
       "      <td>Original</td>\n",
       "      <td>34 min. per ep.</td>\n",
       "      <td>PG-13 - Teens 13 or older</td>\n",
       "      <td>4129</td>\n",
       "      <td>7.32</td>\n",
       "    </tr>\n",
       "    <tr>\n",
       "      <th>97</th>\n",
       "      <td>118.0</td>\n",
       "      <td>El Hazard 2: The Magnificent World</td>\n",
       "      <td>Adventure, Comedy, Fantasy</td>\n",
       "      <td>AIC</td>\n",
       "      <td>OVA</td>\n",
       "      <td>Mar 21, 1997 to Oct 25, 1997</td>\n",
       "      <td>Original</td>\n",
       "      <td>30 min. per ep.</td>\n",
       "      <td>PG-13 - Teens 13 or older</td>\n",
       "      <td>5421</td>\n",
       "      <td>6.85</td>\n",
       "    </tr>\n",
       "    <tr>\n",
       "      <th>98</th>\n",
       "      <td>119.0</td>\n",
       "      <td>Final Approach</td>\n",
       "      <td>Comedy, Drama, Romance, Slice of Life</td>\n",
       "      <td>Zexcs</td>\n",
       "      <td>TV</td>\n",
       "      <td>Oct 3, 2004 to Dec 26, 2004</td>\n",
       "      <td>Visual novel</td>\n",
       "      <td>14 min. per ep.</td>\n",
       "      <td>PG-13 - Teens 13 or older</td>\n",
       "      <td>2887</td>\n",
       "      <td>6.56</td>\n",
       "    </tr>\n",
       "    <tr>\n",
       "      <th>99</th>\n",
       "      <td>120.0</td>\n",
       "      <td>Fruits Basket</td>\n",
       "      <td>Slice of Life, Comedy, Supernatural, Drama, Ro...</td>\n",
       "      <td>Studio Deen</td>\n",
       "      <td>TV</td>\n",
       "      <td>Jul 5, 2001 to Dec 27, 2001</td>\n",
       "      <td>Manga</td>\n",
       "      <td>24 min. per ep.</td>\n",
       "      <td>PG-13 - Teens 13 or older</td>\n",
       "      <td>314</td>\n",
       "      <td>7.69</td>\n",
       "    </tr>\n",
       "  </tbody>\n",
       "</table>\n",
       "<p>100 rows × 11 columns</p>\n",
       "</div>"
      ],
      "text/plain": [
       "    MAL_ID                                Name  \\\n",
       "0      1.0                        Cowboy Bebop   \n",
       "1      5.0     Cowboy Bebop: Tengoku no Tobira   \n",
       "2      6.0                              Trigun   \n",
       "3      7.0                  Witch Hunter Robin   \n",
       "4      8.0                      Bouken Ou Beet   \n",
       "..     ...                                 ...   \n",
       "95   116.0            El Hazard: The Wanderers   \n",
       "96   117.0    El Hazard: The Magnificent World   \n",
       "97   118.0  El Hazard 2: The Magnificent World   \n",
       "98   119.0                      Final Approach   \n",
       "99   120.0                       Fruits Basket   \n",
       "\n",
       "                                               Genres         Studios   Type  \\\n",
       "0     Action, Adventure, Comedy, Drama, Sci-Fi, Space         Sunrise     TV   \n",
       "1               Action, Drama, Mystery, Sci-Fi, Space           Bones  Movie   \n",
       "2   Action, Sci-Fi, Adventure, Comedy, Drama, Shounen        Madhouse     TV   \n",
       "3   Action, Mystery, Police, Supernatural, Drama, ...         Sunrise     TV   \n",
       "4           Adventure, Fantasy, Shounen, Supernatural  Toei Animation     TV   \n",
       "..                                                ...             ...    ...   \n",
       "95                Adventure, Comedy, Romance, Fantasy             AIC     TV   \n",
       "96                Adventure, Comedy, Romance, Fantasy             AIC    OVA   \n",
       "97                         Adventure, Comedy, Fantasy             AIC    OVA   \n",
       "98              Comedy, Drama, Romance, Slice of Life           Zexcs     TV   \n",
       "99  Slice of Life, Comedy, Supernatural, Drama, Ro...     Studio Deen     TV   \n",
       "\n",
       "                           Aired        Source         Duration  \\\n",
       "0    Apr 3, 1998 to Apr 24, 1999      Original  24 min. per ep.   \n",
       "1                    Sep 1, 2001      Original    1 hr. 55 min.   \n",
       "2    Apr 1, 1998 to Sep 30, 1998         Manga  24 min. per ep.   \n",
       "3    Jul 2, 2002 to Dec 24, 2002      Original  25 min. per ep.   \n",
       "4   Sep 30, 2004 to Sep 29, 2005         Manga  23 min. per ep.   \n",
       "..                           ...           ...              ...   \n",
       "95   Oct 6, 1995 to Mar 29, 1996      Original  23 min. per ep.   \n",
       "96  May 26, 1995 to Jan 25, 1996      Original  34 min. per ep.   \n",
       "97  Mar 21, 1997 to Oct 25, 1997      Original  30 min. per ep.   \n",
       "98   Oct 3, 2004 to Dec 26, 2004  Visual novel  14 min. per ep.   \n",
       "99   Jul 5, 2001 to Dec 27, 2001         Manga  24 min. per ep.   \n",
       "\n",
       "                            Rating Popularity Score  \n",
       "0   R - 17+ (violence & profanity)         39  8.78  \n",
       "1   R - 17+ (violence & profanity)        518  8.39  \n",
       "2        PG-13 - Teens 13 or older        201  8.24  \n",
       "3        PG-13 - Teens 13 or older       1467  7.27  \n",
       "4                    PG - Children       4369  6.98  \n",
       "..                             ...        ...   ...  \n",
       "95       PG-13 - Teens 13 or older       4198  6.97  \n",
       "96       PG-13 - Teens 13 or older       4129  7.32  \n",
       "97       PG-13 - Teens 13 or older       5421  6.85  \n",
       "98       PG-13 - Teens 13 or older       2887  6.56  \n",
       "99       PG-13 - Teens 13 or older        314  7.69  \n",
       "\n",
       "[100 rows x 11 columns]"
      ]
     },
     "execution_count": 25,
     "metadata": {},
     "output_type": "execute_result"
    }
   ],
   "source": [
    "animo.head(100)"
   ]
  },
  {
   "cell_type": "code",
   "execution_count": 73,
   "id": "49944a9f",
   "metadata": {},
   "outputs": [
    {
     "data": {
      "text/html": [
       "<div>\n",
       "<style scoped>\n",
       "    .dataframe tbody tr th:only-of-type {\n",
       "        vertical-align: middle;\n",
       "    }\n",
       "\n",
       "    .dataframe tbody tr th {\n",
       "        vertical-align: top;\n",
       "    }\n",
       "\n",
       "    .dataframe thead th {\n",
       "        text-align: right;\n",
       "    }\n",
       "</style>\n",
       "<table border=\"1\" class=\"dataframe\">\n",
       "  <thead>\n",
       "    <tr style=\"text-align: right;\">\n",
       "      <th></th>\n",
       "      <th>Name</th>\n",
       "      <th>Score</th>\n",
       "    </tr>\n",
       "  </thead>\n",
       "  <tbody>\n",
       "    <tr>\n",
       "      <th>8781</th>\n",
       "      <td>Ao no Exorcist: Kyoto Fujouou-hen OVA</td>\n",
       "      <td>Unknown</td>\n",
       "    </tr>\n",
       "    <tr>\n",
       "      <th>10365</th>\n",
       "      <td>Tsugumomo OVA</td>\n",
       "      <td>Unknown</td>\n",
       "    </tr>\n",
       "    <tr>\n",
       "      <th>10357</th>\n",
       "      <td>Itte.</td>\n",
       "      <td>Unknown</td>\n",
       "    </tr>\n",
       "    <tr>\n",
       "      <th>10358</th>\n",
       "      <td>Sounan Desu ka?</td>\n",
       "      <td>Unknown</td>\n",
       "    </tr>\n",
       "    <tr>\n",
       "      <th>10359</th>\n",
       "      <td>Shounen Ashibe: Go! Go! Goma-chan 4</td>\n",
       "      <td>Unknown</td>\n",
       "    </tr>\n",
       "    <tr>\n",
       "      <th>...</th>\n",
       "      <td>...</td>\n",
       "      <td>...</td>\n",
       "    </tr>\n",
       "    <tr>\n",
       "      <th>7691</th>\n",
       "      <td>Yuru Yuri Nachuyachumi!+</td>\n",
       "      <td>Yourself Specials</td>\n",
       "    </tr>\n",
       "    <tr>\n",
       "      <th>2672</th>\n",
       "      <td>Hoshi no Umi no Amuri</td>\n",
       "      <td>Yourself</td>\n",
       "    </tr>\n",
       "    <tr>\n",
       "      <th>14711</th>\n",
       "      <td>NaN</td>\n",
       "      <td>Agateram</td>\n",
       "    </tr>\n",
       "    <tr>\n",
       "      <th>14710</th>\n",
       "      <td>NaN</td>\n",
       "      <td>Agateram</td>\n",
       "    </tr>\n",
       "    <tr>\n",
       "      <th>898</th>\n",
       "      <td>Generator Gawl</td>\n",
       "      <td>NaN</td>\n",
       "    </tr>\n",
       "  </tbody>\n",
       "</table>\n",
       "<p>17562 rows × 2 columns</p>\n",
       "</div>"
      ],
      "text/plain": [
       "                                        Name               Score\n",
       "8781   Ao no Exorcist: Kyoto Fujouou-hen OVA             Unknown\n",
       "10365                          Tsugumomo OVA             Unknown\n",
       "10357                                  Itte.             Unknown\n",
       "10358                        Sounan Desu ka?             Unknown\n",
       "10359    Shounen Ashibe: Go! Go! Goma-chan 4             Unknown\n",
       "...                                      ...                 ...\n",
       "7691                Yuru Yuri Nachuyachumi!+   Yourself Specials\n",
       "2672                   Hoshi no Umi no Amuri            Yourself\n",
       "14711                                    NaN            Agateram\n",
       "14710                                    NaN            Agateram\n",
       "898                           Generator Gawl                 NaN\n",
       "\n",
       "[17562 rows x 2 columns]"
      ]
     },
     "execution_count": 73,
     "metadata": {},
     "output_type": "execute_result"
    }
   ],
   "source": [
    "animo[['Name', 'Score']].sort_values(\"Score\", ascending=False)"
   ]
  },
  {
   "cell_type": "code",
   "execution_count": 55,
   "id": "98424c8f",
   "metadata": {},
   "outputs": [],
   "source": [
    "studios_prod = animo[['Studios', 'Score']].groupby(['Studios']).count().reset_index().sort_values(\"Score\", ascending=False).rename(columns={'Score':'Number of Prods'})"
   ]
  },
  {
   "cell_type": "code",
   "execution_count": 56,
   "id": "1b2bced3",
   "metadata": {},
   "outputs": [
    {
     "data": {
      "text/html": [
       "<div>\n",
       "<style scoped>\n",
       "    .dataframe tbody tr th:only-of-type {\n",
       "        vertical-align: middle;\n",
       "    }\n",
       "\n",
       "    .dataframe tbody tr th {\n",
       "        vertical-align: top;\n",
       "    }\n",
       "\n",
       "    .dataframe thead th {\n",
       "        text-align: right;\n",
       "    }\n",
       "</style>\n",
       "<table border=\"1\" class=\"dataframe\">\n",
       "  <thead>\n",
       "    <tr style=\"text-align: right;\">\n",
       "      <th></th>\n",
       "      <th>Studios</th>\n",
       "      <th>Number of Prods</th>\n",
       "    </tr>\n",
       "  </thead>\n",
       "  <tbody>\n",
       "    <tr>\n",
       "      <th>845</th>\n",
       "      <td>Unknown</td>\n",
       "      <td>2594</td>\n",
       "    </tr>\n",
       "    <tr>\n",
       "      <th>810</th>\n",
       "      <td>Toei Animation</td>\n",
       "      <td>587</td>\n",
       "    </tr>\n",
       "    <tr>\n",
       "      <th>735</th>\n",
       "      <td>Sunrise</td>\n",
       "      <td>441</td>\n",
       "    </tr>\n",
       "    <tr>\n",
       "      <th>313</th>\n",
       "      <td>J.C.Staff</td>\n",
       "      <td>316</td>\n",
       "    </tr>\n",
       "    <tr>\n",
       "      <th>390</th>\n",
       "      <td>Madhouse</td>\n",
       "      <td>313</td>\n",
       "    </tr>\n",
       "    <tr>\n",
       "      <th>...</th>\n",
       "      <td>...</td>\n",
       "      <td>...</td>\n",
       "    </tr>\n",
       "    <tr>\n",
       "      <th>247</th>\n",
       "      <td>Gallop, Studio Comet</td>\n",
       "      <td>1</td>\n",
       "    </tr>\n",
       "    <tr>\n",
       "      <th>249</th>\n",
       "      <td>Gallop, TMS Entertainment</td>\n",
       "      <td>1</td>\n",
       "    </tr>\n",
       "    <tr>\n",
       "      <th>546</th>\n",
       "      <td>Production IMS, Orange</td>\n",
       "      <td>1</td>\n",
       "    </tr>\n",
       "    <tr>\n",
       "      <th>251</th>\n",
       "      <td>Gathering, Asahi Production</td>\n",
       "      <td>1</td>\n",
       "    </tr>\n",
       "    <tr>\n",
       "      <th>906</th>\n",
       "      <td>ufotable, feel., Studio Flag</td>\n",
       "      <td>1</td>\n",
       "    </tr>\n",
       "  </tbody>\n",
       "</table>\n",
       "<p>907 rows × 2 columns</p>\n",
       "</div>"
      ],
      "text/plain": [
       "                          Studios  Number of Prods\n",
       "845                       Unknown             2594\n",
       "810                Toei Animation              587\n",
       "735                       Sunrise              441\n",
       "313                     J.C.Staff              316\n",
       "390                      Madhouse              313\n",
       "..                            ...              ...\n",
       "247          Gallop, Studio Comet                1\n",
       "249     Gallop, TMS Entertainment                1\n",
       "546        Production IMS, Orange                1\n",
       "251   Gathering, Asahi Production                1\n",
       "906  ufotable, feel., Studio Flag                1\n",
       "\n",
       "[907 rows x 2 columns]"
      ]
     },
     "execution_count": 56,
     "metadata": {},
     "output_type": "execute_result"
    }
   ],
   "source": [
    "studios_prod \n"
   ]
  },
  {
   "cell_type": "code",
   "execution_count": 61,
   "id": "d86d5d7c",
   "metadata": {},
   "outputs": [],
   "source": [
    "a=studios_prod.head(20)"
   ]
  },
  {
   "cell_type": "code",
   "execution_count": 62,
   "id": "917cc0b5",
   "metadata": {},
   "outputs": [
    {
     "data": {
      "text/html": [
       "<div>\n",
       "<style scoped>\n",
       "    .dataframe tbody tr th:only-of-type {\n",
       "        vertical-align: middle;\n",
       "    }\n",
       "\n",
       "    .dataframe tbody tr th {\n",
       "        vertical-align: top;\n",
       "    }\n",
       "\n",
       "    .dataframe thead th {\n",
       "        text-align: right;\n",
       "    }\n",
       "</style>\n",
       "<table border=\"1\" class=\"dataframe\">\n",
       "  <thead>\n",
       "    <tr style=\"text-align: right;\">\n",
       "      <th></th>\n",
       "      <th>Studios</th>\n",
       "      <th>Number of Prods</th>\n",
       "    </tr>\n",
       "  </thead>\n",
       "  <tbody>\n",
       "    <tr>\n",
       "      <th>845</th>\n",
       "      <td>Unknown</td>\n",
       "      <td>2594</td>\n",
       "    </tr>\n",
       "    <tr>\n",
       "      <th>810</th>\n",
       "      <td>Toei Animation</td>\n",
       "      <td>587</td>\n",
       "    </tr>\n",
       "    <tr>\n",
       "      <th>735</th>\n",
       "      <td>Sunrise</td>\n",
       "      <td>441</td>\n",
       "    </tr>\n",
       "    <tr>\n",
       "      <th>313</th>\n",
       "      <td>J.C.Staff</td>\n",
       "      <td>316</td>\n",
       "    </tr>\n",
       "    <tr>\n",
       "      <th>390</th>\n",
       "      <td>Madhouse</td>\n",
       "      <td>313</td>\n",
       "    </tr>\n",
       "    <tr>\n",
       "      <th>519</th>\n",
       "      <td>Production I.G</td>\n",
       "      <td>245</td>\n",
       "    </tr>\n",
       "    <tr>\n",
       "      <th>664</th>\n",
       "      <td>Studio Deen</td>\n",
       "      <td>242</td>\n",
       "    </tr>\n",
       "    <tr>\n",
       "      <th>703</th>\n",
       "      <td>Studio Pierrot</td>\n",
       "      <td>219</td>\n",
       "    </tr>\n",
       "    <tr>\n",
       "      <th>758</th>\n",
       "      <td>TMS Entertainment</td>\n",
       "      <td>211</td>\n",
       "    </tr>\n",
       "    <tr>\n",
       "      <th>453</th>\n",
       "      <td>OLM</td>\n",
       "      <td>187</td>\n",
       "    </tr>\n",
       "    <tr>\n",
       "      <th>4</th>\n",
       "      <td>A-1 Pictures</td>\n",
       "      <td>184</td>\n",
       "    </tr>\n",
       "    <tr>\n",
       "      <th>444</th>\n",
       "      <td>Nippon Animation</td>\n",
       "      <td>147</td>\n",
       "    </tr>\n",
       "    <tr>\n",
       "      <th>122</th>\n",
       "      <td>Bones</td>\n",
       "      <td>123</td>\n",
       "    </tr>\n",
       "    <tr>\n",
       "      <th>612</th>\n",
       "      <td>Shin-Ei Animation</td>\n",
       "      <td>118</td>\n",
       "    </tr>\n",
       "    <tr>\n",
       "      <th>258</th>\n",
       "      <td>Gonzo</td>\n",
       "      <td>118</td>\n",
       "    </tr>\n",
       "    <tr>\n",
       "      <th>604</th>\n",
       "      <td>Shaft</td>\n",
       "      <td>117</td>\n",
       "    </tr>\n",
       "    <tr>\n",
       "      <th>782</th>\n",
       "      <td>Tatsunoko Production</td>\n",
       "      <td>115</td>\n",
       "    </tr>\n",
       "    <tr>\n",
       "      <th>864</th>\n",
       "      <td>Xebec</td>\n",
       "      <td>111</td>\n",
       "    </tr>\n",
       "    <tr>\n",
       "      <th>360</th>\n",
       "      <td>Kyoto Animation</td>\n",
       "      <td>110</td>\n",
       "    </tr>\n",
       "    <tr>\n",
       "      <th>14</th>\n",
       "      <td>AIC</td>\n",
       "      <td>108</td>\n",
       "    </tr>\n",
       "  </tbody>\n",
       "</table>\n",
       "</div>"
      ],
      "text/plain": [
       "                  Studios  Number of Prods\n",
       "845               Unknown             2594\n",
       "810        Toei Animation              587\n",
       "735               Sunrise              441\n",
       "313             J.C.Staff              316\n",
       "390              Madhouse              313\n",
       "519        Production I.G              245\n",
       "664           Studio Deen              242\n",
       "703        Studio Pierrot              219\n",
       "758     TMS Entertainment              211\n",
       "453                   OLM              187\n",
       "4            A-1 Pictures              184\n",
       "444      Nippon Animation              147\n",
       "122                 Bones              123\n",
       "612     Shin-Ei Animation              118\n",
       "258                 Gonzo              118\n",
       "604                 Shaft              117\n",
       "782  Tatsunoko Production              115\n",
       "864                 Xebec              111\n",
       "360       Kyoto Animation              110\n",
       "14                    AIC              108"
      ]
     },
     "execution_count": 62,
     "metadata": {},
     "output_type": "execute_result"
    }
   ],
   "source": [
    "a"
   ]
  },
  {
   "cell_type": "code",
   "execution_count": 63,
   "id": "dd3ed441",
   "metadata": {},
   "outputs": [
    {
     "data": {
      "text/plain": [
       "<AxesSubplot:xlabel='Studios', ylabel='Number of Prods'>"
      ]
     },
     "execution_count": 63,
     "metadata": {},
     "output_type": "execute_result"
    },
    {
     "data": {
      "image/png": "[encoded data removed]",
      "text/plain": [
       "<Figure size 432x288 with 1 Axes>"
      ]
     },
     "metadata": {
      "needs_background": "light"
     },
     "output_type": "display_data"
    }
   ],
   "source": [
    "sns.scatterplot(data=a, x=\"Studios\", y=\"Number of Prods\")"
   ]
  },
  {
   "cell_type": "markdown",
   "id": "76fae7f1",
   "metadata": {},
   "source": [
    "# USERS VIEWS"
   ]
  },
  {
   "cell_type": "code",
   "execution_count": 86,
   "id": "47af40c4",
   "metadata": {},
   "outputs": [],
   "source": [
    "user = pd.read_csv('../raw_data/rating_complete_df_100PlusRatings_partial.csv')"
   ]
  },
  {
   "cell_type": "code",
   "execution_count": 87,
   "id": "fdbd376c",
   "metadata": {},
   "outputs": [
    {
     "data": {
      "text/html": [
       "<div>\n",
       "<style scoped>\n",
       "    .dataframe tbody tr th:only-of-type {\n",
       "        vertical-align: middle;\n",
       "    }\n",
       "\n",
       "    .dataframe tbody tr th {\n",
       "        vertical-align: top;\n",
       "    }\n",
       "\n",
       "    .dataframe thead th {\n",
       "        text-align: right;\n",
       "    }\n",
       "</style>\n",
       "<table border=\"1\" class=\"dataframe\">\n",
       "  <thead>\n",
       "    <tr style=\"text-align: right;\">\n",
       "      <th></th>\n",
       "      <th>user_id</th>\n",
       "      <th>anime_id</th>\n",
       "      <th>rating</th>\n",
       "    </tr>\n",
       "  </thead>\n",
       "  <tbody>\n",
       "    <tr>\n",
       "      <th>0</th>\n",
       "      <td>1</td>\n",
       "      <td>22535</td>\n",
       "      <td>9</td>\n",
       "    </tr>\n",
       "    <tr>\n",
       "      <th>1</th>\n",
       "      <td>1</td>\n",
       "      <td>32281</td>\n",
       "      <td>10</td>\n",
       "    </tr>\n",
       "    <tr>\n",
       "      <th>2</th>\n",
       "      <td>1</td>\n",
       "      <td>38000</td>\n",
       "      <td>9</td>\n",
       "    </tr>\n",
       "    <tr>\n",
       "      <th>3</th>\n",
       "      <td>1</td>\n",
       "      <td>18679</td>\n",
       "      <td>6</td>\n",
       "    </tr>\n",
       "    <tr>\n",
       "      <th>4</th>\n",
       "      <td>1</td>\n",
       "      <td>37497</td>\n",
       "      <td>8</td>\n",
       "    </tr>\n",
       "  </tbody>\n",
       "</table>\n",
       "</div>"
      ],
      "text/plain": [
       "   user_id  anime_id  rating\n",
       "0        1     22535       9\n",
       "1        1     32281      10\n",
       "2        1     38000       9\n",
       "3        1     18679       6\n",
       "4        1     37497       8"
      ]
     },
     "execution_count": 87,
     "metadata": {},
     "output_type": "execute_result"
    }
   ],
   "source": [
    "user.head()"
   ]
  },
  {
   "cell_type": "code",
   "execution_count": 103,
   "id": "c337e6d7",
   "metadata": {},
   "outputs": [],
   "source": [
    "pro = user[[ 'anime_id',\"rating\"]].groupby(['anime_id']).mean().sort_values(\"anime_id\")"
   ]
  },
  {
   "cell_type": "code",
   "execution_count": 104,
   "id": "a6c2481d",
   "metadata": {},
   "outputs": [
    {
     "data": {
      "text/html": [
       "<div>\n",
       "<style scoped>\n",
       "    .dataframe tbody tr th:only-of-type {\n",
       "        vertical-align: middle;\n",
       "    }\n",
       "\n",
       "    .dataframe tbody tr th {\n",
       "        vertical-align: top;\n",
       "    }\n",
       "\n",
       "    .dataframe thead th {\n",
       "        text-align: right;\n",
       "    }\n",
       "</style>\n",
       "<table border=\"1\" class=\"dataframe\">\n",
       "  <thead>\n",
       "    <tr style=\"text-align: right;\">\n",
       "      <th></th>\n",
       "      <th>rating</th>\n",
       "    </tr>\n",
       "    <tr>\n",
       "      <th>anime_id</th>\n",
       "      <th></th>\n",
       "    </tr>\n",
       "  </thead>\n",
       "  <tbody>\n",
       "    <tr>\n",
       "      <th>1</th>\n",
       "      <td>8.676433</td>\n",
       "    </tr>\n",
       "    <tr>\n",
       "      <th>5</th>\n",
       "      <td>8.397403</td>\n",
       "    </tr>\n",
       "    <tr>\n",
       "      <th>6</th>\n",
       "      <td>8.173004</td>\n",
       "    </tr>\n",
       "    <tr>\n",
       "      <th>7</th>\n",
       "      <td>7.385321</td>\n",
       "    </tr>\n",
       "    <tr>\n",
       "      <th>8</th>\n",
       "      <td>7.047619</td>\n",
       "    </tr>\n",
       "    <tr>\n",
       "      <th>15</th>\n",
       "      <td>8.130137</td>\n",
       "    </tr>\n",
       "    <tr>\n",
       "      <th>16</th>\n",
       "      <td>8.238318</td>\n",
       "    </tr>\n",
       "    <tr>\n",
       "      <th>17</th>\n",
       "      <td>7.764706</td>\n",
       "    </tr>\n",
       "    <tr>\n",
       "      <th>18</th>\n",
       "      <td>8.198718</td>\n",
       "    </tr>\n",
       "    <tr>\n",
       "      <th>19</th>\n",
       "      <td>8.951515</td>\n",
       "    </tr>\n",
       "    <tr>\n",
       "      <th>20</th>\n",
       "      <td>7.805858</td>\n",
       "    </tr>\n",
       "    <tr>\n",
       "      <th>22</th>\n",
       "      <td>8.163399</td>\n",
       "    </tr>\n",
       "    <tr>\n",
       "      <th>23</th>\n",
       "      <td>7.666667</td>\n",
       "    </tr>\n",
       "    <tr>\n",
       "      <th>24</th>\n",
       "      <td>8.124646</td>\n",
       "    </tr>\n",
       "    <tr>\n",
       "      <th>25</th>\n",
       "      <td>7.255319</td>\n",
       "    </tr>\n",
       "    <tr>\n",
       "      <th>26</th>\n",
       "      <td>7.710280</td>\n",
       "    </tr>\n",
       "    <tr>\n",
       "      <th>27</th>\n",
       "      <td>7.486607</td>\n",
       "    </tr>\n",
       "    <tr>\n",
       "      <th>28</th>\n",
       "      <td>8.051546</td>\n",
       "    </tr>\n",
       "    <tr>\n",
       "      <th>29</th>\n",
       "      <td>7.375000</td>\n",
       "    </tr>\n",
       "    <tr>\n",
       "      <th>30</th>\n",
       "      <td>8.238095</td>\n",
       "    </tr>\n",
       "  </tbody>\n",
       "</table>\n",
       "</div>"
      ],
      "text/plain": [
       "            rating\n",
       "anime_id          \n",
       "1         8.676433\n",
       "5         8.397403\n",
       "6         8.173004\n",
       "7         7.385321\n",
       "8         7.047619\n",
       "15        8.130137\n",
       "16        8.238318\n",
       "17        7.764706\n",
       "18        8.198718\n",
       "19        8.951515\n",
       "20        7.805858\n",
       "22        8.163399\n",
       "23        7.666667\n",
       "24        8.124646\n",
       "25        7.255319\n",
       "26        7.710280\n",
       "27        7.486607\n",
       "28        8.051546\n",
       "29        7.375000\n",
       "30        8.238095"
      ]
     },
     "execution_count": 104,
     "metadata": {},
     "output_type": "execute_result"
    }
   ],
   "source": [
    "pro.head(20)"
   ]
  },
  {
   "cell_type": "code",
   "execution_count": 113,
   "id": "33074e8c",
   "metadata": {},
   "outputs": [
    {
     "data": {
      "text/html": [
       "<div>\n",
       "<style scoped>\n",
       "    .dataframe tbody tr th:only-of-type {\n",
       "        vertical-align: middle;\n",
       "    }\n",
       "\n",
       "    .dataframe tbody tr th {\n",
       "        vertical-align: top;\n",
       "    }\n",
       "\n",
       "    .dataframe thead th {\n",
       "        text-align: right;\n",
       "    }\n",
       "</style>\n",
       "<table border=\"1\" class=\"dataframe\">\n",
       "  <thead>\n",
       "    <tr style=\"text-align: right;\">\n",
       "      <th></th>\n",
       "      <th>MAL_ID</th>\n",
       "      <th>Name</th>\n",
       "      <th>Score</th>\n",
       "      <th>Genres</th>\n",
       "      <th>English name</th>\n",
       "      <th>Japanese name</th>\n",
       "      <th>Type</th>\n",
       "      <th>Episodes</th>\n",
       "      <th>Aired</th>\n",
       "      <th>Premiered</th>\n",
       "      <th>Producers</th>\n",
       "      <th>Licensors</th>\n",
       "      <th>Studios</th>\n",
       "      <th>Source</th>\n",
       "      <th>Duration</th>\n",
       "      <th>Rating</th>\n",
       "      <th>Ranked</th>\n",
       "      <th>Popularity</th>\n",
       "      <th>Members</th>\n",
       "      <th>Favorites</th>\n",
       "      <th>Watching</th>\n",
       "      <th>Completed</th>\n",
       "      <th>On-Hold</th>\n",
       "      <th>Dropped</th>\n",
       "      <th>Plan to Watch</th>\n",
       "      <th>Score-10</th>\n",
       "      <th>Score-9</th>\n",
       "      <th>Score-8</th>\n",
       "      <th>Score-7</th>\n",
       "      <th>Score-6</th>\n",
       "      <th>Score-5</th>\n",
       "      <th>Score-4</th>\n",
       "      <th>Score-3</th>\n",
       "      <th>Score-2</th>\n",
       "      <th>Score-1</th>\n",
       "    </tr>\n",
       "  </thead>\n",
       "  <tbody>\n",
       "    <tr>\n",
       "      <th>0</th>\n",
       "      <td>1</td>\n",
       "      <td>Cowboy Bebop</td>\n",
       "      <td>8.78</td>\n",
       "      <td>Action, Adventure, Comedy, Drama, Sci-Fi, Space</td>\n",
       "      <td>Cowboy Bebop</td>\n",
       "      <td>カウボーイビバップ</td>\n",
       "      <td>TV</td>\n",
       "      <td>26</td>\n",
       "      <td>Apr 3, 1998 to Apr 24, 1999</td>\n",
       "      <td>Spring 1998</td>\n",
       "      <td>Bandai Visual</td>\n",
       "      <td>Funimation, Bandai Entertainment</td>\n",
       "      <td>Sunrise</td>\n",
       "      <td>Original</td>\n",
       "      <td>24 min. per ep.</td>\n",
       "      <td>R - 17+ (violence &amp; profanity)</td>\n",
       "      <td>28.0</td>\n",
       "      <td>39</td>\n",
       "      <td>1251960</td>\n",
       "      <td>61971</td>\n",
       "      <td>105808</td>\n",
       "      <td>718161</td>\n",
       "      <td>71513</td>\n",
       "      <td>26678</td>\n",
       "      <td>329800</td>\n",
       "      <td>229170.0</td>\n",
       "      <td>182126.0</td>\n",
       "      <td>131625.0</td>\n",
       "      <td>62330.0</td>\n",
       "      <td>20688.0</td>\n",
       "      <td>8904.0</td>\n",
       "      <td>3184.0</td>\n",
       "      <td>1357.0</td>\n",
       "      <td>741.0</td>\n",
       "      <td>1580.0</td>\n",
       "    </tr>\n",
       "    <tr>\n",
       "      <th>1</th>\n",
       "      <td>5</td>\n",
       "      <td>Cowboy Bebop: Tengoku no Tobira</td>\n",
       "      <td>8.39</td>\n",
       "      <td>Action, Drama, Mystery, Sci-Fi, Space</td>\n",
       "      <td>Cowboy Bebop:The Movie</td>\n",
       "      <td>カウボーイビバップ 天国の扉</td>\n",
       "      <td>Movie</td>\n",
       "      <td>1</td>\n",
       "      <td>Sep 1, 2001</td>\n",
       "      <td>Unknown</td>\n",
       "      <td>Sunrise, Bandai Visual</td>\n",
       "      <td>Sony Pictures Entertainment</td>\n",
       "      <td>Bones</td>\n",
       "      <td>Original</td>\n",
       "      <td>1 hr. 55 min.</td>\n",
       "      <td>R - 17+ (violence &amp; profanity)</td>\n",
       "      <td>159.0</td>\n",
       "      <td>518</td>\n",
       "      <td>273145</td>\n",
       "      <td>1174</td>\n",
       "      <td>4143</td>\n",
       "      <td>208333</td>\n",
       "      <td>1935</td>\n",
       "      <td>770</td>\n",
       "      <td>57964</td>\n",
       "      <td>30043.0</td>\n",
       "      <td>49201.0</td>\n",
       "      <td>49505.0</td>\n",
       "      <td>22632.0</td>\n",
       "      <td>5805.0</td>\n",
       "      <td>1877.0</td>\n",
       "      <td>577.0</td>\n",
       "      <td>221.0</td>\n",
       "      <td>109.0</td>\n",
       "      <td>379.0</td>\n",
       "    </tr>\n",
       "    <tr>\n",
       "      <th>2</th>\n",
       "      <td>6</td>\n",
       "      <td>Trigun</td>\n",
       "      <td>8.24</td>\n",
       "      <td>Action, Sci-Fi, Adventure, Comedy, Drama, Shounen</td>\n",
       "      <td>Trigun</td>\n",
       "      <td>トライガン</td>\n",
       "      <td>TV</td>\n",
       "      <td>26</td>\n",
       "      <td>Apr 1, 1998 to Sep 30, 1998</td>\n",
       "      <td>Spring 1998</td>\n",
       "      <td>Victor Entertainment</td>\n",
       "      <td>Funimation, Geneon Entertainment USA</td>\n",
       "      <td>Madhouse</td>\n",
       "      <td>Manga</td>\n",
       "      <td>24 min. per ep.</td>\n",
       "      <td>PG-13 - Teens 13 or older</td>\n",
       "      <td>266.0</td>\n",
       "      <td>201</td>\n",
       "      <td>558913</td>\n",
       "      <td>12944</td>\n",
       "      <td>29113</td>\n",
       "      <td>343492</td>\n",
       "      <td>25465</td>\n",
       "      <td>13925</td>\n",
       "      <td>146918</td>\n",
       "      <td>50229.0</td>\n",
       "      <td>75651.0</td>\n",
       "      <td>86142.0</td>\n",
       "      <td>49432.0</td>\n",
       "      <td>15376.0</td>\n",
       "      <td>5838.0</td>\n",
       "      <td>1965.0</td>\n",
       "      <td>664.0</td>\n",
       "      <td>316.0</td>\n",
       "      <td>533.0</td>\n",
       "    </tr>\n",
       "    <tr>\n",
       "      <th>3</th>\n",
       "      <td>7</td>\n",
       "      <td>Witch Hunter Robin</td>\n",
       "      <td>7.27</td>\n",
       "      <td>Action, Mystery, Police, Supernatural, Drama, ...</td>\n",
       "      <td>Witch Hunter Robin</td>\n",
       "      <td>Witch Hunter ROBIN (ウイッチハンターロビン)</td>\n",
       "      <td>TV</td>\n",
       "      <td>26</td>\n",
       "      <td>Jul 2, 2002 to Dec 24, 2002</td>\n",
       "      <td>Summer 2002</td>\n",
       "      <td>TV Tokyo, Bandai Visual, Dentsu, Victor Entert...</td>\n",
       "      <td>Funimation, Bandai Entertainment</td>\n",
       "      <td>Sunrise</td>\n",
       "      <td>Original</td>\n",
       "      <td>25 min. per ep.</td>\n",
       "      <td>PG-13 - Teens 13 or older</td>\n",
       "      <td>2481.0</td>\n",
       "      <td>1467</td>\n",
       "      <td>94683</td>\n",
       "      <td>587</td>\n",
       "      <td>4300</td>\n",
       "      <td>46165</td>\n",
       "      <td>5121</td>\n",
       "      <td>5378</td>\n",
       "      <td>33719</td>\n",
       "      <td>2182.0</td>\n",
       "      <td>4806.0</td>\n",
       "      <td>10128.0</td>\n",
       "      <td>11618.0</td>\n",
       "      <td>5709.0</td>\n",
       "      <td>2920.0</td>\n",
       "      <td>1083.0</td>\n",
       "      <td>353.0</td>\n",
       "      <td>164.0</td>\n",
       "      <td>131.0</td>\n",
       "    </tr>\n",
       "    <tr>\n",
       "      <th>4</th>\n",
       "      <td>8</td>\n",
       "      <td>Bouken Ou Beet</td>\n",
       "      <td>6.98</td>\n",
       "      <td>Adventure, Fantasy, Shounen, Supernatural</td>\n",
       "      <td>Beet the Vandel Buster</td>\n",
       "      <td>冒険王ビィト</td>\n",
       "      <td>TV</td>\n",
       "      <td>52</td>\n",
       "      <td>Sep 30, 2004 to Sep 29, 2005</td>\n",
       "      <td>Fall 2004</td>\n",
       "      <td>TV Tokyo, Dentsu</td>\n",
       "      <td>Unknown</td>\n",
       "      <td>Toei Animation</td>\n",
       "      <td>Manga</td>\n",
       "      <td>23 min. per ep.</td>\n",
       "      <td>PG - Children</td>\n",
       "      <td>3710.0</td>\n",
       "      <td>4369</td>\n",
       "      <td>13224</td>\n",
       "      <td>18</td>\n",
       "      <td>642</td>\n",
       "      <td>7314</td>\n",
       "      <td>766</td>\n",
       "      <td>1108</td>\n",
       "      <td>3394</td>\n",
       "      <td>312.0</td>\n",
       "      <td>529.0</td>\n",
       "      <td>1242.0</td>\n",
       "      <td>1713.0</td>\n",
       "      <td>1068.0</td>\n",
       "      <td>634.0</td>\n",
       "      <td>265.0</td>\n",
       "      <td>83.0</td>\n",
       "      <td>50.0</td>\n",
       "      <td>27.0</td>\n",
       "    </tr>\n",
       "  </tbody>\n",
       "</table>\n",
       "</div>"
      ],
      "text/plain": [
       "   MAL_ID                             Name Score  \\\n",
       "0       1                     Cowboy Bebop  8.78   \n",
       "1       5  Cowboy Bebop: Tengoku no Tobira  8.39   \n",
       "2       6                           Trigun  8.24   \n",
       "3       7               Witch Hunter Robin  7.27   \n",
       "4       8                   Bouken Ou Beet  6.98   \n",
       "\n",
       "                                              Genres            English name  \\\n",
       "0    Action, Adventure, Comedy, Drama, Sci-Fi, Space            Cowboy Bebop   \n",
       "1              Action, Drama, Mystery, Sci-Fi, Space  Cowboy Bebop:The Movie   \n",
       "2  Action, Sci-Fi, Adventure, Comedy, Drama, Shounen                  Trigun   \n",
       "3  Action, Mystery, Police, Supernatural, Drama, ...      Witch Hunter Robin   \n",
       "4          Adventure, Fantasy, Shounen, Supernatural  Beet the Vandel Buster   \n",
       "\n",
       "                      Japanese name   Type Episodes  \\\n",
       "0                         カウボーイビバップ     TV       26   \n",
       "1                    カウボーイビバップ 天国の扉  Movie        1   \n",
       "2                             トライガン     TV       26   \n",
       "3  Witch Hunter ROBIN (ウイッチハンターロビン)     TV       26   \n",
       "4                            冒険王ビィト     TV       52   \n",
       "\n",
       "                          Aired    Premiered  \\\n",
       "0   Apr 3, 1998 to Apr 24, 1999  Spring 1998   \n",
       "1                   Sep 1, 2001      Unknown   \n",
       "2   Apr 1, 1998 to Sep 30, 1998  Spring 1998   \n",
       "3   Jul 2, 2002 to Dec 24, 2002  Summer 2002   \n",
       "4  Sep 30, 2004 to Sep 29, 2005    Fall 2004   \n",
       "\n",
       "                                           Producers  \\\n",
       "0                                      Bandai Visual   \n",
       "1                             Sunrise, Bandai Visual   \n",
       "2                               Victor Entertainment   \n",
       "3  TV Tokyo, Bandai Visual, Dentsu, Victor Entert...   \n",
       "4                                   TV Tokyo, Dentsu   \n",
       "\n",
       "                              Licensors         Studios    Source  \\\n",
       "0      Funimation, Bandai Entertainment         Sunrise  Original   \n",
       "1           Sony Pictures Entertainment           Bones  Original   \n",
       "2  Funimation, Geneon Entertainment USA        Madhouse     Manga   \n",
       "3      Funimation, Bandai Entertainment         Sunrise  Original   \n",
       "4                               Unknown  Toei Animation     Manga   \n",
       "\n",
       "          Duration                          Rating  Ranked  Popularity  \\\n",
       "0  24 min. per ep.  R - 17+ (violence & profanity)    28.0          39   \n",
       "1    1 hr. 55 min.  R - 17+ (violence & profanity)   159.0         518   \n",
       "2  24 min. per ep.       PG-13 - Teens 13 or older   266.0         201   \n",
       "3  25 min. per ep.       PG-13 - Teens 13 or older  2481.0        1467   \n",
       "4  23 min. per ep.                   PG - Children  3710.0        4369   \n",
       "\n",
       "   Members  Favorites  Watching  Completed  On-Hold  Dropped  Plan to Watch  \\\n",
       "0  1251960      61971    105808     718161    71513    26678         329800   \n",
       "1   273145       1174      4143     208333     1935      770          57964   \n",
       "2   558913      12944     29113     343492    25465    13925         146918   \n",
       "3    94683        587      4300      46165     5121     5378          33719   \n",
       "4    13224         18       642       7314      766     1108           3394   \n",
       "\n",
       "   Score-10   Score-9   Score-8  Score-7  Score-6 Score-5 Score-4 Score-3  \\\n",
       "0  229170.0  182126.0  131625.0  62330.0  20688.0  8904.0  3184.0  1357.0   \n",
       "1   30043.0   49201.0   49505.0  22632.0   5805.0  1877.0   577.0   221.0   \n",
       "2   50229.0   75651.0   86142.0  49432.0  15376.0  5838.0  1965.0   664.0   \n",
       "3    2182.0    4806.0   10128.0  11618.0   5709.0  2920.0  1083.0   353.0   \n",
       "4     312.0     529.0    1242.0   1713.0   1068.0   634.0   265.0    83.0   \n",
       "\n",
       "  Score-2 Score-1  \n",
       "0   741.0  1580.0  \n",
       "1   109.0   379.0  \n",
       "2   316.0   533.0  \n",
       "3   164.0   131.0  \n",
       "4    50.0    27.0  "
      ]
     },
     "execution_count": 113,
     "metadata": {},
     "output_type": "execute_result"
    }
   ],
   "source": [
    "anime_df.head()"
   ]
  },
  {
   "cell_type": "code",
   "execution_count": 129,
   "id": "2e29b2da",
   "metadata": {},
   "outputs": [
    {
     "data": {
      "text/plain": [
       "1090"
      ]
     },
     "execution_count": 129,
     "metadata": {},
     "output_type": "execute_result"
    }
   ],
   "source": [
    "anime_df['Studios'].nunique()"
   ]
  },
  {
   "cell_type": "code",
   "execution_count": 131,
   "id": "84b045b2",
   "metadata": {},
   "outputs": [],
   "source": [
    "notes = anime_df[[ \"Name\",\"Studios\",\"Score\"]].groupby(['Studios'])"
   ]
  },
  {
   "cell_type": "code",
   "execution_count": 133,
   "id": "cb9f6a7c",
   "metadata": {
    "scrolled": true
   },
   "outputs": [
    {
     "ename": "TypeError",
     "evalue": "'bool' object is not callable",
     "output_type": "error",
     "traceback": [
      "\u001b[0;31m---------------------------------------------------------------------------\u001b[0m",
      "\u001b[0;31mTypeError\u001b[0m                                 Traceback (most recent call last)",
      "\u001b[0;32m/tmp/ipykernel_4711/290388787.py\u001b[0m in \u001b[0;36m<module>\u001b[0;34m\u001b[0m\n\u001b[0;32m----> 1\u001b[0;31m \u001b[0mnotes\u001b[0m \u001b[0;34m=\u001b[0m \u001b[0mnotes\u001b[0m\u001b[0;34m.\u001b[0m\u001b[0msort\u001b[0m\u001b[0;34m(\u001b[0m\u001b[0;34m'Score'\u001b[0m\u001b[0;34m)\u001b[0m\u001b[0;34m\u001b[0m\u001b[0;34m\u001b[0m\u001b[0m\n\u001b[0m",
      "\u001b[0;31mTypeError\u001b[0m: 'bool' object is not callable"
     ]
    }
   ],
   "source": [
    "notes = notes.sort('Score')"
   ]
  },
  {
   "cell_type": "code",
   "execution_count": 127,
   "id": "0c4c99ce",
   "metadata": {},
   "outputs": [
    {
     "data": {
      "text/plain": [
       "1090"
      ]
     },
     "execution_count": 127,
     "metadata": {},
     "output_type": "execute_result"
    }
   ],
   "source": [
    "len(notes)"
   ]
  }
 ],
 "metadata": {
  "kernelspec": {
   "display_name": "Python 3 (ipykernel)",
   "language": "python",
   "name": "python3"
  },
  "language_info": {
   "codemirror_mode": {
    "name": "ipython",
    "version": 3
   },
   "file_extension": ".py",
   "mimetype": "text/x-python",
   "name": "python",
   "nbconvert_exporter": "python",
   "pygments_lexer": "ipython3",
   "version": "3.8.6"
  },
  "toc": {
   "base_numbering": 1,
   "nav_menu": {},
   "number_sections": true,
   "sideBar": true,
   "skip_h1_title": false,
   "title_cell": "Table of Contents",
   "title_sidebar": "Contents",
   "toc_cell": false,
   "toc_position": {
    "height": "calc(100% - 180px)",
    "left": "10px",
    "top": "150px",
    "width": "165px"
   },
   "toc_section_display": true,
   "toc_window_display": true
  }
 },
 "nbformat": 4,
 "nbformat_minor": 5
}
