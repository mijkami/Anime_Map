{
 "cells": [
  {
   "cell_type": "markdown",
   "id": "8c827f22",
   "metadata": {},
   "source": [
    "# Imports"
   ]
  },
  {
   "cell_type": "code",
   "execution_count": 1,
   "id": "286d167b",
   "metadata": {},
   "outputs": [],
   "source": [
    "import pandas as pd\n",
    "import numpy as np\n",
    "import seaborn as sns"
   ]
  },
  {
   "cell_type": "code",
   "execution_count": 2,
   "id": "3c802932",
   "metadata": {
    "scrolled": true
   },
   "outputs": [
    {
     "name": "stderr",
     "output_type": "stream",
     "text": [
      "2021-08-28 16:47:12.114227: W tensorflow/stream_executor/platform/default/dso_loader.cc:64] Could not load dynamic library 'libcudart.so.11.0'; dlerror: libcudart.so.11.0: cannot open shared object file: No such file or directory\n",
      "2021-08-28 16:47:12.114246: I tensorflow/stream_executor/cuda/cudart_stub.cc:29] Ignore above cudart dlerror if you do not have a GPU set up on your machine.\n"
     ]
    }
   ],
   "source": [
    "from sklearn.model_selection import train_test_split\n",
    "from keras.utils.np_utils import to_categorical"
   ]
  },
  {
   "cell_type": "markdown",
   "id": "1e95d226",
   "metadata": {},
   "source": [
    "# Dataset"
   ]
  },
  {
   "cell_type": "code",
   "execution_count": 5,
   "id": "92757ca7",
   "metadata": {},
   "outputs": [],
   "source": [
    "dataset = pd.read_csv('../data/processed_data/active_users_df_10PlusRatings_partial.csv')\n",
    "anime_df = pd.read_csv('../data/processed_data/anime_df_relevant_PG.csv')\n",
    "dataset = dataset.sort_values([\"user_id\", \"anime_id\"], ascending=(True, True))"
   ]
  },
  {
   "cell_type": "code",
   "execution_count": 6,
   "id": "8e013a5a",
   "metadata": {},
   "outputs": [
    {
     "data": {
      "text/plain": [
       "12106"
      ]
     },
     "execution_count": 6,
     "metadata": {},
     "output_type": "execute_result"
    }
   ],
   "source": [
    "dataset.anime_id.nunique()"
   ]
  },
  {
   "cell_type": "code",
   "execution_count": 7,
   "id": "a3bbeade",
   "metadata": {},
   "outputs": [
    {
     "data": {
      "text/plain": [
       "4035"
      ]
     },
     "execution_count": 7,
     "metadata": {},
     "output_type": "execute_result"
    }
   ],
   "source": [
    "dataset.user_id.nunique()"
   ]
  },
  {
   "cell_type": "code",
   "execution_count": 8,
   "id": "36113a72",
   "metadata": {},
   "outputs": [],
   "source": [
    "anime_id_to_new_id = dict()\n",
    "id = 1"
   ]
  },
  {
   "cell_type": "code",
   "execution_count": 9,
   "id": "ae7da34a",
   "metadata": {},
   "outputs": [],
   "source": [
    "for index, row in dataset.iterrows():\n",
    "    if anime_id_to_new_id.get(row['anime_id']) is None:\n",
    "        anime_id_to_new_id[row['anime_id']] = id\n",
    "        dataset.at[index, 'anime_id'] = id\n",
    "        id += 1\n",
    "    else:\n",
    "        dataset.at[index, 'anime_id'] = anime_id_to_new_id.get(row['anime_id'])\n"
   ]
  },
  {
   "cell_type": "code",
   "execution_count": 10,
   "id": "51948206",
   "metadata": {},
   "outputs": [],
   "source": [
    "# Need to map user ID to [1, user_num]\n",
    "user_id_to_new_id = dict()\n",
    "id = 1\n",
    "for index, row in dataset.iterrows():\n",
    "    if user_id_to_new_id.get(row['user_id']) is None:\n",
    "        user_id_to_new_id[row['user_id']] = id\n",
    "        dataset.at[index, 'user_id'] = id\n",
    "        id += 1\n",
    "    else:\n",
    "        dataset.at[index, 'user_id'] = user_id_to_new_id.get(row['user_id'])\n"
   ]
  },
  {
   "cell_type": "code",
   "execution_count": 11,
   "id": "321d7044",
   "metadata": {},
   "outputs": [
    {
     "data": {
      "text/plain": [
       "3            1\n",
       "4            1\n",
       "0            1\n",
       "9            1\n",
       "14           1\n",
       "          ... \n",
       "822308    4035\n",
       "822416    4035\n",
       "822372    4035\n",
       "822305    4035\n",
       "822356    4035\n",
       "Name: user_id, Length: 822418, dtype: int64"
      ]
     },
     "execution_count": 11,
     "metadata": {},
     "output_type": "execute_result"
    }
   ],
   "source": [
    "dataset.user_id"
   ]
  },
  {
   "cell_type": "code",
   "execution_count": 13,
   "id": "56d1220c",
   "metadata": {},
   "outputs": [
    {
     "name": "stdout",
     "output_type": "stream",
     "text": [
      "Number of movies 12106\n",
      "Number of users 4035\n"
     ]
    }
   ],
   "source": [
    "num_users = len(dataset.user_id.unique())\n",
    "num_animes = len(dataset.anime_id.unique())\n",
    "train, test = train_test_split(dataset, test_size=0.2)\n",
    "\n",
    "print('Number of movies', num_animes)\n",
    "print('Number of users', num_users)"
   ]
  },
  {
   "cell_type": "markdown",
   "id": "32683d2f",
   "metadata": {},
   "source": [
    "# Order dataset by user_id and anime_id"
   ]
  },
  {
   "cell_type": "code",
   "execution_count": 14,
   "id": "6115bc6d",
   "metadata": {},
   "outputs": [
    {
     "name": "stdout",
     "output_type": "stream",
     "text": [
      "train shape:  (657934, 3)\n",
      "test shape:  (164484, 3)\n"
     ]
    }
   ],
   "source": [
    "print('train shape: ', train.shape)\n",
    "print('test shape: ', test.shape)"
   ]
  },
  {
   "cell_type": "code",
   "execution_count": 36,
   "id": "4f2fd665",
   "metadata": {},
   "outputs": [],
   "source": [
    "#train = train.reset_index()"
   ]
  },
  {
   "cell_type": "code",
   "execution_count": 37,
   "id": "e563154b",
   "metadata": {},
   "outputs": [],
   "source": [
    "# 151519\n",
    "\n",
    "\n",
    "#train.anime_id.nunique()\n",
    "#num_animes"
   ]
  },
  {
   "cell_type": "code",
   "execution_count": 38,
   "id": "79c4ac07",
   "metadata": {},
   "outputs": [],
   "source": [
    "#num_animes"
   ]
  },
  {
   "cell_type": "markdown",
   "id": "88d3061e",
   "metadata": {},
   "source": [
    "# GMF\n"
   ]
  },
  {
   "cell_type": "markdown",
   "id": "e26e30ac",
   "metadata": {},
   "source": [
    "## Matrix factorisation"
   ]
  },
  {
   "cell_type": "code",
   "execution_count": 15,
   "id": "329ab65d",
   "metadata": {},
   "outputs": [],
   "source": [
    "import pydot\n",
    "import graphviz\n",
    "%matplotlib inline"
   ]
  },
  {
   "cell_type": "code",
   "execution_count": 16,
   "id": "1baace70",
   "metadata": {},
   "outputs": [],
   "source": [
    "from keras.models import Model, Sequential\n",
    "from keras.layers import Embedding, Flatten, Input, merge, concatenate\n",
    "from tensorflow.keras.utils import model_to_dot\n",
    "#from keras.utils.visualize_util import model_to_dot\n",
    "from IPython.display import SVG"
   ]
  },
  {
   "cell_type": "code",
   "execution_count": 28,
   "id": "7ebb3014",
   "metadata": {
    "scrolled": true
   },
   "outputs": [],
   "source": [
    "from keras.layers import dot\n",
    "\n",
    "# Let's use a higher latent dimension.\n",
    "latent_dim = 10\n",
    "\n",
    "anime_input = Input(shape=[1],name='anime-input')\n",
    "anime_embedding = Embedding(num_animes + 1, latent_dim, name='anime-embedding')(anime_input)\n",
    "anime_vec = Flatten(name='anime-flatten')(anime_embedding)\n",
    "\n",
    "user_input = Input(shape=[1],name='user-input')\n",
    "user_embedding = Embedding(num_users + 1, latent_dim, name='user-embedding')(user_input)\n",
    "user_vec = Flatten(name='user-flatten')(user_embedding)\n",
    "\n",
    "prod = dot([anime_vec, user_vec], axes=1, normalize=False, name='dot-product')\n",
    "\n",
    "model = Model([user_input, anime_input], prod)\n",
    "model.compile('adam', 'mean_squared_error'\n",
    "              #,metrics=['mse']\n",
    "             )"
   ]
  },
  {
   "cell_type": "code",
   "execution_count": 32,
   "id": "bfa0872b",
   "metadata": {},
   "outputs": [
    {
     "data": {
      "image/svg+xml": [
       "<svg xmlns=\"http://www.w3.org/2000/svg\" xmlns:xlink=\"http://www.w3.org/1999/xlink\" width=\"758pt\" height=\"274pt\" viewBox=\"0.00 0.00 840.00 304.00\">\n",
       "<g id=\"graph0\" class=\"graph\" transform=\"scale(0.9 0.9) rotate(0) translate(4 300)\">\n",
       "<title>G</title>\n",
       "<polygon fill=\"white\" stroke=\"transparent\" points=\"-4,4 -4,-300 836,-300 836,4 -4,4\"/>\n",
       "<!-- 140350992304640 -->\n",
       "<g id=\"node1\" class=\"node\">\n",
       "<title>140350992304640</title>\n",
       "<polygon fill=\"none\" stroke=\"black\" points=\"31,-249.5 31,-295.5 382,-295.5 382,-249.5 31,-249.5\"/>\n",
       "<text text-anchor=\"middle\" x=\"126\" y=\"-268.8\" font-family=\"Times,serif\" font-size=\"14.00\">anime-input: InputLayer</text>\n",
       "<polyline fill=\"none\" stroke=\"black\" points=\"221,-249.5 221,-295.5 \"/>\n",
       "<text text-anchor=\"middle\" x=\"255\" y=\"-280.3\" font-family=\"Times,serif\" font-size=\"14.00\">input:</text>\n",
       "<polyline fill=\"none\" stroke=\"black\" points=\"221,-272.5 289,-272.5 \"/>\n",
       "<text text-anchor=\"middle\" x=\"255\" y=\"-257.3\" font-family=\"Times,serif\" font-size=\"14.00\">output:</text>\n",
       "<polyline fill=\"none\" stroke=\"black\" points=\"289,-249.5 289,-295.5 \"/>\n",
       "<text text-anchor=\"middle\" x=\"335.5\" y=\"-280.3\" font-family=\"Times,serif\" font-size=\"14.00\">[(None, 1)]</text>\n",
       "<polyline fill=\"none\" stroke=\"black\" points=\"289,-272.5 382,-272.5 \"/>\n",
       "<text text-anchor=\"middle\" x=\"335.5\" y=\"-257.3\" font-family=\"Times,serif\" font-size=\"14.00\">[(None, 1)]</text>\n",
       "</g>\n",
       "<!-- 140350992304832 -->\n",
       "<g id=\"node3\" class=\"node\">\n",
       "<title>140350992304832</title>\n",
       "<polygon fill=\"none\" stroke=\"black\" points=\"0,-166.5 0,-212.5 413,-212.5 413,-166.5 0,-166.5\"/>\n",
       "<text text-anchor=\"middle\" x=\"117.5\" y=\"-185.8\" font-family=\"Times,serif\" font-size=\"14.00\">anime-embedding: Embedding</text>\n",
       "<polyline fill=\"none\" stroke=\"black\" points=\"235,-166.5 235,-212.5 \"/>\n",
       "<text text-anchor=\"middle\" x=\"269\" y=\"-197.3\" font-family=\"Times,serif\" font-size=\"14.00\">input:</text>\n",
       "<polyline fill=\"none\" stroke=\"black\" points=\"235,-189.5 303,-189.5 \"/>\n",
       "<text text-anchor=\"middle\" x=\"269\" y=\"-174.3\" font-family=\"Times,serif\" font-size=\"14.00\">output:</text>\n",
       "<polyline fill=\"none\" stroke=\"black\" points=\"303,-166.5 303,-212.5 \"/>\n",
       "<text text-anchor=\"middle\" x=\"358\" y=\"-197.3\" font-family=\"Times,serif\" font-size=\"14.00\">(None, 1)</text>\n",
       "<polyline fill=\"none\" stroke=\"black\" points=\"303,-189.5 413,-189.5 \"/>\n",
       "<text text-anchor=\"middle\" x=\"358\" y=\"-174.3\" font-family=\"Times,serif\" font-size=\"14.00\">(None, 1, 10)</text>\n",
       "</g>\n",
       "<!-- 140350992304640&#45;&gt;140350992304832 -->\n",
       "<g id=\"edge1\" class=\"edge\">\n",
       "<title>140350992304640-&gt;140350992304832</title>\n",
       "<path fill=\"none\" stroke=\"black\" d=\"M206.5,-249.37C206.5,-241.15 206.5,-231.66 206.5,-222.73\"/>\n",
       "<polygon fill=\"black\" stroke=\"black\" points=\"210,-222.61 206.5,-212.61 203,-222.61 210,-222.61\"/>\n",
       "</g>\n",
       "<!-- 140350992304784 -->\n",
       "<g id=\"node2\" class=\"node\">\n",
       "<title>140350992304784</title>\n",
       "<polygon fill=\"none\" stroke=\"black\" points=\"462,-249.5 462,-295.5 801,-295.5 801,-249.5 462,-249.5\"/>\n",
       "<text text-anchor=\"middle\" x=\"551\" y=\"-268.8\" font-family=\"Times,serif\" font-size=\"14.00\">user-input: InputLayer</text>\n",
       "<polyline fill=\"none\" stroke=\"black\" points=\"640,-249.5 640,-295.5 \"/>\n",
       "<text text-anchor=\"middle\" x=\"674\" y=\"-280.3\" font-family=\"Times,serif\" font-size=\"14.00\">input:</text>\n",
       "<polyline fill=\"none\" stroke=\"black\" points=\"640,-272.5 708,-272.5 \"/>\n",
       "<text text-anchor=\"middle\" x=\"674\" y=\"-257.3\" font-family=\"Times,serif\" font-size=\"14.00\">output:</text>\n",
       "<polyline fill=\"none\" stroke=\"black\" points=\"708,-249.5 708,-295.5 \"/>\n",
       "<text text-anchor=\"middle\" x=\"754.5\" y=\"-280.3\" font-family=\"Times,serif\" font-size=\"14.00\">[(None, 1)]</text>\n",
       "<polyline fill=\"none\" stroke=\"black\" points=\"708,-272.5 801,-272.5 \"/>\n",
       "<text text-anchor=\"middle\" x=\"754.5\" y=\"-257.3\" font-family=\"Times,serif\" font-size=\"14.00\">[(None, 1)]</text>\n",
       "</g>\n",
       "<!-- 140354167837264 -->\n",
       "<g id=\"node4\" class=\"node\">\n",
       "<title>140354167837264</title>\n",
       "<polygon fill=\"none\" stroke=\"black\" points=\"431,-166.5 431,-212.5 832,-212.5 832,-166.5 431,-166.5\"/>\n",
       "<text text-anchor=\"middle\" x=\"542.5\" y=\"-185.8\" font-family=\"Times,serif\" font-size=\"14.00\">user-embedding: Embedding</text>\n",
       "<polyline fill=\"none\" stroke=\"black\" points=\"654,-166.5 654,-212.5 \"/>\n",
       "<text text-anchor=\"middle\" x=\"688\" y=\"-197.3\" font-family=\"Times,serif\" font-size=\"14.00\">input:</text>\n",
       "<polyline fill=\"none\" stroke=\"black\" points=\"654,-189.5 722,-189.5 \"/>\n",
       "<text text-anchor=\"middle\" x=\"688\" y=\"-174.3\" font-family=\"Times,serif\" font-size=\"14.00\">output:</text>\n",
       "<polyline fill=\"none\" stroke=\"black\" points=\"722,-166.5 722,-212.5 \"/>\n",
       "<text text-anchor=\"middle\" x=\"777\" y=\"-197.3\" font-family=\"Times,serif\" font-size=\"14.00\">(None, 1)</text>\n",
       "<polyline fill=\"none\" stroke=\"black\" points=\"722,-189.5 832,-189.5 \"/>\n",
       "<text text-anchor=\"middle\" x=\"777\" y=\"-174.3\" font-family=\"Times,serif\" font-size=\"14.00\">(None, 1, 10)</text>\n",
       "</g>\n",
       "<!-- 140350992304784&#45;&gt;140354167837264 -->\n",
       "<g id=\"edge2\" class=\"edge\">\n",
       "<title>140350992304784-&gt;140354167837264</title>\n",
       "<path fill=\"none\" stroke=\"black\" d=\"M631.5,-249.37C631.5,-241.15 631.5,-231.66 631.5,-222.73\"/>\n",
       "<polygon fill=\"black\" stroke=\"black\" points=\"635,-222.61 631.5,-212.61 628,-222.61 635,-222.61\"/>\n",
       "</g>\n",
       "<!-- 140350992506736 -->\n",
       "<g id=\"node5\" class=\"node\">\n",
       "<title>140350992506736</title>\n",
       "<polygon fill=\"none\" stroke=\"black\" points=\"62.5,-83.5 62.5,-129.5 412.5,-129.5 412.5,-83.5 62.5,-83.5\"/>\n",
       "<text text-anchor=\"middle\" x=\"148.5\" y=\"-102.8\" font-family=\"Times,serif\" font-size=\"14.00\">anime-flatten: Flatten</text>\n",
       "<polyline fill=\"none\" stroke=\"black\" points=\"234.5,-83.5 234.5,-129.5 \"/>\n",
       "<text text-anchor=\"middle\" x=\"268.5\" y=\"-114.3\" font-family=\"Times,serif\" font-size=\"14.00\">input:</text>\n",
       "<polyline fill=\"none\" stroke=\"black\" points=\"234.5,-106.5 302.5,-106.5 \"/>\n",
       "<text text-anchor=\"middle\" x=\"268.5\" y=\"-91.3\" font-family=\"Times,serif\" font-size=\"14.00\">output:</text>\n",
       "<polyline fill=\"none\" stroke=\"black\" points=\"302.5,-83.5 302.5,-129.5 \"/>\n",
       "<text text-anchor=\"middle\" x=\"357.5\" y=\"-114.3\" font-family=\"Times,serif\" font-size=\"14.00\">(None, 1, 10)</text>\n",
       "<polyline fill=\"none\" stroke=\"black\" points=\"302.5,-106.5 412.5,-106.5 \"/>\n",
       "<text text-anchor=\"middle\" x=\"357.5\" y=\"-91.3\" font-family=\"Times,serif\" font-size=\"14.00\">(None, 10)</text>\n",
       "</g>\n",
       "<!-- 140350992304832&#45;&gt;140350992506736 -->\n",
       "<g id=\"edge3\" class=\"edge\">\n",
       "<title>140350992304832-&gt;140350992506736</title>\n",
       "<path fill=\"none\" stroke=\"black\" d=\"M214.97,-166.37C218.18,-157.97 221.91,-148.24 225.39,-139.14\"/>\n",
       "<polygon fill=\"black\" stroke=\"black\" points=\"228.73,-140.2 229.04,-129.61 222.2,-137.7 228.73,-140.2\"/>\n",
       "</g>\n",
       "<!-- 140350992651264 -->\n",
       "<g id=\"node6\" class=\"node\">\n",
       "<title>140350992651264</title>\n",
       "<polygon fill=\"none\" stroke=\"black\" points=\"446.5,-83.5 446.5,-129.5 784.5,-129.5 784.5,-83.5 446.5,-83.5\"/>\n",
       "<text text-anchor=\"middle\" x=\"526.5\" y=\"-102.8\" font-family=\"Times,serif\" font-size=\"14.00\">user-flatten: Flatten</text>\n",
       "<polyline fill=\"none\" stroke=\"black\" points=\"606.5,-83.5 606.5,-129.5 \"/>\n",
       "<text text-anchor=\"middle\" x=\"640.5\" y=\"-114.3\" font-family=\"Times,serif\" font-size=\"14.00\">input:</text>\n",
       "<polyline fill=\"none\" stroke=\"black\" points=\"606.5,-106.5 674.5,-106.5 \"/>\n",
       "<text text-anchor=\"middle\" x=\"640.5\" y=\"-91.3\" font-family=\"Times,serif\" font-size=\"14.00\">output:</text>\n",
       "<polyline fill=\"none\" stroke=\"black\" points=\"674.5,-83.5 674.5,-129.5 \"/>\n",
       "<text text-anchor=\"middle\" x=\"729.5\" y=\"-114.3\" font-family=\"Times,serif\" font-size=\"14.00\">(None, 1, 10)</text>\n",
       "<polyline fill=\"none\" stroke=\"black\" points=\"674.5,-106.5 784.5,-106.5 \"/>\n",
       "<text text-anchor=\"middle\" x=\"729.5\" y=\"-91.3\" font-family=\"Times,serif\" font-size=\"14.00\">(None, 10)</text>\n",
       "</g>\n",
       "<!-- 140354167837264&#45;&gt;140350992651264 -->\n",
       "<g id=\"edge4\" class=\"edge\">\n",
       "<title>140354167837264-&gt;140350992651264</title>\n",
       "<path fill=\"none\" stroke=\"black\" d=\"M627.13,-166.37C625.49,-158.06 623.59,-148.45 621.81,-139.43\"/>\n",
       "<polygon fill=\"black\" stroke=\"black\" points=\"625.24,-138.74 619.87,-129.61 618.37,-140.1 625.24,-138.74\"/>\n",
       "</g>\n",
       "<!-- 140350992675936 -->\n",
       "<g id=\"node7\" class=\"node\">\n",
       "<title>140350992675936</title>\n",
       "<polygon fill=\"none\" stroke=\"black\" points=\"246.5,-0.5 246.5,-46.5 590.5,-46.5 590.5,-0.5 246.5,-0.5\"/>\n",
       "<text text-anchor=\"middle\" x=\"291.5\" y=\"-19.8\" font-family=\"Times,serif\" font-size=\"14.00\">dot_2: Dot</text>\n",
       "<polyline fill=\"none\" stroke=\"black\" points=\"336.5,-0.5 336.5,-46.5 \"/>\n",
       "<text text-anchor=\"middle\" x=\"370.5\" y=\"-31.3\" font-family=\"Times,serif\" font-size=\"14.00\">input:</text>\n",
       "<polyline fill=\"none\" stroke=\"black\" points=\"336.5,-23.5 404.5,-23.5 \"/>\n",
       "<text text-anchor=\"middle\" x=\"370.5\" y=\"-8.3\" font-family=\"Times,serif\" font-size=\"14.00\">output:</text>\n",
       "<polyline fill=\"none\" stroke=\"black\" points=\"404.5,-0.5 404.5,-46.5 \"/>\n",
       "<text text-anchor=\"middle\" x=\"497.5\" y=\"-31.3\" font-family=\"Times,serif\" font-size=\"14.00\">[(None, 10), (None, 10)]</text>\n",
       "<polyline fill=\"none\" stroke=\"black\" points=\"404.5,-23.5 590.5,-23.5 \"/>\n",
       "<text text-anchor=\"middle\" x=\"497.5\" y=\"-8.3\" font-family=\"Times,serif\" font-size=\"14.00\">(None, 1)</text>\n",
       "</g>\n",
       "<!-- 140350992506736&#45;&gt;140350992675936 -->\n",
       "<g id=\"edge5\" class=\"edge\">\n",
       "<title>140350992506736-&gt;140350992675936</title>\n",
       "<path fill=\"none\" stroke=\"black\" d=\"M286.96,-83.37C309.51,-73.28 336.36,-61.26 359.91,-50.72\"/>\n",
       "<polygon fill=\"black\" stroke=\"black\" points=\"361.4,-53.89 369.1,-46.61 358.54,-47.5 361.4,-53.89\"/>\n",
       "</g>\n",
       "<!-- 140350992651264&#45;&gt;140350992675936 -->\n",
       "<g id=\"edge6\" class=\"edge\">\n",
       "<title>140350992651264-&gt;140350992675936</title>\n",
       "<path fill=\"none\" stroke=\"black\" d=\"M561.93,-83.47C537.07,-73.25 507.35,-61.03 481.42,-50.37\"/>\n",
       "<polygon fill=\"black\" stroke=\"black\" points=\"482.64,-47.09 472.06,-46.52 479.98,-53.56 482.64,-47.09\"/>\n",
       "</g>\n",
       "</g>\n",
       "</svg>"
      ],
      "text/plain": [
       "<IPython.core.display.SVG object>"
      ]
     },
     "execution_count": 32,
     "metadata": {},
     "output_type": "execute_result"
    }
   ],
   "source": [
    "#SVG(model_to_dot(model, show_shapes=True).create(prog='dot', format='svg'))\n",
    "SVG(model_to_dot(model, show_shapes= True, show_layer_names=True, dpi=65).create(prog='dot', format='svg'))"
   ]
  },
  {
   "cell_type": "code",
   "execution_count": 29,
   "id": "9a4905e2",
   "metadata": {},
   "outputs": [
    {
     "name": "stdout",
     "output_type": "stream",
     "text": [
      "user_input (None, 1)\n",
      "anime_input (None, 1)\n"
     ]
    }
   ],
   "source": [
    "print('user_input',user_input.shape)\n",
    "print('anime_input',anime_input.shape)"
   ]
  },
  {
   "cell_type": "code",
   "execution_count": 19,
   "id": "384c4d29",
   "metadata": {},
   "outputs": [
    {
     "name": "stdout",
     "output_type": "stream",
     "text": [
      "Model: \"model\"\n",
      "__________________________________________________________________________________________________\n",
      "Layer (type)                    Output Shape         Param #     Connected to                     \n",
      "==================================================================================================\n",
      "anime-input (InputLayer)        [(None, 1)]          0                                            \n",
      "__________________________________________________________________________________________________\n",
      "user-input (InputLayer)         [(None, 1)]          0                                            \n",
      "__________________________________________________________________________________________________\n",
      "anime-embedding (Embedding)     (None, 1, 10)        121070      anime-input[0][0]                \n",
      "__________________________________________________________________________________________________\n",
      "user-embedding (Embedding)      (None, 1, 10)        40360       user-input[0][0]                 \n",
      "__________________________________________________________________________________________________\n",
      "anime-flatten (Flatten)         (None, 10)           0           anime-embedding[0][0]            \n",
      "__________________________________________________________________________________________________\n",
      "user-flatten (Flatten)          (None, 10)           0           user-embedding[0][0]             \n",
      "__________________________________________________________________________________________________\n",
      "dot (Dot)                       (None, 1)            0           anime-flatten[0][0]              \n",
      "                                                                 user-flatten[0][0]               \n",
      "==================================================================================================\n",
      "Total params: 161,430\n",
      "Trainable params: 161,430\n",
      "Non-trainable params: 0\n",
      "__________________________________________________________________________________________________\n"
     ]
    }
   ],
   "source": [
    "model.summary()"
   ]
  },
  {
   "cell_type": "code",
   "execution_count": 20,
   "id": "aaf80e06",
   "metadata": {},
   "outputs": [],
   "source": [
    "dataset.rating = dataset.rating.astype(float)"
   ]
  },
  {
   "cell_type": "code",
   "execution_count": 21,
   "id": "d891ccac",
   "metadata": {},
   "outputs": [
    {
     "data": {
      "text/plain": [
       "user_id       int64\n",
       "anime_id      int64\n",
       "rating      float64\n",
       "dtype: object"
      ]
     },
     "execution_count": 21,
     "metadata": {},
     "output_type": "execute_result"
    }
   ],
   "source": [
    "dataset.dtypes"
   ]
  },
  {
   "cell_type": "code",
   "execution_count": 22,
   "id": "7bae4f93",
   "metadata": {
    "scrolled": true
   },
   "outputs": [
    {
     "data": {
      "text/plain": [
       "(657934,)"
      ]
     },
     "execution_count": 22,
     "metadata": {},
     "output_type": "execute_result"
    }
   ],
   "source": [
    "train.user_id.shape"
   ]
  },
  {
   "cell_type": "code",
   "execution_count": 23,
   "id": "bcd6d17a",
   "metadata": {},
   "outputs": [
    {
     "data": {
      "text/plain": [
       "(657934,)"
      ]
     },
     "execution_count": 23,
     "metadata": {},
     "output_type": "execute_result"
    }
   ],
   "source": [
    "train.anime_id.shape"
   ]
  },
  {
   "cell_type": "code",
   "execution_count": 24,
   "id": "6e693b5a",
   "metadata": {},
   "outputs": [
    {
     "data": {
      "text/plain": [
       "(657934,)"
      ]
     },
     "execution_count": 24,
     "metadata": {},
     "output_type": "execute_result"
    }
   ],
   "source": [
    "train.rating.shape"
   ]
  },
  {
   "cell_type": "code",
   "execution_count": 26,
   "id": "f265e082",
   "metadata": {},
   "outputs": [
    {
     "name": "stdout",
     "output_type": "stream",
     "text": [
      "Epoch 1/10\n",
      "20561/20561 [==============================] - 46s 2ms/step - loss: 1.9560\n",
      "Epoch 2/10\n",
      "20561/20561 [==============================] - 47s 2ms/step - loss: 1.8728\n",
      "Epoch 3/10\n",
      "20561/20561 [==============================] - 41s 2ms/step - loss: 1.7890\n",
      "Epoch 4/10\n",
      "20561/20561 [==============================] - 44s 2ms/step - loss: 1.7101\n",
      "Epoch 5/10\n",
      "20561/20561 [==============================] - 44s 2ms/step - loss: 1.6472\n",
      "Epoch 6/10\n",
      "20561/20561 [==============================] - 43s 2ms/step - loss: 1.5996\n",
      "Epoch 7/10\n",
      "20561/20561 [==============================] - 43s 2ms/step - loss: 1.5588\n",
      "Epoch 8/10\n",
      "20561/20561 [==============================] - 43s 2ms/step - loss: 1.5221\n",
      "Epoch 9/10\n",
      "20561/20561 [==============================] - 44s 2ms/step - loss: 1.4883\n",
      "Epoch 10/10\n",
      "20561/20561 [==============================] - 43s 2ms/step - loss: 1.4577\n"
     ]
    }
   ],
   "source": [
    "import matplotlib.pyplot as plt\n",
    "from sklearn.metrics import mean_absolute_error\n",
    "\n",
    "history = model.fit([train.user_id, train.anime_id], train.rating, epochs=10)"
   ]
  },
  {
   "cell_type": "code",
   "execution_count": 33,
   "id": "21575405",
   "metadata": {},
   "outputs": [
    {
     "data": {
      "image/png": "[encoded data removed]",
      "text/plain": [
       "<Figure size 432x288 with 1 Axes>"
      ]
     },
     "metadata": {
      "needs_background": "light"
     },
     "output_type": "display_data"
    },
    {
     "data": {
      "text/plain": [
       "7.463299044284041"
      ]
     },
     "execution_count": 33,
     "metadata": {},
     "output_type": "execute_result"
    }
   ],
   "source": [
    "pd.Series(history.history['loss']).plot(logy=True)\n",
    "plt.xlabel(\"Epoch\")\n",
    "plt.ylabel(\"Train Error\")\n",
    "plt.show()\n",
    "\n",
    "y_hat = np.round(model.predict([test.user_id, test.anime_id]), decimals=2)\n",
    "y_true = test.rating\n",
    "mean_absolute_error(y_true, y_hat)"
   ]
  },
  {
   "cell_type": "markdown",
   "id": "77952ec0",
   "metadata": {},
   "source": []
  },
  {
   "cell_type": "markdown",
   "id": "ce627422",
   "metadata": {},
   "source": [
    "## non-negative matrix factorization"
   ]
  },
  {
   "cell_type": "code",
   "execution_count": 36,
   "id": "e6667968",
   "metadata": {},
   "outputs": [],
   "source": [
    "from keras.constraints import non_neg\n",
    "\n",
    "latent_dim = 5\n",
    "\n",
    "anime_input = Input(shape=[1],name='anime-input')\n",
    "anime_embedding = Embedding(num_animes + 1, latent_dim, name='anime-embedding',\n",
    "                                                        embeddings_constraint=non_neg())(anime_input)\n",
    "anime_vec = Flatten(name='anime-flatten')(anime_embedding)\n",
    "\n",
    "user_input = Input(shape=[1],name='user-input')\n",
    "user_embedding = Embedding(num_users + 1, latent_dim, name='user-embedding',\n",
    "                                                      embeddings_constraint=non_neg())(user_input)\n",
    "user_vec = Flatten(name='user-flatten')(user_embedding)\n",
    "\n",
    "prod = dot([anime_vec, user_vec], axes=1, normalize=False, name='dot-product')\n",
    "\n",
    "model = Model([user_input, anime_input], prod)\n",
    "model.compile('adam', 'mean_squared_error')"
   ]
  },
  {
   "cell_type": "code",
   "execution_count": null,
   "id": "6fea079c",
   "metadata": {},
   "outputs": [],
   "source": []
  },
  {
   "cell_type": "code",
   "execution_count": 46,
   "id": "5d51245d",
   "metadata": {},
   "outputs": [
    {
     "data": {
      "image/svg+xml": [
       "<svg xmlns=\"http://www.w3.org/2000/svg\" xmlns:xlink=\"http://www.w3.org/1999/xlink\" width=\"758pt\" height=\"649pt\" viewBox=\"0.00 0.00 840.00 719.00\">\n",
       "<g id=\"graph0\" class=\"graph\" transform=\"scale(0.9 0.9) rotate(0) translate(4 715)\">\n",
       "<title>G</title>\n",
       "<polygon fill=\"white\" stroke=\"transparent\" points=\"-4,4 -4,-715 836,-715 836,4 -4,4\"/>\n",
       "<!-- 140350991298368 -->\n",
       "<g id=\"node1\" class=\"node\">\n",
       "<title>140350991298368</title>\n",
       "<polygon fill=\"none\" stroke=\"black\" points=\"31,-664.5 31,-710.5 382,-710.5 382,-664.5 31,-664.5\"/>\n",
       "<text text-anchor=\"middle\" x=\"126\" y=\"-683.8\" font-family=\"Times,serif\" font-size=\"14.00\">anime-input: InputLayer</text>\n",
       "<polyline fill=\"none\" stroke=\"black\" points=\"221,-664.5 221,-710.5 \"/>\n",
       "<text text-anchor=\"middle\" x=\"255\" y=\"-695.3\" font-family=\"Times,serif\" font-size=\"14.00\">input:</text>\n",
       "<polyline fill=\"none\" stroke=\"black\" points=\"221,-687.5 289,-687.5 \"/>\n",
       "<text text-anchor=\"middle\" x=\"255\" y=\"-672.3\" font-family=\"Times,serif\" font-size=\"14.00\">output:</text>\n",
       "<polyline fill=\"none\" stroke=\"black\" points=\"289,-664.5 289,-710.5 \"/>\n",
       "<text text-anchor=\"middle\" x=\"335.5\" y=\"-695.3\" font-family=\"Times,serif\" font-size=\"14.00\">[(None, 1)]</text>\n",
       "<polyline fill=\"none\" stroke=\"black\" points=\"289,-687.5 382,-687.5 \"/>\n",
       "<text text-anchor=\"middle\" x=\"335.5\" y=\"-672.3\" font-family=\"Times,serif\" font-size=\"14.00\">[(None, 1)]</text>\n",
       "</g>\n",
       "<!-- 140350991297504 -->\n",
       "<g id=\"node3\" class=\"node\">\n",
       "<title>140350991297504</title>\n",
       "<polygon fill=\"none\" stroke=\"black\" points=\"0,-581.5 0,-627.5 413,-627.5 413,-581.5 0,-581.5\"/>\n",
       "<text text-anchor=\"middle\" x=\"117.5\" y=\"-600.8\" font-family=\"Times,serif\" font-size=\"14.00\">anime-embedding: Embedding</text>\n",
       "<polyline fill=\"none\" stroke=\"black\" points=\"235,-581.5 235,-627.5 \"/>\n",
       "<text text-anchor=\"middle\" x=\"269\" y=\"-612.3\" font-family=\"Times,serif\" font-size=\"14.00\">input:</text>\n",
       "<polyline fill=\"none\" stroke=\"black\" points=\"235,-604.5 303,-604.5 \"/>\n",
       "<text text-anchor=\"middle\" x=\"269\" y=\"-589.3\" font-family=\"Times,serif\" font-size=\"14.00\">output:</text>\n",
       "<polyline fill=\"none\" stroke=\"black\" points=\"303,-581.5 303,-627.5 \"/>\n",
       "<text text-anchor=\"middle\" x=\"358\" y=\"-612.3\" font-family=\"Times,serif\" font-size=\"14.00\">(None, 1)</text>\n",
       "<polyline fill=\"none\" stroke=\"black\" points=\"303,-604.5 413,-604.5 \"/>\n",
       "<text text-anchor=\"middle\" x=\"358\" y=\"-589.3\" font-family=\"Times,serif\" font-size=\"14.00\">(None, 1, 10)</text>\n",
       "</g>\n",
       "<!-- 140350991298368&#45;&gt;140350991297504 -->\n",
       "<g id=\"edge1\" class=\"edge\">\n",
       "<title>140350991298368-&gt;140350991297504</title>\n",
       "<path fill=\"none\" stroke=\"black\" d=\"M206.5,-664.37C206.5,-656.15 206.5,-646.66 206.5,-637.73\"/>\n",
       "<polygon fill=\"black\" stroke=\"black\" points=\"210,-637.61 206.5,-627.61 203,-637.61 210,-637.61\"/>\n",
       "</g>\n",
       "<!-- 140353633419216 -->\n",
       "<g id=\"node2\" class=\"node\">\n",
       "<title>140353633419216</title>\n",
       "<polygon fill=\"none\" stroke=\"black\" points=\"462,-664.5 462,-710.5 801,-710.5 801,-664.5 462,-664.5\"/>\n",
       "<text text-anchor=\"middle\" x=\"551\" y=\"-683.8\" font-family=\"Times,serif\" font-size=\"14.00\">user-input: InputLayer</text>\n",
       "<polyline fill=\"none\" stroke=\"black\" points=\"640,-664.5 640,-710.5 \"/>\n",
       "<text text-anchor=\"middle\" x=\"674\" y=\"-695.3\" font-family=\"Times,serif\" font-size=\"14.00\">input:</text>\n",
       "<polyline fill=\"none\" stroke=\"black\" points=\"640,-687.5 708,-687.5 \"/>\n",
       "<text text-anchor=\"middle\" x=\"674\" y=\"-672.3\" font-family=\"Times,serif\" font-size=\"14.00\">output:</text>\n",
       "<polyline fill=\"none\" stroke=\"black\" points=\"708,-664.5 708,-710.5 \"/>\n",
       "<text text-anchor=\"middle\" x=\"754.5\" y=\"-695.3\" font-family=\"Times,serif\" font-size=\"14.00\">[(None, 1)]</text>\n",
       "<polyline fill=\"none\" stroke=\"black\" points=\"708,-687.5 801,-687.5 \"/>\n",
       "<text text-anchor=\"middle\" x=\"754.5\" y=\"-672.3\" font-family=\"Times,serif\" font-size=\"14.00\">[(None, 1)]</text>\n",
       "</g>\n",
       "<!-- 140350994093536 -->\n",
       "<g id=\"node4\" class=\"node\">\n",
       "<title>140350994093536</title>\n",
       "<polygon fill=\"none\" stroke=\"black\" points=\"431,-581.5 431,-627.5 832,-627.5 832,-581.5 431,-581.5\"/>\n",
       "<text text-anchor=\"middle\" x=\"542.5\" y=\"-600.8\" font-family=\"Times,serif\" font-size=\"14.00\">user-embedding: Embedding</text>\n",
       "<polyline fill=\"none\" stroke=\"black\" points=\"654,-581.5 654,-627.5 \"/>\n",
       "<text text-anchor=\"middle\" x=\"688\" y=\"-612.3\" font-family=\"Times,serif\" font-size=\"14.00\">input:</text>\n",
       "<polyline fill=\"none\" stroke=\"black\" points=\"654,-604.5 722,-604.5 \"/>\n",
       "<text text-anchor=\"middle\" x=\"688\" y=\"-589.3\" font-family=\"Times,serif\" font-size=\"14.00\">output:</text>\n",
       "<polyline fill=\"none\" stroke=\"black\" points=\"722,-581.5 722,-627.5 \"/>\n",
       "<text text-anchor=\"middle\" x=\"777\" y=\"-612.3\" font-family=\"Times,serif\" font-size=\"14.00\">(None, 1)</text>\n",
       "<polyline fill=\"none\" stroke=\"black\" points=\"722,-604.5 832,-604.5 \"/>\n",
       "<text text-anchor=\"middle\" x=\"777\" y=\"-589.3\" font-family=\"Times,serif\" font-size=\"14.00\">(None, 1, 10)</text>\n",
       "</g>\n",
       "<!-- 140353633419216&#45;&gt;140350994093536 -->\n",
       "<g id=\"edge2\" class=\"edge\">\n",
       "<title>140353633419216-&gt;140350994093536</title>\n",
       "<path fill=\"none\" stroke=\"black\" d=\"M631.5,-664.37C631.5,-656.15 631.5,-646.66 631.5,-637.73\"/>\n",
       "<polygon fill=\"black\" stroke=\"black\" points=\"635,-637.61 631.5,-627.61 628,-637.61 635,-637.61\"/>\n",
       "</g>\n",
       "<!-- 140353633593808 -->\n",
       "<g id=\"node5\" class=\"node\">\n",
       "<title>140353633593808</title>\n",
       "<polygon fill=\"none\" stroke=\"black\" points=\"62.5,-498.5 62.5,-544.5 412.5,-544.5 412.5,-498.5 62.5,-498.5\"/>\n",
       "<text text-anchor=\"middle\" x=\"148.5\" y=\"-517.8\" font-family=\"Times,serif\" font-size=\"14.00\">anime-flatten: Flatten</text>\n",
       "<polyline fill=\"none\" stroke=\"black\" points=\"234.5,-498.5 234.5,-544.5 \"/>\n",
       "<text text-anchor=\"middle\" x=\"268.5\" y=\"-529.3\" font-family=\"Times,serif\" font-size=\"14.00\">input:</text>\n",
       "<polyline fill=\"none\" stroke=\"black\" points=\"234.5,-521.5 302.5,-521.5 \"/>\n",
       "<text text-anchor=\"middle\" x=\"268.5\" y=\"-506.3\" font-family=\"Times,serif\" font-size=\"14.00\">output:</text>\n",
       "<polyline fill=\"none\" stroke=\"black\" points=\"302.5,-498.5 302.5,-544.5 \"/>\n",
       "<text text-anchor=\"middle\" x=\"357.5\" y=\"-529.3\" font-family=\"Times,serif\" font-size=\"14.00\">(None, 1, 10)</text>\n",
       "<polyline fill=\"none\" stroke=\"black\" points=\"302.5,-521.5 412.5,-521.5 \"/>\n",
       "<text text-anchor=\"middle\" x=\"357.5\" y=\"-506.3\" font-family=\"Times,serif\" font-size=\"14.00\">(None, 10)</text>\n",
       "</g>\n",
       "<!-- 140350991297504&#45;&gt;140353633593808 -->\n",
       "<g id=\"edge3\" class=\"edge\">\n",
       "<title>140350991297504-&gt;140353633593808</title>\n",
       "<path fill=\"none\" stroke=\"black\" d=\"M214.97,-581.37C218.18,-572.97 221.91,-563.24 225.39,-554.14\"/>\n",
       "<polygon fill=\"black\" stroke=\"black\" points=\"228.73,-555.2 229.04,-544.61 222.2,-552.7 228.73,-555.2\"/>\n",
       "</g>\n",
       "<!-- 140353633567120 -->\n",
       "<g id=\"node6\" class=\"node\">\n",
       "<title>140353633567120</title>\n",
       "<polygon fill=\"none\" stroke=\"black\" points=\"446.5,-498.5 446.5,-544.5 784.5,-544.5 784.5,-498.5 446.5,-498.5\"/>\n",
       "<text text-anchor=\"middle\" x=\"526.5\" y=\"-517.8\" font-family=\"Times,serif\" font-size=\"14.00\">user-flatten: Flatten</text>\n",
       "<polyline fill=\"none\" stroke=\"black\" points=\"606.5,-498.5 606.5,-544.5 \"/>\n",
       "<text text-anchor=\"middle\" x=\"640.5\" y=\"-529.3\" font-family=\"Times,serif\" font-size=\"14.00\">input:</text>\n",
       "<polyline fill=\"none\" stroke=\"black\" points=\"606.5,-521.5 674.5,-521.5 \"/>\n",
       "<text text-anchor=\"middle\" x=\"640.5\" y=\"-506.3\" font-family=\"Times,serif\" font-size=\"14.00\">output:</text>\n",
       "<polyline fill=\"none\" stroke=\"black\" points=\"674.5,-498.5 674.5,-544.5 \"/>\n",
       "<text text-anchor=\"middle\" x=\"729.5\" y=\"-529.3\" font-family=\"Times,serif\" font-size=\"14.00\">(None, 1, 10)</text>\n",
       "<polyline fill=\"none\" stroke=\"black\" points=\"674.5,-521.5 784.5,-521.5 \"/>\n",
       "<text text-anchor=\"middle\" x=\"729.5\" y=\"-506.3\" font-family=\"Times,serif\" font-size=\"14.00\">(None, 10)</text>\n",
       "</g>\n",
       "<!-- 140350994093536&#45;&gt;140353633567120 -->\n",
       "<g id=\"edge4\" class=\"edge\">\n",
       "<title>140350994093536-&gt;140353633567120</title>\n",
       "<path fill=\"none\" stroke=\"black\" d=\"M627.13,-581.37C625.49,-573.06 623.59,-563.45 621.81,-554.43\"/>\n",
       "<polygon fill=\"black\" stroke=\"black\" points=\"625.24,-553.74 619.87,-544.61 618.37,-555.1 625.24,-553.74\"/>\n",
       "</g>\n",
       "<!-- 140353633580896 -->\n",
       "<g id=\"node7\" class=\"node\">\n",
       "<title>140353633580896</title>\n",
       "<polygon fill=\"none\" stroke=\"black\" points=\"200.5,-415.5 200.5,-461.5 636.5,-461.5 636.5,-415.5 200.5,-415.5\"/>\n",
       "<text text-anchor=\"middle\" x=\"291.5\" y=\"-434.8\" font-family=\"Times,serif\" font-size=\"14.00\">anime-user-concat: Dot</text>\n",
       "<polyline fill=\"none\" stroke=\"black\" points=\"382.5,-415.5 382.5,-461.5 \"/>\n",
       "<text text-anchor=\"middle\" x=\"416.5\" y=\"-446.3\" font-family=\"Times,serif\" font-size=\"14.00\">input:</text>\n",
       "<polyline fill=\"none\" stroke=\"black\" points=\"382.5,-438.5 450.5,-438.5 \"/>\n",
       "<text text-anchor=\"middle\" x=\"416.5\" y=\"-423.3\" font-family=\"Times,serif\" font-size=\"14.00\">output:</text>\n",
       "<polyline fill=\"none\" stroke=\"black\" points=\"450.5,-415.5 450.5,-461.5 \"/>\n",
       "<text text-anchor=\"middle\" x=\"543.5\" y=\"-446.3\" font-family=\"Times,serif\" font-size=\"14.00\">[(None, 10), (None, 10)]</text>\n",
       "<polyline fill=\"none\" stroke=\"black\" points=\"450.5,-438.5 636.5,-438.5 \"/>\n",
       "<text text-anchor=\"middle\" x=\"543.5\" y=\"-423.3\" font-family=\"Times,serif\" font-size=\"14.00\">(None, 1)</text>\n",
       "</g>\n",
       "<!-- 140353633593808&#45;&gt;140353633580896 -->\n",
       "<g id=\"edge5\" class=\"edge\">\n",
       "<title>140353633593808-&gt;140353633580896</title>\n",
       "<path fill=\"none\" stroke=\"black\" d=\"M286.96,-498.37C309.51,-488.28 336.36,-476.26 359.91,-465.72\"/>\n",
       "<polygon fill=\"black\" stroke=\"black\" points=\"361.4,-468.89 369.1,-461.61 358.54,-462.5 361.4,-468.89\"/>\n",
       "</g>\n",
       "<!-- 140353633567120&#45;&gt;140353633580896 -->\n",
       "<g id=\"edge6\" class=\"edge\">\n",
       "<title>140353633567120-&gt;140353633580896</title>\n",
       "<path fill=\"none\" stroke=\"black\" d=\"M561.93,-498.47C537.07,-488.25 507.35,-476.03 481.42,-465.37\"/>\n",
       "<polygon fill=\"black\" stroke=\"black\" points=\"482.64,-462.09 472.06,-461.52 479.98,-468.56 482.64,-462.09\"/>\n",
       "</g>\n",
       "<!-- 140353633580560 -->\n",
       "<g id=\"node8\" class=\"node\">\n",
       "<title>140353633580560</title>\n",
       "<polygon fill=\"none\" stroke=\"black\" points=\"286,-332.5 286,-378.5 551,-378.5 551,-332.5 286,-332.5\"/>\n",
       "<text text-anchor=\"middle\" x=\"334\" y=\"-351.8\" font-family=\"Times,serif\" font-size=\"14.00\">fc-1: Dense</text>\n",
       "<polyline fill=\"none\" stroke=\"black\" points=\"382,-332.5 382,-378.5 \"/>\n",
       "<text text-anchor=\"middle\" x=\"416\" y=\"-363.3\" font-family=\"Times,serif\" font-size=\"14.00\">input:</text>\n",
       "<polyline fill=\"none\" stroke=\"black\" points=\"382,-355.5 450,-355.5 \"/>\n",
       "<text text-anchor=\"middle\" x=\"416\" y=\"-340.3\" font-family=\"Times,serif\" font-size=\"14.00\">output:</text>\n",
       "<polyline fill=\"none\" stroke=\"black\" points=\"450,-332.5 450,-378.5 \"/>\n",
       "<text text-anchor=\"middle\" x=\"500.5\" y=\"-363.3\" font-family=\"Times,serif\" font-size=\"14.00\">(None, 1)</text>\n",
       "<polyline fill=\"none\" stroke=\"black\" points=\"450,-355.5 551,-355.5 \"/>\n",
       "<text text-anchor=\"middle\" x=\"500.5\" y=\"-340.3\" font-family=\"Times,serif\" font-size=\"14.00\">(None, 100)</text>\n",
       "</g>\n",
       "<!-- 140353633580896&#45;&gt;140353633580560 -->\n",
       "<g id=\"edge7\" class=\"edge\">\n",
       "<title>140353633580896-&gt;140353633580560</title>\n",
       "<path fill=\"none\" stroke=\"black\" d=\"M418.5,-415.37C418.5,-407.15 418.5,-397.66 418.5,-388.73\"/>\n",
       "<polygon fill=\"black\" stroke=\"black\" points=\"422,-388.61 418.5,-378.61 415,-388.61 422,-388.61\"/>\n",
       "</g>\n",
       "<!-- 140353633581184 -->\n",
       "<g id=\"node9\" class=\"node\">\n",
       "<title>140353633581184</title>\n",
       "<polygon fill=\"none\" stroke=\"black\" points=\"248.5,-249.5 248.5,-295.5 588.5,-295.5 588.5,-249.5 248.5,-249.5\"/>\n",
       "<text text-anchor=\"middle\" x=\"334\" y=\"-268.8\" font-family=\"Times,serif\" font-size=\"14.00\">fc-1-dropout: Dropout</text>\n",
       "<polyline fill=\"none\" stroke=\"black\" points=\"419.5,-249.5 419.5,-295.5 \"/>\n",
       "<text text-anchor=\"middle\" x=\"453.5\" y=\"-280.3\" font-family=\"Times,serif\" font-size=\"14.00\">input:</text>\n",
       "<polyline fill=\"none\" stroke=\"black\" points=\"419.5,-272.5 487.5,-272.5 \"/>\n",
       "<text text-anchor=\"middle\" x=\"453.5\" y=\"-257.3\" font-family=\"Times,serif\" font-size=\"14.00\">output:</text>\n",
       "<polyline fill=\"none\" stroke=\"black\" points=\"487.5,-249.5 487.5,-295.5 \"/>\n",
       "<text text-anchor=\"middle\" x=\"538\" y=\"-280.3\" font-family=\"Times,serif\" font-size=\"14.00\">(None, 100)</text>\n",
       "<polyline fill=\"none\" stroke=\"black\" points=\"487.5,-272.5 588.5,-272.5 \"/>\n",
       "<text text-anchor=\"middle\" x=\"538\" y=\"-257.3\" font-family=\"Times,serif\" font-size=\"14.00\">(None, 100)</text>\n",
       "</g>\n",
       "<!-- 140353633580560&#45;&gt;140353633581184 -->\n",
       "<g id=\"edge8\" class=\"edge\">\n",
       "<title>140353633580560-&gt;140353633581184</title>\n",
       "<path fill=\"none\" stroke=\"black\" d=\"M418.5,-332.37C418.5,-324.15 418.5,-314.66 418.5,-305.73\"/>\n",
       "<polygon fill=\"black\" stroke=\"black\" points=\"422,-305.61 418.5,-295.61 415,-305.61 422,-305.61\"/>\n",
       "</g>\n",
       "<!-- 140353633427120 -->\n",
       "<g id=\"node10\" class=\"node\">\n",
       "<title>140353633427120</title>\n",
       "<polygon fill=\"none\" stroke=\"black\" points=\"286,-166.5 286,-212.5 551,-212.5 551,-166.5 286,-166.5\"/>\n",
       "<text text-anchor=\"middle\" x=\"334\" y=\"-185.8\" font-family=\"Times,serif\" font-size=\"14.00\">fc-2: Dense</text>\n",
       "<polyline fill=\"none\" stroke=\"black\" points=\"382,-166.5 382,-212.5 \"/>\n",
       "<text text-anchor=\"middle\" x=\"416\" y=\"-197.3\" font-family=\"Times,serif\" font-size=\"14.00\">input:</text>\n",
       "<polyline fill=\"none\" stroke=\"black\" points=\"382,-189.5 450,-189.5 \"/>\n",
       "<text text-anchor=\"middle\" x=\"416\" y=\"-174.3\" font-family=\"Times,serif\" font-size=\"14.00\">output:</text>\n",
       "<polyline fill=\"none\" stroke=\"black\" points=\"450,-166.5 450,-212.5 \"/>\n",
       "<text text-anchor=\"middle\" x=\"500.5\" y=\"-197.3\" font-family=\"Times,serif\" font-size=\"14.00\">(None, 100)</text>\n",
       "<polyline fill=\"none\" stroke=\"black\" points=\"450,-189.5 551,-189.5 \"/>\n",
       "<text text-anchor=\"middle\" x=\"500.5\" y=\"-174.3\" font-family=\"Times,serif\" font-size=\"14.00\">(None, 50)</text>\n",
       "</g>\n",
       "<!-- 140353633581184&#45;&gt;140353633427120 -->\n",
       "<g id=\"edge9\" class=\"edge\">\n",
       "<title>140353633581184-&gt;140353633427120</title>\n",
       "<path fill=\"none\" stroke=\"black\" d=\"M418.5,-249.37C418.5,-241.15 418.5,-231.66 418.5,-222.73\"/>\n",
       "<polygon fill=\"black\" stroke=\"black\" points=\"422,-222.61 418.5,-212.61 415,-222.61 422,-222.61\"/>\n",
       "</g>\n",
       "<!-- 140353633581520 -->\n",
       "<g id=\"node11\" class=\"node\">\n",
       "<title>140353633581520</title>\n",
       "<polygon fill=\"none\" stroke=\"black\" points=\"253,-83.5 253,-129.5 584,-129.5 584,-83.5 253,-83.5\"/>\n",
       "<text text-anchor=\"middle\" x=\"338.5\" y=\"-102.8\" font-family=\"Times,serif\" font-size=\"14.00\">fc-2-dropout: Dropout</text>\n",
       "<polyline fill=\"none\" stroke=\"black\" points=\"424,-83.5 424,-129.5 \"/>\n",
       "<text text-anchor=\"middle\" x=\"458\" y=\"-114.3\" font-family=\"Times,serif\" font-size=\"14.00\">input:</text>\n",
       "<polyline fill=\"none\" stroke=\"black\" points=\"424,-106.5 492,-106.5 \"/>\n",
       "<text text-anchor=\"middle\" x=\"458\" y=\"-91.3\" font-family=\"Times,serif\" font-size=\"14.00\">output:</text>\n",
       "<polyline fill=\"none\" stroke=\"black\" points=\"492,-83.5 492,-129.5 \"/>\n",
       "<text text-anchor=\"middle\" x=\"538\" y=\"-114.3\" font-family=\"Times,serif\" font-size=\"14.00\">(None, 50)</text>\n",
       "<polyline fill=\"none\" stroke=\"black\" points=\"492,-106.5 584,-106.5 \"/>\n",
       "<text text-anchor=\"middle\" x=\"538\" y=\"-91.3\" font-family=\"Times,serif\" font-size=\"14.00\">(None, 50)</text>\n",
       "</g>\n",
       "<!-- 140353633427120&#45;&gt;140353633581520 -->\n",
       "<g id=\"edge10\" class=\"edge\">\n",
       "<title>140353633427120-&gt;140353633581520</title>\n",
       "<path fill=\"none\" stroke=\"black\" d=\"M418.5,-166.37C418.5,-158.15 418.5,-148.66 418.5,-139.73\"/>\n",
       "<polygon fill=\"black\" stroke=\"black\" points=\"422,-139.61 418.5,-129.61 415,-139.61 422,-139.61\"/>\n",
       "</g>\n",
       "<!-- 140353633389440 -->\n",
       "<g id=\"node12\" class=\"node\">\n",
       "<title>140353633389440</title>\n",
       "<polygon fill=\"none\" stroke=\"black\" points=\"290.5,-0.5 290.5,-46.5 546.5,-46.5 546.5,-0.5 290.5,-0.5\"/>\n",
       "<text text-anchor=\"middle\" x=\"338.5\" y=\"-19.8\" font-family=\"Times,serif\" font-size=\"14.00\">fc-3: Dense</text>\n",
       "<polyline fill=\"none\" stroke=\"black\" points=\"386.5,-0.5 386.5,-46.5 \"/>\n",
       "<text text-anchor=\"middle\" x=\"420.5\" y=\"-31.3\" font-family=\"Times,serif\" font-size=\"14.00\">input:</text>\n",
       "<polyline fill=\"none\" stroke=\"black\" points=\"386.5,-23.5 454.5,-23.5 \"/>\n",
       "<text text-anchor=\"middle\" x=\"420.5\" y=\"-8.3\" font-family=\"Times,serif\" font-size=\"14.00\">output:</text>\n",
       "<polyline fill=\"none\" stroke=\"black\" points=\"454.5,-0.5 454.5,-46.5 \"/>\n",
       "<text text-anchor=\"middle\" x=\"500.5\" y=\"-31.3\" font-family=\"Times,serif\" font-size=\"14.00\">(None, 50)</text>\n",
       "<polyline fill=\"none\" stroke=\"black\" points=\"454.5,-23.5 546.5,-23.5 \"/>\n",
       "<text text-anchor=\"middle\" x=\"500.5\" y=\"-8.3\" font-family=\"Times,serif\" font-size=\"14.00\">(None, 1)</text>\n",
       "</g>\n",
       "<!-- 140353633581520&#45;&gt;140353633389440 -->\n",
       "<g id=\"edge11\" class=\"edge\">\n",
       "<title>140353633581520-&gt;140353633389440</title>\n",
       "<path fill=\"none\" stroke=\"black\" d=\"M418.5,-83.37C418.5,-75.15 418.5,-65.66 418.5,-56.73\"/>\n",
       "<polygon fill=\"black\" stroke=\"black\" points=\"422,-56.61 418.5,-46.61 415,-56.61 422,-56.61\"/>\n",
       "</g>\n",
       "</g>\n",
       "</svg>"
      ],
      "text/plain": [
       "<IPython.core.display.SVG object>"
      ]
     },
     "execution_count": 46,
     "metadata": {},
     "output_type": "execute_result"
    }
   ],
   "source": [
    "#SVG(model_to_dot(model, show_shapes=True).create(prog='dot', format='svg'))\n",
    "SVG(model_to_dot(model, show_shapes= True, show_layer_names=True, dpi=65).create(prog='dot', format='svg'))"
   ]
  },
  {
   "cell_type": "code",
   "execution_count": 40,
   "id": "aae3035d",
   "metadata": {},
   "outputs": [
    {
     "name": "stdout",
     "output_type": "stream",
     "text": [
      "Model: \"model_4\"\n",
      "__________________________________________________________________________________________________\n",
      "Layer (type)                    Output Shape         Param #     Connected to                     \n",
      "==================================================================================================\n",
      "anime-input (InputLayer)        [(None, 1)]          0                                            \n",
      "__________________________________________________________________________________________________\n",
      "user-input (InputLayer)         [(None, 1)]          0                                            \n",
      "__________________________________________________________________________________________________\n",
      "anime-embedding (Embedding)     (None, 1, 5)         60535       anime-input[0][0]                \n",
      "__________________________________________________________________________________________________\n",
      "user-embedding (Embedding)      (None, 1, 5)         20180       user-input[0][0]                 \n",
      "__________________________________________________________________________________________________\n",
      "anime-flatten (Flatten)         (None, 5)            0           anime-embedding[0][0]            \n",
      "__________________________________________________________________________________________________\n",
      "user-flatten (Flatten)          (None, 5)            0           user-embedding[0][0]             \n",
      "__________________________________________________________________________________________________\n",
      "dot-product (Dot)               (None, 1)            0           anime-flatten[0][0]              \n",
      "                                                                 user-flatten[0][0]               \n",
      "==================================================================================================\n",
      "Total params: 80,715\n",
      "Trainable params: 80,715\n",
      "Non-trainable params: 0\n",
      "__________________________________________________________________________________________________\n"
     ]
    }
   ],
   "source": [
    "model.summary()"
   ]
  },
  {
   "cell_type": "code",
   "execution_count": 48,
   "id": "b6ce4a48",
   "metadata": {},
   "outputs": [
    {
     "name": "stdout",
     "output_type": "stream",
     "text": [
      "Epoch 1/10\n",
      "20561/20561 [==============================] - 55s 3ms/step - loss: 3.1765\n",
      "Epoch 2/10\n",
      "20561/20561 [==============================] - 52s 3ms/step - loss: 3.1229\n",
      "Epoch 3/10\n",
      "20561/20561 [==============================] - 54s 3ms/step - loss: 3.1216\n",
      "Epoch 4/10\n",
      "20561/20561 [==============================] - 55s 3ms/step - loss: 3.1217\n",
      "Epoch 5/10\n",
      "20561/20561 [==============================] - 56s 3ms/step - loss: 3.1210\n",
      "Epoch 6/10\n",
      "20561/20561 [==============================] - 56s 3ms/step - loss: 3.1213\n",
      "Epoch 7/10\n",
      "20561/20561 [==============================] - 56s 3ms/step - loss: 3.1213\n",
      "Epoch 8/10\n",
      "20561/20561 [==============================] - 57s 3ms/step - loss: 3.1216\n",
      "Epoch 9/10\n",
      "20561/20561 [==============================] - 57s 3ms/step - loss: 3.1200\n",
      "Epoch 10/10\n",
      "20561/20561 [==============================] - 56s 3ms/step - loss: 3.1214\n"
     ]
    },
    {
     "data": {
      "image/png": "[encoded data removed]",
      "text/plain": [
       "<Figure size 432x288 with 1 Axes>"
      ]
     },
     "metadata": {
      "needs_background": "light"
     },
     "output_type": "display_data"
    },
    {
     "data": {
      "text/plain": [
       "1.379866734758396"
      ]
     },
     "execution_count": 48,
     "metadata": {},
     "output_type": "execute_result"
    }
   ],
   "source": [
    "import matplotlib.pyplot as plt\n",
    "from sklearn.metrics import mean_absolute_error\n",
    "\n",
    "history = model.fit([train.user_id, train.anime_id], train.rating, epochs=10)\n",
    "pd.Series(history.history['loss']).plot(logy=True)\n",
    "plt.xlabel(\"Epoch\")\n",
    "plt.ylabel(\"Train Error\")\n",
    "plt.show()\n",
    "\n",
    "y_hat = np.round(model.predict([test.user_id, test.anime_id]), decimals=2)\n",
    "y_true = test.rating\n",
    "mean_absolute_error(y_true, y_hat)"
   ]
  },
  {
   "cell_type": "code",
   "execution_count": null,
   "id": "b94fc91f",
   "metadata": {},
   "outputs": [],
   "source": []
  },
  {
   "cell_type": "markdown",
   "id": "29484d79",
   "metadata": {},
   "source": [
    "# Multi-Layer Perceptron"
   ]
  },
  {
   "cell_type": "code",
   "execution_count": 53,
   "id": "84bc0201",
   "metadata": {},
   "outputs": [],
   "source": [
    "from keras.layers import  BatchNormalization\n",
    "\n",
    "latent_dim = 10\n",
    "\n",
    "# Define inputs\n",
    "anime_input = Input(shape=[1],name='anime-input')\n",
    "user_input = Input(shape=[1], name='user-input')\n",
    "\n",
    "# MLP Embeddings\n",
    "anime_embedding_mlp = Embedding(num_animes + 1, latent_dim, name='anime-embedding-mlp')(anime_input)\n",
    "anime_vec_mlp = Flatten(name='flatten-anime-mlp')(anime_embedding_mlp)\n",
    "\n",
    "user_embedding_mlp = Embedding(num_users + 1, latent_dim, name='user-embedding-mlp')(user_input)\n",
    "user_vec_mlp = Flatten(name='flatten-user-mlp')(user_embedding_mlp)\n",
    "\n",
    "# MF Embeddings\n",
    "anime_embedding_mf = Embedding(num_animes + 1, latent_dim, name='anime-embedding-mf')(anime_input)\n",
    "anime_vec_mf = Flatten(name='flatten-anime-mf')(anime_embedding_mf)\n",
    "\n",
    "user_embedding_mf = Embedding(num_users + 1, latent_dim, name='user-embedding-mf')(user_input)\n",
    "user_vec_mf = Flatten(name='flatten-user-mf')(user_embedding_mf)\n",
    "\n",
    "# MLP layers\n",
    "concat = concatenate([anime_vec_mlp, user_vec_mlp], axis=1, name='concat')\n",
    "concat_dropout = Dropout(0.2)(concat)\n",
    "fc_1 = Dense(100, name='fc-1', activation='relu')(concat_dropout)\n",
    "fc_1_bn = BatchNormalization(name='batch-norm-1')(fc_1)\n",
    "fc_1_dropout = Dropout(0.2)(fc_1_bn)\n",
    "fc_2 = Dense(50, name='fc-2', activation='relu')(fc_1_dropout)\n",
    "fc_2_bn = BatchNormalization(name='batch-norm-2')(fc_2)\n",
    "fc_2_dropout = Dropout(0.2)(fc_2_bn)\n",
    "\n",
    "# Prediction from both layers\n",
    "pred_mlp = Dense(10, name='pred-mlp', activation='relu')(fc_2_dropout)\n",
    "pred_mf = dot([anime_vec_mf, user_vec_mf], axes=1, normalize=False, name='pred-mf')\n",
    "combine_mlp_mf = concatenate([pred_mf, pred_mlp], axis=1, name='combine-mlp-mf')\n",
    "\n",
    "# Final prediction\n",
    "result = Dense(1, name='result', activation='relu')(combine_mlp_mf)\n",
    "\n",
    "model = Model([user_input, anime_input], result)\n",
    "model.compile(Adam(learning_rate=0.01), loss='mean_absolute_error')"
   ]
  },
  {
   "cell_type": "code",
   "execution_count": 57,
   "id": "27d232f3",
   "metadata": {},
   "outputs": [
    {
     "data": {
      "image/svg+xml": [
       "<svg xmlns=\"http://www.w3.org/2000/svg\" xmlns:xlink=\"http://www.w3.org/1999/xlink\" width=\"1124pt\" height=\"709pt\" viewBox=\"0.00 0.00 1798.00 1134.00\">\n",
       "<g id=\"graph0\" class=\"graph\" transform=\"scale(0.62 0.62) rotate(0) translate(4 1130)\">\n",
       "<title>G</title>\n",
       "<polygon fill=\"white\" stroke=\"transparent\" points=\"-4,4 -4,-1130 1794,-1130 1794,4 -4,4\"/>\n",
       "<!-- 140353634471360 -->\n",
       "<g id=\"node1\" class=\"node\">\n",
       "<title>140353634471360</title>\n",
       "<polygon fill=\"none\" stroke=\"black\" points=\"271.5,-1079.5 271.5,-1125.5 622.5,-1125.5 622.5,-1079.5 271.5,-1079.5\"/>\n",
       "<text text-anchor=\"middle\" x=\"366.5\" y=\"-1098.8\" font-family=\"Times,serif\" font-size=\"14.00\">anime-input: InputLayer</text>\n",
       "<polyline fill=\"none\" stroke=\"black\" points=\"461.5,-1079.5 461.5,-1125.5 \"/>\n",
       "<text text-anchor=\"middle\" x=\"495.5\" y=\"-1110.3\" font-family=\"Times,serif\" font-size=\"14.00\">input:</text>\n",
       "<polyline fill=\"none\" stroke=\"black\" points=\"461.5,-1102.5 529.5,-1102.5 \"/>\n",
       "<text text-anchor=\"middle\" x=\"495.5\" y=\"-1087.3\" font-family=\"Times,serif\" font-size=\"14.00\">output:</text>\n",
       "<polyline fill=\"none\" stroke=\"black\" points=\"529.5,-1079.5 529.5,-1125.5 \"/>\n",
       "<text text-anchor=\"middle\" x=\"576\" y=\"-1110.3\" font-family=\"Times,serif\" font-size=\"14.00\">[(None, 1)]</text>\n",
       "<polyline fill=\"none\" stroke=\"black\" points=\"529.5,-1102.5 622.5,-1102.5 \"/>\n",
       "<text text-anchor=\"middle\" x=\"576\" y=\"-1087.3\" font-family=\"Times,serif\" font-size=\"14.00\">[(None, 1)]</text>\n",
       "</g>\n",
       "<!-- 140350992552432 -->\n",
       "<g id=\"node3\" class=\"node\">\n",
       "<title>140350992552432</title>\n",
       "<polygon fill=\"none\" stroke=\"black\" points=\"454,-996.5 454,-1042.5 898,-1042.5 898,-996.5 454,-996.5\"/>\n",
       "<text text-anchor=\"middle\" x=\"587\" y=\"-1015.8\" font-family=\"Times,serif\" font-size=\"14.00\">anime-embedding-mlp: Embedding</text>\n",
       "<polyline fill=\"none\" stroke=\"black\" points=\"720,-996.5 720,-1042.5 \"/>\n",
       "<text text-anchor=\"middle\" x=\"754\" y=\"-1027.3\" font-family=\"Times,serif\" font-size=\"14.00\">input:</text>\n",
       "<polyline fill=\"none\" stroke=\"black\" points=\"720,-1019.5 788,-1019.5 \"/>\n",
       "<text text-anchor=\"middle\" x=\"754\" y=\"-1004.3\" font-family=\"Times,serif\" font-size=\"14.00\">output:</text>\n",
       "<polyline fill=\"none\" stroke=\"black\" points=\"788,-996.5 788,-1042.5 \"/>\n",
       "<text text-anchor=\"middle\" x=\"843\" y=\"-1027.3\" font-family=\"Times,serif\" font-size=\"14.00\">(None, 1)</text>\n",
       "<polyline fill=\"none\" stroke=\"black\" points=\"788,-1019.5 898,-1019.5 \"/>\n",
       "<text text-anchor=\"middle\" x=\"843\" y=\"-1004.3\" font-family=\"Times,serif\" font-size=\"14.00\">(None, 1, 10)</text>\n",
       "</g>\n",
       "<!-- 140353634471360&#45;&gt;140350992552432 -->\n",
       "<g id=\"edge1\" class=\"edge\">\n",
       "<title>140353634471360-&gt;140350992552432</title>\n",
       "<path fill=\"none\" stroke=\"black\" d=\"M509.27,-1079.47C538.55,-1069.12 573.63,-1056.71 604.04,-1045.95\"/>\n",
       "<polygon fill=\"black\" stroke=\"black\" points=\"605.48,-1049.16 613.74,-1042.52 603.14,-1042.56 605.48,-1049.16\"/>\n",
       "</g>\n",
       "<!-- 140353637861504 -->\n",
       "<g id=\"node13\" class=\"node\">\n",
       "<title>140353637861504</title>\n",
       "<polygon fill=\"none\" stroke=\"black\" points=\"0,-996.5 0,-1042.5 436,-1042.5 436,-996.5 0,-996.5\"/>\n",
       "<text text-anchor=\"middle\" x=\"129\" y=\"-1015.8\" font-family=\"Times,serif\" font-size=\"14.00\">anime-embedding-mf: Embedding</text>\n",
       "<polyline fill=\"none\" stroke=\"black\" points=\"258,-996.5 258,-1042.5 \"/>\n",
       "<text text-anchor=\"middle\" x=\"292\" y=\"-1027.3\" font-family=\"Times,serif\" font-size=\"14.00\">input:</text>\n",
       "<polyline fill=\"none\" stroke=\"black\" points=\"258,-1019.5 326,-1019.5 \"/>\n",
       "<text text-anchor=\"middle\" x=\"292\" y=\"-1004.3\" font-family=\"Times,serif\" font-size=\"14.00\">output:</text>\n",
       "<polyline fill=\"none\" stroke=\"black\" points=\"326,-996.5 326,-1042.5 \"/>\n",
       "<text text-anchor=\"middle\" x=\"381\" y=\"-1027.3\" font-family=\"Times,serif\" font-size=\"14.00\">(None, 1)</text>\n",
       "<polyline fill=\"none\" stroke=\"black\" points=\"326,-1019.5 436,-1019.5 \"/>\n",
       "<text text-anchor=\"middle\" x=\"381\" y=\"-1004.3\" font-family=\"Times,serif\" font-size=\"14.00\">(None, 1, 10)</text>\n",
       "</g>\n",
       "<!-- 140353634471360&#45;&gt;140353637861504 -->\n",
       "<g id=\"edge12\" class=\"edge\">\n",
       "<title>140353634471360-&gt;140353637861504</title>\n",
       "<path fill=\"none\" stroke=\"black\" d=\"M384.73,-1079.47C355.45,-1069.12 320.37,-1056.71 289.96,-1045.95\"/>\n",
       "<polygon fill=\"black\" stroke=\"black\" points=\"290.86,-1042.56 280.26,-1042.52 288.52,-1049.16 290.86,-1042.56\"/>\n",
       "</g>\n",
       "<!-- 140353634592128 -->\n",
       "<g id=\"node2\" class=\"node\">\n",
       "<title>140353634592128</title>\n",
       "<polygon fill=\"none\" stroke=\"black\" points=\"1181.5,-1079.5 1181.5,-1125.5 1520.5,-1125.5 1520.5,-1079.5 1181.5,-1079.5\"/>\n",
       "<text text-anchor=\"middle\" x=\"1270.5\" y=\"-1098.8\" font-family=\"Times,serif\" font-size=\"14.00\">user-input: InputLayer</text>\n",
       "<polyline fill=\"none\" stroke=\"black\" points=\"1359.5,-1079.5 1359.5,-1125.5 \"/>\n",
       "<text text-anchor=\"middle\" x=\"1393.5\" y=\"-1110.3\" font-family=\"Times,serif\" font-size=\"14.00\">input:</text>\n",
       "<polyline fill=\"none\" stroke=\"black\" points=\"1359.5,-1102.5 1427.5,-1102.5 \"/>\n",
       "<text text-anchor=\"middle\" x=\"1393.5\" y=\"-1087.3\" font-family=\"Times,serif\" font-size=\"14.00\">output:</text>\n",
       "<polyline fill=\"none\" stroke=\"black\" points=\"1427.5,-1079.5 1427.5,-1125.5 \"/>\n",
       "<text text-anchor=\"middle\" x=\"1474\" y=\"-1110.3\" font-family=\"Times,serif\" font-size=\"14.00\">[(None, 1)]</text>\n",
       "<polyline fill=\"none\" stroke=\"black\" points=\"1427.5,-1102.5 1520.5,-1102.5 \"/>\n",
       "<text text-anchor=\"middle\" x=\"1474\" y=\"-1087.3\" font-family=\"Times,serif\" font-size=\"14.00\">[(None, 1)]</text>\n",
       "</g>\n",
       "<!-- 140353637649952 -->\n",
       "<g id=\"node4\" class=\"node\">\n",
       "<title>140353637649952</title>\n",
       "<polygon fill=\"none\" stroke=\"black\" points=\"1358,-996.5 1358,-1042.5 1790,-1042.5 1790,-996.5 1358,-996.5\"/>\n",
       "<text text-anchor=\"middle\" x=\"1485\" y=\"-1015.8\" font-family=\"Times,serif\" font-size=\"14.00\">user-embedding-mlp: Embedding</text>\n",
       "<polyline fill=\"none\" stroke=\"black\" points=\"1612,-996.5 1612,-1042.5 \"/>\n",
       "<text text-anchor=\"middle\" x=\"1646\" y=\"-1027.3\" font-family=\"Times,serif\" font-size=\"14.00\">input:</text>\n",
       "<polyline fill=\"none\" stroke=\"black\" points=\"1612,-1019.5 1680,-1019.5 \"/>\n",
       "<text text-anchor=\"middle\" x=\"1646\" y=\"-1004.3\" font-family=\"Times,serif\" font-size=\"14.00\">output:</text>\n",
       "<polyline fill=\"none\" stroke=\"black\" points=\"1680,-996.5 1680,-1042.5 \"/>\n",
       "<text text-anchor=\"middle\" x=\"1735\" y=\"-1027.3\" font-family=\"Times,serif\" font-size=\"14.00\">(None, 1)</text>\n",
       "<polyline fill=\"none\" stroke=\"black\" points=\"1680,-1019.5 1790,-1019.5 \"/>\n",
       "<text text-anchor=\"middle\" x=\"1735\" y=\"-1004.3\" font-family=\"Times,serif\" font-size=\"14.00\">(None, 1, 10)</text>\n",
       "</g>\n",
       "<!-- 140353634592128&#45;&gt;140353637649952 -->\n",
       "<g id=\"edge2\" class=\"edge\">\n",
       "<title>140353634592128-&gt;140353637649952</title>\n",
       "<path fill=\"none\" stroke=\"black\" d=\"M1411.64,-1079.47C1440.15,-1069.12 1474.31,-1056.71 1503.93,-1045.95\"/>\n",
       "<polygon fill=\"black\" stroke=\"black\" points=\"1505.17,-1049.23 1513.37,-1042.52 1502.78,-1042.65 1505.17,-1049.23\"/>\n",
       "</g>\n",
       "<!-- 140350992483520 -->\n",
       "<g id=\"node14\" class=\"node\">\n",
       "<title>140350992483520</title>\n",
       "<polygon fill=\"none\" stroke=\"black\" points=\"916,-996.5 916,-1042.5 1340,-1042.5 1340,-996.5 916,-996.5\"/>\n",
       "<text text-anchor=\"middle\" x=\"1039\" y=\"-1015.8\" font-family=\"Times,serif\" font-size=\"14.00\">user-embedding-mf: Embedding</text>\n",
       "<polyline fill=\"none\" stroke=\"black\" points=\"1162,-996.5 1162,-1042.5 \"/>\n",
       "<text text-anchor=\"middle\" x=\"1196\" y=\"-1027.3\" font-family=\"Times,serif\" font-size=\"14.00\">input:</text>\n",
       "<polyline fill=\"none\" stroke=\"black\" points=\"1162,-1019.5 1230,-1019.5 \"/>\n",
       "<text text-anchor=\"middle\" x=\"1196\" y=\"-1004.3\" font-family=\"Times,serif\" font-size=\"14.00\">output:</text>\n",
       "<polyline fill=\"none\" stroke=\"black\" points=\"1230,-996.5 1230,-1042.5 \"/>\n",
       "<text text-anchor=\"middle\" x=\"1285\" y=\"-1027.3\" font-family=\"Times,serif\" font-size=\"14.00\">(None, 1)</text>\n",
       "<polyline fill=\"none\" stroke=\"black\" points=\"1230,-1019.5 1340,-1019.5 \"/>\n",
       "<text text-anchor=\"middle\" x=\"1285\" y=\"-1004.3\" font-family=\"Times,serif\" font-size=\"14.00\">(None, 1, 10)</text>\n",
       "</g>\n",
       "<!-- 140353634592128&#45;&gt;140350992483520 -->\n",
       "<g id=\"edge13\" class=\"edge\">\n",
       "<title>140353634592128-&gt;140350992483520</title>\n",
       "<path fill=\"none\" stroke=\"black\" d=\"M1290.36,-1079.47C1261.85,-1069.12 1227.69,-1056.71 1198.07,-1045.95\"/>\n",
       "<polygon fill=\"black\" stroke=\"black\" points=\"1199.22,-1042.65 1188.63,-1042.52 1196.83,-1049.23 1199.22,-1042.65\"/>\n",
       "</g>\n",
       "<!-- 140350992553104 -->\n",
       "<g id=\"node5\" class=\"node\">\n",
       "<title>140350992553104</title>\n",
       "<polygon fill=\"none\" stroke=\"black\" points=\"501.5,-913.5 501.5,-959.5 882.5,-959.5 882.5,-913.5 501.5,-913.5\"/>\n",
       "<text text-anchor=\"middle\" x=\"603\" y=\"-932.8\" font-family=\"Times,serif\" font-size=\"14.00\">flatten-anime-mlp: Flatten</text>\n",
       "<polyline fill=\"none\" stroke=\"black\" points=\"704.5,-913.5 704.5,-959.5 \"/>\n",
       "<text text-anchor=\"middle\" x=\"738.5\" y=\"-944.3\" font-family=\"Times,serif\" font-size=\"14.00\">input:</text>\n",
       "<polyline fill=\"none\" stroke=\"black\" points=\"704.5,-936.5 772.5,-936.5 \"/>\n",
       "<text text-anchor=\"middle\" x=\"738.5\" y=\"-921.3\" font-family=\"Times,serif\" font-size=\"14.00\">output:</text>\n",
       "<polyline fill=\"none\" stroke=\"black\" points=\"772.5,-913.5 772.5,-959.5 \"/>\n",
       "<text text-anchor=\"middle\" x=\"827.5\" y=\"-944.3\" font-family=\"Times,serif\" font-size=\"14.00\">(None, 1, 10)</text>\n",
       "<polyline fill=\"none\" stroke=\"black\" points=\"772.5,-936.5 882.5,-936.5 \"/>\n",
       "<text text-anchor=\"middle\" x=\"827.5\" y=\"-921.3\" font-family=\"Times,serif\" font-size=\"14.00\">(None, 10)</text>\n",
       "</g>\n",
       "<!-- 140350992552432&#45;&gt;140350992553104 -->\n",
       "<g id=\"edge3\" class=\"edge\">\n",
       "<title>140350992552432-&gt;140350992553104</title>\n",
       "<path fill=\"none\" stroke=\"black\" d=\"M680.37,-996.37C682.01,-988.06 683.91,-978.45 685.69,-969.43\"/>\n",
       "<polygon fill=\"black\" stroke=\"black\" points=\"689.13,-970.1 687.63,-959.61 682.26,-968.74 689.13,-970.1\"/>\n",
       "</g>\n",
       "<!-- 140350992981680 -->\n",
       "<g id=\"node6\" class=\"node\">\n",
       "<title>140350992981680</title>\n",
       "<polygon fill=\"none\" stroke=\"black\" points=\"1357.5,-913.5 1357.5,-959.5 1726.5,-959.5 1726.5,-913.5 1357.5,-913.5\"/>\n",
       "<text text-anchor=\"middle\" x=\"1453\" y=\"-932.8\" font-family=\"Times,serif\" font-size=\"14.00\">flatten-user-mlp: Flatten</text>\n",
       "<polyline fill=\"none\" stroke=\"black\" points=\"1548.5,-913.5 1548.5,-959.5 \"/>\n",
       "<text text-anchor=\"middle\" x=\"1582.5\" y=\"-944.3\" font-family=\"Times,serif\" font-size=\"14.00\">input:</text>\n",
       "<polyline fill=\"none\" stroke=\"black\" points=\"1548.5,-936.5 1616.5,-936.5 \"/>\n",
       "<text text-anchor=\"middle\" x=\"1582.5\" y=\"-921.3\" font-family=\"Times,serif\" font-size=\"14.00\">output:</text>\n",
       "<polyline fill=\"none\" stroke=\"black\" points=\"1616.5,-913.5 1616.5,-959.5 \"/>\n",
       "<text text-anchor=\"middle\" x=\"1671.5\" y=\"-944.3\" font-family=\"Times,serif\" font-size=\"14.00\">(None, 1, 10)</text>\n",
       "<polyline fill=\"none\" stroke=\"black\" points=\"1616.5,-936.5 1726.5,-936.5 \"/>\n",
       "<text text-anchor=\"middle\" x=\"1671.5\" y=\"-921.3\" font-family=\"Times,serif\" font-size=\"14.00\">(None, 10)</text>\n",
       "</g>\n",
       "<!-- 140353637649952&#45;&gt;140350992981680 -->\n",
       "<g id=\"edge4\" class=\"edge\">\n",
       "<title>140353637649952-&gt;140350992981680</title>\n",
       "<path fill=\"none\" stroke=\"black\" d=\"M1565.26,-996.37C1561.94,-987.97 1558.1,-978.24 1554.5,-969.14\"/>\n",
       "<polygon fill=\"black\" stroke=\"black\" points=\"1557.66,-967.62 1550.73,-959.61 1551.15,-970.19 1557.66,-967.62\"/>\n",
       "</g>\n",
       "<!-- 140350992553728 -->\n",
       "<g id=\"node7\" class=\"node\">\n",
       "<title>140350992553728</title>\n",
       "<polygon fill=\"none\" stroke=\"black\" points=\"844.5,-830.5 844.5,-876.5 1259.5,-876.5 1259.5,-830.5 844.5,-830.5\"/>\n",
       "<text text-anchor=\"middle\" x=\"925\" y=\"-849.8\" font-family=\"Times,serif\" font-size=\"14.00\">concat: Concatenate</text>\n",
       "<polyline fill=\"none\" stroke=\"black\" points=\"1005.5,-830.5 1005.5,-876.5 \"/>\n",
       "<text text-anchor=\"middle\" x=\"1039.5\" y=\"-861.3\" font-family=\"Times,serif\" font-size=\"14.00\">input:</text>\n",
       "<polyline fill=\"none\" stroke=\"black\" points=\"1005.5,-853.5 1073.5,-853.5 \"/>\n",
       "<text text-anchor=\"middle\" x=\"1039.5\" y=\"-838.3\" font-family=\"Times,serif\" font-size=\"14.00\">output:</text>\n",
       "<polyline fill=\"none\" stroke=\"black\" points=\"1073.5,-830.5 1073.5,-876.5 \"/>\n",
       "<text text-anchor=\"middle\" x=\"1166.5\" y=\"-861.3\" font-family=\"Times,serif\" font-size=\"14.00\">[(None, 10), (None, 10)]</text>\n",
       "<polyline fill=\"none\" stroke=\"black\" points=\"1073.5,-853.5 1259.5,-853.5 \"/>\n",
       "<text text-anchor=\"middle\" x=\"1166.5\" y=\"-838.3\" font-family=\"Times,serif\" font-size=\"14.00\">(None, 20)</text>\n",
       "</g>\n",
       "<!-- 140350992553104&#45;&gt;140350992553728 -->\n",
       "<g id=\"edge5\" class=\"edge\">\n",
       "<title>140350992553104-&gt;140350992553728</title>\n",
       "<path fill=\"none\" stroke=\"black\" d=\"M789.9,-913.47C837.62,-902.74 895.14,-889.79 944.13,-878.77\"/>\n",
       "<polygon fill=\"black\" stroke=\"black\" points=\"945.14,-882.13 954.12,-876.52 943.6,-875.3 945.14,-882.13\"/>\n",
       "</g>\n",
       "<!-- 140350992981680&#45;&gt;140350992553728 -->\n",
       "<g id=\"edge6\" class=\"edge\">\n",
       "<title>140350992981680-&gt;140350992553728</title>\n",
       "<path fill=\"none\" stroke=\"black\" d=\"M1408.75,-913.47C1342.71,-902.56 1262.88,-889.36 1195.5,-878.22\"/>\n",
       "<polygon fill=\"black\" stroke=\"black\" points=\"1195.66,-874.7 1185.22,-876.52 1194.52,-881.61 1195.66,-874.7\"/>\n",
       "</g>\n",
       "<!-- 140353637978016 -->\n",
       "<g id=\"node8\" class=\"node\">\n",
       "<title>140353637978016</title>\n",
       "<polygon fill=\"none\" stroke=\"black\" points=\"883,-747.5 883,-793.5 1199,-793.5 1199,-747.5 883,-747.5\"/>\n",
       "<text text-anchor=\"middle\" x=\"961\" y=\"-766.8\" font-family=\"Times,serif\" font-size=\"14.00\">dropout_8: Dropout</text>\n",
       "<polyline fill=\"none\" stroke=\"black\" points=\"1039,-747.5 1039,-793.5 \"/>\n",
       "<text text-anchor=\"middle\" x=\"1073\" y=\"-778.3\" font-family=\"Times,serif\" font-size=\"14.00\">input:</text>\n",
       "<polyline fill=\"none\" stroke=\"black\" points=\"1039,-770.5 1107,-770.5 \"/>\n",
       "<text text-anchor=\"middle\" x=\"1073\" y=\"-755.3\" font-family=\"Times,serif\" font-size=\"14.00\">output:</text>\n",
       "<polyline fill=\"none\" stroke=\"black\" points=\"1107,-747.5 1107,-793.5 \"/>\n",
       "<text text-anchor=\"middle\" x=\"1153\" y=\"-778.3\" font-family=\"Times,serif\" font-size=\"14.00\">(None, 20)</text>\n",
       "<polyline fill=\"none\" stroke=\"black\" points=\"1107,-770.5 1199,-770.5 \"/>\n",
       "<text text-anchor=\"middle\" x=\"1153\" y=\"-755.3\" font-family=\"Times,serif\" font-size=\"14.00\">(None, 20)</text>\n",
       "</g>\n",
       "<!-- 140350992553728&#45;&gt;140353637978016 -->\n",
       "<g id=\"edge7\" class=\"edge\">\n",
       "<title>140350992553728-&gt;140353637978016</title>\n",
       "<path fill=\"none\" stroke=\"black\" d=\"M1048.99,-830.37C1047.88,-822.15 1046.59,-812.66 1045.38,-803.73\"/>\n",
       "<polygon fill=\"black\" stroke=\"black\" points=\"1048.82,-803.04 1044,-793.61 1041.88,-803.99 1048.82,-803.04\"/>\n",
       "</g>\n",
       "<!-- 140350992565680 -->\n",
       "<g id=\"node9\" class=\"node\">\n",
       "<title>140350992565680</title>\n",
       "<polygon fill=\"none\" stroke=\"black\" points=\"888.5,-664.5 888.5,-710.5 1153.5,-710.5 1153.5,-664.5 888.5,-664.5\"/>\n",
       "<text text-anchor=\"middle\" x=\"936.5\" y=\"-683.8\" font-family=\"Times,serif\" font-size=\"14.00\">fc-1: Dense</text>\n",
       "<polyline fill=\"none\" stroke=\"black\" points=\"984.5,-664.5 984.5,-710.5 \"/>\n",
       "<text text-anchor=\"middle\" x=\"1018.5\" y=\"-695.3\" font-family=\"Times,serif\" font-size=\"14.00\">input:</text>\n",
       "<polyline fill=\"none\" stroke=\"black\" points=\"984.5,-687.5 1052.5,-687.5 \"/>\n",
       "<text text-anchor=\"middle\" x=\"1018.5\" y=\"-672.3\" font-family=\"Times,serif\" font-size=\"14.00\">output:</text>\n",
       "<polyline fill=\"none\" stroke=\"black\" points=\"1052.5,-664.5 1052.5,-710.5 \"/>\n",
       "<text text-anchor=\"middle\" x=\"1103\" y=\"-695.3\" font-family=\"Times,serif\" font-size=\"14.00\">(None, 20)</text>\n",
       "<polyline fill=\"none\" stroke=\"black\" points=\"1052.5,-687.5 1153.5,-687.5 \"/>\n",
       "<text text-anchor=\"middle\" x=\"1103\" y=\"-672.3\" font-family=\"Times,serif\" font-size=\"14.00\">(None, 100)</text>\n",
       "</g>\n",
       "<!-- 140353637978016&#45;&gt;140350992565680 -->\n",
       "<g id=\"edge8\" class=\"edge\">\n",
       "<title>140353637978016-&gt;140350992565680</title>\n",
       "<path fill=\"none\" stroke=\"black\" d=\"M1035.53,-747.37C1033.48,-739.06 1031.11,-729.45 1028.88,-720.43\"/>\n",
       "<polygon fill=\"black\" stroke=\"black\" points=\"1032.25,-719.48 1026.46,-710.61 1025.46,-721.15 1032.25,-719.48\"/>\n",
       "</g>\n",
       "<!-- 140353637862464 -->\n",
       "<g id=\"node10\" class=\"node\">\n",
       "<title>140353637862464</title>\n",
       "<polygon fill=\"none\" stroke=\"black\" points=\"795,-581.5 795,-627.5 1227,-627.5 1227,-581.5 795,-581.5\"/>\n",
       "<text text-anchor=\"middle\" x=\"926.5\" y=\"-600.8\" font-family=\"Times,serif\" font-size=\"14.00\">batch-norm-1: BatchNormalization</text>\n",
       "<polyline fill=\"none\" stroke=\"black\" points=\"1058,-581.5 1058,-627.5 \"/>\n",
       "<text text-anchor=\"middle\" x=\"1092\" y=\"-612.3\" font-family=\"Times,serif\" font-size=\"14.00\">input:</text>\n",
       "<polyline fill=\"none\" stroke=\"black\" points=\"1058,-604.5 1126,-604.5 \"/>\n",
       "<text text-anchor=\"middle\" x=\"1092\" y=\"-589.3\" font-family=\"Times,serif\" font-size=\"14.00\">output:</text>\n",
       "<polyline fill=\"none\" stroke=\"black\" points=\"1126,-581.5 1126,-627.5 \"/>\n",
       "<text text-anchor=\"middle\" x=\"1176.5\" y=\"-612.3\" font-family=\"Times,serif\" font-size=\"14.00\">(None, 100)</text>\n",
       "<polyline fill=\"none\" stroke=\"black\" points=\"1126,-604.5 1227,-604.5 \"/>\n",
       "<text text-anchor=\"middle\" x=\"1176.5\" y=\"-589.3\" font-family=\"Times,serif\" font-size=\"14.00\">(None, 100)</text>\n",
       "</g>\n",
       "<!-- 140350992565680&#45;&gt;140353637862464 -->\n",
       "<g id=\"edge9\" class=\"edge\">\n",
       "<title>140350992565680-&gt;140353637862464</title>\n",
       "<path fill=\"none\" stroke=\"black\" d=\"M1018.27,-664.37C1017.25,-656.15 1016.08,-646.66 1014.98,-637.73\"/>\n",
       "<polygon fill=\"black\" stroke=\"black\" points=\"1018.43,-637.1 1013.73,-627.61 1011.48,-637.96 1018.43,-637.1\"/>\n",
       "</g>\n",
       "<!-- 140350992538976 -->\n",
       "<g id=\"node11\" class=\"node\">\n",
       "<title>140350992538976</title>\n",
       "<polygon fill=\"none\" stroke=\"black\" points=\"827.5,-498.5 827.5,-544.5 1152.5,-544.5 1152.5,-498.5 827.5,-498.5\"/>\n",
       "<text text-anchor=\"middle\" x=\"905.5\" y=\"-517.8\" font-family=\"Times,serif\" font-size=\"14.00\">dropout_9: Dropout</text>\n",
       "<polyline fill=\"none\" stroke=\"black\" points=\"983.5,-498.5 983.5,-544.5 \"/>\n",
       "<text text-anchor=\"middle\" x=\"1017.5\" y=\"-529.3\" font-family=\"Times,serif\" font-size=\"14.00\">input:</text>\n",
       "<polyline fill=\"none\" stroke=\"black\" points=\"983.5,-521.5 1051.5,-521.5 \"/>\n",
       "<text text-anchor=\"middle\" x=\"1017.5\" y=\"-506.3\" font-family=\"Times,serif\" font-size=\"14.00\">output:</text>\n",
       "<polyline fill=\"none\" stroke=\"black\" points=\"1051.5,-498.5 1051.5,-544.5 \"/>\n",
       "<text text-anchor=\"middle\" x=\"1102\" y=\"-529.3\" font-family=\"Times,serif\" font-size=\"14.00\">(None, 100)</text>\n",
       "<polyline fill=\"none\" stroke=\"black\" points=\"1051.5,-521.5 1152.5,-521.5 \"/>\n",
       "<text text-anchor=\"middle\" x=\"1102\" y=\"-506.3\" font-family=\"Times,serif\" font-size=\"14.00\">(None, 100)</text>\n",
       "</g>\n",
       "<!-- 140353637862464&#45;&gt;140350992538976 -->\n",
       "<g id=\"edge10\" class=\"edge\">\n",
       "<title>140353637862464-&gt;140350992538976</title>\n",
       "<path fill=\"none\" stroke=\"black\" d=\"M1005.26,-581.37C1003.11,-573.06 1000.62,-563.45 998.28,-554.43\"/>\n",
       "<polygon fill=\"black\" stroke=\"black\" points=\"1001.63,-553.41 995.73,-544.61 994.85,-555.17 1001.63,-553.41\"/>\n",
       "</g>\n",
       "<!-- 140350992539024 -->\n",
       "<g id=\"node12\" class=\"node\">\n",
       "<title>140350992539024</title>\n",
       "<polygon fill=\"none\" stroke=\"black\" points=\"856.5,-415.5 856.5,-461.5 1121.5,-461.5 1121.5,-415.5 856.5,-415.5\"/>\n",
       "<text text-anchor=\"middle\" x=\"904.5\" y=\"-434.8\" font-family=\"Times,serif\" font-size=\"14.00\">fc-2: Dense</text>\n",
       "<polyline fill=\"none\" stroke=\"black\" points=\"952.5,-415.5 952.5,-461.5 \"/>\n",
       "<text text-anchor=\"middle\" x=\"986.5\" y=\"-446.3\" font-family=\"Times,serif\" font-size=\"14.00\">input:</text>\n",
       "<polyline fill=\"none\" stroke=\"black\" points=\"952.5,-438.5 1020.5,-438.5 \"/>\n",
       "<text text-anchor=\"middle\" x=\"986.5\" y=\"-423.3\" font-family=\"Times,serif\" font-size=\"14.00\">output:</text>\n",
       "<polyline fill=\"none\" stroke=\"black\" points=\"1020.5,-415.5 1020.5,-461.5 \"/>\n",
       "<text text-anchor=\"middle\" x=\"1071\" y=\"-446.3\" font-family=\"Times,serif\" font-size=\"14.00\">(None, 100)</text>\n",
       "<polyline fill=\"none\" stroke=\"black\" points=\"1020.5,-438.5 1121.5,-438.5 \"/>\n",
       "<text text-anchor=\"middle\" x=\"1071\" y=\"-423.3\" font-family=\"Times,serif\" font-size=\"14.00\">(None, 50)</text>\n",
       "</g>\n",
       "<!-- 140350992538976&#45;&gt;140350992539024 -->\n",
       "<g id=\"edge11\" class=\"edge\">\n",
       "<title>140350992538976-&gt;140350992539024</title>\n",
       "<path fill=\"none\" stroke=\"black\" d=\"M989.73,-498.37C989.63,-490.15 989.51,-480.66 989.4,-471.73\"/>\n",
       "<polygon fill=\"black\" stroke=\"black\" points=\"992.9,-471.56 989.27,-461.61 985.9,-471.65 992.9,-471.56\"/>\n",
       "</g>\n",
       "<!-- 140353637860976 -->\n",
       "<g id=\"node15\" class=\"node\">\n",
       "<title>140353637860976</title>\n",
       "<polygon fill=\"none\" stroke=\"black\" points=\"757.5,-332.5 757.5,-378.5 1180.5,-378.5 1180.5,-332.5 757.5,-332.5\"/>\n",
       "<text text-anchor=\"middle\" x=\"889\" y=\"-351.8\" font-family=\"Times,serif\" font-size=\"14.00\">batch-norm-2: BatchNormalization</text>\n",
       "<polyline fill=\"none\" stroke=\"black\" points=\"1020.5,-332.5 1020.5,-378.5 \"/>\n",
       "<text text-anchor=\"middle\" x=\"1054.5\" y=\"-363.3\" font-family=\"Times,serif\" font-size=\"14.00\">input:</text>\n",
       "<polyline fill=\"none\" stroke=\"black\" points=\"1020.5,-355.5 1088.5,-355.5 \"/>\n",
       "<text text-anchor=\"middle\" x=\"1054.5\" y=\"-340.3\" font-family=\"Times,serif\" font-size=\"14.00\">output:</text>\n",
       "<polyline fill=\"none\" stroke=\"black\" points=\"1088.5,-332.5 1088.5,-378.5 \"/>\n",
       "<text text-anchor=\"middle\" x=\"1134.5\" y=\"-363.3\" font-family=\"Times,serif\" font-size=\"14.00\">(None, 50)</text>\n",
       "<polyline fill=\"none\" stroke=\"black\" points=\"1088.5,-355.5 1180.5,-355.5 \"/>\n",
       "<text text-anchor=\"middle\" x=\"1134.5\" y=\"-340.3\" font-family=\"Times,serif\" font-size=\"14.00\">(None, 50)</text>\n",
       "</g>\n",
       "<!-- 140350992539024&#45;&gt;140353637860976 -->\n",
       "<g id=\"edge14\" class=\"edge\">\n",
       "<title>140350992539024-&gt;140353637860976</title>\n",
       "<path fill=\"none\" stroke=\"black\" d=\"M983.53,-415.37C981.48,-407.06 979.11,-397.45 976.88,-388.43\"/>\n",
       "<polygon fill=\"black\" stroke=\"black\" points=\"980.25,-387.48 974.46,-378.61 973.46,-389.15 980.25,-387.48\"/>\n",
       "</g>\n",
       "<!-- 140353637862752 -->\n",
       "<g id=\"node16\" class=\"node\">\n",
       "<title>140353637862752</title>\n",
       "<polygon fill=\"none\" stroke=\"black\" points=\"79.5,-913.5 79.5,-959.5 452.5,-959.5 452.5,-913.5 79.5,-913.5\"/>\n",
       "<text text-anchor=\"middle\" x=\"177\" y=\"-932.8\" font-family=\"Times,serif\" font-size=\"14.00\">flatten-anime-mf: Flatten</text>\n",
       "<polyline fill=\"none\" stroke=\"black\" points=\"274.5,-913.5 274.5,-959.5 \"/>\n",
       "<text text-anchor=\"middle\" x=\"308.5\" y=\"-944.3\" font-family=\"Times,serif\" font-size=\"14.00\">input:</text>\n",
       "<polyline fill=\"none\" stroke=\"black\" points=\"274.5,-936.5 342.5,-936.5 \"/>\n",
       "<text text-anchor=\"middle\" x=\"308.5\" y=\"-921.3\" font-family=\"Times,serif\" font-size=\"14.00\">output:</text>\n",
       "<polyline fill=\"none\" stroke=\"black\" points=\"342.5,-913.5 342.5,-959.5 \"/>\n",
       "<text text-anchor=\"middle\" x=\"397.5\" y=\"-944.3\" font-family=\"Times,serif\" font-size=\"14.00\">(None, 1, 10)</text>\n",
       "<polyline fill=\"none\" stroke=\"black\" points=\"342.5,-936.5 452.5,-936.5 \"/>\n",
       "<text text-anchor=\"middle\" x=\"397.5\" y=\"-921.3\" font-family=\"Times,serif\" font-size=\"14.00\">(None, 10)</text>\n",
       "</g>\n",
       "<!-- 140353637861504&#45;&gt;140353637862752 -->\n",
       "<g id=\"edge15\" class=\"edge\">\n",
       "<title>140353637861504-&gt;140353637862752</title>\n",
       "<path fill=\"none\" stroke=\"black\" d=\"M231.12,-996.37C236.25,-987.71 242.22,-977.62 247.76,-968.27\"/>\n",
       "<polygon fill=\"black\" stroke=\"black\" points=\"250.81,-969.99 252.9,-959.61 244.79,-966.43 250.81,-969.99\"/>\n",
       "</g>\n",
       "<!-- 140350992473728 -->\n",
       "<g id=\"node17\" class=\"node\">\n",
       "<title>140350992473728</title>\n",
       "<polygon fill=\"none\" stroke=\"black\" points=\"931.5,-913.5 931.5,-959.5 1292.5,-959.5 1292.5,-913.5 931.5,-913.5\"/>\n",
       "<text text-anchor=\"middle\" x=\"1023\" y=\"-932.8\" font-family=\"Times,serif\" font-size=\"14.00\">flatten-user-mf: Flatten</text>\n",
       "<polyline fill=\"none\" stroke=\"black\" points=\"1114.5,-913.5 1114.5,-959.5 \"/>\n",
       "<text text-anchor=\"middle\" x=\"1148.5\" y=\"-944.3\" font-family=\"Times,serif\" font-size=\"14.00\">input:</text>\n",
       "<polyline fill=\"none\" stroke=\"black\" points=\"1114.5,-936.5 1182.5,-936.5 \"/>\n",
       "<text text-anchor=\"middle\" x=\"1148.5\" y=\"-921.3\" font-family=\"Times,serif\" font-size=\"14.00\">output:</text>\n",
       "<polyline fill=\"none\" stroke=\"black\" points=\"1182.5,-913.5 1182.5,-959.5 \"/>\n",
       "<text text-anchor=\"middle\" x=\"1237.5\" y=\"-944.3\" font-family=\"Times,serif\" font-size=\"14.00\">(None, 1, 10)</text>\n",
       "<polyline fill=\"none\" stroke=\"black\" points=\"1182.5,-936.5 1292.5,-936.5 \"/>\n",
       "<text text-anchor=\"middle\" x=\"1237.5\" y=\"-921.3\" font-family=\"Times,serif\" font-size=\"14.00\">(None, 10)</text>\n",
       "</g>\n",
       "<!-- 140350992483520&#45;&gt;140350992473728 -->\n",
       "<g id=\"edge16\" class=\"edge\">\n",
       "<title>140350992483520-&gt;140350992473728</title>\n",
       "<path fill=\"none\" stroke=\"black\" d=\"M1123.63,-996.37C1121.99,-988.06 1120.09,-978.45 1118.31,-969.43\"/>\n",
       "<polygon fill=\"black\" stroke=\"black\" points=\"1121.74,-968.74 1116.37,-959.61 1114.87,-970.1 1121.74,-968.74\"/>\n",
       "</g>\n",
       "<!-- 140350992974272 -->\n",
       "<g id=\"node18\" class=\"node\">\n",
       "<title>140350992974272</title>\n",
       "<polygon fill=\"none\" stroke=\"black\" points=\"779.5,-249.5 779.5,-295.5 1104.5,-295.5 1104.5,-249.5 779.5,-249.5\"/>\n",
       "<text text-anchor=\"middle\" x=\"862\" y=\"-268.8\" font-family=\"Times,serif\" font-size=\"14.00\">dropout_10: Dropout</text>\n",
       "<polyline fill=\"none\" stroke=\"black\" points=\"944.5,-249.5 944.5,-295.5 \"/>\n",
       "<text text-anchor=\"middle\" x=\"978.5\" y=\"-280.3\" font-family=\"Times,serif\" font-size=\"14.00\">input:</text>\n",
       "<polyline fill=\"none\" stroke=\"black\" points=\"944.5,-272.5 1012.5,-272.5 \"/>\n",
       "<text text-anchor=\"middle\" x=\"978.5\" y=\"-257.3\" font-family=\"Times,serif\" font-size=\"14.00\">output:</text>\n",
       "<polyline fill=\"none\" stroke=\"black\" points=\"1012.5,-249.5 1012.5,-295.5 \"/>\n",
       "<text text-anchor=\"middle\" x=\"1058.5\" y=\"-280.3\" font-family=\"Times,serif\" font-size=\"14.00\">(None, 50)</text>\n",
       "<polyline fill=\"none\" stroke=\"black\" points=\"1012.5,-272.5 1104.5,-272.5 \"/>\n",
       "<text text-anchor=\"middle\" x=\"1058.5\" y=\"-257.3\" font-family=\"Times,serif\" font-size=\"14.00\">(None, 50)</text>\n",
       "</g>\n",
       "<!-- 140353637860976&#45;&gt;140350992974272 -->\n",
       "<g id=\"edge17\" class=\"edge\">\n",
       "<title>140353637860976-&gt;140350992974272</title>\n",
       "<path fill=\"none\" stroke=\"black\" d=\"M961.62,-332.37C958.82,-323.97 955.58,-314.24 952.55,-305.14\"/>\n",
       "<polygon fill=\"black\" stroke=\"black\" points=\"955.85,-303.99 949.37,-295.61 949.21,-306.2 955.85,-303.99\"/>\n",
       "</g>\n",
       "<!-- 140350992494400 -->\n",
       "<g id=\"node19\" class=\"node\">\n",
       "<title>140350992494400</title>\n",
       "<polygon fill=\"none\" stroke=\"black\" points=\"465.5,-830.5 465.5,-876.5 826.5,-876.5 826.5,-830.5 465.5,-830.5\"/>\n",
       "<text text-anchor=\"middle\" x=\"519\" y=\"-849.8\" font-family=\"Times,serif\" font-size=\"14.00\">pred-mf: Dot</text>\n",
       "<polyline fill=\"none\" stroke=\"black\" points=\"572.5,-830.5 572.5,-876.5 \"/>\n",
       "<text text-anchor=\"middle\" x=\"606.5\" y=\"-861.3\" font-family=\"Times,serif\" font-size=\"14.00\">input:</text>\n",
       "<polyline fill=\"none\" stroke=\"black\" points=\"572.5,-853.5 640.5,-853.5 \"/>\n",
       "<text text-anchor=\"middle\" x=\"606.5\" y=\"-838.3\" font-family=\"Times,serif\" font-size=\"14.00\">output:</text>\n",
       "<polyline fill=\"none\" stroke=\"black\" points=\"640.5,-830.5 640.5,-876.5 \"/>\n",
       "<text text-anchor=\"middle\" x=\"733.5\" y=\"-861.3\" font-family=\"Times,serif\" font-size=\"14.00\">[(None, 10), (None, 10)]</text>\n",
       "<polyline fill=\"none\" stroke=\"black\" points=\"640.5,-853.5 826.5,-853.5 \"/>\n",
       "<text text-anchor=\"middle\" x=\"733.5\" y=\"-838.3\" font-family=\"Times,serif\" font-size=\"14.00\">(None, 1)</text>\n",
       "</g>\n",
       "<!-- 140353637862752&#45;&gt;140350992494400 -->\n",
       "<g id=\"edge18\" class=\"edge\">\n",
       "<title>140353637862752-&gt;140350992494400</title>\n",
       "<path fill=\"none\" stroke=\"black\" d=\"M369.33,-913.47C419.92,-902.69 480.94,-889.68 532.78,-878.63\"/>\n",
       "<polygon fill=\"black\" stroke=\"black\" points=\"533.64,-882.03 542.69,-876.52 532.18,-875.18 533.64,-882.03\"/>\n",
       "</g>\n",
       "<!-- 140350992473728&#45;&gt;140350992494400 -->\n",
       "<g id=\"edge19\" class=\"edge\">\n",
       "<title>140350992473728-&gt;140350992494400</title>\n",
       "<path fill=\"none\" stroke=\"black\" d=\"M985.28,-913.47C922.6,-902.58 846.86,-889.41 782.86,-878.29\"/>\n",
       "<polygon fill=\"black\" stroke=\"black\" points=\"783.15,-874.79 772.7,-876.52 781.95,-881.68 783.15,-874.79\"/>\n",
       "</g>\n",
       "<!-- 140353638173136 -->\n",
       "<g id=\"node20\" class=\"node\">\n",
       "<title>140353638173136</title>\n",
       "<polygon fill=\"none\" stroke=\"black\" points=\"762,-166.5 762,-212.5 1056,-212.5 1056,-166.5 762,-166.5\"/>\n",
       "<text text-anchor=\"middle\" x=\"829\" y=\"-185.8\" font-family=\"Times,serif\" font-size=\"14.00\">pred-mlp: Dense</text>\n",
       "<polyline fill=\"none\" stroke=\"black\" points=\"896,-166.5 896,-212.5 \"/>\n",
       "<text text-anchor=\"middle\" x=\"930\" y=\"-197.3\" font-family=\"Times,serif\" font-size=\"14.00\">input:</text>\n",
       "<polyline fill=\"none\" stroke=\"black\" points=\"896,-189.5 964,-189.5 \"/>\n",
       "<text text-anchor=\"middle\" x=\"930\" y=\"-174.3\" font-family=\"Times,serif\" font-size=\"14.00\">output:</text>\n",
       "<polyline fill=\"none\" stroke=\"black\" points=\"964,-166.5 964,-212.5 \"/>\n",
       "<text text-anchor=\"middle\" x=\"1010\" y=\"-197.3\" font-family=\"Times,serif\" font-size=\"14.00\">(None, 50)</text>\n",
       "<polyline fill=\"none\" stroke=\"black\" points=\"964,-189.5 1056,-189.5 \"/>\n",
       "<text text-anchor=\"middle\" x=\"1010\" y=\"-174.3\" font-family=\"Times,serif\" font-size=\"14.00\">(None, 10)</text>\n",
       "</g>\n",
       "<!-- 140350992974272&#45;&gt;140353638173136 -->\n",
       "<g id=\"edge20\" class=\"edge\">\n",
       "<title>140350992974272-&gt;140353638173136</title>\n",
       "<path fill=\"none\" stroke=\"black\" d=\"M932.98,-249.37C929.56,-240.97 925.6,-231.24 921.89,-222.14\"/>\n",
       "<polygon fill=\"black\" stroke=\"black\" points=\"925.02,-220.55 918.01,-212.61 918.54,-223.19 925.02,-220.55\"/>\n",
       "</g>\n",
       "<!-- 140350992516576 -->\n",
       "<g id=\"node21\" class=\"node\">\n",
       "<title>140350992516576</title>\n",
       "<polygon fill=\"none\" stroke=\"black\" points=\"576.5,-83.5 576.5,-129.5 1051.5,-129.5 1051.5,-83.5 576.5,-83.5\"/>\n",
       "<text text-anchor=\"middle\" x=\"691.5\" y=\"-102.8\" font-family=\"Times,serif\" font-size=\"14.00\">combine-mlp-mf: Concatenate</text>\n",
       "<polyline fill=\"none\" stroke=\"black\" points=\"806.5,-83.5 806.5,-129.5 \"/>\n",
       "<text text-anchor=\"middle\" x=\"840.5\" y=\"-114.3\" font-family=\"Times,serif\" font-size=\"14.00\">input:</text>\n",
       "<polyline fill=\"none\" stroke=\"black\" points=\"806.5,-106.5 874.5,-106.5 \"/>\n",
       "<text text-anchor=\"middle\" x=\"840.5\" y=\"-91.3\" font-family=\"Times,serif\" font-size=\"14.00\">output:</text>\n",
       "<polyline fill=\"none\" stroke=\"black\" points=\"874.5,-83.5 874.5,-129.5 \"/>\n",
       "<text text-anchor=\"middle\" x=\"963\" y=\"-114.3\" font-family=\"Times,serif\" font-size=\"14.00\">[(None, 1), (None, 10)]</text>\n",
       "<polyline fill=\"none\" stroke=\"black\" points=\"874.5,-106.5 1051.5,-106.5 \"/>\n",
       "<text text-anchor=\"middle\" x=\"963\" y=\"-91.3\" font-family=\"Times,serif\" font-size=\"14.00\">(None, 11)</text>\n",
       "</g>\n",
       "<!-- 140350992494400&#45;&gt;140350992516576 -->\n",
       "<g id=\"edge21\" class=\"edge\">\n",
       "<title>140350992494400-&gt;140350992516576</title>\n",
       "<path fill=\"none\" stroke=\"black\" d=\"M665.2,-830.32C689.15,-800.3 727,-744.07 727,-688.5 727,-688.5 727,-688.5 727,-271.5 727,-223.21 728.84,-207.81 753,-166 759.25,-155.18 768.09,-145.09 777.11,-136.43\"/>\n",
       "<polygon fill=\"black\" stroke=\"black\" points=\"779.66,-138.85 784.67,-129.52 774.93,-133.68 779.66,-138.85\"/>\n",
       "</g>\n",
       "<!-- 140353638173136&#45;&gt;140350992516576 -->\n",
       "<g id=\"edge22\" class=\"edge\">\n",
       "<title>140353638173136-&gt;140350992516576</title>\n",
       "<path fill=\"none\" stroke=\"black\" d=\"M883.04,-166.37C872.15,-157.08 859.34,-146.16 847.73,-136.26\"/>\n",
       "<polygon fill=\"black\" stroke=\"black\" points=\"849.81,-133.43 839.93,-129.61 845.27,-138.76 849.81,-133.43\"/>\n",
       "</g>\n",
       "<!-- 140350992515232 -->\n",
       "<g id=\"node22\" class=\"node\">\n",
       "<title>140350992515232</title>\n",
       "<polygon fill=\"none\" stroke=\"black\" points=\"678,-0.5 678,-46.5 950,-46.5 950,-0.5 678,-0.5\"/>\n",
       "<text text-anchor=\"middle\" x=\"734\" y=\"-19.8\" font-family=\"Times,serif\" font-size=\"14.00\">result: Dense</text>\n",
       "<polyline fill=\"none\" stroke=\"black\" points=\"790,-0.5 790,-46.5 \"/>\n",
       "<text text-anchor=\"middle\" x=\"824\" y=\"-31.3\" font-family=\"Times,serif\" font-size=\"14.00\">input:</text>\n",
       "<polyline fill=\"none\" stroke=\"black\" points=\"790,-23.5 858,-23.5 \"/>\n",
       "<text text-anchor=\"middle\" x=\"824\" y=\"-8.3\" font-family=\"Times,serif\" font-size=\"14.00\">output:</text>\n",
       "<polyline fill=\"none\" stroke=\"black\" points=\"858,-0.5 858,-46.5 \"/>\n",
       "<text text-anchor=\"middle\" x=\"904\" y=\"-31.3\" font-family=\"Times,serif\" font-size=\"14.00\">(None, 11)</text>\n",
       "<polyline fill=\"none\" stroke=\"black\" points=\"858,-23.5 950,-23.5 \"/>\n",
       "<text text-anchor=\"middle\" x=\"904\" y=\"-8.3\" font-family=\"Times,serif\" font-size=\"14.00\">(None, 1)</text>\n",
       "</g>\n",
       "<!-- 140350992516576&#45;&gt;140350992515232 -->\n",
       "<g id=\"edge23\" class=\"edge\">\n",
       "<title>140350992516576-&gt;140350992515232</title>\n",
       "<path fill=\"none\" stroke=\"black\" d=\"M814,-83.37C814,-75.15 814,-65.66 814,-56.73\"/>\n",
       "<polygon fill=\"black\" stroke=\"black\" points=\"817.5,-56.61 814,-46.61 810.5,-56.61 817.5,-56.61\"/>\n",
       "</g>\n",
       "</g>\n",
       "</svg>"
      ],
      "text/plain": [
       "<IPython.core.display.SVG object>"
      ]
     },
     "execution_count": 57,
     "metadata": {},
     "output_type": "execute_result"
    }
   ],
   "source": [
    "#SVG(model_to_dot(model, show_shapes=True).create(prog='dot', format='svg'))\n",
    "SVG(model_to_dot(model, show_shapes= True, show_layer_names=True, dpi=45).create(prog='dot', format='svg'))"
   ]
  },
  {
   "cell_type": "code",
   "execution_count": 58,
   "id": "cc84e741",
   "metadata": {},
   "outputs": [
    {
     "name": "stdout",
     "output_type": "stream",
     "text": [
      "Model: \"model_8\"\n",
      "__________________________________________________________________________________________________\n",
      "Layer (type)                    Output Shape         Param #     Connected to                     \n",
      "==================================================================================================\n",
      "anime-input (InputLayer)        [(None, 1)]          0                                            \n",
      "__________________________________________________________________________________________________\n",
      "user-input (InputLayer)         [(None, 1)]          0                                            \n",
      "__________________________________________________________________________________________________\n",
      "anime-embedding-mlp (Embedding) (None, 1, 10)        121070      anime-input[0][0]                \n",
      "__________________________________________________________________________________________________\n",
      "user-embedding-mlp (Embedding)  (None, 1, 10)        40360       user-input[0][0]                 \n",
      "__________________________________________________________________________________________________\n",
      "flatten-anime-mlp (Flatten)     (None, 10)           0           anime-embedding-mlp[0][0]        \n",
      "__________________________________________________________________________________________________\n",
      "flatten-user-mlp (Flatten)      (None, 10)           0           user-embedding-mlp[0][0]         \n",
      "__________________________________________________________________________________________________\n",
      "concat (Concatenate)            (None, 20)           0           flatten-anime-mlp[0][0]          \n",
      "                                                                 flatten-user-mlp[0][0]           \n",
      "__________________________________________________________________________________________________\n",
      "dropout_8 (Dropout)             (None, 20)           0           concat[0][0]                     \n",
      "__________________________________________________________________________________________________\n",
      "fc-1 (Dense)                    (None, 100)          2100        dropout_8[0][0]                  \n",
      "__________________________________________________________________________________________________\n",
      "batch-norm-1 (BatchNormalizatio (None, 100)          400         fc-1[0][0]                       \n",
      "__________________________________________________________________________________________________\n",
      "dropout_9 (Dropout)             (None, 100)          0           batch-norm-1[0][0]               \n",
      "__________________________________________________________________________________________________\n",
      "fc-2 (Dense)                    (None, 50)           5050        dropout_9[0][0]                  \n",
      "__________________________________________________________________________________________________\n",
      "anime-embedding-mf (Embedding)  (None, 1, 10)        121070      anime-input[0][0]                \n",
      "__________________________________________________________________________________________________\n",
      "user-embedding-mf (Embedding)   (None, 1, 10)        40360       user-input[0][0]                 \n",
      "__________________________________________________________________________________________________\n",
      "batch-norm-2 (BatchNormalizatio (None, 50)           200         fc-2[0][0]                       \n",
      "__________________________________________________________________________________________________\n",
      "flatten-anime-mf (Flatten)      (None, 10)           0           anime-embedding-mf[0][0]         \n",
      "__________________________________________________________________________________________________\n",
      "flatten-user-mf (Flatten)       (None, 10)           0           user-embedding-mf[0][0]          \n",
      "__________________________________________________________________________________________________\n",
      "dropout_10 (Dropout)            (None, 50)           0           batch-norm-2[0][0]               \n",
      "__________________________________________________________________________________________________\n",
      "pred-mf (Dot)                   (None, 1)            0           flatten-anime-mf[0][0]           \n",
      "                                                                 flatten-user-mf[0][0]            \n",
      "__________________________________________________________________________________________________\n",
      "pred-mlp (Dense)                (None, 10)           510         dropout_10[0][0]                 \n",
      "__________________________________________________________________________________________________\n",
      "combine-mlp-mf (Concatenate)    (None, 11)           0           pred-mf[0][0]                    \n",
      "                                                                 pred-mlp[0][0]                   \n",
      "__________________________________________________________________________________________________\n",
      "result (Dense)                  (None, 1)            12          combine-mlp-mf[0][0]             \n",
      "==================================================================================================\n",
      "Total params: 331,132\n",
      "Trainable params: 330,832\n",
      "Non-trainable params: 300\n",
      "__________________________________________________________________________________________________\n"
     ]
    }
   ],
   "source": [
    "model.summary()"
   ]
  },
  {
   "cell_type": "code",
   "execution_count": 60,
   "id": "48801386",
   "metadata": {},
   "outputs": [
    {
     "name": "stdout",
     "output_type": "stream",
     "text": [
      "Epoch 1/10\n",
      "20561/20561 [==============================] - 74s 4ms/step - loss: 1.1266\n",
      "Epoch 2/10\n",
      "20561/20561 [==============================] - 77s 4ms/step - loss: 1.0372\n",
      "Epoch 3/10\n",
      "20561/20561 [==============================] - 74s 4ms/step - loss: 1.0214\n",
      "Epoch 4/10\n",
      "20561/20561 [==============================] - 75s 4ms/step - loss: 1.0121\n",
      "Epoch 5/10\n",
      "20561/20561 [==============================] - 75s 4ms/step - loss: 1.0078\n",
      "Epoch 6/10\n",
      "20561/20561 [==============================] - 78s 4ms/step - loss: 1.0026\n",
      "Epoch 7/10\n",
      "20561/20561 [==============================] - 78s 4ms/step - loss: 0.9970\n",
      "Epoch 8/10\n",
      "20561/20561 [==============================] - 78s 4ms/step - loss: 0.9915\n",
      "Epoch 9/10\n",
      "20561/20561 [==============================] - 76s 4ms/step - loss: 0.9816\n",
      "Epoch 10/10\n",
      "20561/20561 [==============================] - 76s 4ms/step - loss: 0.9634\n"
     ]
    },
    {
     "data": {
      "image/png": "[encoded data removed]",
      "text/plain": [
       "<Figure size 432x288 with 1 Axes>"
      ]
     },
     "metadata": {
      "needs_background": "light"
     },
     "output_type": "display_data"
    },
    {
     "data": {
      "text/plain": [
       "0.9779167024661547"
      ]
     },
     "execution_count": 60,
     "metadata": {},
     "output_type": "execute_result"
    }
   ],
   "source": [
    "import matplotlib.pyplot as plt\n",
    "from sklearn.metrics import mean_absolute_error\n",
    "history = model.fit([train.user_id, train.anime_id], train.rating, epochs=10)\n",
    "pd.Series(history.history['loss']).plot(logy=True)\n",
    "plt.xlabel(\"Epoch\")\n",
    "plt.ylabel(\"Train Error\")\n",
    "plt.show()\n",
    "\n",
    "y_hat = np.round(model.predict([test.user_id, test.anime_id]), decimals=2)\n",
    "y_true = test.rating\n",
    "mean_absolute_error(y_true, y_hat)"
   ]
  },
  {
   "cell_type": "code",
   "execution_count": null,
   "id": "c08fde20",
   "metadata": {},
   "outputs": [],
   "source": []
  }
 ],
 "metadata": {
  "kernelspec": {
   "display_name": "anime_map",
   "language": "python",
   "name": "anime_map"
  },
  "language_info": {
   "codemirror_mode": {
    "name": "ipython",
    "version": 3
   },
   "file_extension": ".py",
   "mimetype": "text/x-python",
   "name": "python",
   "nbconvert_exporter": "python",
   "pygments_lexer": "ipython3",
   "version": "3.9.6"
  },
  "toc": {
   "base_numbering": 1,
   "nav_menu": {},
   "number_sections": true,
   "sideBar": true,
   "skip_h1_title": false,
   "title_cell": "Table of Contents",
   "title_sidebar": "Contents",
   "toc_cell": false,
   "toc_position": {},
   "toc_section_display": true,
   "toc_window_display": true
  }
 },
 "nbformat": 4,
 "nbformat_minor": 5
}
