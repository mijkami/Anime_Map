{
 "cells": [
  {
   "cell_type": "markdown",
   "id": "8c827f22",
   "metadata": {},
   "source": [
    "# Imports"
   ]
  },
  {
   "cell_type": "code",
   "execution_count": 1,
   "id": "286d167b",
   "metadata": {},
   "outputs": [],
   "source": []
  },
  {
   "cell_type": "code",
   "execution_count": 2,
   "id": "3c802932",
   "metadata": {
    "scrolled": true
   },
   "outputs": [],
   "source": [
    "import pandas as pd\n",
    "import numpy as np\n",
    "import seaborn as sns\n",
    "import matplotlib.pyplot as plt\n",
    "%matplotlib inline\n",
    "\n",
    "from sklearn.metrics import mean_absolute_error\n",
    "from sklearn.model_selection import train_test_split\n",
    "from keras.utils.np_utils import to_categorical\n",
    "\n",
    "from keras.models import Model, Sequential\n",
    "from keras.layers import Embedding, Flatten, Input, merge, Dropout, Dense, concatenate, dot, BatchNormalization\n",
    "from tensorflow.keras.optimizers import Adam\n",
    "from keras.constraints import non_neg\n",
    "from tensorflow.keras.utils import model_to_dot\n",
    "#from keras.utils.visualize_util import model_to_dot\n",
    "\n",
    "import pydot\n",
    "import graphviz\n",
    "from IPython.display import SVG\n"
   ]
  },
  {
   "cell_type": "markdown",
   "id": "1e95d226",
   "metadata": {},
   "source": [
    "# Dataset"
   ]
  },
  {
   "cell_type": "code",
   "execution_count": 3,
   "id": "92757ca7",
   "metadata": {},
   "outputs": [],
   "source": [
    "# on prod use first partial to test then use full datasets\n",
    "dataset = pd.read_csv('../data/processed_data/active_users_df_10PlusRatings_PG_partial.csv')\n",
    "anime_df = pd.read_csv('../data/processed_data/anime_df_relevant_PG.csv')\n",
    "dataset = dataset.sort_values([\"user_id\", \"anime_id\"], ascending=(True, True))"
   ]
  },
  {
   "cell_type": "markdown",
   "id": "c717d731",
   "metadata": {},
   "source": [
    "## continue on dataset"
   ]
  },
  {
   "cell_type": "code",
   "execution_count": 4,
   "id": "8e013a5a",
   "metadata": {},
   "outputs": [
    {
     "data": {
      "text/plain": [
       "10182"
      ]
     },
     "execution_count": 4,
     "metadata": {},
     "output_type": "execute_result"
    }
   ],
   "source": [
    "dataset.anime_id.nunique()"
   ]
  },
  {
   "cell_type": "code",
   "execution_count": 5,
   "id": "a3bbeade",
   "metadata": {},
   "outputs": [
    {
     "data": {
      "text/plain": [
       "4022"
      ]
     },
     "execution_count": 5,
     "metadata": {},
     "output_type": "execute_result"
    }
   ],
   "source": [
    "dataset.user_id.nunique()"
   ]
  },
  {
   "cell_type": "code",
   "execution_count": 7,
   "id": "ae7da34a",
   "metadata": {},
   "outputs": [],
   "source": [
    "# Need to map anime ID to [1, anime_num]\n",
    "anime_id_to_new_id = dict()\n",
    "id = 1\n",
    "for index, row in dataset.iterrows():\n",
    "    if anime_id_to_new_id.get(row['anime_id']) is None:\n",
    "        anime_id_to_new_id[row['anime_id']] = id\n",
    "        dataset.at[index, 'anime_id'] = id\n",
    "        id += 1\n",
    "    else:\n",
    "        dataset.at[index, 'anime_id'] = anime_id_to_new_id.get(row['anime_id'])"
   ]
  },
  {
   "cell_type": "code",
   "execution_count": 8,
   "id": "51948206",
   "metadata": {},
   "outputs": [],
   "source": [
    "# Need to map user ID to [1, user_num]\n",
    "user_id_to_new_id = dict()\n",
    "id = 1\n",
    "for index, row in dataset.iterrows():\n",
    "    if user_id_to_new_id.get(row['user_id']) is None:\n",
    "        user_id_to_new_id[row['user_id']] = id\n",
    "        dataset.at[index, 'user_id'] = id\n",
    "        id += 1\n",
    "    else:\n",
    "        dataset.at[index, 'user_id'] = user_id_to_new_id.get(row['user_id'])"
   ]
  },
  {
   "cell_type": "code",
   "execution_count": 9,
   "id": "321d7044",
   "metadata": {},
   "outputs": [
    {
     "data": {
      "text/plain": [
       "2748         1\n",
       "3949         1\n",
       "0            1\n",
       "5803         1\n",
       "8633         1\n",
       "          ... \n",
       "239435    4022\n",
       "623011    4022\n",
       "606776    4022\n",
       "464629    4022\n",
       "194012    4022\n",
       "Name: user_id, Length: 807900, dtype: int64"
      ]
     },
     "execution_count": 9,
     "metadata": {},
     "output_type": "execute_result"
    }
   ],
   "source": [
    "dataset.user_id"
   ]
  },
  {
   "cell_type": "code",
   "execution_count": 10,
   "id": "56d1220c",
   "metadata": {},
   "outputs": [
    {
     "name": "stdout",
     "output_type": "stream",
     "text": [
      "Number of movies 10182\n",
      "Number of users 4022\n"
     ]
    }
   ],
   "source": [
    "num_users = len(dataset.user_id.unique())\n",
    "num_animes = len(dataset.anime_id.unique())\n",
    "train, test = train_test_split(dataset, test_size=0.2)\n",
    "\n",
    "print('Number of movies', num_animes)\n",
    "print('Number of users', num_users)"
   ]
  },
  {
   "cell_type": "markdown",
   "id": "88d3061e",
   "metadata": {},
   "source": [
    "# GMF\n"
   ]
  },
  {
   "cell_type": "markdown",
   "id": "e26e30ac",
   "metadata": {},
   "source": [
    "## Matrix factorisation"
   ]
  },
  {
   "cell_type": "code",
   "execution_count": 11,
   "id": "7ebb3014",
   "metadata": {
    "scrolled": true
   },
   "outputs": [
    {
     "name": "stderr",
     "output_type": "stream",
     "text": [
      "2021-08-29 20:24:30.230014: W tensorflow/stream_executor/platform/default/dso_loader.cc:64] Could not load dynamic library 'libcuda.so.1'; dlerror: libcuda.so.1: cannot open shared object file: No such file or directory\n",
      "2021-08-29 20:24:30.230045: W tensorflow/stream_executor/cuda/cuda_driver.cc:269] failed call to cuInit: UNKNOWN ERROR (303)\n",
      "2021-08-29 20:24:30.230063: I tensorflow/stream_executor/cuda/cuda_diagnostics.cc:156] kernel driver does not appear to be running on this host (mijka-TP): /proc/driver/nvidia/version does not exist\n",
      "2021-08-29 20:24:30.230261: I tensorflow/core/platform/cpu_feature_guard.cc:142] This TensorFlow binary is optimized with oneAPI Deep Neural Network Library (oneDNN) to use the following CPU instructions in performance-critical operations:  AVX2 FMA\n",
      "To enable them in other operations, rebuild TensorFlow with the appropriate compiler flags.\n"
     ]
    }
   ],
   "source": [
    "# Let's use a higher latent dimension.\n",
    "latent_dim = 10\n",
    "\n",
    "anime_input = Input(shape=[1],name='anime-input')\n",
    "anime_embedding = Embedding(num_animes + 1, latent_dim, name='anime-embedding')(anime_input)\n",
    "anime_vec = Flatten(name='anime-flatten')(anime_embedding)\n",
    "\n",
    "user_input = Input(shape=[1],name='user-input')\n",
    "user_embedding = Embedding(num_users + 1, latent_dim, name='user-embedding')(user_input)\n",
    "user_vec = Flatten(name='user-flatten')(user_embedding)\n",
    "\n",
    "prod = dot([anime_vec, user_vec], axes=1, normalize=False, name='dot-product')\n",
    "\n",
    "model = Model([user_input, anime_input], prod)\n",
    "model.compile('adam', 'mean_squared_error'\n",
    "              #,metrics=['mse']\n",
    "             )"
   ]
  },
  {
   "cell_type": "code",
   "execution_count": 12,
   "id": "bfa0872b",
   "metadata": {},
   "outputs": [
    {
     "data": {
      "image/svg+xml": [
       "<svg xmlns=\"http://www.w3.org/2000/svg\" xmlns:xlink=\"http://www.w3.org/1999/xlink\" width=\"758pt\" height=\"274pt\" viewBox=\"0.00 0.00 840.00 304.00\">\n",
       "<g id=\"graph0\" class=\"graph\" transform=\"scale(0.9 0.9) rotate(0) translate(4 300)\">\n",
       "<title>G</title>\n",
       "<polygon fill=\"white\" stroke=\"transparent\" points=\"-4,4 -4,-300 836,-300 836,4 -4,4\"/>\n",
       "<!-- 139911912955424 -->\n",
       "<g id=\"node1\" class=\"node\">\n",
       "<title>139911912955424</title>\n",
       "<polygon fill=\"none\" stroke=\"black\" points=\"31,-249.5 31,-295.5 382,-295.5 382,-249.5 31,-249.5\"/>\n",
       "<text text-anchor=\"middle\" x=\"126\" y=\"-268.8\" font-family=\"Times,serif\" font-size=\"14.00\">anime-input: InputLayer</text>\n",
       "<polyline fill=\"none\" stroke=\"black\" points=\"221,-249.5 221,-295.5 \"/>\n",
       "<text text-anchor=\"middle\" x=\"255\" y=\"-280.3\" font-family=\"Times,serif\" font-size=\"14.00\">input:</text>\n",
       "<polyline fill=\"none\" stroke=\"black\" points=\"221,-272.5 289,-272.5 \"/>\n",
       "<text text-anchor=\"middle\" x=\"255\" y=\"-257.3\" font-family=\"Times,serif\" font-size=\"14.00\">output:</text>\n",
       "<polyline fill=\"none\" stroke=\"black\" points=\"289,-249.5 289,-295.5 \"/>\n",
       "<text text-anchor=\"middle\" x=\"335.5\" y=\"-280.3\" font-family=\"Times,serif\" font-size=\"14.00\">[(None, 1)]</text>\n",
       "<polyline fill=\"none\" stroke=\"black\" points=\"289,-272.5 382,-272.5 \"/>\n",
       "<text text-anchor=\"middle\" x=\"335.5\" y=\"-257.3\" font-family=\"Times,serif\" font-size=\"14.00\">[(None, 1)]</text>\n",
       "</g>\n",
       "<!-- 139911912955280 -->\n",
       "<g id=\"node3\" class=\"node\">\n",
       "<title>139911912955280</title>\n",
       "<polygon fill=\"none\" stroke=\"black\" points=\"0,-166.5 0,-212.5 413,-212.5 413,-166.5 0,-166.5\"/>\n",
       "<text text-anchor=\"middle\" x=\"117.5\" y=\"-185.8\" font-family=\"Times,serif\" font-size=\"14.00\">anime-embedding: Embedding</text>\n",
       "<polyline fill=\"none\" stroke=\"black\" points=\"235,-166.5 235,-212.5 \"/>\n",
       "<text text-anchor=\"middle\" x=\"269\" y=\"-197.3\" font-family=\"Times,serif\" font-size=\"14.00\">input:</text>\n",
       "<polyline fill=\"none\" stroke=\"black\" points=\"235,-189.5 303,-189.5 \"/>\n",
       "<text text-anchor=\"middle\" x=\"269\" y=\"-174.3\" font-family=\"Times,serif\" font-size=\"14.00\">output:</text>\n",
       "<polyline fill=\"none\" stroke=\"black\" points=\"303,-166.5 303,-212.5 \"/>\n",
       "<text text-anchor=\"middle\" x=\"358\" y=\"-197.3\" font-family=\"Times,serif\" font-size=\"14.00\">(None, 1)</text>\n",
       "<polyline fill=\"none\" stroke=\"black\" points=\"303,-189.5 413,-189.5 \"/>\n",
       "<text text-anchor=\"middle\" x=\"358\" y=\"-174.3\" font-family=\"Times,serif\" font-size=\"14.00\">(None, 1, 10)</text>\n",
       "</g>\n",
       "<!-- 139911912955424&#45;&gt;139911912955280 -->\n",
       "<g id=\"edge1\" class=\"edge\">\n",
       "<title>139911912955424-&gt;139911912955280</title>\n",
       "<path fill=\"none\" stroke=\"black\" d=\"M206.5,-249.37C206.5,-241.15 206.5,-231.66 206.5,-222.73\"/>\n",
       "<polygon fill=\"black\" stroke=\"black\" points=\"210,-222.61 206.5,-212.61 203,-222.61 210,-222.61\"/>\n",
       "</g>\n",
       "<!-- 139911912954800 -->\n",
       "<g id=\"node2\" class=\"node\">\n",
       "<title>139911912954800</title>\n",
       "<polygon fill=\"none\" stroke=\"black\" points=\"462,-249.5 462,-295.5 801,-295.5 801,-249.5 462,-249.5\"/>\n",
       "<text text-anchor=\"middle\" x=\"551\" y=\"-268.8\" font-family=\"Times,serif\" font-size=\"14.00\">user-input: InputLayer</text>\n",
       "<polyline fill=\"none\" stroke=\"black\" points=\"640,-249.5 640,-295.5 \"/>\n",
       "<text text-anchor=\"middle\" x=\"674\" y=\"-280.3\" font-family=\"Times,serif\" font-size=\"14.00\">input:</text>\n",
       "<polyline fill=\"none\" stroke=\"black\" points=\"640,-272.5 708,-272.5 \"/>\n",
       "<text text-anchor=\"middle\" x=\"674\" y=\"-257.3\" font-family=\"Times,serif\" font-size=\"14.00\">output:</text>\n",
       "<polyline fill=\"none\" stroke=\"black\" points=\"708,-249.5 708,-295.5 \"/>\n",
       "<text text-anchor=\"middle\" x=\"754.5\" y=\"-280.3\" font-family=\"Times,serif\" font-size=\"14.00\">[(None, 1)]</text>\n",
       "<polyline fill=\"none\" stroke=\"black\" points=\"708,-272.5 801,-272.5 \"/>\n",
       "<text text-anchor=\"middle\" x=\"754.5\" y=\"-257.3\" font-family=\"Times,serif\" font-size=\"14.00\">[(None, 1)]</text>\n",
       "</g>\n",
       "<!-- 139911912167216 -->\n",
       "<g id=\"node4\" class=\"node\">\n",
       "<title>139911912167216</title>\n",
       "<polygon fill=\"none\" stroke=\"black\" points=\"431,-166.5 431,-212.5 832,-212.5 832,-166.5 431,-166.5\"/>\n",
       "<text text-anchor=\"middle\" x=\"542.5\" y=\"-185.8\" font-family=\"Times,serif\" font-size=\"14.00\">user-embedding: Embedding</text>\n",
       "<polyline fill=\"none\" stroke=\"black\" points=\"654,-166.5 654,-212.5 \"/>\n",
       "<text text-anchor=\"middle\" x=\"688\" y=\"-197.3\" font-family=\"Times,serif\" font-size=\"14.00\">input:</text>\n",
       "<polyline fill=\"none\" stroke=\"black\" points=\"654,-189.5 722,-189.5 \"/>\n",
       "<text text-anchor=\"middle\" x=\"688\" y=\"-174.3\" font-family=\"Times,serif\" font-size=\"14.00\">output:</text>\n",
       "<polyline fill=\"none\" stroke=\"black\" points=\"722,-166.5 722,-212.5 \"/>\n",
       "<text text-anchor=\"middle\" x=\"777\" y=\"-197.3\" font-family=\"Times,serif\" font-size=\"14.00\">(None, 1)</text>\n",
       "<polyline fill=\"none\" stroke=\"black\" points=\"722,-189.5 832,-189.5 \"/>\n",
       "<text text-anchor=\"middle\" x=\"777\" y=\"-174.3\" font-family=\"Times,serif\" font-size=\"14.00\">(None, 1, 10)</text>\n",
       "</g>\n",
       "<!-- 139911912954800&#45;&gt;139911912167216 -->\n",
       "<g id=\"edge2\" class=\"edge\">\n",
       "<title>139911912954800-&gt;139911912167216</title>\n",
       "<path fill=\"none\" stroke=\"black\" d=\"M631.5,-249.37C631.5,-241.15 631.5,-231.66 631.5,-222.73\"/>\n",
       "<polygon fill=\"black\" stroke=\"black\" points=\"635,-222.61 631.5,-212.61 628,-222.61 635,-222.61\"/>\n",
       "</g>\n",
       "<!-- 139911912719312 -->\n",
       "<g id=\"node5\" class=\"node\">\n",
       "<title>139911912719312</title>\n",
       "<polygon fill=\"none\" stroke=\"black\" points=\"62.5,-83.5 62.5,-129.5 412.5,-129.5 412.5,-83.5 62.5,-83.5\"/>\n",
       "<text text-anchor=\"middle\" x=\"148.5\" y=\"-102.8\" font-family=\"Times,serif\" font-size=\"14.00\">anime-flatten: Flatten</text>\n",
       "<polyline fill=\"none\" stroke=\"black\" points=\"234.5,-83.5 234.5,-129.5 \"/>\n",
       "<text text-anchor=\"middle\" x=\"268.5\" y=\"-114.3\" font-family=\"Times,serif\" font-size=\"14.00\">input:</text>\n",
       "<polyline fill=\"none\" stroke=\"black\" points=\"234.5,-106.5 302.5,-106.5 \"/>\n",
       "<text text-anchor=\"middle\" x=\"268.5\" y=\"-91.3\" font-family=\"Times,serif\" font-size=\"14.00\">output:</text>\n",
       "<polyline fill=\"none\" stroke=\"black\" points=\"302.5,-83.5 302.5,-129.5 \"/>\n",
       "<text text-anchor=\"middle\" x=\"357.5\" y=\"-114.3\" font-family=\"Times,serif\" font-size=\"14.00\">(None, 1, 10)</text>\n",
       "<polyline fill=\"none\" stroke=\"black\" points=\"302.5,-106.5 412.5,-106.5 \"/>\n",
       "<text text-anchor=\"middle\" x=\"357.5\" y=\"-91.3\" font-family=\"Times,serif\" font-size=\"14.00\">(None, 10)</text>\n",
       "</g>\n",
       "<!-- 139911912955280&#45;&gt;139911912719312 -->\n",
       "<g id=\"edge3\" class=\"edge\">\n",
       "<title>139911912955280-&gt;139911912719312</title>\n",
       "<path fill=\"none\" stroke=\"black\" d=\"M214.97,-166.37C218.18,-157.97 221.91,-148.24 225.39,-139.14\"/>\n",
       "<polygon fill=\"black\" stroke=\"black\" points=\"228.73,-140.2 229.04,-129.61 222.2,-137.7 228.73,-140.2\"/>\n",
       "</g>\n",
       "<!-- 139911911904880 -->\n",
       "<g id=\"node6\" class=\"node\">\n",
       "<title>139911911904880</title>\n",
       "<polygon fill=\"none\" stroke=\"black\" points=\"446.5,-83.5 446.5,-129.5 784.5,-129.5 784.5,-83.5 446.5,-83.5\"/>\n",
       "<text text-anchor=\"middle\" x=\"526.5\" y=\"-102.8\" font-family=\"Times,serif\" font-size=\"14.00\">user-flatten: Flatten</text>\n",
       "<polyline fill=\"none\" stroke=\"black\" points=\"606.5,-83.5 606.5,-129.5 \"/>\n",
       "<text text-anchor=\"middle\" x=\"640.5\" y=\"-114.3\" font-family=\"Times,serif\" font-size=\"14.00\">input:</text>\n",
       "<polyline fill=\"none\" stroke=\"black\" points=\"606.5,-106.5 674.5,-106.5 \"/>\n",
       "<text text-anchor=\"middle\" x=\"640.5\" y=\"-91.3\" font-family=\"Times,serif\" font-size=\"14.00\">output:</text>\n",
       "<polyline fill=\"none\" stroke=\"black\" points=\"674.5,-83.5 674.5,-129.5 \"/>\n",
       "<text text-anchor=\"middle\" x=\"729.5\" y=\"-114.3\" font-family=\"Times,serif\" font-size=\"14.00\">(None, 1, 10)</text>\n",
       "<polyline fill=\"none\" stroke=\"black\" points=\"674.5,-106.5 784.5,-106.5 \"/>\n",
       "<text text-anchor=\"middle\" x=\"729.5\" y=\"-91.3\" font-family=\"Times,serif\" font-size=\"14.00\">(None, 10)</text>\n",
       "</g>\n",
       "<!-- 139911912167216&#45;&gt;139911911904880 -->\n",
       "<g id=\"edge4\" class=\"edge\">\n",
       "<title>139911912167216-&gt;139911911904880</title>\n",
       "<path fill=\"none\" stroke=\"black\" d=\"M627.13,-166.37C625.49,-158.06 623.59,-148.45 621.81,-139.43\"/>\n",
       "<polygon fill=\"black\" stroke=\"black\" points=\"625.24,-138.74 619.87,-129.61 618.37,-140.1 625.24,-138.74\"/>\n",
       "</g>\n",
       "<!-- 139911911904832 -->\n",
       "<g id=\"node7\" class=\"node\">\n",
       "<title>139911911904832</title>\n",
       "<polygon fill=\"none\" stroke=\"black\" points=\"224.5,-0.5 224.5,-46.5 612.5,-46.5 612.5,-0.5 224.5,-0.5\"/>\n",
       "<text text-anchor=\"middle\" x=\"291.5\" y=\"-19.8\" font-family=\"Times,serif\" font-size=\"14.00\">dot-product: Dot</text>\n",
       "<polyline fill=\"none\" stroke=\"black\" points=\"358.5,-0.5 358.5,-46.5 \"/>\n",
       "<text text-anchor=\"middle\" x=\"392.5\" y=\"-31.3\" font-family=\"Times,serif\" font-size=\"14.00\">input:</text>\n",
       "<polyline fill=\"none\" stroke=\"black\" points=\"358.5,-23.5 426.5,-23.5 \"/>\n",
       "<text text-anchor=\"middle\" x=\"392.5\" y=\"-8.3\" font-family=\"Times,serif\" font-size=\"14.00\">output:</text>\n",
       "<polyline fill=\"none\" stroke=\"black\" points=\"426.5,-0.5 426.5,-46.5 \"/>\n",
       "<text text-anchor=\"middle\" x=\"519.5\" y=\"-31.3\" font-family=\"Times,serif\" font-size=\"14.00\">[(None, 10), (None, 10)]</text>\n",
       "<polyline fill=\"none\" stroke=\"black\" points=\"426.5,-23.5 612.5,-23.5 \"/>\n",
       "<text text-anchor=\"middle\" x=\"519.5\" y=\"-8.3\" font-family=\"Times,serif\" font-size=\"14.00\">(None, 1)</text>\n",
       "</g>\n",
       "<!-- 139911912719312&#45;&gt;139911911904832 -->\n",
       "<g id=\"edge5\" class=\"edge\">\n",
       "<title>139911912719312-&gt;139911911904832</title>\n",
       "<path fill=\"none\" stroke=\"black\" d=\"M286.96,-83.37C309.51,-73.28 336.36,-61.26 359.91,-50.72\"/>\n",
       "<polygon fill=\"black\" stroke=\"black\" points=\"361.4,-53.89 369.1,-46.61 358.54,-47.5 361.4,-53.89\"/>\n",
       "</g>\n",
       "<!-- 139911911904880&#45;&gt;139911911904832 -->\n",
       "<g id=\"edge6\" class=\"edge\">\n",
       "<title>139911911904880-&gt;139911911904832</title>\n",
       "<path fill=\"none\" stroke=\"black\" d=\"M561.93,-83.47C537.07,-73.25 507.35,-61.03 481.42,-50.37\"/>\n",
       "<polygon fill=\"black\" stroke=\"black\" points=\"482.64,-47.09 472.06,-46.52 479.98,-53.56 482.64,-47.09\"/>\n",
       "</g>\n",
       "</g>\n",
       "</svg>"
      ],
      "text/plain": [
       "<IPython.core.display.SVG object>"
      ]
     },
     "execution_count": 12,
     "metadata": {},
     "output_type": "execute_result"
    }
   ],
   "source": [
    "#SVG(model_to_dot(model, show_shapes=True).create(prog='dot', format='svg'))\n",
    "SVG(model_to_dot(model, show_shapes= True, show_layer_names=True, dpi=65).create(prog='dot', format='svg'))"
   ]
  },
  {
   "cell_type": "code",
   "execution_count": 28,
   "id": "384c4d29",
   "metadata": {},
   "outputs": [
    {
     "name": "stdout",
     "output_type": "stream",
     "text": [
      "Model: \"model\"\n",
      "__________________________________________________________________________________________________\n",
      "Layer (type)                    Output Shape         Param #     Connected to                     \n",
      "==================================================================================================\n",
      "anime-input (InputLayer)        [(None, 1)]          0                                            \n",
      "__________________________________________________________________________________________________\n",
      "user-input (InputLayer)         [(None, 1)]          0                                            \n",
      "__________________________________________________________________________________________________\n",
      "anime-embedding (Embedding)     (None, 1, 10)        101830      anime-input[0][0]                \n",
      "__________________________________________________________________________________________________\n",
      "user-embedding (Embedding)      (None, 1, 10)        40230       user-input[0][0]                 \n",
      "__________________________________________________________________________________________________\n",
      "anime-flatten (Flatten)         (None, 10)           0           anime-embedding[0][0]            \n",
      "__________________________________________________________________________________________________\n",
      "user-flatten (Flatten)          (None, 10)           0           user-embedding[0][0]             \n",
      "__________________________________________________________________________________________________\n",
      "dot-product (Dot)               (None, 1)            0           anime-flatten[0][0]              \n",
      "                                                                 user-flatten[0][0]               \n",
      "==================================================================================================\n",
      "Total params: 142,060\n",
      "Trainable params: 142,060\n",
      "Non-trainable params: 0\n",
      "__________________________________________________________________________________________________\n"
     ]
    }
   ],
   "source": [
    "model.summary()"
   ]
  },
  {
   "cell_type": "code",
   "execution_count": 13,
   "id": "aaf80e06",
   "metadata": {},
   "outputs": [],
   "source": [
    "dataset.rating = dataset.rating.astype(float)"
   ]
  },
  {
   "cell_type": "code",
   "execution_count": 14,
   "id": "d891ccac",
   "metadata": {},
   "outputs": [
    {
     "data": {
      "text/plain": [
       "user_id       int64\n",
       "anime_id      int64\n",
       "rating      float64\n",
       "dtype: object"
      ]
     },
     "execution_count": 14,
     "metadata": {},
     "output_type": "execute_result"
    }
   ],
   "source": [
    "dataset.dtypes"
   ]
  },
  {
   "cell_type": "code",
   "execution_count": 15,
   "id": "7bae4f93",
   "metadata": {
    "scrolled": true
   },
   "outputs": [
    {
     "data": {
      "text/plain": [
       "(646320,)"
      ]
     },
     "execution_count": 15,
     "metadata": {},
     "output_type": "execute_result"
    }
   ],
   "source": [
    "train.user_id.shape"
   ]
  },
  {
   "cell_type": "code",
   "execution_count": 16,
   "id": "bcd6d17a",
   "metadata": {},
   "outputs": [
    {
     "data": {
      "text/plain": [
       "(646320,)"
      ]
     },
     "execution_count": 16,
     "metadata": {},
     "output_type": "execute_result"
    }
   ],
   "source": [
    "train.anime_id.shape"
   ]
  },
  {
   "cell_type": "code",
   "execution_count": 17,
   "id": "6e693b5a",
   "metadata": {},
   "outputs": [
    {
     "data": {
      "text/plain": [
       "(646320,)"
      ]
     },
     "execution_count": 17,
     "metadata": {},
     "output_type": "execute_result"
    }
   ],
   "source": [
    "train.rating.shape"
   ]
  },
  {
   "cell_type": "code",
   "execution_count": 34,
   "id": "2c8150db",
   "metadata": {},
   "outputs": [],
   "source": []
  },
  {
   "cell_type": "code",
   "execution_count": 35,
   "id": "f265e082",
   "metadata": {
    "scrolled": true
   },
   "outputs": [
    {
     "name": "stdout",
     "output_type": "stream",
     "text": [
      "Epoch 1/4\n"
     ]
    },
    {
     "name": "stderr",
     "output_type": "stream",
     "text": [
      "2021-08-29 18:25:15.995661: I tensorflow/compiler/mlir/mlir_graph_optimization_pass.cc:185] None of the MLIR Optimization Passes are enabled (registered 2)\n"
     ]
    },
    {
     "name": "stdout",
     "output_type": "stream",
     "text": [
      "20198/20198 [==============================] - 43s 2ms/step - loss: 21.1265\n",
      "Epoch 2/4\n",
      "20198/20198 [==============================] - 45s 2ms/step - loss: 2.9112\n",
      "Epoch 3/4\n",
      "20198/20198 [==============================] - 42s 2ms/step - loss: 2.1979\n",
      "Epoch 4/4\n",
      "20198/20198 [==============================] - 36s 2ms/step - loss: 1.9949\n"
     ]
    }
   ],
   "source": [
    "history = model.fit([train.user_id, train.anime_id], train.rating, epochs=10)"
   ]
  },
  {
   "cell_type": "code",
   "execution_count": 43,
   "id": "21575405",
   "metadata": {},
   "outputs": [
    {
     "data": {
      "image/png": "[encoded data removed]",
      "text/plain": [
       "<Figure size 432x288 with 1 Axes>"
      ]
     },
     "metadata": {
      "needs_background": "light"
     },
     "output_type": "display_data"
    },
    {
     "data": {
      "text/plain": [
       "7.480500742666129"
      ]
     },
     "execution_count": 43,
     "metadata": {},
     "output_type": "execute_result"
    }
   ],
   "source": [
    "pd.Series(history.history['loss']).plot(logy=True)\n",
    "plt.xlabel(\"Epoch\")\n",
    "plt.ylabel(\"Train Error\")\n",
    "plt.show()\n",
    "\n",
    "y_hat = np.round(model.predict([test.user_id, test.anime_id]), decimals=2)\n",
    "y_true = test.rating\n",
    "mean_absolute_error(y_true, y_hat)"
   ]
  },
  {
   "cell_type": "markdown",
   "id": "77952ec0",
   "metadata": {},
   "source": []
  },
  {
   "cell_type": "markdown",
   "id": "ce627422",
   "metadata": {},
   "source": [
    "## non-negative matrix factorization"
   ]
  },
  {
   "cell_type": "code",
   "execution_count": 45,
   "id": "e6667968",
   "metadata": {},
   "outputs": [],
   "source": [
    "latent_dim = 5\n",
    "\n",
    "anime_input = Input(shape=[1],name='anime-input')\n",
    "anime_embedding = Embedding(num_animes + 1, latent_dim, name='anime-embedding',\n",
    "                                                        embeddings_constraint=non_neg())(anime_input)\n",
    "anime_vec = Flatten(name='anime-flatten')(anime_embedding)\n",
    "\n",
    "user_input = Input(shape=[1],name='user-input')\n",
    "user_embedding = Embedding(num_users + 1, latent_dim, name='user-embedding',\n",
    "                                                      embeddings_constraint=non_neg())(user_input)\n",
    "user_vec = Flatten(name='user-flatten')(user_embedding)\n",
    "\n",
    "prod = dot([anime_vec, user_vec], axes=1, normalize=False, name='dot-product')\n",
    "\n",
    "model = Model([user_input, anime_input], prod)\n",
    "model.compile('adam', 'mean_squared_error')"
   ]
  },
  {
   "cell_type": "code",
   "execution_count": null,
   "id": "6fea079c",
   "metadata": {},
   "outputs": [],
   "source": []
  },
  {
   "cell_type": "code",
   "execution_count": 46,
   "id": "5d51245d",
   "metadata": {},
   "outputs": [
    {
     "data": {
      "image/svg+xml": [
       "<svg xmlns=\"http://www.w3.org/2000/svg\" xmlns:xlink=\"http://www.w3.org/1999/xlink\" width=\"742pt\" height=\"274pt\" viewBox=\"0.00 0.00 822.00 304.00\">\n",
       "<g id=\"graph0\" class=\"graph\" transform=\"scale(0.9 0.9) rotate(0) translate(4 300)\">\n",
       "<title>G</title>\n",
       "<polygon fill=\"white\" stroke=\"transparent\" points=\"-4,4 -4,-300 818,-300 818,4 -4,4\"/>\n",
       "<!-- 139984796195856 -->\n",
       "<g id=\"node1\" class=\"node\">\n",
       "<title>139984796195856</title>\n",
       "<polygon fill=\"none\" stroke=\"black\" points=\"26.5,-249.5 26.5,-295.5 377.5,-295.5 377.5,-249.5 26.5,-249.5\"/>\n",
       "<text text-anchor=\"middle\" x=\"121.5\" y=\"-268.8\" font-family=\"Times,serif\" font-size=\"14.00\">anime-input: InputLayer</text>\n",
       "<polyline fill=\"none\" stroke=\"black\" points=\"216.5,-249.5 216.5,-295.5 \"/>\n",
       "<text text-anchor=\"middle\" x=\"250.5\" y=\"-280.3\" font-family=\"Times,serif\" font-size=\"14.00\">input:</text>\n",
       "<polyline fill=\"none\" stroke=\"black\" points=\"216.5,-272.5 284.5,-272.5 \"/>\n",
       "<text text-anchor=\"middle\" x=\"250.5\" y=\"-257.3\" font-family=\"Times,serif\" font-size=\"14.00\">output:</text>\n",
       "<polyline fill=\"none\" stroke=\"black\" points=\"284.5,-249.5 284.5,-295.5 \"/>\n",
       "<text text-anchor=\"middle\" x=\"331\" y=\"-280.3\" font-family=\"Times,serif\" font-size=\"14.00\">[(None, 1)]</text>\n",
       "<polyline fill=\"none\" stroke=\"black\" points=\"284.5,-272.5 377.5,-272.5 \"/>\n",
       "<text text-anchor=\"middle\" x=\"331\" y=\"-257.3\" font-family=\"Times,serif\" font-size=\"14.00\">[(None, 1)]</text>\n",
       "</g>\n",
       "<!-- 139983780273648 -->\n",
       "<g id=\"node3\" class=\"node\">\n",
       "<title>139983780273648</title>\n",
       "<polygon fill=\"none\" stroke=\"black\" points=\"0,-166.5 0,-212.5 404,-212.5 404,-166.5 0,-166.5\"/>\n",
       "<text text-anchor=\"middle\" x=\"117.5\" y=\"-185.8\" font-family=\"Times,serif\" font-size=\"14.00\">anime-embedding: Embedding</text>\n",
       "<polyline fill=\"none\" stroke=\"black\" points=\"235,-166.5 235,-212.5 \"/>\n",
       "<text text-anchor=\"middle\" x=\"269\" y=\"-197.3\" font-family=\"Times,serif\" font-size=\"14.00\">input:</text>\n",
       "<polyline fill=\"none\" stroke=\"black\" points=\"235,-189.5 303,-189.5 \"/>\n",
       "<text text-anchor=\"middle\" x=\"269\" y=\"-174.3\" font-family=\"Times,serif\" font-size=\"14.00\">output:</text>\n",
       "<polyline fill=\"none\" stroke=\"black\" points=\"303,-166.5 303,-212.5 \"/>\n",
       "<text text-anchor=\"middle\" x=\"353.5\" y=\"-197.3\" font-family=\"Times,serif\" font-size=\"14.00\">(None, 1)</text>\n",
       "<polyline fill=\"none\" stroke=\"black\" points=\"303,-189.5 404,-189.5 \"/>\n",
       "<text text-anchor=\"middle\" x=\"353.5\" y=\"-174.3\" font-family=\"Times,serif\" font-size=\"14.00\">(None, 1, 5)</text>\n",
       "</g>\n",
       "<!-- 139984796195856&#45;&gt;139983780273648 -->\n",
       "<g id=\"edge1\" class=\"edge\">\n",
       "<title>139984796195856-&gt;139983780273648</title>\n",
       "<path fill=\"none\" stroke=\"black\" d=\"M202,-249.37C202,-241.15 202,-231.66 202,-222.73\"/>\n",
       "<polygon fill=\"black\" stroke=\"black\" points=\"205.5,-222.61 202,-212.61 198.5,-222.61 205.5,-222.61\"/>\n",
       "</g>\n",
       "<!-- 139984796195712 -->\n",
       "<g id=\"node2\" class=\"node\">\n",
       "<title>139984796195712</title>\n",
       "<polygon fill=\"none\" stroke=\"black\" points=\"448.5,-249.5 448.5,-295.5 787.5,-295.5 787.5,-249.5 448.5,-249.5\"/>\n",
       "<text text-anchor=\"middle\" x=\"537.5\" y=\"-268.8\" font-family=\"Times,serif\" font-size=\"14.00\">user-input: InputLayer</text>\n",
       "<polyline fill=\"none\" stroke=\"black\" points=\"626.5,-249.5 626.5,-295.5 \"/>\n",
       "<text text-anchor=\"middle\" x=\"660.5\" y=\"-280.3\" font-family=\"Times,serif\" font-size=\"14.00\">input:</text>\n",
       "<polyline fill=\"none\" stroke=\"black\" points=\"626.5,-272.5 694.5,-272.5 \"/>\n",
       "<text text-anchor=\"middle\" x=\"660.5\" y=\"-257.3\" font-family=\"Times,serif\" font-size=\"14.00\">output:</text>\n",
       "<polyline fill=\"none\" stroke=\"black\" points=\"694.5,-249.5 694.5,-295.5 \"/>\n",
       "<text text-anchor=\"middle\" x=\"741\" y=\"-280.3\" font-family=\"Times,serif\" font-size=\"14.00\">[(None, 1)]</text>\n",
       "<polyline fill=\"none\" stroke=\"black\" points=\"694.5,-272.5 787.5,-272.5 \"/>\n",
       "<text text-anchor=\"middle\" x=\"741\" y=\"-257.3\" font-family=\"Times,serif\" font-size=\"14.00\">[(None, 1)]</text>\n",
       "</g>\n",
       "<!-- 139984796215760 -->\n",
       "<g id=\"node4\" class=\"node\">\n",
       "<title>139984796215760</title>\n",
       "<polygon fill=\"none\" stroke=\"black\" points=\"422,-166.5 422,-212.5 814,-212.5 814,-166.5 422,-166.5\"/>\n",
       "<text text-anchor=\"middle\" x=\"533.5\" y=\"-185.8\" font-family=\"Times,serif\" font-size=\"14.00\">user-embedding: Embedding</text>\n",
       "<polyline fill=\"none\" stroke=\"black\" points=\"645,-166.5 645,-212.5 \"/>\n",
       "<text text-anchor=\"middle\" x=\"679\" y=\"-197.3\" font-family=\"Times,serif\" font-size=\"14.00\">input:</text>\n",
       "<polyline fill=\"none\" stroke=\"black\" points=\"645,-189.5 713,-189.5 \"/>\n",
       "<text text-anchor=\"middle\" x=\"679\" y=\"-174.3\" font-family=\"Times,serif\" font-size=\"14.00\">output:</text>\n",
       "<polyline fill=\"none\" stroke=\"black\" points=\"713,-166.5 713,-212.5 \"/>\n",
       "<text text-anchor=\"middle\" x=\"763.5\" y=\"-197.3\" font-family=\"Times,serif\" font-size=\"14.00\">(None, 1)</text>\n",
       "<polyline fill=\"none\" stroke=\"black\" points=\"713,-189.5 814,-189.5 \"/>\n",
       "<text text-anchor=\"middle\" x=\"763.5\" y=\"-174.3\" font-family=\"Times,serif\" font-size=\"14.00\">(None, 1, 5)</text>\n",
       "</g>\n",
       "<!-- 139984796195712&#45;&gt;139984796215760 -->\n",
       "<g id=\"edge2\" class=\"edge\">\n",
       "<title>139984796195712-&gt;139984796215760</title>\n",
       "<path fill=\"none\" stroke=\"black\" d=\"M618,-249.37C618,-241.15 618,-231.66 618,-222.73\"/>\n",
       "<polygon fill=\"black\" stroke=\"black\" points=\"621.5,-222.61 618,-212.61 614.5,-222.61 621.5,-222.61\"/>\n",
       "</g>\n",
       "<!-- 139984796194176 -->\n",
       "<g id=\"node5\" class=\"node\">\n",
       "<title>139984796194176</title>\n",
       "<polygon fill=\"none\" stroke=\"black\" points=\"62.5,-83.5 62.5,-129.5 403.5,-129.5 403.5,-83.5 62.5,-83.5\"/>\n",
       "<text text-anchor=\"middle\" x=\"148.5\" y=\"-102.8\" font-family=\"Times,serif\" font-size=\"14.00\">anime-flatten: Flatten</text>\n",
       "<polyline fill=\"none\" stroke=\"black\" points=\"234.5,-83.5 234.5,-129.5 \"/>\n",
       "<text text-anchor=\"middle\" x=\"268.5\" y=\"-114.3\" font-family=\"Times,serif\" font-size=\"14.00\">input:</text>\n",
       "<polyline fill=\"none\" stroke=\"black\" points=\"234.5,-106.5 302.5,-106.5 \"/>\n",
       "<text text-anchor=\"middle\" x=\"268.5\" y=\"-91.3\" font-family=\"Times,serif\" font-size=\"14.00\">output:</text>\n",
       "<polyline fill=\"none\" stroke=\"black\" points=\"302.5,-83.5 302.5,-129.5 \"/>\n",
       "<text text-anchor=\"middle\" x=\"353\" y=\"-114.3\" font-family=\"Times,serif\" font-size=\"14.00\">(None, 1, 5)</text>\n",
       "<polyline fill=\"none\" stroke=\"black\" points=\"302.5,-106.5 403.5,-106.5 \"/>\n",
       "<text text-anchor=\"middle\" x=\"353\" y=\"-91.3\" font-family=\"Times,serif\" font-size=\"14.00\">(None, 5)</text>\n",
       "</g>\n",
       "<!-- 139983780273648&#45;&gt;139984796194176 -->\n",
       "<g id=\"edge3\" class=\"edge\">\n",
       "<title>139983780273648-&gt;139984796194176</title>\n",
       "<path fill=\"none\" stroke=\"black\" d=\"M210.47,-166.37C213.68,-157.97 217.41,-148.24 220.89,-139.14\"/>\n",
       "<polygon fill=\"black\" stroke=\"black\" points=\"224.23,-140.2 224.54,-129.61 217.7,-137.7 224.23,-140.2\"/>\n",
       "</g>\n",
       "<!-- 139984796137552 -->\n",
       "<g id=\"node6\" class=\"node\">\n",
       "<title>139984796137552</title>\n",
       "<polygon fill=\"none\" stroke=\"black\" points=\"437.5,-83.5 437.5,-129.5 766.5,-129.5 766.5,-83.5 437.5,-83.5\"/>\n",
       "<text text-anchor=\"middle\" x=\"517.5\" y=\"-102.8\" font-family=\"Times,serif\" font-size=\"14.00\">user-flatten: Flatten</text>\n",
       "<polyline fill=\"none\" stroke=\"black\" points=\"597.5,-83.5 597.5,-129.5 \"/>\n",
       "<text text-anchor=\"middle\" x=\"631.5\" y=\"-114.3\" font-family=\"Times,serif\" font-size=\"14.00\">input:</text>\n",
       "<polyline fill=\"none\" stroke=\"black\" points=\"597.5,-106.5 665.5,-106.5 \"/>\n",
       "<text text-anchor=\"middle\" x=\"631.5\" y=\"-91.3\" font-family=\"Times,serif\" font-size=\"14.00\">output:</text>\n",
       "<polyline fill=\"none\" stroke=\"black\" points=\"665.5,-83.5 665.5,-129.5 \"/>\n",
       "<text text-anchor=\"middle\" x=\"716\" y=\"-114.3\" font-family=\"Times,serif\" font-size=\"14.00\">(None, 1, 5)</text>\n",
       "<polyline fill=\"none\" stroke=\"black\" points=\"665.5,-106.5 766.5,-106.5 \"/>\n",
       "<text text-anchor=\"middle\" x=\"716\" y=\"-91.3\" font-family=\"Times,serif\" font-size=\"14.00\">(None, 5)</text>\n",
       "</g>\n",
       "<!-- 139984796215760&#45;&gt;139984796137552 -->\n",
       "<g id=\"edge4\" class=\"edge\">\n",
       "<title>139984796215760-&gt;139984796137552</title>\n",
       "<path fill=\"none\" stroke=\"black\" d=\"M613.63,-166.37C611.99,-158.06 610.09,-148.45 608.31,-139.43\"/>\n",
       "<polygon fill=\"black\" stroke=\"black\" points=\"611.74,-138.74 606.37,-129.61 604.87,-140.1 611.74,-138.74\"/>\n",
       "</g>\n",
       "<!-- 139984796217104 -->\n",
       "<g id=\"node7\" class=\"node\">\n",
       "<title>139984796217104</title>\n",
       "<polygon fill=\"none\" stroke=\"black\" points=\"224,-0.5 224,-46.5 594,-46.5 594,-0.5 224,-0.5\"/>\n",
       "<text text-anchor=\"middle\" x=\"291\" y=\"-19.8\" font-family=\"Times,serif\" font-size=\"14.00\">dot-product: Dot</text>\n",
       "<polyline fill=\"none\" stroke=\"black\" points=\"358,-0.5 358,-46.5 \"/>\n",
       "<text text-anchor=\"middle\" x=\"392\" y=\"-31.3\" font-family=\"Times,serif\" font-size=\"14.00\">input:</text>\n",
       "<polyline fill=\"none\" stroke=\"black\" points=\"358,-23.5 426,-23.5 \"/>\n",
       "<text text-anchor=\"middle\" x=\"392\" y=\"-8.3\" font-family=\"Times,serif\" font-size=\"14.00\">output:</text>\n",
       "<polyline fill=\"none\" stroke=\"black\" points=\"426,-0.5 426,-46.5 \"/>\n",
       "<text text-anchor=\"middle\" x=\"510\" y=\"-31.3\" font-family=\"Times,serif\" font-size=\"14.00\">[(None, 5), (None, 5)]</text>\n",
       "<polyline fill=\"none\" stroke=\"black\" points=\"426,-23.5 594,-23.5 \"/>\n",
       "<text text-anchor=\"middle\" x=\"510\" y=\"-8.3\" font-family=\"Times,serif\" font-size=\"14.00\">(None, 1)</text>\n",
       "</g>\n",
       "<!-- 139984796194176&#45;&gt;139984796217104 -->\n",
       "<g id=\"edge5\" class=\"edge\">\n",
       "<title>139984796194176-&gt;139984796217104</title>\n",
       "<path fill=\"none\" stroke=\"black\" d=\"M281.09,-83.37C302.92,-73.32 328.9,-61.36 351.73,-50.86\"/>\n",
       "<polygon fill=\"black\" stroke=\"black\" points=\"353.34,-53.97 360.97,-46.61 350.42,-47.61 353.34,-53.97\"/>\n",
       "</g>\n",
       "<!-- 139984796137552&#45;&gt;139984796217104 -->\n",
       "<g id=\"edge6\" class=\"edge\">\n",
       "<title>139984796137552-&gt;139984796217104</title>\n",
       "<path fill=\"none\" stroke=\"black\" d=\"M549.52,-83.47C525.27,-73.3 496.3,-61.14 470.98,-50.51\"/>\n",
       "<polygon fill=\"black\" stroke=\"black\" points=\"472.05,-47.16 461.47,-46.52 469.34,-53.62 472.05,-47.16\"/>\n",
       "</g>\n",
       "</g>\n",
       "</svg>"
      ],
      "text/plain": [
       "<IPython.core.display.SVG object>"
      ]
     },
     "execution_count": 46,
     "metadata": {},
     "output_type": "execute_result"
    }
   ],
   "source": [
    "#SVG(model_to_dot(model, show_shapes=True).create(prog='dot', format='svg'))\n",
    "SVG(model_to_dot(model, show_shapes= True, show_layer_names=True, dpi=65).create(prog='dot', format='svg'))"
   ]
  },
  {
   "cell_type": "code",
   "execution_count": 47,
   "id": "aae3035d",
   "metadata": {},
   "outputs": [
    {
     "name": "stdout",
     "output_type": "stream",
     "text": [
      "Model: \"model_2\"\n",
      "__________________________________________________________________________________________________\n",
      "Layer (type)                    Output Shape         Param #     Connected to                     \n",
      "==================================================================================================\n",
      "anime-input (InputLayer)        [(None, 1)]          0                                            \n",
      "__________________________________________________________________________________________________\n",
      "user-input (InputLayer)         [(None, 1)]          0                                            \n",
      "__________________________________________________________________________________________________\n",
      "anime-embedding (Embedding)     (None, 1, 5)         50915       anime-input[0][0]                \n",
      "__________________________________________________________________________________________________\n",
      "user-embedding (Embedding)      (None, 1, 5)         20115       user-input[0][0]                 \n",
      "__________________________________________________________________________________________________\n",
      "anime-flatten (Flatten)         (None, 5)            0           anime-embedding[0][0]            \n",
      "__________________________________________________________________________________________________\n",
      "user-flatten (Flatten)          (None, 5)            0           user-embedding[0][0]             \n",
      "__________________________________________________________________________________________________\n",
      "dot-product (Dot)               (None, 1)            0           anime-flatten[0][0]              \n",
      "                                                                 user-flatten[0][0]               \n",
      "==================================================================================================\n",
      "Total params: 71,030\n",
      "Trainable params: 71,030\n",
      "Non-trainable params: 0\n",
      "__________________________________________________________________________________________________\n"
     ]
    }
   ],
   "source": [
    "model.summary()"
   ]
  },
  {
   "cell_type": "code",
   "execution_count": 51,
   "id": "b6ce4a48",
   "metadata": {},
   "outputs": [
    {
     "name": "stdout",
     "output_type": "stream",
     "text": [
      "Epoch 1/10\n"
     ]
    },
    {
     "ename": "TypeError",
     "evalue": "'NoneType' object is not callable",
     "output_type": "error",
     "traceback": [
      "\u001b[0;31m---------------------------------------------------------------------------\u001b[0m",
      "\u001b[0;31mTypeError\u001b[0m                                 Traceback (most recent call last)",
      "\u001b[0;32m/tmp/ipykernel_20171/1673408111.py\u001b[0m in \u001b[0;36m<module>\u001b[0;34m\u001b[0m\n\u001b[1;32m      2\u001b[0m \u001b[0;32mfrom\u001b[0m \u001b[0msklearn\u001b[0m\u001b[0;34m.\u001b[0m\u001b[0mmetrics\u001b[0m \u001b[0;32mimport\u001b[0m \u001b[0mmean_absolute_error\u001b[0m\u001b[0;34m\u001b[0m\u001b[0;34m\u001b[0m\u001b[0m\n\u001b[1;32m      3\u001b[0m \u001b[0;34m\u001b[0m\u001b[0m\n\u001b[0;32m----> 4\u001b[0;31m \u001b[0mhistory\u001b[0m \u001b[0;34m=\u001b[0m \u001b[0mmodel\u001b[0m\u001b[0;34m.\u001b[0m\u001b[0mfit\u001b[0m\u001b[0;34m(\u001b[0m\u001b[0;34m[\u001b[0m\u001b[0mtrain\u001b[0m\u001b[0;34m.\u001b[0m\u001b[0muser_id\u001b[0m\u001b[0;34m,\u001b[0m \u001b[0mtrain\u001b[0m\u001b[0;34m.\u001b[0m\u001b[0manime_id\u001b[0m\u001b[0;34m]\u001b[0m\u001b[0;34m,\u001b[0m \u001b[0mtrain\u001b[0m\u001b[0;34m.\u001b[0m\u001b[0mrating\u001b[0m\u001b[0;34m,\u001b[0m \u001b[0mepochs\u001b[0m\u001b[0;34m=\u001b[0m\u001b[0;36m10\u001b[0m\u001b[0;34m)\u001b[0m\u001b[0;34m\u001b[0m\u001b[0;34m\u001b[0m\u001b[0m\n\u001b[0m\u001b[1;32m      5\u001b[0m \u001b[0mpd\u001b[0m\u001b[0;34m.\u001b[0m\u001b[0mSeries\u001b[0m\u001b[0;34m(\u001b[0m\u001b[0mhistory\u001b[0m\u001b[0;34m.\u001b[0m\u001b[0mhistory\u001b[0m\u001b[0;34m[\u001b[0m\u001b[0;34m'loss'\u001b[0m\u001b[0;34m]\u001b[0m\u001b[0;34m)\u001b[0m\u001b[0;34m.\u001b[0m\u001b[0mplot\u001b[0m\u001b[0;34m(\u001b[0m\u001b[0mlogy\u001b[0m\u001b[0;34m=\u001b[0m\u001b[0;32mTrue\u001b[0m\u001b[0;34m)\u001b[0m\u001b[0;34m\u001b[0m\u001b[0;34m\u001b[0m\u001b[0m\n\u001b[1;32m      6\u001b[0m \u001b[0mplt\u001b[0m\u001b[0;34m.\u001b[0m\u001b[0mxlabel\u001b[0m\u001b[0;34m(\u001b[0m\u001b[0;34m\"Epoch\"\u001b[0m\u001b[0;34m)\u001b[0m\u001b[0;34m\u001b[0m\u001b[0;34m\u001b[0m\u001b[0m\n",
      "\u001b[0;32m~/.local/lib/python3.9/site-packages/keras/engine/training.py\u001b[0m in \u001b[0;36mfit\u001b[0;34m(self, x, y, batch_size, epochs, verbose, callbacks, validation_split, validation_data, shuffle, class_weight, sample_weight, initial_epoch, steps_per_epoch, validation_steps, validation_batch_size, validation_freq, max_queue_size, workers, use_multiprocessing)\u001b[0m\n\u001b[1;32m   1182\u001b[0m                 _r=1):\n\u001b[1;32m   1183\u001b[0m               \u001b[0mcallbacks\u001b[0m\u001b[0;34m.\u001b[0m\u001b[0mon_train_batch_begin\u001b[0m\u001b[0;34m(\u001b[0m\u001b[0mstep\u001b[0m\u001b[0;34m)\u001b[0m\u001b[0;34m\u001b[0m\u001b[0;34m\u001b[0m\u001b[0m\n\u001b[0;32m-> 1184\u001b[0;31m               \u001b[0mtmp_logs\u001b[0m \u001b[0;34m=\u001b[0m \u001b[0mself\u001b[0m\u001b[0;34m.\u001b[0m\u001b[0mtrain_function\u001b[0m\u001b[0;34m(\u001b[0m\u001b[0miterator\u001b[0m\u001b[0;34m)\u001b[0m\u001b[0;34m\u001b[0m\u001b[0;34m\u001b[0m\u001b[0m\n\u001b[0m\u001b[1;32m   1185\u001b[0m               \u001b[0;32mif\u001b[0m \u001b[0mdata_handler\u001b[0m\u001b[0;34m.\u001b[0m\u001b[0mshould_sync\u001b[0m\u001b[0;34m:\u001b[0m\u001b[0;34m\u001b[0m\u001b[0;34m\u001b[0m\u001b[0m\n\u001b[1;32m   1186\u001b[0m                 \u001b[0mcontext\u001b[0m\u001b[0;34m.\u001b[0m\u001b[0masync_wait\u001b[0m\u001b[0;34m(\u001b[0m\u001b[0;34m)\u001b[0m\u001b[0;34m\u001b[0m\u001b[0;34m\u001b[0m\u001b[0m\n",
      "\u001b[0;32m~/.local/lib/python3.9/site-packages/tensorflow/python/eager/def_function.py\u001b[0m in \u001b[0;36m__call__\u001b[0;34m(self, *args, **kwds)\u001b[0m\n\u001b[1;32m    883\u001b[0m \u001b[0;34m\u001b[0m\u001b[0m\n\u001b[1;32m    884\u001b[0m       \u001b[0;32mwith\u001b[0m \u001b[0mOptionalXlaContext\u001b[0m\u001b[0;34m(\u001b[0m\u001b[0mself\u001b[0m\u001b[0;34m.\u001b[0m\u001b[0m_jit_compile\u001b[0m\u001b[0;34m)\u001b[0m\u001b[0;34m:\u001b[0m\u001b[0;34m\u001b[0m\u001b[0;34m\u001b[0m\u001b[0m\n\u001b[0;32m--> 885\u001b[0;31m         \u001b[0mresult\u001b[0m \u001b[0;34m=\u001b[0m \u001b[0mself\u001b[0m\u001b[0;34m.\u001b[0m\u001b[0m_call\u001b[0m\u001b[0;34m(\u001b[0m\u001b[0;34m*\u001b[0m\u001b[0margs\u001b[0m\u001b[0;34m,\u001b[0m \u001b[0;34m**\u001b[0m\u001b[0mkwds\u001b[0m\u001b[0;34m)\u001b[0m\u001b[0;34m\u001b[0m\u001b[0;34m\u001b[0m\u001b[0m\n\u001b[0m\u001b[1;32m    886\u001b[0m \u001b[0;34m\u001b[0m\u001b[0m\n\u001b[1;32m    887\u001b[0m       \u001b[0mnew_tracing_count\u001b[0m \u001b[0;34m=\u001b[0m \u001b[0mself\u001b[0m\u001b[0;34m.\u001b[0m\u001b[0mexperimental_get_tracing_count\u001b[0m\u001b[0;34m(\u001b[0m\u001b[0;34m)\u001b[0m\u001b[0;34m\u001b[0m\u001b[0;34m\u001b[0m\u001b[0m\n",
      "\u001b[0;32m~/.local/lib/python3.9/site-packages/tensorflow/python/eager/def_function.py\u001b[0m in \u001b[0;36m_call\u001b[0;34m(self, *args, **kwds)\u001b[0m\n\u001b[1;32m    915\u001b[0m       \u001b[0;31m# In this case we have created variables on the first call, so we run the\u001b[0m\u001b[0;34m\u001b[0m\u001b[0;34m\u001b[0m\u001b[0;34m\u001b[0m\u001b[0m\n\u001b[1;32m    916\u001b[0m       \u001b[0;31m# defunned version which is guaranteed to never create variables.\u001b[0m\u001b[0;34m\u001b[0m\u001b[0;34m\u001b[0m\u001b[0;34m\u001b[0m\u001b[0m\n\u001b[0;32m--> 917\u001b[0;31m       \u001b[0;32mreturn\u001b[0m \u001b[0mself\u001b[0m\u001b[0;34m.\u001b[0m\u001b[0m_stateless_fn\u001b[0m\u001b[0;34m(\u001b[0m\u001b[0;34m*\u001b[0m\u001b[0margs\u001b[0m\u001b[0;34m,\u001b[0m \u001b[0;34m**\u001b[0m\u001b[0mkwds\u001b[0m\u001b[0;34m)\u001b[0m  \u001b[0;31m# pylint: disable=not-callable\u001b[0m\u001b[0;34m\u001b[0m\u001b[0;34m\u001b[0m\u001b[0m\n\u001b[0m\u001b[1;32m    918\u001b[0m     \u001b[0;32melif\u001b[0m \u001b[0mself\u001b[0m\u001b[0;34m.\u001b[0m\u001b[0m_stateful_fn\u001b[0m \u001b[0;32mis\u001b[0m \u001b[0;32mnot\u001b[0m \u001b[0;32mNone\u001b[0m\u001b[0;34m:\u001b[0m\u001b[0;34m\u001b[0m\u001b[0;34m\u001b[0m\u001b[0m\n\u001b[1;32m    919\u001b[0m       \u001b[0;31m# Release the lock early so that multiple threads can perform the call\u001b[0m\u001b[0;34m\u001b[0m\u001b[0;34m\u001b[0m\u001b[0;34m\u001b[0m\u001b[0m\n",
      "\u001b[0;31mTypeError\u001b[0m: 'NoneType' object is not callable"
     ]
    }
   ],
   "source": [
    "history = model.fit([train.user_id, train.anime_id], train.rating, epochs=10)\n",
    "pd.Series(history.history['loss']).plot(logy=True)\n",
    "plt.xlabel(\"Epoch\")\n",
    "plt.ylabel(\"Train Error\")\n",
    "plt.show()\n",
    "\n",
    "y_hat = np.round(model.predict([test.user_id, test.anime_id]), decimals=2)\n",
    "y_true = test.rating\n",
    "mean_absolute_error(y_true, y_hat)"
   ]
  },
  {
   "cell_type": "code",
   "execution_count": null,
   "id": "b94fc91f",
   "metadata": {},
   "outputs": [],
   "source": []
  },
  {
   "cell_type": "markdown",
   "id": "29484d79",
   "metadata": {},
   "source": [
    "# Multi-Layer Perceptron"
   ]
  },
  {
   "cell_type": "code",
   "execution_count": 18,
   "id": "84bc0201",
   "metadata": {},
   "outputs": [],
   "source": [
    "\n",
    "latent_dim = 10\n",
    "\n",
    "# Define inputs\n",
    "anime_input = Input(shape=[1],name='anime-input')\n",
    "user_input = Input(shape=[1], name='user-input')\n",
    "\n",
    "# MLP Embeddings\n",
    "anime_embedding_mlp = Embedding(num_animes + 1, latent_dim, name='anime-embedding-mlp')(anime_input)\n",
    "anime_vec_mlp = Flatten(name='flatten-anime-mlp')(anime_embedding_mlp)\n",
    "\n",
    "user_embedding_mlp = Embedding(num_users + 1, latent_dim, name='user-embedding-mlp')(user_input)\n",
    "user_vec_mlp = Flatten(name='flatten-user-mlp')(user_embedding_mlp)\n",
    "\n",
    "# MF Embeddings\n",
    "anime_embedding_mf = Embedding(num_animes + 1, latent_dim, name='anime-embedding-mf')(anime_input)\n",
    "anime_vec_mf = Flatten(name='flatten-anime-mf')(anime_embedding_mf)\n",
    "\n",
    "user_embedding_mf = Embedding(num_users + 1, latent_dim, name='user-embedding-mf')(user_input)\n",
    "user_vec_mf = Flatten(name='flatten-user-mf')(user_embedding_mf)\n",
    "\n",
    "# MLP layers\n",
    "concat = concatenate([anime_vec_mlp, user_vec_mlp], axis=1, name='concat')\n",
    "concat_dropout = Dropout(0.2)(concat)\n",
    "fc_1 = Dense(100, name='fc-1', activation='relu')(concat_dropout)\n",
    "fc_1_bn = BatchNormalization(name='batch-norm-1')(fc_1)\n",
    "fc_1_dropout = Dropout(0.2)(fc_1_bn)\n",
    "fc_2 = Dense(50, name='fc-2', activation='relu')(fc_1_dropout)\n",
    "fc_2_bn = BatchNormalization(name='batch-norm-2')(fc_2)\n",
    "fc_2_dropout = Dropout(0.2)(fc_2_bn)\n",
    "\n",
    "# Prediction from both layers\n",
    "pred_mlp = Dense(10, name='pred-mlp', activation='relu')(fc_2_dropout)\n",
    "pred_mf = dot([anime_vec_mf, user_vec_mf], axes=1, normalize=False, name='pred-mf')\n",
    "combine_mlp_mf = concatenate([pred_mf, pred_mlp], axis=1, name='combine-mlp-mf')\n",
    "\n",
    "# Final prediction\n",
    "result = Dense(1, name='result', activation='relu')(combine_mlp_mf)\n",
    "\n",
    "model = Model([user_input, anime_input], result)\n",
    "model.compile(Adam(learning_rate=0.01), loss='mean_absolute_error')"
   ]
  },
  {
   "cell_type": "code",
   "execution_count": 19,
   "id": "27d232f3",
   "metadata": {},
   "outputs": [
    {
     "data": {
      "image/svg+xml": [
       "<svg xmlns=\"http://www.w3.org/2000/svg\" xmlns:xlink=\"http://www.w3.org/1999/xlink\" width=\"1124pt\" height=\"709pt\" viewBox=\"0.00 0.00 1798.00 1134.00\">\n",
       "<g id=\"graph0\" class=\"graph\" transform=\"scale(0.62 0.62) rotate(0) translate(4 1130)\">\n",
       "<title>G</title>\n",
       "<polygon fill=\"white\" stroke=\"transparent\" points=\"-4,4 -4,-1130 1794,-1130 1794,4 -4,4\"/>\n",
       "<!-- 139914398049568 -->\n",
       "<g id=\"node1\" class=\"node\">\n",
       "<title>139914398049568</title>\n",
       "<polygon fill=\"none\" stroke=\"black\" points=\"271.5,-1079.5 271.5,-1125.5 622.5,-1125.5 622.5,-1079.5 271.5,-1079.5\"/>\n",
       "<text text-anchor=\"middle\" x=\"366.5\" y=\"-1098.8\" font-family=\"Times,serif\" font-size=\"14.00\">anime-input: InputLayer</text>\n",
       "<polyline fill=\"none\" stroke=\"black\" points=\"461.5,-1079.5 461.5,-1125.5 \"/>\n",
       "<text text-anchor=\"middle\" x=\"495.5\" y=\"-1110.3\" font-family=\"Times,serif\" font-size=\"14.00\">input:</text>\n",
       "<polyline fill=\"none\" stroke=\"black\" points=\"461.5,-1102.5 529.5,-1102.5 \"/>\n",
       "<text text-anchor=\"middle\" x=\"495.5\" y=\"-1087.3\" font-family=\"Times,serif\" font-size=\"14.00\">output:</text>\n",
       "<polyline fill=\"none\" stroke=\"black\" points=\"529.5,-1079.5 529.5,-1125.5 \"/>\n",
       "<text text-anchor=\"middle\" x=\"576\" y=\"-1110.3\" font-family=\"Times,serif\" font-size=\"14.00\">[(None, 1)]</text>\n",
       "<polyline fill=\"none\" stroke=\"black\" points=\"529.5,-1102.5 622.5,-1102.5 \"/>\n",
       "<text text-anchor=\"middle\" x=\"576\" y=\"-1087.3\" font-family=\"Times,serif\" font-size=\"14.00\">[(None, 1)]</text>\n",
       "</g>\n",
       "<!-- 139914397467168 -->\n",
       "<g id=\"node3\" class=\"node\">\n",
       "<title>139914397467168</title>\n",
       "<polygon fill=\"none\" stroke=\"black\" points=\"454,-996.5 454,-1042.5 898,-1042.5 898,-996.5 454,-996.5\"/>\n",
       "<text text-anchor=\"middle\" x=\"587\" y=\"-1015.8\" font-family=\"Times,serif\" font-size=\"14.00\">anime-embedding-mlp: Embedding</text>\n",
       "<polyline fill=\"none\" stroke=\"black\" points=\"720,-996.5 720,-1042.5 \"/>\n",
       "<text text-anchor=\"middle\" x=\"754\" y=\"-1027.3\" font-family=\"Times,serif\" font-size=\"14.00\">input:</text>\n",
       "<polyline fill=\"none\" stroke=\"black\" points=\"720,-1019.5 788,-1019.5 \"/>\n",
       "<text text-anchor=\"middle\" x=\"754\" y=\"-1004.3\" font-family=\"Times,serif\" font-size=\"14.00\">output:</text>\n",
       "<polyline fill=\"none\" stroke=\"black\" points=\"788,-996.5 788,-1042.5 \"/>\n",
       "<text text-anchor=\"middle\" x=\"843\" y=\"-1027.3\" font-family=\"Times,serif\" font-size=\"14.00\">(None, 1)</text>\n",
       "<polyline fill=\"none\" stroke=\"black\" points=\"788,-1019.5 898,-1019.5 \"/>\n",
       "<text text-anchor=\"middle\" x=\"843\" y=\"-1004.3\" font-family=\"Times,serif\" font-size=\"14.00\">(None, 1, 10)</text>\n",
       "</g>\n",
       "<!-- 139914398049568&#45;&gt;139914397467168 -->\n",
       "<g id=\"edge1\" class=\"edge\">\n",
       "<title>139914398049568-&gt;139914397467168</title>\n",
       "<path fill=\"none\" stroke=\"black\" d=\"M509.27,-1079.47C538.55,-1069.12 573.63,-1056.71 604.04,-1045.95\"/>\n",
       "<polygon fill=\"black\" stroke=\"black\" points=\"605.48,-1049.16 613.74,-1042.52 603.14,-1042.56 605.48,-1049.16\"/>\n",
       "</g>\n",
       "<!-- 139914397558048 -->\n",
       "<g id=\"node13\" class=\"node\">\n",
       "<title>139914397558048</title>\n",
       "<polygon fill=\"none\" stroke=\"black\" points=\"0,-996.5 0,-1042.5 436,-1042.5 436,-996.5 0,-996.5\"/>\n",
       "<text text-anchor=\"middle\" x=\"129\" y=\"-1015.8\" font-family=\"Times,serif\" font-size=\"14.00\">anime-embedding-mf: Embedding</text>\n",
       "<polyline fill=\"none\" stroke=\"black\" points=\"258,-996.5 258,-1042.5 \"/>\n",
       "<text text-anchor=\"middle\" x=\"292\" y=\"-1027.3\" font-family=\"Times,serif\" font-size=\"14.00\">input:</text>\n",
       "<polyline fill=\"none\" stroke=\"black\" points=\"258,-1019.5 326,-1019.5 \"/>\n",
       "<text text-anchor=\"middle\" x=\"292\" y=\"-1004.3\" font-family=\"Times,serif\" font-size=\"14.00\">output:</text>\n",
       "<polyline fill=\"none\" stroke=\"black\" points=\"326,-996.5 326,-1042.5 \"/>\n",
       "<text text-anchor=\"middle\" x=\"381\" y=\"-1027.3\" font-family=\"Times,serif\" font-size=\"14.00\">(None, 1)</text>\n",
       "<polyline fill=\"none\" stroke=\"black\" points=\"326,-1019.5 436,-1019.5 \"/>\n",
       "<text text-anchor=\"middle\" x=\"381\" y=\"-1004.3\" font-family=\"Times,serif\" font-size=\"14.00\">(None, 1, 10)</text>\n",
       "</g>\n",
       "<!-- 139914398049568&#45;&gt;139914397558048 -->\n",
       "<g id=\"edge12\" class=\"edge\">\n",
       "<title>139914398049568-&gt;139914397558048</title>\n",
       "<path fill=\"none\" stroke=\"black\" d=\"M384.73,-1079.47C355.45,-1069.12 320.37,-1056.71 289.96,-1045.95\"/>\n",
       "<polygon fill=\"black\" stroke=\"black\" points=\"290.86,-1042.56 280.26,-1042.52 288.52,-1049.16 290.86,-1042.56\"/>\n",
       "</g>\n",
       "<!-- 139914398049616 -->\n",
       "<g id=\"node2\" class=\"node\">\n",
       "<title>139914398049616</title>\n",
       "<polygon fill=\"none\" stroke=\"black\" points=\"1181.5,-1079.5 1181.5,-1125.5 1520.5,-1125.5 1520.5,-1079.5 1181.5,-1079.5\"/>\n",
       "<text text-anchor=\"middle\" x=\"1270.5\" y=\"-1098.8\" font-family=\"Times,serif\" font-size=\"14.00\">user-input: InputLayer</text>\n",
       "<polyline fill=\"none\" stroke=\"black\" points=\"1359.5,-1079.5 1359.5,-1125.5 \"/>\n",
       "<text text-anchor=\"middle\" x=\"1393.5\" y=\"-1110.3\" font-family=\"Times,serif\" font-size=\"14.00\">input:</text>\n",
       "<polyline fill=\"none\" stroke=\"black\" points=\"1359.5,-1102.5 1427.5,-1102.5 \"/>\n",
       "<text text-anchor=\"middle\" x=\"1393.5\" y=\"-1087.3\" font-family=\"Times,serif\" font-size=\"14.00\">output:</text>\n",
       "<polyline fill=\"none\" stroke=\"black\" points=\"1427.5,-1079.5 1427.5,-1125.5 \"/>\n",
       "<text text-anchor=\"middle\" x=\"1474\" y=\"-1110.3\" font-family=\"Times,serif\" font-size=\"14.00\">[(None, 1)]</text>\n",
       "<polyline fill=\"none\" stroke=\"black\" points=\"1427.5,-1102.5 1520.5,-1102.5 \"/>\n",
       "<text text-anchor=\"middle\" x=\"1474\" y=\"-1087.3\" font-family=\"Times,serif\" font-size=\"14.00\">[(None, 1)]</text>\n",
       "</g>\n",
       "<!-- 139914397642464 -->\n",
       "<g id=\"node4\" class=\"node\">\n",
       "<title>139914397642464</title>\n",
       "<polygon fill=\"none\" stroke=\"black\" points=\"1358,-996.5 1358,-1042.5 1790,-1042.5 1790,-996.5 1358,-996.5\"/>\n",
       "<text text-anchor=\"middle\" x=\"1485\" y=\"-1015.8\" font-family=\"Times,serif\" font-size=\"14.00\">user-embedding-mlp: Embedding</text>\n",
       "<polyline fill=\"none\" stroke=\"black\" points=\"1612,-996.5 1612,-1042.5 \"/>\n",
       "<text text-anchor=\"middle\" x=\"1646\" y=\"-1027.3\" font-family=\"Times,serif\" font-size=\"14.00\">input:</text>\n",
       "<polyline fill=\"none\" stroke=\"black\" points=\"1612,-1019.5 1680,-1019.5 \"/>\n",
       "<text text-anchor=\"middle\" x=\"1646\" y=\"-1004.3\" font-family=\"Times,serif\" font-size=\"14.00\">output:</text>\n",
       "<polyline fill=\"none\" stroke=\"black\" points=\"1680,-996.5 1680,-1042.5 \"/>\n",
       "<text text-anchor=\"middle\" x=\"1735\" y=\"-1027.3\" font-family=\"Times,serif\" font-size=\"14.00\">(None, 1)</text>\n",
       "<polyline fill=\"none\" stroke=\"black\" points=\"1680,-1019.5 1790,-1019.5 \"/>\n",
       "<text text-anchor=\"middle\" x=\"1735\" y=\"-1004.3\" font-family=\"Times,serif\" font-size=\"14.00\">(None, 1, 10)</text>\n",
       "</g>\n",
       "<!-- 139914398049616&#45;&gt;139914397642464 -->\n",
       "<g id=\"edge2\" class=\"edge\">\n",
       "<title>139914398049616-&gt;139914397642464</title>\n",
       "<path fill=\"none\" stroke=\"black\" d=\"M1411.64,-1079.47C1440.15,-1069.12 1474.31,-1056.71 1503.93,-1045.95\"/>\n",
       "<polygon fill=\"black\" stroke=\"black\" points=\"1505.17,-1049.23 1513.37,-1042.52 1502.78,-1042.65 1505.17,-1049.23\"/>\n",
       "</g>\n",
       "<!-- 139914398086096 -->\n",
       "<g id=\"node14\" class=\"node\">\n",
       "<title>139914398086096</title>\n",
       "<polygon fill=\"none\" stroke=\"black\" points=\"916,-996.5 916,-1042.5 1340,-1042.5 1340,-996.5 916,-996.5\"/>\n",
       "<text text-anchor=\"middle\" x=\"1039\" y=\"-1015.8\" font-family=\"Times,serif\" font-size=\"14.00\">user-embedding-mf: Embedding</text>\n",
       "<polyline fill=\"none\" stroke=\"black\" points=\"1162,-996.5 1162,-1042.5 \"/>\n",
       "<text text-anchor=\"middle\" x=\"1196\" y=\"-1027.3\" font-family=\"Times,serif\" font-size=\"14.00\">input:</text>\n",
       "<polyline fill=\"none\" stroke=\"black\" points=\"1162,-1019.5 1230,-1019.5 \"/>\n",
       "<text text-anchor=\"middle\" x=\"1196\" y=\"-1004.3\" font-family=\"Times,serif\" font-size=\"14.00\">output:</text>\n",
       "<polyline fill=\"none\" stroke=\"black\" points=\"1230,-996.5 1230,-1042.5 \"/>\n",
       "<text text-anchor=\"middle\" x=\"1285\" y=\"-1027.3\" font-family=\"Times,serif\" font-size=\"14.00\">(None, 1)</text>\n",
       "<polyline fill=\"none\" stroke=\"black\" points=\"1230,-1019.5 1340,-1019.5 \"/>\n",
       "<text text-anchor=\"middle\" x=\"1285\" y=\"-1004.3\" font-family=\"Times,serif\" font-size=\"14.00\">(None, 1, 10)</text>\n",
       "</g>\n",
       "<!-- 139914398049616&#45;&gt;139914398086096 -->\n",
       "<g id=\"edge13\" class=\"edge\">\n",
       "<title>139914398049616-&gt;139914398086096</title>\n",
       "<path fill=\"none\" stroke=\"black\" d=\"M1290.36,-1079.47C1261.85,-1069.12 1227.69,-1056.71 1198.07,-1045.95\"/>\n",
       "<polygon fill=\"black\" stroke=\"black\" points=\"1199.22,-1042.65 1188.63,-1042.52 1196.83,-1049.23 1199.22,-1042.65\"/>\n",
       "</g>\n",
       "<!-- 139914397474432 -->\n",
       "<g id=\"node5\" class=\"node\">\n",
       "<title>139914397474432</title>\n",
       "<polygon fill=\"none\" stroke=\"black\" points=\"501.5,-913.5 501.5,-959.5 882.5,-959.5 882.5,-913.5 501.5,-913.5\"/>\n",
       "<text text-anchor=\"middle\" x=\"603\" y=\"-932.8\" font-family=\"Times,serif\" font-size=\"14.00\">flatten-anime-mlp: Flatten</text>\n",
       "<polyline fill=\"none\" stroke=\"black\" points=\"704.5,-913.5 704.5,-959.5 \"/>\n",
       "<text text-anchor=\"middle\" x=\"738.5\" y=\"-944.3\" font-family=\"Times,serif\" font-size=\"14.00\">input:</text>\n",
       "<polyline fill=\"none\" stroke=\"black\" points=\"704.5,-936.5 772.5,-936.5 \"/>\n",
       "<text text-anchor=\"middle\" x=\"738.5\" y=\"-921.3\" font-family=\"Times,serif\" font-size=\"14.00\">output:</text>\n",
       "<polyline fill=\"none\" stroke=\"black\" points=\"772.5,-913.5 772.5,-959.5 \"/>\n",
       "<text text-anchor=\"middle\" x=\"827.5\" y=\"-944.3\" font-family=\"Times,serif\" font-size=\"14.00\">(None, 1, 10)</text>\n",
       "<polyline fill=\"none\" stroke=\"black\" points=\"772.5,-936.5 882.5,-936.5 \"/>\n",
       "<text text-anchor=\"middle\" x=\"827.5\" y=\"-921.3\" font-family=\"Times,serif\" font-size=\"14.00\">(None, 10)</text>\n",
       "</g>\n",
       "<!-- 139914397467168&#45;&gt;139914397474432 -->\n",
       "<g id=\"edge3\" class=\"edge\">\n",
       "<title>139914397467168-&gt;139914397474432</title>\n",
       "<path fill=\"none\" stroke=\"black\" d=\"M680.37,-996.37C682.01,-988.06 683.91,-978.45 685.69,-969.43\"/>\n",
       "<polygon fill=\"black\" stroke=\"black\" points=\"689.13,-970.1 687.63,-959.61 682.26,-968.74 689.13,-970.1\"/>\n",
       "</g>\n",
       "<!-- 139911912951872 -->\n",
       "<g id=\"node6\" class=\"node\">\n",
       "<title>139911912951872</title>\n",
       "<polygon fill=\"none\" stroke=\"black\" points=\"1357.5,-913.5 1357.5,-959.5 1726.5,-959.5 1726.5,-913.5 1357.5,-913.5\"/>\n",
       "<text text-anchor=\"middle\" x=\"1453\" y=\"-932.8\" font-family=\"Times,serif\" font-size=\"14.00\">flatten-user-mlp: Flatten</text>\n",
       "<polyline fill=\"none\" stroke=\"black\" points=\"1548.5,-913.5 1548.5,-959.5 \"/>\n",
       "<text text-anchor=\"middle\" x=\"1582.5\" y=\"-944.3\" font-family=\"Times,serif\" font-size=\"14.00\">input:</text>\n",
       "<polyline fill=\"none\" stroke=\"black\" points=\"1548.5,-936.5 1616.5,-936.5 \"/>\n",
       "<text text-anchor=\"middle\" x=\"1582.5\" y=\"-921.3\" font-family=\"Times,serif\" font-size=\"14.00\">output:</text>\n",
       "<polyline fill=\"none\" stroke=\"black\" points=\"1616.5,-913.5 1616.5,-959.5 \"/>\n",
       "<text text-anchor=\"middle\" x=\"1671.5\" y=\"-944.3\" font-family=\"Times,serif\" font-size=\"14.00\">(None, 1, 10)</text>\n",
       "<polyline fill=\"none\" stroke=\"black\" points=\"1616.5,-936.5 1726.5,-936.5 \"/>\n",
       "<text text-anchor=\"middle\" x=\"1671.5\" y=\"-921.3\" font-family=\"Times,serif\" font-size=\"14.00\">(None, 10)</text>\n",
       "</g>\n",
       "<!-- 139914397642464&#45;&gt;139911912951872 -->\n",
       "<g id=\"edge4\" class=\"edge\">\n",
       "<title>139914397642464-&gt;139911912951872</title>\n",
       "<path fill=\"none\" stroke=\"black\" d=\"M1565.26,-996.37C1561.94,-987.97 1558.1,-978.24 1554.5,-969.14\"/>\n",
       "<polygon fill=\"black\" stroke=\"black\" points=\"1557.66,-967.62 1550.73,-959.61 1551.15,-970.19 1557.66,-967.62\"/>\n",
       "</g>\n",
       "<!-- 139914397466832 -->\n",
       "<g id=\"node7\" class=\"node\">\n",
       "<title>139914397466832</title>\n",
       "<polygon fill=\"none\" stroke=\"black\" points=\"844.5,-830.5 844.5,-876.5 1259.5,-876.5 1259.5,-830.5 844.5,-830.5\"/>\n",
       "<text text-anchor=\"middle\" x=\"925\" y=\"-849.8\" font-family=\"Times,serif\" font-size=\"14.00\">concat: Concatenate</text>\n",
       "<polyline fill=\"none\" stroke=\"black\" points=\"1005.5,-830.5 1005.5,-876.5 \"/>\n",
       "<text text-anchor=\"middle\" x=\"1039.5\" y=\"-861.3\" font-family=\"Times,serif\" font-size=\"14.00\">input:</text>\n",
       "<polyline fill=\"none\" stroke=\"black\" points=\"1005.5,-853.5 1073.5,-853.5 \"/>\n",
       "<text text-anchor=\"middle\" x=\"1039.5\" y=\"-838.3\" font-family=\"Times,serif\" font-size=\"14.00\">output:</text>\n",
       "<polyline fill=\"none\" stroke=\"black\" points=\"1073.5,-830.5 1073.5,-876.5 \"/>\n",
       "<text text-anchor=\"middle\" x=\"1166.5\" y=\"-861.3\" font-family=\"Times,serif\" font-size=\"14.00\">[(None, 10), (None, 10)]</text>\n",
       "<polyline fill=\"none\" stroke=\"black\" points=\"1073.5,-853.5 1259.5,-853.5 \"/>\n",
       "<text text-anchor=\"middle\" x=\"1166.5\" y=\"-838.3\" font-family=\"Times,serif\" font-size=\"14.00\">(None, 20)</text>\n",
       "</g>\n",
       "<!-- 139914397474432&#45;&gt;139914397466832 -->\n",
       "<g id=\"edge5\" class=\"edge\">\n",
       "<title>139914397474432-&gt;139914397466832</title>\n",
       "<path fill=\"none\" stroke=\"black\" d=\"M789.9,-913.47C837.62,-902.74 895.14,-889.79 944.13,-878.77\"/>\n",
       "<polygon fill=\"black\" stroke=\"black\" points=\"945.14,-882.13 954.12,-876.52 943.6,-875.3 945.14,-882.13\"/>\n",
       "</g>\n",
       "<!-- 139911912951872&#45;&gt;139914397466832 -->\n",
       "<g id=\"edge6\" class=\"edge\">\n",
       "<title>139911912951872-&gt;139914397466832</title>\n",
       "<path fill=\"none\" stroke=\"black\" d=\"M1408.75,-913.47C1342.71,-902.56 1262.88,-889.36 1195.5,-878.22\"/>\n",
       "<polygon fill=\"black\" stroke=\"black\" points=\"1195.66,-874.7 1185.22,-876.52 1194.52,-881.61 1195.66,-874.7\"/>\n",
       "</g>\n",
       "<!-- 139914397606912 -->\n",
       "<g id=\"node8\" class=\"node\">\n",
       "<title>139914397606912</title>\n",
       "<polygon fill=\"none\" stroke=\"black\" points=\"891,-747.5 891,-793.5 1191,-793.5 1191,-747.5 891,-747.5\"/>\n",
       "<text text-anchor=\"middle\" x=\"961\" y=\"-766.8\" font-family=\"Times,serif\" font-size=\"14.00\">dropout: Dropout</text>\n",
       "<polyline fill=\"none\" stroke=\"black\" points=\"1031,-747.5 1031,-793.5 \"/>\n",
       "<text text-anchor=\"middle\" x=\"1065\" y=\"-778.3\" font-family=\"Times,serif\" font-size=\"14.00\">input:</text>\n",
       "<polyline fill=\"none\" stroke=\"black\" points=\"1031,-770.5 1099,-770.5 \"/>\n",
       "<text text-anchor=\"middle\" x=\"1065\" y=\"-755.3\" font-family=\"Times,serif\" font-size=\"14.00\">output:</text>\n",
       "<polyline fill=\"none\" stroke=\"black\" points=\"1099,-747.5 1099,-793.5 \"/>\n",
       "<text text-anchor=\"middle\" x=\"1145\" y=\"-778.3\" font-family=\"Times,serif\" font-size=\"14.00\">(None, 20)</text>\n",
       "<polyline fill=\"none\" stroke=\"black\" points=\"1099,-770.5 1191,-770.5 \"/>\n",
       "<text text-anchor=\"middle\" x=\"1145\" y=\"-755.3\" font-family=\"Times,serif\" font-size=\"14.00\">(None, 20)</text>\n",
       "</g>\n",
       "<!-- 139914397466832&#45;&gt;139914397606912 -->\n",
       "<g id=\"edge7\" class=\"edge\">\n",
       "<title>139914397466832-&gt;139914397606912</title>\n",
       "<path fill=\"none\" stroke=\"black\" d=\"M1048.99,-830.37C1047.88,-822.15 1046.59,-812.66 1045.38,-803.73\"/>\n",
       "<polygon fill=\"black\" stroke=\"black\" points=\"1048.82,-803.04 1044,-793.61 1041.88,-803.99 1048.82,-803.04\"/>\n",
       "</g>\n",
       "<!-- 139914397606192 -->\n",
       "<g id=\"node9\" class=\"node\">\n",
       "<title>139914397606192</title>\n",
       "<polygon fill=\"none\" stroke=\"black\" points=\"888.5,-664.5 888.5,-710.5 1153.5,-710.5 1153.5,-664.5 888.5,-664.5\"/>\n",
       "<text text-anchor=\"middle\" x=\"936.5\" y=\"-683.8\" font-family=\"Times,serif\" font-size=\"14.00\">fc-1: Dense</text>\n",
       "<polyline fill=\"none\" stroke=\"black\" points=\"984.5,-664.5 984.5,-710.5 \"/>\n",
       "<text text-anchor=\"middle\" x=\"1018.5\" y=\"-695.3\" font-family=\"Times,serif\" font-size=\"14.00\">input:</text>\n",
       "<polyline fill=\"none\" stroke=\"black\" points=\"984.5,-687.5 1052.5,-687.5 \"/>\n",
       "<text text-anchor=\"middle\" x=\"1018.5\" y=\"-672.3\" font-family=\"Times,serif\" font-size=\"14.00\">output:</text>\n",
       "<polyline fill=\"none\" stroke=\"black\" points=\"1052.5,-664.5 1052.5,-710.5 \"/>\n",
       "<text text-anchor=\"middle\" x=\"1103\" y=\"-695.3\" font-family=\"Times,serif\" font-size=\"14.00\">(None, 20)</text>\n",
       "<polyline fill=\"none\" stroke=\"black\" points=\"1052.5,-687.5 1153.5,-687.5 \"/>\n",
       "<text text-anchor=\"middle\" x=\"1103\" y=\"-672.3\" font-family=\"Times,serif\" font-size=\"14.00\">(None, 100)</text>\n",
       "</g>\n",
       "<!-- 139914397606912&#45;&gt;139914397606192 -->\n",
       "<g id=\"edge8\" class=\"edge\">\n",
       "<title>139914397606912-&gt;139914397606192</title>\n",
       "<path fill=\"none\" stroke=\"black\" d=\"M1035.53,-747.37C1033.48,-739.06 1031.11,-729.45 1028.88,-720.43\"/>\n",
       "<polygon fill=\"black\" stroke=\"black\" points=\"1032.25,-719.48 1026.46,-710.61 1025.46,-721.15 1032.25,-719.48\"/>\n",
       "</g>\n",
       "<!-- 139914397558192 -->\n",
       "<g id=\"node10\" class=\"node\">\n",
       "<title>139914397558192</title>\n",
       "<polygon fill=\"none\" stroke=\"black\" points=\"795,-581.5 795,-627.5 1227,-627.5 1227,-581.5 795,-581.5\"/>\n",
       "<text text-anchor=\"middle\" x=\"926.5\" y=\"-600.8\" font-family=\"Times,serif\" font-size=\"14.00\">batch-norm-1: BatchNormalization</text>\n",
       "<polyline fill=\"none\" stroke=\"black\" points=\"1058,-581.5 1058,-627.5 \"/>\n",
       "<text text-anchor=\"middle\" x=\"1092\" y=\"-612.3\" font-family=\"Times,serif\" font-size=\"14.00\">input:</text>\n",
       "<polyline fill=\"none\" stroke=\"black\" points=\"1058,-604.5 1126,-604.5 \"/>\n",
       "<text text-anchor=\"middle\" x=\"1092\" y=\"-589.3\" font-family=\"Times,serif\" font-size=\"14.00\">output:</text>\n",
       "<polyline fill=\"none\" stroke=\"black\" points=\"1126,-581.5 1126,-627.5 \"/>\n",
       "<text text-anchor=\"middle\" x=\"1176.5\" y=\"-612.3\" font-family=\"Times,serif\" font-size=\"14.00\">(None, 100)</text>\n",
       "<polyline fill=\"none\" stroke=\"black\" points=\"1126,-604.5 1227,-604.5 \"/>\n",
       "<text text-anchor=\"middle\" x=\"1176.5\" y=\"-589.3\" font-family=\"Times,serif\" font-size=\"14.00\">(None, 100)</text>\n",
       "</g>\n",
       "<!-- 139914397606192&#45;&gt;139914397558192 -->\n",
       "<g id=\"edge9\" class=\"edge\">\n",
       "<title>139914397606192-&gt;139914397558192</title>\n",
       "<path fill=\"none\" stroke=\"black\" d=\"M1018.27,-664.37C1017.25,-656.15 1016.08,-646.66 1014.98,-637.73\"/>\n",
       "<polygon fill=\"black\" stroke=\"black\" points=\"1018.43,-637.1 1013.73,-627.61 1011.48,-637.96 1018.43,-637.1\"/>\n",
       "</g>\n",
       "<!-- 139911922065808 -->\n",
       "<g id=\"node11\" class=\"node\">\n",
       "<title>139911922065808</title>\n",
       "<polygon fill=\"none\" stroke=\"black\" points=\"827.5,-498.5 827.5,-544.5 1152.5,-544.5 1152.5,-498.5 827.5,-498.5\"/>\n",
       "<text text-anchor=\"middle\" x=\"905.5\" y=\"-517.8\" font-family=\"Times,serif\" font-size=\"14.00\">dropout_1: Dropout</text>\n",
       "<polyline fill=\"none\" stroke=\"black\" points=\"983.5,-498.5 983.5,-544.5 \"/>\n",
       "<text text-anchor=\"middle\" x=\"1017.5\" y=\"-529.3\" font-family=\"Times,serif\" font-size=\"14.00\">input:</text>\n",
       "<polyline fill=\"none\" stroke=\"black\" points=\"983.5,-521.5 1051.5,-521.5 \"/>\n",
       "<text text-anchor=\"middle\" x=\"1017.5\" y=\"-506.3\" font-family=\"Times,serif\" font-size=\"14.00\">output:</text>\n",
       "<polyline fill=\"none\" stroke=\"black\" points=\"1051.5,-498.5 1051.5,-544.5 \"/>\n",
       "<text text-anchor=\"middle\" x=\"1102\" y=\"-529.3\" font-family=\"Times,serif\" font-size=\"14.00\">(None, 100)</text>\n",
       "<polyline fill=\"none\" stroke=\"black\" points=\"1051.5,-521.5 1152.5,-521.5 \"/>\n",
       "<text text-anchor=\"middle\" x=\"1102\" y=\"-506.3\" font-family=\"Times,serif\" font-size=\"14.00\">(None, 100)</text>\n",
       "</g>\n",
       "<!-- 139914397558192&#45;&gt;139911922065808 -->\n",
       "<g id=\"edge10\" class=\"edge\">\n",
       "<title>139914397558192-&gt;139911922065808</title>\n",
       "<path fill=\"none\" stroke=\"black\" d=\"M1005.26,-581.37C1003.11,-573.06 1000.62,-563.45 998.28,-554.43\"/>\n",
       "<polygon fill=\"black\" stroke=\"black\" points=\"1001.63,-553.41 995.73,-544.61 994.85,-555.17 1001.63,-553.41\"/>\n",
       "</g>\n",
       "<!-- 139911921523200 -->\n",
       "<g id=\"node12\" class=\"node\">\n",
       "<title>139911921523200</title>\n",
       "<polygon fill=\"none\" stroke=\"black\" points=\"856.5,-415.5 856.5,-461.5 1121.5,-461.5 1121.5,-415.5 856.5,-415.5\"/>\n",
       "<text text-anchor=\"middle\" x=\"904.5\" y=\"-434.8\" font-family=\"Times,serif\" font-size=\"14.00\">fc-2: Dense</text>\n",
       "<polyline fill=\"none\" stroke=\"black\" points=\"952.5,-415.5 952.5,-461.5 \"/>\n",
       "<text text-anchor=\"middle\" x=\"986.5\" y=\"-446.3\" font-family=\"Times,serif\" font-size=\"14.00\">input:</text>\n",
       "<polyline fill=\"none\" stroke=\"black\" points=\"952.5,-438.5 1020.5,-438.5 \"/>\n",
       "<text text-anchor=\"middle\" x=\"986.5\" y=\"-423.3\" font-family=\"Times,serif\" font-size=\"14.00\">output:</text>\n",
       "<polyline fill=\"none\" stroke=\"black\" points=\"1020.5,-415.5 1020.5,-461.5 \"/>\n",
       "<text text-anchor=\"middle\" x=\"1071\" y=\"-446.3\" font-family=\"Times,serif\" font-size=\"14.00\">(None, 100)</text>\n",
       "<polyline fill=\"none\" stroke=\"black\" points=\"1020.5,-438.5 1121.5,-438.5 \"/>\n",
       "<text text-anchor=\"middle\" x=\"1071\" y=\"-423.3\" font-family=\"Times,serif\" font-size=\"14.00\">(None, 50)</text>\n",
       "</g>\n",
       "<!-- 139911922065808&#45;&gt;139911921523200 -->\n",
       "<g id=\"edge11\" class=\"edge\">\n",
       "<title>139911922065808-&gt;139911921523200</title>\n",
       "<path fill=\"none\" stroke=\"black\" d=\"M989.73,-498.37C989.63,-490.15 989.51,-480.66 989.4,-471.73\"/>\n",
       "<polygon fill=\"black\" stroke=\"black\" points=\"992.9,-471.56 989.27,-461.61 985.9,-471.65 992.9,-471.56\"/>\n",
       "</g>\n",
       "<!-- 139911911906032 -->\n",
       "<g id=\"node15\" class=\"node\">\n",
       "<title>139911911906032</title>\n",
       "<polygon fill=\"none\" stroke=\"black\" points=\"757.5,-332.5 757.5,-378.5 1180.5,-378.5 1180.5,-332.5 757.5,-332.5\"/>\n",
       "<text text-anchor=\"middle\" x=\"889\" y=\"-351.8\" font-family=\"Times,serif\" font-size=\"14.00\">batch-norm-2: BatchNormalization</text>\n",
       "<polyline fill=\"none\" stroke=\"black\" points=\"1020.5,-332.5 1020.5,-378.5 \"/>\n",
       "<text text-anchor=\"middle\" x=\"1054.5\" y=\"-363.3\" font-family=\"Times,serif\" font-size=\"14.00\">input:</text>\n",
       "<polyline fill=\"none\" stroke=\"black\" points=\"1020.5,-355.5 1088.5,-355.5 \"/>\n",
       "<text text-anchor=\"middle\" x=\"1054.5\" y=\"-340.3\" font-family=\"Times,serif\" font-size=\"14.00\">output:</text>\n",
       "<polyline fill=\"none\" stroke=\"black\" points=\"1088.5,-332.5 1088.5,-378.5 \"/>\n",
       "<text text-anchor=\"middle\" x=\"1134.5\" y=\"-363.3\" font-family=\"Times,serif\" font-size=\"14.00\">(None, 50)</text>\n",
       "<polyline fill=\"none\" stroke=\"black\" points=\"1088.5,-355.5 1180.5,-355.5 \"/>\n",
       "<text text-anchor=\"middle\" x=\"1134.5\" y=\"-340.3\" font-family=\"Times,serif\" font-size=\"14.00\">(None, 50)</text>\n",
       "</g>\n",
       "<!-- 139911921523200&#45;&gt;139911911906032 -->\n",
       "<g id=\"edge14\" class=\"edge\">\n",
       "<title>139911921523200-&gt;139911911906032</title>\n",
       "<path fill=\"none\" stroke=\"black\" d=\"M983.53,-415.37C981.48,-407.06 979.11,-397.45 976.88,-388.43\"/>\n",
       "<polygon fill=\"black\" stroke=\"black\" points=\"980.25,-387.48 974.46,-378.61 973.46,-389.15 980.25,-387.48\"/>\n",
       "</g>\n",
       "<!-- 139914398102384 -->\n",
       "<g id=\"node16\" class=\"node\">\n",
       "<title>139914398102384</title>\n",
       "<polygon fill=\"none\" stroke=\"black\" points=\"79.5,-913.5 79.5,-959.5 452.5,-959.5 452.5,-913.5 79.5,-913.5\"/>\n",
       "<text text-anchor=\"middle\" x=\"177\" y=\"-932.8\" font-family=\"Times,serif\" font-size=\"14.00\">flatten-anime-mf: Flatten</text>\n",
       "<polyline fill=\"none\" stroke=\"black\" points=\"274.5,-913.5 274.5,-959.5 \"/>\n",
       "<text text-anchor=\"middle\" x=\"308.5\" y=\"-944.3\" font-family=\"Times,serif\" font-size=\"14.00\">input:</text>\n",
       "<polyline fill=\"none\" stroke=\"black\" points=\"274.5,-936.5 342.5,-936.5 \"/>\n",
       "<text text-anchor=\"middle\" x=\"308.5\" y=\"-921.3\" font-family=\"Times,serif\" font-size=\"14.00\">output:</text>\n",
       "<polyline fill=\"none\" stroke=\"black\" points=\"342.5,-913.5 342.5,-959.5 \"/>\n",
       "<text text-anchor=\"middle\" x=\"397.5\" y=\"-944.3\" font-family=\"Times,serif\" font-size=\"14.00\">(None, 1, 10)</text>\n",
       "<polyline fill=\"none\" stroke=\"black\" points=\"342.5,-936.5 452.5,-936.5 \"/>\n",
       "<text text-anchor=\"middle\" x=\"397.5\" y=\"-921.3\" font-family=\"Times,serif\" font-size=\"14.00\">(None, 10)</text>\n",
       "</g>\n",
       "<!-- 139914397558048&#45;&gt;139914398102384 -->\n",
       "<g id=\"edge15\" class=\"edge\">\n",
       "<title>139914397558048-&gt;139914398102384</title>\n",
       "<path fill=\"none\" stroke=\"black\" d=\"M231.12,-996.37C236.25,-987.71 242.22,-977.62 247.76,-968.27\"/>\n",
       "<polygon fill=\"black\" stroke=\"black\" points=\"250.81,-969.99 252.9,-959.61 244.79,-966.43 250.81,-969.99\"/>\n",
       "</g>\n",
       "<!-- 139911920367168 -->\n",
       "<g id=\"node17\" class=\"node\">\n",
       "<title>139911920367168</title>\n",
       "<polygon fill=\"none\" stroke=\"black\" points=\"931.5,-913.5 931.5,-959.5 1292.5,-959.5 1292.5,-913.5 931.5,-913.5\"/>\n",
       "<text text-anchor=\"middle\" x=\"1023\" y=\"-932.8\" font-family=\"Times,serif\" font-size=\"14.00\">flatten-user-mf: Flatten</text>\n",
       "<polyline fill=\"none\" stroke=\"black\" points=\"1114.5,-913.5 1114.5,-959.5 \"/>\n",
       "<text text-anchor=\"middle\" x=\"1148.5\" y=\"-944.3\" font-family=\"Times,serif\" font-size=\"14.00\">input:</text>\n",
       "<polyline fill=\"none\" stroke=\"black\" points=\"1114.5,-936.5 1182.5,-936.5 \"/>\n",
       "<text text-anchor=\"middle\" x=\"1148.5\" y=\"-921.3\" font-family=\"Times,serif\" font-size=\"14.00\">output:</text>\n",
       "<polyline fill=\"none\" stroke=\"black\" points=\"1182.5,-913.5 1182.5,-959.5 \"/>\n",
       "<text text-anchor=\"middle\" x=\"1237.5\" y=\"-944.3\" font-family=\"Times,serif\" font-size=\"14.00\">(None, 1, 10)</text>\n",
       "<polyline fill=\"none\" stroke=\"black\" points=\"1182.5,-936.5 1292.5,-936.5 \"/>\n",
       "<text text-anchor=\"middle\" x=\"1237.5\" y=\"-921.3\" font-family=\"Times,serif\" font-size=\"14.00\">(None, 10)</text>\n",
       "</g>\n",
       "<!-- 139914398086096&#45;&gt;139911920367168 -->\n",
       "<g id=\"edge16\" class=\"edge\">\n",
       "<title>139914398086096-&gt;139911920367168</title>\n",
       "<path fill=\"none\" stroke=\"black\" d=\"M1123.63,-996.37C1121.99,-988.06 1120.09,-978.45 1118.31,-969.43\"/>\n",
       "<polygon fill=\"black\" stroke=\"black\" points=\"1121.74,-968.74 1116.37,-959.61 1114.87,-970.1 1121.74,-968.74\"/>\n",
       "</g>\n",
       "<!-- 139914398080304 -->\n",
       "<g id=\"node18\" class=\"node\">\n",
       "<title>139914398080304</title>\n",
       "<polygon fill=\"none\" stroke=\"black\" points=\"782,-249.5 782,-295.5 1098,-295.5 1098,-249.5 782,-249.5\"/>\n",
       "<text text-anchor=\"middle\" x=\"860\" y=\"-268.8\" font-family=\"Times,serif\" font-size=\"14.00\">dropout_2: Dropout</text>\n",
       "<polyline fill=\"none\" stroke=\"black\" points=\"938,-249.5 938,-295.5 \"/>\n",
       "<text text-anchor=\"middle\" x=\"972\" y=\"-280.3\" font-family=\"Times,serif\" font-size=\"14.00\">input:</text>\n",
       "<polyline fill=\"none\" stroke=\"black\" points=\"938,-272.5 1006,-272.5 \"/>\n",
       "<text text-anchor=\"middle\" x=\"972\" y=\"-257.3\" font-family=\"Times,serif\" font-size=\"14.00\">output:</text>\n",
       "<polyline fill=\"none\" stroke=\"black\" points=\"1006,-249.5 1006,-295.5 \"/>\n",
       "<text text-anchor=\"middle\" x=\"1052\" y=\"-280.3\" font-family=\"Times,serif\" font-size=\"14.00\">(None, 50)</text>\n",
       "<polyline fill=\"none\" stroke=\"black\" points=\"1006,-272.5 1098,-272.5 \"/>\n",
       "<text text-anchor=\"middle\" x=\"1052\" y=\"-257.3\" font-family=\"Times,serif\" font-size=\"14.00\">(None, 50)</text>\n",
       "</g>\n",
       "<!-- 139911911906032&#45;&gt;139914398080304 -->\n",
       "<g id=\"edge17\" class=\"edge\">\n",
       "<title>139911911906032-&gt;139914398080304</title>\n",
       "<path fill=\"none\" stroke=\"black\" d=\"M961.08,-332.37C958.07,-323.97 954.59,-314.24 951.33,-305.14\"/>\n",
       "<polygon fill=\"black\" stroke=\"black\" points=\"954.58,-303.84 947.91,-295.61 947.99,-306.2 954.58,-303.84\"/>\n",
       "</g>\n",
       "<!-- 139914397308912 -->\n",
       "<g id=\"node19\" class=\"node\">\n",
       "<title>139914397308912</title>\n",
       "<polygon fill=\"none\" stroke=\"black\" points=\"465.5,-830.5 465.5,-876.5 826.5,-876.5 826.5,-830.5 465.5,-830.5\"/>\n",
       "<text text-anchor=\"middle\" x=\"519\" y=\"-849.8\" font-family=\"Times,serif\" font-size=\"14.00\">pred-mf: Dot</text>\n",
       "<polyline fill=\"none\" stroke=\"black\" points=\"572.5,-830.5 572.5,-876.5 \"/>\n",
       "<text text-anchor=\"middle\" x=\"606.5\" y=\"-861.3\" font-family=\"Times,serif\" font-size=\"14.00\">input:</text>\n",
       "<polyline fill=\"none\" stroke=\"black\" points=\"572.5,-853.5 640.5,-853.5 \"/>\n",
       "<text text-anchor=\"middle\" x=\"606.5\" y=\"-838.3\" font-family=\"Times,serif\" font-size=\"14.00\">output:</text>\n",
       "<polyline fill=\"none\" stroke=\"black\" points=\"640.5,-830.5 640.5,-876.5 \"/>\n",
       "<text text-anchor=\"middle\" x=\"733.5\" y=\"-861.3\" font-family=\"Times,serif\" font-size=\"14.00\">[(None, 10), (None, 10)]</text>\n",
       "<polyline fill=\"none\" stroke=\"black\" points=\"640.5,-853.5 826.5,-853.5 \"/>\n",
       "<text text-anchor=\"middle\" x=\"733.5\" y=\"-838.3\" font-family=\"Times,serif\" font-size=\"14.00\">(None, 1)</text>\n",
       "</g>\n",
       "<!-- 139914398102384&#45;&gt;139914397308912 -->\n",
       "<g id=\"edge18\" class=\"edge\">\n",
       "<title>139914398102384-&gt;139914397308912</title>\n",
       "<path fill=\"none\" stroke=\"black\" d=\"M369.33,-913.47C419.92,-902.69 480.94,-889.68 532.78,-878.63\"/>\n",
       "<polygon fill=\"black\" stroke=\"black\" points=\"533.64,-882.03 542.69,-876.52 532.18,-875.18 533.64,-882.03\"/>\n",
       "</g>\n",
       "<!-- 139911920367168&#45;&gt;139914397308912 -->\n",
       "<g id=\"edge19\" class=\"edge\">\n",
       "<title>139911920367168-&gt;139914397308912</title>\n",
       "<path fill=\"none\" stroke=\"black\" d=\"M985.28,-913.47C922.6,-902.58 846.86,-889.41 782.86,-878.29\"/>\n",
       "<polygon fill=\"black\" stroke=\"black\" points=\"783.15,-874.79 772.7,-876.52 781.95,-881.68 783.15,-874.79\"/>\n",
       "</g>\n",
       "<!-- 139914397307136 -->\n",
       "<g id=\"node20\" class=\"node\">\n",
       "<title>139914397307136</title>\n",
       "<polygon fill=\"none\" stroke=\"black\" points=\"760,-166.5 760,-212.5 1054,-212.5 1054,-166.5 760,-166.5\"/>\n",
       "<text text-anchor=\"middle\" x=\"827\" y=\"-185.8\" font-family=\"Times,serif\" font-size=\"14.00\">pred-mlp: Dense</text>\n",
       "<polyline fill=\"none\" stroke=\"black\" points=\"894,-166.5 894,-212.5 \"/>\n",
       "<text text-anchor=\"middle\" x=\"928\" y=\"-197.3\" font-family=\"Times,serif\" font-size=\"14.00\">input:</text>\n",
       "<polyline fill=\"none\" stroke=\"black\" points=\"894,-189.5 962,-189.5 \"/>\n",
       "<text text-anchor=\"middle\" x=\"928\" y=\"-174.3\" font-family=\"Times,serif\" font-size=\"14.00\">output:</text>\n",
       "<polyline fill=\"none\" stroke=\"black\" points=\"962,-166.5 962,-212.5 \"/>\n",
       "<text text-anchor=\"middle\" x=\"1008\" y=\"-197.3\" font-family=\"Times,serif\" font-size=\"14.00\">(None, 50)</text>\n",
       "<polyline fill=\"none\" stroke=\"black\" points=\"962,-189.5 1054,-189.5 \"/>\n",
       "<text text-anchor=\"middle\" x=\"1008\" y=\"-174.3\" font-family=\"Times,serif\" font-size=\"14.00\">(None, 10)</text>\n",
       "</g>\n",
       "<!-- 139914398080304&#45;&gt;139914397307136 -->\n",
       "<g id=\"edge20\" class=\"edge\">\n",
       "<title>139914398080304-&gt;139914397307136</title>\n",
       "<path fill=\"none\" stroke=\"black\" d=\"M930.98,-249.37C927.56,-240.97 923.6,-231.24 919.89,-222.14\"/>\n",
       "<polygon fill=\"black\" stroke=\"black\" points=\"923.02,-220.55 916.01,-212.61 916.54,-223.19 923.02,-220.55\"/>\n",
       "</g>\n",
       "<!-- 139911911956832 -->\n",
       "<g id=\"node21\" class=\"node\">\n",
       "<title>139911911956832</title>\n",
       "<polygon fill=\"none\" stroke=\"black\" points=\"576.5,-83.5 576.5,-129.5 1051.5,-129.5 1051.5,-83.5 576.5,-83.5\"/>\n",
       "<text text-anchor=\"middle\" x=\"691.5\" y=\"-102.8\" font-family=\"Times,serif\" font-size=\"14.00\">combine-mlp-mf: Concatenate</text>\n",
       "<polyline fill=\"none\" stroke=\"black\" points=\"806.5,-83.5 806.5,-129.5 \"/>\n",
       "<text text-anchor=\"middle\" x=\"840.5\" y=\"-114.3\" font-family=\"Times,serif\" font-size=\"14.00\">input:</text>\n",
       "<polyline fill=\"none\" stroke=\"black\" points=\"806.5,-106.5 874.5,-106.5 \"/>\n",
       "<text text-anchor=\"middle\" x=\"840.5\" y=\"-91.3\" font-family=\"Times,serif\" font-size=\"14.00\">output:</text>\n",
       "<polyline fill=\"none\" stroke=\"black\" points=\"874.5,-83.5 874.5,-129.5 \"/>\n",
       "<text text-anchor=\"middle\" x=\"963\" y=\"-114.3\" font-family=\"Times,serif\" font-size=\"14.00\">[(None, 1), (None, 10)]</text>\n",
       "<polyline fill=\"none\" stroke=\"black\" points=\"874.5,-106.5 1051.5,-106.5 \"/>\n",
       "<text text-anchor=\"middle\" x=\"963\" y=\"-91.3\" font-family=\"Times,serif\" font-size=\"14.00\">(None, 11)</text>\n",
       "</g>\n",
       "<!-- 139914397308912&#45;&gt;139911911956832 -->\n",
       "<g id=\"edge21\" class=\"edge\">\n",
       "<title>139914397308912-&gt;139911911956832</title>\n",
       "<path fill=\"none\" stroke=\"black\" d=\"M665.2,-830.32C689.15,-800.3 727,-744.07 727,-688.5 727,-688.5 727,-688.5 727,-271.5 727,-223.41 726.98,-207.66 751,-166 757.29,-155.09 766.28,-145.02 775.5,-136.41\"/>\n",
       "<polygon fill=\"black\" stroke=\"black\" points=\"778.09,-138.8 783.25,-129.55 773.45,-133.56 778.09,-138.8\"/>\n",
       "</g>\n",
       "<!-- 139914397307136&#45;&gt;139911911956832 -->\n",
       "<g id=\"edge22\" class=\"edge\">\n",
       "<title>139914397307136-&gt;139911911956832</title>\n",
       "<path fill=\"none\" stroke=\"black\" d=\"M881.59,-166.37C870.93,-157.08 858.39,-146.16 847.02,-136.26\"/>\n",
       "<polygon fill=\"black\" stroke=\"black\" points=\"849.22,-133.54 839.38,-129.61 844.62,-138.81 849.22,-133.54\"/>\n",
       "</g>\n",
       "<!-- 139914397607920 -->\n",
       "<g id=\"node22\" class=\"node\">\n",
       "<title>139914397607920</title>\n",
       "<polygon fill=\"none\" stroke=\"black\" points=\"678,-0.5 678,-46.5 950,-46.5 950,-0.5 678,-0.5\"/>\n",
       "<text text-anchor=\"middle\" x=\"734\" y=\"-19.8\" font-family=\"Times,serif\" font-size=\"14.00\">result: Dense</text>\n",
       "<polyline fill=\"none\" stroke=\"black\" points=\"790,-0.5 790,-46.5 \"/>\n",
       "<text text-anchor=\"middle\" x=\"824\" y=\"-31.3\" font-family=\"Times,serif\" font-size=\"14.00\">input:</text>\n",
       "<polyline fill=\"none\" stroke=\"black\" points=\"790,-23.5 858,-23.5 \"/>\n",
       "<text text-anchor=\"middle\" x=\"824\" y=\"-8.3\" font-family=\"Times,serif\" font-size=\"14.00\">output:</text>\n",
       "<polyline fill=\"none\" stroke=\"black\" points=\"858,-0.5 858,-46.5 \"/>\n",
       "<text text-anchor=\"middle\" x=\"904\" y=\"-31.3\" font-family=\"Times,serif\" font-size=\"14.00\">(None, 11)</text>\n",
       "<polyline fill=\"none\" stroke=\"black\" points=\"858,-23.5 950,-23.5 \"/>\n",
       "<text text-anchor=\"middle\" x=\"904\" y=\"-8.3\" font-family=\"Times,serif\" font-size=\"14.00\">(None, 1)</text>\n",
       "</g>\n",
       "<!-- 139911911956832&#45;&gt;139914397607920 -->\n",
       "<g id=\"edge23\" class=\"edge\">\n",
       "<title>139911911956832-&gt;139914397607920</title>\n",
       "<path fill=\"none\" stroke=\"black\" d=\"M814,-83.37C814,-75.15 814,-65.66 814,-56.73\"/>\n",
       "<polygon fill=\"black\" stroke=\"black\" points=\"817.5,-56.61 814,-46.61 810.5,-56.61 817.5,-56.61\"/>\n",
       "</g>\n",
       "</g>\n",
       "</svg>"
      ],
      "text/plain": [
       "<IPython.core.display.SVG object>"
      ]
     },
     "execution_count": 19,
     "metadata": {},
     "output_type": "execute_result"
    }
   ],
   "source": [
    "#SVG(model_to_dot(model, show_shapes=True).create(prog='dot', format='svg'))\n",
    "SVG(model_to_dot(model, show_shapes= True, show_layer_names=True, dpi=45).create(prog='dot', format='svg'))"
   ]
  },
  {
   "cell_type": "code",
   "execution_count": 20,
   "id": "cc84e741",
   "metadata": {},
   "outputs": [
    {
     "name": "stdout",
     "output_type": "stream",
     "text": [
      "Model: \"model_1\"\n",
      "__________________________________________________________________________________________________\n",
      "Layer (type)                    Output Shape         Param #     Connected to                     \n",
      "==================================================================================================\n",
      "anime-input (InputLayer)        [(None, 1)]          0                                            \n",
      "__________________________________________________________________________________________________\n",
      "user-input (InputLayer)         [(None, 1)]          0                                            \n",
      "__________________________________________________________________________________________________\n",
      "anime-embedding-mlp (Embedding) (None, 1, 10)        101830      anime-input[0][0]                \n",
      "__________________________________________________________________________________________________\n",
      "user-embedding-mlp (Embedding)  (None, 1, 10)        40230       user-input[0][0]                 \n",
      "__________________________________________________________________________________________________\n",
      "flatten-anime-mlp (Flatten)     (None, 10)           0           anime-embedding-mlp[0][0]        \n",
      "__________________________________________________________________________________________________\n",
      "flatten-user-mlp (Flatten)      (None, 10)           0           user-embedding-mlp[0][0]         \n",
      "__________________________________________________________________________________________________\n",
      "concat (Concatenate)            (None, 20)           0           flatten-anime-mlp[0][0]          \n",
      "                                                                 flatten-user-mlp[0][0]           \n",
      "__________________________________________________________________________________________________\n",
      "dropout (Dropout)               (None, 20)           0           concat[0][0]                     \n",
      "__________________________________________________________________________________________________\n",
      "fc-1 (Dense)                    (None, 100)          2100        dropout[0][0]                    \n",
      "__________________________________________________________________________________________________\n",
      "batch-norm-1 (BatchNormalizatio (None, 100)          400         fc-1[0][0]                       \n",
      "__________________________________________________________________________________________________\n",
      "dropout_1 (Dropout)             (None, 100)          0           batch-norm-1[0][0]               \n",
      "__________________________________________________________________________________________________\n",
      "fc-2 (Dense)                    (None, 50)           5050        dropout_1[0][0]                  \n",
      "__________________________________________________________________________________________________\n",
      "anime-embedding-mf (Embedding)  (None, 1, 10)        101830      anime-input[0][0]                \n",
      "__________________________________________________________________________________________________\n",
      "user-embedding-mf (Embedding)   (None, 1, 10)        40230       user-input[0][0]                 \n",
      "__________________________________________________________________________________________________\n",
      "batch-norm-2 (BatchNormalizatio (None, 50)           200         fc-2[0][0]                       \n",
      "__________________________________________________________________________________________________\n",
      "flatten-anime-mf (Flatten)      (None, 10)           0           anime-embedding-mf[0][0]         \n",
      "__________________________________________________________________________________________________\n",
      "flatten-user-mf (Flatten)       (None, 10)           0           user-embedding-mf[0][0]          \n",
      "__________________________________________________________________________________________________\n",
      "dropout_2 (Dropout)             (None, 50)           0           batch-norm-2[0][0]               \n",
      "__________________________________________________________________________________________________\n",
      "pred-mf (Dot)                   (None, 1)            0           flatten-anime-mf[0][0]           \n",
      "                                                                 flatten-user-mf[0][0]            \n",
      "__________________________________________________________________________________________________\n",
      "pred-mlp (Dense)                (None, 10)           510         dropout_2[0][0]                  \n",
      "__________________________________________________________________________________________________\n",
      "combine-mlp-mf (Concatenate)    (None, 11)           0           pred-mf[0][0]                    \n",
      "                                                                 pred-mlp[0][0]                   \n",
      "__________________________________________________________________________________________________\n",
      "result (Dense)                  (None, 1)            12          combine-mlp-mf[0][0]             \n",
      "==================================================================================================\n",
      "Total params: 292,392\n",
      "Trainable params: 292,092\n",
      "Non-trainable params: 300\n",
      "__________________________________________________________________________________________________\n"
     ]
    }
   ],
   "source": [
    "model.summary()"
   ]
  },
  {
   "cell_type": "code",
   "execution_count": null,
   "id": "48801386",
   "metadata": {},
   "outputs": [
    {
     "name": "stderr",
     "output_type": "stream",
     "text": [
      "2021-08-29 20:25:01.890203: I tensorflow/compiler/mlir/mlir_graph_optimization_pass.cc:185] None of the MLIR Optimization Passes are enabled (registered 2)\n"
     ]
    },
    {
     "name": "stdout",
     "output_type": "stream",
     "text": [
      "Epoch 1/10\n",
      " 3391/20198 [====>.........................] - ETA: 52s - loss: 1.3033"
     ]
    }
   ],
   "source": [
    "history = model.fit([train.user_id, train.anime_id], train.rating, epochs=10)\n",
    "pd.Series(history.history['loss']).plot(logy=True)\n",
    "plt.xlabel(\"Epoch\")\n",
    "plt.ylabel(\"Train Error\")\n",
    "plt.show()\n",
    "\n",
    "y_hat = np.round(model.predict([test.user_id, test.anime_id]), decimals=2)\n",
    "y_true = test.rating\n",
    "mean_absolute_error(y_true, y_hat)"
   ]
  },
  {
   "cell_type": "code",
   "execution_count": null,
   "id": "c08fde20",
   "metadata": {},
   "outputs": [],
   "source": []
  }
 ],
 "metadata": {
  "kernelspec": {
   "display_name": "anime_map",
   "language": "python",
   "name": "anime_map"
  },
  "language_info": {
   "codemirror_mode": {
    "name": "ipython",
    "version": 3
   },
   "file_extension": ".py",
   "mimetype": "text/x-python",
   "name": "python",
   "nbconvert_exporter": "python",
   "pygments_lexer": "ipython3",
   "version": "3.9.6"
  },
  "toc": {
   "base_numbering": 1,
   "nav_menu": {},
   "number_sections": true,
   "sideBar": true,
   "skip_h1_title": false,
   "title_cell": "Table of Contents",
   "title_sidebar": "Contents",
   "toc_cell": false,
   "toc_position": {},
   "toc_section_display": true,
   "toc_window_display": true
  }
 },
 "nbformat": 4,
 "nbformat_minor": 5
}
