{
 "cells": [
  {
   "cell_type": "markdown",
   "id": "8c827f22",
   "metadata": {},
   "source": [
    "# Imports"
   ]
  },
  {
   "cell_type": "code",
   "execution_count": 1,
   "id": "286d167b",
   "metadata": {},
   "outputs": [],
   "source": [
    "import pandas as pd\n",
    "import numpy as np\n",
    "import seaborn as sns"
   ]
  },
  {
   "cell_type": "code",
   "execution_count": 2,
   "id": "3c802932",
   "metadata": {
    "scrolled": false
   },
   "outputs": [
    {
     "name": "stderr",
     "output_type": "stream",
     "text": [
      "2021-08-29 18:23:43.188298: W tensorflow/stream_executor/platform/default/dso_loader.cc:64] Could not load dynamic library 'libcudart.so.11.0'; dlerror: libcudart.so.11.0: cannot open shared object file: No such file or directory\n",
      "2021-08-29 18:23:43.188333: I tensorflow/stream_executor/cuda/cudart_stub.cc:29] Ignore above cudart dlerror if you do not have a GPU set up on your machine.\n"
     ]
    }
   ],
   "source": [
    "from sklearn.model_selection import train_test_split\n",
    "from keras.utils.np_utils import to_categorical"
   ]
  },
  {
   "cell_type": "markdown",
   "id": "1e95d226",
   "metadata": {},
   "source": [
    "# Dataset"
   ]
  },
  {
   "cell_type": "code",
   "execution_count": 3,
   "id": "92757ca7",
   "metadata": {},
   "outputs": [],
   "source": [
    "# on prod use first partial to test then use full datasets\n",
    "dataset = pd.read_csv('../data/processed_data/active_users_df_10PlusRatings_partial.csv')\n",
    "anime_df = pd.read_csv('../data/processed_data/anime_df_relevant_PG.csv')\n",
    "dataset = dataset.sort_values([\"user_id\", \"anime_id\"], ascending=(True, True))"
   ]
  },
  {
   "cell_type": "code",
   "execution_count": null,
   "id": "374b2423",
   "metadata": {},
   "outputs": [],
   "source": []
  },
  {
   "cell_type": "markdown",
   "id": "ab102c1f",
   "metadata": {},
   "source": [
    "## bonus clean further PG dataset\n"
   ]
  },
  {
   "cell_type": "code",
   "execution_count": 4,
   "id": "6a159b76",
   "metadata": {},
   "outputs": [],
   "source": [
    "anime_df.rename(columns={'MAL_ID': 'anime_id'}, inplace=True)"
   ]
  },
  {
   "cell_type": "code",
   "execution_count": 5,
   "id": "bd254ce1",
   "metadata": {},
   "outputs": [
    {
     "data": {
      "text/html": [
       "<div>\n",
       "<style scoped>\n",
       "    .dataframe tbody tr th:only-of-type {\n",
       "        vertical-align: middle;\n",
       "    }\n",
       "\n",
       "    .dataframe tbody tr th {\n",
       "        vertical-align: top;\n",
       "    }\n",
       "\n",
       "    .dataframe thead th {\n",
       "        text-align: right;\n",
       "    }\n",
       "</style>\n",
       "<table border=\"1\" class=\"dataframe\">\n",
       "  <thead>\n",
       "    <tr style=\"text-align: right;\">\n",
       "      <th></th>\n",
       "      <th>anime_id</th>\n",
       "      <th>Name</th>\n",
       "      <th>Genres</th>\n",
       "      <th>Studios</th>\n",
       "    </tr>\n",
       "  </thead>\n",
       "  <tbody>\n",
       "    <tr>\n",
       "      <th>0</th>\n",
       "      <td>1</td>\n",
       "      <td>Cowboy Bebop</td>\n",
       "      <td>Action, Adventure, Comedy, Drama, Sci-Fi, Space</td>\n",
       "      <td>Sunrise</td>\n",
       "    </tr>\n",
       "    <tr>\n",
       "      <th>1</th>\n",
       "      <td>5</td>\n",
       "      <td>Cowboy Bebop: Tengoku no Tobira</td>\n",
       "      <td>Action, Drama, Mystery, Sci-Fi, Space</td>\n",
       "      <td>Bones</td>\n",
       "    </tr>\n",
       "    <tr>\n",
       "      <th>2</th>\n",
       "      <td>6</td>\n",
       "      <td>Trigun</td>\n",
       "      <td>Action, Sci-Fi, Adventure, Comedy, Drama, Shounen</td>\n",
       "      <td>Madhouse</td>\n",
       "    </tr>\n",
       "    <tr>\n",
       "      <th>3</th>\n",
       "      <td>7</td>\n",
       "      <td>Witch Hunter Robin</td>\n",
       "      <td>Action, Mystery, Police, Supernatural, Drama, ...</td>\n",
       "      <td>Sunrise</td>\n",
       "    </tr>\n",
       "    <tr>\n",
       "      <th>4</th>\n",
       "      <td>8</td>\n",
       "      <td>Bouken Ou Beet</td>\n",
       "      <td>Adventure, Fantasy, Shounen, Supernatural</td>\n",
       "      <td>Toei Animation</td>\n",
       "    </tr>\n",
       "  </tbody>\n",
       "</table>\n",
       "</div>"
      ],
      "text/plain": [
       "   anime_id                             Name  \\\n",
       "0         1                     Cowboy Bebop   \n",
       "1         5  Cowboy Bebop: Tengoku no Tobira   \n",
       "2         6                           Trigun   \n",
       "3         7               Witch Hunter Robin   \n",
       "4         8                   Bouken Ou Beet   \n",
       "\n",
       "                                              Genres         Studios  \n",
       "0    Action, Adventure, Comedy, Drama, Sci-Fi, Space         Sunrise  \n",
       "1              Action, Drama, Mystery, Sci-Fi, Space           Bones  \n",
       "2  Action, Sci-Fi, Adventure, Comedy, Drama, Shounen        Madhouse  \n",
       "3  Action, Mystery, Police, Supernatural, Drama, ...         Sunrise  \n",
       "4          Adventure, Fantasy, Shounen, Supernatural  Toei Animation  "
      ]
     },
     "execution_count": 5,
     "metadata": {},
     "output_type": "execute_result"
    }
   ],
   "source": [
    "anime_df.head()"
   ]
  },
  {
   "cell_type": "code",
   "execution_count": 6,
   "id": "68750fd3",
   "metadata": {},
   "outputs": [
    {
     "data": {
      "text/html": [
       "<div>\n",
       "<style scoped>\n",
       "    .dataframe tbody tr th:only-of-type {\n",
       "        vertical-align: middle;\n",
       "    }\n",
       "\n",
       "    .dataframe tbody tr th {\n",
       "        vertical-align: top;\n",
       "    }\n",
       "\n",
       "    .dataframe thead th {\n",
       "        text-align: right;\n",
       "    }\n",
       "</style>\n",
       "<table border=\"1\" class=\"dataframe\">\n",
       "  <thead>\n",
       "    <tr style=\"text-align: right;\">\n",
       "      <th></th>\n",
       "      <th>user_id</th>\n",
       "      <th>anime_id</th>\n",
       "      <th>rating</th>\n",
       "    </tr>\n",
       "  </thead>\n",
       "  <tbody>\n",
       "    <tr>\n",
       "      <th>3</th>\n",
       "      <td>0</td>\n",
       "      <td>21</td>\n",
       "      <td>10</td>\n",
       "    </tr>\n",
       "    <tr>\n",
       "      <th>4</th>\n",
       "      <td>0</td>\n",
       "      <td>24</td>\n",
       "      <td>9</td>\n",
       "    </tr>\n",
       "    <tr>\n",
       "      <th>0</th>\n",
       "      <td>0</td>\n",
       "      <td>67</td>\n",
       "      <td>9</td>\n",
       "    </tr>\n",
       "    <tr>\n",
       "      <th>9</th>\n",
       "      <td>0</td>\n",
       "      <td>68</td>\n",
       "      <td>6</td>\n",
       "    </tr>\n",
       "    <tr>\n",
       "      <th>14</th>\n",
       "      <td>0</td>\n",
       "      <td>121</td>\n",
       "      <td>9</td>\n",
       "    </tr>\n",
       "    <tr>\n",
       "      <th>...</th>\n",
       "      <td>...</td>\n",
       "      <td>...</td>\n",
       "      <td>...</td>\n",
       "    </tr>\n",
       "    <tr>\n",
       "      <th>822308</th>\n",
       "      <td>4998</td>\n",
       "      <td>11843</td>\n",
       "      <td>8</td>\n",
       "    </tr>\n",
       "    <tr>\n",
       "      <th>822416</th>\n",
       "      <td>4998</td>\n",
       "      <td>12431</td>\n",
       "      <td>7</td>\n",
       "    </tr>\n",
       "    <tr>\n",
       "      <th>822372</th>\n",
       "      <td>4998</td>\n",
       "      <td>12531</td>\n",
       "      <td>9</td>\n",
       "    </tr>\n",
       "    <tr>\n",
       "      <th>822305</th>\n",
       "      <td>4998</td>\n",
       "      <td>13807</td>\n",
       "      <td>7</td>\n",
       "    </tr>\n",
       "    <tr>\n",
       "      <th>822356</th>\n",
       "      <td>4998</td>\n",
       "      <td>15689</td>\n",
       "      <td>7</td>\n",
       "    </tr>\n",
       "  </tbody>\n",
       "</table>\n",
       "<p>822418 rows × 3 columns</p>\n",
       "</div>"
      ],
      "text/plain": [
       "        user_id  anime_id  rating\n",
       "3             0        21      10\n",
       "4             0        24       9\n",
       "0             0        67       9\n",
       "9             0        68       6\n",
       "14            0       121       9\n",
       "...         ...       ...     ...\n",
       "822308     4998     11843       8\n",
       "822416     4998     12431       7\n",
       "822372     4998     12531       9\n",
       "822305     4998     13807       7\n",
       "822356     4998     15689       7\n",
       "\n",
       "[822418 rows x 3 columns]"
      ]
     },
     "execution_count": 6,
     "metadata": {},
     "output_type": "execute_result"
    }
   ],
   "source": [
    "dataset"
   ]
  },
  {
   "cell_type": "code",
   "execution_count": 7,
   "id": "fc280860",
   "metadata": {},
   "outputs": [],
   "source": [
    "df_id_PG = anime_df[['anime_id']]"
   ]
  },
  {
   "cell_type": "code",
   "execution_count": 8,
   "id": "931ded46",
   "metadata": {},
   "outputs": [],
   "source": [
    "dataset = dataset.merge(df_id_PG, on = 'anime_id', how='inner')"
   ]
  },
  {
   "cell_type": "code",
   "execution_count": 9,
   "id": "34589252",
   "metadata": {},
   "outputs": [
    {
     "data": {
      "text/html": [
       "<div>\n",
       "<style scoped>\n",
       "    .dataframe tbody tr th:only-of-type {\n",
       "        vertical-align: middle;\n",
       "    }\n",
       "\n",
       "    .dataframe tbody tr th {\n",
       "        vertical-align: top;\n",
       "    }\n",
       "\n",
       "    .dataframe thead th {\n",
       "        text-align: right;\n",
       "    }\n",
       "</style>\n",
       "<table border=\"1\" class=\"dataframe\">\n",
       "  <thead>\n",
       "    <tr style=\"text-align: right;\">\n",
       "      <th></th>\n",
       "      <th>user_id</th>\n",
       "      <th>anime_id</th>\n",
       "      <th>rating</th>\n",
       "    </tr>\n",
       "  </thead>\n",
       "  <tbody>\n",
       "    <tr>\n",
       "      <th>0</th>\n",
       "      <td>0</td>\n",
       "      <td>21</td>\n",
       "      <td>10</td>\n",
       "    </tr>\n",
       "    <tr>\n",
       "      <th>1</th>\n",
       "      <td>1</td>\n",
       "      <td>21</td>\n",
       "      <td>9</td>\n",
       "    </tr>\n",
       "    <tr>\n",
       "      <th>2</th>\n",
       "      <td>2</td>\n",
       "      <td>21</td>\n",
       "      <td>9</td>\n",
       "    </tr>\n",
       "    <tr>\n",
       "      <th>3</th>\n",
       "      <td>11</td>\n",
       "      <td>21</td>\n",
       "      <td>10</td>\n",
       "    </tr>\n",
       "    <tr>\n",
       "      <th>4</th>\n",
       "      <td>14</td>\n",
       "      <td>21</td>\n",
       "      <td>8</td>\n",
       "    </tr>\n",
       "  </tbody>\n",
       "</table>\n",
       "</div>"
      ],
      "text/plain": [
       "   user_id  anime_id  rating\n",
       "0        0        21      10\n",
       "1        1        21       9\n",
       "2        2        21       9\n",
       "3       11        21      10\n",
       "4       14        21       8"
      ]
     },
     "execution_count": 9,
     "metadata": {},
     "output_type": "execute_result"
    }
   ],
   "source": [
    "minimun_of_rating = 10\n",
    "counts = dataset['user_id'].value_counts()\n",
    "dataset = dataset[dataset['user_id'].isin(counts[counts >= minimun_of_rating].index)]\n",
    "dataset.head()\n",
    "\n"
   ]
  },
  {
   "cell_type": "code",
   "execution_count": 10,
   "id": "ac545e82",
   "metadata": {},
   "outputs": [
    {
     "data": {
      "text/plain": [
       "(807900, 3)"
      ]
     },
     "execution_count": 10,
     "metadata": {},
     "output_type": "execute_result"
    }
   ],
   "source": [
    "dataset.shape"
   ]
  },
  {
   "cell_type": "code",
   "execution_count": 11,
   "id": "dacd8c94",
   "metadata": {},
   "outputs": [],
   "source": [
    "# export the partial dataset"
   ]
  },
  {
   "cell_type": "code",
   "execution_count": null,
   "id": "122758e7",
   "metadata": {},
   "outputs": [],
   "source": []
  },
  {
   "cell_type": "code",
   "execution_count": null,
   "id": "312b16c8",
   "metadata": {},
   "outputs": [],
   "source": []
  },
  {
   "cell_type": "code",
   "execution_count": 12,
   "id": "f06f275d",
   "metadata": {},
   "outputs": [],
   "source": [
    "# clean and export the full dataset"
   ]
  },
  {
   "cell_type": "code",
   "execution_count": null,
   "id": "8df3d1e7",
   "metadata": {},
   "outputs": [],
   "source": []
  },
  {
   "cell_type": "code",
   "execution_count": null,
   "id": "60ec8b70",
   "metadata": {},
   "outputs": [],
   "source": []
  },
  {
   "cell_type": "code",
   "execution_count": null,
   "id": "1e7e59ab",
   "metadata": {},
   "outputs": [],
   "source": []
  },
  {
   "cell_type": "markdown",
   "id": "c717d731",
   "metadata": {},
   "source": [
    "## continue on dataset"
   ]
  },
  {
   "cell_type": "code",
   "execution_count": 13,
   "id": "8e013a5a",
   "metadata": {},
   "outputs": [
    {
     "data": {
      "text/plain": [
       "10182"
      ]
     },
     "execution_count": 13,
     "metadata": {},
     "output_type": "execute_result"
    }
   ],
   "source": [
    "dataset.anime_id.nunique()"
   ]
  },
  {
   "cell_type": "code",
   "execution_count": 14,
   "id": "a3bbeade",
   "metadata": {},
   "outputs": [
    {
     "data": {
      "text/plain": [
       "4022"
      ]
     },
     "execution_count": 14,
     "metadata": {},
     "output_type": "execute_result"
    }
   ],
   "source": [
    "dataset.user_id.nunique()"
   ]
  },
  {
   "cell_type": "code",
   "execution_count": 15,
   "id": "36113a72",
   "metadata": {},
   "outputs": [],
   "source": [
    "anime_id_to_new_id = dict()\n",
    "id = 1"
   ]
  },
  {
   "cell_type": "code",
   "execution_count": 16,
   "id": "ae7da34a",
   "metadata": {},
   "outputs": [],
   "source": [
    "for index, row in dataset.iterrows():\n",
    "    if anime_id_to_new_id.get(row['anime_id']) is None:\n",
    "        anime_id_to_new_id[row['anime_id']] = id\n",
    "        dataset.at[index, 'anime_id'] = id\n",
    "        id += 1\n",
    "    else:\n",
    "        dataset.at[index, 'anime_id'] = anime_id_to_new_id.get(row['anime_id'])\n"
   ]
  },
  {
   "cell_type": "code",
   "execution_count": 17,
   "id": "51948206",
   "metadata": {},
   "outputs": [],
   "source": [
    "# Need to map user ID to [1, user_num]\n",
    "user_id_to_new_id = dict()\n",
    "id = 1\n",
    "for index, row in dataset.iterrows():\n",
    "    if user_id_to_new_id.get(row['user_id']) is None:\n",
    "        user_id_to_new_id[row['user_id']] = id\n",
    "        dataset.at[index, 'user_id'] = id\n",
    "        id += 1\n",
    "    else:\n",
    "        dataset.at[index, 'user_id'] = user_id_to_new_id.get(row['user_id'])\n"
   ]
  },
  {
   "cell_type": "code",
   "execution_count": 18,
   "id": "321d7044",
   "metadata": {},
   "outputs": [
    {
     "data": {
      "text/plain": [
       "0            1\n",
       "1            2\n",
       "2            3\n",
       "3            4\n",
       "4            5\n",
       "          ... \n",
       "807937    1571\n",
       "807938    1571\n",
       "807939    2273\n",
       "807940    2636\n",
       "807941    1199\n",
       "Name: user_id, Length: 807900, dtype: int64"
      ]
     },
     "execution_count": 18,
     "metadata": {},
     "output_type": "execute_result"
    }
   ],
   "source": [
    "dataset.user_id"
   ]
  },
  {
   "cell_type": "code",
   "execution_count": 19,
   "id": "56d1220c",
   "metadata": {},
   "outputs": [
    {
     "name": "stdout",
     "output_type": "stream",
     "text": [
      "Number of movies 10182\n",
      "Number of users 4022\n"
     ]
    }
   ],
   "source": [
    "num_users = len(dataset.user_id.unique())\n",
    "num_animes = len(dataset.anime_id.unique())\n",
    "train, test = train_test_split(dataset, test_size=0.2)\n",
    "\n",
    "print('Number of movies', num_animes)\n",
    "print('Number of users', num_users)"
   ]
  },
  {
   "cell_type": "markdown",
   "id": "32683d2f",
   "metadata": {},
   "source": [
    "# Order dataset by user_id and anime_id"
   ]
  },
  {
   "cell_type": "code",
   "execution_count": 20,
   "id": "6115bc6d",
   "metadata": {},
   "outputs": [
    {
     "name": "stdout",
     "output_type": "stream",
     "text": [
      "train shape:  (646320, 3)\n",
      "test shape:  (161580, 3)\n"
     ]
    }
   ],
   "source": [
    "print('train shape: ', train.shape)\n",
    "print('test shape: ', test.shape)"
   ]
  },
  {
   "cell_type": "code",
   "execution_count": 21,
   "id": "4f2fd665",
   "metadata": {},
   "outputs": [],
   "source": [
    "#train = train.reset_index()"
   ]
  },
  {
   "cell_type": "code",
   "execution_count": 22,
   "id": "e563154b",
   "metadata": {},
   "outputs": [],
   "source": [
    "# 151519\n",
    "\n",
    "\n",
    "#train.anime_id.nunique()\n",
    "#num_animes"
   ]
  },
  {
   "cell_type": "code",
   "execution_count": 23,
   "id": "79c4ac07",
   "metadata": {},
   "outputs": [],
   "source": [
    "#num_animes"
   ]
  },
  {
   "cell_type": "markdown",
   "id": "88d3061e",
   "metadata": {},
   "source": [
    "# GMF\n"
   ]
  },
  {
   "cell_type": "markdown",
   "id": "e26e30ac",
   "metadata": {},
   "source": [
    "## Matrix factorisation"
   ]
  },
  {
   "cell_type": "code",
   "execution_count": 24,
   "id": "329ab65d",
   "metadata": {},
   "outputs": [],
   "source": [
    "import pydot\n",
    "import graphviz\n",
    "%matplotlib inline"
   ]
  },
  {
   "cell_type": "code",
   "execution_count": 25,
   "id": "1baace70",
   "metadata": {},
   "outputs": [],
   "source": [
    "from keras.models import Model, Sequential\n",
    "from keras.layers import Embedding, Flatten, Input, merge, concatenate\n",
    "from tensorflow.keras.utils import model_to_dot\n",
    "#from keras.utils.visualize_util import model_to_dot\n",
    "from IPython.display import SVG\n",
    "from keras.layers import dot"
   ]
  },
  {
   "cell_type": "code",
   "execution_count": 26,
   "id": "7ebb3014",
   "metadata": {
    "scrolled": true
   },
   "outputs": [
    {
     "name": "stderr",
     "output_type": "stream",
     "text": [
      "2021-08-29 18:25:15.655629: W tensorflow/stream_executor/platform/default/dso_loader.cc:64] Could not load dynamic library 'libcuda.so.1'; dlerror: libcuda.so.1: cannot open shared object file: No such file or directory\n",
      "2021-08-29 18:25:15.655666: W tensorflow/stream_executor/cuda/cuda_driver.cc:269] failed call to cuInit: UNKNOWN ERROR (303)\n",
      "2021-08-29 18:25:15.655700: I tensorflow/stream_executor/cuda/cuda_diagnostics.cc:156] kernel driver does not appear to be running on this host (mijka-TP): /proc/driver/nvidia/version does not exist\n",
      "2021-08-29 18:25:15.656029: I tensorflow/core/platform/cpu_feature_guard.cc:142] This TensorFlow binary is optimized with oneAPI Deep Neural Network Library (oneDNN) to use the following CPU instructions in performance-critical operations:  AVX2 FMA\n",
      "To enable them in other operations, rebuild TensorFlow with the appropriate compiler flags.\n"
     ]
    }
   ],
   "source": [
    "# Let's use a higher latent dimension.\n",
    "latent_dim = 10\n",
    "\n",
    "anime_input = Input(shape=[1],name='anime-input')\n",
    "anime_embedding = Embedding(num_animes + 1, latent_dim, name='anime-embedding')(anime_input)\n",
    "anime_vec = Flatten(name='anime-flatten')(anime_embedding)\n",
    "\n",
    "user_input = Input(shape=[1],name='user-input')\n",
    "user_embedding = Embedding(num_users + 1, latent_dim, name='user-embedding')(user_input)\n",
    "user_vec = Flatten(name='user-flatten')(user_embedding)\n",
    "\n",
    "prod = dot([anime_vec, user_vec], axes=1, normalize=False, name='dot-product')\n",
    "\n",
    "model = Model([user_input, anime_input], prod)\n",
    "model.compile('adam', 'mean_squared_error'\n",
    "              #,metrics=['mse']\n",
    "             )"
   ]
  },
  {
   "cell_type": "code",
   "execution_count": 27,
   "id": "bfa0872b",
   "metadata": {},
   "outputs": [
    {
     "data": {
      "image/svg+xml": [
       "<svg xmlns=\"http://www.w3.org/2000/svg\" xmlns:xlink=\"http://www.w3.org/1999/xlink\" width=\"758pt\" height=\"274pt\" viewBox=\"0.00 0.00 840.00 304.00\">\n",
       "<g id=\"graph0\" class=\"graph\" transform=\"scale(0.9 0.9) rotate(0) translate(4 300)\">\n",
       "<title>G</title>\n",
       "<polygon fill=\"white\" stroke=\"transparent\" points=\"-4,4 -4,-300 836,-300 836,4 -4,4\"/>\n",
       "<!-- 139982164171216 -->\n",
       "<g id=\"node1\" class=\"node\">\n",
       "<title>139982164171216</title>\n",
       "<polygon fill=\"none\" stroke=\"black\" points=\"31,-249.5 31,-295.5 382,-295.5 382,-249.5 31,-249.5\"/>\n",
       "<text text-anchor=\"middle\" x=\"126\" y=\"-268.8\" font-family=\"Times,serif\" font-size=\"14.00\">anime-input: InputLayer</text>\n",
       "<polyline fill=\"none\" stroke=\"black\" points=\"221,-249.5 221,-295.5 \"/>\n",
       "<text text-anchor=\"middle\" x=\"255\" y=\"-280.3\" font-family=\"Times,serif\" font-size=\"14.00\">input:</text>\n",
       "<polyline fill=\"none\" stroke=\"black\" points=\"221,-272.5 289,-272.5 \"/>\n",
       "<text text-anchor=\"middle\" x=\"255\" y=\"-257.3\" font-family=\"Times,serif\" font-size=\"14.00\">output:</text>\n",
       "<polyline fill=\"none\" stroke=\"black\" points=\"289,-249.5 289,-295.5 \"/>\n",
       "<text text-anchor=\"middle\" x=\"335.5\" y=\"-280.3\" font-family=\"Times,serif\" font-size=\"14.00\">[(None, 1)]</text>\n",
       "<polyline fill=\"none\" stroke=\"black\" points=\"289,-272.5 382,-272.5 \"/>\n",
       "<text text-anchor=\"middle\" x=\"335.5\" y=\"-257.3\" font-family=\"Times,serif\" font-size=\"14.00\">[(None, 1)]</text>\n",
       "</g>\n",
       "<!-- 139982164171360 -->\n",
       "<g id=\"node3\" class=\"node\">\n",
       "<title>139982164171360</title>\n",
       "<polygon fill=\"none\" stroke=\"black\" points=\"0,-166.5 0,-212.5 413,-212.5 413,-166.5 0,-166.5\"/>\n",
       "<text text-anchor=\"middle\" x=\"117.5\" y=\"-185.8\" font-family=\"Times,serif\" font-size=\"14.00\">anime-embedding: Embedding</text>\n",
       "<polyline fill=\"none\" stroke=\"black\" points=\"235,-166.5 235,-212.5 \"/>\n",
       "<text text-anchor=\"middle\" x=\"269\" y=\"-197.3\" font-family=\"Times,serif\" font-size=\"14.00\">input:</text>\n",
       "<polyline fill=\"none\" stroke=\"black\" points=\"235,-189.5 303,-189.5 \"/>\n",
       "<text text-anchor=\"middle\" x=\"269\" y=\"-174.3\" font-family=\"Times,serif\" font-size=\"14.00\">output:</text>\n",
       "<polyline fill=\"none\" stroke=\"black\" points=\"303,-166.5 303,-212.5 \"/>\n",
       "<text text-anchor=\"middle\" x=\"358\" y=\"-197.3\" font-family=\"Times,serif\" font-size=\"14.00\">(None, 1)</text>\n",
       "<polyline fill=\"none\" stroke=\"black\" points=\"303,-189.5 413,-189.5 \"/>\n",
       "<text text-anchor=\"middle\" x=\"358\" y=\"-174.3\" font-family=\"Times,serif\" font-size=\"14.00\">(None, 1, 10)</text>\n",
       "</g>\n",
       "<!-- 139982164171216&#45;&gt;139982164171360 -->\n",
       "<g id=\"edge1\" class=\"edge\">\n",
       "<title>139982164171216-&gt;139982164171360</title>\n",
       "<path fill=\"none\" stroke=\"black\" d=\"M206.5,-249.37C206.5,-241.15 206.5,-231.66 206.5,-222.73\"/>\n",
       "<polygon fill=\"black\" stroke=\"black\" points=\"210,-222.61 206.5,-212.61 203,-222.61 210,-222.61\"/>\n",
       "</g>\n",
       "<!-- 139982163884496 -->\n",
       "<g id=\"node2\" class=\"node\">\n",
       "<title>139982163884496</title>\n",
       "<polygon fill=\"none\" stroke=\"black\" points=\"462,-249.5 462,-295.5 801,-295.5 801,-249.5 462,-249.5\"/>\n",
       "<text text-anchor=\"middle\" x=\"551\" y=\"-268.8\" font-family=\"Times,serif\" font-size=\"14.00\">user-input: InputLayer</text>\n",
       "<polyline fill=\"none\" stroke=\"black\" points=\"640,-249.5 640,-295.5 \"/>\n",
       "<text text-anchor=\"middle\" x=\"674\" y=\"-280.3\" font-family=\"Times,serif\" font-size=\"14.00\">input:</text>\n",
       "<polyline fill=\"none\" stroke=\"black\" points=\"640,-272.5 708,-272.5 \"/>\n",
       "<text text-anchor=\"middle\" x=\"674\" y=\"-257.3\" font-family=\"Times,serif\" font-size=\"14.00\">output:</text>\n",
       "<polyline fill=\"none\" stroke=\"black\" points=\"708,-249.5 708,-295.5 \"/>\n",
       "<text text-anchor=\"middle\" x=\"754.5\" y=\"-280.3\" font-family=\"Times,serif\" font-size=\"14.00\">[(None, 1)]</text>\n",
       "<polyline fill=\"none\" stroke=\"black\" points=\"708,-272.5 801,-272.5 \"/>\n",
       "<text text-anchor=\"middle\" x=\"754.5\" y=\"-257.3\" font-family=\"Times,serif\" font-size=\"14.00\">[(None, 1)]</text>\n",
       "</g>\n",
       "<!-- 139982154882112 -->\n",
       "<g id=\"node4\" class=\"node\">\n",
       "<title>139982154882112</title>\n",
       "<polygon fill=\"none\" stroke=\"black\" points=\"431,-166.5 431,-212.5 832,-212.5 832,-166.5 431,-166.5\"/>\n",
       "<text text-anchor=\"middle\" x=\"542.5\" y=\"-185.8\" font-family=\"Times,serif\" font-size=\"14.00\">user-embedding: Embedding</text>\n",
       "<polyline fill=\"none\" stroke=\"black\" points=\"654,-166.5 654,-212.5 \"/>\n",
       "<text text-anchor=\"middle\" x=\"688\" y=\"-197.3\" font-family=\"Times,serif\" font-size=\"14.00\">input:</text>\n",
       "<polyline fill=\"none\" stroke=\"black\" points=\"654,-189.5 722,-189.5 \"/>\n",
       "<text text-anchor=\"middle\" x=\"688\" y=\"-174.3\" font-family=\"Times,serif\" font-size=\"14.00\">output:</text>\n",
       "<polyline fill=\"none\" stroke=\"black\" points=\"722,-166.5 722,-212.5 \"/>\n",
       "<text text-anchor=\"middle\" x=\"777\" y=\"-197.3\" font-family=\"Times,serif\" font-size=\"14.00\">(None, 1)</text>\n",
       "<polyline fill=\"none\" stroke=\"black\" points=\"722,-189.5 832,-189.5 \"/>\n",
       "<text text-anchor=\"middle\" x=\"777\" y=\"-174.3\" font-family=\"Times,serif\" font-size=\"14.00\">(None, 1, 10)</text>\n",
       "</g>\n",
       "<!-- 139982163884496&#45;&gt;139982154882112 -->\n",
       "<g id=\"edge2\" class=\"edge\">\n",
       "<title>139982163884496-&gt;139982154882112</title>\n",
       "<path fill=\"none\" stroke=\"black\" d=\"M631.5,-249.37C631.5,-241.15 631.5,-231.66 631.5,-222.73\"/>\n",
       "<polygon fill=\"black\" stroke=\"black\" points=\"635,-222.61 631.5,-212.61 628,-222.61 635,-222.61\"/>\n",
       "</g>\n",
       "<!-- 139982163883584 -->\n",
       "<g id=\"node5\" class=\"node\">\n",
       "<title>139982163883584</title>\n",
       "<polygon fill=\"none\" stroke=\"black\" points=\"62.5,-83.5 62.5,-129.5 412.5,-129.5 412.5,-83.5 62.5,-83.5\"/>\n",
       "<text text-anchor=\"middle\" x=\"148.5\" y=\"-102.8\" font-family=\"Times,serif\" font-size=\"14.00\">anime-flatten: Flatten</text>\n",
       "<polyline fill=\"none\" stroke=\"black\" points=\"234.5,-83.5 234.5,-129.5 \"/>\n",
       "<text text-anchor=\"middle\" x=\"268.5\" y=\"-114.3\" font-family=\"Times,serif\" font-size=\"14.00\">input:</text>\n",
       "<polyline fill=\"none\" stroke=\"black\" points=\"234.5,-106.5 302.5,-106.5 \"/>\n",
       "<text text-anchor=\"middle\" x=\"268.5\" y=\"-91.3\" font-family=\"Times,serif\" font-size=\"14.00\">output:</text>\n",
       "<polyline fill=\"none\" stroke=\"black\" points=\"302.5,-83.5 302.5,-129.5 \"/>\n",
       "<text text-anchor=\"middle\" x=\"357.5\" y=\"-114.3\" font-family=\"Times,serif\" font-size=\"14.00\">(None, 1, 10)</text>\n",
       "<polyline fill=\"none\" stroke=\"black\" points=\"302.5,-106.5 412.5,-106.5 \"/>\n",
       "<text text-anchor=\"middle\" x=\"357.5\" y=\"-91.3\" font-family=\"Times,serif\" font-size=\"14.00\">(None, 10)</text>\n",
       "</g>\n",
       "<!-- 139982164171360&#45;&gt;139982163883584 -->\n",
       "<g id=\"edge3\" class=\"edge\">\n",
       "<title>139982164171360-&gt;139982163883584</title>\n",
       "<path fill=\"none\" stroke=\"black\" d=\"M214.97,-166.37C218.18,-157.97 221.91,-148.24 225.39,-139.14\"/>\n",
       "<polygon fill=\"black\" stroke=\"black\" points=\"228.73,-140.2 229.04,-129.61 222.2,-137.7 228.73,-140.2\"/>\n",
       "</g>\n",
       "<!-- 139982112690768 -->\n",
       "<g id=\"node6\" class=\"node\">\n",
       "<title>139982112690768</title>\n",
       "<polygon fill=\"none\" stroke=\"black\" points=\"446.5,-83.5 446.5,-129.5 784.5,-129.5 784.5,-83.5 446.5,-83.5\"/>\n",
       "<text text-anchor=\"middle\" x=\"526.5\" y=\"-102.8\" font-family=\"Times,serif\" font-size=\"14.00\">user-flatten: Flatten</text>\n",
       "<polyline fill=\"none\" stroke=\"black\" points=\"606.5,-83.5 606.5,-129.5 \"/>\n",
       "<text text-anchor=\"middle\" x=\"640.5\" y=\"-114.3\" font-family=\"Times,serif\" font-size=\"14.00\">input:</text>\n",
       "<polyline fill=\"none\" stroke=\"black\" points=\"606.5,-106.5 674.5,-106.5 \"/>\n",
       "<text text-anchor=\"middle\" x=\"640.5\" y=\"-91.3\" font-family=\"Times,serif\" font-size=\"14.00\">output:</text>\n",
       "<polyline fill=\"none\" stroke=\"black\" points=\"674.5,-83.5 674.5,-129.5 \"/>\n",
       "<text text-anchor=\"middle\" x=\"729.5\" y=\"-114.3\" font-family=\"Times,serif\" font-size=\"14.00\">(None, 1, 10)</text>\n",
       "<polyline fill=\"none\" stroke=\"black\" points=\"674.5,-106.5 784.5,-106.5 \"/>\n",
       "<text text-anchor=\"middle\" x=\"729.5\" y=\"-91.3\" font-family=\"Times,serif\" font-size=\"14.00\">(None, 10)</text>\n",
       "</g>\n",
       "<!-- 139982154882112&#45;&gt;139982112690768 -->\n",
       "<g id=\"edge4\" class=\"edge\">\n",
       "<title>139982154882112-&gt;139982112690768</title>\n",
       "<path fill=\"none\" stroke=\"black\" d=\"M627.13,-166.37C625.49,-158.06 623.59,-148.45 621.81,-139.43\"/>\n",
       "<polygon fill=\"black\" stroke=\"black\" points=\"625.24,-138.74 619.87,-129.61 618.37,-140.1 625.24,-138.74\"/>\n",
       "</g>\n",
       "<!-- 139982112693072 -->\n",
       "<g id=\"node7\" class=\"node\">\n",
       "<title>139982112693072</title>\n",
       "<polygon fill=\"none\" stroke=\"black\" points=\"224.5,-0.5 224.5,-46.5 612.5,-46.5 612.5,-0.5 224.5,-0.5\"/>\n",
       "<text text-anchor=\"middle\" x=\"291.5\" y=\"-19.8\" font-family=\"Times,serif\" font-size=\"14.00\">dot-product: Dot</text>\n",
       "<polyline fill=\"none\" stroke=\"black\" points=\"358.5,-0.5 358.5,-46.5 \"/>\n",
       "<text text-anchor=\"middle\" x=\"392.5\" y=\"-31.3\" font-family=\"Times,serif\" font-size=\"14.00\">input:</text>\n",
       "<polyline fill=\"none\" stroke=\"black\" points=\"358.5,-23.5 426.5,-23.5 \"/>\n",
       "<text text-anchor=\"middle\" x=\"392.5\" y=\"-8.3\" font-family=\"Times,serif\" font-size=\"14.00\">output:</text>\n",
       "<polyline fill=\"none\" stroke=\"black\" points=\"426.5,-0.5 426.5,-46.5 \"/>\n",
       "<text text-anchor=\"middle\" x=\"519.5\" y=\"-31.3\" font-family=\"Times,serif\" font-size=\"14.00\">[(None, 10), (None, 10)]</text>\n",
       "<polyline fill=\"none\" stroke=\"black\" points=\"426.5,-23.5 612.5,-23.5 \"/>\n",
       "<text text-anchor=\"middle\" x=\"519.5\" y=\"-8.3\" font-family=\"Times,serif\" font-size=\"14.00\">(None, 1)</text>\n",
       "</g>\n",
       "<!-- 139982163883584&#45;&gt;139982112693072 -->\n",
       "<g id=\"edge5\" class=\"edge\">\n",
       "<title>139982163883584-&gt;139982112693072</title>\n",
       "<path fill=\"none\" stroke=\"black\" d=\"M286.96,-83.37C309.51,-73.28 336.36,-61.26 359.91,-50.72\"/>\n",
       "<polygon fill=\"black\" stroke=\"black\" points=\"361.4,-53.89 369.1,-46.61 358.54,-47.5 361.4,-53.89\"/>\n",
       "</g>\n",
       "<!-- 139982112690768&#45;&gt;139982112693072 -->\n",
       "<g id=\"edge6\" class=\"edge\">\n",
       "<title>139982112690768-&gt;139982112693072</title>\n",
       "<path fill=\"none\" stroke=\"black\" d=\"M561.93,-83.47C537.07,-73.25 507.35,-61.03 481.42,-50.37\"/>\n",
       "<polygon fill=\"black\" stroke=\"black\" points=\"482.64,-47.09 472.06,-46.52 479.98,-53.56 482.64,-47.09\"/>\n",
       "</g>\n",
       "</g>\n",
       "</svg>"
      ],
      "text/plain": [
       "<IPython.core.display.SVG object>"
      ]
     },
     "execution_count": 27,
     "metadata": {},
     "output_type": "execute_result"
    }
   ],
   "source": [
    "#SVG(model_to_dot(model, show_shapes=True).create(prog='dot', format='svg'))\n",
    "SVG(model_to_dot(model, show_shapes= True, show_layer_names=True, dpi=65).create(prog='dot', format='svg'))"
   ]
  },
  {
   "cell_type": "code",
   "execution_count": 28,
   "id": "384c4d29",
   "metadata": {},
   "outputs": [
    {
     "name": "stdout",
     "output_type": "stream",
     "text": [
      "Model: \"model\"\n",
      "__________________________________________________________________________________________________\n",
      "Layer (type)                    Output Shape         Param #     Connected to                     \n",
      "==================================================================================================\n",
      "anime-input (InputLayer)        [(None, 1)]          0                                            \n",
      "__________________________________________________________________________________________________\n",
      "user-input (InputLayer)         [(None, 1)]          0                                            \n",
      "__________________________________________________________________________________________________\n",
      "anime-embedding (Embedding)     (None, 1, 10)        101830      anime-input[0][0]                \n",
      "__________________________________________________________________________________________________\n",
      "user-embedding (Embedding)      (None, 1, 10)        40230       user-input[0][0]                 \n",
      "__________________________________________________________________________________________________\n",
      "anime-flatten (Flatten)         (None, 10)           0           anime-embedding[0][0]            \n",
      "__________________________________________________________________________________________________\n",
      "user-flatten (Flatten)          (None, 10)           0           user-embedding[0][0]             \n",
      "__________________________________________________________________________________________________\n",
      "dot-product (Dot)               (None, 1)            0           anime-flatten[0][0]              \n",
      "                                                                 user-flatten[0][0]               \n",
      "==================================================================================================\n",
      "Total params: 142,060\n",
      "Trainable params: 142,060\n",
      "Non-trainable params: 0\n",
      "__________________________________________________________________________________________________\n"
     ]
    }
   ],
   "source": [
    "model.summary()"
   ]
  },
  {
   "cell_type": "code",
   "execution_count": 29,
   "id": "aaf80e06",
   "metadata": {},
   "outputs": [],
   "source": [
    "dataset.rating = dataset.rating.astype(float)"
   ]
  },
  {
   "cell_type": "code",
   "execution_count": 30,
   "id": "d891ccac",
   "metadata": {},
   "outputs": [
    {
     "data": {
      "text/plain": [
       "user_id       int64\n",
       "anime_id      int64\n",
       "rating      float64\n",
       "dtype: object"
      ]
     },
     "execution_count": 30,
     "metadata": {},
     "output_type": "execute_result"
    }
   ],
   "source": [
    "dataset.dtypes"
   ]
  },
  {
   "cell_type": "code",
   "execution_count": 31,
   "id": "7bae4f93",
   "metadata": {
    "scrolled": true
   },
   "outputs": [
    {
     "data": {
      "text/plain": [
       "(646320,)"
      ]
     },
     "execution_count": 31,
     "metadata": {},
     "output_type": "execute_result"
    }
   ],
   "source": [
    "train.user_id.shape"
   ]
  },
  {
   "cell_type": "code",
   "execution_count": 32,
   "id": "bcd6d17a",
   "metadata": {},
   "outputs": [
    {
     "data": {
      "text/plain": [
       "(646320,)"
      ]
     },
     "execution_count": 32,
     "metadata": {},
     "output_type": "execute_result"
    }
   ],
   "source": [
    "train.anime_id.shape"
   ]
  },
  {
   "cell_type": "code",
   "execution_count": 33,
   "id": "6e693b5a",
   "metadata": {},
   "outputs": [
    {
     "data": {
      "text/plain": [
       "(646320,)"
      ]
     },
     "execution_count": 33,
     "metadata": {},
     "output_type": "execute_result"
    }
   ],
   "source": [
    "train.rating.shape"
   ]
  },
  {
   "cell_type": "code",
   "execution_count": 34,
   "id": "2c8150db",
   "metadata": {},
   "outputs": [],
   "source": [
    "import matplotlib.pyplot as plt\n",
    "from sklearn.metrics import mean_absolute_error"
   ]
  },
  {
   "cell_type": "code",
   "execution_count": 35,
   "id": "f265e082",
   "metadata": {},
   "outputs": [
    {
     "name": "stdout",
     "output_type": "stream",
     "text": [
      "Epoch 1/4\n"
     ]
    },
    {
     "name": "stderr",
     "output_type": "stream",
     "text": [
      "2021-08-29 18:25:15.995661: I tensorflow/compiler/mlir/mlir_graph_optimization_pass.cc:185] None of the MLIR Optimization Passes are enabled (registered 2)\n"
     ]
    },
    {
     "name": "stdout",
     "output_type": "stream",
     "text": [
      "20198/20198 [==============================] - 43s 2ms/step - loss: 21.1265\n",
      "Epoch 2/4\n",
      "20198/20198 [==============================] - 45s 2ms/step - loss: 2.9112\n",
      "Epoch 3/4\n",
      "20198/20198 [==============================] - 42s 2ms/step - loss: 2.1979\n",
      "Epoch 4/4\n",
      "20198/20198 [==============================] - 36s 2ms/step - loss: 1.9949\n"
     ]
    }
   ],
   "source": [
    "\n",
    "\n",
    "history = model.fit([train.user_id, train.anime_id], train.rating, epochs=4)"
   ]
  },
  {
   "cell_type": "code",
   "execution_count": 43,
   "id": "21575405",
   "metadata": {},
   "outputs": [
    {
     "data": {
      "image/png": "[encoded data removed]",
      "text/plain": [
       "<Figure size 432x288 with 1 Axes>"
      ]
     },
     "metadata": {
      "needs_background": "light"
     },
     "output_type": "display_data"
    },
    {
     "data": {
      "text/plain": [
       "7.480500742666129"
      ]
     },
     "execution_count": 43,
     "metadata": {},
     "output_type": "execute_result"
    }
   ],
   "source": [
    "pd.Series(history.history['loss']).plot(logy=True)\n",
    "plt.xlabel(\"Epoch\")\n",
    "plt.ylabel(\"Train Error\")\n",
    "plt.show()\n",
    "\n",
    "y_hat = np.round(model.predict([test.user_id, test.anime_id]), decimals=2)\n",
    "y_true = test.rating\n",
    "mean_absolute_error(y_true, y_hat)"
   ]
  },
  {
   "cell_type": "markdown",
   "id": "77952ec0",
   "metadata": {},
   "source": []
  },
  {
   "cell_type": "markdown",
   "id": "ce627422",
   "metadata": {},
   "source": [
    "## non-negative matrix factorization"
   ]
  },
  {
   "cell_type": "code",
   "execution_count": 44,
   "id": "27b6bac6",
   "metadata": {},
   "outputs": [],
   "source": [
    "from keras.constraints import non_neg"
   ]
  },
  {
   "cell_type": "code",
   "execution_count": 45,
   "id": "e6667968",
   "metadata": {},
   "outputs": [],
   "source": [
    "latent_dim = 5\n",
    "\n",
    "anime_input = Input(shape=[1],name='anime-input')\n",
    "anime_embedding = Embedding(num_animes + 1, latent_dim, name='anime-embedding',\n",
    "                                                        embeddings_constraint=non_neg())(anime_input)\n",
    "anime_vec = Flatten(name='anime-flatten')(anime_embedding)\n",
    "\n",
    "user_input = Input(shape=[1],name='user-input')\n",
    "user_embedding = Embedding(num_users + 1, latent_dim, name='user-embedding',\n",
    "                                                      embeddings_constraint=non_neg())(user_input)\n",
    "user_vec = Flatten(name='user-flatten')(user_embedding)\n",
    "\n",
    "prod = dot([anime_vec, user_vec], axes=1, normalize=False, name='dot-product')\n",
    "\n",
    "model = Model([user_input, anime_input], prod)\n",
    "model.compile('adam', 'mean_squared_error')"
   ]
  },
  {
   "cell_type": "code",
   "execution_count": null,
   "id": "6fea079c",
   "metadata": {},
   "outputs": [],
   "source": []
  },
  {
   "cell_type": "code",
   "execution_count": 46,
   "id": "5d51245d",
   "metadata": {},
   "outputs": [
    {
     "data": {
      "image/svg+xml": [
       "<svg xmlns=\"http://www.w3.org/2000/svg\" xmlns:xlink=\"http://www.w3.org/1999/xlink\" width=\"742pt\" height=\"274pt\" viewBox=\"0.00 0.00 822.00 304.00\">\n",
       "<g id=\"graph0\" class=\"graph\" transform=\"scale(0.9 0.9) rotate(0) translate(4 300)\">\n",
       "<title>G</title>\n",
       "<polygon fill=\"white\" stroke=\"transparent\" points=\"-4,4 -4,-300 818,-300 818,4 -4,4\"/>\n",
       "<!-- 139984796195856 -->\n",
       "<g id=\"node1\" class=\"node\">\n",
       "<title>139984796195856</title>\n",
       "<polygon fill=\"none\" stroke=\"black\" points=\"26.5,-249.5 26.5,-295.5 377.5,-295.5 377.5,-249.5 26.5,-249.5\"/>\n",
       "<text text-anchor=\"middle\" x=\"121.5\" y=\"-268.8\" font-family=\"Times,serif\" font-size=\"14.00\">anime-input: InputLayer</text>\n",
       "<polyline fill=\"none\" stroke=\"black\" points=\"216.5,-249.5 216.5,-295.5 \"/>\n",
       "<text text-anchor=\"middle\" x=\"250.5\" y=\"-280.3\" font-family=\"Times,serif\" font-size=\"14.00\">input:</text>\n",
       "<polyline fill=\"none\" stroke=\"black\" points=\"216.5,-272.5 284.5,-272.5 \"/>\n",
       "<text text-anchor=\"middle\" x=\"250.5\" y=\"-257.3\" font-family=\"Times,serif\" font-size=\"14.00\">output:</text>\n",
       "<polyline fill=\"none\" stroke=\"black\" points=\"284.5,-249.5 284.5,-295.5 \"/>\n",
       "<text text-anchor=\"middle\" x=\"331\" y=\"-280.3\" font-family=\"Times,serif\" font-size=\"14.00\">[(None, 1)]</text>\n",
       "<polyline fill=\"none\" stroke=\"black\" points=\"284.5,-272.5 377.5,-272.5 \"/>\n",
       "<text text-anchor=\"middle\" x=\"331\" y=\"-257.3\" font-family=\"Times,serif\" font-size=\"14.00\">[(None, 1)]</text>\n",
       "</g>\n",
       "<!-- 139983780273648 -->\n",
       "<g id=\"node3\" class=\"node\">\n",
       "<title>139983780273648</title>\n",
       "<polygon fill=\"none\" stroke=\"black\" points=\"0,-166.5 0,-212.5 404,-212.5 404,-166.5 0,-166.5\"/>\n",
       "<text text-anchor=\"middle\" x=\"117.5\" y=\"-185.8\" font-family=\"Times,serif\" font-size=\"14.00\">anime-embedding: Embedding</text>\n",
       "<polyline fill=\"none\" stroke=\"black\" points=\"235,-166.5 235,-212.5 \"/>\n",
       "<text text-anchor=\"middle\" x=\"269\" y=\"-197.3\" font-family=\"Times,serif\" font-size=\"14.00\">input:</text>\n",
       "<polyline fill=\"none\" stroke=\"black\" points=\"235,-189.5 303,-189.5 \"/>\n",
       "<text text-anchor=\"middle\" x=\"269\" y=\"-174.3\" font-family=\"Times,serif\" font-size=\"14.00\">output:</text>\n",
       "<polyline fill=\"none\" stroke=\"black\" points=\"303,-166.5 303,-212.5 \"/>\n",
       "<text text-anchor=\"middle\" x=\"353.5\" y=\"-197.3\" font-family=\"Times,serif\" font-size=\"14.00\">(None, 1)</text>\n",
       "<polyline fill=\"none\" stroke=\"black\" points=\"303,-189.5 404,-189.5 \"/>\n",
       "<text text-anchor=\"middle\" x=\"353.5\" y=\"-174.3\" font-family=\"Times,serif\" font-size=\"14.00\">(None, 1, 5)</text>\n",
       "</g>\n",
       "<!-- 139984796195856&#45;&gt;139983780273648 -->\n",
       "<g id=\"edge1\" class=\"edge\">\n",
       "<title>139984796195856-&gt;139983780273648</title>\n",
       "<path fill=\"none\" stroke=\"black\" d=\"M202,-249.37C202,-241.15 202,-231.66 202,-222.73\"/>\n",
       "<polygon fill=\"black\" stroke=\"black\" points=\"205.5,-222.61 202,-212.61 198.5,-222.61 205.5,-222.61\"/>\n",
       "</g>\n",
       "<!-- 139984796195712 -->\n",
       "<g id=\"node2\" class=\"node\">\n",
       "<title>139984796195712</title>\n",
       "<polygon fill=\"none\" stroke=\"black\" points=\"448.5,-249.5 448.5,-295.5 787.5,-295.5 787.5,-249.5 448.5,-249.5\"/>\n",
       "<text text-anchor=\"middle\" x=\"537.5\" y=\"-268.8\" font-family=\"Times,serif\" font-size=\"14.00\">user-input: InputLayer</text>\n",
       "<polyline fill=\"none\" stroke=\"black\" points=\"626.5,-249.5 626.5,-295.5 \"/>\n",
       "<text text-anchor=\"middle\" x=\"660.5\" y=\"-280.3\" font-family=\"Times,serif\" font-size=\"14.00\">input:</text>\n",
       "<polyline fill=\"none\" stroke=\"black\" points=\"626.5,-272.5 694.5,-272.5 \"/>\n",
       "<text text-anchor=\"middle\" x=\"660.5\" y=\"-257.3\" font-family=\"Times,serif\" font-size=\"14.00\">output:</text>\n",
       "<polyline fill=\"none\" stroke=\"black\" points=\"694.5,-249.5 694.5,-295.5 \"/>\n",
       "<text text-anchor=\"middle\" x=\"741\" y=\"-280.3\" font-family=\"Times,serif\" font-size=\"14.00\">[(None, 1)]</text>\n",
       "<polyline fill=\"none\" stroke=\"black\" points=\"694.5,-272.5 787.5,-272.5 \"/>\n",
       "<text text-anchor=\"middle\" x=\"741\" y=\"-257.3\" font-family=\"Times,serif\" font-size=\"14.00\">[(None, 1)]</text>\n",
       "</g>\n",
       "<!-- 139984796215760 -->\n",
       "<g id=\"node4\" class=\"node\">\n",
       "<title>139984796215760</title>\n",
       "<polygon fill=\"none\" stroke=\"black\" points=\"422,-166.5 422,-212.5 814,-212.5 814,-166.5 422,-166.5\"/>\n",
       "<text text-anchor=\"middle\" x=\"533.5\" y=\"-185.8\" font-family=\"Times,serif\" font-size=\"14.00\">user-embedding: Embedding</text>\n",
       "<polyline fill=\"none\" stroke=\"black\" points=\"645,-166.5 645,-212.5 \"/>\n",
       "<text text-anchor=\"middle\" x=\"679\" y=\"-197.3\" font-family=\"Times,serif\" font-size=\"14.00\">input:</text>\n",
       "<polyline fill=\"none\" stroke=\"black\" points=\"645,-189.5 713,-189.5 \"/>\n",
       "<text text-anchor=\"middle\" x=\"679\" y=\"-174.3\" font-family=\"Times,serif\" font-size=\"14.00\">output:</text>\n",
       "<polyline fill=\"none\" stroke=\"black\" points=\"713,-166.5 713,-212.5 \"/>\n",
       "<text text-anchor=\"middle\" x=\"763.5\" y=\"-197.3\" font-family=\"Times,serif\" font-size=\"14.00\">(None, 1)</text>\n",
       "<polyline fill=\"none\" stroke=\"black\" points=\"713,-189.5 814,-189.5 \"/>\n",
       "<text text-anchor=\"middle\" x=\"763.5\" y=\"-174.3\" font-family=\"Times,serif\" font-size=\"14.00\">(None, 1, 5)</text>\n",
       "</g>\n",
       "<!-- 139984796195712&#45;&gt;139984796215760 -->\n",
       "<g id=\"edge2\" class=\"edge\">\n",
       "<title>139984796195712-&gt;139984796215760</title>\n",
       "<path fill=\"none\" stroke=\"black\" d=\"M618,-249.37C618,-241.15 618,-231.66 618,-222.73\"/>\n",
       "<polygon fill=\"black\" stroke=\"black\" points=\"621.5,-222.61 618,-212.61 614.5,-222.61 621.5,-222.61\"/>\n",
       "</g>\n",
       "<!-- 139984796194176 -->\n",
       "<g id=\"node5\" class=\"node\">\n",
       "<title>139984796194176</title>\n",
       "<polygon fill=\"none\" stroke=\"black\" points=\"62.5,-83.5 62.5,-129.5 403.5,-129.5 403.5,-83.5 62.5,-83.5\"/>\n",
       "<text text-anchor=\"middle\" x=\"148.5\" y=\"-102.8\" font-family=\"Times,serif\" font-size=\"14.00\">anime-flatten: Flatten</text>\n",
       "<polyline fill=\"none\" stroke=\"black\" points=\"234.5,-83.5 234.5,-129.5 \"/>\n",
       "<text text-anchor=\"middle\" x=\"268.5\" y=\"-114.3\" font-family=\"Times,serif\" font-size=\"14.00\">input:</text>\n",
       "<polyline fill=\"none\" stroke=\"black\" points=\"234.5,-106.5 302.5,-106.5 \"/>\n",
       "<text text-anchor=\"middle\" x=\"268.5\" y=\"-91.3\" font-family=\"Times,serif\" font-size=\"14.00\">output:</text>\n",
       "<polyline fill=\"none\" stroke=\"black\" points=\"302.5,-83.5 302.5,-129.5 \"/>\n",
       "<text text-anchor=\"middle\" x=\"353\" y=\"-114.3\" font-family=\"Times,serif\" font-size=\"14.00\">(None, 1, 5)</text>\n",
       "<polyline fill=\"none\" stroke=\"black\" points=\"302.5,-106.5 403.5,-106.5 \"/>\n",
       "<text text-anchor=\"middle\" x=\"353\" y=\"-91.3\" font-family=\"Times,serif\" font-size=\"14.00\">(None, 5)</text>\n",
       "</g>\n",
       "<!-- 139983780273648&#45;&gt;139984796194176 -->\n",
       "<g id=\"edge3\" class=\"edge\">\n",
       "<title>139983780273648-&gt;139984796194176</title>\n",
       "<path fill=\"none\" stroke=\"black\" d=\"M210.47,-166.37C213.68,-157.97 217.41,-148.24 220.89,-139.14\"/>\n",
       "<polygon fill=\"black\" stroke=\"black\" points=\"224.23,-140.2 224.54,-129.61 217.7,-137.7 224.23,-140.2\"/>\n",
       "</g>\n",
       "<!-- 139984796137552 -->\n",
       "<g id=\"node6\" class=\"node\">\n",
       "<title>139984796137552</title>\n",
       "<polygon fill=\"none\" stroke=\"black\" points=\"437.5,-83.5 437.5,-129.5 766.5,-129.5 766.5,-83.5 437.5,-83.5\"/>\n",
       "<text text-anchor=\"middle\" x=\"517.5\" y=\"-102.8\" font-family=\"Times,serif\" font-size=\"14.00\">user-flatten: Flatten</text>\n",
       "<polyline fill=\"none\" stroke=\"black\" points=\"597.5,-83.5 597.5,-129.5 \"/>\n",
       "<text text-anchor=\"middle\" x=\"631.5\" y=\"-114.3\" font-family=\"Times,serif\" font-size=\"14.00\">input:</text>\n",
       "<polyline fill=\"none\" stroke=\"black\" points=\"597.5,-106.5 665.5,-106.5 \"/>\n",
       "<text text-anchor=\"middle\" x=\"631.5\" y=\"-91.3\" font-family=\"Times,serif\" font-size=\"14.00\">output:</text>\n",
       "<polyline fill=\"none\" stroke=\"black\" points=\"665.5,-83.5 665.5,-129.5 \"/>\n",
       "<text text-anchor=\"middle\" x=\"716\" y=\"-114.3\" font-family=\"Times,serif\" font-size=\"14.00\">(None, 1, 5)</text>\n",
       "<polyline fill=\"none\" stroke=\"black\" points=\"665.5,-106.5 766.5,-106.5 \"/>\n",
       "<text text-anchor=\"middle\" x=\"716\" y=\"-91.3\" font-family=\"Times,serif\" font-size=\"14.00\">(None, 5)</text>\n",
       "</g>\n",
       "<!-- 139984796215760&#45;&gt;139984796137552 -->\n",
       "<g id=\"edge4\" class=\"edge\">\n",
       "<title>139984796215760-&gt;139984796137552</title>\n",
       "<path fill=\"none\" stroke=\"black\" d=\"M613.63,-166.37C611.99,-158.06 610.09,-148.45 608.31,-139.43\"/>\n",
       "<polygon fill=\"black\" stroke=\"black\" points=\"611.74,-138.74 606.37,-129.61 604.87,-140.1 611.74,-138.74\"/>\n",
       "</g>\n",
       "<!-- 139984796217104 -->\n",
       "<g id=\"node7\" class=\"node\">\n",
       "<title>139984796217104</title>\n",
       "<polygon fill=\"none\" stroke=\"black\" points=\"224,-0.5 224,-46.5 594,-46.5 594,-0.5 224,-0.5\"/>\n",
       "<text text-anchor=\"middle\" x=\"291\" y=\"-19.8\" font-family=\"Times,serif\" font-size=\"14.00\">dot-product: Dot</text>\n",
       "<polyline fill=\"none\" stroke=\"black\" points=\"358,-0.5 358,-46.5 \"/>\n",
       "<text text-anchor=\"middle\" x=\"392\" y=\"-31.3\" font-family=\"Times,serif\" font-size=\"14.00\">input:</text>\n",
       "<polyline fill=\"none\" stroke=\"black\" points=\"358,-23.5 426,-23.5 \"/>\n",
       "<text text-anchor=\"middle\" x=\"392\" y=\"-8.3\" font-family=\"Times,serif\" font-size=\"14.00\">output:</text>\n",
       "<polyline fill=\"none\" stroke=\"black\" points=\"426,-0.5 426,-46.5 \"/>\n",
       "<text text-anchor=\"middle\" x=\"510\" y=\"-31.3\" font-family=\"Times,serif\" font-size=\"14.00\">[(None, 5), (None, 5)]</text>\n",
       "<polyline fill=\"none\" stroke=\"black\" points=\"426,-23.5 594,-23.5 \"/>\n",
       "<text text-anchor=\"middle\" x=\"510\" y=\"-8.3\" font-family=\"Times,serif\" font-size=\"14.00\">(None, 1)</text>\n",
       "</g>\n",
       "<!-- 139984796194176&#45;&gt;139984796217104 -->\n",
       "<g id=\"edge5\" class=\"edge\">\n",
       "<title>139984796194176-&gt;139984796217104</title>\n",
       "<path fill=\"none\" stroke=\"black\" d=\"M281.09,-83.37C302.92,-73.32 328.9,-61.36 351.73,-50.86\"/>\n",
       "<polygon fill=\"black\" stroke=\"black\" points=\"353.34,-53.97 360.97,-46.61 350.42,-47.61 353.34,-53.97\"/>\n",
       "</g>\n",
       "<!-- 139984796137552&#45;&gt;139984796217104 -->\n",
       "<g id=\"edge6\" class=\"edge\">\n",
       "<title>139984796137552-&gt;139984796217104</title>\n",
       "<path fill=\"none\" stroke=\"black\" d=\"M549.52,-83.47C525.27,-73.3 496.3,-61.14 470.98,-50.51\"/>\n",
       "<polygon fill=\"black\" stroke=\"black\" points=\"472.05,-47.16 461.47,-46.52 469.34,-53.62 472.05,-47.16\"/>\n",
       "</g>\n",
       "</g>\n",
       "</svg>"
      ],
      "text/plain": [
       "<IPython.core.display.SVG object>"
      ]
     },
     "execution_count": 46,
     "metadata": {},
     "output_type": "execute_result"
    }
   ],
   "source": [
    "#SVG(model_to_dot(model, show_shapes=True).create(prog='dot', format='svg'))\n",
    "SVG(model_to_dot(model, show_shapes= True, show_layer_names=True, dpi=65).create(prog='dot', format='svg'))"
   ]
  },
  {
   "cell_type": "code",
   "execution_count": 47,
   "id": "aae3035d",
   "metadata": {},
   "outputs": [
    {
     "name": "stdout",
     "output_type": "stream",
     "text": [
      "Model: \"model_2\"\n",
      "__________________________________________________________________________________________________\n",
      "Layer (type)                    Output Shape         Param #     Connected to                     \n",
      "==================================================================================================\n",
      "anime-input (InputLayer)        [(None, 1)]          0                                            \n",
      "__________________________________________________________________________________________________\n",
      "user-input (InputLayer)         [(None, 1)]          0                                            \n",
      "__________________________________________________________________________________________________\n",
      "anime-embedding (Embedding)     (None, 1, 5)         50915       anime-input[0][0]                \n",
      "__________________________________________________________________________________________________\n",
      "user-embedding (Embedding)      (None, 1, 5)         20115       user-input[0][0]                 \n",
      "__________________________________________________________________________________________________\n",
      "anime-flatten (Flatten)         (None, 5)            0           anime-embedding[0][0]            \n",
      "__________________________________________________________________________________________________\n",
      "user-flatten (Flatten)          (None, 5)            0           user-embedding[0][0]             \n",
      "__________________________________________________________________________________________________\n",
      "dot-product (Dot)               (None, 1)            0           anime-flatten[0][0]              \n",
      "                                                                 user-flatten[0][0]               \n",
      "==================================================================================================\n",
      "Total params: 71,030\n",
      "Trainable params: 71,030\n",
      "Non-trainable params: 0\n",
      "__________________________________________________________________________________________________\n"
     ]
    }
   ],
   "source": [
    "model.summary()"
   ]
  },
  {
   "cell_type": "code",
   "execution_count": 48,
   "id": "9f8ce34d",
   "metadata": {},
   "outputs": [],
   "source": [
    "import matplotlib.pyplot as plt\n",
    "from sklearn.metrics import mean_absolute_error"
   ]
  },
  {
   "cell_type": "code",
   "execution_count": null,
   "id": "559f2694",
   "metadata": {},
   "outputs": [],
   "source": [
    "from tensorflow.keras.layers import Embedding\n",
    "from tensorflow.keras.constraints import UnitNorm\n",
    "\n",
    "emb = Embedding(input_dim, output_dim, name='embedding_name', embeddings_constraint=UnitNorm(axis=1))\n",
    ". . .\n",
    "\n",
    "emb = Embedding(input_dim, output_dim, name='embedding_name')\n",
    "norm_layer = UnitNorm(axis=1)\n",
    "norm_embedding = norm_layer(emb(embedding_id_input))"
   ]
  },
  {
   "cell_type": "code",
   "execution_count": 51,
   "id": "b6ce4a48",
   "metadata": {},
   "outputs": [
    {
     "name": "stdout",
     "output_type": "stream",
     "text": [
      "Epoch 1/10\n"
     ]
    },
    {
     "ename": "TypeError",
     "evalue": "'NoneType' object is not callable",
     "output_type": "error",
     "traceback": [
      "\u001b[0;31m---------------------------------------------------------------------------\u001b[0m",
      "\u001b[0;31mTypeError\u001b[0m                                 Traceback (most recent call last)",
      "\u001b[0;32m/tmp/ipykernel_20171/1673408111.py\u001b[0m in \u001b[0;36m<module>\u001b[0;34m\u001b[0m\n\u001b[1;32m      2\u001b[0m \u001b[0;32mfrom\u001b[0m \u001b[0msklearn\u001b[0m\u001b[0;34m.\u001b[0m\u001b[0mmetrics\u001b[0m \u001b[0;32mimport\u001b[0m \u001b[0mmean_absolute_error\u001b[0m\u001b[0;34m\u001b[0m\u001b[0;34m\u001b[0m\u001b[0m\n\u001b[1;32m      3\u001b[0m \u001b[0;34m\u001b[0m\u001b[0m\n\u001b[0;32m----> 4\u001b[0;31m \u001b[0mhistory\u001b[0m \u001b[0;34m=\u001b[0m \u001b[0mmodel\u001b[0m\u001b[0;34m.\u001b[0m\u001b[0mfit\u001b[0m\u001b[0;34m(\u001b[0m\u001b[0;34m[\u001b[0m\u001b[0mtrain\u001b[0m\u001b[0;34m.\u001b[0m\u001b[0muser_id\u001b[0m\u001b[0;34m,\u001b[0m \u001b[0mtrain\u001b[0m\u001b[0;34m.\u001b[0m\u001b[0manime_id\u001b[0m\u001b[0;34m]\u001b[0m\u001b[0;34m,\u001b[0m \u001b[0mtrain\u001b[0m\u001b[0;34m.\u001b[0m\u001b[0mrating\u001b[0m\u001b[0;34m,\u001b[0m \u001b[0mepochs\u001b[0m\u001b[0;34m=\u001b[0m\u001b[0;36m10\u001b[0m\u001b[0;34m)\u001b[0m\u001b[0;34m\u001b[0m\u001b[0;34m\u001b[0m\u001b[0m\n\u001b[0m\u001b[1;32m      5\u001b[0m \u001b[0mpd\u001b[0m\u001b[0;34m.\u001b[0m\u001b[0mSeries\u001b[0m\u001b[0;34m(\u001b[0m\u001b[0mhistory\u001b[0m\u001b[0;34m.\u001b[0m\u001b[0mhistory\u001b[0m\u001b[0;34m[\u001b[0m\u001b[0;34m'loss'\u001b[0m\u001b[0;34m]\u001b[0m\u001b[0;34m)\u001b[0m\u001b[0;34m.\u001b[0m\u001b[0mplot\u001b[0m\u001b[0;34m(\u001b[0m\u001b[0mlogy\u001b[0m\u001b[0;34m=\u001b[0m\u001b[0;32mTrue\u001b[0m\u001b[0;34m)\u001b[0m\u001b[0;34m\u001b[0m\u001b[0;34m\u001b[0m\u001b[0m\n\u001b[1;32m      6\u001b[0m \u001b[0mplt\u001b[0m\u001b[0;34m.\u001b[0m\u001b[0mxlabel\u001b[0m\u001b[0;34m(\u001b[0m\u001b[0;34m\"Epoch\"\u001b[0m\u001b[0;34m)\u001b[0m\u001b[0;34m\u001b[0m\u001b[0;34m\u001b[0m\u001b[0m\n",
      "\u001b[0;32m~/.local/lib/python3.9/site-packages/keras/engine/training.py\u001b[0m in \u001b[0;36mfit\u001b[0;34m(self, x, y, batch_size, epochs, verbose, callbacks, validation_split, validation_data, shuffle, class_weight, sample_weight, initial_epoch, steps_per_epoch, validation_steps, validation_batch_size, validation_freq, max_queue_size, workers, use_multiprocessing)\u001b[0m\n\u001b[1;32m   1182\u001b[0m                 _r=1):\n\u001b[1;32m   1183\u001b[0m               \u001b[0mcallbacks\u001b[0m\u001b[0;34m.\u001b[0m\u001b[0mon_train_batch_begin\u001b[0m\u001b[0;34m(\u001b[0m\u001b[0mstep\u001b[0m\u001b[0;34m)\u001b[0m\u001b[0;34m\u001b[0m\u001b[0;34m\u001b[0m\u001b[0m\n\u001b[0;32m-> 1184\u001b[0;31m               \u001b[0mtmp_logs\u001b[0m \u001b[0;34m=\u001b[0m \u001b[0mself\u001b[0m\u001b[0;34m.\u001b[0m\u001b[0mtrain_function\u001b[0m\u001b[0;34m(\u001b[0m\u001b[0miterator\u001b[0m\u001b[0;34m)\u001b[0m\u001b[0;34m\u001b[0m\u001b[0;34m\u001b[0m\u001b[0m\n\u001b[0m\u001b[1;32m   1185\u001b[0m               \u001b[0;32mif\u001b[0m \u001b[0mdata_handler\u001b[0m\u001b[0;34m.\u001b[0m\u001b[0mshould_sync\u001b[0m\u001b[0;34m:\u001b[0m\u001b[0;34m\u001b[0m\u001b[0;34m\u001b[0m\u001b[0m\n\u001b[1;32m   1186\u001b[0m                 \u001b[0mcontext\u001b[0m\u001b[0;34m.\u001b[0m\u001b[0masync_wait\u001b[0m\u001b[0;34m(\u001b[0m\u001b[0;34m)\u001b[0m\u001b[0;34m\u001b[0m\u001b[0;34m\u001b[0m\u001b[0m\n",
      "\u001b[0;32m~/.local/lib/python3.9/site-packages/tensorflow/python/eager/def_function.py\u001b[0m in \u001b[0;36m__call__\u001b[0;34m(self, *args, **kwds)\u001b[0m\n\u001b[1;32m    883\u001b[0m \u001b[0;34m\u001b[0m\u001b[0m\n\u001b[1;32m    884\u001b[0m       \u001b[0;32mwith\u001b[0m \u001b[0mOptionalXlaContext\u001b[0m\u001b[0;34m(\u001b[0m\u001b[0mself\u001b[0m\u001b[0;34m.\u001b[0m\u001b[0m_jit_compile\u001b[0m\u001b[0;34m)\u001b[0m\u001b[0;34m:\u001b[0m\u001b[0;34m\u001b[0m\u001b[0;34m\u001b[0m\u001b[0m\n\u001b[0;32m--> 885\u001b[0;31m         \u001b[0mresult\u001b[0m \u001b[0;34m=\u001b[0m \u001b[0mself\u001b[0m\u001b[0;34m.\u001b[0m\u001b[0m_call\u001b[0m\u001b[0;34m(\u001b[0m\u001b[0;34m*\u001b[0m\u001b[0margs\u001b[0m\u001b[0;34m,\u001b[0m \u001b[0;34m**\u001b[0m\u001b[0mkwds\u001b[0m\u001b[0;34m)\u001b[0m\u001b[0;34m\u001b[0m\u001b[0;34m\u001b[0m\u001b[0m\n\u001b[0m\u001b[1;32m    886\u001b[0m \u001b[0;34m\u001b[0m\u001b[0m\n\u001b[1;32m    887\u001b[0m       \u001b[0mnew_tracing_count\u001b[0m \u001b[0;34m=\u001b[0m \u001b[0mself\u001b[0m\u001b[0;34m.\u001b[0m\u001b[0mexperimental_get_tracing_count\u001b[0m\u001b[0;34m(\u001b[0m\u001b[0;34m)\u001b[0m\u001b[0;34m\u001b[0m\u001b[0;34m\u001b[0m\u001b[0m\n",
      "\u001b[0;32m~/.local/lib/python3.9/site-packages/tensorflow/python/eager/def_function.py\u001b[0m in \u001b[0;36m_call\u001b[0;34m(self, *args, **kwds)\u001b[0m\n\u001b[1;32m    915\u001b[0m       \u001b[0;31m# In this case we have created variables on the first call, so we run the\u001b[0m\u001b[0;34m\u001b[0m\u001b[0;34m\u001b[0m\u001b[0;34m\u001b[0m\u001b[0m\n\u001b[1;32m    916\u001b[0m       \u001b[0;31m# defunned version which is guaranteed to never create variables.\u001b[0m\u001b[0;34m\u001b[0m\u001b[0;34m\u001b[0m\u001b[0;34m\u001b[0m\u001b[0m\n\u001b[0;32m--> 917\u001b[0;31m       \u001b[0;32mreturn\u001b[0m \u001b[0mself\u001b[0m\u001b[0;34m.\u001b[0m\u001b[0m_stateless_fn\u001b[0m\u001b[0;34m(\u001b[0m\u001b[0;34m*\u001b[0m\u001b[0margs\u001b[0m\u001b[0;34m,\u001b[0m \u001b[0;34m**\u001b[0m\u001b[0mkwds\u001b[0m\u001b[0;34m)\u001b[0m  \u001b[0;31m# pylint: disable=not-callable\u001b[0m\u001b[0;34m\u001b[0m\u001b[0;34m\u001b[0m\u001b[0m\n\u001b[0m\u001b[1;32m    918\u001b[0m     \u001b[0;32melif\u001b[0m \u001b[0mself\u001b[0m\u001b[0;34m.\u001b[0m\u001b[0m_stateful_fn\u001b[0m \u001b[0;32mis\u001b[0m \u001b[0;32mnot\u001b[0m \u001b[0;32mNone\u001b[0m\u001b[0;34m:\u001b[0m\u001b[0;34m\u001b[0m\u001b[0;34m\u001b[0m\u001b[0m\n\u001b[1;32m    919\u001b[0m       \u001b[0;31m# Release the lock early so that multiple threads can perform the call\u001b[0m\u001b[0;34m\u001b[0m\u001b[0;34m\u001b[0m\u001b[0;34m\u001b[0m\u001b[0m\n",
      "\u001b[0;31mTypeError\u001b[0m: 'NoneType' object is not callable"
     ]
    }
   ],
   "source": [
    "import matplotlib.pyplot as plt\n",
    "from sklearn.metrics import mean_absolute_error\n",
    "\n",
    "history = model.fit([train.user_id, train.anime_id], train.rating, epochs=10)\n",
    "pd.Series(history.history['loss']).plot(logy=True)\n",
    "plt.xlabel(\"Epoch\")\n",
    "plt.ylabel(\"Train Error\")\n",
    "plt.show()\n",
    "\n",
    "y_hat = np.round(model.predict([test.user_id, test.anime_id]), decimals=2)\n",
    "y_true = test.rating\n",
    "mean_absolute_error(y_true, y_hat)"
   ]
  },
  {
   "cell_type": "code",
   "execution_count": null,
   "id": "b94fc91f",
   "metadata": {},
   "outputs": [],
   "source": []
  },
  {
   "cell_type": "markdown",
   "id": "29484d79",
   "metadata": {},
   "source": [
    "# Multi-Layer Perceptron"
   ]
  },
  {
   "cell_type": "code",
   "execution_count": null,
   "id": "552d581c",
   "metadata": {},
   "outputs": [],
   "source": [
    "from keras.layers import  BatchNormalization\n"
   ]
  },
  {
   "cell_type": "code",
   "execution_count": null,
   "id": "84bc0201",
   "metadata": {},
   "outputs": [],
   "source": [
    "\n",
    "latent_dim = 10\n",
    "\n",
    "# Define inputs\n",
    "anime_input = Input(shape=[1],name='anime-input')\n",
    "user_input = Input(shape=[1], name='user-input')\n",
    "\n",
    "# MLP Embeddings\n",
    "anime_embedding_mlp = Embedding(num_animes + 1, latent_dim, name='anime-embedding-mlp')(anime_input)\n",
    "anime_vec_mlp = Flatten(name='flatten-anime-mlp')(anime_embedding_mlp)\n",
    "\n",
    "user_embedding_mlp = Embedding(num_users + 1, latent_dim, name='user-embedding-mlp')(user_input)\n",
    "user_vec_mlp = Flatten(name='flatten-user-mlp')(user_embedding_mlp)\n",
    "\n",
    "# MF Embeddings\n",
    "anime_embedding_mf = Embedding(num_animes + 1, latent_dim, name='anime-embedding-mf')(anime_input)\n",
    "anime_vec_mf = Flatten(name='flatten-anime-mf')(anime_embedding_mf)\n",
    "\n",
    "user_embedding_mf = Embedding(num_users + 1, latent_dim, name='user-embedding-mf')(user_input)\n",
    "user_vec_mf = Flatten(name='flatten-user-mf')(user_embedding_mf)\n",
    "\n",
    "# MLP layers\n",
    "concat = concatenate([anime_vec_mlp, user_vec_mlp], axis=1, name='concat')\n",
    "concat_dropout = Dropout(0.2)(concat)\n",
    "fc_1 = Dense(100, name='fc-1', activation='relu')(concat_dropout)\n",
    "fc_1_bn = BatchNormalization(name='batch-norm-1')(fc_1)\n",
    "fc_1_dropout = Dropout(0.2)(fc_1_bn)\n",
    "fc_2 = Dense(50, name='fc-2', activation='relu')(fc_1_dropout)\n",
    "fc_2_bn = BatchNormalization(name='batch-norm-2')(fc_2)\n",
    "fc_2_dropout = Dropout(0.2)(fc_2_bn)\n",
    "\n",
    "# Prediction from both layers\n",
    "pred_mlp = Dense(10, name='pred-mlp', activation='relu')(fc_2_dropout)\n",
    "pred_mf = dot([anime_vec_mf, user_vec_mf], axes=1, normalize=False, name='pred-mf')\n",
    "combine_mlp_mf = concatenate([pred_mf, pred_mlp], axis=1, name='combine-mlp-mf')\n",
    "\n",
    "# Final prediction\n",
    "result = Dense(1, name='result', activation='relu')(combine_mlp_mf)\n",
    "\n",
    "model = Model([user_input, anime_input], result)\n",
    "model.compile(Adam(learning_rate=0.01), loss='mean_absolute_error')"
   ]
  },
  {
   "cell_type": "code",
   "execution_count": null,
   "id": "27d232f3",
   "metadata": {},
   "outputs": [],
   "source": [
    "#SVG(model_to_dot(model, show_shapes=True).create(prog='dot', format='svg'))\n",
    "SVG(model_to_dot(model, show_shapes= True, show_layer_names=True, dpi=45).create(prog='dot', format='svg'))"
   ]
  },
  {
   "cell_type": "code",
   "execution_count": null,
   "id": "cc84e741",
   "metadata": {},
   "outputs": [],
   "source": [
    "model.summary()"
   ]
  },
  {
   "cell_type": "code",
   "execution_count": null,
   "id": "48801386",
   "metadata": {},
   "outputs": [],
   "source": [
    "import matplotlib.pyplot as plt\n",
    "from sklearn.metrics import mean_absolute_error\n",
    "history = model.fit([train.user_id, train.anime_id], train.rating, epochs=10)\n",
    "pd.Series(history.history['loss']).plot(logy=True)\n",
    "plt.xlabel(\"Epoch\")\n",
    "plt.ylabel(\"Train Error\")\n",
    "plt.show()\n",
    "\n",
    "y_hat = np.round(model.predict([test.user_id, test.anime_id]), decimals=2)\n",
    "y_true = test.rating\n",
    "mean_absolute_error(y_true, y_hat)"
   ]
  },
  {
   "cell_type": "code",
   "execution_count": null,
   "id": "c08fde20",
   "metadata": {},
   "outputs": [],
   "source": []
  }
 ],
 "metadata": {
  "kernelspec": {
   "display_name": "anime_map",
   "language": "python",
   "name": "anime_map"
  },
  "language_info": {
   "codemirror_mode": {
    "name": "ipython",
    "version": 3
   },
   "file_extension": ".py",
   "mimetype": "text/x-python",
   "name": "python",
   "nbconvert_exporter": "python",
   "pygments_lexer": "ipython3",
   "version": "3.9.6"
  },
  "toc": {
   "base_numbering": 1,
   "nav_menu": {},
   "number_sections": true,
   "sideBar": true,
   "skip_h1_title": false,
   "title_cell": "Table of Contents",
   "title_sidebar": "Contents",
   "toc_cell": false,
   "toc_position": {},
   "toc_section_display": true,
   "toc_window_display": true
  }
 },
 "nbformat": 4,
 "nbformat_minor": 5
}
