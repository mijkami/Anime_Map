{
 "cells": [
  {
   "cell_type": "markdown",
   "id": "8c827f22",
   "metadata": {},
   "source": [
    "# Imports"
   ]
  },
  {
   "cell_type": "code",
   "execution_count": 1,
   "id": "286d167b",
   "metadata": {},
   "outputs": [],
   "source": [
    "import pandas as pd\n",
    "import numpy as np\n",
    "import seaborn as sns"
   ]
  },
  {
   "cell_type": "code",
   "execution_count": 2,
   "id": "3c802932",
   "metadata": {
    "scrolled": true
   },
   "outputs": [
    {
     "name": "stderr",
     "output_type": "stream",
     "text": [
      "2021-08-28 16:47:12.114227: W tensorflow/stream_executor/platform/default/dso_loader.cc:64] Could not load dynamic library 'libcudart.so.11.0'; dlerror: libcudart.so.11.0: cannot open shared object file: No such file or directory\n",
      "2021-08-28 16:47:12.114246: I tensorflow/stream_executor/cuda/cudart_stub.cc:29] Ignore above cudart dlerror if you do not have a GPU set up on your machine.\n"
     ]
    }
   ],
   "source": [
    "from sklearn.model_selection import train_test_split\n",
    "from keras.utils.np_utils import to_categorical"
   ]
  },
  {
   "cell_type": "markdown",
   "id": "1e95d226",
   "metadata": {},
   "source": [
    "# Dataset"
   ]
  },
  {
   "cell_type": "code",
   "execution_count": 5,
   "id": "92757ca7",
   "metadata": {},
   "outputs": [],
   "source": [
    "dataset = pd.read_csv('../data/processed_data/active_users_df_10PlusRatings_partial.csv')\n",
    "anime_df = pd.read_csv('../data/processed_data/anime_df_relevant_PG.csv')\n",
    "dataset = dataset.sort_values([\"user_id\", \"anime_id\"], ascending=(True, True))"
   ]
  },
  {
   "cell_type": "code",
   "execution_count": 6,
   "id": "8e013a5a",
   "metadata": {},
   "outputs": [
    {
     "data": {
      "text/plain": [
       "12106"
      ]
     },
     "execution_count": 6,
     "metadata": {},
     "output_type": "execute_result"
    }
   ],
   "source": [
    "dataset.anime_id.nunique()"
   ]
  },
  {
   "cell_type": "code",
   "execution_count": 7,
   "id": "a3bbeade",
   "metadata": {},
   "outputs": [
    {
     "data": {
      "text/plain": [
       "4035"
      ]
     },
     "execution_count": 7,
     "metadata": {},
     "output_type": "execute_result"
    }
   ],
   "source": [
    "dataset.user_id.nunique()"
   ]
  },
  {
   "cell_type": "code",
   "execution_count": 8,
   "id": "36113a72",
   "metadata": {},
   "outputs": [],
   "source": [
    "anime_id_to_new_id = dict()\n",
    "id = 1"
   ]
  },
  {
   "cell_type": "code",
   "execution_count": 9,
   "id": "ae7da34a",
   "metadata": {},
   "outputs": [],
   "source": [
    "for index, row in dataset.iterrows():\n",
    "    if anime_id_to_new_id.get(row['anime_id']) is None:\n",
    "        anime_id_to_new_id[row['anime_id']] = id\n",
    "        dataset.at[index, 'anime_id'] = id\n",
    "        id += 1\n",
    "    else:\n",
    "        dataset.at[index, 'anime_id'] = anime_id_to_new_id.get(row['anime_id'])\n"
   ]
  },
  {
   "cell_type": "code",
   "execution_count": 10,
   "id": "51948206",
   "metadata": {},
   "outputs": [],
   "source": [
    "# Need to map user ID to [1, user_num]\n",
    "user_id_to_new_id = dict()\n",
    "id = 1\n",
    "for index, row in dataset.iterrows():\n",
    "    if user_id_to_new_id.get(row['user_id']) is None:\n",
    "        user_id_to_new_id[row['user_id']] = id\n",
    "        dataset.at[index, 'user_id'] = id\n",
    "        id += 1\n",
    "    else:\n",
    "        dataset.at[index, 'user_id'] = user_id_to_new_id.get(row['user_id'])\n"
   ]
  },
  {
   "cell_type": "code",
   "execution_count": 11,
   "id": "321d7044",
   "metadata": {},
   "outputs": [
    {
     "data": {
      "text/plain": [
       "3            1\n",
       "4            1\n",
       "0            1\n",
       "9            1\n",
       "14           1\n",
       "          ... \n",
       "822308    4035\n",
       "822416    4035\n",
       "822372    4035\n",
       "822305    4035\n",
       "822356    4035\n",
       "Name: user_id, Length: 822418, dtype: int64"
      ]
     },
     "execution_count": 11,
     "metadata": {},
     "output_type": "execute_result"
    }
   ],
   "source": [
    "dataset.user_id"
   ]
  },
  {
   "cell_type": "code",
   "execution_count": 13,
   "id": "56d1220c",
   "metadata": {},
   "outputs": [
    {
     "name": "stdout",
     "output_type": "stream",
     "text": [
      "Number of movies 12106\n",
      "Number of users 4035\n"
     ]
    }
   ],
   "source": [
    "num_users = len(dataset.user_id.unique())\n",
    "num_animes = len(dataset.anime_id.unique())\n",
    "train, test = train_test_split(dataset, test_size=0.2)\n",
    "\n",
    "print('Number of movies', num_animes)\n",
    "print('Number of users', num_users)"
   ]
  },
  {
   "cell_type": "markdown",
   "id": "32683d2f",
   "metadata": {},
   "source": [
    "# Order dataset by user_id and anime_id"
   ]
  },
  {
   "cell_type": "code",
   "execution_count": 14,
   "id": "6115bc6d",
   "metadata": {},
   "outputs": [
    {
     "name": "stdout",
     "output_type": "stream",
     "text": [
      "train shape:  (657934, 3)\n",
      "test shape:  (164484, 3)\n"
     ]
    }
   ],
   "source": [
    "print('train shape: ', train.shape)\n",
    "print('test shape: ', test.shape)"
   ]
  },
  {
   "cell_type": "code",
   "execution_count": 36,
   "id": "4f2fd665",
   "metadata": {},
   "outputs": [],
   "source": [
    "#train = train.reset_index()"
   ]
  },
  {
   "cell_type": "code",
   "execution_count": 37,
   "id": "e563154b",
   "metadata": {},
   "outputs": [],
   "source": [
    "# 151519\n",
    "\n",
    "\n",
    "#train.anime_id.nunique()\n",
    "#num_animes"
   ]
  },
  {
   "cell_type": "code",
   "execution_count": 38,
   "id": "79c4ac07",
   "metadata": {},
   "outputs": [],
   "source": [
    "#num_animes"
   ]
  },
  {
   "cell_type": "markdown",
   "id": "88d3061e",
   "metadata": {},
   "source": [
    "# GMF\n"
   ]
  },
  {
   "cell_type": "markdown",
   "id": "e26e30ac",
   "metadata": {},
   "source": [
    "## Matrix factorisation"
   ]
  },
  {
   "cell_type": "code",
   "execution_count": 15,
   "id": "329ab65d",
   "metadata": {},
   "outputs": [],
   "source": [
    "import pydot\n",
    "import graphviz\n",
    "%matplotlib inline"
   ]
  },
  {
   "cell_type": "code",
   "execution_count": 16,
   "id": "1baace70",
   "metadata": {},
   "outputs": [],
   "source": [
    "from keras.models import Model, Sequential\n",
    "from keras.layers import Embedding, Flatten, Input, merge, concatenate\n",
    "from tensorflow.keras.utils import model_to_dot\n",
    "#from keras.utils.visualize_util import model_to_dot\n",
    "from IPython.display import SVG"
   ]
  },
  {
   "cell_type": "code",
   "execution_count": 28,
   "id": "7ebb3014",
   "metadata": {
    "scrolled": true
   },
   "outputs": [],
   "source": [
    "from keras.layers import dot\n",
    "\n",
    "# Let's use a higher latent dimension.\n",
    "latent_dim = 10\n",
    "\n",
    "anime_input = Input(shape=[1],name='anime-input')\n",
    "anime_embedding = Embedding(num_animes + 1, latent_dim, name='anime-embedding')(anime_input)\n",
    "anime_vec = Flatten(name='anime-flatten')(anime_embedding)\n",
    "\n",
    "user_input = Input(shape=[1],name='user-input')\n",
    "user_embedding = Embedding(num_users + 1, latent_dim, name='user-embedding')(user_input)\n",
    "user_vec = Flatten(name='user-flatten')(user_embedding)\n",
    "\n",
    "prod = dot([anime_vec, user_vec], axes=1, normalize=False, name='dot-product')\n",
    "\n",
    "model = Model([user_input, anime_input], prod)\n",
    "model.compile('adam', 'mean_squared_error'\n",
    "              #,metrics=['mse']\n",
    "             )"
   ]
  },
  {
   "cell_type": "code",
   "execution_count": 32,
   "id": "aded370e",
   "metadata": {},
   "outputs": [
    {
     "data": {
      "image/svg+xml": [
       "<svg xmlns=\"http://www.w3.org/2000/svg\" xmlns:xlink=\"http://www.w3.org/1999/xlink\" width=\"758pt\" height=\"274pt\" viewBox=\"0.00 0.00 840.00 304.00\">\n",
       "<g id=\"graph0\" class=\"graph\" transform=\"scale(0.9 0.9) rotate(0) translate(4 300)\">\n",
       "<title>G</title>\n",
       "<polygon fill=\"white\" stroke=\"transparent\" points=\"-4,4 -4,-300 836,-300 836,4 -4,4\"/>\n",
       "<!-- 140350992304640 -->\n",
       "<g id=\"node1\" class=\"node\">\n",
       "<title>140350992304640</title>\n",
       "<polygon fill=\"none\" stroke=\"black\" points=\"31,-249.5 31,-295.5 382,-295.5 382,-249.5 31,-249.5\"/>\n",
       "<text text-anchor=\"middle\" x=\"126\" y=\"-268.8\" font-family=\"Times,serif\" font-size=\"14.00\">anime-input: InputLayer</text>\n",
       "<polyline fill=\"none\" stroke=\"black\" points=\"221,-249.5 221,-295.5 \"/>\n",
       "<text text-anchor=\"middle\" x=\"255\" y=\"-280.3\" font-family=\"Times,serif\" font-size=\"14.00\">input:</text>\n",
       "<polyline fill=\"none\" stroke=\"black\" points=\"221,-272.5 289,-272.5 \"/>\n",
       "<text text-anchor=\"middle\" x=\"255\" y=\"-257.3\" font-family=\"Times,serif\" font-size=\"14.00\">output:</text>\n",
       "<polyline fill=\"none\" stroke=\"black\" points=\"289,-249.5 289,-295.5 \"/>\n",
       "<text text-anchor=\"middle\" x=\"335.5\" y=\"-280.3\" font-family=\"Times,serif\" font-size=\"14.00\">[(None, 1)]</text>\n",
       "<polyline fill=\"none\" stroke=\"black\" points=\"289,-272.5 382,-272.5 \"/>\n",
       "<text text-anchor=\"middle\" x=\"335.5\" y=\"-257.3\" font-family=\"Times,serif\" font-size=\"14.00\">[(None, 1)]</text>\n",
       "</g>\n",
       "<!-- 140350992304832 -->\n",
       "<g id=\"node3\" class=\"node\">\n",
       "<title>140350992304832</title>\n",
       "<polygon fill=\"none\" stroke=\"black\" points=\"0,-166.5 0,-212.5 413,-212.5 413,-166.5 0,-166.5\"/>\n",
       "<text text-anchor=\"middle\" x=\"117.5\" y=\"-185.8\" font-family=\"Times,serif\" font-size=\"14.00\">anime-embedding: Embedding</text>\n",
       "<polyline fill=\"none\" stroke=\"black\" points=\"235,-166.5 235,-212.5 \"/>\n",
       "<text text-anchor=\"middle\" x=\"269\" y=\"-197.3\" font-family=\"Times,serif\" font-size=\"14.00\">input:</text>\n",
       "<polyline fill=\"none\" stroke=\"black\" points=\"235,-189.5 303,-189.5 \"/>\n",
       "<text text-anchor=\"middle\" x=\"269\" y=\"-174.3\" font-family=\"Times,serif\" font-size=\"14.00\">output:</text>\n",
       "<polyline fill=\"none\" stroke=\"black\" points=\"303,-166.5 303,-212.5 \"/>\n",
       "<text text-anchor=\"middle\" x=\"358\" y=\"-197.3\" font-family=\"Times,serif\" font-size=\"14.00\">(None, 1)</text>\n",
       "<polyline fill=\"none\" stroke=\"black\" points=\"303,-189.5 413,-189.5 \"/>\n",
       "<text text-anchor=\"middle\" x=\"358\" y=\"-174.3\" font-family=\"Times,serif\" font-size=\"14.00\">(None, 1, 10)</text>\n",
       "</g>\n",
       "<!-- 140350992304640&#45;&gt;140350992304832 -->\n",
       "<g id=\"edge1\" class=\"edge\">\n",
       "<title>140350992304640-&gt;140350992304832</title>\n",
       "<path fill=\"none\" stroke=\"black\" d=\"M206.5,-249.37C206.5,-241.15 206.5,-231.66 206.5,-222.73\"/>\n",
       "<polygon fill=\"black\" stroke=\"black\" points=\"210,-222.61 206.5,-212.61 203,-222.61 210,-222.61\"/>\n",
       "</g>\n",
       "<!-- 140350992304784 -->\n",
       "<g id=\"node2\" class=\"node\">\n",
       "<title>140350992304784</title>\n",
       "<polygon fill=\"none\" stroke=\"black\" points=\"462,-249.5 462,-295.5 801,-295.5 801,-249.5 462,-249.5\"/>\n",
       "<text text-anchor=\"middle\" x=\"551\" y=\"-268.8\" font-family=\"Times,serif\" font-size=\"14.00\">user-input: InputLayer</text>\n",
       "<polyline fill=\"none\" stroke=\"black\" points=\"640,-249.5 640,-295.5 \"/>\n",
       "<text text-anchor=\"middle\" x=\"674\" y=\"-280.3\" font-family=\"Times,serif\" font-size=\"14.00\">input:</text>\n",
       "<polyline fill=\"none\" stroke=\"black\" points=\"640,-272.5 708,-272.5 \"/>\n",
       "<text text-anchor=\"middle\" x=\"674\" y=\"-257.3\" font-family=\"Times,serif\" font-size=\"14.00\">output:</text>\n",
       "<polyline fill=\"none\" stroke=\"black\" points=\"708,-249.5 708,-295.5 \"/>\n",
       "<text text-anchor=\"middle\" x=\"754.5\" y=\"-280.3\" font-family=\"Times,serif\" font-size=\"14.00\">[(None, 1)]</text>\n",
       "<polyline fill=\"none\" stroke=\"black\" points=\"708,-272.5 801,-272.5 \"/>\n",
       "<text text-anchor=\"middle\" x=\"754.5\" y=\"-257.3\" font-family=\"Times,serif\" font-size=\"14.00\">[(None, 1)]</text>\n",
       "</g>\n",
       "<!-- 140354167837264 -->\n",
       "<g id=\"node4\" class=\"node\">\n",
       "<title>140354167837264</title>\n",
       "<polygon fill=\"none\" stroke=\"black\" points=\"431,-166.5 431,-212.5 832,-212.5 832,-166.5 431,-166.5\"/>\n",
       "<text text-anchor=\"middle\" x=\"542.5\" y=\"-185.8\" font-family=\"Times,serif\" font-size=\"14.00\">user-embedding: Embedding</text>\n",
       "<polyline fill=\"none\" stroke=\"black\" points=\"654,-166.5 654,-212.5 \"/>\n",
       "<text text-anchor=\"middle\" x=\"688\" y=\"-197.3\" font-family=\"Times,serif\" font-size=\"14.00\">input:</text>\n",
       "<polyline fill=\"none\" stroke=\"black\" points=\"654,-189.5 722,-189.5 \"/>\n",
       "<text text-anchor=\"middle\" x=\"688\" y=\"-174.3\" font-family=\"Times,serif\" font-size=\"14.00\">output:</text>\n",
       "<polyline fill=\"none\" stroke=\"black\" points=\"722,-166.5 722,-212.5 \"/>\n",
       "<text text-anchor=\"middle\" x=\"777\" y=\"-197.3\" font-family=\"Times,serif\" font-size=\"14.00\">(None, 1)</text>\n",
       "<polyline fill=\"none\" stroke=\"black\" points=\"722,-189.5 832,-189.5 \"/>\n",
       "<text text-anchor=\"middle\" x=\"777\" y=\"-174.3\" font-family=\"Times,serif\" font-size=\"14.00\">(None, 1, 10)</text>\n",
       "</g>\n",
       "<!-- 140350992304784&#45;&gt;140354167837264 -->\n",
       "<g id=\"edge2\" class=\"edge\">\n",
       "<title>140350992304784-&gt;140354167837264</title>\n",
       "<path fill=\"none\" stroke=\"black\" d=\"M631.5,-249.37C631.5,-241.15 631.5,-231.66 631.5,-222.73\"/>\n",
       "<polygon fill=\"black\" stroke=\"black\" points=\"635,-222.61 631.5,-212.61 628,-222.61 635,-222.61\"/>\n",
       "</g>\n",
       "<!-- 140350992506736 -->\n",
       "<g id=\"node5\" class=\"node\">\n",
       "<title>140350992506736</title>\n",
       "<polygon fill=\"none\" stroke=\"black\" points=\"62.5,-83.5 62.5,-129.5 412.5,-129.5 412.5,-83.5 62.5,-83.5\"/>\n",
       "<text text-anchor=\"middle\" x=\"148.5\" y=\"-102.8\" font-family=\"Times,serif\" font-size=\"14.00\">anime-flatten: Flatten</text>\n",
       "<polyline fill=\"none\" stroke=\"black\" points=\"234.5,-83.5 234.5,-129.5 \"/>\n",
       "<text text-anchor=\"middle\" x=\"268.5\" y=\"-114.3\" font-family=\"Times,serif\" font-size=\"14.00\">input:</text>\n",
       "<polyline fill=\"none\" stroke=\"black\" points=\"234.5,-106.5 302.5,-106.5 \"/>\n",
       "<text text-anchor=\"middle\" x=\"268.5\" y=\"-91.3\" font-family=\"Times,serif\" font-size=\"14.00\">output:</text>\n",
       "<polyline fill=\"none\" stroke=\"black\" points=\"302.5,-83.5 302.5,-129.5 \"/>\n",
       "<text text-anchor=\"middle\" x=\"357.5\" y=\"-114.3\" font-family=\"Times,serif\" font-size=\"14.00\">(None, 1, 10)</text>\n",
       "<polyline fill=\"none\" stroke=\"black\" points=\"302.5,-106.5 412.5,-106.5 \"/>\n",
       "<text text-anchor=\"middle\" x=\"357.5\" y=\"-91.3\" font-family=\"Times,serif\" font-size=\"14.00\">(None, 10)</text>\n",
       "</g>\n",
       "<!-- 140350992304832&#45;&gt;140350992506736 -->\n",
       "<g id=\"edge3\" class=\"edge\">\n",
       "<title>140350992304832-&gt;140350992506736</title>\n",
       "<path fill=\"none\" stroke=\"black\" d=\"M214.97,-166.37C218.18,-157.97 221.91,-148.24 225.39,-139.14\"/>\n",
       "<polygon fill=\"black\" stroke=\"black\" points=\"228.73,-140.2 229.04,-129.61 222.2,-137.7 228.73,-140.2\"/>\n",
       "</g>\n",
       "<!-- 140350992651264 -->\n",
       "<g id=\"node6\" class=\"node\">\n",
       "<title>140350992651264</title>\n",
       "<polygon fill=\"none\" stroke=\"black\" points=\"446.5,-83.5 446.5,-129.5 784.5,-129.5 784.5,-83.5 446.5,-83.5\"/>\n",
       "<text text-anchor=\"middle\" x=\"526.5\" y=\"-102.8\" font-family=\"Times,serif\" font-size=\"14.00\">user-flatten: Flatten</text>\n",
       "<polyline fill=\"none\" stroke=\"black\" points=\"606.5,-83.5 606.5,-129.5 \"/>\n",
       "<text text-anchor=\"middle\" x=\"640.5\" y=\"-114.3\" font-family=\"Times,serif\" font-size=\"14.00\">input:</text>\n",
       "<polyline fill=\"none\" stroke=\"black\" points=\"606.5,-106.5 674.5,-106.5 \"/>\n",
       "<text text-anchor=\"middle\" x=\"640.5\" y=\"-91.3\" font-family=\"Times,serif\" font-size=\"14.00\">output:</text>\n",
       "<polyline fill=\"none\" stroke=\"black\" points=\"674.5,-83.5 674.5,-129.5 \"/>\n",
       "<text text-anchor=\"middle\" x=\"729.5\" y=\"-114.3\" font-family=\"Times,serif\" font-size=\"14.00\">(None, 1, 10)</text>\n",
       "<polyline fill=\"none\" stroke=\"black\" points=\"674.5,-106.5 784.5,-106.5 \"/>\n",
       "<text text-anchor=\"middle\" x=\"729.5\" y=\"-91.3\" font-family=\"Times,serif\" font-size=\"14.00\">(None, 10)</text>\n",
       "</g>\n",
       "<!-- 140354167837264&#45;&gt;140350992651264 -->\n",
       "<g id=\"edge4\" class=\"edge\">\n",
       "<title>140354167837264-&gt;140350992651264</title>\n",
       "<path fill=\"none\" stroke=\"black\" d=\"M627.13,-166.37C625.49,-158.06 623.59,-148.45 621.81,-139.43\"/>\n",
       "<polygon fill=\"black\" stroke=\"black\" points=\"625.24,-138.74 619.87,-129.61 618.37,-140.1 625.24,-138.74\"/>\n",
       "</g>\n",
       "<!-- 140350992675936 -->\n",
       "<g id=\"node7\" class=\"node\">\n",
       "<title>140350992675936</title>\n",
       "<polygon fill=\"none\" stroke=\"black\" points=\"246.5,-0.5 246.5,-46.5 590.5,-46.5 590.5,-0.5 246.5,-0.5\"/>\n",
       "<text text-anchor=\"middle\" x=\"291.5\" y=\"-19.8\" font-family=\"Times,serif\" font-size=\"14.00\">dot_2: Dot</text>\n",
       "<polyline fill=\"none\" stroke=\"black\" points=\"336.5,-0.5 336.5,-46.5 \"/>\n",
       "<text text-anchor=\"middle\" x=\"370.5\" y=\"-31.3\" font-family=\"Times,serif\" font-size=\"14.00\">input:</text>\n",
       "<polyline fill=\"none\" stroke=\"black\" points=\"336.5,-23.5 404.5,-23.5 \"/>\n",
       "<text text-anchor=\"middle\" x=\"370.5\" y=\"-8.3\" font-family=\"Times,serif\" font-size=\"14.00\">output:</text>\n",
       "<polyline fill=\"none\" stroke=\"black\" points=\"404.5,-0.5 404.5,-46.5 \"/>\n",
       "<text text-anchor=\"middle\" x=\"497.5\" y=\"-31.3\" font-family=\"Times,serif\" font-size=\"14.00\">[(None, 10), (None, 10)]</text>\n",
       "<polyline fill=\"none\" stroke=\"black\" points=\"404.5,-23.5 590.5,-23.5 \"/>\n",
       "<text text-anchor=\"middle\" x=\"497.5\" y=\"-8.3\" font-family=\"Times,serif\" font-size=\"14.00\">(None, 1)</text>\n",
       "</g>\n",
       "<!-- 140350992506736&#45;&gt;140350992675936 -->\n",
       "<g id=\"edge5\" class=\"edge\">\n",
       "<title>140350992506736-&gt;140350992675936</title>\n",
       "<path fill=\"none\" stroke=\"black\" d=\"M286.96,-83.37C309.51,-73.28 336.36,-61.26 359.91,-50.72\"/>\n",
       "<polygon fill=\"black\" stroke=\"black\" points=\"361.4,-53.89 369.1,-46.61 358.54,-47.5 361.4,-53.89\"/>\n",
       "</g>\n",
       "<!-- 140350992651264&#45;&gt;140350992675936 -->\n",
       "<g id=\"edge6\" class=\"edge\">\n",
       "<title>140350992651264-&gt;140350992675936</title>\n",
       "<path fill=\"none\" stroke=\"black\" d=\"M561.93,-83.47C537.07,-73.25 507.35,-61.03 481.42,-50.37\"/>\n",
       "<polygon fill=\"black\" stroke=\"black\" points=\"482.64,-47.09 472.06,-46.52 479.98,-53.56 482.64,-47.09\"/>\n",
       "</g>\n",
       "</g>\n",
       "</svg>"
      ],
      "text/plain": [
       "<IPython.core.display.SVG object>"
      ]
     },
     "execution_count": 32,
     "metadata": {},
     "output_type": "execute_result"
    }
   ],
   "source": [
    "#SVG(model_to_dot(model, show_shapes=True).create(prog='dot', format='svg'))\n",
    "SVG(model_to_dot(model, show_shapes= True, show_layer_names=True, dpi=65).create(prog='dot', format='svg'))"
   ]
  },
  {
   "cell_type": "code",
   "execution_count": 29,
   "id": "9a4905e2",
   "metadata": {},
   "outputs": [
    {
     "name": "stdout",
     "output_type": "stream",
     "text": [
      "user_input (None, 1)\n",
      "anime_input (None, 1)\n"
     ]
    }
   ],
   "source": [
    "print('user_input',user_input.shape)\n",
    "print('anime_input',anime_input.shape)"
   ]
  },
  {
   "cell_type": "code",
   "execution_count": 19,
   "id": "384c4d29",
   "metadata": {},
   "outputs": [
    {
     "name": "stdout",
     "output_type": "stream",
     "text": [
      "Model: \"model\"\n",
      "__________________________________________________________________________________________________\n",
      "Layer (type)                    Output Shape         Param #     Connected to                     \n",
      "==================================================================================================\n",
      "anime-input (InputLayer)        [(None, 1)]          0                                            \n",
      "__________________________________________________________________________________________________\n",
      "user-input (InputLayer)         [(None, 1)]          0                                            \n",
      "__________________________________________________________________________________________________\n",
      "anime-embedding (Embedding)     (None, 1, 10)        121070      anime-input[0][0]                \n",
      "__________________________________________________________________________________________________\n",
      "user-embedding (Embedding)      (None, 1, 10)        40360       user-input[0][0]                 \n",
      "__________________________________________________________________________________________________\n",
      "anime-flatten (Flatten)         (None, 10)           0           anime-embedding[0][0]            \n",
      "__________________________________________________________________________________________________\n",
      "user-flatten (Flatten)          (None, 10)           0           user-embedding[0][0]             \n",
      "__________________________________________________________________________________________________\n",
      "dot (Dot)                       (None, 1)            0           anime-flatten[0][0]              \n",
      "                                                                 user-flatten[0][0]               \n",
      "==================================================================================================\n",
      "Total params: 161,430\n",
      "Trainable params: 161,430\n",
      "Non-trainable params: 0\n",
      "__________________________________________________________________________________________________\n"
     ]
    }
   ],
   "source": [
    "model.summary()"
   ]
  },
  {
   "cell_type": "code",
   "execution_count": 20,
   "id": "aaf80e06",
   "metadata": {},
   "outputs": [],
   "source": [
    "dataset.rating = dataset.rating.astype(float)"
   ]
  },
  {
   "cell_type": "code",
   "execution_count": 21,
   "id": "d891ccac",
   "metadata": {},
   "outputs": [
    {
     "data": {
      "text/plain": [
       "user_id       int64\n",
       "anime_id      int64\n",
       "rating      float64\n",
       "dtype: object"
      ]
     },
     "execution_count": 21,
     "metadata": {},
     "output_type": "execute_result"
    }
   ],
   "source": [
    "dataset.dtypes"
   ]
  },
  {
   "cell_type": "code",
   "execution_count": 22,
   "id": "7bae4f93",
   "metadata": {
    "scrolled": true
   },
   "outputs": [
    {
     "data": {
      "text/plain": [
       "(657934,)"
      ]
     },
     "execution_count": 22,
     "metadata": {},
     "output_type": "execute_result"
    }
   ],
   "source": [
    "train.user_id.shape"
   ]
  },
  {
   "cell_type": "code",
   "execution_count": 23,
   "id": "bcd6d17a",
   "metadata": {},
   "outputs": [
    {
     "data": {
      "text/plain": [
       "(657934,)"
      ]
     },
     "execution_count": 23,
     "metadata": {},
     "output_type": "execute_result"
    }
   ],
   "source": [
    "train.anime_id.shape"
   ]
  },
  {
   "cell_type": "code",
   "execution_count": 24,
   "id": "6e693b5a",
   "metadata": {},
   "outputs": [
    {
     "data": {
      "text/plain": [
       "(657934,)"
      ]
     },
     "execution_count": 24,
     "metadata": {},
     "output_type": "execute_result"
    }
   ],
   "source": [
    "train.rating.shape"
   ]
  },
  {
   "cell_type": "code",
   "execution_count": 26,
   "id": "f265e082",
   "metadata": {},
   "outputs": [
    {
     "name": "stdout",
     "output_type": "stream",
     "text": [
      "Epoch 1/10\n",
      "20561/20561 [==============================] - 46s 2ms/step - loss: 1.9560\n",
      "Epoch 2/10\n",
      "20561/20561 [==============================] - 47s 2ms/step - loss: 1.8728\n",
      "Epoch 3/10\n",
      "20561/20561 [==============================] - 41s 2ms/step - loss: 1.7890\n",
      "Epoch 4/10\n",
      "20561/20561 [==============================] - 44s 2ms/step - loss: 1.7101\n",
      "Epoch 5/10\n",
      "20561/20561 [==============================] - 44s 2ms/step - loss: 1.6472\n",
      "Epoch 6/10\n",
      "20561/20561 [==============================] - 43s 2ms/step - loss: 1.5996\n",
      "Epoch 7/10\n",
      "20561/20561 [==============================] - 43s 2ms/step - loss: 1.5588\n",
      "Epoch 8/10\n",
      "20561/20561 [==============================] - 43s 2ms/step - loss: 1.5221\n",
      "Epoch 9/10\n",
      "20561/20561 [==============================] - 44s 2ms/step - loss: 1.4883\n",
      "Epoch 10/10\n",
      "20561/20561 [==============================] - 43s 2ms/step - loss: 1.4577\n"
     ]
    }
   ],
   "source": [
    "import matplotlib.pyplot as plt\n",
    "from sklearn.metrics import mean_absolute_error\n",
    "\n",
    "history = model.fit([train.user_id, train.anime_id], train.rating, epochs=10)"
   ]
  },
  {
   "cell_type": "code",
   "execution_count": 33,
   "id": "21575405",
   "metadata": {},
   "outputs": [
    {
     "data": {
      "image/png": "[encoded data removed]",
      "text/plain": [
       "<Figure size 432x288 with 1 Axes>"
      ]
     },
     "metadata": {
      "needs_background": "light"
     },
     "output_type": "display_data"
    },
    {
     "data": {
      "text/plain": [
       "7.463299044284041"
      ]
     },
     "execution_count": 33,
     "metadata": {},
     "output_type": "execute_result"
    }
   ],
   "source": [
    "pd.Series(history.history['loss']).plot(logy=True)\n",
    "plt.xlabel(\"Epoch\")\n",
    "plt.ylabel(\"Train Error\")\n",
    "plt.show()\n",
    "\n",
    "y_hat = np.round(model.predict([test.user_id, test.anime_id]), decimals=2)\n",
    "y_true = test.rating\n",
    "mean_absolute_error(y_true, y_hat)"
   ]
  },
  {
   "cell_type": "markdown",
   "id": "1f9ea278",
   "metadata": {},
   "source": [
    "## non-negative matrix factorization"
   ]
  },
  {
   "cell_type": "code",
   "execution_count": 36,
   "id": "bd08c407",
   "metadata": {},
   "outputs": [],
   "source": [
    "from keras.constraints import non_neg\n",
    "\n",
    "latent_dim = 5\n",
    "\n",
    "anime_input = Input(shape=[1],name='anime-input')\n",
    "anime_embedding = Embedding(num_animes + 1, latent_dim, name='anime-embedding',\n",
    "                                                        embeddings_constraint=non_neg())(anime_input)\n",
    "anime_vec = Flatten(name='anime-flatten')(anime_embedding)\n",
    "\n",
    "user_input = Input(shape=[1],name='user-input')\n",
    "user_embedding = Embedding(num_users + 1, latent_dim, name='user-embedding',\n",
    "                                                      embeddings_constraint=non_neg())(user_input)\n",
    "user_vec = Flatten(name='user-flatten')(user_embedding)\n",
    "\n",
    "prod = dot([anime_vec, user_vec], axes=1, normalize=False, name='dot-product')\n",
    "\n",
    "model = Model([user_input, anime_input], prod)\n",
    "model.compile('adam', 'mean_squared_error')"
   ]
  },
  {
   "cell_type": "code",
   "execution_count": null,
   "id": "2111542b",
   "metadata": {},
   "outputs": [],
   "source": []
  },
  {
   "cell_type": "markdown",
   "id": "8e548acc",
   "metadata": {},
   "source": [
    "## NN with MF"
   ]
  },
  {
   "cell_type": "code",
   "execution_count": 45,
   "id": "9b8b26f7",
   "metadata": {
    "scrolled": true
   },
   "outputs": [],
   "source": [
    "from keras.layers import Dropout, Dense\n",
    "from tensorflow.keras.optimizers import Adam\n",
    "\n",
    "latent_dim = 10\n",
    "\n",
    "anime_input = Input(shape=[1],name='anime-input')\n",
    "anime_embedding = Embedding(num_animes + 1, latent_dim, name='anime-embedding')(anime_input)\n",
    "anime_vec = Flatten(name='anime-flatten')(anime_embedding)\n",
    "\n",
    "user_input = Input(shape=[1],name='user-input')\n",
    "user_embedding = Embedding(num_users + 1, latent_dim, name='user-embedding')(user_input)\n",
    "user_vec = Flatten(name='user-flatten')(user_embedding)\n",
    "\n",
    "concat = dot([anime_vec, user_vec], axes=1, normalize=False, name='anime-user-concat')\n",
    "\n",
    "concat_dropout = Dropout(0.2)(concat)\n",
    "fc_1 = Dense(100, name='fc-1', activation='relu')(concat)\n",
    "fc_1_dropout = Dropout(0.2, name='fc-1-dropout')(fc_1)\n",
    "fc_2 = Dense(50, name='fc-2', activation='relu')(fc_1_dropout)\n",
    "fc_2_dropout = Dropout(0.2, name='fc-2-dropout')(fc_2)\n",
    "fc_3 = Dense(1, name='fc-3', activation='relu')(fc_2_dropout)\n",
    "\n",
    "\n",
    "model = Model([user_input, anime_input], fc_3)\n",
    "model.compile(Adam(learning_rate=0.1), 'mean_squared_error')"
   ]
  },
  {
   "cell_type": "code",
   "execution_count": 46,
   "id": "4080bfeb",
   "metadata": {},
   "outputs": [
    {
     "data": {
      "image/svg+xml": [
       "<svg xmlns=\"http://www.w3.org/2000/svg\" xmlns:xlink=\"http://www.w3.org/1999/xlink\" width=\"758pt\" height=\"649pt\" viewBox=\"0.00 0.00 840.00 719.00\">\n",
       "<g id=\"graph0\" class=\"graph\" transform=\"scale(0.9 0.9) rotate(0) translate(4 715)\">\n",
       "<title>G</title>\n",
       "<polygon fill=\"white\" stroke=\"transparent\" points=\"-4,4 -4,-715 836,-715 836,4 -4,4\"/>\n",
       "<!-- 140350991298368 -->\n",
       "<g id=\"node1\" class=\"node\">\n",
       "<title>140350991298368</title>\n",
       "<polygon fill=\"none\" stroke=\"black\" points=\"31,-664.5 31,-710.5 382,-710.5 382,-664.5 31,-664.5\"/>\n",
       "<text text-anchor=\"middle\" x=\"126\" y=\"-683.8\" font-family=\"Times,serif\" font-size=\"14.00\">anime-input: InputLayer</text>\n",
       "<polyline fill=\"none\" stroke=\"black\" points=\"221,-664.5 221,-710.5 \"/>\n",
       "<text text-anchor=\"middle\" x=\"255\" y=\"-695.3\" font-family=\"Times,serif\" font-size=\"14.00\">input:</text>\n",
       "<polyline fill=\"none\" stroke=\"black\" points=\"221,-687.5 289,-687.5 \"/>\n",
       "<text text-anchor=\"middle\" x=\"255\" y=\"-672.3\" font-family=\"Times,serif\" font-size=\"14.00\">output:</text>\n",
       "<polyline fill=\"none\" stroke=\"black\" points=\"289,-664.5 289,-710.5 \"/>\n",
       "<text text-anchor=\"middle\" x=\"335.5\" y=\"-695.3\" font-family=\"Times,serif\" font-size=\"14.00\">[(None, 1)]</text>\n",
       "<polyline fill=\"none\" stroke=\"black\" points=\"289,-687.5 382,-687.5 \"/>\n",
       "<text text-anchor=\"middle\" x=\"335.5\" y=\"-672.3\" font-family=\"Times,serif\" font-size=\"14.00\">[(None, 1)]</text>\n",
       "</g>\n",
       "<!-- 140350991297504 -->\n",
       "<g id=\"node3\" class=\"node\">\n",
       "<title>140350991297504</title>\n",
       "<polygon fill=\"none\" stroke=\"black\" points=\"0,-581.5 0,-627.5 413,-627.5 413,-581.5 0,-581.5\"/>\n",
       "<text text-anchor=\"middle\" x=\"117.5\" y=\"-600.8\" font-family=\"Times,serif\" font-size=\"14.00\">anime-embedding: Embedding</text>\n",
       "<polyline fill=\"none\" stroke=\"black\" points=\"235,-581.5 235,-627.5 \"/>\n",
       "<text text-anchor=\"middle\" x=\"269\" y=\"-612.3\" font-family=\"Times,serif\" font-size=\"14.00\">input:</text>\n",
       "<polyline fill=\"none\" stroke=\"black\" points=\"235,-604.5 303,-604.5 \"/>\n",
       "<text text-anchor=\"middle\" x=\"269\" y=\"-589.3\" font-family=\"Times,serif\" font-size=\"14.00\">output:</text>\n",
       "<polyline fill=\"none\" stroke=\"black\" points=\"303,-581.5 303,-627.5 \"/>\n",
       "<text text-anchor=\"middle\" x=\"358\" y=\"-612.3\" font-family=\"Times,serif\" font-size=\"14.00\">(None, 1)</text>\n",
       "<polyline fill=\"none\" stroke=\"black\" points=\"303,-604.5 413,-604.5 \"/>\n",
       "<text text-anchor=\"middle\" x=\"358\" y=\"-589.3\" font-family=\"Times,serif\" font-size=\"14.00\">(None, 1, 10)</text>\n",
       "</g>\n",
       "<!-- 140350991298368&#45;&gt;140350991297504 -->\n",
       "<g id=\"edge1\" class=\"edge\">\n",
       "<title>140350991298368-&gt;140350991297504</title>\n",
       "<path fill=\"none\" stroke=\"black\" d=\"M206.5,-664.37C206.5,-656.15 206.5,-646.66 206.5,-637.73\"/>\n",
       "<polygon fill=\"black\" stroke=\"black\" points=\"210,-637.61 206.5,-627.61 203,-637.61 210,-637.61\"/>\n",
       "</g>\n",
       "<!-- 140353633419216 -->\n",
       "<g id=\"node2\" class=\"node\">\n",
       "<title>140353633419216</title>\n",
       "<polygon fill=\"none\" stroke=\"black\" points=\"462,-664.5 462,-710.5 801,-710.5 801,-664.5 462,-664.5\"/>\n",
       "<text text-anchor=\"middle\" x=\"551\" y=\"-683.8\" font-family=\"Times,serif\" font-size=\"14.00\">user-input: InputLayer</text>\n",
       "<polyline fill=\"none\" stroke=\"black\" points=\"640,-664.5 640,-710.5 \"/>\n",
       "<text text-anchor=\"middle\" x=\"674\" y=\"-695.3\" font-family=\"Times,serif\" font-size=\"14.00\">input:</text>\n",
       "<polyline fill=\"none\" stroke=\"black\" points=\"640,-687.5 708,-687.5 \"/>\n",
       "<text text-anchor=\"middle\" x=\"674\" y=\"-672.3\" font-family=\"Times,serif\" font-size=\"14.00\">output:</text>\n",
       "<polyline fill=\"none\" stroke=\"black\" points=\"708,-664.5 708,-710.5 \"/>\n",
       "<text text-anchor=\"middle\" x=\"754.5\" y=\"-695.3\" font-family=\"Times,serif\" font-size=\"14.00\">[(None, 1)]</text>\n",
       "<polyline fill=\"none\" stroke=\"black\" points=\"708,-687.5 801,-687.5 \"/>\n",
       "<text text-anchor=\"middle\" x=\"754.5\" y=\"-672.3\" font-family=\"Times,serif\" font-size=\"14.00\">[(None, 1)]</text>\n",
       "</g>\n",
       "<!-- 140350994093536 -->\n",
       "<g id=\"node4\" class=\"node\">\n",
       "<title>140350994093536</title>\n",
       "<polygon fill=\"none\" stroke=\"black\" points=\"431,-581.5 431,-627.5 832,-627.5 832,-581.5 431,-581.5\"/>\n",
       "<text text-anchor=\"middle\" x=\"542.5\" y=\"-600.8\" font-family=\"Times,serif\" font-size=\"14.00\">user-embedding: Embedding</text>\n",
       "<polyline fill=\"none\" stroke=\"black\" points=\"654,-581.5 654,-627.5 \"/>\n",
       "<text text-anchor=\"middle\" x=\"688\" y=\"-612.3\" font-family=\"Times,serif\" font-size=\"14.00\">input:</text>\n",
       "<polyline fill=\"none\" stroke=\"black\" points=\"654,-604.5 722,-604.5 \"/>\n",
       "<text text-anchor=\"middle\" x=\"688\" y=\"-589.3\" font-family=\"Times,serif\" font-size=\"14.00\">output:</text>\n",
       "<polyline fill=\"none\" stroke=\"black\" points=\"722,-581.5 722,-627.5 \"/>\n",
       "<text text-anchor=\"middle\" x=\"777\" y=\"-612.3\" font-family=\"Times,serif\" font-size=\"14.00\">(None, 1)</text>\n",
       "<polyline fill=\"none\" stroke=\"black\" points=\"722,-604.5 832,-604.5 \"/>\n",
       "<text text-anchor=\"middle\" x=\"777\" y=\"-589.3\" font-family=\"Times,serif\" font-size=\"14.00\">(None, 1, 10)</text>\n",
       "</g>\n",
       "<!-- 140353633419216&#45;&gt;140350994093536 -->\n",
       "<g id=\"edge2\" class=\"edge\">\n",
       "<title>140353633419216-&gt;140350994093536</title>\n",
       "<path fill=\"none\" stroke=\"black\" d=\"M631.5,-664.37C631.5,-656.15 631.5,-646.66 631.5,-637.73\"/>\n",
       "<polygon fill=\"black\" stroke=\"black\" points=\"635,-637.61 631.5,-627.61 628,-637.61 635,-637.61\"/>\n",
       "</g>\n",
       "<!-- 140353633593808 -->\n",
       "<g id=\"node5\" class=\"node\">\n",
       "<title>140353633593808</title>\n",
       "<polygon fill=\"none\" stroke=\"black\" points=\"62.5,-498.5 62.5,-544.5 412.5,-544.5 412.5,-498.5 62.5,-498.5\"/>\n",
       "<text text-anchor=\"middle\" x=\"148.5\" y=\"-517.8\" font-family=\"Times,serif\" font-size=\"14.00\">anime-flatten: Flatten</text>\n",
       "<polyline fill=\"none\" stroke=\"black\" points=\"234.5,-498.5 234.5,-544.5 \"/>\n",
       "<text text-anchor=\"middle\" x=\"268.5\" y=\"-529.3\" font-family=\"Times,serif\" font-size=\"14.00\">input:</text>\n",
       "<polyline fill=\"none\" stroke=\"black\" points=\"234.5,-521.5 302.5,-521.5 \"/>\n",
       "<text text-anchor=\"middle\" x=\"268.5\" y=\"-506.3\" font-family=\"Times,serif\" font-size=\"14.00\">output:</text>\n",
       "<polyline fill=\"none\" stroke=\"black\" points=\"302.5,-498.5 302.5,-544.5 \"/>\n",
       "<text text-anchor=\"middle\" x=\"357.5\" y=\"-529.3\" font-family=\"Times,serif\" font-size=\"14.00\">(None, 1, 10)</text>\n",
       "<polyline fill=\"none\" stroke=\"black\" points=\"302.5,-521.5 412.5,-521.5 \"/>\n",
       "<text text-anchor=\"middle\" x=\"357.5\" y=\"-506.3\" font-family=\"Times,serif\" font-size=\"14.00\">(None, 10)</text>\n",
       "</g>\n",
       "<!-- 140350991297504&#45;&gt;140353633593808 -->\n",
       "<g id=\"edge3\" class=\"edge\">\n",
       "<title>140350991297504-&gt;140353633593808</title>\n",
       "<path fill=\"none\" stroke=\"black\" d=\"M214.97,-581.37C218.18,-572.97 221.91,-563.24 225.39,-554.14\"/>\n",
       "<polygon fill=\"black\" stroke=\"black\" points=\"228.73,-555.2 229.04,-544.61 222.2,-552.7 228.73,-555.2\"/>\n",
       "</g>\n",
       "<!-- 140353633567120 -->\n",
       "<g id=\"node6\" class=\"node\">\n",
       "<title>140353633567120</title>\n",
       "<polygon fill=\"none\" stroke=\"black\" points=\"446.5,-498.5 446.5,-544.5 784.5,-544.5 784.5,-498.5 446.5,-498.5\"/>\n",
       "<text text-anchor=\"middle\" x=\"526.5\" y=\"-517.8\" font-family=\"Times,serif\" font-size=\"14.00\">user-flatten: Flatten</text>\n",
       "<polyline fill=\"none\" stroke=\"black\" points=\"606.5,-498.5 606.5,-544.5 \"/>\n",
       "<text text-anchor=\"middle\" x=\"640.5\" y=\"-529.3\" font-family=\"Times,serif\" font-size=\"14.00\">input:</text>\n",
       "<polyline fill=\"none\" stroke=\"black\" points=\"606.5,-521.5 674.5,-521.5 \"/>\n",
       "<text text-anchor=\"middle\" x=\"640.5\" y=\"-506.3\" font-family=\"Times,serif\" font-size=\"14.00\">output:</text>\n",
       "<polyline fill=\"none\" stroke=\"black\" points=\"674.5,-498.5 674.5,-544.5 \"/>\n",
       "<text text-anchor=\"middle\" x=\"729.5\" y=\"-529.3\" font-family=\"Times,serif\" font-size=\"14.00\">(None, 1, 10)</text>\n",
       "<polyline fill=\"none\" stroke=\"black\" points=\"674.5,-521.5 784.5,-521.5 \"/>\n",
       "<text text-anchor=\"middle\" x=\"729.5\" y=\"-506.3\" font-family=\"Times,serif\" font-size=\"14.00\">(None, 10)</text>\n",
       "</g>\n",
       "<!-- 140350994093536&#45;&gt;140353633567120 -->\n",
       "<g id=\"edge4\" class=\"edge\">\n",
       "<title>140350994093536-&gt;140353633567120</title>\n",
       "<path fill=\"none\" stroke=\"black\" d=\"M627.13,-581.37C625.49,-573.06 623.59,-563.45 621.81,-554.43\"/>\n",
       "<polygon fill=\"black\" stroke=\"black\" points=\"625.24,-553.74 619.87,-544.61 618.37,-555.1 625.24,-553.74\"/>\n",
       "</g>\n",
       "<!-- 140353633580896 -->\n",
       "<g id=\"node7\" class=\"node\">\n",
       "<title>140353633580896</title>\n",
       "<polygon fill=\"none\" stroke=\"black\" points=\"200.5,-415.5 200.5,-461.5 636.5,-461.5 636.5,-415.5 200.5,-415.5\"/>\n",
       "<text text-anchor=\"middle\" x=\"291.5\" y=\"-434.8\" font-family=\"Times,serif\" font-size=\"14.00\">anime-user-concat: Dot</text>\n",
       "<polyline fill=\"none\" stroke=\"black\" points=\"382.5,-415.5 382.5,-461.5 \"/>\n",
       "<text text-anchor=\"middle\" x=\"416.5\" y=\"-446.3\" font-family=\"Times,serif\" font-size=\"14.00\">input:</text>\n",
       "<polyline fill=\"none\" stroke=\"black\" points=\"382.5,-438.5 450.5,-438.5 \"/>\n",
       "<text text-anchor=\"middle\" x=\"416.5\" y=\"-423.3\" font-family=\"Times,serif\" font-size=\"14.00\">output:</text>\n",
       "<polyline fill=\"none\" stroke=\"black\" points=\"450.5,-415.5 450.5,-461.5 \"/>\n",
       "<text text-anchor=\"middle\" x=\"543.5\" y=\"-446.3\" font-family=\"Times,serif\" font-size=\"14.00\">[(None, 10), (None, 10)]</text>\n",
       "<polyline fill=\"none\" stroke=\"black\" points=\"450.5,-438.5 636.5,-438.5 \"/>\n",
       "<text text-anchor=\"middle\" x=\"543.5\" y=\"-423.3\" font-family=\"Times,serif\" font-size=\"14.00\">(None, 1)</text>\n",
       "</g>\n",
       "<!-- 140353633593808&#45;&gt;140353633580896 -->\n",
       "<g id=\"edge5\" class=\"edge\">\n",
       "<title>140353633593808-&gt;140353633580896</title>\n",
       "<path fill=\"none\" stroke=\"black\" d=\"M286.96,-498.37C309.51,-488.28 336.36,-476.26 359.91,-465.72\"/>\n",
       "<polygon fill=\"black\" stroke=\"black\" points=\"361.4,-468.89 369.1,-461.61 358.54,-462.5 361.4,-468.89\"/>\n",
       "</g>\n",
       "<!-- 140353633567120&#45;&gt;140353633580896 -->\n",
       "<g id=\"edge6\" class=\"edge\">\n",
       "<title>140353633567120-&gt;140353633580896</title>\n",
       "<path fill=\"none\" stroke=\"black\" d=\"M561.93,-498.47C537.07,-488.25 507.35,-476.03 481.42,-465.37\"/>\n",
       "<polygon fill=\"black\" stroke=\"black\" points=\"482.64,-462.09 472.06,-461.52 479.98,-468.56 482.64,-462.09\"/>\n",
       "</g>\n",
       "<!-- 140353633580560 -->\n",
       "<g id=\"node8\" class=\"node\">\n",
       "<title>140353633580560</title>\n",
       "<polygon fill=\"none\" stroke=\"black\" points=\"286,-332.5 286,-378.5 551,-378.5 551,-332.5 286,-332.5\"/>\n",
       "<text text-anchor=\"middle\" x=\"334\" y=\"-351.8\" font-family=\"Times,serif\" font-size=\"14.00\">fc-1: Dense</text>\n",
       "<polyline fill=\"none\" stroke=\"black\" points=\"382,-332.5 382,-378.5 \"/>\n",
       "<text text-anchor=\"middle\" x=\"416\" y=\"-363.3\" font-family=\"Times,serif\" font-size=\"14.00\">input:</text>\n",
       "<polyline fill=\"none\" stroke=\"black\" points=\"382,-355.5 450,-355.5 \"/>\n",
       "<text text-anchor=\"middle\" x=\"416\" y=\"-340.3\" font-family=\"Times,serif\" font-size=\"14.00\">output:</text>\n",
       "<polyline fill=\"none\" stroke=\"black\" points=\"450,-332.5 450,-378.5 \"/>\n",
       "<text text-anchor=\"middle\" x=\"500.5\" y=\"-363.3\" font-family=\"Times,serif\" font-size=\"14.00\">(None, 1)</text>\n",
       "<polyline fill=\"none\" stroke=\"black\" points=\"450,-355.5 551,-355.5 \"/>\n",
       "<text text-anchor=\"middle\" x=\"500.5\" y=\"-340.3\" font-family=\"Times,serif\" font-size=\"14.00\">(None, 100)</text>\n",
       "</g>\n",
       "<!-- 140353633580896&#45;&gt;140353633580560 -->\n",
       "<g id=\"edge7\" class=\"edge\">\n",
       "<title>140353633580896-&gt;140353633580560</title>\n",
       "<path fill=\"none\" stroke=\"black\" d=\"M418.5,-415.37C418.5,-407.15 418.5,-397.66 418.5,-388.73\"/>\n",
       "<polygon fill=\"black\" stroke=\"black\" points=\"422,-388.61 418.5,-378.61 415,-388.61 422,-388.61\"/>\n",
       "</g>\n",
       "<!-- 140353633581184 -->\n",
       "<g id=\"node9\" class=\"node\">\n",
       "<title>140353633581184</title>\n",
       "<polygon fill=\"none\" stroke=\"black\" points=\"248.5,-249.5 248.5,-295.5 588.5,-295.5 588.5,-249.5 248.5,-249.5\"/>\n",
       "<text text-anchor=\"middle\" x=\"334\" y=\"-268.8\" font-family=\"Times,serif\" font-size=\"14.00\">fc-1-dropout: Dropout</text>\n",
       "<polyline fill=\"none\" stroke=\"black\" points=\"419.5,-249.5 419.5,-295.5 \"/>\n",
       "<text text-anchor=\"middle\" x=\"453.5\" y=\"-280.3\" font-family=\"Times,serif\" font-size=\"14.00\">input:</text>\n",
       "<polyline fill=\"none\" stroke=\"black\" points=\"419.5,-272.5 487.5,-272.5 \"/>\n",
       "<text text-anchor=\"middle\" x=\"453.5\" y=\"-257.3\" font-family=\"Times,serif\" font-size=\"14.00\">output:</text>\n",
       "<polyline fill=\"none\" stroke=\"black\" points=\"487.5,-249.5 487.5,-295.5 \"/>\n",
       "<text text-anchor=\"middle\" x=\"538\" y=\"-280.3\" font-family=\"Times,serif\" font-size=\"14.00\">(None, 100)</text>\n",
       "<polyline fill=\"none\" stroke=\"black\" points=\"487.5,-272.5 588.5,-272.5 \"/>\n",
       "<text text-anchor=\"middle\" x=\"538\" y=\"-257.3\" font-family=\"Times,serif\" font-size=\"14.00\">(None, 100)</text>\n",
       "</g>\n",
       "<!-- 140353633580560&#45;&gt;140353633581184 -->\n",
       "<g id=\"edge8\" class=\"edge\">\n",
       "<title>140353633580560-&gt;140353633581184</title>\n",
       "<path fill=\"none\" stroke=\"black\" d=\"M418.5,-332.37C418.5,-324.15 418.5,-314.66 418.5,-305.73\"/>\n",
       "<polygon fill=\"black\" stroke=\"black\" points=\"422,-305.61 418.5,-295.61 415,-305.61 422,-305.61\"/>\n",
       "</g>\n",
       "<!-- 140353633427120 -->\n",
       "<g id=\"node10\" class=\"node\">\n",
       "<title>140353633427120</title>\n",
       "<polygon fill=\"none\" stroke=\"black\" points=\"286,-166.5 286,-212.5 551,-212.5 551,-166.5 286,-166.5\"/>\n",
       "<text text-anchor=\"middle\" x=\"334\" y=\"-185.8\" font-family=\"Times,serif\" font-size=\"14.00\">fc-2: Dense</text>\n",
       "<polyline fill=\"none\" stroke=\"black\" points=\"382,-166.5 382,-212.5 \"/>\n",
       "<text text-anchor=\"middle\" x=\"416\" y=\"-197.3\" font-family=\"Times,serif\" font-size=\"14.00\">input:</text>\n",
       "<polyline fill=\"none\" stroke=\"black\" points=\"382,-189.5 450,-189.5 \"/>\n",
       "<text text-anchor=\"middle\" x=\"416\" y=\"-174.3\" font-family=\"Times,serif\" font-size=\"14.00\">output:</text>\n",
       "<polyline fill=\"none\" stroke=\"black\" points=\"450,-166.5 450,-212.5 \"/>\n",
       "<text text-anchor=\"middle\" x=\"500.5\" y=\"-197.3\" font-family=\"Times,serif\" font-size=\"14.00\">(None, 100)</text>\n",
       "<polyline fill=\"none\" stroke=\"black\" points=\"450,-189.5 551,-189.5 \"/>\n",
       "<text text-anchor=\"middle\" x=\"500.5\" y=\"-174.3\" font-family=\"Times,serif\" font-size=\"14.00\">(None, 50)</text>\n",
       "</g>\n",
       "<!-- 140353633581184&#45;&gt;140353633427120 -->\n",
       "<g id=\"edge9\" class=\"edge\">\n",
       "<title>140353633581184-&gt;140353633427120</title>\n",
       "<path fill=\"none\" stroke=\"black\" d=\"M418.5,-249.37C418.5,-241.15 418.5,-231.66 418.5,-222.73\"/>\n",
       "<polygon fill=\"black\" stroke=\"black\" points=\"422,-222.61 418.5,-212.61 415,-222.61 422,-222.61\"/>\n",
       "</g>\n",
       "<!-- 140353633581520 -->\n",
       "<g id=\"node11\" class=\"node\">\n",
       "<title>140353633581520</title>\n",
       "<polygon fill=\"none\" stroke=\"black\" points=\"253,-83.5 253,-129.5 584,-129.5 584,-83.5 253,-83.5\"/>\n",
       "<text text-anchor=\"middle\" x=\"338.5\" y=\"-102.8\" font-family=\"Times,serif\" font-size=\"14.00\">fc-2-dropout: Dropout</text>\n",
       "<polyline fill=\"none\" stroke=\"black\" points=\"424,-83.5 424,-129.5 \"/>\n",
       "<text text-anchor=\"middle\" x=\"458\" y=\"-114.3\" font-family=\"Times,serif\" font-size=\"14.00\">input:</text>\n",
       "<polyline fill=\"none\" stroke=\"black\" points=\"424,-106.5 492,-106.5 \"/>\n",
       "<text text-anchor=\"middle\" x=\"458\" y=\"-91.3\" font-family=\"Times,serif\" font-size=\"14.00\">output:</text>\n",
       "<polyline fill=\"none\" stroke=\"black\" points=\"492,-83.5 492,-129.5 \"/>\n",
       "<text text-anchor=\"middle\" x=\"538\" y=\"-114.3\" font-family=\"Times,serif\" font-size=\"14.00\">(None, 50)</text>\n",
       "<polyline fill=\"none\" stroke=\"black\" points=\"492,-106.5 584,-106.5 \"/>\n",
       "<text text-anchor=\"middle\" x=\"538\" y=\"-91.3\" font-family=\"Times,serif\" font-size=\"14.00\">(None, 50)</text>\n",
       "</g>\n",
       "<!-- 140353633427120&#45;&gt;140353633581520 -->\n",
       "<g id=\"edge10\" class=\"edge\">\n",
       "<title>140353633427120-&gt;140353633581520</title>\n",
       "<path fill=\"none\" stroke=\"black\" d=\"M418.5,-166.37C418.5,-158.15 418.5,-148.66 418.5,-139.73\"/>\n",
       "<polygon fill=\"black\" stroke=\"black\" points=\"422,-139.61 418.5,-129.61 415,-139.61 422,-139.61\"/>\n",
       "</g>\n",
       "<!-- 140353633389440 -->\n",
       "<g id=\"node12\" class=\"node\">\n",
       "<title>140353633389440</title>\n",
       "<polygon fill=\"none\" stroke=\"black\" points=\"290.5,-0.5 290.5,-46.5 546.5,-46.5 546.5,-0.5 290.5,-0.5\"/>\n",
       "<text text-anchor=\"middle\" x=\"338.5\" y=\"-19.8\" font-family=\"Times,serif\" font-size=\"14.00\">fc-3: Dense</text>\n",
       "<polyline fill=\"none\" stroke=\"black\" points=\"386.5,-0.5 386.5,-46.5 \"/>\n",
       "<text text-anchor=\"middle\" x=\"420.5\" y=\"-31.3\" font-family=\"Times,serif\" font-size=\"14.00\">input:</text>\n",
       "<polyline fill=\"none\" stroke=\"black\" points=\"386.5,-23.5 454.5,-23.5 \"/>\n",
       "<text text-anchor=\"middle\" x=\"420.5\" y=\"-8.3\" font-family=\"Times,serif\" font-size=\"14.00\">output:</text>\n",
       "<polyline fill=\"none\" stroke=\"black\" points=\"454.5,-0.5 454.5,-46.5 \"/>\n",
       "<text text-anchor=\"middle\" x=\"500.5\" y=\"-31.3\" font-family=\"Times,serif\" font-size=\"14.00\">(None, 50)</text>\n",
       "<polyline fill=\"none\" stroke=\"black\" points=\"454.5,-23.5 546.5,-23.5 \"/>\n",
       "<text text-anchor=\"middle\" x=\"500.5\" y=\"-8.3\" font-family=\"Times,serif\" font-size=\"14.00\">(None, 1)</text>\n",
       "</g>\n",
       "<!-- 140353633581520&#45;&gt;140353633389440 -->\n",
       "<g id=\"edge11\" class=\"edge\">\n",
       "<title>140353633581520-&gt;140353633389440</title>\n",
       "<path fill=\"none\" stroke=\"black\" d=\"M418.5,-83.37C418.5,-75.15 418.5,-65.66 418.5,-56.73\"/>\n",
       "<polygon fill=\"black\" stroke=\"black\" points=\"422,-56.61 418.5,-46.61 415,-56.61 422,-56.61\"/>\n",
       "</g>\n",
       "</g>\n",
       "</svg>"
      ],
      "text/plain": [
       "<IPython.core.display.SVG object>"
      ]
     },
     "execution_count": 46,
     "metadata": {},
     "output_type": "execute_result"
    }
   ],
   "source": [
    "#SVG(model_to_dot(model, show_shapes=True).create(prog='dot', format='svg'))\n",
    "SVG(model_to_dot(model, show_shapes= True, show_layer_names=True, dpi=65).create(prog='dot', format='svg'))"
   ]
  },
  {
   "cell_type": "code",
   "execution_count": 40,
   "id": "cf5d6de2",
   "metadata": {},
   "outputs": [
    {
     "name": "stdout",
     "output_type": "stream",
     "text": [
      "Model: \"model_4\"\n",
      "__________________________________________________________________________________________________\n",
      "Layer (type)                    Output Shape         Param #     Connected to                     \n",
      "==================================================================================================\n",
      "anime-input (InputLayer)        [(None, 1)]          0                                            \n",
      "__________________________________________________________________________________________________\n",
      "user-input (InputLayer)         [(None, 1)]          0                                            \n",
      "__________________________________________________________________________________________________\n",
      "anime-embedding (Embedding)     (None, 1, 5)         60535       anime-input[0][0]                \n",
      "__________________________________________________________________________________________________\n",
      "user-embedding (Embedding)      (None, 1, 5)         20180       user-input[0][0]                 \n",
      "__________________________________________________________________________________________________\n",
      "anime-flatten (Flatten)         (None, 5)            0           anime-embedding[0][0]            \n",
      "__________________________________________________________________________________________________\n",
      "user-flatten (Flatten)          (None, 5)            0           user-embedding[0][0]             \n",
      "__________________________________________________________________________________________________\n",
      "dot-product (Dot)               (None, 1)            0           anime-flatten[0][0]              \n",
      "                                                                 user-flatten[0][0]               \n",
      "==================================================================================================\n",
      "Total params: 80,715\n",
      "Trainable params: 80,715\n",
      "Non-trainable params: 0\n",
      "__________________________________________________________________________________________________\n"
     ]
    }
   ],
   "source": [
    "model.summary()"
   ]
  },
  {
   "cell_type": "code",
   "execution_count": null,
   "id": "801fb4d0",
   "metadata": {},
   "outputs": [
    {
     "name": "stdout",
     "output_type": "stream",
     "text": [
      "Epoch 1/10\n",
      "20561/20561 [==============================] - 55s 3ms/step - loss: 3.1765\n",
      "Epoch 2/10\n",
      " 1928/20561 [=>............................] - ETA: 48s - loss: 3.1275"
     ]
    }
   ],
   "source": [
    "import matplotlib.pyplot as plt\n",
    "from sklearn.metrics import mean_absolute_error\n",
    "\n",
    "history = model.fit([train.user_id, train.anime_id], train.rating, epochs=10)\n",
    "pd.Series(history.history['loss']).plot(logy=True)\n",
    "plt.xlabel(\"Epoch\")\n",
    "plt.ylabel(\"Train Error\")\n",
    "plt.show()\n",
    "\n",
    "y_hat = np.round(model.predict([test.user_id, test.anime_id]), decimals=2)\n",
    "y_true = test.rating\n",
    "mean_absolute_error(y_true, y_hat)"
   ]
  },
  {
   "cell_type": "code",
   "execution_count": null,
   "id": "e94bea6e",
   "metadata": {},
   "outputs": [],
   "source": []
  },
  {
   "cell_type": "markdown",
   "id": "da2e57f2",
   "metadata": {},
   "source": [
    "# Multi-Layer Perceptron"
   ]
  },
  {
   "cell_type": "code",
   "execution_count": null,
   "id": "41ef05a0",
   "metadata": {},
   "outputs": [],
   "source": [
    "from keras.layers import  BatchNormalization\n",
    "\n",
    "latent_dim = 10\n",
    "\n",
    "# Define inputs\n",
    "anime_input = Input(shape=[1],name='anime-input')\n",
    "user_input = Input(shape=[1], name='user-input')\n",
    "\n",
    "# MLP Embeddings\n",
    "anime_embedding_mlp = Embedding(num_animes + 1, latent_dim, name='anime-embedding-mlp')(anime_input)\n",
    "anime_vec_mlp = Flatten(name='flatten-anime-mlp')(anime_embedding_mlp)\n",
    "\n",
    "user_embedding_mlp = Embedding(num_users + 1, latent_dim, name='user-embedding-mlp')(user_input)\n",
    "user_vec_mlp = Flatten(name='flatten-user-mlp')(user_embedding_mlp)\n",
    "\n",
    "# MF Embeddings\n",
    "anime_embedding_mf = Embedding(num_animes + 1, latent_dim, name='anime-embedding-mf')(anime_input)\n",
    "anime_vec_mf = Flatten(name='flatten-anime-mf')(anime_embedding_mf)\n",
    "\n",
    "user_embedding_mf = Embedding(num_users + 1, latent_dim, name='user-embedding-mf')(user_input)\n",
    "user_vec_mf = Flatten(name='flatten-user-mf')(user_embedding_mf)\n",
    "\n",
    "# MLP layers\n",
    "concat = dot([anime_vec_mlp, user_vec_mlp], axes=1, normalize=False, name='concat')\n",
    "concat_dropout = Dropout(0.2)(concat)\n",
    "fc_1 = Dense(100, name='fc-1', activation='relu')(concat_dropout)\n",
    "fc_1_bn = BatchNormalization(name='batch-norm-1')(fc_1)\n",
    "fc_1_dropout = Dropout(0.2)(fc_1_bn)\n",
    "fc_2 = Dense(50, name='fc-2', activation='relu')(fc_1_dropout)\n",
    "fc_2_bn = BatchNormalization(name='batch-norm-2')(fc_2)\n",
    "fc_2_dropout = Dropout(0.2)(fc_2_bn)\n",
    "\n",
    "# Prediction from both layers\n",
    "pred_mlp = Dense(10, name='pred-mlp', activation='relu')(fc_2_dropout)\n",
    "pred_mf = merge([anime_vec_mf, user_vec_mf], mode='dot', name='pred-mf')\n",
    "combine_mlp_mf = merge([pred_mf, pred_mlp], mode='concat', name='combine-mlp-mf')\n",
    "\n",
    "# Final prediction\n",
    "result = Dense(1, name='result', activation='relu')(combine_mlp_mf)\n",
    "\n",
    "model = Model([user_input, anime_input], result)\n",
    "model.compile(optimizer=Adam(lr=0.01), loss='mean_absolute_error')"
   ]
  },
  {
   "cell_type": "code",
   "execution_count": null,
   "id": "c9d21aa6",
   "metadata": {},
   "outputs": [],
   "source": [
    "#SVG(model_to_dot(model, show_shapes=True).create(prog='dot', format='svg'))\n",
    "SVG(model_to_dot(model, show_shapes= True, show_layer_names=True, dpi=65).create(prog='dot', format='svg'))"
   ]
  },
  {
   "cell_type": "code",
   "execution_count": null,
   "id": "9ebb5102",
   "metadata": {},
   "outputs": [],
   "source": [
    "model.summary()"
   ]
  },
  {
   "cell_type": "code",
   "execution_count": null,
   "id": "35491026",
   "metadata": {},
   "outputs": [],
   "source": [
    "import matplotlib.pyplot as plt\n",
    "from sklearn.metrics import mean_absolute_error\n",
    "history = model.fit([train.user_id, train.movie_id], train.rating, epochs=10)\n",
    "pd.Series(history.history['loss']).plot(logy=True)\n",
    "plt.xlabel(\"Epoch\")\n",
    "plt.ylabel(\"Train Error\")\n",
    "plt.show()\n",
    "\n",
    "y_hat = np.round(model.predict([test.user_id, test.movie_id]), decimals=2)\n",
    "y_true = test.rating\n",
    "mean_absolute_error(y_true, y_hat)"
   ]
  },
  {
   "cell_type": "code",
   "execution_count": null,
   "id": "c26ecd16",
   "metadata": {},
   "outputs": [],
   "source": []
  }
 ],
 "metadata": {
  "kernelspec": {
   "display_name": "anime_map",
   "language": "python",
   "name": "anime_map"
  },
  "language_info": {
   "codemirror_mode": {
    "name": "ipython",
    "version": 3
   },
   "file_extension": ".py",
   "mimetype": "text/x-python",
   "name": "python",
   "nbconvert_exporter": "python",
   "pygments_lexer": "ipython3",
   "version": "3.9.6"
  },
  "toc": {
   "base_numbering": 1,
   "nav_menu": {},
   "number_sections": true,
   "sideBar": true,
   "skip_h1_title": false,
   "title_cell": "Table of Contents",
   "title_sidebar": "Contents",
   "toc_cell": false,
   "toc_position": {},
   "toc_section_display": true,
   "toc_window_display": true
  }
 },
 "nbformat": 4,
 "nbformat_minor": 5
}
