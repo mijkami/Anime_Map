{
 "cells": [
  {
   "cell_type": "markdown",
   "id": "49cbc9ea",
   "metadata": {},
   "source": [
    "# Imports"
   ]
  },
  {
   "cell_type": "code",
   "execution_count": 2,
   "id": "d793e244",
   "metadata": {},
   "outputs": [],
   "source": [
    "import pandas as pd\n",
    "import numpy as np\n",
    "import seaborn as sns\n",
    "import matplotlib.pyplot as plt"
   ]
  },
  {
   "cell_type": "code",
   "execution_count": 3,
   "id": "98e64906",
   "metadata": {},
   "outputs": [],
   "source": [
    "# necessary to see all columns and also show all rows in .explode() function\n",
    "# to use with caution and not activate initially because it would take too much computing time\n",
    "\n",
    "#pd.set_option('display.max_columns', None)\n",
    "#pd.set_option('display.max_rows', None)"
   ]
  },
  {
   "cell_type": "code",
   "execution_count": null,
   "id": "4593382d",
   "metadata": {},
   "outputs": [],
   "source": [
    "anime_df = pd.read_csv('../data/raw_data/anime.csv')\n",
    "users_anime_df = pd.read_csv('../data/raw_data/animelist.csv')"
   ]
  },
  {
   "cell_type": "code",
   "execution_count": null,
   "id": "47675e6c",
   "metadata": {},
   "outputs": [],
   "source": [
    "#watching_status_df = pd.read_csv('../data/raw_data/watching_status.csv')\n",
    "rating_complete_df = pd.read_csv('../data/raw_data/rating_complete.csv')"
   ]
  },
  {
   "cell_type": "code",
   "execution_count": null,
   "id": "57ef7168",
   "metadata": {},
   "outputs": [],
   "source": [
    "anime_df_relevant_download = pd.read_csv('../data/raw_data/anime_df_relevant_PG.csv')"
   ]
  },
  {
   "cell_type": "markdown",
   "id": "d0127230",
   "metadata": {
    "heading_collapsed": true
   },
   "source": [
    "# First exploration"
   ]
  },
  {
   "cell_type": "code",
   "execution_count": null,
   "id": "8aa36249",
   "metadata": {
    "hidden": true,
    "scrolled": false
   },
   "outputs": [],
   "source": [
    "anime_df_relevant_download.head()"
   ]
  },
  {
   "cell_type": "code",
   "execution_count": null,
   "id": "63b62d7d",
   "metadata": {
    "hidden": true
   },
   "outputs": [],
   "source": []
  },
  {
   "cell_type": "code",
   "execution_count": null,
   "id": "1e39a57a",
   "metadata": {
    "hidden": true,
    "scrolled": true
   },
   "outputs": [],
   "source": [
    "anime_df.head()"
   ]
  },
  {
   "cell_type": "code",
   "execution_count": null,
   "id": "070ac6db",
   "metadata": {
    "hidden": true
   },
   "outputs": [],
   "source": [
    "users_anime_df.head()"
   ]
  },
  {
   "cell_type": "code",
   "execution_count": null,
   "id": "66fd1151",
   "metadata": {
    "hidden": true
   },
   "outputs": [],
   "source": [
    "users_anime_df.shape"
   ]
  },
  {
   "cell_type": "code",
   "execution_count": null,
   "id": "ab1781d0",
   "metadata": {
    "hidden": true,
    "scrolled": false
   },
   "outputs": [],
   "source": [
    "# remove all anime_df entries with \"hentai\" in genre column (+ check Yuri / Yaoi sub-genres removal)\n",
    "anime_df.shape"
   ]
  },
  {
   "cell_type": "markdown",
   "id": "2fe9a81f",
   "metadata": {},
   "source": [
    "# Remove columns  in anime_df "
   ]
  },
  {
   "cell_type": "code",
   "execution_count": null,
   "id": "149f87b8",
   "metadata": {},
   "outputs": [],
   "source": []
  },
  {
   "cell_type": "code",
   "execution_count": null,
   "id": "5cf43813",
   "metadata": {},
   "outputs": [],
   "source": [
    "# First intent:\n",
    "# drop columns (and do that earlier): ['Premiered', 'Producers', 'Licensors', 'Ranked', 'Popularity', 'Members']\n",
    "# keep: ['Source', 'Rating']\n",
    "\n",
    "# analyze after: ['Studios', \"Sources\"]"
   ]
  },
  {
   "cell_type": "code",
   "execution_count": null,
   "id": "04b2ec31",
   "metadata": {},
   "outputs": [],
   "source": [
    "# second intent: only keep a few columns"
   ]
  },
  {
   "cell_type": "code",
   "execution_count": null,
   "id": "5445c020",
   "metadata": {},
   "outputs": [],
   "source": [
    "anime_df.columns"
   ]
  },
  {
   "cell_type": "code",
   "execution_count": null,
   "id": "53c24ecf",
   "metadata": {},
   "outputs": [],
   "source": [
    "anime_df.Type.value_counts()"
   ]
  },
  {
   "cell_type": "code",
   "execution_count": null,
   "id": "74d040f9",
   "metadata": {},
   "outputs": [],
   "source": [
    "anime_df.Aired.value_counts()"
   ]
  },
  {
   "cell_type": "code",
   "execution_count": null,
   "id": "0fca0854",
   "metadata": {},
   "outputs": [],
   "source": [
    "anime_df.Source.value_counts()"
   ]
  },
  {
   "cell_type": "code",
   "execution_count": null,
   "id": "c1fcd814",
   "metadata": {},
   "outputs": [],
   "source": [
    "anime_df.Rating.value_counts()"
   ]
  },
  {
   "cell_type": "code",
   "execution_count": null,
   "id": "4a3985f3",
   "metadata": {},
   "outputs": [],
   "source": [
    "# keep ['MAL_ID', 'Name', 'Genres', 'Types', 'Aired', 'Studios', 'Duration', 'Rating']"
   ]
  },
  {
   "cell_type": "code",
   "execution_count": null,
   "id": "6cef078d",
   "metadata": {},
   "outputs": [],
   "source": [
    "anime_df_relevant = anime_df[['MAL_ID', 'Name', 'Genres', 'Type', 'Aired', 'Studios', 'Source', 'Duration', 'Rating']]"
   ]
  },
  {
   "cell_type": "code",
   "execution_count": null,
   "id": "eb4b84fe",
   "metadata": {},
   "outputs": [],
   "source": [
    "anime_df_relevant"
   ]
  },
  {
   "cell_type": "code",
   "execution_count": null,
   "id": "03bf280b",
   "metadata": {},
   "outputs": [],
   "source": [
    "anime_df_relevant.columns"
   ]
  },
  {
   "cell_type": "code",
   "execution_count": null,
   "id": "103d2181",
   "metadata": {},
   "outputs": [],
   "source": []
  },
  {
   "cell_type": "markdown",
   "id": "61a451fe",
   "metadata": {},
   "source": [
    "# Remove R18 content in anime_df\n"
   ]
  },
  {
   "cell_type": "code",
   "execution_count": null,
   "id": "4076c20f",
   "metadata": {},
   "outputs": [],
   "source": [
    "# adding _PG to the new df name for \"PG_rating\"\n",
    "anime_df_relevant_PG = anime_df_relevant[~anime_df_relevant.Genres.str.contains(\"Hentai\")]"
   ]
  },
  {
   "cell_type": "code",
   "execution_count": null,
   "id": "85fe85b1",
   "metadata": {},
   "outputs": [],
   "source": [
    "anime_df_relevant_PG = anime_df_relevant_PG[~anime_df_relevant_PG.Genres.str.contains(\"Yuri\")]"
   ]
  },
  {
   "cell_type": "code",
   "execution_count": null,
   "id": "3bd2bb1f",
   "metadata": {},
   "outputs": [],
   "source": [
    "anime_df_relevant_PG = anime_df_relevant_PG[~anime_df_relevant_PG.Genres.str.contains(\"Yaoi\")]"
   ]
  },
  {
   "cell_type": "code",
   "execution_count": null,
   "id": "1e8949b5",
   "metadata": {},
   "outputs": [],
   "source": [
    "anime_df_relevant_PG['Studios'].value_counts()"
   ]
  },
  {
   "cell_type": "code",
   "execution_count": null,
   "id": "2abfa383",
   "metadata": {
    "scrolled": true
   },
   "outputs": [],
   "source": [
    "anime_df_relevant_PG['Studios'].nunique()"
   ]
  },
  {
   "cell_type": "code",
   "execution_count": null,
   "id": "a5acfbc0",
   "metadata": {
    "scrolled": true
   },
   "outputs": [],
   "source": [
    "anime_df_relevant_PG['Source'].unique()"
   ]
  },
  {
   "cell_type": "code",
   "execution_count": null,
   "id": "963f887f",
   "metadata": {},
   "outputs": [],
   "source": [
    "anime_df_relevant_PG['Source'].value_counts()"
   ]
  },
  {
   "cell_type": "code",
   "execution_count": null,
   "id": "d91849e1",
   "metadata": {
    "scrolled": true
   },
   "outputs": [],
   "source": [
    "anime_df_relevant_PG['Duration'].value_counts()"
   ]
  },
  {
   "cell_type": "code",
   "execution_count": null,
   "id": "5c0b3949",
   "metadata": {},
   "outputs": [],
   "source": [
    "anime_df_relevant_PG['Rating'].value_counts()"
   ]
  },
  {
   "cell_type": "code",
   "execution_count": null,
   "id": "d1587ce8",
   "metadata": {},
   "outputs": [],
   "source": [
    "# re-checking if hentai removal worked"
   ]
  },
  {
   "cell_type": "code",
   "execution_count": null,
   "id": "f3496ada",
   "metadata": {},
   "outputs": [],
   "source": [
    "anime_df_relevant_PG.Genres.str.contains(\"Hentai\").value_counts()"
   ]
  },
  {
   "cell_type": "code",
   "execution_count": null,
   "id": "64517894",
   "metadata": {
    "scrolled": true
   },
   "outputs": [],
   "source": [
    "anime_df_relevant_PG.Genres.str.contains(\"Yuri\").value_counts()"
   ]
  },
  {
   "cell_type": "code",
   "execution_count": null,
   "id": "7b8e2ef5",
   "metadata": {},
   "outputs": [],
   "source": [
    "anime_df_relevant_PG.Genres.str.contains(\"Yaoi\").value_counts()"
   ]
  },
  {
   "cell_type": "code",
   "execution_count": null,
   "id": "2124a1f3",
   "metadata": {},
   "outputs": [],
   "source": [
    "# compare shapes"
   ]
  },
  {
   "cell_type": "code",
   "execution_count": null,
   "id": "d2be4de1",
   "metadata": {},
   "outputs": [],
   "source": [
    "anime_df.shape"
   ]
  },
  {
   "cell_type": "code",
   "execution_count": null,
   "id": "87f1578a",
   "metadata": {
    "scrolled": true
   },
   "outputs": [],
   "source": [
    "anime_df_relevant_PG.shape"
   ]
  },
  {
   "cell_type": "markdown",
   "id": "efb0bf05",
   "metadata": {},
   "source": [
    "# Check the missing values (Unknown, ...)"
   ]
  },
  {
   "cell_type": "code",
   "execution_count": null,
   "id": "4c869ff5",
   "metadata": {},
   "outputs": [],
   "source": []
  },
  {
   "cell_type": "code",
   "execution_count": null,
   "id": "d1a8e8df",
   "metadata": {},
   "outputs": [],
   "source": [
    "anime_df_relevant_PG[anime_df_relevant_PG.Studios.str.contains(\"Unknown\")]"
   ]
  },
  {
   "cell_type": "code",
   "execution_count": null,
   "id": "579728fb",
   "metadata": {
    "scrolled": false
   },
   "outputs": [],
   "source": [
    "anime_df_relevant_PG['Studios'].explode().unique()"
   ]
  },
  {
   "cell_type": "code",
   "execution_count": null,
   "id": "7c7dc034",
   "metadata": {},
   "outputs": [],
   "source": [
    "anime_df_relevant_PG.columns"
   ]
  },
  {
   "cell_type": "code",
   "execution_count": null,
   "id": "8bd5bc5d",
   "metadata": {},
   "outputs": [],
   "source": [
    "anime_df_relevant_PG['Genres'].value_counts()"
   ]
  },
  {
   "cell_type": "code",
   "execution_count": null,
   "id": "7a13c6da",
   "metadata": {},
   "outputs": [],
   "source": [
    "anime_df_relevant_PG['Genres'].explode().value_counts()"
   ]
  },
  {
   "cell_type": "code",
   "execution_count": null,
   "id": "020d81b5",
   "metadata": {},
   "outputs": [],
   "source": [
    "anime_df_relevant_PG['Type'].explode().value_counts()"
   ]
  },
  {
   "cell_type": "code",
   "execution_count": null,
   "id": "d1b5da94",
   "metadata": {},
   "outputs": [],
   "source": [
    "anime_df_relevant_PG['Duration'].explode().value_counts()"
   ]
  },
  {
   "cell_type": "code",
   "execution_count": null,
   "id": "308888d6",
   "metadata": {
    "scrolled": true
   },
   "outputs": [],
   "source": [
    "anime_df_relevant_PG['Studios'].explode().value_counts()"
   ]
  },
  {
   "cell_type": "code",
   "execution_count": null,
   "id": "303912ec",
   "metadata": {},
   "outputs": [],
   "source": [
    "anime_df_relevant_PG['Rating'].explode().value_counts()"
   ]
  },
  {
   "cell_type": "code",
   "execution_count": null,
   "id": "f7b626d6",
   "metadata": {
    "scrolled": true
   },
   "outputs": [],
   "source": [
    "print(anime_df_relevant_PG.apply(lambda col: col.unique()))"
   ]
  },
  {
   "cell_type": "code",
   "execution_count": null,
   "id": "c5b19403",
   "metadata": {},
   "outputs": [],
   "source": [
    "for col in anime_df_relevant_PG:\n",
    "    print(anime_df_relevant_PG['Studios'].unique())"
   ]
  },
  {
   "cell_type": "code",
   "execution_count": null,
   "id": "b1a7ccd1",
   "metadata": {},
   "outputs": [],
   "source": []
  },
  {
   "cell_type": "markdown",
   "id": "b86945b4",
   "metadata": {
    "heading_collapsed": true
   },
   "source": [
    "# Visualizations"
   ]
  },
  {
   "cell_type": "code",
   "execution_count": null,
   "id": "c8c6a812",
   "metadata": {
    "hidden": true
   },
   "outputs": [],
   "source": [
    "anime_df"
   ]
  },
  {
   "cell_type": "code",
   "execution_count": null,
   "id": "986249a6",
   "metadata": {
    "hidden": true
   },
   "outputs": [],
   "source": [
    "anime_df_relevant_PG.corr()"
   ]
  },
  {
   "cell_type": "code",
   "execution_count": null,
   "id": "08c6b96a",
   "metadata": {
    "hidden": true,
    "scrolled": true
   },
   "outputs": [],
   "source": [
    "sns.heatmap(anime_df_relevant_PG.corr(), cmap='coolwarm')"
   ]
  },
  {
   "cell_type": "code",
   "execution_count": null,
   "id": "c2c2c7dd",
   "metadata": {
    "hidden": true
   },
   "outputs": [],
   "source": [
    "sns.heatmap(anime_df.corr(), cmap='coolwarm')"
   ]
  },
  {
   "cell_type": "code",
   "execution_count": null,
   "id": "7ecf7b0b",
   "metadata": {
    "hidden": true,
    "scrolled": true
   },
   "outputs": [],
   "source": [
    "sns.heatmap(users_anime_df.corr(), cmap='coolwarm')"
   ]
  },
  {
   "cell_type": "code",
   "execution_count": null,
   "id": "81522cba",
   "metadata": {
    "hidden": true
   },
   "outputs": [],
   "source": [
    "sns.heatmap(users_anime_partial.corr(), cmap='coolwarm') "
   ]
  },
  {
   "cell_type": "code",
   "execution_count": null,
   "id": "63cd82ae",
   "metadata": {
    "hidden": true
   },
   "outputs": [],
   "source": [
    "#encode string values to be able to build corr matrix\n",
    "encoded_anime_df = anime_df\n",
    "for i in encoded_anime_df.columns:\n",
    "    encoded_anime_df[i] = encoded_anime_df[i].astype('category').cat.codes"
   ]
  },
  {
   "cell_type": "code",
   "execution_count": null,
   "id": "f997fe86",
   "metadata": {
    "hidden": true
   },
   "outputs": [],
   "source": []
  },
  {
   "cell_type": "code",
   "execution_count": null,
   "id": "e0fc1294",
   "metadata": {
    "hidden": true
   },
   "outputs": [],
   "source": [
    "sns.heatmap(encoded_anime_df.corr(), cmap='coolwarm') "
   ]
  },
  {
   "cell_type": "code",
   "execution_count": null,
   "id": "97a964a6",
   "metadata": {
    "hidden": true
   },
   "outputs": [],
   "source": []
  },
  {
   "cell_type": "code",
   "execution_count": null,
   "id": "c447a3d3",
   "metadata": {
    "hidden": true
   },
   "outputs": [],
   "source": []
  },
  {
   "cell_type": "code",
   "execution_count": null,
   "id": "0a9f93e2",
   "metadata": {
    "hidden": true
   },
   "outputs": [],
   "source": []
  },
  {
   "cell_type": "markdown",
   "id": "b9aa281c",
   "metadata": {},
   "source": [
    "# Remove columns  in users_anime_df"
   ]
  },
  {
   "cell_type": "code",
   "execution_count": null,
   "id": "da721582",
   "metadata": {},
   "outputs": [],
   "source": [
    "users_anime_df.head()"
   ]
  },
  {
   "cell_type": "code",
   "execution_count": null,
   "id": "f6f6ceea",
   "metadata": {},
   "outputs": [],
   "source": [
    "# keep ['user_id', 'anime_id', 'rating']\n",
    "# TODO : do it on all the df later, only on partial in next part at first"
   ]
  },
  {
   "cell_type": "code",
   "execution_count": null,
   "id": "241e8f0c",
   "metadata": {},
   "outputs": [],
   "source": [
    "anime_df_relevant_download.drop(columns = 'Studios', inplace=True)"
   ]
  },
  {
   "cell_type": "code",
   "execution_count": null,
   "id": "81f1b021",
   "metadata": {},
   "outputs": [],
   "source": [
    "anime_df_relevant_download.rename(columns={'MAL_ID': 'anime_id'}, inplace=True)"
   ]
  },
  {
   "cell_type": "code",
   "execution_count": null,
   "id": "8af77a98",
   "metadata": {},
   "outputs": [],
   "source": [
    "anime_df_relevant_download.columns"
   ]
  },
  {
   "cell_type": "markdown",
   "id": "849e1d3f",
   "metadata": {},
   "source": [
    "# Remove rows in users_anime_df (+visuals)\n"
   ]
  },
  {
   "cell_type": "code",
   "execution_count": null,
   "id": "758c6df0",
   "metadata": {},
   "outputs": [],
   "source": [
    "# (optional, exploration) split cleaned_df before merge\n",
    "users_anime_partial = users_anime_df.sample(frac=0.0001, random_state=42)"
   ]
  },
  {
   "cell_type": "code",
   "execution_count": null,
   "id": "b72a9954",
   "metadata": {},
   "outputs": [],
   "source": [
    "users_anime_partial_relevant = users_anime_partial[['user_id', 'anime_id', 'rating']]"
   ]
  },
  {
   "cell_type": "code",
   "execution_count": null,
   "id": "46e51f4d",
   "metadata": {},
   "outputs": [],
   "source": [
    "users_anime_partial_relevant"
   ]
  },
  {
   "cell_type": "code",
   "execution_count": null,
   "id": "bb175607",
   "metadata": {},
   "outputs": [],
   "source": [
    "users_anime_partial_relevant.isnull().sum()"
   ]
  },
  {
   "cell_type": "code",
   "execution_count": null,
   "id": "6d6de286",
   "metadata": {},
   "outputs": [],
   "source": [
    "# remove value = 0 ratings\n",
    "users_anime_partial_relevant = users_anime_partial_relevant[users_anime_partial_relevant.rating !=0]"
   ]
  },
  {
   "cell_type": "code",
   "execution_count": null,
   "id": "f19670fc",
   "metadata": {},
   "outputs": [],
   "source": [
    "users_anime_partial_relevant.rating.value_counts()"
   ]
  },
  {
   "cell_type": "code",
   "execution_count": null,
   "id": "1adccf42",
   "metadata": {},
   "outputs": [],
   "source": [
    "users_anime_partial_relevant.isnull().sum()"
   ]
  },
  {
   "cell_type": "code",
   "execution_count": null,
   "id": "b6a75abe",
   "metadata": {},
   "outputs": [],
   "source": []
  },
  {
   "cell_type": "code",
   "execution_count": null,
   "id": "d9efdd22",
   "metadata": {},
   "outputs": [],
   "source": []
  },
  {
   "cell_type": "code",
   "execution_count": null,
   "id": "09d72817",
   "metadata": {},
   "outputs": [],
   "source": []
  },
  {
   "cell_type": "code",
   "execution_count": null,
   "id": "ec0465bf",
   "metadata": {},
   "outputs": [],
   "source": [
    "anime_df_relevant_download.head()"
   ]
  },
  {
   "cell_type": "code",
   "execution_count": null,
   "id": "84e18bc5",
   "metadata": {},
   "outputs": [],
   "source": []
  },
  {
   "cell_type": "code",
   "execution_count": null,
   "id": "2927d6d0",
   "metadata": {},
   "outputs": [],
   "source": []
  },
  {
   "cell_type": "code",
   "execution_count": null,
   "id": "4bbddaff",
   "metadata": {},
   "outputs": [],
   "source": []
  },
  {
   "cell_type": "code",
   "execution_count": null,
   "id": "6ce575a6",
   "metadata": {},
   "outputs": [],
   "source": [
    "# drop 0 on users_anime_df\n",
    "users_anime_df.shape"
   ]
  },
  {
   "cell_type": "code",
   "execution_count": null,
   "id": "4863d59a",
   "metadata": {},
   "outputs": [],
   "source": [
    "users_anime_relevant = users_anime_df[['user_id', 'anime_id', 'rating']]"
   ]
  },
  {
   "cell_type": "code",
   "execution_count": null,
   "id": "6fadb7d7",
   "metadata": {},
   "outputs": [],
   "source": [
    "users_anime_relevant.head()"
   ]
  },
  {
   "cell_type": "code",
   "execution_count": null,
   "id": "22e47507",
   "metadata": {
    "scrolled": false
   },
   "outputs": [],
   "source": [
    "# plot rating distribution\n",
    "fig, ax = plt.subplots(figsize=(18, 13))\n",
    "sns.histplot(users_anime_relevant['rating'], ax=ax)"
   ]
  },
  {
   "cell_type": "markdown",
   "id": "94f8c4a8",
   "metadata": {},
   "source": [
    "=> We can that there's a lot of votes set at 0 and in documentation it's not actual votes (website allow between 1 and 10) and just added data afterwise that wasn't imputed by users initially and this would impact our model training.\n",
    "=> We need to remove the \"non-existing set at 0\" votes"
   ]
  },
  {
   "cell_type": "code",
   "execution_count": null,
   "id": "90ea2e15",
   "metadata": {},
   "outputs": [],
   "source": [
    "# remote non-existing votes having the '0' value (votes are only between 1 and 10)\n",
    "users_anime_relevant = users_anime_relevant[users_anime_relevant.rating !=0]"
   ]
  },
  {
   "cell_type": "code",
   "execution_count": null,
   "id": "80a9bc02",
   "metadata": {},
   "outputs": [],
   "source": [
    "# check that removal worked\n",
    "users_anime_df.rating.value_counts()"
   ]
  },
  {
   "cell_type": "code",
   "execution_count": null,
   "id": "0f764727",
   "metadata": {
    "scrolled": false
   },
   "outputs": [],
   "source": [
    "# plot distribution of ratings between 1 and 10 after the removal of \"0 votes\"\n",
    "fig, ax = plt.subplots(figsize=(18, 13))\n",
    "sns.histplot(users_anime_relevant['rating'], ax=ax)"
   ]
  },
  {
   "cell_type": "markdown",
   "id": "1856412b",
   "metadata": {},
   "source": [
    "=> 0 are removed"
   ]
  },
  {
   "cell_type": "code",
   "execution_count": null,
   "id": "21dde448",
   "metadata": {},
   "outputs": [],
   "source": [
    "# numbers of vote for each user\n",
    "1f"
   ]
  },
  {
   "cell_type": "code",
   "execution_count": null,
   "id": "d9b932a8",
   "metadata": {},
   "outputs": [],
   "source": [
    "# checking user_count\n",
    "user_count.head()"
   ]
  },
  {
   "cell_type": "markdown",
   "id": "a98fd4f9",
   "metadata": {},
   "source": [
    "=> We need to identify the most relevant users and if there are some with \"not enough\" recommendation-usable data (number of votes) that matter for our recommendation system (and their presence would impact greatly the computing times for ex. people with 2 animes votes ond over 16k animes)"
   ]
  },
  {
   "cell_type": "code",
   "execution_count": null,
   "id": "5f443ee9",
   "metadata": {},
   "outputs": [],
   "source": [
    "# plot how many animes each users votes on\n",
    "fig, ax = plt.subplots(figsize=(18, 13))\n",
    "sns.histplot(user_count['Number of ratings per user'], ax=ax, binwidth= 50).set(xlim= (0, 1500))"
   ]
  },
  {
   "cell_type": "markdown",
   "id": "d9292bb5",
   "metadata": {},
   "source": [
    "=> We can see that some users don't have much different animes they voted on, and we need people that have a diverse enough pool of scored animes to be able to compute / clusterize / predict with.\n",
    "\n",
    "=> We will need to remove the users with not enough different animes voted on"
   ]
  },
  {
   "cell_type": "code",
   "execution_count": null,
   "id": "c95ee80f",
   "metadata": {},
   "outputs": [],
   "source": [
    "# remove users who only voted a few times"
   ]
  },
  {
   "cell_type": "code",
   "execution_count": null,
   "id": "97ba24af",
   "metadata": {},
   "outputs": [],
   "source": []
  },
  {
   "cell_type": "code",
   "execution_count": null,
   "id": "e878f382",
   "metadata": {},
   "outputs": [],
   "source": [
    "# evaluate the required minimal number of animes scored in users\n",
    "results= []\n",
    "i_value=[]\n",
    "for i in range(0, 500, 25):\n",
    "    minimun_of_rating = i\n",
    "    counts = users_anime_df['user_id'].value_counts()\n",
    "    active_users_df = users_anime_df[users_anime_df['user_id'].isin(counts[counts >= minimun_of_rating].index)]\n",
    "    results.append(active_users_df.shape[0])\n",
    "    i_value.append(i)\n"
   ]
  },
  {
   "cell_type": "code",
   "execution_count": null,
   "id": "a571eb8a",
   "metadata": {},
   "outputs": [],
   "source": [
    "print(results)\n",
    "print(i_value)"
   ]
  },
  {
   "cell_type": "code",
   "execution_count": null,
   "id": "e69f47eb",
   "metadata": {
    "scrolled": false
   },
   "outputs": [],
   "source": [
    "sns.lineplot(x=i_value, y=results)"
   ]
  },
  {
   "cell_type": "markdown",
   "id": "caaf9c8c",
   "metadata": {},
   "source": []
  },
  {
   "cell_type": "code",
   "execution_count": null,
   "id": "5ee5a9bf",
   "metadata": {},
   "outputs": [],
   "source": [
    "# final choice : remove 100"
   ]
  },
  {
   "cell_type": "code",
   "execution_count": null,
   "id": "1c9f8118",
   "metadata": {},
   "outputs": [],
   "source": [
    "#filter users with a minimum of rating\n",
    "minimun_of_rating = 100\n",
    "counts = users_anime_relevant['user_id'].value_counts()\n",
    "active_users_df = users_anime_relevant[users_anime_relevant['user_id'].isin(counts[counts >= minimun_of_rating].index)]\n",
    "active_users_df.head()"
   ]
  },
  {
   "cell_type": "code",
   "execution_count": null,
   "id": "0e8ab200",
   "metadata": {},
   "outputs": [],
   "source": [
    "# plot distribution of ratings between 1 and 10\n",
    "fig, ax = plt.subplots(figsize=(18, 13))\n",
    "sns.histplot(active_users_df['rating'], ax=ax)"
   ]
  },
  {
   "cell_type": "code",
   "execution_count": null,
   "id": "fa63da88",
   "metadata": {},
   "outputs": [],
   "source": []
  },
  {
   "cell_type": "code",
   "execution_count": null,
   "id": "80cb0b11",
   "metadata": {},
   "outputs": [],
   "source": []
  },
  {
   "cell_type": "code",
   "execution_count": null,
   "id": "d61cb18b",
   "metadata": {},
   "outputs": [],
   "source": []
  },
  {
   "cell_type": "code",
   "execution_count": null,
   "id": "41ffa8d4",
   "metadata": {},
   "outputs": [],
   "source": []
  },
  {
   "cell_type": "markdown",
   "id": "ba9d46fa",
   "metadata": {},
   "source": [
    "## export partial_100"
   ]
  },
  {
   "cell_type": "code",
   "execution_count": null,
   "id": "cc101777",
   "metadata": {},
   "outputs": [],
   "source": [
    "# export active_users.df (more than 100 votes)\n",
    "active_users_df.to_csv('../data/processed_data/active_users_df.csv', index=False)"
   ]
  },
  {
   "cell_type": "code",
   "execution_count": null,
   "id": "e3b3d219",
   "metadata": {},
   "outputs": [],
   "source": []
  },
  {
   "cell_type": "code",
   "execution_count": null,
   "id": "d519e687",
   "metadata": {},
   "outputs": [],
   "source": [
    "# side task import active_users_df_export & sample it then export\n",
    "active_users_df_export = pd.read_csv('../data/processed_data/active_users_df_export.csv')"
   ]
  },
  {
   "cell_type": "code",
   "execution_count": null,
   "id": "6c7b8d90",
   "metadata": {},
   "outputs": [],
   "source": [
    "active_users_df_export.head()"
   ]
  },
  {
   "cell_type": "code",
   "execution_count": null,
   "id": "7befecc5",
   "metadata": {},
   "outputs": [],
   "source": [
    "active_users_df_export.shape"
   ]
  },
  {
   "cell_type": "code",
   "execution_count": null,
   "id": "d3560ebe",
   "metadata": {},
   "outputs": [],
   "source": [
    "active_users_df_partial = active_users_df_export[active_users_df_export.user_id < 5000]"
   ]
  },
  {
   "cell_type": "code",
   "execution_count": null,
   "id": "b1c2ee84",
   "metadata": {},
   "outputs": [],
   "source": [
    "active_users_df_partial.shape"
   ]
  },
  {
   "cell_type": "code",
   "execution_count": null,
   "id": "dba13dfb",
   "metadata": {},
   "outputs": [],
   "source": [
    "active_users_df_partial.to_csv('../data/processed_data/active_users_df_100PlusRatings.csv', index=False)"
   ]
  },
  {
   "cell_type": "code",
   "execution_count": null,
   "id": "27825018",
   "metadata": {},
   "outputs": [],
   "source": []
  },
  {
   "cell_type": "markdown",
   "id": "667de7a4",
   "metadata": {},
   "source": [
    "## create and export partial_10"
   ]
  },
  {
   "cell_type": "code",
   "execution_count": null,
   "id": "594d2cb4",
   "metadata": {},
   "outputs": [],
   "source": [
    "#filter users with a minimum of rating\n",
    "minimun_of_rating = 10\n",
    "counts = users_anime_relevant['user_id'].value_counts()\n",
    "active_users_df_10PlusRatings = users_anime_relevant[users_anime_relevant['user_id'].isin(counts[counts >= minimun_of_rating].index)]\n",
    "active_users_df_10PlusRatings.head()"
   ]
  },
  {
   "cell_type": "code",
   "execution_count": null,
   "id": "cc9ad312",
   "metadata": {},
   "outputs": [],
   "source": [
    "active_users_df_10PlusRatings_partial = active_users_df_10PlusRatings[active_users_df_10PlusRatings.user_id < 5000]"
   ]
  },
  {
   "cell_type": "code",
   "execution_count": null,
   "id": "13ddb2c0",
   "metadata": {},
   "outputs": [],
   "source": [
    "active_users_df_partial.shape"
   ]
  },
  {
   "cell_type": "code",
   "execution_count": null,
   "id": "7387c2e7",
   "metadata": {},
   "outputs": [],
   "source": [
    "active_users_df_10PlusRatings_partial.to_csv('../data/processed_data/active_users_df_10PlusRatings_partial.csv', index=False)"
   ]
  },
  {
   "cell_type": "code",
   "execution_count": null,
   "id": "550db59d",
   "metadata": {},
   "outputs": [],
   "source": []
  },
  {
   "cell_type": "markdown",
   "id": "f57e4600",
   "metadata": {},
   "source": [
    "# Sample completed anime df (completely watched)"
   ]
  },
  {
   "cell_type": "code",
   "execution_count": null,
   "id": "7c5e3325",
   "metadata": {
    "scrolled": true
   },
   "outputs": [],
   "source": [
    "rating_complete_df.head()"
   ]
  },
  {
   "cell_type": "code",
   "execution_count": null,
   "id": "842127f4",
   "metadata": {},
   "outputs": [],
   "source": [
    "rating_complete_df.shape"
   ]
  },
  {
   "cell_type": "markdown",
   "id": "05e20f77",
   "metadata": {},
   "source": [
    "## create and export rating_complete_df_10PlusRatings"
   ]
  },
  {
   "cell_type": "code",
   "execution_count": null,
   "id": "fbfb101d",
   "metadata": {},
   "outputs": [],
   "source": [
    "#filter users with a minimum of rating\n",
    "minimun_of_rating = 10\n",
    "counts = rating_complete_df['user_id'].value_counts()\n",
    "rating_complete_df_10PlusRatings = rating_complete_df[rating_complete_df['user_id'].isin(counts[counts >= minimun_of_rating].index)]\n",
    "rating_complete_df_10PlusRatings.head()"
   ]
  },
  {
   "cell_type": "code",
   "execution_count": null,
   "id": "36b779c2",
   "metadata": {},
   "outputs": [],
   "source": [
    "rating_complete_df_10PlusRatings.shape"
   ]
  },
  {
   "cell_type": "code",
   "execution_count": null,
   "id": "b3f6119f",
   "metadata": {},
   "outputs": [],
   "source": [
    "rating_complete_df_10PlusRatings.to_csv('../data/processed_data/rating_complete_df_10PlusRatings.csv', index=False)"
   ]
  },
  {
   "cell_type": "code",
   "execution_count": null,
   "id": "48e6d056",
   "metadata": {},
   "outputs": [],
   "source": [
    "rating_complete_df_10PlusRatings_partial = rating_complete_df_10PlusRatings[rating_complete_df_10PlusRatings.user_id < 5000]"
   ]
  },
  {
   "cell_type": "code",
   "execution_count": null,
   "id": "3642cdf1",
   "metadata": {},
   "outputs": [],
   "source": [
    "rating_complete_df_10PlusRatings_partial.shape"
   ]
  },
  {
   "cell_type": "code",
   "execution_count": null,
   "id": "fe6476b3",
   "metadata": {},
   "outputs": [],
   "source": [
    "rating_complete_df_10PlusRatings_partial.to_csv('../data/processed_data/rating_complete_df_10PlusRatings_partial.csv', index=False)"
   ]
  },
  {
   "cell_type": "code",
   "execution_count": null,
   "id": "ebef9f0f",
   "metadata": {},
   "outputs": [],
   "source": []
  },
  {
   "cell_type": "code",
   "execution_count": null,
   "id": "1719f5a2",
   "metadata": {},
   "outputs": [],
   "source": []
  },
  {
   "cell_type": "markdown",
   "id": "d12c33a8",
   "metadata": {},
   "source": [
    "## create and export rating_complete_df_10PlusRatings"
   ]
  },
  {
   "cell_type": "code",
   "execution_count": null,
   "id": "ba1b4187",
   "metadata": {},
   "outputs": [],
   "source": []
  },
  {
   "cell_type": "code",
   "execution_count": null,
   "id": "0df904a9",
   "metadata": {},
   "outputs": [],
   "source": [
    "#filter users with a minimum of rating\n",
    "minimun_of_rating = 100\n",
    "counts = rating_complete_df['user_id'].value_counts()\n",
    "rating_complete_df_100PlusRatings = rating_complete_df[rating_complete_df['user_id'].isin(counts[counts >= minimun_of_rating].index)]\n",
    "rating_complete_df_100PlusRatings.head()"
   ]
  },
  {
   "cell_type": "code",
   "execution_count": null,
   "id": "9127aae3",
   "metadata": {},
   "outputs": [],
   "source": [
    "rating_complete_df_100PlusRatings.shape"
   ]
  },
  {
   "cell_type": "code",
   "execution_count": null,
   "id": "5cbb8815",
   "metadata": {},
   "outputs": [],
   "source": [
    "rating_complete_df_100PlusRatings.to_csv('../data/processed_data/rating_complete_df_100PlusRatings.csv', index=False)"
   ]
  },
  {
   "cell_type": "code",
   "execution_count": null,
   "id": "3c939a3d",
   "metadata": {},
   "outputs": [],
   "source": [
    "rating_complete_df_100PlusRatings_partial = rating_complete_df_100PlusRatings[rating_complete_df_100PlusRatings.user_id < 5000]"
   ]
  },
  {
   "cell_type": "code",
   "execution_count": null,
   "id": "68d3ee86",
   "metadata": {},
   "outputs": [],
   "source": [
    "rating_complete_df_100PlusRatings_partial.shape"
   ]
  },
  {
   "cell_type": "code",
   "execution_count": null,
   "id": "760b414f",
   "metadata": {},
   "outputs": [],
   "source": [
    "rating_complete_df_100PlusRatings_partial.to_csv('../data/processed_data/rating_complete_df_100PlusRatings_partial.csv', index=False)"
   ]
  },
  {
   "cell_type": "markdown",
   "id": "89d6abb6",
   "metadata": {
    "heading_collapsed": true
   },
   "source": [
    "# Merge DFs"
   ]
  },
  {
   "cell_type": "code",
   "execution_count": null,
   "id": "2c469ce0",
   "metadata": {
    "hidden": true
   },
   "outputs": [],
   "source": [
    "merged_df_download = anime_df_relevant_download.merge(users_anime_partial_relevant, on=\"anime_id\", how='inner')"
   ]
  },
  {
   "cell_type": "code",
   "execution_count": null,
   "id": "9417d947",
   "metadata": {
    "hidden": true
   },
   "outputs": [],
   "source": [
    "merged_df_download.head()"
   ]
  },
  {
   "cell_type": "code",
   "execution_count": null,
   "id": "da1bc4a7",
   "metadata": {
    "hidden": true
   },
   "outputs": [],
   "source": [
    "merged_df_download.isnull().sum()"
   ]
  },
  {
   "cell_type": "code",
   "execution_count": null,
   "id": "39544e78",
   "metadata": {
    "hidden": true
   },
   "outputs": [],
   "source": [
    "merged_df_download.to_csv('../raw_data/merged_df_sample.csv', index=False)"
   ]
  },
  {
   "cell_type": "code",
   "execution_count": null,
   "id": "6b5d4d08",
   "metadata": {
    "hidden": true
   },
   "outputs": [],
   "source": []
  },
  {
   "cell_type": "code",
   "execution_count": null,
   "id": "2f4232fe",
   "metadata": {
    "hidden": true
   },
   "outputs": [],
   "source": []
  },
  {
   "cell_type": "code",
   "execution_count": null,
   "id": "620177d2",
   "metadata": {
    "hidden": true
   },
   "outputs": [],
   "source": []
  },
  {
   "cell_type": "code",
   "execution_count": null,
   "id": "30926536",
   "metadata": {
    "hidden": true,
    "scrolled": true
   },
   "outputs": [],
   "source": [
    "# rename MAL_ID in anime.csv to anime_id\n",
    "anime_df_relevant_PG.rename(columns={'MAL_ID': 'anime_id'}, inplace=True)"
   ]
  },
  {
   "cell_type": "code",
   "execution_count": null,
   "id": "dab47296",
   "metadata": {
    "hidden": true
   },
   "outputs": [],
   "source": [
    "users_anime_partial_relevant.head()"
   ]
  },
  {
   "cell_type": "code",
   "execution_count": null,
   "id": "69a3c0c6",
   "metadata": {
    "hidden": true,
    "scrolled": false
   },
   "outputs": [],
   "source": [
    "users_anime_partial_relevant.shape"
   ]
  },
  {
   "cell_type": "code",
   "execution_count": null,
   "id": "7df617fd",
   "metadata": {
    "hidden": true
   },
   "outputs": [],
   "source": [
    "users_anime_partial_relevant.columns"
   ]
  },
  {
   "cell_type": "code",
   "execution_count": null,
   "id": "bd9dd84d",
   "metadata": {
    "hidden": true
   },
   "outputs": [],
   "source": [
    "# fuse anime.csv and animelist.csv\n",
    "# merged_df = anime_no_H_df.merge(animelist_df, on=\"anime_id\", how='left')\n",
    "merged_df = anime_df_relevant_PG.merge(users_anime_partial, on=\"anime_id\", how='left')"
   ]
  },
  {
   "cell_type": "code",
   "execution_count": null,
   "id": "f5824c0d",
   "metadata": {
    "hidden": true,
    "scrolled": true
   },
   "outputs": [],
   "source": [
    "merged_df.shape"
   ]
  },
  {
   "cell_type": "code",
   "execution_count": null,
   "id": "7452c126",
   "metadata": {
    "hidden": true
   },
   "outputs": [],
   "source": [
    "merged_df.columns"
   ]
  },
  {
   "cell_type": "code",
   "execution_count": null,
   "id": "d80fc193",
   "metadata": {
    "hidden": true
   },
   "outputs": [],
   "source": [
    "# checking on one user the data stored (animes)\n",
    "merged_df.query(\"user_id== 1\")"
   ]
  },
  {
   "cell_type": "code",
   "execution_count": null,
   "id": "a290b228",
   "metadata": {
    "hidden": true
   },
   "outputs": [],
   "source": [
    "# check that there isn't any anime ID (/ MAL_id with hentai genre left)\n",
    "merged_df.Genres.str.contains(\"Hentai\").value_counts()"
   ]
  },
  {
   "cell_type": "code",
   "execution_count": null,
   "id": "5d317a55",
   "metadata": {
    "hidden": true
   },
   "outputs": [],
   "source": [
    "merged_df.Genres.str.contains(\"Yuri\").value_counts()"
   ]
  },
  {
   "cell_type": "code",
   "execution_count": null,
   "id": "c6fc48a8",
   "metadata": {
    "hidden": true
   },
   "outputs": [],
   "source": [
    "merged_df.Genres.str.contains(\"Yaoi\").value_counts()"
   ]
  },
  {
   "cell_type": "markdown",
   "id": "59a40483",
   "metadata": {},
   "source": [
    "# reduce dimensionality of feature matrix (recommender system / movie from course)\n"
   ]
  },
  {
   "cell_type": "code",
   "execution_count": null,
   "id": "1c38cea2",
   "metadata": {},
   "outputs": [],
   "source": [
    "pd.set_option(\"display.max_columns\", None)"
   ]
  },
  {
   "cell_type": "code",
   "execution_count": 1,
   "id": "c0b5df5d",
   "metadata": {},
   "outputs": [
    {
     "ename": "NameError",
     "evalue": "name 'merged_df' is not defined",
     "output_type": "error",
     "traceback": [
      "\u001b[0;31m---------------------------------------------------------------------------\u001b[0m",
      "\u001b[0;31mNameError\u001b[0m                                 Traceback (most recent call last)",
      "\u001b[0;32m/tmp/ipykernel_26164/3056944589.py\u001b[0m in \u001b[0;36m<module>\u001b[0;34m\u001b[0m\n\u001b[0;32m----> 1\u001b[0;31m \u001b[0mmerged_df\u001b[0m\u001b[0;34m.\u001b[0m\u001b[0mhead\u001b[0m\u001b[0;34m(\u001b[0m\u001b[0;36m7\u001b[0m\u001b[0;34m)\u001b[0m\u001b[0;34m\u001b[0m\u001b[0;34m\u001b[0m\u001b[0m\n\u001b[0m",
      "\u001b[0;31mNameError\u001b[0m: name 'merged_df' is not defined"
     ]
    }
   ],
   "source": [
    "merged_df.head(7)"
   ]
  },
  {
   "cell_type": "code",
   "execution_count": null,
   "id": "57fb6f5f",
   "metadata": {},
   "outputs": [],
   "source": []
  },
  {
   "cell_type": "code",
   "execution_count": 96,
   "id": "106bd20f",
   "metadata": {},
   "outputs": [],
   "source": [
    "# remove commas from genres"
   ]
  },
  {
   "cell_type": "code",
   "execution_count": null,
   "id": "90bf4ca5",
   "metadata": {},
   "outputs": [],
   "source": [
    "# pick 3rd word in Aired column (starting year)"
   ]
  },
  {
   "cell_type": "code",
   "execution_count": null,
   "id": "bf2f7b3c",
   "metadata": {},
   "outputs": [],
   "source": [
    "# Duration: transform everything into minutes duration\n",
    "# Duration: Encode in small sub-categories : \"less than 10mn\" / \"between 10 and 30\" / \"between 30 and 60mn\" / \"more than 60mn\"\n",
    "# Duration: re-evaluate duration encode and change if necessary"
   ]
  },
  {
   "cell_type": "code",
   "execution_count": null,
   "id": "0b69e6e4",
   "metadata": {},
   "outputs": [],
   "source": [
    "# for all columns, OHE + drop unknown column"
   ]
  },
  {
   "cell_type": "code",
   "execution_count": null,
   "id": "35a29416",
   "metadata": {},
   "outputs": [],
   "source": []
  },
  {
   "cell_type": "code",
   "execution_count": null,
   "id": "f3389c9a",
   "metadata": {},
   "outputs": [],
   "source": []
  },
  {
   "cell_type": "code",
   "execution_count": null,
   "id": "3e345a90",
   "metadata": {},
   "outputs": [],
   "source": [
    "## Second thought dataset shape : ['anime_id', 'Genres', 'Studios?']  (from anime_no_H_df) + user data (from animelist_df_partial)"
   ]
  },
  {
   "cell_type": "code",
   "execution_count": null,
   "id": "7a3d0b17",
   "metadata": {},
   "outputs": [],
   "source": []
  },
  {
   "cell_type": "code",
   "execution_count": null,
   "id": "dad78bd7",
   "metadata": {},
   "outputs": [],
   "source": []
  },
  {
   "cell_type": "code",
   "execution_count": null,
   "id": "b52e095f",
   "metadata": {},
   "outputs": [],
   "source": [
    "# personal work /analysis on the cleaned dataset\n",
    "# produce visualization and draw conclusions / thoughts about what the visualizations are showing\n",
    "# discuss it together\n"
   ]
  },
  {
   "cell_type": "code",
   "execution_count": 7,
   "id": "0c66312d",
   "metadata": {},
   "outputs": [],
   "source": [
    "# fraction of user_anime_df\n",
    "users_anime_partial.to_csv('../data/processed_data/users_anime_partial.csv', index=False)"
   ]
  },
  {
   "cell_type": "code",
   "execution_count": null,
   "id": "3f4e1c92",
   "metadata": {},
   "outputs": [],
   "source": []
  },
  {
   "cell_type": "code",
   "execution_count": null,
   "id": "bbd5eb8a",
   "metadata": {},
   "outputs": [],
   "source": []
  }
 ],
 "metadata": {
  "kernelspec": {
   "display_name": "Python 3 (ipykernel)",
   "language": "python",
   "name": "python3"
  },
  "language_info": {
   "codemirror_mode": {
    "name": "ipython",
    "version": 3
   },
   "file_extension": ".py",
   "mimetype": "text/x-python",
   "name": "python",
   "nbconvert_exporter": "python",
   "pygments_lexer": "ipython3",
   "version": "3.8.6"
  },
  "toc": {
   "base_numbering": 1,
   "nav_menu": {},
   "number_sections": true,
   "sideBar": true,
   "skip_h1_title": false,
   "title_cell": "Table of Contents",
   "title_sidebar": "Contents",
   "toc_cell": false,
   "toc_position": {
    "height": "calc(100% - 180px)",
    "left": "10px",
    "top": "150px",
    "width": "165px"
   },
   "toc_section_display": true,
   "toc_window_display": false
  }
 },
 "nbformat": 4,
 "nbformat_minor": 5
}
