{
 "cells": [
  {
   "cell_type": "code",
   "execution_count": 1,
   "id": "078faf5f",
   "metadata": {},
   "outputs": [],
   "source": [
    "import pandas as pd\n",
    "import numpy as np\n",
    "import joblib"
   ]
  },
  {
   "cell_type": "code",
   "execution_count": 2,
   "id": "baa96914",
   "metadata": {},
   "outputs": [],
   "source": [
    "# take list users with more than 100 completed anime\n",
    "users_list_test = pd.read_csv('../data/Processed_data/anime_map_data_rating_complete_100plus_PG.csv', nrows = 2000000)[['user_id']].drop_duplicates()\n",
    "# take list users with more than 100 rated anime\n",
    "users_list_rating = pd.read_csv('../data/Processed_data/anime_map_data_animelist_100plus_PG.csv', nrows = 2000000)"
   ]
  },
  {
   "cell_type": "code",
   "execution_count": 19,
   "id": "0f91c521",
   "metadata": {},
   "outputs": [],
   "source": [
    "# make list users with more than 100 rated anime and 100 completed anime where we will select users\n",
    "# to feed metric_model_anime. likes we are sure the users will work on the two model of recommendation\n",
    "users_list_rating_test = users_list_test.merge(users_list_rating, on = 'user_id', how='inner')[['user_id']].drop_duplicates()"
   ]
  },
  {
   "cell_type": "code",
   "execution_count": 4,
   "id": "b0f44cf2",
   "metadata": {},
   "outputs": [],
   "source": [
    "# take the anime name\n",
    "animelist_relevant = pd.read_csv('../data/Processed_data/anime_df_relevant_PG.csv')[['MAL_ID','Name']].rename(columns={'MAL_ID':'anime_id'})\n",
    "# and just keep the uselful one\n",
    "users_list_rating_name_test = animelist_relevant.merge(users_list_rating, on='anime_id', how='inner' )\n"
   ]
  },
  {
   "cell_type": "code",
   "execution_count": 5,
   "id": "292873e7",
   "metadata": {},
   "outputs": [],
   "source": [
    "# take the\n",
    "anime_id_animelist_100plus = pd.read_csv('../data/Processed_data/anime_map_data_animelist_100plus_PG_anime_id_df.csv')\n",
    "anime_id_animelist_100plus = anime_id_animelist_100plus.merge(animelist_relevant, on = 'anime_id', how='inner')\n",
    "\n",
    "anime_id_rating_complete_100plus = pd.read_csv('../data/Processed_data/anime_map_data_rating_complete_100plus_PG_anime_id_df.csv')\n",
    "anime_id_rating_complete_100plus = anime_id_rating_complete_100plus.merge(animelist_relevant, on = 'anime_id', how='inner')\n"
   ]
  },
  {
   "cell_type": "code",
   "execution_count": 6,
   "id": "44f06cef",
   "metadata": {},
   "outputs": [],
   "source": [
    "# import the models and their pivot\n",
    "model_rating_complete_100plus = joblib.load('../data/Processed_data/anime_map_data_rating_complete_100plus_PG_knn_model.joblib')\n",
    "pivot_rating_complete_100plus = pd.read_csv('../data/Processed_data/anime_map_data_rating_complete_100plus_PG_PCA_vector_df.csv')\n",
    "\n",
    "model_animelist_100plus = joblib.load('../data/Processed_data/anime_map_data_animelist_100plus_PG_knn_model.joblib')\n",
    "pivot_animelist_100plus = pd.read_csv('../data/Processed_data/anime_map_data_animelist_100plus_PG_PCA_vector_df.csv')"
   ]
  },
  {
   "cell_type": "code",
   "execution_count": 7,
   "id": "6c9342bd",
   "metadata": {},
   "outputs": [],
   "source": [
    "def recomendation_rating_complete_100plus_pca(anime_name, nb_recomendation = 10):\n",
    "    index_nb = anime_id_rating_complete_100plus.index[anime_id_rating_complete_100plus['Name'] == anime_name].tolist()[0]\n",
    "    distances, indices = model_rating_complete_100plus.kneighbors(pivot_rating_complete_100plus.iloc[index_nb,:].values.reshape(1, -1), n_neighbors = nb_recomendation + 1)\n",
    "\n",
    "    prediction = []\n",
    "    for i in range(0, len(distances.flatten())):\n",
    "        if i == 0:\n",
    "            prediction.append([pivot_rating_complete_100plus.index[indices.flatten()[i]],0])\n",
    "        else:\n",
    "            prediction.append([pivot_rating_complete_100plus.index[indices.flatten()[i]],distances.flatten()[i]])\n",
    "    results = []\n",
    "    for i in range(len(prediction)):\n",
    "        anime_name = anime_id_rating_complete_100plus.iloc[prediction[i][0]].Name\n",
    "        distance = prediction[i][1]\n",
    "        results.append([anime_name,distance])\n",
    "    return results"
   ]
  },
  {
   "cell_type": "code",
   "execution_count": 8,
   "id": "4415b79b",
   "metadata": {},
   "outputs": [],
   "source": [
    "def recomendation_animelist_100plus_pca(anime_name, nb_recomendation = 10):\n",
    "    index_nb = anime_id_animelist_100plus.index[anime_id_animelist_100plus['Name'] == anime_name].tolist()[0]\n",
    "    distances, indices = model_animelist_100plus.kneighbors(pivot_animelist_100plus.iloc[index_nb,:].values.reshape(1, -1), n_neighbors = nb_recomendation + 1)\n",
    "\n",
    "    prediction = []\n",
    "    for i in range(0, len(distances.flatten())):\n",
    "        if i == 0:\n",
    "            prediction.append([pivot_animelist_100plus.index[indices.flatten()[i]],0])\n",
    "        else:\n",
    "            prediction.append([pivot_animelist_100plus.index[indices.flatten()[i]],distances.flatten()[i]])\n",
    "    results = []\n",
    "    for i in range(len(prediction)):\n",
    "        anime_name = anime_id_animelist_100plus.iloc[prediction[i][0]].Name\n",
    "        distance = prediction[i][1]\n",
    "        results.append([anime_name,distance])\n",
    "    return results"
   ]
  },
  {
   "cell_type": "code",
   "execution_count": 21,
   "id": "ef0eef72",
   "metadata": {},
   "outputs": [],
   "source": [
    "def metric_model_anime(user_id = 33, model = 'notation', nb_recomendation = 10, best_anime=3):\n",
    "    user = users_list_rating_name_test.query(f'user_id == {user_id}')[['anime_id','rating','Name']].sort_values(by=['rating'], ascending=False)\n",
    "    user_best_anime = user.iloc[0:best_anime]\n",
    "    # means notation on user\n",
    "    means_note = np.mean([i for i in users_list_rating_name_test.query(f'user_id=={user_id}').rating.tolist() if i!=0])\n",
    "    print(f'means_note : {means_note}')\n",
    "    \n",
    "    # init the value of the metric\n",
    "    metric = []\n",
    "    \n",
    "    # chose the model\n",
    "    list_anime = []\n",
    "    for i in range(user_best_anime.shape[0]):\n",
    "        list_anime.append(user_best_anime.iloc[[i][0]].Name)\n",
    "\n",
    "        if model == 'notation':\n",
    "            list_reco_vote = []\n",
    "            # call the models for the different user_best_anime\n",
    "            for anime_name in list_anime:\n",
    "                list_reco_vote.append(recomendation_animelist_100plus_pca(anime_name, nb_recomendation)) \n",
    "                anime_id_model = anime_id_animelist_100plus\n",
    "        elif model == 'completed':\n",
    "            list_reco_vote = []\n",
    "            # call the models for the different user_best_anime\n",
    "            for anime_name in list_anime:\n",
    "                list_reco_vote.append(recomendation_rating_complete_100plus_pca(anime_name, nb_recomendation))\n",
    "                anime_id_model = anime_id_rating_complete_100plus\n",
    "        else:\n",
    "            print('bye')\n",
    "            \n",
    "    # loop on the predict for multiple anime\n",
    "    max_score_list = []\n",
    "    verif_score_list = []\n",
    "    for i in range(len(list_reco_vote)):\n",
    "        # detremine the max possible score if every pred is liked\n",
    "        max_score = len(list_reco_vote[i][1:])\n",
    "        # init verif_score for comparaison to max_score\n",
    "        verif_score = 0\n",
    "        # loop on the predict for one anime\n",
    "        for j in range((len(list_reco_vote[i][1:]))):\n",
    "        \n",
    "            name = list_reco_vote[i][j+1][0]\n",
    "            anime_id = anime_id_model.query(f'Name == \"{name}\"').anime_id.tolist()[0]\n",
    "            rating = users_list_rating_name_test.query(f'anime_id=={anime_id}').query(f'user_id=={user_id}').rating.tolist()\n",
    "            # test if a rating exist for the anime recommended\n",
    "            if  rating != []:\n",
    "                # take the rating for comparaison\n",
    "                note = rating[0]\n",
    "                # comparaison to means_note to know if liked or not\n",
    "                if note >=means_note:\n",
    "                    # liked \n",
    "                    verif_score +=1\n",
    "                # if note == zero => no vote from users so max_score-1\n",
    "                elif note == 0:\n",
    "                    max_score -=1\n",
    "                print(note)\n",
    "            # if rating == [] users did not see the anime so max_score-1\n",
    "            elif rating == []:\n",
    "                max_score -=1\n",
    "        if max_score!=0:\n",
    "            max_score_list.append(max_score)\n",
    "            verif_score_list.append(verif_score)\n",
    "            efficiancy = 100 * verif_score/max_score\n",
    "            print(f'efficiancy partial = {efficiancy}%')\n",
    "            metric.append(efficiancy)\n",
    "        else:\n",
    "            print('nothing')\n",
    "    print(f'efficiancy : {np.mean(metric)}')\n",
    "    if np.mean(max_score_list)!= 0:\n",
    "        print(f'{100 * np.mean(verif_score_list)/np.mean(max_score_list)}%')"
   ]
  },
  {
   "cell_type": "code",
   "execution_count": 20,
   "id": "de63673a",
   "metadata": {},
   "outputs": [
    {
     "data": {
      "text/html": [
       "<div>\n",
       "<style scoped>\n",
       "    .dataframe tbody tr th:only-of-type {\n",
       "        vertical-align: middle;\n",
       "    }\n",
       "\n",
       "    .dataframe tbody tr th {\n",
       "        vertical-align: top;\n",
       "    }\n",
       "\n",
       "    .dataframe thead th {\n",
       "        text-align: right;\n",
       "    }\n",
       "</style>\n",
       "<table border=\"1\" class=\"dataframe\">\n",
       "  <thead>\n",
       "    <tr style=\"text-align: right;\">\n",
       "      <th></th>\n",
       "      <th>user_id</th>\n",
       "    </tr>\n",
       "  </thead>\n",
       "  <tbody>\n",
       "    <tr>\n",
       "      <th>0</th>\n",
       "      <td>6</td>\n",
       "    </tr>\n",
       "    <tr>\n",
       "      <th>19</th>\n",
       "      <td>19</td>\n",
       "    </tr>\n",
       "    <tr>\n",
       "      <th>39</th>\n",
       "      <td>33</td>\n",
       "    </tr>\n",
       "    <tr>\n",
       "      <th>53</th>\n",
       "      <td>41</td>\n",
       "    </tr>\n",
       "    <tr>\n",
       "      <th>65</th>\n",
       "      <td>46</td>\n",
       "    </tr>\n",
       "    <tr>\n",
       "      <th>...</th>\n",
       "      <td>...</td>\n",
       "    </tr>\n",
       "    <tr>\n",
       "      <th>1912085</th>\n",
       "      <td>230080</td>\n",
       "    </tr>\n",
       "    <tr>\n",
       "      <th>1912088</th>\n",
       "      <td>321427</td>\n",
       "    </tr>\n",
       "    <tr>\n",
       "      <th>1912092</th>\n",
       "      <td>715</td>\n",
       "    </tr>\n",
       "    <tr>\n",
       "      <th>1912097</th>\n",
       "      <td>39957</td>\n",
       "    </tr>\n",
       "    <tr>\n",
       "      <th>1912103</th>\n",
       "      <td>151036</td>\n",
       "    </tr>\n",
       "  </tbody>\n",
       "</table>\n",
       "<p>164419 rows × 1 columns</p>\n",
       "</div>"
      ],
      "text/plain": [
       "         user_id\n",
       "0              6\n",
       "19            19\n",
       "39            33\n",
       "53            41\n",
       "65            46\n",
       "...          ...\n",
       "1912085   230080\n",
       "1912088   321427\n",
       "1912092      715\n",
       "1912097    39957\n",
       "1912103   151036\n",
       "\n",
       "[164419 rows x 1 columns]"
      ]
     },
     "execution_count": 20,
     "metadata": {},
     "output_type": "execute_result"
    }
   ],
   "source": [
    "users_list_rating_test"
   ]
  },
  {
   "cell_type": "code",
   "execution_count": 22,
   "id": "27efcbd8",
   "metadata": {},
   "outputs": [
    {
     "name": "stdout",
     "output_type": "stream",
     "text": [
      "means_note : 7.916666666666667\n",
      "9\n",
      "efficiancy partial = 100.0%\n",
      "5\n",
      "efficiancy partial = 0.0%\n",
      "8\n",
      "7\n",
      "5\n",
      "5\n",
      "efficiancy partial = 25.0%\n",
      "efficiancy : 41.666666666666664\n",
      "33.33333333333333%\n"
     ]
    }
   ],
   "source": [
    "metric_model_anime(user_id = 41)"
   ]
  },
  {
   "cell_type": "code",
   "execution_count": 78,
   "id": "e348f6eb",
   "metadata": {},
   "outputs": [],
   "source": [
    "sample = users_list_rating_test.sample(n=25)"
   ]
  },
  {
   "cell_type": "code",
   "execution_count": 79,
   "id": "c5522126",
   "metadata": {},
   "outputs": [
    {
     "data": {
      "text/plain": [
       "[95649,\n",
       " 221782,\n",
       " 184542,\n",
       " 181655,\n",
       " 41833,\n",
       " 34313,\n",
       " 215138,\n",
       " 337357,\n",
       " 18391,\n",
       " 198689,\n",
       " 292997,\n",
       " 118820,\n",
       " 328107,\n",
       " 60539,\n",
       " 269025,\n",
       " 348257,\n",
       " 137908,\n",
       " 249577,\n",
       " 194146,\n",
       " 224271,\n",
       " 349413,\n",
       " 220451,\n",
       " 7697,\n",
       " 86682,\n",
       " 138151]"
      ]
     },
     "execution_count": 79,
     "metadata": {},
     "output_type": "execute_result"
    }
   ],
   "source": [
    "sample.user_id.tolist()"
   ]
  },
  {
   "cell_type": "code",
   "execution_count": 82,
   "id": "c91a898f",
   "metadata": {},
   "outputs": [
    {
     "name": "stdout",
     "output_type": "stream",
     "text": [
      "95649\n",
      "221782\n",
      "184542\n",
      "181655\n",
      "41833\n",
      "34313\n",
      "215138\n",
      "337357\n",
      "18391\n",
      "198689\n",
      "292997\n",
      "118820\n",
      "328107\n",
      "60539\n",
      "269025\n",
      "348257\n",
      "137908\n",
      "249577\n",
      "194146\n",
      "224271\n",
      "349413\n",
      "220451\n",
      "7697\n",
      "86682\n",
      "138151\n"
     ]
    }
   ],
   "source": [
    "for id in sample.user_id.tolist():\n",
    "    print(id)"
   ]
  },
  {
   "cell_type": "code",
   "execution_count": 47,
   "id": "a216fe85",
   "metadata": {},
   "outputs": [],
   "source": [
    "n= [[[[[1,1,1,1,1,1,1,1,1]]]]]"
   ]
  },
  {
   "cell_type": "code",
   "execution_count": 48,
   "id": "8108c154",
   "metadata": {},
   "outputs": [
    {
     "data": {
      "text/plain": [
       "1.0"
      ]
     },
     "execution_count": 48,
     "metadata": {},
     "output_type": "execute_result"
    }
   ],
   "source": [
    "np.mean(n)"
   ]
  },
  {
   "cell_type": "code",
   "execution_count": 50,
   "id": "fff04120",
   "metadata": {},
   "outputs": [],
   "source": [
    "user = users_list_rating_name_test.query(f'user_id == {7363}')[['anime_id','rating','Name']].sort_values(by=['rating'], ascending=False)\n",
    "user_best_anime = user.iloc[0:10]"
   ]
  },
  {
   "cell_type": "code",
   "execution_count": 54,
   "id": "0a019369",
   "metadata": {},
   "outputs": [
    {
     "data": {
      "text/html": [
       "<div>\n",
       "<style scoped>\n",
       "    .dataframe tbody tr th:only-of-type {\n",
       "        vertical-align: middle;\n",
       "    }\n",
       "\n",
       "    .dataframe tbody tr th {\n",
       "        vertical-align: top;\n",
       "    }\n",
       "\n",
       "    .dataframe thead th {\n",
       "        text-align: right;\n",
       "    }\n",
       "</style>\n",
       "<table border=\"1\" class=\"dataframe\">\n",
       "  <thead>\n",
       "    <tr style=\"text-align: right;\">\n",
       "      <th></th>\n",
       "      <th>anime_id</th>\n",
       "      <th>rating</th>\n",
       "      <th>Name</th>\n",
       "    </tr>\n",
       "  </thead>\n",
       "  <tbody>\n",
       "    <tr>\n",
       "      <th>384181</th>\n",
       "      <td>164</td>\n",
       "      <td>10</td>\n",
       "      <td>Mononoke Hime</td>\n",
       "    </tr>\n",
       "    <tr>\n",
       "      <th>495544</th>\n",
       "      <td>199</td>\n",
       "      <td>9</td>\n",
       "      <td>Sen to Chihiro no Kamikakushi</td>\n",
       "    </tr>\n",
       "    <tr>\n",
       "      <th>890674</th>\n",
       "      <td>431</td>\n",
       "      <td>9</td>\n",
       "      <td>Howl no Ugoku Shiro</td>\n",
       "    </tr>\n",
       "    <tr>\n",
       "      <th>1093684</th>\n",
       "      <td>578</td>\n",
       "      <td>9</td>\n",
       "      <td>Hotaru no Haka</td>\n",
       "    </tr>\n",
       "    <tr>\n",
       "      <th>1220923</th>\n",
       "      <td>1535</td>\n",
       "      <td>9</td>\n",
       "      <td>Death Note</td>\n",
       "    </tr>\n",
       "    <tr>\n",
       "      <th>1704086</th>\n",
       "      <td>2236</td>\n",
       "      <td>9</td>\n",
       "      <td>Toki wo Kakeru Shoujo</td>\n",
       "    </tr>\n",
       "    <tr>\n",
       "      <th>1788581</th>\n",
       "      <td>3457</td>\n",
       "      <td>9</td>\n",
       "      <td>Vampire Knight</td>\n",
       "    </tr>\n",
       "  </tbody>\n",
       "</table>\n",
       "</div>"
      ],
      "text/plain": [
       "         anime_id  rating                           Name\n",
       "384181        164      10                  Mononoke Hime\n",
       "495544        199       9  Sen to Chihiro no Kamikakushi\n",
       "890674        431       9            Howl no Ugoku Shiro\n",
       "1093684       578       9                 Hotaru no Haka\n",
       "1220923      1535       9                     Death Note\n",
       "1704086      2236       9          Toki wo Kakeru Shoujo\n",
       "1788581      3457       9                 Vampire Knight"
      ]
     },
     "execution_count": 54,
     "metadata": {},
     "output_type": "execute_result"
    }
   ],
   "source": [
    "user_best_anime[user_best_anime['rating'] >8]"
   ]
  },
  {
   "cell_type": "code",
   "execution_count": 55,
   "id": "246be5f3",
   "metadata": {},
   "outputs": [
    {
     "data": {
      "text/html": [
       "<div>\n",
       "<style scoped>\n",
       "    .dataframe tbody tr th:only-of-type {\n",
       "        vertical-align: middle;\n",
       "    }\n",
       "\n",
       "    .dataframe tbody tr th {\n",
       "        vertical-align: top;\n",
       "    }\n",
       "\n",
       "    .dataframe thead th {\n",
       "        text-align: right;\n",
       "    }\n",
       "</style>\n",
       "<table border=\"1\" class=\"dataframe\">\n",
       "  <thead>\n",
       "    <tr style=\"text-align: right;\">\n",
       "      <th></th>\n",
       "      <th>anime_id</th>\n",
       "      <th>rating</th>\n",
       "      <th>Name</th>\n",
       "    </tr>\n",
       "  </thead>\n",
       "  <tbody>\n",
       "    <tr>\n",
       "      <th>384181</th>\n",
       "      <td>164</td>\n",
       "      <td>10</td>\n",
       "      <td>Mononoke Hime</td>\n",
       "    </tr>\n",
       "    <tr>\n",
       "      <th>495544</th>\n",
       "      <td>199</td>\n",
       "      <td>9</td>\n",
       "      <td>Sen to Chihiro no Kamikakushi</td>\n",
       "    </tr>\n",
       "    <tr>\n",
       "      <th>890674</th>\n",
       "      <td>431</td>\n",
       "      <td>9</td>\n",
       "      <td>Howl no Ugoku Shiro</td>\n",
       "    </tr>\n",
       "    <tr>\n",
       "      <th>1093684</th>\n",
       "      <td>578</td>\n",
       "      <td>9</td>\n",
       "      <td>Hotaru no Haka</td>\n",
       "    </tr>\n",
       "    <tr>\n",
       "      <th>1220923</th>\n",
       "      <td>1535</td>\n",
       "      <td>9</td>\n",
       "      <td>Death Note</td>\n",
       "    </tr>\n",
       "    <tr>\n",
       "      <th>1704086</th>\n",
       "      <td>2236</td>\n",
       "      <td>9</td>\n",
       "      <td>Toki wo Kakeru Shoujo</td>\n",
       "    </tr>\n",
       "    <tr>\n",
       "      <th>1788581</th>\n",
       "      <td>3457</td>\n",
       "      <td>9</td>\n",
       "      <td>Vampire Knight</td>\n",
       "    </tr>\n",
       "    <tr>\n",
       "      <th>618177</th>\n",
       "      <td>235</td>\n",
       "      <td>8</td>\n",
       "      <td>Detective Conan</td>\n",
       "    </tr>\n",
       "    <tr>\n",
       "      <th>1050424</th>\n",
       "      <td>481</td>\n",
       "      <td>8</td>\n",
       "      <td>Yu☆Gi☆Oh! Duel Monsters</td>\n",
       "    </tr>\n",
       "    <tr>\n",
       "      <th>1375409</th>\n",
       "      <td>1689</td>\n",
       "      <td>8</td>\n",
       "      <td>Byousoku 5 Centimeter</td>\n",
       "    </tr>\n",
       "  </tbody>\n",
       "</table>\n",
       "</div>"
      ],
      "text/plain": [
       "         anime_id  rating                           Name\n",
       "384181        164      10                  Mononoke Hime\n",
       "495544        199       9  Sen to Chihiro no Kamikakushi\n",
       "890674        431       9            Howl no Ugoku Shiro\n",
       "1093684       578       9                 Hotaru no Haka\n",
       "1220923      1535       9                     Death Note\n",
       "1704086      2236       9          Toki wo Kakeru Shoujo\n",
       "1788581      3457       9                 Vampire Knight\n",
       "618177        235       8                Detective Conan\n",
       "1050424       481       8        Yu☆Gi☆Oh! Duel Monsters\n",
       "1375409      1689       8          Byousoku 5 Centimeter"
      ]
     },
     "execution_count": 55,
     "metadata": {},
     "output_type": "execute_result"
    }
   ],
   "source": [
    "user_best_anime"
   ]
  },
  {
   "cell_type": "code",
   "execution_count": null,
   "id": "c4993ec1",
   "metadata": {},
   "outputs": [],
   "source": []
  }
 ],
 "metadata": {
  "kernelspec": {
   "display_name": "Python 3 (ipykernel)",
   "language": "python",
   "name": "python3"
  },
  "language_info": {
   "codemirror_mode": {
    "name": "ipython",
    "version": 3
   },
   "file_extension": ".py",
   "mimetype": "text/x-python",
   "name": "python",
   "nbconvert_exporter": "python",
   "pygments_lexer": "ipython3",
   "version": "3.8.6"
  }
 },
 "nbformat": 4,
 "nbformat_minor": 5
}
