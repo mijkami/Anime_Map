{
 "cells": [
  {
   "cell_type": "markdown",
   "id": "8c827f22",
   "metadata": {},
   "source": [
    "# Imports"
   ]
  },
  {
   "cell_type": "code",
   "execution_count": 1,
   "id": "329ab65d",
   "metadata": {},
   "outputs": [],
   "source": [
    "import pydot\n",
    "import graphviz\n",
    "%matplotlib inline\n",
    "import matplotlib.pyplot as plt\n",
    "from sklearn.metrics import mean_absolute_error"
   ]
  },
  {
   "cell_type": "code",
   "execution_count": 2,
   "id": "1baace70",
   "metadata": {},
   "outputs": [
    {
     "name": "stderr",
     "output_type": "stream",
     "text": [
      "2021-08-30 10:44:31.867311: W tensorflow/stream_executor/platform/default/dso_loader.cc:64] Could not load dynamic library 'libcudart.so.11.0'; dlerror: libcudart.so.11.0: cannot open shared object file: No such file or directory\n",
      "2021-08-30 10:44:31.867358: I tensorflow/stream_executor/cuda/cudart_stub.cc:29] Ignore above cudart dlerror if you do not have a GPU set up on your machine.\n"
     ]
    }
   ],
   "source": [
    "from keras.models import Model, Sequential\n",
    "from keras.layers import Embedding, Flatten, Input, merge, concatenate, Dropout, Dense\n",
    "from tensorflow.keras.optimizers import Adam\n",
    "from tensorflow.keras.utils import model_to_dot\n",
    "from IPython.display import SVG\n",
    "from keras.layers import dot\n",
    "from tensorflow.keras.utils import plot_model"
   ]
  },
  {
   "cell_type": "code",
   "execution_count": 3,
   "id": "286d167b",
   "metadata": {},
   "outputs": [],
   "source": [
    "import pandas as pd\n",
    "import numpy as np\n",
    "import seaborn as sns"
   ]
  },
  {
   "cell_type": "code",
   "execution_count": 4,
   "id": "3c802932",
   "metadata": {
    "scrolled": true
   },
   "outputs": [],
   "source": [
    "from sklearn.model_selection import train_test_split\n",
    "from keras.utils.np_utils import to_categorical\n",
    "import matplotlib.pyplot as plt\n",
    "from sklearn.metrics import mean_absolute_error"
   ]
  },
  {
   "cell_type": "markdown",
   "id": "1e95d226",
   "metadata": {},
   "source": [
    "# Dataset"
   ]
  },
  {
   "cell_type": "code",
   "execution_count": 5,
   "id": "92757ca7",
   "metadata": {},
   "outputs": [],
   "source": [
    "dataset = pd.read_csv('../data/processed_data/active_users_df_10PlusRatings_partial.csv')\n",
    "anime_df = pd.read_csv('../data/raw_data/anime.csv')\n",
    "dataset = dataset.sort_values([\"user_id\", \"anime_id\"], ascending=(True, True))"
   ]
  },
  {
   "cell_type": "code",
   "execution_count": 6,
   "id": "8e013a5a",
   "metadata": {},
   "outputs": [
    {
     "data": {
      "text/plain": [
       "12106"
      ]
     },
     "execution_count": 6,
     "metadata": {},
     "output_type": "execute_result"
    }
   ],
   "source": [
    "dataset.anime_id.nunique()"
   ]
  },
  {
   "cell_type": "code",
   "execution_count": 7,
   "id": "a3bbeade",
   "metadata": {},
   "outputs": [
    {
     "data": {
      "text/plain": [
       "4035"
      ]
     },
     "execution_count": 7,
     "metadata": {},
     "output_type": "execute_result"
    }
   ],
   "source": [
    "dataset.user_id.nunique()"
   ]
  },
  {
   "cell_type": "markdown",
   "id": "32683d2f",
   "metadata": {},
   "source": [
    "# Order dataset by user_id and anime_id"
   ]
  },
  {
   "cell_type": "code",
   "execution_count": 8,
   "id": "36113a72",
   "metadata": {},
   "outputs": [],
   "source": [
    "anime_id_to_new_id = dict()\n",
    "id = 1"
   ]
  },
  {
   "cell_type": "code",
   "execution_count": 9,
   "id": "ae7da34a",
   "metadata": {},
   "outputs": [
    {
     "name": "stdout",
     "output_type": "stream",
     "text": [
      "CPU times: user 1min 10s, sys: 0 ns, total: 1min 10s\n",
      "Wall time: 1min 10s\n"
     ]
    }
   ],
   "source": [
    "%%time\n",
    "for index, row in dataset.iterrows():\n",
    "    if anime_id_to_new_id.get(row['anime_id']) is None:\n",
    "        anime_id_to_new_id[row['anime_id']] = id\n",
    "        dataset.at[index, 'anime_id'] = id\n",
    "        id += 1\n",
    "    else:\n",
    "        dataset.at[index, 'anime_id'] = anime_id_to_new_id.get(row['anime_id'])\n"
   ]
  },
  {
   "cell_type": "code",
   "execution_count": 10,
   "id": "51948206",
   "metadata": {},
   "outputs": [
    {
     "name": "stdout",
     "output_type": "stream",
     "text": [
      "CPU times: user 1min 6s, sys: 15.2 ms, total: 1min 6s\n",
      "Wall time: 1min 6s\n"
     ]
    }
   ],
   "source": [
    "%%time\n",
    "user_id_to_new_id = dict()\n",
    "id = 1\n",
    "for index, row in dataset.iterrows():\n",
    "    if user_id_to_new_id.get(row['user_id']) is None:\n",
    "        user_id_to_new_id[row['user_id']] = id\n",
    "        dataset.at[index, 'user_id'] = id\n",
    "        id += 1\n",
    "    else:\n",
    "        dataset.at[index, 'user_id'] = user_id_to_new_id.get(row['user_id'])\n"
   ]
  },
  {
   "cell_type": "code",
   "execution_count": 11,
   "id": "321d7044",
   "metadata": {},
   "outputs": [
    {
     "data": {
      "text/html": [
       "<div>\n",
       "<style scoped>\n",
       "    .dataframe tbody tr th:only-of-type {\n",
       "        vertical-align: middle;\n",
       "    }\n",
       "\n",
       "    .dataframe tbody tr th {\n",
       "        vertical-align: top;\n",
       "    }\n",
       "\n",
       "    .dataframe thead th {\n",
       "        text-align: right;\n",
       "    }\n",
       "</style>\n",
       "<table border=\"1\" class=\"dataframe\">\n",
       "  <thead>\n",
       "    <tr style=\"text-align: right;\">\n",
       "      <th></th>\n",
       "      <th>user_id</th>\n",
       "      <th>anime_id</th>\n",
       "      <th>rating</th>\n",
       "    </tr>\n",
       "  </thead>\n",
       "  <tbody>\n",
       "    <tr>\n",
       "      <th>3</th>\n",
       "      <td>1</td>\n",
       "      <td>1</td>\n",
       "      <td>10</td>\n",
       "    </tr>\n",
       "    <tr>\n",
       "      <th>4</th>\n",
       "      <td>1</td>\n",
       "      <td>2</td>\n",
       "      <td>9</td>\n",
       "    </tr>\n",
       "    <tr>\n",
       "      <th>0</th>\n",
       "      <td>1</td>\n",
       "      <td>3</td>\n",
       "      <td>9</td>\n",
       "    </tr>\n",
       "    <tr>\n",
       "      <th>9</th>\n",
       "      <td>1</td>\n",
       "      <td>4</td>\n",
       "      <td>6</td>\n",
       "    </tr>\n",
       "    <tr>\n",
       "      <th>14</th>\n",
       "      <td>1</td>\n",
       "      <td>5</td>\n",
       "      <td>9</td>\n",
       "    </tr>\n",
       "    <tr>\n",
       "      <th>...</th>\n",
       "      <td>...</td>\n",
       "      <td>...</td>\n",
       "      <td>...</td>\n",
       "    </tr>\n",
       "    <tr>\n",
       "      <th>822308</th>\n",
       "      <td>4035</td>\n",
       "      <td>323</td>\n",
       "      <td>8</td>\n",
       "    </tr>\n",
       "    <tr>\n",
       "      <th>822416</th>\n",
       "      <td>4035</td>\n",
       "      <td>1486</td>\n",
       "      <td>7</td>\n",
       "    </tr>\n",
       "    <tr>\n",
       "      <th>822372</th>\n",
       "      <td>4035</td>\n",
       "      <td>1286</td>\n",
       "      <td>9</td>\n",
       "    </tr>\n",
       "    <tr>\n",
       "      <th>822305</th>\n",
       "      <td>4035</td>\n",
       "      <td>1302</td>\n",
       "      <td>7</td>\n",
       "    </tr>\n",
       "    <tr>\n",
       "      <th>822356</th>\n",
       "      <td>4035</td>\n",
       "      <td>1098</td>\n",
       "      <td>7</td>\n",
       "    </tr>\n",
       "  </tbody>\n",
       "</table>\n",
       "<p>822418 rows × 3 columns</p>\n",
       "</div>"
      ],
      "text/plain": [
       "        user_id  anime_id  rating\n",
       "3             1         1      10\n",
       "4             1         2       9\n",
       "0             1         3       9\n",
       "9             1         4       6\n",
       "14            1         5       9\n",
       "...         ...       ...     ...\n",
       "822308     4035       323       8\n",
       "822416     4035      1486       7\n",
       "822372     4035      1286       9\n",
       "822305     4035      1302       7\n",
       "822356     4035      1098       7\n",
       "\n",
       "[822418 rows x 3 columns]"
      ]
     },
     "execution_count": 11,
     "metadata": {},
     "output_type": "execute_result"
    }
   ],
   "source": [
    "dataset"
   ]
  },
  {
   "cell_type": "code",
   "execution_count": 12,
   "id": "56d1220c",
   "metadata": {},
   "outputs": [
    {
     "name": "stdout",
     "output_type": "stream",
     "text": [
      "Number of movies 12106\n",
      "Number of users 4035\n"
     ]
    }
   ],
   "source": [
    "num_users = len(dataset.user_id.unique())\n",
    "num_animes = len(dataset.anime_id.unique())\n",
    "train, test = train_test_split(dataset, test_size=0.2)\n",
    "\n",
    "print('Number of movies', num_animes)\n",
    "print('Number of users', num_users)"
   ]
  },
  {
   "cell_type": "code",
   "execution_count": 13,
   "id": "6115bc6d",
   "metadata": {},
   "outputs": [
    {
     "name": "stdout",
     "output_type": "stream",
     "text": [
      "train shape:  (657934, 3)\n",
      "test shape:  (164484, 3)\n"
     ]
    }
   ],
   "source": [
    "print('train shape: ', train.shape)\n",
    "print('test shape: ', test.shape)"
   ]
  },
  {
   "cell_type": "markdown",
   "id": "3ae6c405",
   "metadata": {},
   "source": [
    "# Multi-layer Perceptron"
   ]
  },
  {
   "cell_type": "code",
   "execution_count": 14,
   "id": "278fec76",
   "metadata": {},
   "outputs": [
    {
     "name": "stderr",
     "output_type": "stream",
     "text": [
      "2021-08-30 10:48:19.798383: W tensorflow/stream_executor/platform/default/dso_loader.cc:64] Could not load dynamic library 'libcuda.so.1'; dlerror: libcuda.so.1: cannot open shared object file: No such file or directory\n",
      "2021-08-30 10:48:19.798459: W tensorflow/stream_executor/cuda/cuda_driver.cc:269] failed call to cuInit: UNKNOWN ERROR (303)\n",
      "2021-08-30 10:48:19.798497: I tensorflow/stream_executor/cuda/cuda_diagnostics.cc:156] kernel driver does not appear to be running on this host (DESKTOP-TVGBETP): /proc/driver/nvidia/version does not exist\n",
      "2021-08-30 10:48:19.798810: I tensorflow/core/platform/cpu_feature_guard.cc:142] This TensorFlow binary is optimized with oneAPI Deep Neural Network Library (oneDNN) to use the following CPU instructions in performance-critical operations:  AVX2 FMA\n",
      "To enable them in other operations, rebuild TensorFlow with the appropriate compiler flags.\n"
     ]
    }
   ],
   "source": [
    "from keras.layers import  BatchNormalization\n",
    "\n",
    "latent_dim = 10\n",
    "\n",
    "# Define inputs\n",
    "anime_input = Input(shape=[1],name='anime-input')\n",
    "user_input = Input(shape=[1], name='user-input')\n",
    "\n",
    "# MLP Embeddings\n",
    "anime_embedding_mlp = Embedding(num_animes + 1, latent_dim, name='anime-embedding-mlp')(anime_input)\n",
    "anime_vec_mlp = Flatten(name='flatten-anime-mlp')(anime_embedding_mlp)\n",
    "\n",
    "user_embedding_mlp = Embedding(num_users + 1, latent_dim, name='user-embedding-mlp')(user_input)\n",
    "user_vec_mlp = Flatten(name='flatten-user-mlp')(user_embedding_mlp)\n",
    "\n",
    "# MF Embeddings\n",
    "anime_embedding_mf = Embedding(num_animes + 1, latent_dim, name='anime-embedding-mf')(anime_input)\n",
    "anime_vec_mf = Flatten(name='flatten-anime-mf')(anime_embedding_mf)\n",
    "\n",
    "user_embedding_mf = Embedding(num_users + 1, latent_dim, name='user-embedding-mf')(user_input)\n",
    "user_vec_mf = Flatten(name='flatten-user-mf')(user_embedding_mf)\n"
   ]
  },
  {
   "cell_type": "code",
   "execution_count": 18,
   "id": "36d52991",
   "metadata": {},
   "outputs": [],
   "source": [
    "\n",
    "# MLP layers\n",
    "concat = concatenate([anime_vec_mlp, user_vec_mlp], axis=1, name='concat')\n",
    "concat_dropout = Dropout(0.2)(concat)\n",
    "fc_1 = Dense(100, name='fc-1', activation='relu')(concat_dropout)\n",
    "fc_1_bn = BatchNormalization(name='batch-norm-1')(fc_1)\n",
    "fc_1_dropout = Dropout(0.2)(fc_1_bn)\n",
    "fc_2 = Dense(50, name='fc-2', activation='relu')(fc_1_dropout)\n",
    "fc_2_bn = BatchNormalization(name='batch-norm-2')(fc_2)\n",
    "fc_2_dropout = Dropout(0.2)(fc_2_bn)\n",
    "\n",
    "# Prediction from both layers\n",
    "pred_mlp = Dense(10, name='pred-mlp', activation='relu')(fc_2_dropout)\n",
    "pred_mf = dot([anime_vec_mf, user_vec_mf], axes=1, normalize=False, name='pred-mf')\n",
    "combine_mlp_mf = concatenate([pred_mf, pred_mlp], axis=1, name='combine-mlp-mf')\n",
    "\n",
    "# Final prediction\n",
    "result = Dense(1, name='result', activation='relu')(combine_mlp_mf)\n",
    "\n",
    "model = Model([user_input, anime_input], result)\n",
    "model.compile(Adam(learning_rate=0.01), loss='mean_absolute_error')\n",
    "\n"
   ]
  },
  {
   "cell_type": "code",
   "execution_count": 19,
   "id": "5af20ff1",
   "metadata": {},
   "outputs": [
    {
     "name": "stdout",
     "output_type": "stream",
     "text": [
      "Epoch 1/3\n",
      "20561/20561 [==============================] - 148s 7ms/step - loss: 1.0966\n",
      "Epoch 2/3\n",
      "20561/20561 [==============================] - 141s 7ms/step - loss: 1.0048\n",
      "Epoch 3/3\n",
      "20561/20561 [==============================] - 140s 7ms/step - loss: 0.9564\n"
     ]
    },
    {
     "data": {
      "image/png": "[encoded data removed]",
      "text/plain": [
       "<Figure size 432x288 with 1 Axes>"
      ]
     },
     "metadata": {
      "needs_background": "light"
     },
     "output_type": "display_data"
    },
    {
     "data": {
      "text/plain": [
       "0.9641167573486404"
      ]
     },
     "execution_count": 19,
     "metadata": {},
     "output_type": "execute_result"
    }
   ],
   "source": [
    "history = model.fit([train.user_id, train.anime_id], train.rating, epochs=3)\n",
    "pd.Series(history.history['loss']).plot(logy=True)\n",
    "plt.xlabel(\"Epoch\")\n",
    "plt.ylabel(\"Train Error\")\n",
    "plt.show()\n",
    "\n",
    "y_hat = np.round(model.predict([test.user_id, test.anime_id]), decimals=2)\n",
    "y_true = test.rating\n",
    "mean_absolute_error(y_true, y_hat)"
   ]
  },
  {
   "cell_type": "code",
   "execution_count": null,
   "id": "bedf6a9b",
   "metadata": {},
   "outputs": [],
   "source": []
  }
 ],
 "metadata": {
  "kernelspec": {
   "display_name": "anime_map",
   "language": "python",
   "name": "anime_map"
  },
  "language_info": {
   "codemirror_mode": {
    "name": "ipython",
    "version": 3
   },
   "file_extension": ".py",
   "mimetype": "text/x-python",
   "name": "python",
   "nbconvert_exporter": "python",
   "pygments_lexer": "ipython3",
   "version": "3.8.6"
  },
  "toc": {
   "base_numbering": 1,
   "nav_menu": {},
   "number_sections": true,
   "sideBar": true,
   "skip_h1_title": false,
   "title_cell": "Table of Contents",
   "title_sidebar": "Contents",
   "toc_cell": false,
   "toc_position": {
    "height": "calc(100% - 180px)",
    "left": "10px",
    "top": "150px",
    "width": "256px"
   },
   "toc_section_display": true,
   "toc_window_display": true
  }
 },
 "nbformat": 4,
 "nbformat_minor": 5
}
