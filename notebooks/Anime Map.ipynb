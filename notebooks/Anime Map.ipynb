{
 "cells": [
  {
   "cell_type": "markdown",
   "id": "49cbc9ea",
   "metadata": {},
   "source": [
    "# Imports"
   ]
  },
  {
   "cell_type": "code",
   "execution_count": 1,
   "id": "d793e244",
   "metadata": {},
   "outputs": [],
   "source": [
    "import pandas as pd\n",
    "import numpy as np\n",
    "import seaborn as sns\n",
    "import matplotlib.pyplot as plt"
   ]
  },
  {
   "cell_type": "code",
   "execution_count": 2,
   "id": "98e64906",
   "metadata": {},
   "outputs": [],
   "source": [
    "# necessary to see all columns and also show all rows in .explode() function\n",
    "pd.set_option('display.max_columns', None)\n",
    "pd.set_option('display.max_rows', None)"
   ]
  },
  {
   "cell_type": "markdown",
   "id": "d0127230",
   "metadata": {},
   "source": [
    "# First exploration"
   ]
  },
  {
   "cell_type": "code",
   "execution_count": 2,
   "id": "4593382d",
   "metadata": {},
   "outputs": [],
   "source": [
    "anime_df = pd.read_csv('../raw_data/anime.csv')\n",
    "users_anime_df = pd.read_csv('../raw_data/animelist.csv')\n",
    "#watching_status_df = pd.read_csv('../raw_data/watching_status.csv')\n",
    "#rating_complete_df = pd.read_csv('../raw_data/rating_complete.csv')"
   ]
  },
  {
   "cell_type": "code",
   "execution_count": 3,
   "id": "1e39a57a",
   "metadata": {},
   "outputs": [
    {
     "data": {
      "text/html": [
       "<div>\n",
       "<style scoped>\n",
       "    .dataframe tbody tr th:only-of-type {\n",
       "        vertical-align: middle;\n",
       "    }\n",
       "\n",
       "    .dataframe tbody tr th {\n",
       "        vertical-align: top;\n",
       "    }\n",
       "\n",
       "    .dataframe thead th {\n",
       "        text-align: right;\n",
       "    }\n",
       "</style>\n",
       "<table border=\"1\" class=\"dataframe\">\n",
       "  <thead>\n",
       "    <tr style=\"text-align: right;\">\n",
       "      <th></th>\n",
       "      <th>MAL_ID</th>\n",
       "      <th>Name</th>\n",
       "      <th>Score</th>\n",
       "      <th>Genres</th>\n",
       "      <th>English name</th>\n",
       "      <th>Japanese name</th>\n",
       "      <th>Type</th>\n",
       "      <th>Episodes</th>\n",
       "      <th>Aired</th>\n",
       "      <th>Premiered</th>\n",
       "      <th>...</th>\n",
       "      <th>Score-10</th>\n",
       "      <th>Score-9</th>\n",
       "      <th>Score-8</th>\n",
       "      <th>Score-7</th>\n",
       "      <th>Score-6</th>\n",
       "      <th>Score-5</th>\n",
       "      <th>Score-4</th>\n",
       "      <th>Score-3</th>\n",
       "      <th>Score-2</th>\n",
       "      <th>Score-1</th>\n",
       "    </tr>\n",
       "  </thead>\n",
       "  <tbody>\n",
       "    <tr>\n",
       "      <th>0</th>\n",
       "      <td>1</td>\n",
       "      <td>Cowboy Bebop</td>\n",
       "      <td>8.78</td>\n",
       "      <td>Action, Adventure, Comedy, Drama, Sci-Fi, Space</td>\n",
       "      <td>Cowboy Bebop</td>\n",
       "      <td>カウボーイビバップ</td>\n",
       "      <td>TV</td>\n",
       "      <td>26</td>\n",
       "      <td>Apr 3, 1998 to Apr 24, 1999</td>\n",
       "      <td>Spring 1998</td>\n",
       "      <td>...</td>\n",
       "      <td>229170.0</td>\n",
       "      <td>182126.0</td>\n",
       "      <td>131625.0</td>\n",
       "      <td>62330.0</td>\n",
       "      <td>20688.0</td>\n",
       "      <td>8904.0</td>\n",
       "      <td>3184.0</td>\n",
       "      <td>1357.0</td>\n",
       "      <td>741.0</td>\n",
       "      <td>1580.0</td>\n",
       "    </tr>\n",
       "    <tr>\n",
       "      <th>1</th>\n",
       "      <td>5</td>\n",
       "      <td>Cowboy Bebop: Tengoku no Tobira</td>\n",
       "      <td>8.39</td>\n",
       "      <td>Action, Drama, Mystery, Sci-Fi, Space</td>\n",
       "      <td>Cowboy Bebop:The Movie</td>\n",
       "      <td>カウボーイビバップ 天国の扉</td>\n",
       "      <td>Movie</td>\n",
       "      <td>1</td>\n",
       "      <td>Sep 1, 2001</td>\n",
       "      <td>Unknown</td>\n",
       "      <td>...</td>\n",
       "      <td>30043.0</td>\n",
       "      <td>49201.0</td>\n",
       "      <td>49505.0</td>\n",
       "      <td>22632.0</td>\n",
       "      <td>5805.0</td>\n",
       "      <td>1877.0</td>\n",
       "      <td>577.0</td>\n",
       "      <td>221.0</td>\n",
       "      <td>109.0</td>\n",
       "      <td>379.0</td>\n",
       "    </tr>\n",
       "    <tr>\n",
       "      <th>2</th>\n",
       "      <td>6</td>\n",
       "      <td>Trigun</td>\n",
       "      <td>8.24</td>\n",
       "      <td>Action, Sci-Fi, Adventure, Comedy, Drama, Shounen</td>\n",
       "      <td>Trigun</td>\n",
       "      <td>トライガン</td>\n",
       "      <td>TV</td>\n",
       "      <td>26</td>\n",
       "      <td>Apr 1, 1998 to Sep 30, 1998</td>\n",
       "      <td>Spring 1998</td>\n",
       "      <td>...</td>\n",
       "      <td>50229.0</td>\n",
       "      <td>75651.0</td>\n",
       "      <td>86142.0</td>\n",
       "      <td>49432.0</td>\n",
       "      <td>15376.0</td>\n",
       "      <td>5838.0</td>\n",
       "      <td>1965.0</td>\n",
       "      <td>664.0</td>\n",
       "      <td>316.0</td>\n",
       "      <td>533.0</td>\n",
       "    </tr>\n",
       "    <tr>\n",
       "      <th>3</th>\n",
       "      <td>7</td>\n",
       "      <td>Witch Hunter Robin</td>\n",
       "      <td>7.27</td>\n",
       "      <td>Action, Mystery, Police, Supernatural, Drama, ...</td>\n",
       "      <td>Witch Hunter Robin</td>\n",
       "      <td>Witch Hunter ROBIN (ウイッチハンターロビン)</td>\n",
       "      <td>TV</td>\n",
       "      <td>26</td>\n",
       "      <td>Jul 2, 2002 to Dec 24, 2002</td>\n",
       "      <td>Summer 2002</td>\n",
       "      <td>...</td>\n",
       "      <td>2182.0</td>\n",
       "      <td>4806.0</td>\n",
       "      <td>10128.0</td>\n",
       "      <td>11618.0</td>\n",
       "      <td>5709.0</td>\n",
       "      <td>2920.0</td>\n",
       "      <td>1083.0</td>\n",
       "      <td>353.0</td>\n",
       "      <td>164.0</td>\n",
       "      <td>131.0</td>\n",
       "    </tr>\n",
       "    <tr>\n",
       "      <th>4</th>\n",
       "      <td>8</td>\n",
       "      <td>Bouken Ou Beet</td>\n",
       "      <td>6.98</td>\n",
       "      <td>Adventure, Fantasy, Shounen, Supernatural</td>\n",
       "      <td>Beet the Vandel Buster</td>\n",
       "      <td>冒険王ビィト</td>\n",
       "      <td>TV</td>\n",
       "      <td>52</td>\n",
       "      <td>Sep 30, 2004 to Sep 29, 2005</td>\n",
       "      <td>Fall 2004</td>\n",
       "      <td>...</td>\n",
       "      <td>312.0</td>\n",
       "      <td>529.0</td>\n",
       "      <td>1242.0</td>\n",
       "      <td>1713.0</td>\n",
       "      <td>1068.0</td>\n",
       "      <td>634.0</td>\n",
       "      <td>265.0</td>\n",
       "      <td>83.0</td>\n",
       "      <td>50.0</td>\n",
       "      <td>27.0</td>\n",
       "    </tr>\n",
       "  </tbody>\n",
       "</table>\n",
       "<p>5 rows × 35 columns</p>\n",
       "</div>"
      ],
      "text/plain": [
       "   MAL_ID                             Name Score  \\\n",
       "0       1                     Cowboy Bebop  8.78   \n",
       "1       5  Cowboy Bebop: Tengoku no Tobira  8.39   \n",
       "2       6                           Trigun  8.24   \n",
       "3       7               Witch Hunter Robin  7.27   \n",
       "4       8                   Bouken Ou Beet  6.98   \n",
       "\n",
       "                                              Genres            English name  \\\n",
       "0    Action, Adventure, Comedy, Drama, Sci-Fi, Space            Cowboy Bebop   \n",
       "1              Action, Drama, Mystery, Sci-Fi, Space  Cowboy Bebop:The Movie   \n",
       "2  Action, Sci-Fi, Adventure, Comedy, Drama, Shounen                  Trigun   \n",
       "3  Action, Mystery, Police, Supernatural, Drama, ...      Witch Hunter Robin   \n",
       "4          Adventure, Fantasy, Shounen, Supernatural  Beet the Vandel Buster   \n",
       "\n",
       "                      Japanese name   Type Episodes  \\\n",
       "0                         カウボーイビバップ     TV       26   \n",
       "1                    カウボーイビバップ 天国の扉  Movie        1   \n",
       "2                             トライガン     TV       26   \n",
       "3  Witch Hunter ROBIN (ウイッチハンターロビン)     TV       26   \n",
       "4                            冒険王ビィト     TV       52   \n",
       "\n",
       "                          Aired    Premiered  ...  Score-10   Score-9  \\\n",
       "0   Apr 3, 1998 to Apr 24, 1999  Spring 1998  ...  229170.0  182126.0   \n",
       "1                   Sep 1, 2001      Unknown  ...   30043.0   49201.0   \n",
       "2   Apr 1, 1998 to Sep 30, 1998  Spring 1998  ...   50229.0   75651.0   \n",
       "3   Jul 2, 2002 to Dec 24, 2002  Summer 2002  ...    2182.0    4806.0   \n",
       "4  Sep 30, 2004 to Sep 29, 2005    Fall 2004  ...     312.0     529.0   \n",
       "\n",
       "    Score-8  Score-7  Score-6 Score-5 Score-4  Score-3  Score-2  Score-1  \n",
       "0  131625.0  62330.0  20688.0  8904.0  3184.0   1357.0    741.0   1580.0  \n",
       "1   49505.0  22632.0   5805.0  1877.0   577.0    221.0    109.0    379.0  \n",
       "2   86142.0  49432.0  15376.0  5838.0  1965.0    664.0    316.0    533.0  \n",
       "3   10128.0  11618.0   5709.0  2920.0  1083.0    353.0    164.0    131.0  \n",
       "4    1242.0   1713.0   1068.0   634.0   265.0     83.0     50.0     27.0  \n",
       "\n",
       "[5 rows x 35 columns]"
      ]
     },
     "execution_count": 3,
     "metadata": {},
     "output_type": "execute_result"
    }
   ],
   "source": [
    "anime_df.head()"
   ]
  },
  {
   "cell_type": "code",
   "execution_count": 4,
   "id": "070ac6db",
   "metadata": {},
   "outputs": [
    {
     "data": {
      "text/html": [
       "<div>\n",
       "<style scoped>\n",
       "    .dataframe tbody tr th:only-of-type {\n",
       "        vertical-align: middle;\n",
       "    }\n",
       "\n",
       "    .dataframe tbody tr th {\n",
       "        vertical-align: top;\n",
       "    }\n",
       "\n",
       "    .dataframe thead th {\n",
       "        text-align: right;\n",
       "    }\n",
       "</style>\n",
       "<table border=\"1\" class=\"dataframe\">\n",
       "  <thead>\n",
       "    <tr style=\"text-align: right;\">\n",
       "      <th></th>\n",
       "      <th>user_id</th>\n",
       "      <th>anime_id</th>\n",
       "      <th>rating</th>\n",
       "      <th>watching_status</th>\n",
       "      <th>watched_episodes</th>\n",
       "    </tr>\n",
       "  </thead>\n",
       "  <tbody>\n",
       "    <tr>\n",
       "      <th>0</th>\n",
       "      <td>0</td>\n",
       "      <td>67</td>\n",
       "      <td>9</td>\n",
       "      <td>1</td>\n",
       "      <td>1</td>\n",
       "    </tr>\n",
       "    <tr>\n",
       "      <th>1</th>\n",
       "      <td>0</td>\n",
       "      <td>6702</td>\n",
       "      <td>7</td>\n",
       "      <td>1</td>\n",
       "      <td>4</td>\n",
       "    </tr>\n",
       "    <tr>\n",
       "      <th>2</th>\n",
       "      <td>0</td>\n",
       "      <td>242</td>\n",
       "      <td>10</td>\n",
       "      <td>1</td>\n",
       "      <td>4</td>\n",
       "    </tr>\n",
       "    <tr>\n",
       "      <th>3</th>\n",
       "      <td>0</td>\n",
       "      <td>4898</td>\n",
       "      <td>0</td>\n",
       "      <td>1</td>\n",
       "      <td>1</td>\n",
       "    </tr>\n",
       "    <tr>\n",
       "      <th>4</th>\n",
       "      <td>0</td>\n",
       "      <td>21</td>\n",
       "      <td>10</td>\n",
       "      <td>1</td>\n",
       "      <td>0</td>\n",
       "    </tr>\n",
       "  </tbody>\n",
       "</table>\n",
       "</div>"
      ],
      "text/plain": [
       "   user_id  anime_id  rating  watching_status  watched_episodes\n",
       "0        0        67       9                1                 1\n",
       "1        0      6702       7                1                 4\n",
       "2        0       242      10                1                 4\n",
       "3        0      4898       0                1                 1\n",
       "4        0        21      10                1                 0"
      ]
     },
     "execution_count": 4,
     "metadata": {},
     "output_type": "execute_result"
    }
   ],
   "source": [
    "users_anime_df.head()"
   ]
  },
  {
   "cell_type": "code",
   "execution_count": 6,
   "id": "66fd1151",
   "metadata": {},
   "outputs": [
    {
     "data": {
      "text/plain": [
       "(109224747, 5)"
      ]
     },
     "execution_count": 6,
     "metadata": {},
     "output_type": "execute_result"
    }
   ],
   "source": [
    "users_anime_df.shape"
   ]
  },
  {
   "cell_type": "code",
   "execution_count": 5,
   "id": "ab1781d0",
   "metadata": {
    "scrolled": false
   },
   "outputs": [
    {
     "data": {
      "text/plain": [
       "(17562, 35)"
      ]
     },
     "execution_count": 5,
     "metadata": {},
     "output_type": "execute_result"
    }
   ],
   "source": [
    "# remove all anime_df entries with \"hentai\" in genre column (+ check Yuri / Yaoi sub-genres removal)\n",
    "anime_df.shape"
   ]
  },
  {
   "cell_type": "markdown",
   "id": "1aa1d427",
   "metadata": {},
   "source": [
    "# Drop duplicates "
   ]
  },
  {
   "cell_type": "code",
   "execution_count": 8,
   "id": "eefa4be4",
   "metadata": {},
   "outputs": [
    {
     "data": {
      "text/plain": [
       "0"
      ]
     },
     "execution_count": 8,
     "metadata": {},
     "output_type": "execute_result"
    }
   ],
   "source": [
    "#anime_df.duplicated().sum()"
   ]
  },
  {
   "cell_type": "code",
   "execution_count": 9,
   "id": "ae174632",
   "metadata": {},
   "outputs": [
    {
     "data": {
      "text/plain": [
       "1"
      ]
     },
     "execution_count": 9,
     "metadata": {},
     "output_type": "execute_result"
    }
   ],
   "source": [
    "#users_anime_df.duplicated().sum()"
   ]
  },
  {
   "cell_type": "markdown",
   "id": "2fe9a81f",
   "metadata": {},
   "source": [
    "# Remove columns  in anime_df "
   ]
  },
  {
   "cell_type": "code",
   "execution_count": null,
   "id": "5cf43813",
   "metadata": {},
   "outputs": [],
   "source": [
    "# First intent:\n",
    "# drop columns (and do that earlier): ['Premiered', 'Producers', 'Licensors', 'Ranked', 'Popularity', 'Members']\n",
    "# keep: ['Source', 'Rating']\n",
    "\n",
    "# analyze after: ['Studios', \"Sources\"]"
   ]
  },
  {
   "cell_type": "code",
   "execution_count": null,
   "id": "04b2ec31",
   "metadata": {},
   "outputs": [],
   "source": [
    "# second intent: only keep a few columns"
   ]
  },
  {
   "cell_type": "code",
   "execution_count": 15,
   "id": "5445c020",
   "metadata": {},
   "outputs": [
    {
     "data": {
      "text/plain": [
       "Index(['MAL_ID', 'Name', 'Score', 'Genres', 'English name', 'Japanese name',\n",
       "       'Type', 'Episodes', 'Aired', 'Premiered', 'Producers', 'Licensors',\n",
       "       'Studios', 'Source', 'Duration', 'Rating', 'Ranked', 'Popularity',\n",
       "       'Members', 'Favorites', 'Watching', 'Completed', 'On-Hold', 'Dropped',\n",
       "       'Plan to Watch', 'Score-10', 'Score-9', 'Score-8', 'Score-7', 'Score-6',\n",
       "       'Score-5', 'Score-4', 'Score-3', 'Score-2', 'Score-1'],\n",
       "      dtype='object')"
      ]
     },
     "execution_count": 15,
     "metadata": {},
     "output_type": "execute_result"
    }
   ],
   "source": [
    "anime_df.columns"
   ]
  },
  {
   "cell_type": "code",
   "execution_count": 16,
   "id": "53c24ecf",
   "metadata": {},
   "outputs": [
    {
     "data": {
      "text/plain": [
       "TV         4996\n",
       "OVA        3894\n",
       "Movie      3041\n",
       "Special    2218\n",
       "ONA        1907\n",
       "Music      1469\n",
       "Unknown      37\n",
       "Name: Type, dtype: int64"
      ]
     },
     "execution_count": 16,
     "metadata": {},
     "output_type": "execute_result"
    }
   ],
   "source": [
    "anime_df.Type.value_counts()"
   ]
  },
  {
   "cell_type": "code",
   "execution_count": 17,
   "id": "74d040f9",
   "metadata": {},
   "outputs": [
    {
     "data": {
      "text/plain": [
       "Unknown                         309\n",
       "2005                             57\n",
       "2004                             49\n",
       "2021 to ?                        46\n",
       "2003                             46\n",
       "                               ... \n",
       "Dec 18, 2009 to Jul 26, 2010      1\n",
       "Dec 26, 2009                      1\n",
       "Apr 5, 1993 to Jan 27, 1994       1\n",
       "Jan 25, 1992                      1\n",
       "Mar 17, 2021 to ?                 1\n",
       "Name: Aired, Length: 11947, dtype: int64"
      ]
     },
     "execution_count": 17,
     "metadata": {},
     "output_type": "execute_result"
    }
   ],
   "source": [
    "anime_df.Aired.value_counts()"
   ]
  },
  {
   "cell_type": "code",
   "execution_count": 18,
   "id": "0fca0854",
   "metadata": {},
   "outputs": [
    {
     "data": {
      "text/plain": [
       "Original         5215\n",
       "Manga            3825\n",
       "Unknown          3567\n",
       "Visual novel      993\n",
       "Game              880\n",
       "Light novel       768\n",
       "Other             597\n",
       "Novel             510\n",
       "Music             317\n",
       "4-koma manga      288\n",
       "Web manga         252\n",
       "Picture book      147\n",
       "Book              112\n",
       "Card game          64\n",
       "Digital manga      15\n",
       "Radio              12\n",
       "Name: Source, dtype: int64"
      ]
     },
     "execution_count": 18,
     "metadata": {},
     "output_type": "execute_result"
    }
   ],
   "source": [
    "anime_df.Source.value_counts()"
   ]
  },
  {
   "cell_type": "code",
   "execution_count": 19,
   "id": "c1fcd814",
   "metadata": {},
   "outputs": [
    {
     "data": {
      "text/plain": [
       "PG-13 - Teens 13 or older         6132\n",
       "G - All Ages                      5782\n",
       "PG - Children                     1461\n",
       "Rx - Hentai                       1345\n",
       "R - 17+ (violence & profanity)    1157\n",
       "R+ - Mild Nudity                   997\n",
       "Unknown                            688\n",
       "Name: Rating, dtype: int64"
      ]
     },
     "execution_count": 19,
     "metadata": {},
     "output_type": "execute_result"
    }
   ],
   "source": [
    "anime_df.Rating.value_counts()"
   ]
  },
  {
   "cell_type": "code",
   "execution_count": 11,
   "id": "4a3985f3",
   "metadata": {},
   "outputs": [],
   "source": [
    "# keep ['MAL_ID', 'Name', 'Genres', 'Types', 'Aired', 'Studios', 'Duration', 'Rating']"
   ]
  },
  {
   "cell_type": "code",
   "execution_count": 20,
   "id": "6cef078d",
   "metadata": {},
   "outputs": [],
   "source": [
    "anime_df_relevant = anime_df[['MAL_ID', 'Name', 'Genres', 'Type', 'Aired', 'Studios', 'Source', 'Duration', 'Rating']]"
   ]
  },
  {
   "cell_type": "code",
   "execution_count": 21,
   "id": "eb4b84fe",
   "metadata": {},
   "outputs": [
    {
     "data": {
      "text/html": [
       "<div>\n",
       "<style scoped>\n",
       "    .dataframe tbody tr th:only-of-type {\n",
       "        vertical-align: middle;\n",
       "    }\n",
       "\n",
       "    .dataframe tbody tr th {\n",
       "        vertical-align: top;\n",
       "    }\n",
       "\n",
       "    .dataframe thead th {\n",
       "        text-align: right;\n",
       "    }\n",
       "</style>\n",
       "<table border=\"1\" class=\"dataframe\">\n",
       "  <thead>\n",
       "    <tr style=\"text-align: right;\">\n",
       "      <th></th>\n",
       "      <th>MAL_ID</th>\n",
       "      <th>Name</th>\n",
       "      <th>Genres</th>\n",
       "      <th>Type</th>\n",
       "      <th>Aired</th>\n",
       "      <th>Studios</th>\n",
       "      <th>Source</th>\n",
       "      <th>Duration</th>\n",
       "      <th>Rating</th>\n",
       "    </tr>\n",
       "  </thead>\n",
       "  <tbody>\n",
       "    <tr>\n",
       "      <th>0</th>\n",
       "      <td>1</td>\n",
       "      <td>Cowboy Bebop</td>\n",
       "      <td>Action, Adventure, Comedy, Drama, Sci-Fi, Space</td>\n",
       "      <td>TV</td>\n",
       "      <td>Apr 3, 1998 to Apr 24, 1999</td>\n",
       "      <td>Sunrise</td>\n",
       "      <td>Original</td>\n",
       "      <td>24 min. per ep.</td>\n",
       "      <td>R - 17+ (violence &amp; profanity)</td>\n",
       "    </tr>\n",
       "    <tr>\n",
       "      <th>1</th>\n",
       "      <td>5</td>\n",
       "      <td>Cowboy Bebop: Tengoku no Tobira</td>\n",
       "      <td>Action, Drama, Mystery, Sci-Fi, Space</td>\n",
       "      <td>Movie</td>\n",
       "      <td>Sep 1, 2001</td>\n",
       "      <td>Bones</td>\n",
       "      <td>Original</td>\n",
       "      <td>1 hr. 55 min.</td>\n",
       "      <td>R - 17+ (violence &amp; profanity)</td>\n",
       "    </tr>\n",
       "    <tr>\n",
       "      <th>2</th>\n",
       "      <td>6</td>\n",
       "      <td>Trigun</td>\n",
       "      <td>Action, Sci-Fi, Adventure, Comedy, Drama, Shounen</td>\n",
       "      <td>TV</td>\n",
       "      <td>Apr 1, 1998 to Sep 30, 1998</td>\n",
       "      <td>Madhouse</td>\n",
       "      <td>Manga</td>\n",
       "      <td>24 min. per ep.</td>\n",
       "      <td>PG-13 - Teens 13 or older</td>\n",
       "    </tr>\n",
       "    <tr>\n",
       "      <th>3</th>\n",
       "      <td>7</td>\n",
       "      <td>Witch Hunter Robin</td>\n",
       "      <td>Action, Mystery, Police, Supernatural, Drama, ...</td>\n",
       "      <td>TV</td>\n",
       "      <td>Jul 2, 2002 to Dec 24, 2002</td>\n",
       "      <td>Sunrise</td>\n",
       "      <td>Original</td>\n",
       "      <td>25 min. per ep.</td>\n",
       "      <td>PG-13 - Teens 13 or older</td>\n",
       "    </tr>\n",
       "    <tr>\n",
       "      <th>4</th>\n",
       "      <td>8</td>\n",
       "      <td>Bouken Ou Beet</td>\n",
       "      <td>Adventure, Fantasy, Shounen, Supernatural</td>\n",
       "      <td>TV</td>\n",
       "      <td>Sep 30, 2004 to Sep 29, 2005</td>\n",
       "      <td>Toei Animation</td>\n",
       "      <td>Manga</td>\n",
       "      <td>23 min. per ep.</td>\n",
       "      <td>PG - Children</td>\n",
       "    </tr>\n",
       "    <tr>\n",
       "      <th>...</th>\n",
       "      <td>...</td>\n",
       "      <td>...</td>\n",
       "      <td>...</td>\n",
       "      <td>...</td>\n",
       "      <td>...</td>\n",
       "      <td>...</td>\n",
       "      <td>...</td>\n",
       "      <td>...</td>\n",
       "      <td>...</td>\n",
       "    </tr>\n",
       "    <tr>\n",
       "      <th>17557</th>\n",
       "      <td>48481</td>\n",
       "      <td>Daomu Biji Zhi Qinling Shen Shu</td>\n",
       "      <td>Adventure, Mystery, Supernatural</td>\n",
       "      <td>ONA</td>\n",
       "      <td>Apr 4, 2021 to ?</td>\n",
       "      <td>Unknown</td>\n",
       "      <td>Novel</td>\n",
       "      <td>Unknown</td>\n",
       "      <td>Unknown</td>\n",
       "    </tr>\n",
       "    <tr>\n",
       "      <th>17558</th>\n",
       "      <td>48483</td>\n",
       "      <td>Mieruko-chan</td>\n",
       "      <td>Comedy, Horror, Supernatural</td>\n",
       "      <td>TV</td>\n",
       "      <td>2021 to ?</td>\n",
       "      <td>Passione</td>\n",
       "      <td>Manga</td>\n",
       "      <td>Unknown</td>\n",
       "      <td>Unknown</td>\n",
       "    </tr>\n",
       "    <tr>\n",
       "      <th>17559</th>\n",
       "      <td>48488</td>\n",
       "      <td>Higurashi no Naku Koro ni Sotsu</td>\n",
       "      <td>Mystery, Dementia, Horror, Psychological, Supe...</td>\n",
       "      <td>TV</td>\n",
       "      <td>Jul, 2021 to ?</td>\n",
       "      <td>Unknown</td>\n",
       "      <td>Visual novel</td>\n",
       "      <td>Unknown</td>\n",
       "      <td>R - 17+ (violence &amp; profanity)</td>\n",
       "    </tr>\n",
       "    <tr>\n",
       "      <th>17560</th>\n",
       "      <td>48491</td>\n",
       "      <td>Yama no Susume: Next Summit</td>\n",
       "      <td>Adventure, Slice of Life, Comedy</td>\n",
       "      <td>TV</td>\n",
       "      <td>Unknown</td>\n",
       "      <td>8bit</td>\n",
       "      <td>Manga</td>\n",
       "      <td>Unknown</td>\n",
       "      <td>PG-13 - Teens 13 or older</td>\n",
       "    </tr>\n",
       "    <tr>\n",
       "      <th>17561</th>\n",
       "      <td>48492</td>\n",
       "      <td>Scarlet Nexus</td>\n",
       "      <td>Action, Fantasy</td>\n",
       "      <td>TV</td>\n",
       "      <td>Jul, 2021 to ?</td>\n",
       "      <td>Sunrise</td>\n",
       "      <td>Game</td>\n",
       "      <td>Unknown</td>\n",
       "      <td>Unknown</td>\n",
       "    </tr>\n",
       "  </tbody>\n",
       "</table>\n",
       "<p>17562 rows × 9 columns</p>\n",
       "</div>"
      ],
      "text/plain": [
       "       MAL_ID                             Name  \\\n",
       "0           1                     Cowboy Bebop   \n",
       "1           5  Cowboy Bebop: Tengoku no Tobira   \n",
       "2           6                           Trigun   \n",
       "3           7               Witch Hunter Robin   \n",
       "4           8                   Bouken Ou Beet   \n",
       "...       ...                              ...   \n",
       "17557   48481  Daomu Biji Zhi Qinling Shen Shu   \n",
       "17558   48483                     Mieruko-chan   \n",
       "17559   48488  Higurashi no Naku Koro ni Sotsu   \n",
       "17560   48491      Yama no Susume: Next Summit   \n",
       "17561   48492                    Scarlet Nexus   \n",
       "\n",
       "                                                  Genres   Type  \\\n",
       "0        Action, Adventure, Comedy, Drama, Sci-Fi, Space     TV   \n",
       "1                  Action, Drama, Mystery, Sci-Fi, Space  Movie   \n",
       "2      Action, Sci-Fi, Adventure, Comedy, Drama, Shounen     TV   \n",
       "3      Action, Mystery, Police, Supernatural, Drama, ...     TV   \n",
       "4              Adventure, Fantasy, Shounen, Supernatural     TV   \n",
       "...                                                  ...    ...   \n",
       "17557                   Adventure, Mystery, Supernatural    ONA   \n",
       "17558                       Comedy, Horror, Supernatural     TV   \n",
       "17559  Mystery, Dementia, Horror, Psychological, Supe...     TV   \n",
       "17560                   Adventure, Slice of Life, Comedy     TV   \n",
       "17561                                    Action, Fantasy     TV   \n",
       "\n",
       "                              Aired         Studios        Source  \\\n",
       "0       Apr 3, 1998 to Apr 24, 1999         Sunrise      Original   \n",
       "1                       Sep 1, 2001           Bones      Original   \n",
       "2       Apr 1, 1998 to Sep 30, 1998        Madhouse         Manga   \n",
       "3       Jul 2, 2002 to Dec 24, 2002         Sunrise      Original   \n",
       "4      Sep 30, 2004 to Sep 29, 2005  Toei Animation         Manga   \n",
       "...                             ...             ...           ...   \n",
       "17557              Apr 4, 2021 to ?         Unknown         Novel   \n",
       "17558                     2021 to ?        Passione         Manga   \n",
       "17559                Jul, 2021 to ?         Unknown  Visual novel   \n",
       "17560                       Unknown            8bit         Manga   \n",
       "17561                Jul, 2021 to ?         Sunrise          Game   \n",
       "\n",
       "              Duration                          Rating  \n",
       "0      24 min. per ep.  R - 17+ (violence & profanity)  \n",
       "1        1 hr. 55 min.  R - 17+ (violence & profanity)  \n",
       "2      24 min. per ep.       PG-13 - Teens 13 or older  \n",
       "3      25 min. per ep.       PG-13 - Teens 13 or older  \n",
       "4      23 min. per ep.                   PG - Children  \n",
       "...                ...                             ...  \n",
       "17557          Unknown                         Unknown  \n",
       "17558          Unknown                         Unknown  \n",
       "17559          Unknown  R - 17+ (violence & profanity)  \n",
       "17560          Unknown       PG-13 - Teens 13 or older  \n",
       "17561          Unknown                         Unknown  \n",
       "\n",
       "[17562 rows x 9 columns]"
      ]
     },
     "execution_count": 21,
     "metadata": {},
     "output_type": "execute_result"
    }
   ],
   "source": [
    "anime_df_relevant"
   ]
  },
  {
   "cell_type": "code",
   "execution_count": 22,
   "id": "03bf280b",
   "metadata": {},
   "outputs": [
    {
     "data": {
      "text/plain": [
       "Index(['MAL_ID', 'Name', 'Genres', 'Type', 'Aired', 'Studios', 'Source',\n",
       "       'Duration', 'Rating'],\n",
       "      dtype='object')"
      ]
     },
     "execution_count": 22,
     "metadata": {},
     "output_type": "execute_result"
    }
   ],
   "source": [
    "anime_df_relevant.columns"
   ]
  },
  {
   "cell_type": "markdown",
   "id": "61a451fe",
   "metadata": {},
   "source": [
    "# Remove R18 content in anime_df\n"
   ]
  },
  {
   "cell_type": "code",
   "execution_count": 23,
   "id": "4076c20f",
   "metadata": {},
   "outputs": [],
   "source": [
    "# adding _PG to the new df name for \"PG_rating\"\n",
    "anime_df_relevant_PG = anime_df_relevant[~anime_df_relevant.Genres.str.contains(\"Hentai\")]"
   ]
  },
  {
   "cell_type": "code",
   "execution_count": 24,
   "id": "85fe85b1",
   "metadata": {},
   "outputs": [],
   "source": [
    "anime_df_relevant_PG = anime_df_relevant_PG[~anime_df_relevant_PG.Genres.str.contains(\"Yuri\")]"
   ]
  },
  {
   "cell_type": "code",
   "execution_count": 25,
   "id": "3bd2bb1f",
   "metadata": {},
   "outputs": [],
   "source": [
    "anime_df_relevant_PG = anime_df_relevant_PG[~anime_df_relevant_PG.Genres.str.contains(\"Yaoi\")]"
   ]
  },
  {
   "cell_type": "code",
   "execution_count": 26,
   "id": "1e8949b5",
   "metadata": {},
   "outputs": [
    {
     "data": {
      "text/plain": [
       "Unknown                                   6157\n",
       "Toei Animation                             755\n",
       "Sunrise                                    479\n",
       "J.C.Staff                                  350\n",
       "Madhouse                                   323\n",
       "                                          ... \n",
       "Takahashi Studio, Suna Kouhou                1\n",
       "Sunrise, Bandai Visual                       1\n",
       "Production I.G, Welz Animation Studios       1\n",
       "Studio Pierrot, David Production             1\n",
       "Studio Kafka                                 1\n",
       "Name: Studios, Length: 1036, dtype: int64"
      ]
     },
     "execution_count": 26,
     "metadata": {},
     "output_type": "execute_result"
    }
   ],
   "source": [
    "anime_df_relevant_PG['Studios'].value_counts()"
   ]
  },
  {
   "cell_type": "code",
   "execution_count": 27,
   "id": "2abfa383",
   "metadata": {
    "scrolled": true
   },
   "outputs": [
    {
     "data": {
      "text/plain": [
       "1036"
      ]
     },
     "execution_count": 27,
     "metadata": {},
     "output_type": "execute_result"
    }
   ],
   "source": [
    "anime_df_relevant_PG['Studios'].nunique()"
   ]
  },
  {
   "cell_type": "code",
   "execution_count": 28,
   "id": "a5acfbc0",
   "metadata": {
    "scrolled": true
   },
   "outputs": [
    {
     "data": {
      "text/plain": [
       "array(['Original', 'Manga', 'Light novel', 'Game', 'Visual novel',\n",
       "       '4-koma manga', 'Novel', 'Unknown', 'Other', 'Picture book',\n",
       "       'Web manga', 'Music', 'Radio', 'Book', 'Card game',\n",
       "       'Digital manga'], dtype=object)"
      ]
     },
     "execution_count": 28,
     "metadata": {},
     "output_type": "execute_result"
    }
   ],
   "source": [
    "anime_df_relevant_PG['Source'].unique()"
   ]
  },
  {
   "cell_type": "code",
   "execution_count": 29,
   "id": "963f887f",
   "metadata": {},
   "outputs": [
    {
     "data": {
      "text/plain": [
       "Original         5085\n",
       "Manga            3499\n",
       "Unknown          3318\n",
       "Game              869\n",
       "Light novel       747\n",
       "Other             590\n",
       "Novel             505\n",
       "Visual novel      372\n",
       "Music             317\n",
       "4-koma manga      288\n",
       "Web manga         249\n",
       "Picture book      147\n",
       "Book              111\n",
       "Card game          64\n",
       "Radio              12\n",
       "Digital manga      10\n",
       "Name: Source, dtype: int64"
      ]
     },
     "execution_count": 29,
     "metadata": {},
     "output_type": "execute_result"
    }
   ],
   "source": [
    "anime_df_relevant_PG['Source'].value_counts()"
   ]
  },
  {
   "cell_type": "code",
   "execution_count": 30,
   "id": "d91849e1",
   "metadata": {
    "scrolled": true
   },
   "outputs": [
    {
     "data": {
      "text/plain": [
       "24 min. per ep.          1712\n",
       "23 min. per ep.          1058\n",
       "25 min. per ep.           826\n",
       "2 min.                    744\n",
       "Unknown                   549\n",
       "                         ... \n",
       "27 sec.                     1\n",
       "1 hr. 24 min. per ep.       1\n",
       "10 sec. per ep.             1\n",
       "3 sec.                      1\n",
       "55 sec. per ep.             1\n",
       "Name: Duration, Length: 313, dtype: int64"
      ]
     },
     "execution_count": 30,
     "metadata": {},
     "output_type": "execute_result"
    }
   ],
   "source": [
    "anime_df_relevant_PG['Duration'].value_counts()"
   ]
  },
  {
   "cell_type": "code",
   "execution_count": 31,
   "id": "5c0b3949",
   "metadata": {},
   "outputs": [
    {
     "data": {
      "text/plain": [
       "PG-13 - Teens 13 or older         6130\n",
       "G - All Ages                      5782\n",
       "PG - Children                     1461\n",
       "R - 17+ (violence & profanity)    1156\n",
       "R+ - Mild Nudity                   968\n",
       "Unknown                            686\n",
       "Name: Rating, dtype: int64"
      ]
     },
     "execution_count": 31,
     "metadata": {},
     "output_type": "execute_result"
    }
   ],
   "source": [
    "anime_df_relevant_PG['Rating'].value_counts()"
   ]
  },
  {
   "cell_type": "code",
   "execution_count": 32,
   "id": "d1587ce8",
   "metadata": {},
   "outputs": [],
   "source": [
    "# re-checking if hentai removal worked"
   ]
  },
  {
   "cell_type": "code",
   "execution_count": 33,
   "id": "f3496ada",
   "metadata": {},
   "outputs": [
    {
     "data": {
      "text/plain": [
       "False    16183\n",
       "Name: Genres, dtype: int64"
      ]
     },
     "execution_count": 33,
     "metadata": {},
     "output_type": "execute_result"
    }
   ],
   "source": [
    "anime_df_relevant_PG.Genres.str.contains(\"Hentai\").value_counts()"
   ]
  },
  {
   "cell_type": "code",
   "execution_count": 34,
   "id": "64517894",
   "metadata": {
    "scrolled": true
   },
   "outputs": [
    {
     "data": {
      "text/plain": [
       "False    16183\n",
       "Name: Genres, dtype: int64"
      ]
     },
     "execution_count": 34,
     "metadata": {},
     "output_type": "execute_result"
    }
   ],
   "source": [
    "anime_df_relevant_PG.Genres.str.contains(\"Yuri\").value_counts()"
   ]
  },
  {
   "cell_type": "code",
   "execution_count": 35,
   "id": "7b8e2ef5",
   "metadata": {},
   "outputs": [
    {
     "data": {
      "text/plain": [
       "False    16183\n",
       "Name: Genres, dtype: int64"
      ]
     },
     "execution_count": 35,
     "metadata": {},
     "output_type": "execute_result"
    }
   ],
   "source": [
    "anime_df_relevant_PG.Genres.str.contains(\"Yaoi\").value_counts()"
   ]
  },
  {
   "cell_type": "code",
   "execution_count": 36,
   "id": "2124a1f3",
   "metadata": {},
   "outputs": [],
   "source": [
    "# compare shapes"
   ]
  },
  {
   "cell_type": "code",
   "execution_count": 37,
   "id": "d2be4de1",
   "metadata": {},
   "outputs": [
    {
     "data": {
      "text/plain": [
       "(17562, 35)"
      ]
     },
     "execution_count": 37,
     "metadata": {},
     "output_type": "execute_result"
    }
   ],
   "source": [
    "anime_df.shape"
   ]
  },
  {
   "cell_type": "code",
   "execution_count": 38,
   "id": "87f1578a",
   "metadata": {
    "scrolled": true
   },
   "outputs": [
    {
     "data": {
      "text/plain": [
       "(16183, 9)"
      ]
     },
     "execution_count": 38,
     "metadata": {},
     "output_type": "execute_result"
    }
   ],
   "source": [
    "anime_df_relevant_PG.shape"
   ]
  },
  {
   "cell_type": "markdown",
   "id": "efb0bf05",
   "metadata": {},
   "source": [
    "# Check the missing values (Unknown, ...)"
   ]
  },
  {
   "cell_type": "code",
   "execution_count": null,
   "id": "4c869ff5",
   "metadata": {},
   "outputs": [],
   "source": []
  },
  {
   "cell_type": "code",
   "execution_count": 39,
   "id": "d1a8e8df",
   "metadata": {},
   "outputs": [
    {
     "data": {
      "text/html": [
       "<div>\n",
       "<style scoped>\n",
       "    .dataframe tbody tr th:only-of-type {\n",
       "        vertical-align: middle;\n",
       "    }\n",
       "\n",
       "    .dataframe tbody tr th {\n",
       "        vertical-align: top;\n",
       "    }\n",
       "\n",
       "    .dataframe thead th {\n",
       "        text-align: right;\n",
       "    }\n",
       "</style>\n",
       "<table border=\"1\" class=\"dataframe\">\n",
       "  <thead>\n",
       "    <tr style=\"text-align: right;\">\n",
       "      <th></th>\n",
       "      <th>MAL_ID</th>\n",
       "      <th>Name</th>\n",
       "      <th>Genres</th>\n",
       "      <th>Type</th>\n",
       "      <th>Aired</th>\n",
       "      <th>Studios</th>\n",
       "      <th>Source</th>\n",
       "      <th>Duration</th>\n",
       "      <th>Rating</th>\n",
       "    </tr>\n",
       "  </thead>\n",
       "  <tbody>\n",
       "    <tr>\n",
       "      <th>192</th>\n",
       "      <td>215</td>\n",
       "      <td>Pia Carrot e Youkoso!! 2 DX</td>\n",
       "      <td>Comedy, Romance</td>\n",
       "      <td>OVA</td>\n",
       "      <td>Dec 18, 1999 to Oct 25, 2000</td>\n",
       "      <td>Unknown</td>\n",
       "      <td>Visual novel</td>\n",
       "      <td>28 min. per ep.</td>\n",
       "      <td>PG-13 - Teens 13 or older</td>\n",
       "    </tr>\n",
       "    <tr>\n",
       "      <th>288</th>\n",
       "      <td>312</td>\n",
       "      <td>Ace wo Nerae!: Final Stage</td>\n",
       "      <td>Action, Drama, Sports</td>\n",
       "      <td>OVA</td>\n",
       "      <td>Oct 25, 1989 to Apr 25, 1990</td>\n",
       "      <td>Unknown</td>\n",
       "      <td>Unknown</td>\n",
       "      <td>24 min. per ep.</td>\n",
       "      <td>PG-13 - Teens 13 or older</td>\n",
       "    </tr>\n",
       "    <tr>\n",
       "      <th>337</th>\n",
       "      <td>361</td>\n",
       "      <td>Memories Off</td>\n",
       "      <td>Romance, Drama</td>\n",
       "      <td>OVA</td>\n",
       "      <td>Nov 21, 2001 to Mar 6, 2002</td>\n",
       "      <td>Unknown</td>\n",
       "      <td>Visual novel</td>\n",
       "      <td>30 min. per ep.</td>\n",
       "      <td>PG-13 - Teens 13 or older</td>\n",
       "    </tr>\n",
       "    <tr>\n",
       "      <th>338</th>\n",
       "      <td>362</td>\n",
       "      <td>Memories Off 2nd</td>\n",
       "      <td>Romance, Drama</td>\n",
       "      <td>OVA</td>\n",
       "      <td>Jan 22, 2003 to May 21, 2003</td>\n",
       "      <td>Unknown</td>\n",
       "      <td>Visual novel</td>\n",
       "      <td>30 min. per ep.</td>\n",
       "      <td>PG-13 - Teens 13 or older</td>\n",
       "    </tr>\n",
       "    <tr>\n",
       "      <th>391</th>\n",
       "      <td>418</td>\n",
       "      <td>Ranma ½: Chuugoku Nekonron Daikessen! Okite Ya...</td>\n",
       "      <td>Adventure, Comedy, Shounen</td>\n",
       "      <td>Movie</td>\n",
       "      <td>Nov 2, 1991</td>\n",
       "      <td>Unknown</td>\n",
       "      <td>Manga</td>\n",
       "      <td>1 hr. 14 min.</td>\n",
       "      <td>PG-13 - Teens 13 or older</td>\n",
       "    </tr>\n",
       "    <tr>\n",
       "      <th>...</th>\n",
       "      <td>...</td>\n",
       "      <td>...</td>\n",
       "      <td>...</td>\n",
       "      <td>...</td>\n",
       "      <td>...</td>\n",
       "      <td>...</td>\n",
       "      <td>...</td>\n",
       "      <td>...</td>\n",
       "      <td>...</td>\n",
       "    </tr>\n",
       "    <tr>\n",
       "      <th>17550</th>\n",
       "      <td>48441</td>\n",
       "      <td>Eiyuu Densetsu: Sen no Kiseki</td>\n",
       "      <td>Action</td>\n",
       "      <td>TV</td>\n",
       "      <td>2022 to ?</td>\n",
       "      <td>Unknown</td>\n",
       "      <td>Game</td>\n",
       "      <td>Unknown</td>\n",
       "      <td>Unknown</td>\n",
       "    </tr>\n",
       "    <tr>\n",
       "      <th>17551</th>\n",
       "      <td>48442</td>\n",
       "      <td>Shikaru Neko</td>\n",
       "      <td>Slice of Life</td>\n",
       "      <td>TV</td>\n",
       "      <td>Apr, 2021 to ?</td>\n",
       "      <td>Unknown</td>\n",
       "      <td>Manga</td>\n",
       "      <td>Unknown</td>\n",
       "      <td>Unknown</td>\n",
       "    </tr>\n",
       "    <tr>\n",
       "      <th>17556</th>\n",
       "      <td>48480</td>\n",
       "      <td>Wan Jie Shen Zhu 3rd Season</td>\n",
       "      <td>Adventure, Fantasy</td>\n",
       "      <td>ONA</td>\n",
       "      <td>Mar 17, 2021 to ?</td>\n",
       "      <td>Unknown</td>\n",
       "      <td>Manga</td>\n",
       "      <td>9 min. per ep.</td>\n",
       "      <td>Unknown</td>\n",
       "    </tr>\n",
       "    <tr>\n",
       "      <th>17557</th>\n",
       "      <td>48481</td>\n",
       "      <td>Daomu Biji Zhi Qinling Shen Shu</td>\n",
       "      <td>Adventure, Mystery, Supernatural</td>\n",
       "      <td>ONA</td>\n",
       "      <td>Apr 4, 2021 to ?</td>\n",
       "      <td>Unknown</td>\n",
       "      <td>Novel</td>\n",
       "      <td>Unknown</td>\n",
       "      <td>Unknown</td>\n",
       "    </tr>\n",
       "    <tr>\n",
       "      <th>17559</th>\n",
       "      <td>48488</td>\n",
       "      <td>Higurashi no Naku Koro ni Sotsu</td>\n",
       "      <td>Mystery, Dementia, Horror, Psychological, Supe...</td>\n",
       "      <td>TV</td>\n",
       "      <td>Jul, 2021 to ?</td>\n",
       "      <td>Unknown</td>\n",
       "      <td>Visual novel</td>\n",
       "      <td>Unknown</td>\n",
       "      <td>R - 17+ (violence &amp; profanity)</td>\n",
       "    </tr>\n",
       "  </tbody>\n",
       "</table>\n",
       "<p>6157 rows × 9 columns</p>\n",
       "</div>"
      ],
      "text/plain": [
       "       MAL_ID                                               Name  \\\n",
       "192       215                        Pia Carrot e Youkoso!! 2 DX   \n",
       "288       312                         Ace wo Nerae!: Final Stage   \n",
       "337       361                                       Memories Off   \n",
       "338       362                                   Memories Off 2nd   \n",
       "391       418  Ranma ½: Chuugoku Nekonron Daikessen! Okite Ya...   \n",
       "...       ...                                                ...   \n",
       "17550   48441                      Eiyuu Densetsu: Sen no Kiseki   \n",
       "17551   48442                                       Shikaru Neko   \n",
       "17556   48480                        Wan Jie Shen Zhu 3rd Season   \n",
       "17557   48481                    Daomu Biji Zhi Qinling Shen Shu   \n",
       "17559   48488                    Higurashi no Naku Koro ni Sotsu   \n",
       "\n",
       "                                                  Genres   Type  \\\n",
       "192                                      Comedy, Romance    OVA   \n",
       "288                                Action, Drama, Sports    OVA   \n",
       "337                                       Romance, Drama    OVA   \n",
       "338                                       Romance, Drama    OVA   \n",
       "391                           Adventure, Comedy, Shounen  Movie   \n",
       "...                                                  ...    ...   \n",
       "17550                                             Action     TV   \n",
       "17551                                      Slice of Life     TV   \n",
       "17556                                 Adventure, Fantasy    ONA   \n",
       "17557                   Adventure, Mystery, Supernatural    ONA   \n",
       "17559  Mystery, Dementia, Horror, Psychological, Supe...     TV   \n",
       "\n",
       "                              Aired  Studios        Source         Duration  \\\n",
       "192    Dec 18, 1999 to Oct 25, 2000  Unknown  Visual novel  28 min. per ep.   \n",
       "288    Oct 25, 1989 to Apr 25, 1990  Unknown       Unknown  24 min. per ep.   \n",
       "337     Nov 21, 2001 to Mar 6, 2002  Unknown  Visual novel  30 min. per ep.   \n",
       "338    Jan 22, 2003 to May 21, 2003  Unknown  Visual novel  30 min. per ep.   \n",
       "391                     Nov 2, 1991  Unknown         Manga    1 hr. 14 min.   \n",
       "...                             ...      ...           ...              ...   \n",
       "17550                     2022 to ?  Unknown          Game          Unknown   \n",
       "17551                Apr, 2021 to ?  Unknown         Manga          Unknown   \n",
       "17556             Mar 17, 2021 to ?  Unknown         Manga   9 min. per ep.   \n",
       "17557              Apr 4, 2021 to ?  Unknown         Novel          Unknown   \n",
       "17559                Jul, 2021 to ?  Unknown  Visual novel          Unknown   \n",
       "\n",
       "                               Rating  \n",
       "192         PG-13 - Teens 13 or older  \n",
       "288         PG-13 - Teens 13 or older  \n",
       "337         PG-13 - Teens 13 or older  \n",
       "338         PG-13 - Teens 13 or older  \n",
       "391         PG-13 - Teens 13 or older  \n",
       "...                               ...  \n",
       "17550                         Unknown  \n",
       "17551                         Unknown  \n",
       "17556                         Unknown  \n",
       "17557                         Unknown  \n",
       "17559  R - 17+ (violence & profanity)  \n",
       "\n",
       "[6157 rows x 9 columns]"
      ]
     },
     "execution_count": 39,
     "metadata": {},
     "output_type": "execute_result"
    }
   ],
   "source": [
    "anime_df_relevant_PG[anime_df_relevant_PG.Studios.str.contains(\"Unknown\")]"
   ]
  },
  {
   "cell_type": "code",
   "execution_count": 40,
   "id": "579728fb",
   "metadata": {
    "scrolled": false
   },
   "outputs": [
    {
     "data": {
      "text/plain": [
       "array(['Sunrise', 'Bones', 'Madhouse', ...,\n",
       "       'Fanworks, Space Neko Company', 'OZ', 'Studio Kafka'], dtype=object)"
      ]
     },
     "execution_count": 40,
     "metadata": {},
     "output_type": "execute_result"
    }
   ],
   "source": [
    "anime_df_relevant_PG['Studios'].explode().unique()"
   ]
  },
  {
   "cell_type": "code",
   "execution_count": 41,
   "id": "7c7dc034",
   "metadata": {},
   "outputs": [
    {
     "data": {
      "text/plain": [
       "Index(['MAL_ID', 'Name', 'Genres', 'Type', 'Aired', 'Studios', 'Source',\n",
       "       'Duration', 'Rating'],\n",
       "      dtype='object')"
      ]
     },
     "execution_count": 41,
     "metadata": {},
     "output_type": "execute_result"
    }
   ],
   "source": [
    "anime_df_relevant_PG.columns"
   ]
  },
  {
   "cell_type": "code",
   "execution_count": 42,
   "id": "8bd5bc5d",
   "metadata": {},
   "outputs": [
    {
     "data": {
      "text/plain": [
       "Music                                790\n",
       "Comedy                               668\n",
       "Kids                                 413\n",
       "Kids, Music                          234\n",
       "Dementia                             228\n",
       "                                    ... \n",
       "Action, Adventure, Police, Sci-Fi      1\n",
       "Action, Sci-Fi, Police                 1\n",
       "Magic, Vampire, Fantasy                1\n",
       "Adventure, Fantasy, Kids, Magic        1\n",
       "Adventure, Mystery, Supernatural       1\n",
       "Name: Genres, Length: 4840, dtype: int64"
      ]
     },
     "execution_count": 42,
     "metadata": {},
     "output_type": "execute_result"
    }
   ],
   "source": [
    "anime_df_relevant_PG['Genres'].value_counts()"
   ]
  },
  {
   "cell_type": "code",
   "execution_count": 43,
   "id": "7a13c6da",
   "metadata": {},
   "outputs": [
    {
     "data": {
      "text/plain": [
       "Music                                790\n",
       "Comedy                               668\n",
       "Kids                                 413\n",
       "Kids, Music                          234\n",
       "Dementia                             228\n",
       "                                    ... \n",
       "Action, Adventure, Police, Sci-Fi      1\n",
       "Action, Sci-Fi, Police                 1\n",
       "Magic, Vampire, Fantasy                1\n",
       "Adventure, Fantasy, Kids, Magic        1\n",
       "Adventure, Mystery, Supernatural       1\n",
       "Name: Genres, Length: 4840, dtype: int64"
      ]
     },
     "execution_count": 43,
     "metadata": {},
     "output_type": "execute_result"
    }
   ],
   "source": [
    "anime_df_relevant_PG['Genres'].explode().value_counts()"
   ]
  },
  {
   "cell_type": "code",
   "execution_count": 44,
   "id": "020d81b5",
   "metadata": {},
   "outputs": [
    {
     "data": {
      "text/plain": [
       "TV         4996\n",
       "Movie      3028\n",
       "OVA        2575\n",
       "Special    2193\n",
       "ONA        1886\n",
       "Music      1469\n",
       "Unknown      36\n",
       "Name: Type, dtype: int64"
      ]
     },
     "execution_count": 44,
     "metadata": {},
     "output_type": "execute_result"
    }
   ],
   "source": [
    "anime_df_relevant_PG['Type'].explode().value_counts()"
   ]
  },
  {
   "cell_type": "code",
   "execution_count": 45,
   "id": "d1b5da94",
   "metadata": {},
   "outputs": [
    {
     "data": {
      "text/plain": [
       "24 min. per ep.          1712\n",
       "23 min. per ep.          1058\n",
       "25 min. per ep.           826\n",
       "2 min.                    744\n",
       "Unknown                   549\n",
       "                         ... \n",
       "27 sec.                     1\n",
       "1 hr. 24 min. per ep.       1\n",
       "10 sec. per ep.             1\n",
       "3 sec.                      1\n",
       "55 sec. per ep.             1\n",
       "Name: Duration, Length: 313, dtype: int64"
      ]
     },
     "execution_count": 45,
     "metadata": {},
     "output_type": "execute_result"
    }
   ],
   "source": [
    "anime_df_relevant_PG['Duration'].explode().value_counts()"
   ]
  },
  {
   "cell_type": "code",
   "execution_count": 46,
   "id": "308888d6",
   "metadata": {
    "scrolled": true
   },
   "outputs": [
    {
     "data": {
      "text/plain": [
       "Unknown                                   6157\n",
       "Toei Animation                             755\n",
       "Sunrise                                    479\n",
       "J.C.Staff                                  350\n",
       "Madhouse                                   323\n",
       "                                          ... \n",
       "Takahashi Studio, Suna Kouhou                1\n",
       "Sunrise, Bandai Visual                       1\n",
       "Production I.G, Welz Animation Studios       1\n",
       "Studio Pierrot, David Production             1\n",
       "Studio Kafka                                 1\n",
       "Name: Studios, Length: 1036, dtype: int64"
      ]
     },
     "execution_count": 46,
     "metadata": {},
     "output_type": "execute_result"
    }
   ],
   "source": [
    "anime_df_relevant_PG['Studios'].explode().value_counts()"
   ]
  },
  {
   "cell_type": "code",
   "execution_count": 47,
   "id": "303912ec",
   "metadata": {},
   "outputs": [
    {
     "data": {
      "text/plain": [
       "PG-13 - Teens 13 or older         6130\n",
       "G - All Ages                      5782\n",
       "PG - Children                     1461\n",
       "R - 17+ (violence & profanity)    1156\n",
       "R+ - Mild Nudity                   968\n",
       "Unknown                            686\n",
       "Name: Rating, dtype: int64"
      ]
     },
     "execution_count": 47,
     "metadata": {},
     "output_type": "execute_result"
    }
   ],
   "source": [
    "anime_df_relevant_PG['Rating'].explode().value_counts()"
   ]
  },
  {
   "cell_type": "code",
   "execution_count": 48,
   "id": "f7b626d6",
   "metadata": {
    "scrolled": true
   },
   "outputs": [
    {
     "name": "stdout",
     "output_type": "stream",
     "text": [
      "MAL_ID      [1, 5, 6, 7, 8, 15, 16, 17, 18, 19, 20, 21, 22...\n",
      "Name        [Cowboy Bebop, Cowboy Bebop: Tengoku no Tobira...\n",
      "Genres      [Action, Adventure, Comedy, Drama, Sci-Fi, Spa...\n",
      "Type           [TV, Movie, OVA, Special, ONA, Music, Unknown]\n",
      "Aired       [Apr 3, 1998 to Apr 24, 1999, Sep 1, 2001, Apr...\n",
      "Studios     [Sunrise, Bones, Madhouse, Toei Animation, Gal...\n",
      "Source      [Original, Manga, Light novel, Game, Visual no...\n",
      "Duration    [24 min. per ep., 1 hr. 55 min., 25 min. per e...\n",
      "Rating      [R - 17+ (violence & profanity), PG-13 - Teens...\n",
      "dtype: object\n"
     ]
    }
   ],
   "source": [
    "print(anime_df_relevant_PG.apply(lambda col: col.unique()))"
   ]
  },
  {
   "cell_type": "code",
   "execution_count": 49,
   "id": "c5b19403",
   "metadata": {},
   "outputs": [
    {
     "name": "stdout",
     "output_type": "stream",
     "text": [
      "['Sunrise' 'Bones' 'Madhouse' ... 'Fanworks, Space Neko Company' 'OZ'\n",
      " 'Studio Kafka']\n",
      "['Sunrise' 'Bones' 'Madhouse' ... 'Fanworks, Space Neko Company' 'OZ'\n",
      " 'Studio Kafka']\n",
      "['Sunrise' 'Bones' 'Madhouse' ... 'Fanworks, Space Neko Company' 'OZ'\n",
      " 'Studio Kafka']\n",
      "['Sunrise' 'Bones' 'Madhouse' ... 'Fanworks, Space Neko Company' 'OZ'\n",
      " 'Studio Kafka']\n",
      "['Sunrise' 'Bones' 'Madhouse' ... 'Fanworks, Space Neko Company' 'OZ'\n",
      " 'Studio Kafka']\n",
      "['Sunrise' 'Bones' 'Madhouse' ... 'Fanworks, Space Neko Company' 'OZ'\n",
      " 'Studio Kafka']\n",
      "['Sunrise' 'Bones' 'Madhouse' ... 'Fanworks, Space Neko Company' 'OZ'\n",
      " 'Studio Kafka']\n",
      "['Sunrise' 'Bones' 'Madhouse' ... 'Fanworks, Space Neko Company' 'OZ'\n",
      " 'Studio Kafka']\n",
      "['Sunrise' 'Bones' 'Madhouse' ... 'Fanworks, Space Neko Company' 'OZ'\n",
      " 'Studio Kafka']\n"
     ]
    }
   ],
   "source": [
    "for col in anime_df_relevant_PG:\n",
    "    print(anime_df_relevant_PG['Studios'].unique())"
   ]
  },
  {
   "cell_type": "code",
   "execution_count": null,
   "id": "b1a7ccd1",
   "metadata": {},
   "outputs": [],
   "source": []
  },
  {
   "cell_type": "markdown",
   "id": "b86945b4",
   "metadata": {},
   "source": [
    "# Visualizations"
   ]
  },
  {
   "cell_type": "code",
   "execution_count": 67,
   "id": "9b82fc55",
   "metadata": {},
   "outputs": [
    {
     "data": {
      "text/html": [
       "<div>\n",
       "<style scoped>\n",
       "    .dataframe tbody tr th:only-of-type {\n",
       "        vertical-align: middle;\n",
       "    }\n",
       "\n",
       "    .dataframe tbody tr th {\n",
       "        vertical-align: top;\n",
       "    }\n",
       "\n",
       "    .dataframe thead th {\n",
       "        text-align: right;\n",
       "    }\n",
       "</style>\n",
       "<table border=\"1\" class=\"dataframe\">\n",
       "  <thead>\n",
       "    <tr style=\"text-align: right;\">\n",
       "      <th></th>\n",
       "      <th>anime_id</th>\n",
       "    </tr>\n",
       "  </thead>\n",
       "  <tbody>\n",
       "    <tr>\n",
       "      <th>anime_id</th>\n",
       "      <td>1.0</td>\n",
       "    </tr>\n",
       "  </tbody>\n",
       "</table>\n",
       "</div>"
      ],
      "text/plain": [
       "          anime_id\n",
       "anime_id       1.0"
      ]
     },
     "execution_count": 67,
     "metadata": {},
     "output_type": "execute_result"
    }
   ],
   "source": [
    "anime_df_relevant_PG.corr()"
   ]
  },
  {
   "cell_type": "code",
   "execution_count": 64,
   "id": "08c6b96a",
   "metadata": {
    "scrolled": true
   },
   "outputs": [
    {
     "data": {
      "text/plain": [
       "<AxesSubplot:>"
      ]
     },
     "execution_count": 64,
     "metadata": {},
     "output_type": "execute_result"
    },
    {
     "data": {
      "image/png": "[encoded data removed]",
      "text/plain": [
       "<Figure size 432x288 with 2 Axes>"
      ]
     },
     "metadata": {
      "needs_background": "light"
     },
     "output_type": "display_data"
    }
   ],
   "source": [
    "sns.heatmap(anime_df_relevant_PG.corr(), cmap='coolwarm')"
   ]
  },
  {
   "cell_type": "code",
   "execution_count": 65,
   "id": "c2c2c7dd",
   "metadata": {},
   "outputs": [
    {
     "data": {
      "text/plain": [
       "<AxesSubplot:>"
      ]
     },
     "execution_count": 65,
     "metadata": {},
     "output_type": "execute_result"
    },
    {
     "data": {
      "image/png": "[encoded data removed]",
      "text/plain": [
       "<Figure size 432x288 with 2 Axes>"
      ]
     },
     "metadata": {
      "needs_background": "light"
     },
     "output_type": "display_data"
    }
   ],
   "source": [
    "sns.heatmap(anime_df.corr(), cmap='coolwarm')"
   ]
  },
  {
   "cell_type": "code",
   "execution_count": 70,
   "id": "81522cba",
   "metadata": {},
   "outputs": [
    {
     "data": {
      "text/plain": [
       "<AxesSubplot:>"
      ]
     },
     "execution_count": 70,
     "metadata": {},
     "output_type": "execute_result"
    },
    {
     "data": {
      "image/png": "[encoded data removed]",
      "text/plain": [
       "<Figure size 432x288 with 2 Axes>"
      ]
     },
     "metadata": {
      "needs_background": "light"
     },
     "output_type": "display_data"
    }
   ],
   "source": [
    "sns.heatmap(users_anime_partial.corr(), cmap='coolwarm') "
   ]
  },
  {
   "cell_type": "code",
   "execution_count": 71,
   "id": "63cd82ae",
   "metadata": {},
   "outputs": [],
   "source": [
    "#encode string values to be able to build corr matrix\n",
    "encoded_anime_df = anime_df\n",
    "for i in encoded_anime_df.columns:\n",
    "    encoded_anime_df[i] = encoded_anime_df[i].astype('category').cat.codes"
   ]
  },
  {
   "cell_type": "code",
   "execution_count": null,
   "id": "1bdf2355",
   "metadata": {},
   "outputs": [],
   "source": []
  },
  {
   "cell_type": "code",
   "execution_count": 72,
   "id": "0aa73a38",
   "metadata": {},
   "outputs": [
    {
     "data": {
      "text/plain": [
       "<AxesSubplot:>"
      ]
     },
     "execution_count": 72,
     "metadata": {},
     "output_type": "execute_result"
    },
    {
     "data": {
      "image/png": "[encoded data removed]",
      "text/plain": [
       "<Figure size 432x288 with 2 Axes>"
      ]
     },
     "metadata": {
      "needs_background": "light"
     },
     "output_type": "display_data"
    }
   ],
   "source": [
    "sns.heatmap(encoded_anime_df.corr(), cmap='coolwarm') "
   ]
  },
  {
   "cell_type": "code",
   "execution_count": null,
   "id": "4bc7c79a",
   "metadata": {},
   "outputs": [],
   "source": []
  },
  {
   "cell_type": "code",
   "execution_count": null,
   "id": "0fe4de4a",
   "metadata": {},
   "outputs": [],
   "source": []
  },
  {
   "cell_type": "code",
   "execution_count": null,
   "id": "a8838cd1",
   "metadata": {},
   "outputs": [],
   "source": []
  },
  {
   "cell_type": "markdown",
   "id": "b9aa281c",
   "metadata": {},
   "source": [
    "# Remove columns  in users_anime_df"
   ]
  },
  {
   "cell_type": "code",
   "execution_count": 50,
   "id": "da721582",
   "metadata": {},
   "outputs": [
    {
     "data": {
      "text/html": [
       "<div>\n",
       "<style scoped>\n",
       "    .dataframe tbody tr th:only-of-type {\n",
       "        vertical-align: middle;\n",
       "    }\n",
       "\n",
       "    .dataframe tbody tr th {\n",
       "        vertical-align: top;\n",
       "    }\n",
       "\n",
       "    .dataframe thead th {\n",
       "        text-align: right;\n",
       "    }\n",
       "</style>\n",
       "<table border=\"1\" class=\"dataframe\">\n",
       "  <thead>\n",
       "    <tr style=\"text-align: right;\">\n",
       "      <th></th>\n",
       "      <th>user_id</th>\n",
       "      <th>anime_id</th>\n",
       "      <th>rating</th>\n",
       "      <th>watching_status</th>\n",
       "      <th>watched_episodes</th>\n",
       "    </tr>\n",
       "  </thead>\n",
       "  <tbody>\n",
       "    <tr>\n",
       "      <th>0</th>\n",
       "      <td>0</td>\n",
       "      <td>67</td>\n",
       "      <td>9</td>\n",
       "      <td>1</td>\n",
       "      <td>1</td>\n",
       "    </tr>\n",
       "    <tr>\n",
       "      <th>1</th>\n",
       "      <td>0</td>\n",
       "      <td>6702</td>\n",
       "      <td>7</td>\n",
       "      <td>1</td>\n",
       "      <td>4</td>\n",
       "    </tr>\n",
       "    <tr>\n",
       "      <th>2</th>\n",
       "      <td>0</td>\n",
       "      <td>242</td>\n",
       "      <td>10</td>\n",
       "      <td>1</td>\n",
       "      <td>4</td>\n",
       "    </tr>\n",
       "    <tr>\n",
       "      <th>3</th>\n",
       "      <td>0</td>\n",
       "      <td>4898</td>\n",
       "      <td>0</td>\n",
       "      <td>1</td>\n",
       "      <td>1</td>\n",
       "    </tr>\n",
       "    <tr>\n",
       "      <th>4</th>\n",
       "      <td>0</td>\n",
       "      <td>21</td>\n",
       "      <td>10</td>\n",
       "      <td>1</td>\n",
       "      <td>0</td>\n",
       "    </tr>\n",
       "  </tbody>\n",
       "</table>\n",
       "</div>"
      ],
      "text/plain": [
       "   user_id  anime_id  rating  watching_status  watched_episodes\n",
       "0        0        67       9                1                 1\n",
       "1        0      6702       7                1                 4\n",
       "2        0       242      10                1                 4\n",
       "3        0      4898       0                1                 1\n",
       "4        0        21      10                1                 0"
      ]
     },
     "execution_count": 50,
     "metadata": {},
     "output_type": "execute_result"
    }
   ],
   "source": [
    "users_anime_df.head()"
   ]
  },
  {
   "cell_type": "code",
   "execution_count": null,
   "id": "f6f6ceea",
   "metadata": {},
   "outputs": [],
   "source": [
    "# keep ['user_id', 'anime_id', 'rating']\n",
    "# TODO : do it on all the df later, only on partial in next part at first"
   ]
  },
  {
   "cell_type": "markdown",
   "id": "849e1d3f",
   "metadata": {},
   "source": [
    "# Merge DFs"
   ]
  },
  {
   "cell_type": "code",
   "execution_count": 51,
   "id": "30926536",
   "metadata": {
    "scrolled": true
   },
   "outputs": [],
   "source": [
    "# rename MAL_ID in anime.csv to anime_id\n",
    "anime_df_relevant_PG.rename(columns={'MAL_ID': 'anime_id'}, inplace=True)"
   ]
  },
  {
   "cell_type": "code",
   "execution_count": 52,
   "id": "758c6df0",
   "metadata": {},
   "outputs": [],
   "source": [
    "# (optional, exploration) split cleaned_df before merge\n",
    "users_anime_partial = users_anime_df.sample(frac=0.0001, random_state=42)"
   ]
  },
  {
   "cell_type": "code",
   "execution_count": 53,
   "id": "b72a9954",
   "metadata": {},
   "outputs": [],
   "source": [
    "users_anime_partial_relevant = users_anime_partial[['user_id', 'anime_id', 'rating']]"
   ]
  },
  {
   "cell_type": "code",
   "execution_count": 54,
   "id": "dab47296",
   "metadata": {},
   "outputs": [
    {
     "data": {
      "text/html": [
       "<div>\n",
       "<style scoped>\n",
       "    .dataframe tbody tr th:only-of-type {\n",
       "        vertical-align: middle;\n",
       "    }\n",
       "\n",
       "    .dataframe tbody tr th {\n",
       "        vertical-align: top;\n",
       "    }\n",
       "\n",
       "    .dataframe thead th {\n",
       "        text-align: right;\n",
       "    }\n",
       "</style>\n",
       "<table border=\"1\" class=\"dataframe\">\n",
       "  <thead>\n",
       "    <tr style=\"text-align: right;\">\n",
       "      <th></th>\n",
       "      <th>user_id</th>\n",
       "      <th>anime_id</th>\n",
       "      <th>rating</th>\n",
       "    </tr>\n",
       "  </thead>\n",
       "  <tbody>\n",
       "    <tr>\n",
       "      <th>103975409</th>\n",
       "      <td>336145</td>\n",
       "      <td>2251</td>\n",
       "      <td>10</td>\n",
       "    </tr>\n",
       "    <tr>\n",
       "      <th>106163638</th>\n",
       "      <td>343247</td>\n",
       "      <td>2787</td>\n",
       "      <td>9</td>\n",
       "    </tr>\n",
       "    <tr>\n",
       "      <th>40226351</th>\n",
       "      <td>130592</td>\n",
       "      <td>235</td>\n",
       "      <td>9</td>\n",
       "    </tr>\n",
       "    <tr>\n",
       "      <th>11770069</th>\n",
       "      <td>38258</td>\n",
       "      <td>10572</td>\n",
       "      <td>0</td>\n",
       "    </tr>\n",
       "    <tr>\n",
       "      <th>60530240</th>\n",
       "      <td>196188</td>\n",
       "      <td>22729</td>\n",
       "      <td>8</td>\n",
       "    </tr>\n",
       "  </tbody>\n",
       "</table>\n",
       "</div>"
      ],
      "text/plain": [
       "           user_id  anime_id  rating\n",
       "103975409   336145      2251      10\n",
       "106163638   343247      2787       9\n",
       "40226351    130592       235       9\n",
       "11770069     38258     10572       0\n",
       "60530240    196188     22729       8"
      ]
     },
     "execution_count": 54,
     "metadata": {},
     "output_type": "execute_result"
    }
   ],
   "source": [
    "users_anime_partial_relevant.head()"
   ]
  },
  {
   "cell_type": "code",
   "execution_count": 55,
   "id": "69a3c0c6",
   "metadata": {
    "scrolled": false
   },
   "outputs": [
    {
     "data": {
      "text/plain": [
       "(10922, 3)"
      ]
     },
     "execution_count": 55,
     "metadata": {},
     "output_type": "execute_result"
    }
   ],
   "source": [
    "users_anime_partial_relevant.shape"
   ]
  },
  {
   "cell_type": "code",
   "execution_count": 56,
   "id": "7df617fd",
   "metadata": {},
   "outputs": [
    {
     "data": {
      "text/plain": [
       "Index(['user_id', 'anime_id', 'rating'], dtype='object')"
      ]
     },
     "execution_count": 56,
     "metadata": {},
     "output_type": "execute_result"
    }
   ],
   "source": [
    "users_anime_partial_relevant.columns"
   ]
  },
  {
   "cell_type": "code",
   "execution_count": 57,
   "id": "bd9dd84d",
   "metadata": {},
   "outputs": [],
   "source": [
    "# fuse anime.csv and animelist.csv\n",
    "# merged_df = anime_no_H_df.merge(animelist_df, on=\"anime_id\", how='left')\n",
    "merged_df = anime_df_relevant_PG.merge(users_anime_partial, on=\"anime_id\", how='left')"
   ]
  },
  {
   "cell_type": "code",
   "execution_count": 58,
   "id": "f5824c0d",
   "metadata": {
    "scrolled": true
   },
   "outputs": [
    {
     "data": {
      "text/plain": [
       "(23178, 13)"
      ]
     },
     "execution_count": 58,
     "metadata": {},
     "output_type": "execute_result"
    }
   ],
   "source": [
    "merged_df.shape"
   ]
  },
  {
   "cell_type": "code",
   "execution_count": 59,
   "id": "7452c126",
   "metadata": {},
   "outputs": [
    {
     "data": {
      "text/plain": [
       "Index(['anime_id', 'Name', 'Genres', 'Type', 'Aired', 'Studios', 'Source',\n",
       "       'Duration', 'Rating', 'user_id', 'rating', 'watching_status',\n",
       "       'watched_episodes'],\n",
       "      dtype='object')"
      ]
     },
     "execution_count": 59,
     "metadata": {},
     "output_type": "execute_result"
    }
   ],
   "source": [
    "merged_df.columns"
   ]
  },
  {
   "cell_type": "code",
   "execution_count": 60,
   "id": "d80fc193",
   "metadata": {},
   "outputs": [
    {
     "data": {
      "text/html": [
       "<div>\n",
       "<style scoped>\n",
       "    .dataframe tbody tr th:only-of-type {\n",
       "        vertical-align: middle;\n",
       "    }\n",
       "\n",
       "    .dataframe tbody tr th {\n",
       "        vertical-align: top;\n",
       "    }\n",
       "\n",
       "    .dataframe thead th {\n",
       "        text-align: right;\n",
       "    }\n",
       "</style>\n",
       "<table border=\"1\" class=\"dataframe\">\n",
       "  <thead>\n",
       "    <tr style=\"text-align: right;\">\n",
       "      <th></th>\n",
       "      <th>anime_id</th>\n",
       "      <th>Name</th>\n",
       "      <th>Genres</th>\n",
       "      <th>Type</th>\n",
       "      <th>Aired</th>\n",
       "      <th>Studios</th>\n",
       "      <th>Source</th>\n",
       "      <th>Duration</th>\n",
       "      <th>Rating</th>\n",
       "      <th>user_id</th>\n",
       "      <th>rating</th>\n",
       "      <th>watching_status</th>\n",
       "      <th>watched_episodes</th>\n",
       "    </tr>\n",
       "  </thead>\n",
       "  <tbody>\n",
       "  </tbody>\n",
       "</table>\n",
       "</div>"
      ],
      "text/plain": [
       "Empty DataFrame\n",
       "Columns: [anime_id, Name, Genres, Type, Aired, Studios, Source, Duration, Rating, user_id, rating, watching_status, watched_episodes]\n",
       "Index: []"
      ]
     },
     "execution_count": 60,
     "metadata": {},
     "output_type": "execute_result"
    }
   ],
   "source": [
    "# checking on one user the data stored (animes)\n",
    "merged_df.query(\"user_id== 1\")"
   ]
  },
  {
   "cell_type": "code",
   "execution_count": 61,
   "id": "a290b228",
   "metadata": {},
   "outputs": [
    {
     "data": {
      "text/plain": [
       "False    23178\n",
       "Name: Genres, dtype: int64"
      ]
     },
     "execution_count": 61,
     "metadata": {},
     "output_type": "execute_result"
    }
   ],
   "source": [
    "# check that there isn't any anime ID (/ MAL_id with hentai genre left)\n",
    "merged_df.Genres.str.contains(\"Hentai\").value_counts()"
   ]
  },
  {
   "cell_type": "code",
   "execution_count": 62,
   "id": "5d317a55",
   "metadata": {},
   "outputs": [
    {
     "data": {
      "text/plain": [
       "False    23178\n",
       "Name: Genres, dtype: int64"
      ]
     },
     "execution_count": 62,
     "metadata": {},
     "output_type": "execute_result"
    }
   ],
   "source": [
    "merged_df.Genres.str.contains(\"Yuri\").value_counts()"
   ]
  },
  {
   "cell_type": "code",
   "execution_count": 63,
   "id": "c6fc48a8",
   "metadata": {},
   "outputs": [
    {
     "data": {
      "text/plain": [
       "False    23178\n",
       "Name: Genres, dtype: int64"
      ]
     },
     "execution_count": 63,
     "metadata": {},
     "output_type": "execute_result"
    }
   ],
   "source": [
    "merged_df.Genres.str.contains(\"Yaoi\").value_counts()"
   ]
  },
  {
   "cell_type": "markdown",
   "id": "59a40483",
   "metadata": {},
   "source": [
    "# reduce dimensionality of feature matrix (recommender system / movie from course)\n"
   ]
  },
  {
   "cell_type": "code",
   "execution_count": 100,
   "id": "1c38cea2",
   "metadata": {},
   "outputs": [],
   "source": [
    "pd.set_option(\"display.max_columns\", None)"
   ]
  },
  {
   "cell_type": "code",
   "execution_count": 101,
   "id": "c0b5df5d",
   "metadata": {},
   "outputs": [
    {
     "data": {
      "text/html": [
       "<div>\n",
       "<style scoped>\n",
       "    .dataframe tbody tr th:only-of-type {\n",
       "        vertical-align: middle;\n",
       "    }\n",
       "\n",
       "    .dataframe tbody tr th {\n",
       "        vertical-align: top;\n",
       "    }\n",
       "\n",
       "    .dataframe thead th {\n",
       "        text-align: right;\n",
       "    }\n",
       "</style>\n",
       "<table border=\"1\" class=\"dataframe\">\n",
       "  <thead>\n",
       "    <tr style=\"text-align: right;\">\n",
       "      <th></th>\n",
       "      <th>anime_id</th>\n",
       "      <th>Name</th>\n",
       "      <th>Score</th>\n",
       "      <th>Genres</th>\n",
       "      <th>Type</th>\n",
       "      <th>Episodes</th>\n",
       "      <th>Aired</th>\n",
       "      <th>Premiered</th>\n",
       "      <th>Producers</th>\n",
       "      <th>Licensors</th>\n",
       "      <th>Studios</th>\n",
       "      <th>Source</th>\n",
       "      <th>Duration</th>\n",
       "      <th>Rating</th>\n",
       "      <th>Ranked</th>\n",
       "      <th>Popularity</th>\n",
       "      <th>Members</th>\n",
       "      <th>Favorites</th>\n",
       "      <th>Watching</th>\n",
       "      <th>Completed</th>\n",
       "      <th>On-Hold</th>\n",
       "      <th>Dropped</th>\n",
       "      <th>Plan to Watch</th>\n",
       "      <th>Score-10</th>\n",
       "      <th>Score-9</th>\n",
       "      <th>Score-8</th>\n",
       "      <th>Score-7</th>\n",
       "      <th>Score-6</th>\n",
       "      <th>Score-5</th>\n",
       "      <th>Score-4</th>\n",
       "      <th>Score-3</th>\n",
       "      <th>Score-2</th>\n",
       "      <th>Score-1</th>\n",
       "      <th>user_id</th>\n",
       "      <th>rating</th>\n",
       "      <th>watching_status</th>\n",
       "      <th>watched_episodes</th>\n",
       "    </tr>\n",
       "  </thead>\n",
       "  <tbody>\n",
       "    <tr>\n",
       "      <th>0</th>\n",
       "      <td>1</td>\n",
       "      <td>Cowboy Bebop</td>\n",
       "      <td>8.78</td>\n",
       "      <td>Action, Adventure, Comedy, Drama, Sci-Fi, Space</td>\n",
       "      <td>TV</td>\n",
       "      <td>26</td>\n",
       "      <td>Apr 3, 1998 to Apr 24, 1999</td>\n",
       "      <td>Spring 1998</td>\n",
       "      <td>Bandai Visual</td>\n",
       "      <td>Funimation, Bandai Entertainment</td>\n",
       "      <td>Sunrise</td>\n",
       "      <td>Original</td>\n",
       "      <td>24 min. per ep.</td>\n",
       "      <td>R - 17+ (violence &amp; profanity)</td>\n",
       "      <td>28.0</td>\n",
       "      <td>39</td>\n",
       "      <td>1251960</td>\n",
       "      <td>61971</td>\n",
       "      <td>105808</td>\n",
       "      <td>718161</td>\n",
       "      <td>71513</td>\n",
       "      <td>26678</td>\n",
       "      <td>329800</td>\n",
       "      <td>229170.0</td>\n",
       "      <td>182126.0</td>\n",
       "      <td>131625.0</td>\n",
       "      <td>62330.0</td>\n",
       "      <td>20688.0</td>\n",
       "      <td>8904.0</td>\n",
       "      <td>3184.0</td>\n",
       "      <td>1357.0</td>\n",
       "      <td>741.0</td>\n",
       "      <td>1580.0</td>\n",
       "      <td>221600.0</td>\n",
       "      <td>0.0</td>\n",
       "      <td>6.0</td>\n",
       "      <td>0.0</td>\n",
       "    </tr>\n",
       "    <tr>\n",
       "      <th>1</th>\n",
       "      <td>1</td>\n",
       "      <td>Cowboy Bebop</td>\n",
       "      <td>8.78</td>\n",
       "      <td>Action, Adventure, Comedy, Drama, Sci-Fi, Space</td>\n",
       "      <td>TV</td>\n",
       "      <td>26</td>\n",
       "      <td>Apr 3, 1998 to Apr 24, 1999</td>\n",
       "      <td>Spring 1998</td>\n",
       "      <td>Bandai Visual</td>\n",
       "      <td>Funimation, Bandai Entertainment</td>\n",
       "      <td>Sunrise</td>\n",
       "      <td>Original</td>\n",
       "      <td>24 min. per ep.</td>\n",
       "      <td>R - 17+ (violence &amp; profanity)</td>\n",
       "      <td>28.0</td>\n",
       "      <td>39</td>\n",
       "      <td>1251960</td>\n",
       "      <td>61971</td>\n",
       "      <td>105808</td>\n",
       "      <td>718161</td>\n",
       "      <td>71513</td>\n",
       "      <td>26678</td>\n",
       "      <td>329800</td>\n",
       "      <td>229170.0</td>\n",
       "      <td>182126.0</td>\n",
       "      <td>131625.0</td>\n",
       "      <td>62330.0</td>\n",
       "      <td>20688.0</td>\n",
       "      <td>8904.0</td>\n",
       "      <td>3184.0</td>\n",
       "      <td>1357.0</td>\n",
       "      <td>741.0</td>\n",
       "      <td>1580.0</td>\n",
       "      <td>100905.0</td>\n",
       "      <td>10.0</td>\n",
       "      <td>2.0</td>\n",
       "      <td>26.0</td>\n",
       "    </tr>\n",
       "    <tr>\n",
       "      <th>2</th>\n",
       "      <td>1</td>\n",
       "      <td>Cowboy Bebop</td>\n",
       "      <td>8.78</td>\n",
       "      <td>Action, Adventure, Comedy, Drama, Sci-Fi, Space</td>\n",
       "      <td>TV</td>\n",
       "      <td>26</td>\n",
       "      <td>Apr 3, 1998 to Apr 24, 1999</td>\n",
       "      <td>Spring 1998</td>\n",
       "      <td>Bandai Visual</td>\n",
       "      <td>Funimation, Bandai Entertainment</td>\n",
       "      <td>Sunrise</td>\n",
       "      <td>Original</td>\n",
       "      <td>24 min. per ep.</td>\n",
       "      <td>R - 17+ (violence &amp; profanity)</td>\n",
       "      <td>28.0</td>\n",
       "      <td>39</td>\n",
       "      <td>1251960</td>\n",
       "      <td>61971</td>\n",
       "      <td>105808</td>\n",
       "      <td>718161</td>\n",
       "      <td>71513</td>\n",
       "      <td>26678</td>\n",
       "      <td>329800</td>\n",
       "      <td>229170.0</td>\n",
       "      <td>182126.0</td>\n",
       "      <td>131625.0</td>\n",
       "      <td>62330.0</td>\n",
       "      <td>20688.0</td>\n",
       "      <td>8904.0</td>\n",
       "      <td>3184.0</td>\n",
       "      <td>1357.0</td>\n",
       "      <td>741.0</td>\n",
       "      <td>1580.0</td>\n",
       "      <td>100189.0</td>\n",
       "      <td>8.0</td>\n",
       "      <td>2.0</td>\n",
       "      <td>26.0</td>\n",
       "    </tr>\n",
       "    <tr>\n",
       "      <th>3</th>\n",
       "      <td>1</td>\n",
       "      <td>Cowboy Bebop</td>\n",
       "      <td>8.78</td>\n",
       "      <td>Action, Adventure, Comedy, Drama, Sci-Fi, Space</td>\n",
       "      <td>TV</td>\n",
       "      <td>26</td>\n",
       "      <td>Apr 3, 1998 to Apr 24, 1999</td>\n",
       "      <td>Spring 1998</td>\n",
       "      <td>Bandai Visual</td>\n",
       "      <td>Funimation, Bandai Entertainment</td>\n",
       "      <td>Sunrise</td>\n",
       "      <td>Original</td>\n",
       "      <td>24 min. per ep.</td>\n",
       "      <td>R - 17+ (violence &amp; profanity)</td>\n",
       "      <td>28.0</td>\n",
       "      <td>39</td>\n",
       "      <td>1251960</td>\n",
       "      <td>61971</td>\n",
       "      <td>105808</td>\n",
       "      <td>718161</td>\n",
       "      <td>71513</td>\n",
       "      <td>26678</td>\n",
       "      <td>329800</td>\n",
       "      <td>229170.0</td>\n",
       "      <td>182126.0</td>\n",
       "      <td>131625.0</td>\n",
       "      <td>62330.0</td>\n",
       "      <td>20688.0</td>\n",
       "      <td>8904.0</td>\n",
       "      <td>3184.0</td>\n",
       "      <td>1357.0</td>\n",
       "      <td>741.0</td>\n",
       "      <td>1580.0</td>\n",
       "      <td>86347.0</td>\n",
       "      <td>8.0</td>\n",
       "      <td>2.0</td>\n",
       "      <td>26.0</td>\n",
       "    </tr>\n",
       "    <tr>\n",
       "      <th>4</th>\n",
       "      <td>1</td>\n",
       "      <td>Cowboy Bebop</td>\n",
       "      <td>8.78</td>\n",
       "      <td>Action, Adventure, Comedy, Drama, Sci-Fi, Space</td>\n",
       "      <td>TV</td>\n",
       "      <td>26</td>\n",
       "      <td>Apr 3, 1998 to Apr 24, 1999</td>\n",
       "      <td>Spring 1998</td>\n",
       "      <td>Bandai Visual</td>\n",
       "      <td>Funimation, Bandai Entertainment</td>\n",
       "      <td>Sunrise</td>\n",
       "      <td>Original</td>\n",
       "      <td>24 min. per ep.</td>\n",
       "      <td>R - 17+ (violence &amp; profanity)</td>\n",
       "      <td>28.0</td>\n",
       "      <td>39</td>\n",
       "      <td>1251960</td>\n",
       "      <td>61971</td>\n",
       "      <td>105808</td>\n",
       "      <td>718161</td>\n",
       "      <td>71513</td>\n",
       "      <td>26678</td>\n",
       "      <td>329800</td>\n",
       "      <td>229170.0</td>\n",
       "      <td>182126.0</td>\n",
       "      <td>131625.0</td>\n",
       "      <td>62330.0</td>\n",
       "      <td>20688.0</td>\n",
       "      <td>8904.0</td>\n",
       "      <td>3184.0</td>\n",
       "      <td>1357.0</td>\n",
       "      <td>741.0</td>\n",
       "      <td>1580.0</td>\n",
       "      <td>62231.0</td>\n",
       "      <td>0.0</td>\n",
       "      <td>6.0</td>\n",
       "      <td>0.0</td>\n",
       "    </tr>\n",
       "  </tbody>\n",
       "</table>\n",
       "</div>"
      ],
      "text/plain": [
       "   anime_id          Name Score  \\\n",
       "0         1  Cowboy Bebop  8.78   \n",
       "1         1  Cowboy Bebop  8.78   \n",
       "2         1  Cowboy Bebop  8.78   \n",
       "3         1  Cowboy Bebop  8.78   \n",
       "4         1  Cowboy Bebop  8.78   \n",
       "\n",
       "                                            Genres Type Episodes  \\\n",
       "0  Action, Adventure, Comedy, Drama, Sci-Fi, Space   TV       26   \n",
       "1  Action, Adventure, Comedy, Drama, Sci-Fi, Space   TV       26   \n",
       "2  Action, Adventure, Comedy, Drama, Sci-Fi, Space   TV       26   \n",
       "3  Action, Adventure, Comedy, Drama, Sci-Fi, Space   TV       26   \n",
       "4  Action, Adventure, Comedy, Drama, Sci-Fi, Space   TV       26   \n",
       "\n",
       "                         Aired    Premiered      Producers  \\\n",
       "0  Apr 3, 1998 to Apr 24, 1999  Spring 1998  Bandai Visual   \n",
       "1  Apr 3, 1998 to Apr 24, 1999  Spring 1998  Bandai Visual   \n",
       "2  Apr 3, 1998 to Apr 24, 1999  Spring 1998  Bandai Visual   \n",
       "3  Apr 3, 1998 to Apr 24, 1999  Spring 1998  Bandai Visual   \n",
       "4  Apr 3, 1998 to Apr 24, 1999  Spring 1998  Bandai Visual   \n",
       "\n",
       "                          Licensors  Studios    Source         Duration  \\\n",
       "0  Funimation, Bandai Entertainment  Sunrise  Original  24 min. per ep.   \n",
       "1  Funimation, Bandai Entertainment  Sunrise  Original  24 min. per ep.   \n",
       "2  Funimation, Bandai Entertainment  Sunrise  Original  24 min. per ep.   \n",
       "3  Funimation, Bandai Entertainment  Sunrise  Original  24 min. per ep.   \n",
       "4  Funimation, Bandai Entertainment  Sunrise  Original  24 min. per ep.   \n",
       "\n",
       "                           Rating Ranked  Popularity  Members  Favorites  \\\n",
       "0  R - 17+ (violence & profanity)   28.0          39  1251960      61971   \n",
       "1  R - 17+ (violence & profanity)   28.0          39  1251960      61971   \n",
       "2  R - 17+ (violence & profanity)   28.0          39  1251960      61971   \n",
       "3  R - 17+ (violence & profanity)   28.0          39  1251960      61971   \n",
       "4  R - 17+ (violence & profanity)   28.0          39  1251960      61971   \n",
       "\n",
       "   Watching  Completed  On-Hold  Dropped  Plan to Watch  Score-10   Score-9  \\\n",
       "0    105808     718161    71513    26678         329800  229170.0  182126.0   \n",
       "1    105808     718161    71513    26678         329800  229170.0  182126.0   \n",
       "2    105808     718161    71513    26678         329800  229170.0  182126.0   \n",
       "3    105808     718161    71513    26678         329800  229170.0  182126.0   \n",
       "4    105808     718161    71513    26678         329800  229170.0  182126.0   \n",
       "\n",
       "    Score-8  Score-7  Score-6 Score-5 Score-4 Score-3 Score-2 Score-1  \\\n",
       "0  131625.0  62330.0  20688.0  8904.0  3184.0  1357.0   741.0  1580.0   \n",
       "1  131625.0  62330.0  20688.0  8904.0  3184.0  1357.0   741.0  1580.0   \n",
       "2  131625.0  62330.0  20688.0  8904.0  3184.0  1357.0   741.0  1580.0   \n",
       "3  131625.0  62330.0  20688.0  8904.0  3184.0  1357.0   741.0  1580.0   \n",
       "4  131625.0  62330.0  20688.0  8904.0  3184.0  1357.0   741.0  1580.0   \n",
       "\n",
       "    user_id  rating  watching_status  watched_episodes  \n",
       "0  221600.0     0.0              6.0               0.0  \n",
       "1  100905.0    10.0              2.0              26.0  \n",
       "2  100189.0     8.0              2.0              26.0  \n",
       "3   86347.0     8.0              2.0              26.0  \n",
       "4   62231.0     0.0              6.0               0.0  "
      ]
     },
     "execution_count": 101,
     "metadata": {},
     "output_type": "execute_result"
    }
   ],
   "source": [
    "merged_df.head()"
   ]
  },
  {
   "cell_type": "code",
   "execution_count": null,
   "id": "57fb6f5f",
   "metadata": {},
   "outputs": [],
   "source": []
  },
  {
   "cell_type": "code",
   "execution_count": 96,
   "id": "106bd20f",
   "metadata": {},
   "outputs": [],
   "source": [
    "# remove commas from genres"
   ]
  },
  {
   "cell_type": "code",
   "execution_count": null,
   "id": "90bf4ca5",
   "metadata": {},
   "outputs": [],
   "source": [
    "# pick 3rd word in Aired column (starting year)"
   ]
  },
  {
   "cell_type": "code",
   "execution_count": null,
   "id": "bf2f7b3c",
   "metadata": {},
   "outputs": [],
   "source": [
    "# Duration: transform everything into minutes duration\n",
    "# Duration: Encode in small sub-categories : \"less than 10mn\" / \"between 10 and 30\" / \"between 30 and 60mn\" / \"more than 60mn\"\n",
    "# Duration: re-evaluate duration encode and change if necessary"
   ]
  },
  {
   "cell_type": "code",
   "execution_count": null,
   "id": "0b69e6e4",
   "metadata": {},
   "outputs": [],
   "source": [
    "# for all columns, OHE + drop unknown column"
   ]
  },
  {
   "cell_type": "code",
   "execution_count": null,
   "id": "35a29416",
   "metadata": {},
   "outputs": [],
   "source": []
  },
  {
   "cell_type": "code",
   "execution_count": null,
   "id": "f3389c9a",
   "metadata": {},
   "outputs": [],
   "source": []
  },
  {
   "cell_type": "code",
   "execution_count": null,
   "id": "3e345a90",
   "metadata": {},
   "outputs": [],
   "source": [
    "## Second thought dataset shape : ['anime_id', 'Genres', 'Studios?']  (from anime_no_H_df) + user data (from animelist_df_partial)"
   ]
  },
  {
   "cell_type": "code",
   "execution_count": null,
   "id": "7a3d0b17",
   "metadata": {},
   "outputs": [],
   "source": []
  },
  {
   "cell_type": "code",
   "execution_count": null,
   "id": "dad78bd7",
   "metadata": {},
   "outputs": [],
   "source": []
  },
  {
   "cell_type": "code",
   "execution_count": null,
   "id": "b52e095f",
   "metadata": {},
   "outputs": [],
   "source": [
    "# personal work /analysis on the cleaned dataset\n",
    "# produce visualization and draw conclusions / thoughts about what the visualizations are showing\n",
    "# discuss it together\n"
   ]
  }
 ],
 "metadata": {
  "kernelspec": {
   "display_name": "Python 3 (ipykernel)",
   "language": "python",
   "name": "python3"
  },
  "language_info": {
   "codemirror_mode": {
    "name": "ipython",
    "version": 3
   },
   "file_extension": ".py",
   "mimetype": "text/x-python",
   "name": "python",
   "nbconvert_exporter": "python",
   "pygments_lexer": "ipython3",
   "version": "3.9.6"
  },
  "toc": {
   "base_numbering": 1,
   "nav_menu": {},
   "number_sections": true,
   "sideBar": true,
   "skip_h1_title": false,
   "title_cell": "Table of Contents",
   "title_sidebar": "Contents",
   "toc_cell": false,
   "toc_position": {
    "height": "calc(100% - 180px)",
    "left": "10px",
    "top": "150px",
    "width": "165px"
   },
   "toc_section_display": true,
   "toc_window_display": false
  }
 },
 "nbformat": 4,
 "nbformat_minor": 5
}
