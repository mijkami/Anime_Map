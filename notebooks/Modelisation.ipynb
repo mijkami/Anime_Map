{
 "cells": [
  {
   "cell_type": "code",
   "execution_count": 1,
   "id": "385b81da",
   "metadata": {},
   "outputs": [],
   "source": [
    "import pandas as pd\n",
    "import numpy as np\n",
    "import seaborn as sns\n",
    "from scipy.sparse import csr_matrix\n",
    "from sklearn.neighbors import NearestNeighbors\n"
   ]
  },
  {
   "cell_type": "markdown",
   "id": "83f82ba6",
   "metadata": {},
   "source": [
    "# Start to test some model"
   ]
  },
  {
   "cell_type": "markdown",
   "id": "9fbf001c",
   "metadata": {},
   "source": [
    "## import of differrent sample of data set"
   ]
  },
  {
   "cell_type": "code",
   "execution_count": 2,
   "id": "201586c3",
   "metadata": {},
   "outputs": [],
   "source": [
    "active_users_df_10PlusRatings_partial = pd.read_csv('../raw_data/active_users_df_10PlusRatings_partial.csv')"
   ]
  },
  {
   "cell_type": "code",
   "execution_count": 3,
   "id": "7b73a600",
   "metadata": {},
   "outputs": [],
   "source": [
    "active_users_df_100PlusRatings_partial = pd.read_csv('../raw_data/active_users_df_100PlusRatings_partial.csv')"
   ]
  },
  {
   "cell_type": "code",
   "execution_count": 4,
   "id": "dfa909b2",
   "metadata": {},
   "outputs": [],
   "source": [
    "rating_complete_df_10PlusRatings_partial = pd.read_csv('../raw_data/rating_complete_df_10PlusRatings_partial.csv')"
   ]
  },
  {
   "cell_type": "code",
   "execution_count": 5,
   "id": "ebfa1abf",
   "metadata": {},
   "outputs": [],
   "source": [
    "rating_complete_df_100PlusRatings_partial = pd.read_csv('../raw_data/rating_complete_df_100PlusRatings_partial.csv')"
   ]
  },
  {
   "cell_type": "code",
   "execution_count": 6,
   "id": "47f2ee1e",
   "metadata": {},
   "outputs": [],
   "source": [
    "anime_df = pd.read_csv('../raw_data/anime.csv')"
   ]
  },
  {
   "cell_type": "markdown",
   "id": "2bd84d14",
   "metadata": {},
   "source": [
    "## data set normalisation"
   ]
  },
  {
   "cell_type": "code",
   "execution_count": 7,
   "id": "d78bafd7",
   "metadata": {},
   "outputs": [],
   "source": [
    "active_users_df_10PlusRatings_partial['rating'] = active_users_df_10PlusRatings_partial['rating']/10"
   ]
  },
  {
   "cell_type": "code",
   "execution_count": 8,
   "id": "bdd93343",
   "metadata": {},
   "outputs": [],
   "source": [
    "active_users_df_100PlusRatings_partial['rating'] = active_users_df_100PlusRatings_partial['rating']/10"
   ]
  },
  {
   "cell_type": "code",
   "execution_count": 9,
   "id": "ba5f8dd1",
   "metadata": {},
   "outputs": [],
   "source": [
    "rating_complete_df_10PlusRatings_partial['rating'] = rating_complete_df_10PlusRatings_partial['rating']/10"
   ]
  },
  {
   "cell_type": "code",
   "execution_count": 10,
   "id": "fe4cb292",
   "metadata": {},
   "outputs": [],
   "source": [
    "rating_complete_df_100PlusRatings_partial['rating'] = rating_complete_df_100PlusRatings_partial['rating']/10"
   ]
  },
  {
   "cell_type": "markdown",
   "id": "4411cc9e",
   "metadata": {},
   "source": [
    "## data set merge"
   ]
  },
  {
   "cell_type": "code",
   "execution_count": 11,
   "id": "5b414f0d",
   "metadata": {},
   "outputs": [],
   "source": [
    "anime_name_df = anime_df[['MAL_ID','Name']].rename(columns={'MAL_ID' : 'anime_id'})"
   ]
  },
  {
   "cell_type": "code",
   "execution_count": 12,
   "id": "6d05e5b7",
   "metadata": {},
   "outputs": [],
   "source": [
    "active_users_df_10PlusRatings_partial_merge = active_users_df_10PlusRatings_partial.merge(anime_name_df, on = 'anime_id', how='inner')"
   ]
  },
  {
   "cell_type": "code",
   "execution_count": 13,
   "id": "7f284ed6",
   "metadata": {},
   "outputs": [],
   "source": [
    "active_users_df_100PlusRatings_partial_merge = active_users_df_100PlusRatings_partial.merge(anime_name_df, on = 'anime_id', how='inner')"
   ]
  },
  {
   "cell_type": "code",
   "execution_count": 14,
   "id": "5963474f",
   "metadata": {},
   "outputs": [],
   "source": [
    "rating_complete_df_10PlusRatings_partial_merge = rating_complete_df_10PlusRatings_partial.merge(anime_name_df, on = 'anime_id', how='inner')"
   ]
  },
  {
   "cell_type": "code",
   "execution_count": 15,
   "id": "7332e917",
   "metadata": {},
   "outputs": [],
   "source": [
    "rating_complete_df_100PlusRatings_partial_merge = rating_complete_df_100PlusRatings_partial.merge(anime_name_df, on = 'anime_id', how='inner')"
   ]
  },
  {
   "cell_type": "markdown",
   "id": "6f080b28",
   "metadata": {},
   "source": [
    "## data set vectorization"
   ]
  },
  {
   "cell_type": "code",
   "execution_count": 16,
   "id": "218fd1a4",
   "metadata": {},
   "outputs": [],
   "source": [
    "active_users_df_10PlusRatings_partial_pivot = active_users_df_10PlusRatings_partial_merge.pivot_table(index='anime_id',columns='user_id',values='rating').fillna(0)"
   ]
  },
  {
   "cell_type": "code",
   "execution_count": 17,
   "id": "941c3834",
   "metadata": {},
   "outputs": [],
   "source": [
    "active_users_df_100PlusRatings_partial_pivot = active_users_df_100PlusRatings_partial_merge.pivot_table(index='anime_id',columns='user_id',values='rating').fillna(0)"
   ]
  },
  {
   "cell_type": "code",
   "execution_count": 18,
   "id": "b7512699",
   "metadata": {
    "scrolled": true
   },
   "outputs": [
    {
     "data": {
      "text/html": [
       "<div>\n",
       "<style scoped>\n",
       "    .dataframe tbody tr th:only-of-type {\n",
       "        vertical-align: middle;\n",
       "    }\n",
       "\n",
       "    .dataframe tbody tr th {\n",
       "        vertical-align: top;\n",
       "    }\n",
       "\n",
       "    .dataframe thead th {\n",
       "        text-align: right;\n",
       "    }\n",
       "</style>\n",
       "<table border=\"1\" class=\"dataframe\">\n",
       "  <thead>\n",
       "    <tr style=\"text-align: right;\">\n",
       "      <th>user_id</th>\n",
       "      <th>0</th>\n",
       "      <th>1</th>\n",
       "      <th>2</th>\n",
       "      <th>3</th>\n",
       "      <th>4</th>\n",
       "      <th>5</th>\n",
       "      <th>6</th>\n",
       "      <th>7</th>\n",
       "      <th>8</th>\n",
       "      <th>11</th>\n",
       "      <th>...</th>\n",
       "      <th>4987</th>\n",
       "      <th>4988</th>\n",
       "      <th>4989</th>\n",
       "      <th>4990</th>\n",
       "      <th>4991</th>\n",
       "      <th>4992</th>\n",
       "      <th>4993</th>\n",
       "      <th>4996</th>\n",
       "      <th>4997</th>\n",
       "      <th>4998</th>\n",
       "    </tr>\n",
       "    <tr>\n",
       "      <th>anime_id</th>\n",
       "      <th></th>\n",
       "      <th></th>\n",
       "      <th></th>\n",
       "      <th></th>\n",
       "      <th></th>\n",
       "      <th></th>\n",
       "      <th></th>\n",
       "      <th></th>\n",
       "      <th></th>\n",
       "      <th></th>\n",
       "      <th></th>\n",
       "      <th></th>\n",
       "      <th></th>\n",
       "      <th></th>\n",
       "      <th></th>\n",
       "      <th></th>\n",
       "      <th></th>\n",
       "      <th></th>\n",
       "      <th></th>\n",
       "      <th></th>\n",
       "      <th></th>\n",
       "    </tr>\n",
       "  </thead>\n",
       "  <tbody>\n",
       "    <tr>\n",
       "      <th>1</th>\n",
       "      <td>0.0</td>\n",
       "      <td>0.0</td>\n",
       "      <td>0.0</td>\n",
       "      <td>0.9</td>\n",
       "      <td>0.0</td>\n",
       "      <td>0.0</td>\n",
       "      <td>0.6</td>\n",
       "      <td>0.0</td>\n",
       "      <td>0.0</td>\n",
       "      <td>0.0</td>\n",
       "      <td>...</td>\n",
       "      <td>0.0</td>\n",
       "      <td>0.0</td>\n",
       "      <td>0.9</td>\n",
       "      <td>0.0</td>\n",
       "      <td>0.0</td>\n",
       "      <td>0.0</td>\n",
       "      <td>1.0</td>\n",
       "      <td>0.0</td>\n",
       "      <td>0.0</td>\n",
       "      <td>0.9</td>\n",
       "    </tr>\n",
       "    <tr>\n",
       "      <th>5</th>\n",
       "      <td>0.0</td>\n",
       "      <td>0.0</td>\n",
       "      <td>0.0</td>\n",
       "      <td>0.0</td>\n",
       "      <td>0.0</td>\n",
       "      <td>0.0</td>\n",
       "      <td>0.0</td>\n",
       "      <td>0.0</td>\n",
       "      <td>0.0</td>\n",
       "      <td>0.0</td>\n",
       "      <td>...</td>\n",
       "      <td>0.0</td>\n",
       "      <td>0.0</td>\n",
       "      <td>0.9</td>\n",
       "      <td>0.0</td>\n",
       "      <td>0.0</td>\n",
       "      <td>0.0</td>\n",
       "      <td>1.0</td>\n",
       "      <td>0.0</td>\n",
       "      <td>0.0</td>\n",
       "      <td>0.8</td>\n",
       "    </tr>\n",
       "    <tr>\n",
       "      <th>6</th>\n",
       "      <td>0.0</td>\n",
       "      <td>0.0</td>\n",
       "      <td>0.0</td>\n",
       "      <td>0.0</td>\n",
       "      <td>0.0</td>\n",
       "      <td>0.0</td>\n",
       "      <td>0.0</td>\n",
       "      <td>0.0</td>\n",
       "      <td>0.0</td>\n",
       "      <td>0.0</td>\n",
       "      <td>...</td>\n",
       "      <td>0.0</td>\n",
       "      <td>0.8</td>\n",
       "      <td>0.3</td>\n",
       "      <td>0.0</td>\n",
       "      <td>0.0</td>\n",
       "      <td>0.8</td>\n",
       "      <td>0.9</td>\n",
       "      <td>0.0</td>\n",
       "      <td>0.0</td>\n",
       "      <td>0.8</td>\n",
       "    </tr>\n",
       "    <tr>\n",
       "      <th>7</th>\n",
       "      <td>0.0</td>\n",
       "      <td>0.0</td>\n",
       "      <td>0.0</td>\n",
       "      <td>0.0</td>\n",
       "      <td>0.0</td>\n",
       "      <td>0.0</td>\n",
       "      <td>0.0</td>\n",
       "      <td>0.0</td>\n",
       "      <td>0.0</td>\n",
       "      <td>0.0</td>\n",
       "      <td>...</td>\n",
       "      <td>0.0</td>\n",
       "      <td>0.0</td>\n",
       "      <td>0.6</td>\n",
       "      <td>0.0</td>\n",
       "      <td>0.0</td>\n",
       "      <td>0.0</td>\n",
       "      <td>0.0</td>\n",
       "      <td>0.0</td>\n",
       "      <td>0.0</td>\n",
       "      <td>0.0</td>\n",
       "    </tr>\n",
       "    <tr>\n",
       "      <th>8</th>\n",
       "      <td>0.0</td>\n",
       "      <td>0.0</td>\n",
       "      <td>0.0</td>\n",
       "      <td>0.0</td>\n",
       "      <td>0.0</td>\n",
       "      <td>0.0</td>\n",
       "      <td>0.0</td>\n",
       "      <td>0.0</td>\n",
       "      <td>0.0</td>\n",
       "      <td>1.0</td>\n",
       "      <td>...</td>\n",
       "      <td>0.0</td>\n",
       "      <td>0.0</td>\n",
       "      <td>0.0</td>\n",
       "      <td>0.0</td>\n",
       "      <td>0.0</td>\n",
       "      <td>0.0</td>\n",
       "      <td>0.0</td>\n",
       "      <td>0.0</td>\n",
       "      <td>0.0</td>\n",
       "      <td>0.0</td>\n",
       "    </tr>\n",
       "    <tr>\n",
       "      <th>...</th>\n",
       "      <td>...</td>\n",
       "      <td>...</td>\n",
       "      <td>...</td>\n",
       "      <td>...</td>\n",
       "      <td>...</td>\n",
       "      <td>...</td>\n",
       "      <td>...</td>\n",
       "      <td>...</td>\n",
       "      <td>...</td>\n",
       "      <td>...</td>\n",
       "      <td>...</td>\n",
       "      <td>...</td>\n",
       "      <td>...</td>\n",
       "      <td>...</td>\n",
       "      <td>...</td>\n",
       "      <td>...</td>\n",
       "      <td>...</td>\n",
       "      <td>...</td>\n",
       "      <td>...</td>\n",
       "      <td>...</td>\n",
       "      <td>...</td>\n",
       "    </tr>\n",
       "    <tr>\n",
       "      <th>47402</th>\n",
       "      <td>0.0</td>\n",
       "      <td>0.0</td>\n",
       "      <td>0.0</td>\n",
       "      <td>0.0</td>\n",
       "      <td>0.0</td>\n",
       "      <td>0.0</td>\n",
       "      <td>0.0</td>\n",
       "      <td>0.0</td>\n",
       "      <td>0.0</td>\n",
       "      <td>0.0</td>\n",
       "      <td>...</td>\n",
       "      <td>0.0</td>\n",
       "      <td>0.0</td>\n",
       "      <td>0.0</td>\n",
       "      <td>0.0</td>\n",
       "      <td>0.0</td>\n",
       "      <td>0.0</td>\n",
       "      <td>0.0</td>\n",
       "      <td>0.0</td>\n",
       "      <td>0.0</td>\n",
       "      <td>0.0</td>\n",
       "    </tr>\n",
       "    <tr>\n",
       "      <th>47591</th>\n",
       "      <td>0.0</td>\n",
       "      <td>0.0</td>\n",
       "      <td>0.0</td>\n",
       "      <td>0.0</td>\n",
       "      <td>0.0</td>\n",
       "      <td>0.0</td>\n",
       "      <td>0.0</td>\n",
       "      <td>0.0</td>\n",
       "      <td>0.0</td>\n",
       "      <td>0.0</td>\n",
       "      <td>...</td>\n",
       "      <td>0.0</td>\n",
       "      <td>0.0</td>\n",
       "      <td>0.0</td>\n",
       "      <td>0.0</td>\n",
       "      <td>0.0</td>\n",
       "      <td>0.0</td>\n",
       "      <td>0.0</td>\n",
       "      <td>0.0</td>\n",
       "      <td>0.0</td>\n",
       "      <td>0.0</td>\n",
       "    </tr>\n",
       "    <tr>\n",
       "      <th>47614</th>\n",
       "      <td>0.0</td>\n",
       "      <td>0.0</td>\n",
       "      <td>0.0</td>\n",
       "      <td>0.0</td>\n",
       "      <td>0.0</td>\n",
       "      <td>0.0</td>\n",
       "      <td>0.0</td>\n",
       "      <td>0.0</td>\n",
       "      <td>0.0</td>\n",
       "      <td>0.0</td>\n",
       "      <td>...</td>\n",
       "      <td>0.0</td>\n",
       "      <td>0.0</td>\n",
       "      <td>0.0</td>\n",
       "      <td>0.0</td>\n",
       "      <td>0.0</td>\n",
       "      <td>0.0</td>\n",
       "      <td>0.0</td>\n",
       "      <td>0.0</td>\n",
       "      <td>0.0</td>\n",
       "      <td>0.0</td>\n",
       "    </tr>\n",
       "    <tr>\n",
       "      <th>47616</th>\n",
       "      <td>0.0</td>\n",
       "      <td>0.0</td>\n",
       "      <td>0.0</td>\n",
       "      <td>0.0</td>\n",
       "      <td>0.0</td>\n",
       "      <td>0.0</td>\n",
       "      <td>0.0</td>\n",
       "      <td>0.0</td>\n",
       "      <td>0.0</td>\n",
       "      <td>0.0</td>\n",
       "      <td>...</td>\n",
       "      <td>0.0</td>\n",
       "      <td>0.0</td>\n",
       "      <td>0.0</td>\n",
       "      <td>0.0</td>\n",
       "      <td>0.0</td>\n",
       "      <td>0.0</td>\n",
       "      <td>0.0</td>\n",
       "      <td>0.0</td>\n",
       "      <td>0.0</td>\n",
       "      <td>0.0</td>\n",
       "    </tr>\n",
       "    <tr>\n",
       "      <th>48456</th>\n",
       "      <td>0.0</td>\n",
       "      <td>0.0</td>\n",
       "      <td>0.0</td>\n",
       "      <td>0.0</td>\n",
       "      <td>0.0</td>\n",
       "      <td>0.0</td>\n",
       "      <td>0.0</td>\n",
       "      <td>0.0</td>\n",
       "      <td>0.0</td>\n",
       "      <td>0.0</td>\n",
       "      <td>...</td>\n",
       "      <td>0.0</td>\n",
       "      <td>0.0</td>\n",
       "      <td>0.0</td>\n",
       "      <td>0.0</td>\n",
       "      <td>0.0</td>\n",
       "      <td>0.0</td>\n",
       "      <td>0.0</td>\n",
       "      <td>0.0</td>\n",
       "      <td>0.0</td>\n",
       "      <td>0.0</td>\n",
       "    </tr>\n",
       "  </tbody>\n",
       "</table>\n",
       "<p>12106 rows × 4035 columns</p>\n",
       "</div>"
      ],
      "text/plain": [
       "user_id   0     1     2     3     4     5     6     7     8     11    ...  \\\n",
       "anime_id                                                              ...   \n",
       "1          0.0   0.0   0.0   0.9   0.0   0.0   0.6   0.0   0.0   0.0  ...   \n",
       "5          0.0   0.0   0.0   0.0   0.0   0.0   0.0   0.0   0.0   0.0  ...   \n",
       "6          0.0   0.0   0.0   0.0   0.0   0.0   0.0   0.0   0.0   0.0  ...   \n",
       "7          0.0   0.0   0.0   0.0   0.0   0.0   0.0   0.0   0.0   0.0  ...   \n",
       "8          0.0   0.0   0.0   0.0   0.0   0.0   0.0   0.0   0.0   1.0  ...   \n",
       "...        ...   ...   ...   ...   ...   ...   ...   ...   ...   ...  ...   \n",
       "47402      0.0   0.0   0.0   0.0   0.0   0.0   0.0   0.0   0.0   0.0  ...   \n",
       "47591      0.0   0.0   0.0   0.0   0.0   0.0   0.0   0.0   0.0   0.0  ...   \n",
       "47614      0.0   0.0   0.0   0.0   0.0   0.0   0.0   0.0   0.0   0.0  ...   \n",
       "47616      0.0   0.0   0.0   0.0   0.0   0.0   0.0   0.0   0.0   0.0  ...   \n",
       "48456      0.0   0.0   0.0   0.0   0.0   0.0   0.0   0.0   0.0   0.0  ...   \n",
       "\n",
       "user_id   4987  4988  4989  4990  4991  4992  4993  4996  4997  4998  \n",
       "anime_id                                                              \n",
       "1          0.0   0.0   0.9   0.0   0.0   0.0   1.0   0.0   0.0   0.9  \n",
       "5          0.0   0.0   0.9   0.0   0.0   0.0   1.0   0.0   0.0   0.8  \n",
       "6          0.0   0.8   0.3   0.0   0.0   0.8   0.9   0.0   0.0   0.8  \n",
       "7          0.0   0.0   0.6   0.0   0.0   0.0   0.0   0.0   0.0   0.0  \n",
       "8          0.0   0.0   0.0   0.0   0.0   0.0   0.0   0.0   0.0   0.0  \n",
       "...        ...   ...   ...   ...   ...   ...   ...   ...   ...   ...  \n",
       "47402      0.0   0.0   0.0   0.0   0.0   0.0   0.0   0.0   0.0   0.0  \n",
       "47591      0.0   0.0   0.0   0.0   0.0   0.0   0.0   0.0   0.0   0.0  \n",
       "47614      0.0   0.0   0.0   0.0   0.0   0.0   0.0   0.0   0.0   0.0  \n",
       "47616      0.0   0.0   0.0   0.0   0.0   0.0   0.0   0.0   0.0   0.0  \n",
       "48456      0.0   0.0   0.0   0.0   0.0   0.0   0.0   0.0   0.0   0.0  \n",
       "\n",
       "[12106 rows x 4035 columns]"
      ]
     },
     "execution_count": 18,
     "metadata": {},
     "output_type": "execute_result"
    }
   ],
   "source": [
    "active_users_df_10PlusRatings_partial_pivot"
   ]
  },
  {
   "cell_type": "code",
   "execution_count": 19,
   "id": "96bca918",
   "metadata": {
    "scrolled": true
   },
   "outputs": [
    {
     "data": {
      "text/html": [
       "<div>\n",
       "<style scoped>\n",
       "    .dataframe tbody tr th:only-of-type {\n",
       "        vertical-align: middle;\n",
       "    }\n",
       "\n",
       "    .dataframe tbody tr th {\n",
       "        vertical-align: top;\n",
       "    }\n",
       "\n",
       "    .dataframe thead th {\n",
       "        text-align: right;\n",
       "    }\n",
       "</style>\n",
       "<table border=\"1\" class=\"dataframe\">\n",
       "  <thead>\n",
       "    <tr style=\"text-align: right;\">\n",
       "      <th>user_id</th>\n",
       "      <th>1</th>\n",
       "      <th>3</th>\n",
       "      <th>4</th>\n",
       "      <th>6</th>\n",
       "      <th>11</th>\n",
       "      <th>14</th>\n",
       "      <th>16</th>\n",
       "      <th>17</th>\n",
       "      <th>19</th>\n",
       "      <th>21</th>\n",
       "      <th>...</th>\n",
       "      <th>4983</th>\n",
       "      <th>4986</th>\n",
       "      <th>4987</th>\n",
       "      <th>4989</th>\n",
       "      <th>4990</th>\n",
       "      <th>4991</th>\n",
       "      <th>4992</th>\n",
       "      <th>4993</th>\n",
       "      <th>4996</th>\n",
       "      <th>4998</th>\n",
       "    </tr>\n",
       "    <tr>\n",
       "      <th>anime_id</th>\n",
       "      <th></th>\n",
       "      <th></th>\n",
       "      <th></th>\n",
       "      <th></th>\n",
       "      <th></th>\n",
       "      <th></th>\n",
       "      <th></th>\n",
       "      <th></th>\n",
       "      <th></th>\n",
       "      <th></th>\n",
       "      <th></th>\n",
       "      <th></th>\n",
       "      <th></th>\n",
       "      <th></th>\n",
       "      <th></th>\n",
       "      <th></th>\n",
       "      <th></th>\n",
       "      <th></th>\n",
       "      <th></th>\n",
       "      <th></th>\n",
       "      <th></th>\n",
       "    </tr>\n",
       "  </thead>\n",
       "  <tbody>\n",
       "    <tr>\n",
       "      <th>1</th>\n",
       "      <td>0.0</td>\n",
       "      <td>0.9</td>\n",
       "      <td>0.0</td>\n",
       "      <td>0.6</td>\n",
       "      <td>0.0</td>\n",
       "      <td>0.9</td>\n",
       "      <td>0.0</td>\n",
       "      <td>0.0</td>\n",
       "      <td>0.8</td>\n",
       "      <td>0.0</td>\n",
       "      <td>...</td>\n",
       "      <td>0.0</td>\n",
       "      <td>1.0</td>\n",
       "      <td>0.0</td>\n",
       "      <td>0.9</td>\n",
       "      <td>0.0</td>\n",
       "      <td>0.0</td>\n",
       "      <td>0.0</td>\n",
       "      <td>1.0</td>\n",
       "      <td>0.0</td>\n",
       "      <td>0.9</td>\n",
       "    </tr>\n",
       "    <tr>\n",
       "      <th>5</th>\n",
       "      <td>0.0</td>\n",
       "      <td>0.0</td>\n",
       "      <td>0.0</td>\n",
       "      <td>0.0</td>\n",
       "      <td>0.0</td>\n",
       "      <td>0.0</td>\n",
       "      <td>0.0</td>\n",
       "      <td>0.0</td>\n",
       "      <td>0.6</td>\n",
       "      <td>0.0</td>\n",
       "      <td>...</td>\n",
       "      <td>0.0</td>\n",
       "      <td>0.9</td>\n",
       "      <td>0.0</td>\n",
       "      <td>0.9</td>\n",
       "      <td>0.0</td>\n",
       "      <td>0.0</td>\n",
       "      <td>0.0</td>\n",
       "      <td>1.0</td>\n",
       "      <td>0.0</td>\n",
       "      <td>0.8</td>\n",
       "    </tr>\n",
       "    <tr>\n",
       "      <th>6</th>\n",
       "      <td>0.0</td>\n",
       "      <td>0.0</td>\n",
       "      <td>0.0</td>\n",
       "      <td>0.0</td>\n",
       "      <td>0.0</td>\n",
       "      <td>0.0</td>\n",
       "      <td>0.0</td>\n",
       "      <td>0.0</td>\n",
       "      <td>0.8</td>\n",
       "      <td>0.0</td>\n",
       "      <td>...</td>\n",
       "      <td>0.0</td>\n",
       "      <td>0.8</td>\n",
       "      <td>0.0</td>\n",
       "      <td>0.3</td>\n",
       "      <td>0.0</td>\n",
       "      <td>0.0</td>\n",
       "      <td>0.8</td>\n",
       "      <td>0.9</td>\n",
       "      <td>0.0</td>\n",
       "      <td>0.8</td>\n",
       "    </tr>\n",
       "    <tr>\n",
       "      <th>7</th>\n",
       "      <td>0.0</td>\n",
       "      <td>0.0</td>\n",
       "      <td>0.0</td>\n",
       "      <td>0.0</td>\n",
       "      <td>0.0</td>\n",
       "      <td>0.0</td>\n",
       "      <td>0.0</td>\n",
       "      <td>0.0</td>\n",
       "      <td>0.0</td>\n",
       "      <td>0.0</td>\n",
       "      <td>...</td>\n",
       "      <td>0.0</td>\n",
       "      <td>0.0</td>\n",
       "      <td>0.0</td>\n",
       "      <td>0.6</td>\n",
       "      <td>0.0</td>\n",
       "      <td>0.0</td>\n",
       "      <td>0.0</td>\n",
       "      <td>0.0</td>\n",
       "      <td>0.0</td>\n",
       "      <td>0.0</td>\n",
       "    </tr>\n",
       "    <tr>\n",
       "      <th>8</th>\n",
       "      <td>0.0</td>\n",
       "      <td>0.0</td>\n",
       "      <td>0.0</td>\n",
       "      <td>0.0</td>\n",
       "      <td>1.0</td>\n",
       "      <td>0.0</td>\n",
       "      <td>0.0</td>\n",
       "      <td>0.0</td>\n",
       "      <td>0.0</td>\n",
       "      <td>0.0</td>\n",
       "      <td>...</td>\n",
       "      <td>0.0</td>\n",
       "      <td>0.0</td>\n",
       "      <td>0.0</td>\n",
       "      <td>0.0</td>\n",
       "      <td>0.0</td>\n",
       "      <td>0.0</td>\n",
       "      <td>0.0</td>\n",
       "      <td>0.0</td>\n",
       "      <td>0.0</td>\n",
       "      <td>0.0</td>\n",
       "    </tr>\n",
       "    <tr>\n",
       "      <th>...</th>\n",
       "      <td>...</td>\n",
       "      <td>...</td>\n",
       "      <td>...</td>\n",
       "      <td>...</td>\n",
       "      <td>...</td>\n",
       "      <td>...</td>\n",
       "      <td>...</td>\n",
       "      <td>...</td>\n",
       "      <td>...</td>\n",
       "      <td>...</td>\n",
       "      <td>...</td>\n",
       "      <td>...</td>\n",
       "      <td>...</td>\n",
       "      <td>...</td>\n",
       "      <td>...</td>\n",
       "      <td>...</td>\n",
       "      <td>...</td>\n",
       "      <td>...</td>\n",
       "      <td>...</td>\n",
       "      <td>...</td>\n",
       "      <td>...</td>\n",
       "    </tr>\n",
       "    <tr>\n",
       "      <th>47402</th>\n",
       "      <td>0.0</td>\n",
       "      <td>0.0</td>\n",
       "      <td>0.0</td>\n",
       "      <td>0.0</td>\n",
       "      <td>0.0</td>\n",
       "      <td>0.0</td>\n",
       "      <td>0.0</td>\n",
       "      <td>0.0</td>\n",
       "      <td>0.0</td>\n",
       "      <td>0.0</td>\n",
       "      <td>...</td>\n",
       "      <td>0.0</td>\n",
       "      <td>0.0</td>\n",
       "      <td>0.0</td>\n",
       "      <td>0.0</td>\n",
       "      <td>0.0</td>\n",
       "      <td>0.0</td>\n",
       "      <td>0.0</td>\n",
       "      <td>0.0</td>\n",
       "      <td>0.0</td>\n",
       "      <td>0.0</td>\n",
       "    </tr>\n",
       "    <tr>\n",
       "      <th>47591</th>\n",
       "      <td>0.0</td>\n",
       "      <td>0.0</td>\n",
       "      <td>0.0</td>\n",
       "      <td>0.0</td>\n",
       "      <td>0.0</td>\n",
       "      <td>0.0</td>\n",
       "      <td>0.0</td>\n",
       "      <td>0.0</td>\n",
       "      <td>0.0</td>\n",
       "      <td>0.0</td>\n",
       "      <td>...</td>\n",
       "      <td>0.0</td>\n",
       "      <td>0.0</td>\n",
       "      <td>0.0</td>\n",
       "      <td>0.0</td>\n",
       "      <td>0.0</td>\n",
       "      <td>0.0</td>\n",
       "      <td>0.0</td>\n",
       "      <td>0.0</td>\n",
       "      <td>0.0</td>\n",
       "      <td>0.0</td>\n",
       "    </tr>\n",
       "    <tr>\n",
       "      <th>47614</th>\n",
       "      <td>0.0</td>\n",
       "      <td>0.0</td>\n",
       "      <td>0.0</td>\n",
       "      <td>0.0</td>\n",
       "      <td>0.0</td>\n",
       "      <td>0.0</td>\n",
       "      <td>0.0</td>\n",
       "      <td>0.0</td>\n",
       "      <td>0.0</td>\n",
       "      <td>0.0</td>\n",
       "      <td>...</td>\n",
       "      <td>0.0</td>\n",
       "      <td>0.0</td>\n",
       "      <td>0.0</td>\n",
       "      <td>0.0</td>\n",
       "      <td>0.0</td>\n",
       "      <td>0.0</td>\n",
       "      <td>0.0</td>\n",
       "      <td>0.0</td>\n",
       "      <td>0.0</td>\n",
       "      <td>0.0</td>\n",
       "    </tr>\n",
       "    <tr>\n",
       "      <th>47616</th>\n",
       "      <td>0.0</td>\n",
       "      <td>0.0</td>\n",
       "      <td>0.0</td>\n",
       "      <td>0.0</td>\n",
       "      <td>0.0</td>\n",
       "      <td>0.0</td>\n",
       "      <td>0.0</td>\n",
       "      <td>0.0</td>\n",
       "      <td>0.0</td>\n",
       "      <td>0.0</td>\n",
       "      <td>...</td>\n",
       "      <td>0.0</td>\n",
       "      <td>0.0</td>\n",
       "      <td>0.0</td>\n",
       "      <td>0.0</td>\n",
       "      <td>0.0</td>\n",
       "      <td>0.0</td>\n",
       "      <td>0.0</td>\n",
       "      <td>0.0</td>\n",
       "      <td>0.0</td>\n",
       "      <td>0.0</td>\n",
       "    </tr>\n",
       "    <tr>\n",
       "      <th>48456</th>\n",
       "      <td>0.0</td>\n",
       "      <td>0.0</td>\n",
       "      <td>0.0</td>\n",
       "      <td>0.0</td>\n",
       "      <td>0.0</td>\n",
       "      <td>0.0</td>\n",
       "      <td>0.0</td>\n",
       "      <td>0.0</td>\n",
       "      <td>0.0</td>\n",
       "      <td>0.0</td>\n",
       "      <td>...</td>\n",
       "      <td>0.0</td>\n",
       "      <td>0.0</td>\n",
       "      <td>0.0</td>\n",
       "      <td>0.0</td>\n",
       "      <td>0.0</td>\n",
       "      <td>0.0</td>\n",
       "      <td>0.0</td>\n",
       "      <td>0.0</td>\n",
       "      <td>0.0</td>\n",
       "      <td>0.0</td>\n",
       "    </tr>\n",
       "  </tbody>\n",
       "</table>\n",
       "<p>12078 rows × 2462 columns</p>\n",
       "</div>"
      ],
      "text/plain": [
       "user_id   1     3     4     6     11    14    16    17    19    21    ...  \\\n",
       "anime_id                                                              ...   \n",
       "1          0.0   0.9   0.0   0.6   0.0   0.9   0.0   0.0   0.8   0.0  ...   \n",
       "5          0.0   0.0   0.0   0.0   0.0   0.0   0.0   0.0   0.6   0.0  ...   \n",
       "6          0.0   0.0   0.0   0.0   0.0   0.0   0.0   0.0   0.8   0.0  ...   \n",
       "7          0.0   0.0   0.0   0.0   0.0   0.0   0.0   0.0   0.0   0.0  ...   \n",
       "8          0.0   0.0   0.0   0.0   1.0   0.0   0.0   0.0   0.0   0.0  ...   \n",
       "...        ...   ...   ...   ...   ...   ...   ...   ...   ...   ...  ...   \n",
       "47402      0.0   0.0   0.0   0.0   0.0   0.0   0.0   0.0   0.0   0.0  ...   \n",
       "47591      0.0   0.0   0.0   0.0   0.0   0.0   0.0   0.0   0.0   0.0  ...   \n",
       "47614      0.0   0.0   0.0   0.0   0.0   0.0   0.0   0.0   0.0   0.0  ...   \n",
       "47616      0.0   0.0   0.0   0.0   0.0   0.0   0.0   0.0   0.0   0.0  ...   \n",
       "48456      0.0   0.0   0.0   0.0   0.0   0.0   0.0   0.0   0.0   0.0  ...   \n",
       "\n",
       "user_id   4983  4986  4987  4989  4990  4991  4992  4993  4996  4998  \n",
       "anime_id                                                              \n",
       "1          0.0   1.0   0.0   0.9   0.0   0.0   0.0   1.0   0.0   0.9  \n",
       "5          0.0   0.9   0.0   0.9   0.0   0.0   0.0   1.0   0.0   0.8  \n",
       "6          0.0   0.8   0.0   0.3   0.0   0.0   0.8   0.9   0.0   0.8  \n",
       "7          0.0   0.0   0.0   0.6   0.0   0.0   0.0   0.0   0.0   0.0  \n",
       "8          0.0   0.0   0.0   0.0   0.0   0.0   0.0   0.0   0.0   0.0  \n",
       "...        ...   ...   ...   ...   ...   ...   ...   ...   ...   ...  \n",
       "47402      0.0   0.0   0.0   0.0   0.0   0.0   0.0   0.0   0.0   0.0  \n",
       "47591      0.0   0.0   0.0   0.0   0.0   0.0   0.0   0.0   0.0   0.0  \n",
       "47614      0.0   0.0   0.0   0.0   0.0   0.0   0.0   0.0   0.0   0.0  \n",
       "47616      0.0   0.0   0.0   0.0   0.0   0.0   0.0   0.0   0.0   0.0  \n",
       "48456      0.0   0.0   0.0   0.0   0.0   0.0   0.0   0.0   0.0   0.0  \n",
       "\n",
       "[12078 rows x 2462 columns]"
      ]
     },
     "execution_count": 19,
     "metadata": {},
     "output_type": "execute_result"
    }
   ],
   "source": [
    "active_users_df_100PlusRatings_partial_pivot"
   ]
  },
  {
   "cell_type": "code",
   "execution_count": 20,
   "id": "541a0281",
   "metadata": {
    "scrolled": true
   },
   "outputs": [
    {
     "data": {
      "text/html": [
       "<div>\n",
       "<style scoped>\n",
       "    .dataframe tbody tr th:only-of-type {\n",
       "        vertical-align: middle;\n",
       "    }\n",
       "\n",
       "    .dataframe tbody tr th {\n",
       "        vertical-align: top;\n",
       "    }\n",
       "\n",
       "    .dataframe thead th {\n",
       "        text-align: right;\n",
       "    }\n",
       "</style>\n",
       "<table border=\"1\" class=\"dataframe\">\n",
       "  <thead>\n",
       "    <tr style=\"text-align: right;\">\n",
       "      <th></th>\n",
       "      <th>index</th>\n",
       "      <th>anime_id</th>\n",
       "      <th>Name</th>\n",
       "    </tr>\n",
       "  </thead>\n",
       "  <tbody>\n",
       "    <tr>\n",
       "      <th>0</th>\n",
       "      <td>0</td>\n",
       "      <td>1</td>\n",
       "      <td>Cowboy Bebop</td>\n",
       "    </tr>\n",
       "    <tr>\n",
       "      <th>1</th>\n",
       "      <td>1</td>\n",
       "      <td>5</td>\n",
       "      <td>Cowboy Bebop: Tengoku no Tobira</td>\n",
       "    </tr>\n",
       "    <tr>\n",
       "      <th>2</th>\n",
       "      <td>2</td>\n",
       "      <td>6</td>\n",
       "      <td>Trigun</td>\n",
       "    </tr>\n",
       "    <tr>\n",
       "      <th>3</th>\n",
       "      <td>3</td>\n",
       "      <td>7</td>\n",
       "      <td>Witch Hunter Robin</td>\n",
       "    </tr>\n",
       "    <tr>\n",
       "      <th>4</th>\n",
       "      <td>4</td>\n",
       "      <td>8</td>\n",
       "      <td>Bouken Ou Beet</td>\n",
       "    </tr>\n",
       "    <tr>\n",
       "      <th>...</th>\n",
       "      <td>...</td>\n",
       "      <td>...</td>\n",
       "      <td>...</td>\n",
       "    </tr>\n",
       "    <tr>\n",
       "      <th>12101</th>\n",
       "      <td>12101</td>\n",
       "      <td>47402</td>\n",
       "      <td>Heikousen</td>\n",
       "    </tr>\n",
       "    <tr>\n",
       "      <th>12102</th>\n",
       "      <td>12102</td>\n",
       "      <td>47591</td>\n",
       "      <td>Kuro Gal ni Natta kara Shinyuu to shitemita.</td>\n",
       "    </tr>\n",
       "    <tr>\n",
       "      <th>12103</th>\n",
       "      <td>12103</td>\n",
       "      <td>47614</td>\n",
       "      <td>Nu Wushen de Canzhuo Spring Festival Special</td>\n",
       "    </tr>\n",
       "    <tr>\n",
       "      <th>12104</th>\n",
       "      <td>12104</td>\n",
       "      <td>47616</td>\n",
       "      <td>Yakusoku no Neverland 2nd Season: Michishirube</td>\n",
       "    </tr>\n",
       "    <tr>\n",
       "      <th>12105</th>\n",
       "      <td>12105</td>\n",
       "      <td>48456</td>\n",
       "      <td>SK∞: Crazy Rock Jam</td>\n",
       "    </tr>\n",
       "  </tbody>\n",
       "</table>\n",
       "<p>12106 rows × 3 columns</p>\n",
       "</div>"
      ],
      "text/plain": [
       "       index  anime_id                                            Name\n",
       "0          0         1                                    Cowboy Bebop\n",
       "1          1         5                 Cowboy Bebop: Tengoku no Tobira\n",
       "2          2         6                                          Trigun\n",
       "3          3         7                              Witch Hunter Robin\n",
       "4          4         8                                  Bouken Ou Beet\n",
       "...      ...       ...                                             ...\n",
       "12101  12101     47402                                       Heikousen\n",
       "12102  12102     47591    Kuro Gal ni Natta kara Shinyuu to shitemita.\n",
       "12103  12103     47614    Nu Wushen de Canzhuo Spring Festival Special\n",
       "12104  12104     47616  Yakusoku no Neverland 2nd Season: Michishirube\n",
       "12105  12105     48456                             SK∞: Crazy Rock Jam\n",
       "\n",
       "[12106 rows x 3 columns]"
      ]
     },
     "execution_count": 20,
     "metadata": {},
     "output_type": "execute_result"
    }
   ],
   "source": [
    "anime_id_name_df_10PlusRatings = active_users_df_10PlusRatings_partial_merge[['anime_id','Name']].drop_duplicates()\n",
    "anime_id_name_df_10PlusRatings = anime_id_name_df_10PlusRatings.sort_values('anime_id')\n",
    "anime_id_name_df_10PlusRatings = anime_id_name_df_10PlusRatings.reset_index().drop(columns = 'index')\n",
    "anime_id_name_df_10PlusRatings = anime_id_name_df_10PlusRatings.reset_index()\n",
    "anime_id_name_df_10PlusRatings"
   ]
  },
  {
   "cell_type": "code",
   "execution_count": 21,
   "id": "8592d5fc",
   "metadata": {
    "scrolled": true
   },
   "outputs": [
    {
     "data": {
      "text/html": [
       "<div>\n",
       "<style scoped>\n",
       "    .dataframe tbody tr th:only-of-type {\n",
       "        vertical-align: middle;\n",
       "    }\n",
       "\n",
       "    .dataframe tbody tr th {\n",
       "        vertical-align: top;\n",
       "    }\n",
       "\n",
       "    .dataframe thead th {\n",
       "        text-align: right;\n",
       "    }\n",
       "</style>\n",
       "<table border=\"1\" class=\"dataframe\">\n",
       "  <thead>\n",
       "    <tr style=\"text-align: right;\">\n",
       "      <th>user_id</th>\n",
       "      <th>1</th>\n",
       "      <th>3</th>\n",
       "      <th>4</th>\n",
       "      <th>6</th>\n",
       "      <th>11</th>\n",
       "      <th>14</th>\n",
       "      <th>16</th>\n",
       "      <th>17</th>\n",
       "      <th>19</th>\n",
       "      <th>21</th>\n",
       "      <th>...</th>\n",
       "      <th>4983</th>\n",
       "      <th>4986</th>\n",
       "      <th>4987</th>\n",
       "      <th>4989</th>\n",
       "      <th>4990</th>\n",
       "      <th>4991</th>\n",
       "      <th>4992</th>\n",
       "      <th>4993</th>\n",
       "      <th>4996</th>\n",
       "      <th>4998</th>\n",
       "    </tr>\n",
       "    <tr>\n",
       "      <th>anime_id</th>\n",
       "      <th></th>\n",
       "      <th></th>\n",
       "      <th></th>\n",
       "      <th></th>\n",
       "      <th></th>\n",
       "      <th></th>\n",
       "      <th></th>\n",
       "      <th></th>\n",
       "      <th></th>\n",
       "      <th></th>\n",
       "      <th></th>\n",
       "      <th></th>\n",
       "      <th></th>\n",
       "      <th></th>\n",
       "      <th></th>\n",
       "      <th></th>\n",
       "      <th></th>\n",
       "      <th></th>\n",
       "      <th></th>\n",
       "      <th></th>\n",
       "      <th></th>\n",
       "    </tr>\n",
       "  </thead>\n",
       "  <tbody>\n",
       "    <tr>\n",
       "      <th>44</th>\n",
       "      <td>0.0</td>\n",
       "      <td>0.0</td>\n",
       "      <td>0.0</td>\n",
       "      <td>0.0</td>\n",
       "      <td>0.0</td>\n",
       "      <td>0.0</td>\n",
       "      <td>0.0</td>\n",
       "      <td>0.0</td>\n",
       "      <td>0.7</td>\n",
       "      <td>0.0</td>\n",
       "      <td>...</td>\n",
       "      <td>0.0</td>\n",
       "      <td>0.0</td>\n",
       "      <td>0.0</td>\n",
       "      <td>0.9</td>\n",
       "      <td>0.0</td>\n",
       "      <td>0.0</td>\n",
       "      <td>0.0</td>\n",
       "      <td>1.0</td>\n",
       "      <td>0.0</td>\n",
       "      <td>0.0</td>\n",
       "    </tr>\n",
       "  </tbody>\n",
       "</table>\n",
       "<p>1 rows × 2462 columns</p>\n",
       "</div>"
      ],
      "text/plain": [
       "user_id   1     3     4     6     11    14    16    17    19    21    ...  \\\n",
       "anime_id                                                              ...   \n",
       "44         0.0   0.0   0.0   0.0   0.0   0.0   0.0   0.0   0.7   0.0  ...   \n",
       "\n",
       "user_id   4983  4986  4987  4989  4990  4991  4992  4993  4996  4998  \n",
       "anime_id                                                              \n",
       "44         0.0   0.0   0.0   0.9   0.0   0.0   0.0   1.0   0.0   0.0  \n",
       "\n",
       "[1 rows x 2462 columns]"
      ]
     },
     "execution_count": 21,
     "metadata": {},
     "output_type": "execute_result"
    }
   ],
   "source": [
    "active_users_df_100PlusRatings_partial_pivot.loc[[44]]"
   ]
  },
  {
   "cell_type": "code",
   "execution_count": 22,
   "id": "3dbb34cd",
   "metadata": {},
   "outputs": [
    {
     "data": {
      "text/html": [
       "<div>\n",
       "<style scoped>\n",
       "    .dataframe tbody tr th:only-of-type {\n",
       "        vertical-align: middle;\n",
       "    }\n",
       "\n",
       "    .dataframe tbody tr th {\n",
       "        vertical-align: top;\n",
       "    }\n",
       "\n",
       "    .dataframe thead th {\n",
       "        text-align: right;\n",
       "    }\n",
       "</style>\n",
       "<table border=\"1\" class=\"dataframe\">\n",
       "  <thead>\n",
       "    <tr style=\"text-align: right;\">\n",
       "      <th></th>\n",
       "      <th>index</th>\n",
       "      <th>anime_id</th>\n",
       "      <th>Name</th>\n",
       "    </tr>\n",
       "  </thead>\n",
       "  <tbody>\n",
       "    <tr>\n",
       "      <th>44</th>\n",
       "      <td>44</td>\n",
       "      <td>63</td>\n",
       "      <td>DearS</td>\n",
       "    </tr>\n",
       "  </tbody>\n",
       "</table>\n",
       "</div>"
      ],
      "text/plain": [
       "    index  anime_id   Name\n",
       "44     44        63  DearS"
      ]
     },
     "execution_count": 22,
     "metadata": {},
     "output_type": "execute_result"
    }
   ],
   "source": [
    "anime_id_name_df_10PlusRatings.loc[[44]]"
   ]
  },
  {
   "cell_type": "code",
   "execution_count": 23,
   "id": "24b3639c",
   "metadata": {
    "scrolled": true
   },
   "outputs": [
    {
     "data": {
      "text/html": [
       "<div>\n",
       "<style scoped>\n",
       "    .dataframe tbody tr th:only-of-type {\n",
       "        vertical-align: middle;\n",
       "    }\n",
       "\n",
       "    .dataframe tbody tr th {\n",
       "        vertical-align: top;\n",
       "    }\n",
       "\n",
       "    .dataframe thead th {\n",
       "        text-align: right;\n",
       "    }\n",
       "</style>\n",
       "<table border=\"1\" class=\"dataframe\">\n",
       "  <thead>\n",
       "    <tr style=\"text-align: right;\">\n",
       "      <th></th>\n",
       "      <th>index</th>\n",
       "      <th>anime_id</th>\n",
       "      <th>Name</th>\n",
       "    </tr>\n",
       "  </thead>\n",
       "  <tbody>\n",
       "    <tr>\n",
       "      <th>10</th>\n",
       "      <td>10</td>\n",
       "      <td>20</td>\n",
       "      <td>Naruto</td>\n",
       "    </tr>\n",
       "  </tbody>\n",
       "</table>\n",
       "</div>"
      ],
      "text/plain": [
       "    index  anime_id    Name\n",
       "10     10        20  Naruto"
      ]
     },
     "execution_count": 23,
     "metadata": {},
     "output_type": "execute_result"
    }
   ],
   "source": [
    "anime_id_name_df_10PlusRatings.query('Name == \"Naruto\"')"
   ]
  },
  {
   "cell_type": "code",
   "execution_count": 24,
   "id": "fe6f1186",
   "metadata": {
    "scrolled": true
   },
   "outputs": [
    {
     "data": {
      "text/html": [
       "<div>\n",
       "<style scoped>\n",
       "    .dataframe tbody tr th:only-of-type {\n",
       "        vertical-align: middle;\n",
       "    }\n",
       "\n",
       "    .dataframe tbody tr th {\n",
       "        vertical-align: top;\n",
       "    }\n",
       "\n",
       "    .dataframe thead th {\n",
       "        text-align: right;\n",
       "    }\n",
       "</style>\n",
       "<table border=\"1\" class=\"dataframe\">\n",
       "  <thead>\n",
       "    <tr style=\"text-align: right;\">\n",
       "      <th></th>\n",
       "      <th>index</th>\n",
       "      <th>anime_id</th>\n",
       "      <th>Name</th>\n",
       "    </tr>\n",
       "  </thead>\n",
       "  <tbody>\n",
       "    <tr>\n",
       "      <th>0</th>\n",
       "      <td>0</td>\n",
       "      <td>1</td>\n",
       "      <td>Cowboy Bebop</td>\n",
       "    </tr>\n",
       "    <tr>\n",
       "      <th>1</th>\n",
       "      <td>1</td>\n",
       "      <td>5</td>\n",
       "      <td>Cowboy Bebop: Tengoku no Tobira</td>\n",
       "    </tr>\n",
       "    <tr>\n",
       "      <th>2</th>\n",
       "      <td>2</td>\n",
       "      <td>6</td>\n",
       "      <td>Trigun</td>\n",
       "    </tr>\n",
       "    <tr>\n",
       "      <th>3</th>\n",
       "      <td>3</td>\n",
       "      <td>7</td>\n",
       "      <td>Witch Hunter Robin</td>\n",
       "    </tr>\n",
       "    <tr>\n",
       "      <th>4</th>\n",
       "      <td>4</td>\n",
       "      <td>8</td>\n",
       "      <td>Bouken Ou Beet</td>\n",
       "    </tr>\n",
       "    <tr>\n",
       "      <th>...</th>\n",
       "      <td>...</td>\n",
       "      <td>...</td>\n",
       "      <td>...</td>\n",
       "    </tr>\n",
       "    <tr>\n",
       "      <th>12073</th>\n",
       "      <td>12073</td>\n",
       "      <td>47402</td>\n",
       "      <td>Heikousen</td>\n",
       "    </tr>\n",
       "    <tr>\n",
       "      <th>12074</th>\n",
       "      <td>12074</td>\n",
       "      <td>47591</td>\n",
       "      <td>Kuro Gal ni Natta kara Shinyuu to shitemita.</td>\n",
       "    </tr>\n",
       "    <tr>\n",
       "      <th>12075</th>\n",
       "      <td>12075</td>\n",
       "      <td>47614</td>\n",
       "      <td>Nu Wushen de Canzhuo Spring Festival Special</td>\n",
       "    </tr>\n",
       "    <tr>\n",
       "      <th>12076</th>\n",
       "      <td>12076</td>\n",
       "      <td>47616</td>\n",
       "      <td>Yakusoku no Neverland 2nd Season: Michishirube</td>\n",
       "    </tr>\n",
       "    <tr>\n",
       "      <th>12077</th>\n",
       "      <td>12077</td>\n",
       "      <td>48456</td>\n",
       "      <td>SK∞: Crazy Rock Jam</td>\n",
       "    </tr>\n",
       "  </tbody>\n",
       "</table>\n",
       "<p>12078 rows × 3 columns</p>\n",
       "</div>"
      ],
      "text/plain": [
       "       index  anime_id                                            Name\n",
       "0          0         1                                    Cowboy Bebop\n",
       "1          1         5                 Cowboy Bebop: Tengoku no Tobira\n",
       "2          2         6                                          Trigun\n",
       "3          3         7                              Witch Hunter Robin\n",
       "4          4         8                                  Bouken Ou Beet\n",
       "...      ...       ...                                             ...\n",
       "12073  12073     47402                                       Heikousen\n",
       "12074  12074     47591    Kuro Gal ni Natta kara Shinyuu to shitemita.\n",
       "12075  12075     47614    Nu Wushen de Canzhuo Spring Festival Special\n",
       "12076  12076     47616  Yakusoku no Neverland 2nd Season: Michishirube\n",
       "12077  12077     48456                             SK∞: Crazy Rock Jam\n",
       "\n",
       "[12078 rows x 3 columns]"
      ]
     },
     "execution_count": 24,
     "metadata": {},
     "output_type": "execute_result"
    }
   ],
   "source": [
    "anime_id_name_df_100PlusRatings = active_users_df_100PlusRatings_partial_merge[['anime_id','Name']].drop_duplicates()\n",
    "anime_id_name_df_100PlusRatings = anime_id_name_df_100PlusRatings.sort_values('anime_id')\n",
    "anime_id_name_df_100PlusRatings = anime_id_name_df_100PlusRatings.reset_index().drop(columns = 'index')\n",
    "anime_id_name_df_100PlusRatings = anime_id_name_df_100PlusRatings.reset_index()\n",
    "anime_id_name_df_100PlusRatings"
   ]
  },
  {
   "cell_type": "code",
   "execution_count": 25,
   "id": "aedf109f",
   "metadata": {},
   "outputs": [
    {
     "data": {
      "text/html": [
       "<div>\n",
       "<style scoped>\n",
       "    .dataframe tbody tr th:only-of-type {\n",
       "        vertical-align: middle;\n",
       "    }\n",
       "\n",
       "    .dataframe tbody tr th {\n",
       "        vertical-align: top;\n",
       "    }\n",
       "\n",
       "    .dataframe thead th {\n",
       "        text-align: right;\n",
       "    }\n",
       "</style>\n",
       "<table border=\"1\" class=\"dataframe\">\n",
       "  <thead>\n",
       "    <tr style=\"text-align: right;\">\n",
       "      <th></th>\n",
       "      <th>index</th>\n",
       "      <th>anime_id</th>\n",
       "      <th>Name</th>\n",
       "    </tr>\n",
       "  </thead>\n",
       "  <tbody>\n",
       "    <tr>\n",
       "      <th>10</th>\n",
       "      <td>10</td>\n",
       "      <td>20</td>\n",
       "      <td>Naruto</td>\n",
       "    </tr>\n",
       "  </tbody>\n",
       "</table>\n",
       "</div>"
      ],
      "text/plain": [
       "    index  anime_id    Name\n",
       "10     10        20  Naruto"
      ]
     },
     "execution_count": 25,
     "metadata": {},
     "output_type": "execute_result"
    }
   ],
   "source": [
    "anime_id_name_df_10PlusRatings.query('Name == \"Naruto\"')"
   ]
  },
  {
   "cell_type": "code",
   "execution_count": 26,
   "id": "fdac071f",
   "metadata": {},
   "outputs": [],
   "source": [
    "#pca can do at this step but not on a sample data set"
   ]
  },
  {
   "cell_type": "markdown",
   "id": "73041a59",
   "metadata": {},
   "source": [
    "## KNN"
   ]
  },
  {
   "cell_type": "markdown",
   "id": "d59cf7ca",
   "metadata": {},
   "source": [
    "### for active_users_df_10PlusRatings_partial_pivot"
   ]
  },
  {
   "cell_type": "code",
   "execution_count": 27,
   "id": "bf76342f",
   "metadata": {
    "scrolled": true
   },
   "outputs": [
    {
     "data": {
      "text/plain": [
       "NearestNeighbors(algorithm='brute', metric='cosine')"
      ]
     },
     "execution_count": 27,
     "metadata": {},
     "output_type": "execute_result"
    }
   ],
   "source": [
    "#test model knn for users\n",
    "active_users_df_10PlusRatings_partial_pivot_matrix = csr_matrix(active_users_df_10PlusRatings_partial_pivot.values)\n",
    "\n",
    "model_knn_10PlusRatings = NearestNeighbors(metric = 'cosine', algorithm = 'brute')\n",
    "model_knn_10PlusRatings.fit(active_users_df_10PlusRatings_partial_pivot_matrix)"
   ]
  },
  {
   "cell_type": "markdown",
   "id": "e39ce28e",
   "metadata": {},
   "source": [
    "### active_users_df_100PlusRatings_partial_pivot"
   ]
  },
  {
   "cell_type": "code",
   "execution_count": 28,
   "id": "2446678e",
   "metadata": {
    "scrolled": true
   },
   "outputs": [
    {
     "data": {
      "text/plain": [
       "NearestNeighbors(algorithm='brute', metric='cosine')"
      ]
     },
     "execution_count": 28,
     "metadata": {},
     "output_type": "execute_result"
    }
   ],
   "source": [
    "#test model knn for users\n",
    "active_users_df_100PlusRatings_partial_pivot_matrix = csr_matrix(active_users_df_100PlusRatings_partial_pivot.values)\n",
    "\n",
    "model_knn_100PlusRatings = NearestNeighbors(metric = 'cosine', algorithm = 'brute')\n",
    "model_knn_100PlusRatings.fit(active_users_df_100PlusRatings_partial_pivot_matrix)"
   ]
  },
  {
   "cell_type": "markdown",
   "id": "93261606",
   "metadata": {},
   "source": [
    "### Predictions and comparaisons of model with index row"
   ]
  },
  {
   "cell_type": "code",
   "execution_count": 29,
   "id": "38686097",
   "metadata": {},
   "outputs": [],
   "source": [
    "# don't forget to when the distance for knn prediction is 0.0 is probably due lack of data and \n",
    "# not an extreme proximity of the anime"
   ]
  },
  {
   "cell_type": "code",
   "execution_count": 30,
   "id": "360409aa",
   "metadata": {
    "scrolled": true
   },
   "outputs": [],
   "source": [
    "#Chose the anime 5 who is the same on the two vectorized data\n",
    "index_nb = 25\n",
    "n_neighbors = 15\n",
    "distances, indices = model_knn_10PlusRatings.kneighbors(active_users_df_10PlusRatings_partial_pivot.iloc[index_nb,:].values.reshape(1, -1), n_neighbors = n_neighbors)"
   ]
  },
  {
   "cell_type": "code",
   "execution_count": 31,
   "id": "e1b11833",
   "metadata": {},
   "outputs": [
    {
     "data": {
      "text/plain": [
       "12078"
      ]
     },
     "execution_count": 31,
     "metadata": {},
     "output_type": "execute_result"
    }
   ],
   "source": [
    "active_users_df_100PlusRatings_partial_pivot.shape[0]"
   ]
  },
  {
   "cell_type": "code",
   "execution_count": 32,
   "id": "9012b4c4",
   "metadata": {},
   "outputs": [
    {
     "data": {
      "text/plain": [
       "'Rurouni Kenshin: Meiji Kenkaku Romantan - Tsuioku-hen'"
      ]
     },
     "execution_count": 32,
     "metadata": {},
     "output_type": "execute_result"
    }
   ],
   "source": [
    "anime_id_name_df_10PlusRatings.loc[25].Name"
   ]
  },
  {
   "cell_type": "code",
   "execution_count": 33,
   "id": "194609d0",
   "metadata": {},
   "outputs": [
    {
     "data": {
      "text/plain": [
       "array([[0., 0., 0., ..., 1., 0., 0.]])"
      ]
     },
     "execution_count": 33,
     "metadata": {},
     "output_type": "execute_result"
    }
   ],
   "source": [
    "active_users_df_100PlusRatings_partial_pivot.iloc[index_nb,:].values.reshape(1, -1)"
   ]
  },
  {
   "cell_type": "code",
   "execution_count": 34,
   "id": "a334237b",
   "metadata": {},
   "outputs": [
    {
     "name": "stdout",
     "output_type": "stream",
     "text": [
      "Recommendations for 44:\n",
      "\n",
      "1: 401, with distance of 0.36431687275875213:\n",
      "2: 45, with distance of 0.444539005016116:\n",
      "3: 46, with distance of 0.5286802689528898:\n",
      "4: 205, with distance of 0.6334247578773483:\n",
      "5: 164, with distance of 0.6485044073437123:\n",
      "6: 1, with distance of 0.6517394638507832:\n",
      "7: 6, with distance of 0.6612502707363357:\n",
      "8: 72, with distance of 0.6811899310024978:\n",
      "9: 5, with distance of 0.683516979576061:\n",
      "10: 267, with distance of 0.6853536947199822:\n",
      "11: 1818, with distance of 0.6875178705500049:\n",
      "12: 30, with distance of 0.6879974081784797:\n",
      "13: 33, with distance of 0.6888000669524639:\n",
      "14: 2418, with distance of 0.689720146582818:\n"
     ]
    }
   ],
   "source": [
    "#10PlusRatings\n",
    "for i in range(0, len(distances.flatten())):\n",
    "    if i == 0:\n",
    "        print('Recommendations for {0}:\\n'.format(active_users_df_10PlusRatings_partial_pivot.index[index_nb]))\n",
    "    else:\n",
    "        print('{0}: {1}, with distance of {2}:'.format(i, active_users_df_10PlusRatings_partial_pivot.index[indices.flatten()[i]], distances.flatten()[i]))"
   ]
  },
  {
   "cell_type": "code",
   "execution_count": 35,
   "id": "41059473",
   "metadata": {},
   "outputs": [],
   "source": [
    "distances, indices = model_knn_10PlusRatings.kneighbors(active_users_df_10PlusRatings_partial_pivot.iloc[index_nb,:].values.reshape(1, -1), n_neighbors = n_neighbors)"
   ]
  },
  {
   "cell_type": "code",
   "execution_count": 36,
   "id": "79d29bc5",
   "metadata": {
    "scrolled": true
   },
   "outputs": [
    {
     "data": {
      "text/html": [
       "<div>\n",
       "<style scoped>\n",
       "    .dataframe tbody tr th:only-of-type {\n",
       "        vertical-align: middle;\n",
       "    }\n",
       "\n",
       "    .dataframe tbody tr th {\n",
       "        vertical-align: top;\n",
       "    }\n",
       "\n",
       "    .dataframe thead th {\n",
       "        text-align: right;\n",
       "    }\n",
       "</style>\n",
       "<table border=\"1\" class=\"dataframe\">\n",
       "  <thead>\n",
       "    <tr style=\"text-align: right;\">\n",
       "      <th></th>\n",
       "      <th>index</th>\n",
       "      <th>anime_id</th>\n",
       "      <th>Name</th>\n",
       "    </tr>\n",
       "  </thead>\n",
       "  <tbody>\n",
       "    <tr>\n",
       "      <th>25</th>\n",
       "      <td>25</td>\n",
       "      <td>44</td>\n",
       "      <td>Rurouni Kenshin: Meiji Kenkaku Romantan - Tsui...</td>\n",
       "    </tr>\n",
       "  </tbody>\n",
       "</table>\n",
       "</div>"
      ],
      "text/plain": [
       "    index  anime_id                                               Name\n",
       "25     25        44  Rurouni Kenshin: Meiji Kenkaku Romantan - Tsui..."
      ]
     },
     "execution_count": 36,
     "metadata": {},
     "output_type": "execute_result"
    }
   ],
   "source": [
    "anime_id_name_df_10PlusRatings.query('anime_id == 44')"
   ]
  },
  {
   "cell_type": "code",
   "execution_count": 37,
   "id": "75ea65d2",
   "metadata": {
    "scrolled": true
   },
   "outputs": [
    {
     "data": {
      "text/plain": [
       "'Rurouni Kenshin: Meiji Kenkaku Romantan - Tsuioku-hen'"
      ]
     },
     "execution_count": 37,
     "metadata": {},
     "output_type": "execute_result"
    }
   ],
   "source": [
    "# How to obtain the nma of the anime from is anime_id\n",
    "anime_id_name_df_10PlusRatings.query('anime_id == 44').iloc[0].Name"
   ]
  },
  {
   "cell_type": "code",
   "execution_count": 38,
   "id": "27c34f14",
   "metadata": {},
   "outputs": [
    {
     "name": "stdout",
     "output_type": "stream",
     "text": [
      "Rurouni Kenshin: Meiji Kenkaku Romantan - Tsuioku-hen\n"
     ]
    }
   ],
   "source": [
    "print(anime_id_name_df_10PlusRatings.query('anime_id == 44').iloc[0].Name)"
   ]
  },
  {
   "cell_type": "code",
   "execution_count": 39,
   "id": "3193238e",
   "metadata": {},
   "outputs": [
    {
     "data": {
      "text/plain": [
       "'Rurouni Kenshin: Meiji Kenkaku Romantan - Tsuioku-hen'"
      ]
     },
     "execution_count": 39,
     "metadata": {},
     "output_type": "execute_result"
    }
   ],
   "source": [
    "nb = 44\n",
    "anime_id_name_df_10PlusRatings.query(f'anime_id == {nb}').iloc[0].Name"
   ]
  },
  {
   "cell_type": "code",
   "execution_count": 40,
   "id": "32f31925",
   "metadata": {},
   "outputs": [
    {
     "name": "stdout",
     "output_type": "stream",
     "text": [
      "Recommendations for Rurouni Kenshin: Meiji Kenkaku Romantan - Tsuioku-hen:\n",
      "Rurouni Kenshin: Meiji Kenkaku Romantan - Seisou-hen, with distance of 0.36431687275875213\n",
      "Rurouni Kenshin: Meiji Kenkaku Romantan, with distance of 0.444539005016116\n",
      "Rurouni Kenshin: Meiji Kenkaku Romantan - Ishinshishi e no Chinkonka, with distance of 0.5286802689528898\n",
      "Samurai Champloo, with distance of 0.6334247578773483\n",
      "Mononoke Hime, with distance of 0.6485044073437123\n",
      "Cowboy Bebop, with distance of 0.6517394638507832\n",
      "Trigun, with distance of 0.6612502707363357\n",
      "Full Metal Panic? Fumoffu, with distance of 0.6811899310024978\n",
      "Cowboy Bebop: Tengoku no Tobira, with distance of 0.683516979576061\n",
      "Gungrave, with distance of 0.6853536947199822\n",
      "Claymore, with distance of 0.6875178705500049\n",
      "Neon Genesis Evangelion, with distance of 0.6879974081784797\n",
      "Kenpuu Denki Berserk, with distance of 0.6888000669524639\n",
      "Stranger: Mukou Hadan, with distance of 0.689720146582818\n"
     ]
    }
   ],
   "source": [
    "#10PlusRatings list\n",
    "distances, indices = model_knn_10PlusRatings.kneighbors(active_users_df_10PlusRatings_partial_pivot.iloc[index_nb,:].values.reshape(1, -1), n_neighbors = n_neighbors)\n",
    "\n",
    "prediction_10PlusRatings = []\n",
    "for i in range(0, len(distances.flatten())):\n",
    "    if i == 0:\n",
    "        prediction_10PlusRatings.append([active_users_df_10PlusRatings_partial_pivot.index[indices.flatten()[i]],0])\n",
    "    else:\n",
    "        prediction_10PlusRatings.append([active_users_df_10PlusRatings_partial_pivot.index[indices.flatten()[i]],distances.flatten()[i]])\n",
    "\n",
    "for i in range(len(prediction_10PlusRatings)):\n",
    "    anime_name = anime_id_name_df_10PlusRatings.query(f'anime_id == {prediction_10PlusRatings[i][0]}').iloc[0].Name\n",
    "    distance = prediction_10PlusRatings[i][1]\n",
    "    if i == 0:\n",
    "        print(f'Recommendations for {anime_name}:')\n",
    "    else:\n",
    "        print(f'{anime_name}, with distance of {distance}')"
   ]
  },
  {
   "cell_type": "code",
   "execution_count": 41,
   "id": "f81b5e20",
   "metadata": {},
   "outputs": [
    {
     "data": {
      "text/plain": [
       "'Rurouni Kenshin: Meiji Kenkaku Romantan - Tsuioku-hen'"
      ]
     },
     "execution_count": 41,
     "metadata": {},
     "output_type": "execute_result"
    }
   ],
   "source": [
    "anime_id_name_df_10PlusRatings.query(f'anime_id == {prediction_10PlusRatings[0][0]}').iloc[0].Name"
   ]
  },
  {
   "cell_type": "code",
   "execution_count": 42,
   "id": "866f29a7",
   "metadata": {
    "scrolled": true
   },
   "outputs": [
    {
     "data": {
      "text/plain": [
       "44"
      ]
     },
     "execution_count": 42,
     "metadata": {},
     "output_type": "execute_result"
    }
   ],
   "source": [
    "prediction_10PlusRatings[0][0]"
   ]
  },
  {
   "cell_type": "code",
   "execution_count": 43,
   "id": "2ecddcd0",
   "metadata": {},
   "outputs": [
    {
     "name": "stdout",
     "output_type": "stream",
     "text": [
      "Recommendations for Rurouni Kenshin: Meiji Kenkaku Romantan - Tsuioku-hen:\n",
      "Rurouni Kenshin: Meiji Kenkaku Romantan - Seisou-hen, with distance of 0.3392024684042634\n",
      "Rurouni Kenshin: Meiji Kenkaku Romantan, with distance of 0.4056587199855285\n",
      "Rurouni Kenshin: Meiji Kenkaku Romantan - Ishinshishi e no Chinkonka, with distance of 0.48544453324946224\n",
      "Samurai Champloo, with distance of 0.6004061899767895\n",
      "Full Metal Panic? Fumoffu, with distance of 0.6324907094657403\n",
      "Mononoke Hime, with distance of 0.6325284247999461\n",
      "Cowboy Bebop, with distance of 0.6341257529697438\n",
      "Trigun, with distance of 0.6366783559071133\n",
      "Gungrave, with distance of 0.6406668969042768\n",
      "Full Metal Panic!, with distance of 0.644794204415011\n",
      "Fullmetal Alchemist, with distance of 0.6538144162347106\n",
      "Cowboy Bebop: Tengoku no Tobira, with distance of 0.6541910641589916\n",
      "Claymore, with distance of 0.6547918404420043\n",
      "Full Metal Panic! The Second Raid, with distance of 0.6550960555272466\n"
     ]
    }
   ],
   "source": [
    "#100PlusRatings list\n",
    "distances, indices = model_knn_100PlusRatings.kneighbors(active_users_df_100PlusRatings_partial_pivot.iloc[index_nb,:].values.reshape(1, -1), n_neighbors = n_neighbors)\n",
    "prediction_100PlusRatings = []\n",
    "for i in range(len(distances.flatten())):\n",
    "    if i == 0:\n",
    "        prediction_100PlusRatings.append([active_users_df_100PlusRatings_partial_pivot.index[indices.flatten()[i]],0])\n",
    "    else:\n",
    "        prediction_100PlusRatings.append([active_users_df_100PlusRatings_partial_pivot.index[indices.flatten()[i]],distances.flatten()[i]])\n",
    "\n",
    "for i in range(len(prediction_100PlusRatings)):\n",
    "    anime_name = anime_id_name_df_100PlusRatings.query(f'anime_id == {prediction_100PlusRatings[i][0]}').iloc[0].Name\n",
    "    distance = prediction_100PlusRatings[i][1]\n",
    "    if i == 0:\n",
    "        print(f'Recommendations for {anime_name}:')\n",
    "    else:\n",
    "        print(f'{anime_name}, with distance of {distance}')"
   ]
  },
  {
   "cell_type": "markdown",
   "id": "b6e7e925",
   "metadata": {},
   "source": [
    "### prediction and comparaison with an anime name"
   ]
  },
  {
   "cell_type": "code",
   "execution_count": 44,
   "id": "e1fce9a4",
   "metadata": {
    "scrolled": false
   },
   "outputs": [
    {
     "data": {
      "text/html": [
       "<div>\n",
       "<style scoped>\n",
       "    .dataframe tbody tr th:only-of-type {\n",
       "        vertical-align: middle;\n",
       "    }\n",
       "\n",
       "    .dataframe tbody tr th {\n",
       "        vertical-align: top;\n",
       "    }\n",
       "\n",
       "    .dataframe thead th {\n",
       "        text-align: right;\n",
       "    }\n",
       "</style>\n",
       "<table border=\"1\" class=\"dataframe\">\n",
       "  <thead>\n",
       "    <tr style=\"text-align: right;\">\n",
       "      <th></th>\n",
       "      <th>index</th>\n",
       "      <th>anime_id</th>\n",
       "      <th>Name</th>\n",
       "    </tr>\n",
       "  </thead>\n",
       "  <tbody>\n",
       "    <tr>\n",
       "      <th>10</th>\n",
       "      <td>10</td>\n",
       "      <td>20</td>\n",
       "      <td>Naruto</td>\n",
       "    </tr>\n",
       "  </tbody>\n",
       "</table>\n",
       "</div>"
      ],
      "text/plain": [
       "    index  anime_id    Name\n",
       "10     10        20  Naruto"
      ]
     },
     "execution_count": 44,
     "metadata": {},
     "output_type": "execute_result"
    }
   ],
   "source": [
    "anime_id_name_df_10PlusRatings.query('Name == \"Naruto\"')"
   ]
  },
  {
   "cell_type": "code",
   "execution_count": 45,
   "id": "a4260b2a",
   "metadata": {},
   "outputs": [],
   "source": [
    "n_neighbors = 15"
   ]
  },
  {
   "cell_type": "code",
   "execution_count": 46,
   "id": "6a014ab3",
   "metadata": {},
   "outputs": [],
   "source": [
    "index_nb = anime_id_name_df_10PlusRatings.query('Name == \"Naruto\"').index[0]"
   ]
  },
  {
   "cell_type": "code",
   "execution_count": 47,
   "id": "a02ff263",
   "metadata": {},
   "outputs": [
    {
     "data": {
      "text/plain": [
       "10"
      ]
     },
     "execution_count": 47,
     "metadata": {},
     "output_type": "execute_result"
    }
   ],
   "source": [
    "index_nb"
   ]
  },
  {
   "cell_type": "code",
   "execution_count": 48,
   "id": "f5c487d6",
   "metadata": {},
   "outputs": [
    {
     "name": "stdout",
     "output_type": "stream",
     "text": [
      "Recommendations for Naruto:\n",
      "Naruto: Shippuuden, with distance of 0.18144458447635292\n",
      "Death Note, with distance of 0.325256645439548\n",
      "Bleach, with distance of 0.3602709406538884\n",
      "Shingeki no Kyojin, with distance of 0.37577865508185526\n",
      "Fullmetal Alchemist: Brotherhood, with distance of 0.40915349226902775\n",
      "Code Geass: Hangyaku no Lelouch, with distance of 0.41286781080925006\n",
      "Sword Art Online, with distance of 0.41354577278288107\n",
      "One Piece, with distance of 0.4336348788848371\n",
      "Fairy Tail, with distance of 0.4342841733047107\n",
      "One Punch Man, with distance of 0.4403957799057846\n",
      "Code Geass: Hangyaku no Lelouch R2, with distance of 0.44215921764576194\n",
      "Tokyo Ghoul, with distance of 0.44570334595672456\n",
      "Boku no Hero Academia, with distance of 0.45181009908822\n",
      "Fullmetal Alchemist, with distance of 0.4574619821171074\n"
     ]
    }
   ],
   "source": [
    "#10PlusRatings list\n",
    "distances, indices = model_knn_10PlusRatings.kneighbors(active_users_df_10PlusRatings_partial_pivot.iloc[index_nb,:].values.reshape(1, -1), n_neighbors = n_neighbors)\n",
    "\n",
    "prediction_10PlusRatings = []\n",
    "for i in range(0, len(distances.flatten())):\n",
    "    if i == 0:\n",
    "        prediction_10PlusRatings.append([active_users_df_10PlusRatings_partial_pivot.index[indices.flatten()[i]],0])\n",
    "    else:\n",
    "        prediction_10PlusRatings.append([active_users_df_10PlusRatings_partial_pivot.index[indices.flatten()[i]],distances.flatten()[i]])\n",
    "\n",
    "for i in range(len(prediction_10PlusRatings)):\n",
    "    anime_name = anime_id_name_df_10PlusRatings.query(f'anime_id == {prediction_10PlusRatings[i][0]}').iloc[0].Name\n",
    "    distance = prediction_10PlusRatings[i][1]\n",
    "    if i == 0:\n",
    "        print(f'Recommendations for {anime_name}:')\n",
    "    else:\n",
    "        print(f'{anime_name}, with distance of {distance}')"
   ]
  },
  {
   "cell_type": "code",
   "execution_count": 49,
   "id": "8177ad9e",
   "metadata": {
    "scrolled": false
   },
   "outputs": [
    {
     "data": {
      "text/html": [
       "<div>\n",
       "<style scoped>\n",
       "    .dataframe tbody tr th:only-of-type {\n",
       "        vertical-align: middle;\n",
       "    }\n",
       "\n",
       "    .dataframe tbody tr th {\n",
       "        vertical-align: top;\n",
       "    }\n",
       "\n",
       "    .dataframe thead th {\n",
       "        text-align: right;\n",
       "    }\n",
       "</style>\n",
       "<table border=\"1\" class=\"dataframe\">\n",
       "  <thead>\n",
       "    <tr style=\"text-align: right;\">\n",
       "      <th></th>\n",
       "      <th>index</th>\n",
       "      <th>anime_id</th>\n",
       "      <th>Name</th>\n",
       "    </tr>\n",
       "  </thead>\n",
       "  <tbody>\n",
       "    <tr>\n",
       "      <th>10</th>\n",
       "      <td>10</td>\n",
       "      <td>20</td>\n",
       "      <td>Naruto</td>\n",
       "    </tr>\n",
       "  </tbody>\n",
       "</table>\n",
       "</div>"
      ],
      "text/plain": [
       "    index  anime_id    Name\n",
       "10     10        20  Naruto"
      ]
     },
     "execution_count": 49,
     "metadata": {},
     "output_type": "execute_result"
    }
   ],
   "source": [
    "anime_id_name_df_100PlusRatings.query('Name == \"Naruto\"')"
   ]
  },
  {
   "cell_type": "code",
   "execution_count": 50,
   "id": "3bc94c64",
   "metadata": {},
   "outputs": [],
   "source": [
    "index_nb = anime_id_name_df_100PlusRatings.query('Name == \"Naruto\"').index[0]"
   ]
  },
  {
   "cell_type": "code",
   "execution_count": 51,
   "id": "12dee056",
   "metadata": {
    "scrolled": true
   },
   "outputs": [
    {
     "data": {
      "text/plain": [
       "10"
      ]
     },
     "execution_count": 51,
     "metadata": {},
     "output_type": "execute_result"
    }
   ],
   "source": [
    "index_nb"
   ]
  },
  {
   "cell_type": "code",
   "execution_count": 52,
   "id": "5daed0db",
   "metadata": {
    "scrolled": false
   },
   "outputs": [
    {
     "name": "stdout",
     "output_type": "stream",
     "text": [
      "Recommendations for Naruto:\n",
      "Naruto: Shippuuden, with distance of 0.1563215743198142\n",
      "Death Note, with distance of 0.2817908534486975\n",
      "Bleach, with distance of 0.30734501769722944\n",
      "Shingeki no Kyojin, with distance of 0.308264865461254\n",
      "Fullmetal Alchemist: Brotherhood, with distance of 0.3383759985130016\n",
      "Sword Art Online, with distance of 0.34235842077151024\n",
      "Code Geass: Hangyaku no Lelouch, with distance of 0.3441057913395933\n",
      "One Punch Man, with distance of 0.36954673687841977\n",
      "Fairy Tail, with distance of 0.3697204357379914\n",
      "Code Geass: Hangyaku no Lelouch R2, with distance of 0.37338678583533447\n",
      "Tokyo Ghoul, with distance of 0.374666109851961\n",
      "Boku no Hero Academia, with distance of 0.38143617364207827\n",
      "One Piece, with distance of 0.38626488772772083\n",
      "Ao no Exorcist, with distance of 0.38685471643532365\n"
     ]
    }
   ],
   "source": [
    "#100PlusRatings list\n",
    "distances, indices = model_knn_100PlusRatings.kneighbors(active_users_df_100PlusRatings_partial_pivot.iloc[index_nb,:].values.reshape(1, -1), n_neighbors = n_neighbors)\n",
    "prediction_100PlusRatings = []\n",
    "for i in range(len(distances.flatten())):\n",
    "    if i == 0:\n",
    "        prediction_100PlusRatings.append([active_users_df_100PlusRatings_partial_pivot.index[indices.flatten()[i]],0])\n",
    "    else:\n",
    "        prediction_100PlusRatings.append([active_users_df_100PlusRatings_partial_pivot.index[indices.flatten()[i]],distances.flatten()[i]])\n",
    "\n",
    "for i in range(len(prediction_100PlusRatings)):\n",
    "    anime_name = anime_id_name_df_100PlusRatings.query(f'anime_id == {prediction_100PlusRatings[i][0]}').iloc[0].Name\n",
    "    distance = prediction_100PlusRatings[i][1]\n",
    "    if i == 0:\n",
    "        print(f'Recommendations for {anime_name}:')\n",
    "    else:\n",
    "        print(f'{anime_name}, with distance of {distance}')"
   ]
  },
  {
   "cell_type": "code",
   "execution_count": 53,
   "id": "1c025e97",
   "metadata": {},
   "outputs": [
    {
     "data": {
      "text/html": [
       "<div>\n",
       "<style scoped>\n",
       "    .dataframe tbody tr th:only-of-type {\n",
       "        vertical-align: middle;\n",
       "    }\n",
       "\n",
       "    .dataframe tbody tr th {\n",
       "        vertical-align: top;\n",
       "    }\n",
       "\n",
       "    .dataframe thead th {\n",
       "        text-align: right;\n",
       "    }\n",
       "</style>\n",
       "<table border=\"1\" class=\"dataframe\">\n",
       "  <thead>\n",
       "    <tr style=\"text-align: right;\">\n",
       "      <th></th>\n",
       "      <th>index</th>\n",
       "      <th>anime_id</th>\n",
       "      <th>Name</th>\n",
       "    </tr>\n",
       "  </thead>\n",
       "  <tbody>\n",
       "    <tr>\n",
       "      <th>428</th>\n",
       "      <td>428</td>\n",
       "      <td>457</td>\n",
       "      <td>Mushishi</td>\n",
       "    </tr>\n",
       "  </tbody>\n",
       "</table>\n",
       "</div>"
      ],
      "text/plain": [
       "     index  anime_id      Name\n",
       "428    428       457  Mushishi"
      ]
     },
     "execution_count": 53,
     "metadata": {},
     "output_type": "execute_result"
    }
   ],
   "source": [
    "anime_id_name_df_10PlusRatings.query('Name == \"Mushishi\"')"
   ]
  },
  {
   "cell_type": "code",
   "execution_count": 54,
   "id": "eaa50dc0",
   "metadata": {},
   "outputs": [
    {
     "data": {
      "text/html": [
       "<div>\n",
       "<style scoped>\n",
       "    .dataframe tbody tr th:only-of-type {\n",
       "        vertical-align: middle;\n",
       "    }\n",
       "\n",
       "    .dataframe tbody tr th {\n",
       "        vertical-align: top;\n",
       "    }\n",
       "\n",
       "    .dataframe thead th {\n",
       "        text-align: right;\n",
       "    }\n",
       "</style>\n",
       "<table border=\"1\" class=\"dataframe\">\n",
       "  <thead>\n",
       "    <tr style=\"text-align: right;\">\n",
       "      <th></th>\n",
       "      <th>index</th>\n",
       "      <th>anime_id</th>\n",
       "      <th>Name</th>\n",
       "    </tr>\n",
       "  </thead>\n",
       "  <tbody>\n",
       "    <tr>\n",
       "      <th>38</th>\n",
       "      <td>38</td>\n",
       "      <td>57</td>\n",
       "      <td>Beck</td>\n",
       "    </tr>\n",
       "  </tbody>\n",
       "</table>\n",
       "</div>"
      ],
      "text/plain": [
       "    index  anime_id  Name\n",
       "38     38        57  Beck"
      ]
     },
     "execution_count": 54,
     "metadata": {},
     "output_type": "execute_result"
    }
   ],
   "source": [
    "anime_id_name_df_10PlusRatings.query('Name == \"Beck\"')"
   ]
  },
  {
   "cell_type": "code",
   "execution_count": 55,
   "id": "4f87a4b7",
   "metadata": {},
   "outputs": [],
   "source": [
    "index_nb = anime_id_name_df_10PlusRatings.query('Name == \"Beck\"').index[0]"
   ]
  },
  {
   "cell_type": "code",
   "execution_count": 56,
   "id": "9f8f2dab",
   "metadata": {},
   "outputs": [
    {
     "name": "stdout",
     "output_type": "stream",
     "text": [
      "Recommendations for Beck:\n",
      "Great Teacher Onizuka, with distance of 0.5961063175375186\n",
      "Samurai Champloo, with distance of 0.629932435934509\n",
      "NHK ni Youkoso!, with distance of 0.6321798227720485\n",
      "Black Lagoon, with distance of 0.6360400871555631\n",
      "Nodame Cantabile, with distance of 0.6471302945451343\n",
      "FLCL, with distance of 0.6520528672241168\n",
      "Genshiken, with distance of 0.654471880801483\n",
      "Koukyoushihen Eureka Seven, with distance of 0.6564620023943006\n",
      "Detroit Metal City, with distance of 0.6591569015577761\n",
      "Code Geass: Hangyaku no Lelouch, with distance of 0.6596938264295662\n",
      "Black Lagoon: The Second Barrage, with distance of 0.6637794104196761\n",
      "Cowboy Bebop, with distance of 0.6641448400622625\n",
      "Baccano!, with distance of 0.6652186581723949\n",
      "Bakuman., with distance of 0.6664410249744712\n"
     ]
    }
   ],
   "source": [
    "#10PlusRatings list\n",
    "distances, indices = model_knn_10PlusRatings.kneighbors(active_users_df_10PlusRatings_partial_pivot.iloc[index_nb,:].values.reshape(1, -1), n_neighbors = n_neighbors)\n",
    "\n",
    "prediction_10PlusRatings = []\n",
    "for i in range(0, len(distances.flatten())):\n",
    "    if i == 0:\n",
    "        prediction_10PlusRatings.append([active_users_df_10PlusRatings_partial_pivot.index[indices.flatten()[i]],0])\n",
    "    else:\n",
    "        prediction_10PlusRatings.append([active_users_df_10PlusRatings_partial_pivot.index[indices.flatten()[i]],distances.flatten()[i]])\n",
    "\n",
    "for i in range(len(prediction_10PlusRatings)):\n",
    "    anime_name = anime_id_name_df_10PlusRatings.query(f'anime_id == {prediction_10PlusRatings[i][0]}').iloc[0].Name\n",
    "    distance = prediction_10PlusRatings[i][1]\n",
    "    if i == 0:\n",
    "        print(f'Recommendations for {anime_name}:')\n",
    "    else:\n",
    "        print(f'{anime_name}, with distance of {distance}')"
   ]
  },
  {
   "cell_type": "code",
   "execution_count": 57,
   "id": "694c807e",
   "metadata": {},
   "outputs": [],
   "source": [
    "index_nb = anime_id_name_df_100PlusRatings.reset_index().query('Name == \"Beck\"').index[0]"
   ]
  },
  {
   "cell_type": "code",
   "execution_count": 58,
   "id": "cb5a5fd6",
   "metadata": {},
   "outputs": [
    {
     "name": "stdout",
     "output_type": "stream",
     "text": [
      "Recommendations for Beck:\n",
      "Great Teacher Onizuka, with distance of 0.5589236354596175\n",
      "NHK ni Youkoso!, with distance of 0.5854165816991956\n",
      "Black Lagoon, with distance of 0.5995986886736324\n",
      "Samurai Champloo, with distance of 0.6018132084174517\n",
      "Nodame Cantabile, with distance of 0.6113882475555268\n",
      "FLCL, with distance of 0.6149569552394213\n",
      "Fullmetal Alchemist, with distance of 0.6199613515215108\n",
      "Black Lagoon: The Second Barrage, with distance of 0.6210225295287193\n",
      "Death Note, with distance of 0.6228517315549944\n",
      "Elfen Lied, with distance of 0.6240759314757851\n",
      "Genshiken, with distance of 0.625328148574896\n",
      "Durarara!!, with distance of 0.6273226062363111\n",
      "Code Geass: Hangyaku no Lelouch, with distance of 0.6275087638414367\n",
      "Koukyoushihen Eureka Seven, with distance of 0.6289270799757587\n"
     ]
    }
   ],
   "source": [
    "#100PlusRatings list\n",
    "distances, indices = model_knn_100PlusRatings.kneighbors(active_users_df_100PlusRatings_partial_pivot.iloc[index_nb,:].values.reshape(1, -1), n_neighbors = n_neighbors)\n",
    "prediction_100PlusRatings = []\n",
    "for i in range(len(distances.flatten())):\n",
    "    if i == 0:\n",
    "        prediction_100PlusRatings.append([active_users_df_100PlusRatings_partial_pivot.index[indices.flatten()[i]],0])\n",
    "    else:\n",
    "        prediction_100PlusRatings.append([active_users_df_100PlusRatings_partial_pivot.index[indices.flatten()[i]],distances.flatten()[i]])\n",
    "\n",
    "for i in range(len(prediction_100PlusRatings)):\n",
    "    anime_name = anime_id_name_df_100PlusRatings.query(f'anime_id == {prediction_100PlusRatings[i][0]}').iloc[0].Name\n",
    "    distance = prediction_100PlusRatings[i][1]\n",
    "    if i == 0:\n",
    "        print(f'Recommendations for {anime_name}:')\n",
    "    else:\n",
    "        print(f'{anime_name}, with distance of {distance}')"
   ]
  },
  {
   "cell_type": "code",
   "execution_count": 59,
   "id": "54eb3c88",
   "metadata": {},
   "outputs": [],
   "source": [
    "# the model give response that are coherent"
   ]
  },
  {
   "cell_type": "markdown",
   "id": "d032a86a",
   "metadata": {},
   "source": [
    "### Create fonction for using the model"
   ]
  },
  {
   "cell_type": "code",
   "execution_count": 60,
   "id": "84e16f87",
   "metadata": {},
   "outputs": [],
   "source": [
    "def recomendation_100PlusRatings(anime_name, nb_recomendation = 10):\n",
    "    index_nb = anime_id_name_df_100PlusRatings.query(f'Name == \"{anime_name}\"').index[0]\n",
    "    distances, indices = model_knn_100PlusRatings.kneighbors(active_users_df_100PlusRatings_partial_pivot.iloc[index_nb,:].values.reshape(1, -1), n_neighbors = nb_recomendation+1)\n",
    "    prediction_100PlusRatings = []\n",
    "    for i in range(len(distances.flatten())):\n",
    "        if i == 0:\n",
    "            prediction_100PlusRatings.append([active_users_df_100PlusRatings_partial_pivot.index[indices.flatten()[i]],0])\n",
    "        else:\n",
    "            prediction_100PlusRatings.append([active_users_df_100PlusRatings_partial_pivot.index[indices.flatten()[i]],distances.flatten()[i]])\n",
    "    results = []\n",
    "    for i in range(len(prediction_100PlusRatings)):\n",
    "        anime_name = anime_id_name_df_100PlusRatings.query(f'anime_id == {prediction_100PlusRatings[i][0]}').iloc[0].Name\n",
    "        distance = prediction_100PlusRatings[i][1]\n",
    "        results.append([anime_name,distance])\n",
    "    return results"
   ]
  },
  {
   "cell_type": "code",
   "execution_count": 61,
   "id": "28d559b8",
   "metadata": {},
   "outputs": [],
   "source": [
    "def recomendation_10PlusRatings(anime_name, nb_recomendation = 10):\n",
    "    index_nb = anime_id_name_df_10PlusRatings.query(f'Name == \"{anime_name}\"').index[0]\n",
    "    distances, indices = model_knn_10PlusRatings.kneighbors(active_users_df_10PlusRatings_partial_pivot.iloc[index_nb,:].values.reshape(1, -1), n_neighbors = nb_recomendation + 1)\n",
    "\n",
    "    prediction_10PlusRatings = []\n",
    "    for i in range(0, len(distances.flatten())):\n",
    "        if i == 0:\n",
    "            prediction_10PlusRatings.append([active_users_df_10PlusRatings_partial_pivot.index[indices.flatten()[i]],0])\n",
    "        else:\n",
    "            prediction_10PlusRatings.append([active_users_df_10PlusRatings_partial_pivot.index[indices.flatten()[i]],distances.flatten()[i]])\n",
    "    results = []\n",
    "    for i in range(len(prediction_10PlusRatings)):\n",
    "        anime_name = anime_id_name_df_10PlusRatings.query(f'anime_id == {prediction_10PlusRatings[i][0]}').iloc[0].Name\n",
    "        distance = prediction_10PlusRatings[i][1]\n",
    "        results.append([anime_name,distance])\n",
    "    return results"
   ]
  },
  {
   "cell_type": "code",
   "execution_count": 62,
   "id": "7595c55f",
   "metadata": {},
   "outputs": [
    {
     "data": {
      "text/plain": [
       "[['Naruto', 0],\n",
       " ['Naruto: Shippuuden', 0.1563215743198142],\n",
       " ['Death Note', 0.2817908534486975],\n",
       " ['Bleach', 0.30734501769722944],\n",
       " ['Shingeki no Kyojin', 0.308264865461254],\n",
       " ['Fullmetal Alchemist: Brotherhood', 0.3383759985130016],\n",
       " ['Sword Art Online', 0.34235842077151024],\n",
       " ['Code Geass: Hangyaku no Lelouch', 0.3441057913395933],\n",
       " ['One Punch Man', 0.36954673687841977],\n",
       " ['Fairy Tail', 0.3697204357379914],\n",
       " ['Code Geass: Hangyaku no Lelouch R2', 0.37338678583533447]]"
      ]
     },
     "execution_count": 62,
     "metadata": {},
     "output_type": "execute_result"
    }
   ],
   "source": [
    "recomendation_100PlusRatings('Naruto')"
   ]
  },
  {
   "cell_type": "code",
   "execution_count": 63,
   "id": "f36e9dbc",
   "metadata": {
    "scrolled": true
   },
   "outputs": [
    {
     "data": {
      "text/plain": [
       "[['Naruto', 0],\n",
       " ['Naruto: Shippuuden', 0.18144458447635292],\n",
       " ['Death Note', 0.325256645439548],\n",
       " ['Bleach', 0.3602709406538884],\n",
       " ['Shingeki no Kyojin', 0.37577865508185526],\n",
       " ['Fullmetal Alchemist: Brotherhood', 0.40915349226902775],\n",
       " ['Code Geass: Hangyaku no Lelouch', 0.41286781080925006],\n",
       " ['Sword Art Online', 0.41354577278288107],\n",
       " ['One Piece', 0.4336348788848371],\n",
       " ['Fairy Tail', 0.4342841733047107],\n",
       " ['One Punch Man', 0.4403957799057846]]"
      ]
     },
     "execution_count": 63,
     "metadata": {},
     "output_type": "execute_result"
    }
   ],
   "source": [
    "recomendation_10PlusRatings('Naruto')"
   ]
  },
  {
   "cell_type": "code",
   "execution_count": null,
   "id": "ffab1f67",
   "metadata": {},
   "outputs": [],
   "source": []
  }
 ],
 "metadata": {
  "kernelspec": {
   "display_name": "Python 3 (ipykernel)",
   "language": "python",
   "name": "python3"
  },
  "language_info": {
   "codemirror_mode": {
    "name": "ipython",
    "version": 3
   },
   "file_extension": ".py",
   "mimetype": "text/x-python",
   "name": "python",
   "nbconvert_exporter": "python",
   "pygments_lexer": "ipython3",
   "version": "3.8.6"
  },
  "toc": {
   "base_numbering": 1,
   "nav_menu": {},
   "number_sections": true,
   "sideBar": true,
   "skip_h1_title": false,
   "title_cell": "Table of Contents",
   "title_sidebar": "Contents",
   "toc_cell": false,
   "toc_position": {},
   "toc_section_display": true,
   "toc_window_display": false
  }
 },
 "nbformat": 4,
 "nbformat_minor": 5
}
