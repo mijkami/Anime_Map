{
 "cells": [
  {
   "cell_type": "code",
   "execution_count": 108,
   "id": "385b81da",
   "metadata": {},
   "outputs": [],
   "source": [
    "import pandas as pd\n",
    "import numpy as np\n",
    "import matplotlib.pyplot as plt\n",
    "import seaborn as sns\n",
    "from mpl_toolkits.mplot3d import Axes3D\n",
    "from scipy.sparse import csr_matrix\n",
    "from sklearn.neighbors import NearestNeighbors\n",
    "from sklearn.decomposition import PCA, TruncatedSVD"
   ]
  },
  {
   "cell_type": "markdown",
   "id": "83f82ba6",
   "metadata": {},
   "source": [
    "# Start to test some model"
   ]
  },
  {
   "cell_type": "markdown",
   "id": "9fbf001c",
   "metadata": {
    "heading_collapsed": true
   },
   "source": [
    "## import of differrent sample of data set"
   ]
  },
  {
   "cell_type": "code",
   "execution_count": 2,
   "id": "201586c3",
   "metadata": {
    "hidden": true
   },
   "outputs": [],
   "source": [
    "active_users_df_10PlusRatings_partial = pd.read_csv('../data/Processed_data/active_users_df_10PlusRatings_partial.csv')"
   ]
  },
  {
   "cell_type": "code",
   "execution_count": 3,
   "id": "7b73a600",
   "metadata": {
    "hidden": true
   },
   "outputs": [],
   "source": [
    "active_users_df_100PlusRatings_partial = pd.read_csv('../data/Processed_data/active_users_df_100PlusRatings_partial.csv')"
   ]
  },
  {
   "cell_type": "code",
   "execution_count": 4,
   "id": "dfa909b2",
   "metadata": {
    "hidden": true
   },
   "outputs": [],
   "source": [
    "rating_complete_df_10PlusRatings_partial = pd.read_csv('../data/Processed_data/rating_complete_df_10PlusRatings_partial.csv')"
   ]
  },
  {
   "cell_type": "code",
   "execution_count": 5,
   "id": "ebfa1abf",
   "metadata": {
    "hidden": true
   },
   "outputs": [],
   "source": [
    "rating_complete_df_100PlusRatings_partial = pd.read_csv('../data/Processed_data/rating_complete_df_100PlusRatings_partial.csv')"
   ]
  },
  {
   "cell_type": "code",
   "execution_count": 6,
   "id": "47f2ee1e",
   "metadata": {
    "hidden": true
   },
   "outputs": [],
   "source": [
    "anime_df_relevant_PG = pd.read_csv('../data/Processed_data/anime_df_relevant_PG.csv')"
   ]
  },
  {
   "cell_type": "markdown",
   "id": "2bd84d14",
   "metadata": {
    "heading_collapsed": true
   },
   "source": [
    "## data set normalisation"
   ]
  },
  {
   "cell_type": "code",
   "execution_count": 7,
   "id": "d78bafd7",
   "metadata": {
    "hidden": true
   },
   "outputs": [],
   "source": [
    "active_users_df_10PlusRatings_partial['rating'] = active_users_df_10PlusRatings_partial['rating']/10"
   ]
  },
  {
   "cell_type": "code",
   "execution_count": 8,
   "id": "bdd93343",
   "metadata": {
    "hidden": true
   },
   "outputs": [],
   "source": [
    "active_users_df_100PlusRatings_partial['rating'] = active_users_df_100PlusRatings_partial['rating']/10"
   ]
  },
  {
   "cell_type": "code",
   "execution_count": 9,
   "id": "ba5f8dd1",
   "metadata": {
    "hidden": true
   },
   "outputs": [],
   "source": [
    "rating_complete_df_10PlusRatings_partial['rating'] = rating_complete_df_10PlusRatings_partial['rating']/10"
   ]
  },
  {
   "cell_type": "code",
   "execution_count": 10,
   "id": "fe4cb292",
   "metadata": {
    "hidden": true
   },
   "outputs": [],
   "source": [
    "rating_complete_df_100PlusRatings_partial['rating'] = rating_complete_df_100PlusRatings_partial['rating']/10"
   ]
  },
  {
   "cell_type": "markdown",
   "id": "4411cc9e",
   "metadata": {
    "heading_collapsed": true
   },
   "source": [
    "## data set merge"
   ]
  },
  {
   "cell_type": "code",
   "execution_count": 11,
   "id": "5b414f0d",
   "metadata": {
    "hidden": true
   },
   "outputs": [],
   "source": [
    "anime_name_df = anime_df_relevant_PG[['MAL_ID','Name']].rename(columns={'MAL_ID' : 'anime_id'})"
   ]
  },
  {
   "cell_type": "code",
   "execution_count": 12,
   "id": "6d05e5b7",
   "metadata": {
    "hidden": true
   },
   "outputs": [],
   "source": [
    "active_users_df_10PlusRatings_partial_merge = active_users_df_10PlusRatings_partial.merge(anime_name_df, on = 'anime_id', how='inner')"
   ]
  },
  {
   "cell_type": "code",
   "execution_count": 13,
   "id": "7f284ed6",
   "metadata": {
    "hidden": true
   },
   "outputs": [],
   "source": [
    "active_users_df_100PlusRatings_partial_merge = active_users_df_100PlusRatings_partial.merge(anime_name_df, on = 'anime_id', how='inner')"
   ]
  },
  {
   "cell_type": "code",
   "execution_count": 14,
   "id": "5963474f",
   "metadata": {
    "hidden": true
   },
   "outputs": [],
   "source": [
    "rating_complete_df_10PlusRatings_partial_merge = rating_complete_df_10PlusRatings_partial.merge(anime_name_df, on = 'anime_id', how='inner')"
   ]
  },
  {
   "cell_type": "code",
   "execution_count": 15,
   "id": "7332e917",
   "metadata": {
    "hidden": true
   },
   "outputs": [],
   "source": [
    "rating_complete_df_100PlusRatings_partial_merge = rating_complete_df_100PlusRatings_partial.merge(anime_name_df, on = 'anime_id', how='inner')"
   ]
  },
  {
   "cell_type": "markdown",
   "id": "6f080b28",
   "metadata": {},
   "source": [
    "## data set vectorization"
   ]
  },
  {
   "cell_type": "markdown",
   "id": "abdc2d49",
   "metadata": {
    "heading_collapsed": true
   },
   "source": [
    "### vectorize anime by genres"
   ]
  },
  {
   "cell_type": "code",
   "execution_count": 16,
   "id": "a2eb5a16",
   "metadata": {
    "hidden": true
   },
   "outputs": [],
   "source": [
    "anime_Genres_df = anime_df_relevant_PG[['MAL_ID','Genres']].rename(columns={'MAL_ID' : 'anime_id'})"
   ]
  },
  {
   "cell_type": "code",
   "execution_count": 17,
   "id": "a4ac41c6",
   "metadata": {
    "hidden": true,
    "scrolled": false
   },
   "outputs": [
    {
     "name": "stderr",
     "output_type": "stream",
     "text": [
      "/tmp/ipykernel_1781/3467840990.py:1: FutureWarning: In a future version of pandas all arguments of DataFrame.drop except for the argument 'labels' will be keyword-only\n",
      "  anime_Genres_df_encoded = pd.concat([anime_Genres_df.drop('Genres', 1), anime_Genres_df['Genres'].str.get_dummies(sep=\", \")], 1)\n",
      "/tmp/ipykernel_1781/3467840990.py:1: FutureWarning: In a future version of pandas all arguments of concat except for the argument 'objs' will be keyword-only\n",
      "  anime_Genres_df_encoded = pd.concat([anime_Genres_df.drop('Genres', 1), anime_Genres_df['Genres'].str.get_dummies(sep=\", \")], 1)\n"
     ]
    }
   ],
   "source": [
    "anime_Genres_df_encoded = pd.concat([anime_Genres_df.drop('Genres', 1), anime_Genres_df['Genres'].str.get_dummies(sep=\", \")], 1)"
   ]
  },
  {
   "cell_type": "code",
   "execution_count": 18,
   "id": "da20f5db",
   "metadata": {
    "hidden": true
   },
   "outputs": [],
   "source": [
    "anime_Genres_df_encoded = anime_Genres_df_encoded.set_index('anime_id')"
   ]
  },
  {
   "cell_type": "code",
   "execution_count": 19,
   "id": "14d88258",
   "metadata": {
    "hidden": true,
    "scrolled": true
   },
   "outputs": [
    {
     "data": {
      "text/plain": [
       "Index(['Action', 'Adventure', 'Cars', 'Comedy', 'Dementia', 'Demons', 'Drama',\n",
       "       'Ecchi', 'Fantasy', 'Game', 'Harem', 'Historical', 'Horror', 'Josei',\n",
       "       'Kids', 'Magic', 'Martial Arts', 'Mecha', 'Military', 'Music',\n",
       "       'Mystery', 'Parody', 'Police', 'Psychological', 'Romance', 'Samurai',\n",
       "       'School', 'Sci-Fi', 'Seinen', 'Shoujo', 'Shoujo Ai', 'Shounen',\n",
       "       'Shounen Ai', 'Slice of Life', 'Space', 'Sports', 'Super Power',\n",
       "       'Supernatural', 'Thriller', 'Vampire'],\n",
       "      dtype='object')"
      ]
     },
     "execution_count": 19,
     "metadata": {},
     "output_type": "execute_result"
    }
   ],
   "source": [
    "anime_Genres_df_encoded.columns"
   ]
  },
  {
   "cell_type": "code",
   "execution_count": 20,
   "id": "87465bd3",
   "metadata": {
    "hidden": true
   },
   "outputs": [
    {
     "data": {
      "text/html": [
       "<div>\n",
       "<style scoped>\n",
       "    .dataframe tbody tr th:only-of-type {\n",
       "        vertical-align: middle;\n",
       "    }\n",
       "\n",
       "    .dataframe tbody tr th {\n",
       "        vertical-align: top;\n",
       "    }\n",
       "\n",
       "    .dataframe thead th {\n",
       "        text-align: right;\n",
       "    }\n",
       "</style>\n",
       "<table border=\"1\" class=\"dataframe\">\n",
       "  <thead>\n",
       "    <tr style=\"text-align: right;\">\n",
       "      <th></th>\n",
       "      <th>anime_id</th>\n",
       "      <th>Name</th>\n",
       "    </tr>\n",
       "  </thead>\n",
       "  <tbody>\n",
       "    <tr>\n",
       "      <th>0</th>\n",
       "      <td>1</td>\n",
       "      <td>Cowboy Bebop</td>\n",
       "    </tr>\n",
       "    <tr>\n",
       "      <th>1</th>\n",
       "      <td>5</td>\n",
       "      <td>Cowboy Bebop: Tengoku no Tobira</td>\n",
       "    </tr>\n",
       "    <tr>\n",
       "      <th>2</th>\n",
       "      <td>6</td>\n",
       "      <td>Trigun</td>\n",
       "    </tr>\n",
       "    <tr>\n",
       "      <th>3</th>\n",
       "      <td>7</td>\n",
       "      <td>Witch Hunter Robin</td>\n",
       "    </tr>\n",
       "    <tr>\n",
       "      <th>4</th>\n",
       "      <td>8</td>\n",
       "      <td>Bouken Ou Beet</td>\n",
       "    </tr>\n",
       "    <tr>\n",
       "      <th>...</th>\n",
       "      <td>...</td>\n",
       "      <td>...</td>\n",
       "    </tr>\n",
       "    <tr>\n",
       "      <th>11043</th>\n",
       "      <td>47398</td>\n",
       "      <td>Kimetsu Gakuen: Valentine-hen</td>\n",
       "    </tr>\n",
       "    <tr>\n",
       "      <th>11044</th>\n",
       "      <td>47402</td>\n",
       "      <td>Heikousen</td>\n",
       "    </tr>\n",
       "    <tr>\n",
       "      <th>11045</th>\n",
       "      <td>47614</td>\n",
       "      <td>Nu Wushen de Canzhuo Spring Festival Special</td>\n",
       "    </tr>\n",
       "    <tr>\n",
       "      <th>11046</th>\n",
       "      <td>47616</td>\n",
       "      <td>Yakusoku no Neverland 2nd Season: Michishirube</td>\n",
       "    </tr>\n",
       "    <tr>\n",
       "      <th>11047</th>\n",
       "      <td>48456</td>\n",
       "      <td>SK∞: Crazy Rock Jam</td>\n",
       "    </tr>\n",
       "  </tbody>\n",
       "</table>\n",
       "<p>11048 rows × 2 columns</p>\n",
       "</div>"
      ],
      "text/plain": [
       "       anime_id                                            Name\n",
       "0             1                                    Cowboy Bebop\n",
       "1             5                 Cowboy Bebop: Tengoku no Tobira\n",
       "2             6                                          Trigun\n",
       "3             7                              Witch Hunter Robin\n",
       "4             8                                  Bouken Ou Beet\n",
       "...         ...                                             ...\n",
       "11043     47398                   Kimetsu Gakuen: Valentine-hen\n",
       "11044     47402                                       Heikousen\n",
       "11045     47614    Nu Wushen de Canzhuo Spring Festival Special\n",
       "11046     47616  Yakusoku no Neverland 2nd Season: Michishirube\n",
       "11047     48456                             SK∞: Crazy Rock Jam\n",
       "\n",
       "[11048 rows x 2 columns]"
      ]
     },
     "execution_count": 20,
     "metadata": {},
     "output_type": "execute_result"
    }
   ],
   "source": [
    "anime_name_df"
   ]
  },
  {
   "cell_type": "markdown",
   "id": "3652cac8",
   "metadata": {},
   "source": [
    "### vectorize for active user and merge with  anime vectorized by genres"
   ]
  },
  {
   "cell_type": "code",
   "execution_count": 21,
   "id": "218fd1a4",
   "metadata": {},
   "outputs": [],
   "source": [
    "active_users_df_10PlusRatings_partial_pivot = active_users_df_10PlusRatings_partial_merge.pivot_table(index='anime_id',columns='user_id',values='rating').fillna(0)"
   ]
  },
  {
   "cell_type": "code",
   "execution_count": 22,
   "id": "13baa8e2",
   "metadata": {},
   "outputs": [],
   "source": [
    "active_users_df_10PlusRatings_partial_pivot = active_users_df_10PlusRatings_partial_pivot.merge(anime_Genres_df_encoded, how='inner',left_index=True, right_index=True)"
   ]
  },
  {
   "cell_type": "code",
   "execution_count": 23,
   "id": "941c3834",
   "metadata": {},
   "outputs": [],
   "source": [
    "active_users_df_100PlusRatings_partial_pivot = active_users_df_100PlusRatings_partial_merge.pivot_table(index='anime_id',columns='user_id',values='rating').fillna(0)"
   ]
  },
  {
   "cell_type": "code",
   "execution_count": 24,
   "id": "9fb3ab58",
   "metadata": {},
   "outputs": [],
   "source": [
    "active_users_df_100PlusRatings_partial_pivot = active_users_df_100PlusRatings_partial_pivot.merge(anime_Genres_df_encoded, how='inner',left_index=True, right_index=True)"
   ]
  },
  {
   "cell_type": "code",
   "execution_count": 25,
   "id": "b7512699",
   "metadata": {},
   "outputs": [
    {
     "data": {
      "text/html": [
       "<div>\n",
       "<style scoped>\n",
       "    .dataframe tbody tr th:only-of-type {\n",
       "        vertical-align: middle;\n",
       "    }\n",
       "\n",
       "    .dataframe tbody tr th {\n",
       "        vertical-align: top;\n",
       "    }\n",
       "\n",
       "    .dataframe thead th {\n",
       "        text-align: right;\n",
       "    }\n",
       "</style>\n",
       "<table border=\"1\" class=\"dataframe\">\n",
       "  <thead>\n",
       "    <tr style=\"text-align: right;\">\n",
       "      <th></th>\n",
       "      <th>0</th>\n",
       "      <th>1</th>\n",
       "      <th>2</th>\n",
       "      <th>3</th>\n",
       "      <th>4</th>\n",
       "      <th>5</th>\n",
       "      <th>6</th>\n",
       "      <th>7</th>\n",
       "      <th>8</th>\n",
       "      <th>11</th>\n",
       "      <th>...</th>\n",
       "      <th>Shoujo Ai</th>\n",
       "      <th>Shounen</th>\n",
       "      <th>Shounen Ai</th>\n",
       "      <th>Slice of Life</th>\n",
       "      <th>Space</th>\n",
       "      <th>Sports</th>\n",
       "      <th>Super Power</th>\n",
       "      <th>Supernatural</th>\n",
       "      <th>Thriller</th>\n",
       "      <th>Vampire</th>\n",
       "    </tr>\n",
       "    <tr>\n",
       "      <th>anime_id</th>\n",
       "      <th></th>\n",
       "      <th></th>\n",
       "      <th></th>\n",
       "      <th></th>\n",
       "      <th></th>\n",
       "      <th></th>\n",
       "      <th></th>\n",
       "      <th></th>\n",
       "      <th></th>\n",
       "      <th></th>\n",
       "      <th></th>\n",
       "      <th></th>\n",
       "      <th></th>\n",
       "      <th></th>\n",
       "      <th></th>\n",
       "      <th></th>\n",
       "      <th></th>\n",
       "      <th></th>\n",
       "      <th></th>\n",
       "      <th></th>\n",
       "      <th></th>\n",
       "    </tr>\n",
       "  </thead>\n",
       "  <tbody>\n",
       "    <tr>\n",
       "      <th>1</th>\n",
       "      <td>0.0</td>\n",
       "      <td>0.0</td>\n",
       "      <td>0.0</td>\n",
       "      <td>0.9</td>\n",
       "      <td>0.0</td>\n",
       "      <td>0.0</td>\n",
       "      <td>0.6</td>\n",
       "      <td>0.0</td>\n",
       "      <td>0.0</td>\n",
       "      <td>0.0</td>\n",
       "      <td>...</td>\n",
       "      <td>0</td>\n",
       "      <td>0</td>\n",
       "      <td>0</td>\n",
       "      <td>0</td>\n",
       "      <td>1</td>\n",
       "      <td>0</td>\n",
       "      <td>0</td>\n",
       "      <td>0</td>\n",
       "      <td>0</td>\n",
       "      <td>0</td>\n",
       "    </tr>\n",
       "    <tr>\n",
       "      <th>5</th>\n",
       "      <td>0.0</td>\n",
       "      <td>0.0</td>\n",
       "      <td>0.0</td>\n",
       "      <td>0.0</td>\n",
       "      <td>0.0</td>\n",
       "      <td>0.0</td>\n",
       "      <td>0.0</td>\n",
       "      <td>0.0</td>\n",
       "      <td>0.0</td>\n",
       "      <td>0.0</td>\n",
       "      <td>...</td>\n",
       "      <td>0</td>\n",
       "      <td>0</td>\n",
       "      <td>0</td>\n",
       "      <td>0</td>\n",
       "      <td>1</td>\n",
       "      <td>0</td>\n",
       "      <td>0</td>\n",
       "      <td>0</td>\n",
       "      <td>0</td>\n",
       "      <td>0</td>\n",
       "    </tr>\n",
       "    <tr>\n",
       "      <th>6</th>\n",
       "      <td>0.0</td>\n",
       "      <td>0.0</td>\n",
       "      <td>0.0</td>\n",
       "      <td>0.0</td>\n",
       "      <td>0.0</td>\n",
       "      <td>0.0</td>\n",
       "      <td>0.0</td>\n",
       "      <td>0.0</td>\n",
       "      <td>0.0</td>\n",
       "      <td>0.0</td>\n",
       "      <td>...</td>\n",
       "      <td>0</td>\n",
       "      <td>1</td>\n",
       "      <td>0</td>\n",
       "      <td>0</td>\n",
       "      <td>0</td>\n",
       "      <td>0</td>\n",
       "      <td>0</td>\n",
       "      <td>0</td>\n",
       "      <td>0</td>\n",
       "      <td>0</td>\n",
       "    </tr>\n",
       "    <tr>\n",
       "      <th>7</th>\n",
       "      <td>0.0</td>\n",
       "      <td>0.0</td>\n",
       "      <td>0.0</td>\n",
       "      <td>0.0</td>\n",
       "      <td>0.0</td>\n",
       "      <td>0.0</td>\n",
       "      <td>0.0</td>\n",
       "      <td>0.0</td>\n",
       "      <td>0.0</td>\n",
       "      <td>0.0</td>\n",
       "      <td>...</td>\n",
       "      <td>0</td>\n",
       "      <td>0</td>\n",
       "      <td>0</td>\n",
       "      <td>0</td>\n",
       "      <td>0</td>\n",
       "      <td>0</td>\n",
       "      <td>0</td>\n",
       "      <td>1</td>\n",
       "      <td>0</td>\n",
       "      <td>0</td>\n",
       "    </tr>\n",
       "    <tr>\n",
       "      <th>8</th>\n",
       "      <td>0.0</td>\n",
       "      <td>0.0</td>\n",
       "      <td>0.0</td>\n",
       "      <td>0.0</td>\n",
       "      <td>0.0</td>\n",
       "      <td>0.0</td>\n",
       "      <td>0.0</td>\n",
       "      <td>0.0</td>\n",
       "      <td>0.0</td>\n",
       "      <td>1.0</td>\n",
       "      <td>...</td>\n",
       "      <td>0</td>\n",
       "      <td>1</td>\n",
       "      <td>0</td>\n",
       "      <td>0</td>\n",
       "      <td>0</td>\n",
       "      <td>0</td>\n",
       "      <td>0</td>\n",
       "      <td>1</td>\n",
       "      <td>0</td>\n",
       "      <td>0</td>\n",
       "    </tr>\n",
       "    <tr>\n",
       "      <th>...</th>\n",
       "      <td>...</td>\n",
       "      <td>...</td>\n",
       "      <td>...</td>\n",
       "      <td>...</td>\n",
       "      <td>...</td>\n",
       "      <td>...</td>\n",
       "      <td>...</td>\n",
       "      <td>...</td>\n",
       "      <td>...</td>\n",
       "      <td>...</td>\n",
       "      <td>...</td>\n",
       "      <td>...</td>\n",
       "      <td>...</td>\n",
       "      <td>...</td>\n",
       "      <td>...</td>\n",
       "      <td>...</td>\n",
       "      <td>...</td>\n",
       "      <td>...</td>\n",
       "      <td>...</td>\n",
       "      <td>...</td>\n",
       "      <td>...</td>\n",
       "    </tr>\n",
       "    <tr>\n",
       "      <th>47398</th>\n",
       "      <td>0.0</td>\n",
       "      <td>0.0</td>\n",
       "      <td>0.0</td>\n",
       "      <td>0.0</td>\n",
       "      <td>0.0</td>\n",
       "      <td>0.0</td>\n",
       "      <td>0.0</td>\n",
       "      <td>0.0</td>\n",
       "      <td>0.0</td>\n",
       "      <td>0.0</td>\n",
       "      <td>...</td>\n",
       "      <td>0</td>\n",
       "      <td>0</td>\n",
       "      <td>0</td>\n",
       "      <td>0</td>\n",
       "      <td>0</td>\n",
       "      <td>0</td>\n",
       "      <td>0</td>\n",
       "      <td>0</td>\n",
       "      <td>0</td>\n",
       "      <td>0</td>\n",
       "    </tr>\n",
       "    <tr>\n",
       "      <th>47402</th>\n",
       "      <td>0.0</td>\n",
       "      <td>0.0</td>\n",
       "      <td>0.0</td>\n",
       "      <td>0.0</td>\n",
       "      <td>0.0</td>\n",
       "      <td>0.0</td>\n",
       "      <td>0.0</td>\n",
       "      <td>0.0</td>\n",
       "      <td>0.0</td>\n",
       "      <td>0.0</td>\n",
       "      <td>...</td>\n",
       "      <td>0</td>\n",
       "      <td>0</td>\n",
       "      <td>0</td>\n",
       "      <td>0</td>\n",
       "      <td>0</td>\n",
       "      <td>0</td>\n",
       "      <td>0</td>\n",
       "      <td>0</td>\n",
       "      <td>0</td>\n",
       "      <td>0</td>\n",
       "    </tr>\n",
       "    <tr>\n",
       "      <th>47614</th>\n",
       "      <td>0.0</td>\n",
       "      <td>0.0</td>\n",
       "      <td>0.0</td>\n",
       "      <td>0.0</td>\n",
       "      <td>0.0</td>\n",
       "      <td>0.0</td>\n",
       "      <td>0.0</td>\n",
       "      <td>0.0</td>\n",
       "      <td>0.0</td>\n",
       "      <td>0.0</td>\n",
       "      <td>...</td>\n",
       "      <td>0</td>\n",
       "      <td>0</td>\n",
       "      <td>0</td>\n",
       "      <td>1</td>\n",
       "      <td>0</td>\n",
       "      <td>0</td>\n",
       "      <td>0</td>\n",
       "      <td>0</td>\n",
       "      <td>0</td>\n",
       "      <td>0</td>\n",
       "    </tr>\n",
       "    <tr>\n",
       "      <th>47616</th>\n",
       "      <td>0.0</td>\n",
       "      <td>0.0</td>\n",
       "      <td>0.0</td>\n",
       "      <td>0.0</td>\n",
       "      <td>0.0</td>\n",
       "      <td>0.0</td>\n",
       "      <td>0.0</td>\n",
       "      <td>0.0</td>\n",
       "      <td>0.0</td>\n",
       "      <td>0.0</td>\n",
       "      <td>...</td>\n",
       "      <td>0</td>\n",
       "      <td>1</td>\n",
       "      <td>0</td>\n",
       "      <td>0</td>\n",
       "      <td>0</td>\n",
       "      <td>0</td>\n",
       "      <td>0</td>\n",
       "      <td>1</td>\n",
       "      <td>1</td>\n",
       "      <td>0</td>\n",
       "    </tr>\n",
       "    <tr>\n",
       "      <th>48456</th>\n",
       "      <td>0.0</td>\n",
       "      <td>0.0</td>\n",
       "      <td>0.0</td>\n",
       "      <td>0.0</td>\n",
       "      <td>0.0</td>\n",
       "      <td>0.0</td>\n",
       "      <td>0.0</td>\n",
       "      <td>0.0</td>\n",
       "      <td>0.0</td>\n",
       "      <td>0.0</td>\n",
       "      <td>...</td>\n",
       "      <td>0</td>\n",
       "      <td>0</td>\n",
       "      <td>0</td>\n",
       "      <td>0</td>\n",
       "      <td>0</td>\n",
       "      <td>1</td>\n",
       "      <td>0</td>\n",
       "      <td>0</td>\n",
       "      <td>0</td>\n",
       "      <td>0</td>\n",
       "    </tr>\n",
       "  </tbody>\n",
       "</table>\n",
       "<p>10182 rows × 4070 columns</p>\n",
       "</div>"
      ],
      "text/plain": [
       "            0    1    2    3    4    5    6    7    8   11  ...  Shoujo Ai  \\\n",
       "anime_id                                                    ...              \n",
       "1         0.0  0.0  0.0  0.9  0.0  0.0  0.6  0.0  0.0  0.0  ...          0   \n",
       "5         0.0  0.0  0.0  0.0  0.0  0.0  0.0  0.0  0.0  0.0  ...          0   \n",
       "6         0.0  0.0  0.0  0.0  0.0  0.0  0.0  0.0  0.0  0.0  ...          0   \n",
       "7         0.0  0.0  0.0  0.0  0.0  0.0  0.0  0.0  0.0  0.0  ...          0   \n",
       "8         0.0  0.0  0.0  0.0  0.0  0.0  0.0  0.0  0.0  1.0  ...          0   \n",
       "...       ...  ...  ...  ...  ...  ...  ...  ...  ...  ...  ...        ...   \n",
       "47398     0.0  0.0  0.0  0.0  0.0  0.0  0.0  0.0  0.0  0.0  ...          0   \n",
       "47402     0.0  0.0  0.0  0.0  0.0  0.0  0.0  0.0  0.0  0.0  ...          0   \n",
       "47614     0.0  0.0  0.0  0.0  0.0  0.0  0.0  0.0  0.0  0.0  ...          0   \n",
       "47616     0.0  0.0  0.0  0.0  0.0  0.0  0.0  0.0  0.0  0.0  ...          0   \n",
       "48456     0.0  0.0  0.0  0.0  0.0  0.0  0.0  0.0  0.0  0.0  ...          0   \n",
       "\n",
       "          Shounen  Shounen Ai  Slice of Life  Space  Sports  Super Power  \\\n",
       "anime_id                                                                   \n",
       "1               0           0              0      1       0            0   \n",
       "5               0           0              0      1       0            0   \n",
       "6               1           0              0      0       0            0   \n",
       "7               0           0              0      0       0            0   \n",
       "8               1           0              0      0       0            0   \n",
       "...           ...         ...            ...    ...     ...          ...   \n",
       "47398           0           0              0      0       0            0   \n",
       "47402           0           0              0      0       0            0   \n",
       "47614           0           0              1      0       0            0   \n",
       "47616           1           0              0      0       0            0   \n",
       "48456           0           0              0      0       1            0   \n",
       "\n",
       "          Supernatural  Thriller  Vampire  \n",
       "anime_id                                   \n",
       "1                    0         0        0  \n",
       "5                    0         0        0  \n",
       "6                    0         0        0  \n",
       "7                    1         0        0  \n",
       "8                    1         0        0  \n",
       "...                ...       ...      ...  \n",
       "47398                0         0        0  \n",
       "47402                0         0        0  \n",
       "47614                0         0        0  \n",
       "47616                1         1        0  \n",
       "48456                0         0        0  \n",
       "\n",
       "[10182 rows x 4070 columns]"
      ]
     },
     "execution_count": 25,
     "metadata": {},
     "output_type": "execute_result"
    }
   ],
   "source": [
    "active_users_df_10PlusRatings_partial_pivot"
   ]
  },
  {
   "cell_type": "code",
   "execution_count": 26,
   "id": "96bca918",
   "metadata": {
    "scrolled": true
   },
   "outputs": [
    {
     "data": {
      "text/html": [
       "<div>\n",
       "<style scoped>\n",
       "    .dataframe tbody tr th:only-of-type {\n",
       "        vertical-align: middle;\n",
       "    }\n",
       "\n",
       "    .dataframe tbody tr th {\n",
       "        vertical-align: top;\n",
       "    }\n",
       "\n",
       "    .dataframe thead th {\n",
       "        text-align: right;\n",
       "    }\n",
       "</style>\n",
       "<table border=\"1\" class=\"dataframe\">\n",
       "  <thead>\n",
       "    <tr style=\"text-align: right;\">\n",
       "      <th></th>\n",
       "      <th>1</th>\n",
       "      <th>3</th>\n",
       "      <th>4</th>\n",
       "      <th>6</th>\n",
       "      <th>11</th>\n",
       "      <th>14</th>\n",
       "      <th>16</th>\n",
       "      <th>17</th>\n",
       "      <th>19</th>\n",
       "      <th>21</th>\n",
       "      <th>...</th>\n",
       "      <th>Shoujo Ai</th>\n",
       "      <th>Shounen</th>\n",
       "      <th>Shounen Ai</th>\n",
       "      <th>Slice of Life</th>\n",
       "      <th>Space</th>\n",
       "      <th>Sports</th>\n",
       "      <th>Super Power</th>\n",
       "      <th>Supernatural</th>\n",
       "      <th>Thriller</th>\n",
       "      <th>Vampire</th>\n",
       "    </tr>\n",
       "    <tr>\n",
       "      <th>anime_id</th>\n",
       "      <th></th>\n",
       "      <th></th>\n",
       "      <th></th>\n",
       "      <th></th>\n",
       "      <th></th>\n",
       "      <th></th>\n",
       "      <th></th>\n",
       "      <th></th>\n",
       "      <th></th>\n",
       "      <th></th>\n",
       "      <th></th>\n",
       "      <th></th>\n",
       "      <th></th>\n",
       "      <th></th>\n",
       "      <th></th>\n",
       "      <th></th>\n",
       "      <th></th>\n",
       "      <th></th>\n",
       "      <th></th>\n",
       "      <th></th>\n",
       "      <th></th>\n",
       "    </tr>\n",
       "  </thead>\n",
       "  <tbody>\n",
       "    <tr>\n",
       "      <th>1</th>\n",
       "      <td>0.0</td>\n",
       "      <td>0.9</td>\n",
       "      <td>0.0</td>\n",
       "      <td>0.6</td>\n",
       "      <td>0.0</td>\n",
       "      <td>0.9</td>\n",
       "      <td>0.0</td>\n",
       "      <td>0.0</td>\n",
       "      <td>0.8</td>\n",
       "      <td>0.0</td>\n",
       "      <td>...</td>\n",
       "      <td>0</td>\n",
       "      <td>0</td>\n",
       "      <td>0</td>\n",
       "      <td>0</td>\n",
       "      <td>1</td>\n",
       "      <td>0</td>\n",
       "      <td>0</td>\n",
       "      <td>0</td>\n",
       "      <td>0</td>\n",
       "      <td>0</td>\n",
       "    </tr>\n",
       "    <tr>\n",
       "      <th>5</th>\n",
       "      <td>0.0</td>\n",
       "      <td>0.0</td>\n",
       "      <td>0.0</td>\n",
       "      <td>0.0</td>\n",
       "      <td>0.0</td>\n",
       "      <td>0.0</td>\n",
       "      <td>0.0</td>\n",
       "      <td>0.0</td>\n",
       "      <td>0.6</td>\n",
       "      <td>0.0</td>\n",
       "      <td>...</td>\n",
       "      <td>0</td>\n",
       "      <td>0</td>\n",
       "      <td>0</td>\n",
       "      <td>0</td>\n",
       "      <td>1</td>\n",
       "      <td>0</td>\n",
       "      <td>0</td>\n",
       "      <td>0</td>\n",
       "      <td>0</td>\n",
       "      <td>0</td>\n",
       "    </tr>\n",
       "    <tr>\n",
       "      <th>6</th>\n",
       "      <td>0.0</td>\n",
       "      <td>0.0</td>\n",
       "      <td>0.0</td>\n",
       "      <td>0.0</td>\n",
       "      <td>0.0</td>\n",
       "      <td>0.0</td>\n",
       "      <td>0.0</td>\n",
       "      <td>0.0</td>\n",
       "      <td>0.8</td>\n",
       "      <td>0.0</td>\n",
       "      <td>...</td>\n",
       "      <td>0</td>\n",
       "      <td>1</td>\n",
       "      <td>0</td>\n",
       "      <td>0</td>\n",
       "      <td>0</td>\n",
       "      <td>0</td>\n",
       "      <td>0</td>\n",
       "      <td>0</td>\n",
       "      <td>0</td>\n",
       "      <td>0</td>\n",
       "    </tr>\n",
       "    <tr>\n",
       "      <th>7</th>\n",
       "      <td>0.0</td>\n",
       "      <td>0.0</td>\n",
       "      <td>0.0</td>\n",
       "      <td>0.0</td>\n",
       "      <td>0.0</td>\n",
       "      <td>0.0</td>\n",
       "      <td>0.0</td>\n",
       "      <td>0.0</td>\n",
       "      <td>0.0</td>\n",
       "      <td>0.0</td>\n",
       "      <td>...</td>\n",
       "      <td>0</td>\n",
       "      <td>0</td>\n",
       "      <td>0</td>\n",
       "      <td>0</td>\n",
       "      <td>0</td>\n",
       "      <td>0</td>\n",
       "      <td>0</td>\n",
       "      <td>1</td>\n",
       "      <td>0</td>\n",
       "      <td>0</td>\n",
       "    </tr>\n",
       "    <tr>\n",
       "      <th>8</th>\n",
       "      <td>0.0</td>\n",
       "      <td>0.0</td>\n",
       "      <td>0.0</td>\n",
       "      <td>0.0</td>\n",
       "      <td>1.0</td>\n",
       "      <td>0.0</td>\n",
       "      <td>0.0</td>\n",
       "      <td>0.0</td>\n",
       "      <td>0.0</td>\n",
       "      <td>0.0</td>\n",
       "      <td>...</td>\n",
       "      <td>0</td>\n",
       "      <td>1</td>\n",
       "      <td>0</td>\n",
       "      <td>0</td>\n",
       "      <td>0</td>\n",
       "      <td>0</td>\n",
       "      <td>0</td>\n",
       "      <td>1</td>\n",
       "      <td>0</td>\n",
       "      <td>0</td>\n",
       "    </tr>\n",
       "    <tr>\n",
       "      <th>...</th>\n",
       "      <td>...</td>\n",
       "      <td>...</td>\n",
       "      <td>...</td>\n",
       "      <td>...</td>\n",
       "      <td>...</td>\n",
       "      <td>...</td>\n",
       "      <td>...</td>\n",
       "      <td>...</td>\n",
       "      <td>...</td>\n",
       "      <td>...</td>\n",
       "      <td>...</td>\n",
       "      <td>...</td>\n",
       "      <td>...</td>\n",
       "      <td>...</td>\n",
       "      <td>...</td>\n",
       "      <td>...</td>\n",
       "      <td>...</td>\n",
       "      <td>...</td>\n",
       "      <td>...</td>\n",
       "      <td>...</td>\n",
       "      <td>...</td>\n",
       "    </tr>\n",
       "    <tr>\n",
       "      <th>47398</th>\n",
       "      <td>0.0</td>\n",
       "      <td>0.0</td>\n",
       "      <td>0.0</td>\n",
       "      <td>0.0</td>\n",
       "      <td>0.0</td>\n",
       "      <td>0.0</td>\n",
       "      <td>0.0</td>\n",
       "      <td>0.0</td>\n",
       "      <td>0.0</td>\n",
       "      <td>0.0</td>\n",
       "      <td>...</td>\n",
       "      <td>0</td>\n",
       "      <td>0</td>\n",
       "      <td>0</td>\n",
       "      <td>0</td>\n",
       "      <td>0</td>\n",
       "      <td>0</td>\n",
       "      <td>0</td>\n",
       "      <td>0</td>\n",
       "      <td>0</td>\n",
       "      <td>0</td>\n",
       "    </tr>\n",
       "    <tr>\n",
       "      <th>47402</th>\n",
       "      <td>0.0</td>\n",
       "      <td>0.0</td>\n",
       "      <td>0.0</td>\n",
       "      <td>0.0</td>\n",
       "      <td>0.0</td>\n",
       "      <td>0.0</td>\n",
       "      <td>0.0</td>\n",
       "      <td>0.0</td>\n",
       "      <td>0.0</td>\n",
       "      <td>0.0</td>\n",
       "      <td>...</td>\n",
       "      <td>0</td>\n",
       "      <td>0</td>\n",
       "      <td>0</td>\n",
       "      <td>0</td>\n",
       "      <td>0</td>\n",
       "      <td>0</td>\n",
       "      <td>0</td>\n",
       "      <td>0</td>\n",
       "      <td>0</td>\n",
       "      <td>0</td>\n",
       "    </tr>\n",
       "    <tr>\n",
       "      <th>47614</th>\n",
       "      <td>0.0</td>\n",
       "      <td>0.0</td>\n",
       "      <td>0.0</td>\n",
       "      <td>0.0</td>\n",
       "      <td>0.0</td>\n",
       "      <td>0.0</td>\n",
       "      <td>0.0</td>\n",
       "      <td>0.0</td>\n",
       "      <td>0.0</td>\n",
       "      <td>0.0</td>\n",
       "      <td>...</td>\n",
       "      <td>0</td>\n",
       "      <td>0</td>\n",
       "      <td>0</td>\n",
       "      <td>1</td>\n",
       "      <td>0</td>\n",
       "      <td>0</td>\n",
       "      <td>0</td>\n",
       "      <td>0</td>\n",
       "      <td>0</td>\n",
       "      <td>0</td>\n",
       "    </tr>\n",
       "    <tr>\n",
       "      <th>47616</th>\n",
       "      <td>0.0</td>\n",
       "      <td>0.0</td>\n",
       "      <td>0.0</td>\n",
       "      <td>0.0</td>\n",
       "      <td>0.0</td>\n",
       "      <td>0.0</td>\n",
       "      <td>0.0</td>\n",
       "      <td>0.0</td>\n",
       "      <td>0.0</td>\n",
       "      <td>0.0</td>\n",
       "      <td>...</td>\n",
       "      <td>0</td>\n",
       "      <td>1</td>\n",
       "      <td>0</td>\n",
       "      <td>0</td>\n",
       "      <td>0</td>\n",
       "      <td>0</td>\n",
       "      <td>0</td>\n",
       "      <td>1</td>\n",
       "      <td>1</td>\n",
       "      <td>0</td>\n",
       "    </tr>\n",
       "    <tr>\n",
       "      <th>48456</th>\n",
       "      <td>0.0</td>\n",
       "      <td>0.0</td>\n",
       "      <td>0.0</td>\n",
       "      <td>0.0</td>\n",
       "      <td>0.0</td>\n",
       "      <td>0.0</td>\n",
       "      <td>0.0</td>\n",
       "      <td>0.0</td>\n",
       "      <td>0.0</td>\n",
       "      <td>0.0</td>\n",
       "      <td>...</td>\n",
       "      <td>0</td>\n",
       "      <td>0</td>\n",
       "      <td>0</td>\n",
       "      <td>0</td>\n",
       "      <td>0</td>\n",
       "      <td>1</td>\n",
       "      <td>0</td>\n",
       "      <td>0</td>\n",
       "      <td>0</td>\n",
       "      <td>0</td>\n",
       "    </tr>\n",
       "  </tbody>\n",
       "</table>\n",
       "<p>10166 rows × 2500 columns</p>\n",
       "</div>"
      ],
      "text/plain": [
       "            1    3    4    6   11   14   16   17   19   21  ...  Shoujo Ai  \\\n",
       "anime_id                                                    ...              \n",
       "1         0.0  0.9  0.0  0.6  0.0  0.9  0.0  0.0  0.8  0.0  ...          0   \n",
       "5         0.0  0.0  0.0  0.0  0.0  0.0  0.0  0.0  0.6  0.0  ...          0   \n",
       "6         0.0  0.0  0.0  0.0  0.0  0.0  0.0  0.0  0.8  0.0  ...          0   \n",
       "7         0.0  0.0  0.0  0.0  0.0  0.0  0.0  0.0  0.0  0.0  ...          0   \n",
       "8         0.0  0.0  0.0  0.0  1.0  0.0  0.0  0.0  0.0  0.0  ...          0   \n",
       "...       ...  ...  ...  ...  ...  ...  ...  ...  ...  ...  ...        ...   \n",
       "47398     0.0  0.0  0.0  0.0  0.0  0.0  0.0  0.0  0.0  0.0  ...          0   \n",
       "47402     0.0  0.0  0.0  0.0  0.0  0.0  0.0  0.0  0.0  0.0  ...          0   \n",
       "47614     0.0  0.0  0.0  0.0  0.0  0.0  0.0  0.0  0.0  0.0  ...          0   \n",
       "47616     0.0  0.0  0.0  0.0  0.0  0.0  0.0  0.0  0.0  0.0  ...          0   \n",
       "48456     0.0  0.0  0.0  0.0  0.0  0.0  0.0  0.0  0.0  0.0  ...          0   \n",
       "\n",
       "          Shounen  Shounen Ai  Slice of Life  Space  Sports  Super Power  \\\n",
       "anime_id                                                                   \n",
       "1               0           0              0      1       0            0   \n",
       "5               0           0              0      1       0            0   \n",
       "6               1           0              0      0       0            0   \n",
       "7               0           0              0      0       0            0   \n",
       "8               1           0              0      0       0            0   \n",
       "...           ...         ...            ...    ...     ...          ...   \n",
       "47398           0           0              0      0       0            0   \n",
       "47402           0           0              0      0       0            0   \n",
       "47614           0           0              1      0       0            0   \n",
       "47616           1           0              0      0       0            0   \n",
       "48456           0           0              0      0       1            0   \n",
       "\n",
       "          Supernatural  Thriller  Vampire  \n",
       "anime_id                                   \n",
       "1                    0         0        0  \n",
       "5                    0         0        0  \n",
       "6                    0         0        0  \n",
       "7                    1         0        0  \n",
       "8                    1         0        0  \n",
       "...                ...       ...      ...  \n",
       "47398                0         0        0  \n",
       "47402                0         0        0  \n",
       "47614                0         0        0  \n",
       "47616                1         1        0  \n",
       "48456                0         0        0  \n",
       "\n",
       "[10166 rows x 2500 columns]"
      ]
     },
     "execution_count": 26,
     "metadata": {},
     "output_type": "execute_result"
    }
   ],
   "source": [
    "active_users_df_100PlusRatings_partial_pivot"
   ]
  },
  {
   "cell_type": "code",
   "execution_count": 110,
   "id": "541a0281",
   "metadata": {},
   "outputs": [
    {
     "data": {
      "text/html": [
       "<div>\n",
       "<style scoped>\n",
       "    .dataframe tbody tr th:only-of-type {\n",
       "        vertical-align: middle;\n",
       "    }\n",
       "\n",
       "    .dataframe tbody tr th {\n",
       "        vertical-align: top;\n",
       "    }\n",
       "\n",
       "    .dataframe thead th {\n",
       "        text-align: right;\n",
       "    }\n",
       "</style>\n",
       "<table border=\"1\" class=\"dataframe\">\n",
       "  <thead>\n",
       "    <tr style=\"text-align: right;\">\n",
       "      <th></th>\n",
       "      <th>anime_id</th>\n",
       "      <th>Name</th>\n",
       "    </tr>\n",
       "  </thead>\n",
       "  <tbody>\n",
       "    <tr>\n",
       "      <th>0</th>\n",
       "      <td>1</td>\n",
       "      <td>Cowboy Bebop</td>\n",
       "    </tr>\n",
       "    <tr>\n",
       "      <th>1</th>\n",
       "      <td>5</td>\n",
       "      <td>Cowboy Bebop: Tengoku no Tobira</td>\n",
       "    </tr>\n",
       "    <tr>\n",
       "      <th>2</th>\n",
       "      <td>6</td>\n",
       "      <td>Trigun</td>\n",
       "    </tr>\n",
       "    <tr>\n",
       "      <th>3</th>\n",
       "      <td>7</td>\n",
       "      <td>Witch Hunter Robin</td>\n",
       "    </tr>\n",
       "    <tr>\n",
       "      <th>4</th>\n",
       "      <td>8</td>\n",
       "      <td>Bouken Ou Beet</td>\n",
       "    </tr>\n",
       "    <tr>\n",
       "      <th>...</th>\n",
       "      <td>...</td>\n",
       "      <td>...</td>\n",
       "    </tr>\n",
       "    <tr>\n",
       "      <th>10177</th>\n",
       "      <td>47398</td>\n",
       "      <td>Kimetsu Gakuen: Valentine-hen</td>\n",
       "    </tr>\n",
       "    <tr>\n",
       "      <th>10178</th>\n",
       "      <td>47402</td>\n",
       "      <td>Heikousen</td>\n",
       "    </tr>\n",
       "    <tr>\n",
       "      <th>10179</th>\n",
       "      <td>47614</td>\n",
       "      <td>Nu Wushen de Canzhuo Spring Festival Special</td>\n",
       "    </tr>\n",
       "    <tr>\n",
       "      <th>10180</th>\n",
       "      <td>47616</td>\n",
       "      <td>Yakusoku no Neverland 2nd Season: Michishirube</td>\n",
       "    </tr>\n",
       "    <tr>\n",
       "      <th>10181</th>\n",
       "      <td>48456</td>\n",
       "      <td>SK∞: Crazy Rock Jam</td>\n",
       "    </tr>\n",
       "  </tbody>\n",
       "</table>\n",
       "<p>10182 rows × 2 columns</p>\n",
       "</div>"
      ],
      "text/plain": [
       "       anime_id                                            Name\n",
       "0             1                                    Cowboy Bebop\n",
       "1             5                 Cowboy Bebop: Tengoku no Tobira\n",
       "2             6                                          Trigun\n",
       "3             7                              Witch Hunter Robin\n",
       "4             8                                  Bouken Ou Beet\n",
       "...         ...                                             ...\n",
       "10177     47398                   Kimetsu Gakuen: Valentine-hen\n",
       "10178     47402                                       Heikousen\n",
       "10179     47614    Nu Wushen de Canzhuo Spring Festival Special\n",
       "10180     47616  Yakusoku no Neverland 2nd Season: Michishirube\n",
       "10181     48456                             SK∞: Crazy Rock Jam\n",
       "\n",
       "[10182 rows x 2 columns]"
      ]
     },
     "execution_count": 110,
     "metadata": {},
     "output_type": "execute_result"
    }
   ],
   "source": [
    "anime_id_name_df_10PlusRatings = active_users_df_10PlusRatings_partial_merge[['anime_id','Name']].drop_duplicates()\n",
    "anime_id_name_df_10PlusRatings = anime_id_name_df_10PlusRatings.sort_values('anime_id')\n",
    "anime_id_name_df_10PlusRatings = anime_id_name_df_10PlusRatings.reset_index().drop(columns = 'index')\n",
    "anime_id_name_df_10PlusRatings"
   ]
  },
  {
   "cell_type": "code",
   "execution_count": 28,
   "id": "8592d5fc",
   "metadata": {},
   "outputs": [
    {
     "data": {
      "text/html": [
       "<div>\n",
       "<style scoped>\n",
       "    .dataframe tbody tr th:only-of-type {\n",
       "        vertical-align: middle;\n",
       "    }\n",
       "\n",
       "    .dataframe tbody tr th {\n",
       "        vertical-align: top;\n",
       "    }\n",
       "\n",
       "    .dataframe thead th {\n",
       "        text-align: right;\n",
       "    }\n",
       "</style>\n",
       "<table border=\"1\" class=\"dataframe\">\n",
       "  <thead>\n",
       "    <tr style=\"text-align: right;\">\n",
       "      <th></th>\n",
       "      <th>1</th>\n",
       "      <th>3</th>\n",
       "      <th>4</th>\n",
       "      <th>6</th>\n",
       "      <th>11</th>\n",
       "      <th>14</th>\n",
       "      <th>16</th>\n",
       "      <th>17</th>\n",
       "      <th>19</th>\n",
       "      <th>21</th>\n",
       "      <th>...</th>\n",
       "      <th>Shoujo Ai</th>\n",
       "      <th>Shounen</th>\n",
       "      <th>Shounen Ai</th>\n",
       "      <th>Slice of Life</th>\n",
       "      <th>Space</th>\n",
       "      <th>Sports</th>\n",
       "      <th>Super Power</th>\n",
       "      <th>Supernatural</th>\n",
       "      <th>Thriller</th>\n",
       "      <th>Vampire</th>\n",
       "    </tr>\n",
       "    <tr>\n",
       "      <th>anime_id</th>\n",
       "      <th></th>\n",
       "      <th></th>\n",
       "      <th></th>\n",
       "      <th></th>\n",
       "      <th></th>\n",
       "      <th></th>\n",
       "      <th></th>\n",
       "      <th></th>\n",
       "      <th></th>\n",
       "      <th></th>\n",
       "      <th></th>\n",
       "      <th></th>\n",
       "      <th></th>\n",
       "      <th></th>\n",
       "      <th></th>\n",
       "      <th></th>\n",
       "      <th></th>\n",
       "      <th></th>\n",
       "      <th></th>\n",
       "      <th></th>\n",
       "      <th></th>\n",
       "    </tr>\n",
       "  </thead>\n",
       "  <tbody>\n",
       "    <tr>\n",
       "      <th>44</th>\n",
       "      <td>0.0</td>\n",
       "      <td>0.0</td>\n",
       "      <td>0.0</td>\n",
       "      <td>0.0</td>\n",
       "      <td>0.0</td>\n",
       "      <td>0.0</td>\n",
       "      <td>0.0</td>\n",
       "      <td>0.0</td>\n",
       "      <td>0.7</td>\n",
       "      <td>0.0</td>\n",
       "      <td>...</td>\n",
       "      <td>0</td>\n",
       "      <td>1</td>\n",
       "      <td>0</td>\n",
       "      <td>0</td>\n",
       "      <td>0</td>\n",
       "      <td>0</td>\n",
       "      <td>0</td>\n",
       "      <td>0</td>\n",
       "      <td>0</td>\n",
       "      <td>0</td>\n",
       "    </tr>\n",
       "  </tbody>\n",
       "</table>\n",
       "<p>1 rows × 2500 columns</p>\n",
       "</div>"
      ],
      "text/plain": [
       "            1    3    4    6   11   14   16   17   19   21  ...  Shoujo Ai  \\\n",
       "anime_id                                                    ...              \n",
       "44        0.0  0.0  0.0  0.0  0.0  0.0  0.0  0.0  0.7  0.0  ...          0   \n",
       "\n",
       "          Shounen  Shounen Ai  Slice of Life  Space  Sports  Super Power  \\\n",
       "anime_id                                                                   \n",
       "44              1           0              0      0       0            0   \n",
       "\n",
       "          Supernatural  Thriller  Vampire  \n",
       "anime_id                                   \n",
       "44                   0         0        0  \n",
       "\n",
       "[1 rows x 2500 columns]"
      ]
     },
     "execution_count": 28,
     "metadata": {},
     "output_type": "execute_result"
    }
   ],
   "source": [
    "active_users_df_100PlusRatings_partial_pivot.loc[[44]]"
   ]
  },
  {
   "cell_type": "code",
   "execution_count": 29,
   "id": "3dbb34cd",
   "metadata": {},
   "outputs": [
    {
     "data": {
      "text/html": [
       "<div>\n",
       "<style scoped>\n",
       "    .dataframe tbody tr th:only-of-type {\n",
       "        vertical-align: middle;\n",
       "    }\n",
       "\n",
       "    .dataframe tbody tr th {\n",
       "        vertical-align: top;\n",
       "    }\n",
       "\n",
       "    .dataframe thead th {\n",
       "        text-align: right;\n",
       "    }\n",
       "</style>\n",
       "<table border=\"1\" class=\"dataframe\">\n",
       "  <thead>\n",
       "    <tr style=\"text-align: right;\">\n",
       "      <th></th>\n",
       "      <th>anime_id</th>\n",
       "      <th>Name</th>\n",
       "    </tr>\n",
       "  </thead>\n",
       "  <tbody>\n",
       "    <tr>\n",
       "      <th>44</th>\n",
       "      <td>63</td>\n",
       "      <td>DearS</td>\n",
       "    </tr>\n",
       "  </tbody>\n",
       "</table>\n",
       "</div>"
      ],
      "text/plain": [
       "    anime_id   Name\n",
       "44        63  DearS"
      ]
     },
     "execution_count": 29,
     "metadata": {},
     "output_type": "execute_result"
    }
   ],
   "source": [
    "anime_id_name_df_10PlusRatings.loc[[44]]"
   ]
  },
  {
   "cell_type": "code",
   "execution_count": 30,
   "id": "24b3639c",
   "metadata": {},
   "outputs": [
    {
     "data": {
      "text/html": [
       "<div>\n",
       "<style scoped>\n",
       "    .dataframe tbody tr th:only-of-type {\n",
       "        vertical-align: middle;\n",
       "    }\n",
       "\n",
       "    .dataframe tbody tr th {\n",
       "        vertical-align: top;\n",
       "    }\n",
       "\n",
       "    .dataframe thead th {\n",
       "        text-align: right;\n",
       "    }\n",
       "</style>\n",
       "<table border=\"1\" class=\"dataframe\">\n",
       "  <thead>\n",
       "    <tr style=\"text-align: right;\">\n",
       "      <th></th>\n",
       "      <th>anime_id</th>\n",
       "      <th>Name</th>\n",
       "    </tr>\n",
       "  </thead>\n",
       "  <tbody>\n",
       "    <tr>\n",
       "      <th>10</th>\n",
       "      <td>20</td>\n",
       "      <td>Naruto</td>\n",
       "    </tr>\n",
       "  </tbody>\n",
       "</table>\n",
       "</div>"
      ],
      "text/plain": [
       "    anime_id    Name\n",
       "10        20  Naruto"
      ]
     },
     "execution_count": 30,
     "metadata": {},
     "output_type": "execute_result"
    }
   ],
   "source": [
    "anime_id_name_df_10PlusRatings.query('Name == \"Naruto\"')"
   ]
  },
  {
   "cell_type": "code",
   "execution_count": 31,
   "id": "fe6f1186",
   "metadata": {},
   "outputs": [
    {
     "data": {
      "text/html": [
       "<div>\n",
       "<style scoped>\n",
       "    .dataframe tbody tr th:only-of-type {\n",
       "        vertical-align: middle;\n",
       "    }\n",
       "\n",
       "    .dataframe tbody tr th {\n",
       "        vertical-align: top;\n",
       "    }\n",
       "\n",
       "    .dataframe thead th {\n",
       "        text-align: right;\n",
       "    }\n",
       "</style>\n",
       "<table border=\"1\" class=\"dataframe\">\n",
       "  <thead>\n",
       "    <tr style=\"text-align: right;\">\n",
       "      <th></th>\n",
       "      <th>anime_id</th>\n",
       "      <th>Name</th>\n",
       "    </tr>\n",
       "  </thead>\n",
       "  <tbody>\n",
       "    <tr>\n",
       "      <th>0</th>\n",
       "      <td>1</td>\n",
       "      <td>Cowboy Bebop</td>\n",
       "    </tr>\n",
       "    <tr>\n",
       "      <th>1</th>\n",
       "      <td>5</td>\n",
       "      <td>Cowboy Bebop: Tengoku no Tobira</td>\n",
       "    </tr>\n",
       "    <tr>\n",
       "      <th>2</th>\n",
       "      <td>6</td>\n",
       "      <td>Trigun</td>\n",
       "    </tr>\n",
       "    <tr>\n",
       "      <th>3</th>\n",
       "      <td>7</td>\n",
       "      <td>Witch Hunter Robin</td>\n",
       "    </tr>\n",
       "    <tr>\n",
       "      <th>4</th>\n",
       "      <td>8</td>\n",
       "      <td>Bouken Ou Beet</td>\n",
       "    </tr>\n",
       "    <tr>\n",
       "      <th>...</th>\n",
       "      <td>...</td>\n",
       "      <td>...</td>\n",
       "    </tr>\n",
       "    <tr>\n",
       "      <th>10161</th>\n",
       "      <td>47398</td>\n",
       "      <td>Kimetsu Gakuen: Valentine-hen</td>\n",
       "    </tr>\n",
       "    <tr>\n",
       "      <th>10162</th>\n",
       "      <td>47402</td>\n",
       "      <td>Heikousen</td>\n",
       "    </tr>\n",
       "    <tr>\n",
       "      <th>10163</th>\n",
       "      <td>47614</td>\n",
       "      <td>Nu Wushen de Canzhuo Spring Festival Special</td>\n",
       "    </tr>\n",
       "    <tr>\n",
       "      <th>10164</th>\n",
       "      <td>47616</td>\n",
       "      <td>Yakusoku no Neverland 2nd Season: Michishirube</td>\n",
       "    </tr>\n",
       "    <tr>\n",
       "      <th>10165</th>\n",
       "      <td>48456</td>\n",
       "      <td>SK∞: Crazy Rock Jam</td>\n",
       "    </tr>\n",
       "  </tbody>\n",
       "</table>\n",
       "<p>10166 rows × 2 columns</p>\n",
       "</div>"
      ],
      "text/plain": [
       "       anime_id                                            Name\n",
       "0             1                                    Cowboy Bebop\n",
       "1             5                 Cowboy Bebop: Tengoku no Tobira\n",
       "2             6                                          Trigun\n",
       "3             7                              Witch Hunter Robin\n",
       "4             8                                  Bouken Ou Beet\n",
       "...         ...                                             ...\n",
       "10161     47398                   Kimetsu Gakuen: Valentine-hen\n",
       "10162     47402                                       Heikousen\n",
       "10163     47614    Nu Wushen de Canzhuo Spring Festival Special\n",
       "10164     47616  Yakusoku no Neverland 2nd Season: Michishirube\n",
       "10165     48456                             SK∞: Crazy Rock Jam\n",
       "\n",
       "[10166 rows x 2 columns]"
      ]
     },
     "execution_count": 31,
     "metadata": {},
     "output_type": "execute_result"
    }
   ],
   "source": [
    "anime_id_name_df_100PlusRatings = active_users_df_100PlusRatings_partial_merge[['anime_id','Name']].drop_duplicates()\n",
    "anime_id_name_df_100PlusRatings = anime_id_name_df_100PlusRatings.sort_values('anime_id')\n",
    "anime_id_name_df_100PlusRatings = anime_id_name_df_100PlusRatings.reset_index().drop(columns = 'index')\n",
    "anime_id_name_df_100PlusRatings"
   ]
  },
  {
   "cell_type": "code",
   "execution_count": 32,
   "id": "aedf109f",
   "metadata": {},
   "outputs": [
    {
     "data": {
      "text/html": [
       "<div>\n",
       "<style scoped>\n",
       "    .dataframe tbody tr th:only-of-type {\n",
       "        vertical-align: middle;\n",
       "    }\n",
       "\n",
       "    .dataframe tbody tr th {\n",
       "        vertical-align: top;\n",
       "    }\n",
       "\n",
       "    .dataframe thead th {\n",
       "        text-align: right;\n",
       "    }\n",
       "</style>\n",
       "<table border=\"1\" class=\"dataframe\">\n",
       "  <thead>\n",
       "    <tr style=\"text-align: right;\">\n",
       "      <th></th>\n",
       "      <th>anime_id</th>\n",
       "      <th>Name</th>\n",
       "    </tr>\n",
       "  </thead>\n",
       "  <tbody>\n",
       "    <tr>\n",
       "      <th>10</th>\n",
       "      <td>20</td>\n",
       "      <td>Naruto</td>\n",
       "    </tr>\n",
       "  </tbody>\n",
       "</table>\n",
       "</div>"
      ],
      "text/plain": [
       "    anime_id    Name\n",
       "10        20  Naruto"
      ]
     },
     "execution_count": 32,
     "metadata": {},
     "output_type": "execute_result"
    }
   ],
   "source": [
    "anime_id_name_df_10PlusRatings.query('Name == \"Naruto\"')"
   ]
  },
  {
   "cell_type": "code",
   "execution_count": 33,
   "id": "fdac071f",
   "metadata": {},
   "outputs": [],
   "source": [
    "#pca can do at this step but not on a sample data set"
   ]
  },
  {
   "cell_type": "markdown",
   "id": "74d697d0",
   "metadata": {
    "heading_collapsed": true
   },
   "source": [
    "### vectorize for anime completed and merge with  anime vectorized by genres"
   ]
  },
  {
   "cell_type": "code",
   "execution_count": 34,
   "id": "f4ee01d1",
   "metadata": {
    "hidden": true
   },
   "outputs": [],
   "source": [
    "rating_complete_df_10PlusRatings_partial_merge['rating'] = 1"
   ]
  },
  {
   "cell_type": "code",
   "execution_count": 35,
   "id": "1166e439",
   "metadata": {
    "hidden": true
   },
   "outputs": [],
   "source": [
    "rating_complete_df_10PlusRatings_partial_merge.rename(columns={'rating' : 'complete'}, inplace =True)"
   ]
  },
  {
   "cell_type": "code",
   "execution_count": 36,
   "id": "fcc17406",
   "metadata": {
    "hidden": true
   },
   "outputs": [
    {
     "data": {
      "text/html": [
       "<div>\n",
       "<style scoped>\n",
       "    .dataframe tbody tr th:only-of-type {\n",
       "        vertical-align: middle;\n",
       "    }\n",
       "\n",
       "    .dataframe tbody tr th {\n",
       "        vertical-align: top;\n",
       "    }\n",
       "\n",
       "    .dataframe thead th {\n",
       "        text-align: right;\n",
       "    }\n",
       "</style>\n",
       "<table border=\"1\" class=\"dataframe\">\n",
       "  <thead>\n",
       "    <tr style=\"text-align: right;\">\n",
       "      <th></th>\n",
       "      <th>user_id</th>\n",
       "      <th>anime_id</th>\n",
       "      <th>complete</th>\n",
       "      <th>Name</th>\n",
       "    </tr>\n",
       "  </thead>\n",
       "  <tbody>\n",
       "    <tr>\n",
       "      <th>0</th>\n",
       "      <td>0</td>\n",
       "      <td>430</td>\n",
       "      <td>1</td>\n",
       "      <td>Fullmetal Alchemist: The Conqueror of Shamballa</td>\n",
       "    </tr>\n",
       "    <tr>\n",
       "      <th>1</th>\n",
       "      <td>6</td>\n",
       "      <td>430</td>\n",
       "      <td>1</td>\n",
       "      <td>Fullmetal Alchemist: The Conqueror of Shamballa</td>\n",
       "    </tr>\n",
       "    <tr>\n",
       "      <th>2</th>\n",
       "      <td>18</td>\n",
       "      <td>430</td>\n",
       "      <td>1</td>\n",
       "      <td>Fullmetal Alchemist: The Conqueror of Shamballa</td>\n",
       "    </tr>\n",
       "    <tr>\n",
       "      <th>3</th>\n",
       "      <td>19</td>\n",
       "      <td>430</td>\n",
       "      <td>1</td>\n",
       "      <td>Fullmetal Alchemist: The Conqueror of Shamballa</td>\n",
       "    </tr>\n",
       "    <tr>\n",
       "      <th>4</th>\n",
       "      <td>33</td>\n",
       "      <td>430</td>\n",
       "      <td>1</td>\n",
       "      <td>Fullmetal Alchemist: The Conqueror of Shamballa</td>\n",
       "    </tr>\n",
       "    <tr>\n",
       "      <th>...</th>\n",
       "      <td>...</td>\n",
       "      <td>...</td>\n",
       "      <td>...</td>\n",
       "      <td>...</td>\n",
       "    </tr>\n",
       "    <tr>\n",
       "      <th>744818</th>\n",
       "      <td>4944</td>\n",
       "      <td>8146</td>\n",
       "      <td>1</td>\n",
       "      <td>Gegege no Kitarou: Daikaijuu</td>\n",
       "    </tr>\n",
       "    <tr>\n",
       "      <th>744819</th>\n",
       "      <td>4944</td>\n",
       "      <td>32888</td>\n",
       "      <td>1</td>\n",
       "      <td>Sinbad: Mahiru no Yoru to Fushigi no Mon</td>\n",
       "    </tr>\n",
       "    <tr>\n",
       "      <th>744820</th>\n",
       "      <td>4944</td>\n",
       "      <td>21305</td>\n",
       "      <td>1</td>\n",
       "      <td>Trick or Alice</td>\n",
       "    </tr>\n",
       "    <tr>\n",
       "      <th>744821</th>\n",
       "      <td>4986</td>\n",
       "      <td>39284</td>\n",
       "      <td>1</td>\n",
       "      <td>Tsuki no Uta</td>\n",
       "    </tr>\n",
       "    <tr>\n",
       "      <th>744822</th>\n",
       "      <td>4993</td>\n",
       "      <td>16756</td>\n",
       "      <td>1</td>\n",
       "      <td>Kuiba: Zhi Shiwanhuoji</td>\n",
       "    </tr>\n",
       "  </tbody>\n",
       "</table>\n",
       "<p>744823 rows × 4 columns</p>\n",
       "</div>"
      ],
      "text/plain": [
       "        user_id  anime_id  complete  \\\n",
       "0             0       430         1   \n",
       "1             6       430         1   \n",
       "2            18       430         1   \n",
       "3            19       430         1   \n",
       "4            33       430         1   \n",
       "...         ...       ...       ...   \n",
       "744818     4944      8146         1   \n",
       "744819     4944     32888         1   \n",
       "744820     4944     21305         1   \n",
       "744821     4986     39284         1   \n",
       "744822     4993     16756         1   \n",
       "\n",
       "                                                   Name  \n",
       "0       Fullmetal Alchemist: The Conqueror of Shamballa  \n",
       "1       Fullmetal Alchemist: The Conqueror of Shamballa  \n",
       "2       Fullmetal Alchemist: The Conqueror of Shamballa  \n",
       "3       Fullmetal Alchemist: The Conqueror of Shamballa  \n",
       "4       Fullmetal Alchemist: The Conqueror of Shamballa  \n",
       "...                                                 ...  \n",
       "744818                     Gegege no Kitarou: Daikaijuu  \n",
       "744819         Sinbad: Mahiru no Yoru to Fushigi no Mon  \n",
       "744820                                   Trick or Alice  \n",
       "744821                                     Tsuki no Uta  \n",
       "744822                           Kuiba: Zhi Shiwanhuoji  \n",
       "\n",
       "[744823 rows x 4 columns]"
      ]
     },
     "execution_count": 36,
     "metadata": {},
     "output_type": "execute_result"
    }
   ],
   "source": [
    "rating_complete_df_10PlusRatings_partial_merge"
   ]
  },
  {
   "cell_type": "code",
   "execution_count": 37,
   "id": "8766c40a",
   "metadata": {
    "hidden": true
   },
   "outputs": [],
   "source": [
    "rating_complete_df_10PlusRatings_partial_pivot = rating_complete_df_10PlusRatings_partial_merge.pivot_table(index='anime_id',columns='user_id',values='complete').fillna(0)"
   ]
  },
  {
   "cell_type": "code",
   "execution_count": 38,
   "id": "4e3a6205",
   "metadata": {
    "hidden": true
   },
   "outputs": [],
   "source": [
    "rating_complete_df_10PlusRatings_partial_pivot = rating_complete_df_10PlusRatings_partial_pivot.merge(anime_Genres_df_encoded, how='inner',left_index=True, right_index=True)"
   ]
  },
  {
   "cell_type": "code",
   "execution_count": 39,
   "id": "36ad828a",
   "metadata": {
    "hidden": true
   },
   "outputs": [
    {
     "data": {
      "text/html": [
       "<div>\n",
       "<style scoped>\n",
       "    .dataframe tbody tr th:only-of-type {\n",
       "        vertical-align: middle;\n",
       "    }\n",
       "\n",
       "    .dataframe tbody tr th {\n",
       "        vertical-align: top;\n",
       "    }\n",
       "\n",
       "    .dataframe thead th {\n",
       "        text-align: right;\n",
       "    }\n",
       "</style>\n",
       "<table border=\"1\" class=\"dataframe\">\n",
       "  <thead>\n",
       "    <tr style=\"text-align: right;\">\n",
       "      <th></th>\n",
       "      <th>0</th>\n",
       "      <th>1</th>\n",
       "      <th>2</th>\n",
       "      <th>3</th>\n",
       "      <th>4</th>\n",
       "      <th>5</th>\n",
       "      <th>6</th>\n",
       "      <th>7</th>\n",
       "      <th>8</th>\n",
       "      <th>11</th>\n",
       "      <th>...</th>\n",
       "      <th>Shoujo Ai</th>\n",
       "      <th>Shounen</th>\n",
       "      <th>Shounen Ai</th>\n",
       "      <th>Slice of Life</th>\n",
       "      <th>Space</th>\n",
       "      <th>Sports</th>\n",
       "      <th>Super Power</th>\n",
       "      <th>Supernatural</th>\n",
       "      <th>Thriller</th>\n",
       "      <th>Vampire</th>\n",
       "    </tr>\n",
       "    <tr>\n",
       "      <th>anime_id</th>\n",
       "      <th></th>\n",
       "      <th></th>\n",
       "      <th></th>\n",
       "      <th></th>\n",
       "      <th></th>\n",
       "      <th></th>\n",
       "      <th></th>\n",
       "      <th></th>\n",
       "      <th></th>\n",
       "      <th></th>\n",
       "      <th></th>\n",
       "      <th></th>\n",
       "      <th></th>\n",
       "      <th></th>\n",
       "      <th></th>\n",
       "      <th></th>\n",
       "      <th></th>\n",
       "      <th></th>\n",
       "      <th></th>\n",
       "      <th></th>\n",
       "      <th></th>\n",
       "    </tr>\n",
       "  </thead>\n",
       "  <tbody>\n",
       "    <tr>\n",
       "      <th>1</th>\n",
       "      <td>0.0</td>\n",
       "      <td>0.0</td>\n",
       "      <td>0.0</td>\n",
       "      <td>1.0</td>\n",
       "      <td>0.0</td>\n",
       "      <td>0.0</td>\n",
       "      <td>1.0</td>\n",
       "      <td>0.0</td>\n",
       "      <td>0.0</td>\n",
       "      <td>0.0</td>\n",
       "      <td>...</td>\n",
       "      <td>0</td>\n",
       "      <td>0</td>\n",
       "      <td>0</td>\n",
       "      <td>0</td>\n",
       "      <td>1</td>\n",
       "      <td>0</td>\n",
       "      <td>0</td>\n",
       "      <td>0</td>\n",
       "      <td>0</td>\n",
       "      <td>0</td>\n",
       "    </tr>\n",
       "    <tr>\n",
       "      <th>5</th>\n",
       "      <td>0.0</td>\n",
       "      <td>0.0</td>\n",
       "      <td>0.0</td>\n",
       "      <td>0.0</td>\n",
       "      <td>0.0</td>\n",
       "      <td>0.0</td>\n",
       "      <td>0.0</td>\n",
       "      <td>0.0</td>\n",
       "      <td>0.0</td>\n",
       "      <td>0.0</td>\n",
       "      <td>...</td>\n",
       "      <td>0</td>\n",
       "      <td>0</td>\n",
       "      <td>0</td>\n",
       "      <td>0</td>\n",
       "      <td>1</td>\n",
       "      <td>0</td>\n",
       "      <td>0</td>\n",
       "      <td>0</td>\n",
       "      <td>0</td>\n",
       "      <td>0</td>\n",
       "    </tr>\n",
       "    <tr>\n",
       "      <th>6</th>\n",
       "      <td>0.0</td>\n",
       "      <td>0.0</td>\n",
       "      <td>0.0</td>\n",
       "      <td>0.0</td>\n",
       "      <td>0.0</td>\n",
       "      <td>0.0</td>\n",
       "      <td>0.0</td>\n",
       "      <td>0.0</td>\n",
       "      <td>0.0</td>\n",
       "      <td>0.0</td>\n",
       "      <td>...</td>\n",
       "      <td>0</td>\n",
       "      <td>1</td>\n",
       "      <td>0</td>\n",
       "      <td>0</td>\n",
       "      <td>0</td>\n",
       "      <td>0</td>\n",
       "      <td>0</td>\n",
       "      <td>0</td>\n",
       "      <td>0</td>\n",
       "      <td>0</td>\n",
       "    </tr>\n",
       "    <tr>\n",
       "      <th>7</th>\n",
       "      <td>0.0</td>\n",
       "      <td>0.0</td>\n",
       "      <td>0.0</td>\n",
       "      <td>0.0</td>\n",
       "      <td>0.0</td>\n",
       "      <td>0.0</td>\n",
       "      <td>0.0</td>\n",
       "      <td>0.0</td>\n",
       "      <td>0.0</td>\n",
       "      <td>0.0</td>\n",
       "      <td>...</td>\n",
       "      <td>0</td>\n",
       "      <td>0</td>\n",
       "      <td>0</td>\n",
       "      <td>0</td>\n",
       "      <td>0</td>\n",
       "      <td>0</td>\n",
       "      <td>0</td>\n",
       "      <td>1</td>\n",
       "      <td>0</td>\n",
       "      <td>0</td>\n",
       "    </tr>\n",
       "    <tr>\n",
       "      <th>8</th>\n",
       "      <td>0.0</td>\n",
       "      <td>0.0</td>\n",
       "      <td>0.0</td>\n",
       "      <td>0.0</td>\n",
       "      <td>0.0</td>\n",
       "      <td>0.0</td>\n",
       "      <td>0.0</td>\n",
       "      <td>0.0</td>\n",
       "      <td>0.0</td>\n",
       "      <td>1.0</td>\n",
       "      <td>...</td>\n",
       "      <td>0</td>\n",
       "      <td>1</td>\n",
       "      <td>0</td>\n",
       "      <td>0</td>\n",
       "      <td>0</td>\n",
       "      <td>0</td>\n",
       "      <td>0</td>\n",
       "      <td>1</td>\n",
       "      <td>0</td>\n",
       "      <td>0</td>\n",
       "    </tr>\n",
       "    <tr>\n",
       "      <th>...</th>\n",
       "      <td>...</td>\n",
       "      <td>...</td>\n",
       "      <td>...</td>\n",
       "      <td>...</td>\n",
       "      <td>...</td>\n",
       "      <td>...</td>\n",
       "      <td>...</td>\n",
       "      <td>...</td>\n",
       "      <td>...</td>\n",
       "      <td>...</td>\n",
       "      <td>...</td>\n",
       "      <td>...</td>\n",
       "      <td>...</td>\n",
       "      <td>...</td>\n",
       "      <td>...</td>\n",
       "      <td>...</td>\n",
       "      <td>...</td>\n",
       "      <td>...</td>\n",
       "      <td>...</td>\n",
       "      <td>...</td>\n",
       "      <td>...</td>\n",
       "    </tr>\n",
       "    <tr>\n",
       "      <th>47398</th>\n",
       "      <td>0.0</td>\n",
       "      <td>0.0</td>\n",
       "      <td>0.0</td>\n",
       "      <td>0.0</td>\n",
       "      <td>0.0</td>\n",
       "      <td>0.0</td>\n",
       "      <td>0.0</td>\n",
       "      <td>0.0</td>\n",
       "      <td>0.0</td>\n",
       "      <td>0.0</td>\n",
       "      <td>...</td>\n",
       "      <td>0</td>\n",
       "      <td>0</td>\n",
       "      <td>0</td>\n",
       "      <td>0</td>\n",
       "      <td>0</td>\n",
       "      <td>0</td>\n",
       "      <td>0</td>\n",
       "      <td>0</td>\n",
       "      <td>0</td>\n",
       "      <td>0</td>\n",
       "    </tr>\n",
       "    <tr>\n",
       "      <th>47402</th>\n",
       "      <td>0.0</td>\n",
       "      <td>0.0</td>\n",
       "      <td>0.0</td>\n",
       "      <td>0.0</td>\n",
       "      <td>0.0</td>\n",
       "      <td>0.0</td>\n",
       "      <td>0.0</td>\n",
       "      <td>0.0</td>\n",
       "      <td>0.0</td>\n",
       "      <td>0.0</td>\n",
       "      <td>...</td>\n",
       "      <td>0</td>\n",
       "      <td>0</td>\n",
       "      <td>0</td>\n",
       "      <td>0</td>\n",
       "      <td>0</td>\n",
       "      <td>0</td>\n",
       "      <td>0</td>\n",
       "      <td>0</td>\n",
       "      <td>0</td>\n",
       "      <td>0</td>\n",
       "    </tr>\n",
       "    <tr>\n",
       "      <th>47614</th>\n",
       "      <td>0.0</td>\n",
       "      <td>0.0</td>\n",
       "      <td>0.0</td>\n",
       "      <td>0.0</td>\n",
       "      <td>0.0</td>\n",
       "      <td>0.0</td>\n",
       "      <td>0.0</td>\n",
       "      <td>0.0</td>\n",
       "      <td>0.0</td>\n",
       "      <td>0.0</td>\n",
       "      <td>...</td>\n",
       "      <td>0</td>\n",
       "      <td>0</td>\n",
       "      <td>0</td>\n",
       "      <td>1</td>\n",
       "      <td>0</td>\n",
       "      <td>0</td>\n",
       "      <td>0</td>\n",
       "      <td>0</td>\n",
       "      <td>0</td>\n",
       "      <td>0</td>\n",
       "    </tr>\n",
       "    <tr>\n",
       "      <th>47616</th>\n",
       "      <td>0.0</td>\n",
       "      <td>0.0</td>\n",
       "      <td>0.0</td>\n",
       "      <td>0.0</td>\n",
       "      <td>0.0</td>\n",
       "      <td>0.0</td>\n",
       "      <td>0.0</td>\n",
       "      <td>0.0</td>\n",
       "      <td>0.0</td>\n",
       "      <td>0.0</td>\n",
       "      <td>...</td>\n",
       "      <td>0</td>\n",
       "      <td>1</td>\n",
       "      <td>0</td>\n",
       "      <td>0</td>\n",
       "      <td>0</td>\n",
       "      <td>0</td>\n",
       "      <td>0</td>\n",
       "      <td>1</td>\n",
       "      <td>1</td>\n",
       "      <td>0</td>\n",
       "    </tr>\n",
       "    <tr>\n",
       "      <th>48456</th>\n",
       "      <td>0.0</td>\n",
       "      <td>0.0</td>\n",
       "      <td>0.0</td>\n",
       "      <td>0.0</td>\n",
       "      <td>0.0</td>\n",
       "      <td>0.0</td>\n",
       "      <td>0.0</td>\n",
       "      <td>0.0</td>\n",
       "      <td>0.0</td>\n",
       "      <td>0.0</td>\n",
       "      <td>...</td>\n",
       "      <td>0</td>\n",
       "      <td>0</td>\n",
       "      <td>0</td>\n",
       "      <td>0</td>\n",
       "      <td>0</td>\n",
       "      <td>1</td>\n",
       "      <td>0</td>\n",
       "      <td>0</td>\n",
       "      <td>0</td>\n",
       "      <td>0</td>\n",
       "    </tr>\n",
       "  </tbody>\n",
       "</table>\n",
       "<p>10008 rows × 3986 columns</p>\n",
       "</div>"
      ],
      "text/plain": [
       "            0    1    2    3    4    5    6    7    8   11  ...  Shoujo Ai  \\\n",
       "anime_id                                                    ...              \n",
       "1         0.0  0.0  0.0  1.0  0.0  0.0  1.0  0.0  0.0  0.0  ...          0   \n",
       "5         0.0  0.0  0.0  0.0  0.0  0.0  0.0  0.0  0.0  0.0  ...          0   \n",
       "6         0.0  0.0  0.0  0.0  0.0  0.0  0.0  0.0  0.0  0.0  ...          0   \n",
       "7         0.0  0.0  0.0  0.0  0.0  0.0  0.0  0.0  0.0  0.0  ...          0   \n",
       "8         0.0  0.0  0.0  0.0  0.0  0.0  0.0  0.0  0.0  1.0  ...          0   \n",
       "...       ...  ...  ...  ...  ...  ...  ...  ...  ...  ...  ...        ...   \n",
       "47398     0.0  0.0  0.0  0.0  0.0  0.0  0.0  0.0  0.0  0.0  ...          0   \n",
       "47402     0.0  0.0  0.0  0.0  0.0  0.0  0.0  0.0  0.0  0.0  ...          0   \n",
       "47614     0.0  0.0  0.0  0.0  0.0  0.0  0.0  0.0  0.0  0.0  ...          0   \n",
       "47616     0.0  0.0  0.0  0.0  0.0  0.0  0.0  0.0  0.0  0.0  ...          0   \n",
       "48456     0.0  0.0  0.0  0.0  0.0  0.0  0.0  0.0  0.0  0.0  ...          0   \n",
       "\n",
       "          Shounen  Shounen Ai  Slice of Life  Space  Sports  Super Power  \\\n",
       "anime_id                                                                   \n",
       "1               0           0              0      1       0            0   \n",
       "5               0           0              0      1       0            0   \n",
       "6               1           0              0      0       0            0   \n",
       "7               0           0              0      0       0            0   \n",
       "8               1           0              0      0       0            0   \n",
       "...           ...         ...            ...    ...     ...          ...   \n",
       "47398           0           0              0      0       0            0   \n",
       "47402           0           0              0      0       0            0   \n",
       "47614           0           0              1      0       0            0   \n",
       "47616           1           0              0      0       0            0   \n",
       "48456           0           0              0      0       1            0   \n",
       "\n",
       "          Supernatural  Thriller  Vampire  \n",
       "anime_id                                   \n",
       "1                    0         0        0  \n",
       "5                    0         0        0  \n",
       "6                    0         0        0  \n",
       "7                    1         0        0  \n",
       "8                    1         0        0  \n",
       "...                ...       ...      ...  \n",
       "47398                0         0        0  \n",
       "47402                0         0        0  \n",
       "47614                0         0        0  \n",
       "47616                1         1        0  \n",
       "48456                0         0        0  \n",
       "\n",
       "[10008 rows x 3986 columns]"
      ]
     },
     "execution_count": 39,
     "metadata": {},
     "output_type": "execute_result"
    }
   ],
   "source": [
    "rating_complete_df_10PlusRatings_partial_pivot"
   ]
  },
  {
   "cell_type": "code",
   "execution_count": 40,
   "id": "f614a8a7",
   "metadata": {
    "hidden": true
   },
   "outputs": [
    {
     "data": {
      "text/html": [
       "<div>\n",
       "<style scoped>\n",
       "    .dataframe tbody tr th:only-of-type {\n",
       "        vertical-align: middle;\n",
       "    }\n",
       "\n",
       "    .dataframe tbody tr th {\n",
       "        vertical-align: top;\n",
       "    }\n",
       "\n",
       "    .dataframe thead th {\n",
       "        text-align: right;\n",
       "    }\n",
       "</style>\n",
       "<table border=\"1\" class=\"dataframe\">\n",
       "  <thead>\n",
       "    <tr style=\"text-align: right;\">\n",
       "      <th></th>\n",
       "      <th>anime_id</th>\n",
       "      <th>Name</th>\n",
       "    </tr>\n",
       "  </thead>\n",
       "  <tbody>\n",
       "    <tr>\n",
       "      <th>0</th>\n",
       "      <td>1</td>\n",
       "      <td>Cowboy Bebop</td>\n",
       "    </tr>\n",
       "    <tr>\n",
       "      <th>1</th>\n",
       "      <td>5</td>\n",
       "      <td>Cowboy Bebop: Tengoku no Tobira</td>\n",
       "    </tr>\n",
       "    <tr>\n",
       "      <th>2</th>\n",
       "      <td>6</td>\n",
       "      <td>Trigun</td>\n",
       "    </tr>\n",
       "    <tr>\n",
       "      <th>3</th>\n",
       "      <td>7</td>\n",
       "      <td>Witch Hunter Robin</td>\n",
       "    </tr>\n",
       "    <tr>\n",
       "      <th>4</th>\n",
       "      <td>8</td>\n",
       "      <td>Bouken Ou Beet</td>\n",
       "    </tr>\n",
       "    <tr>\n",
       "      <th>...</th>\n",
       "      <td>...</td>\n",
       "      <td>...</td>\n",
       "    </tr>\n",
       "    <tr>\n",
       "      <th>10003</th>\n",
       "      <td>47398</td>\n",
       "      <td>Kimetsu Gakuen: Valentine-hen</td>\n",
       "    </tr>\n",
       "    <tr>\n",
       "      <th>10004</th>\n",
       "      <td>47402</td>\n",
       "      <td>Heikousen</td>\n",
       "    </tr>\n",
       "    <tr>\n",
       "      <th>10005</th>\n",
       "      <td>47614</td>\n",
       "      <td>Nu Wushen de Canzhuo Spring Festival Special</td>\n",
       "    </tr>\n",
       "    <tr>\n",
       "      <th>10006</th>\n",
       "      <td>47616</td>\n",
       "      <td>Yakusoku no Neverland 2nd Season: Michishirube</td>\n",
       "    </tr>\n",
       "    <tr>\n",
       "      <th>10007</th>\n",
       "      <td>48456</td>\n",
       "      <td>SK∞: Crazy Rock Jam</td>\n",
       "    </tr>\n",
       "  </tbody>\n",
       "</table>\n",
       "<p>10008 rows × 2 columns</p>\n",
       "</div>"
      ],
      "text/plain": [
       "       anime_id                                            Name\n",
       "0             1                                    Cowboy Bebop\n",
       "1             5                 Cowboy Bebop: Tengoku no Tobira\n",
       "2             6                                          Trigun\n",
       "3             7                              Witch Hunter Robin\n",
       "4             8                                  Bouken Ou Beet\n",
       "...         ...                                             ...\n",
       "10003     47398                   Kimetsu Gakuen: Valentine-hen\n",
       "10004     47402                                       Heikousen\n",
       "10005     47614    Nu Wushen de Canzhuo Spring Festival Special\n",
       "10006     47616  Yakusoku no Neverland 2nd Season: Michishirube\n",
       "10007     48456                             SK∞: Crazy Rock Jam\n",
       "\n",
       "[10008 rows x 2 columns]"
      ]
     },
     "execution_count": 40,
     "metadata": {},
     "output_type": "execute_result"
    }
   ],
   "source": [
    "anime_complete_id_name_df_10PlusRatings = rating_complete_df_10PlusRatings_partial_merge[['anime_id','Name']].drop_duplicates()\n",
    "anime_complete_id_name_df_10PlusRatings = anime_complete_id_name_df_10PlusRatings.sort_values('anime_id')\n",
    "anime_complete_id_name_df_10PlusRatings = anime_complete_id_name_df_10PlusRatings.reset_index().drop(columns = 'index')\n",
    "anime_complete_id_name_df_10PlusRatings"
   ]
  },
  {
   "cell_type": "code",
   "execution_count": 41,
   "id": "39ced0e0",
   "metadata": {
    "hidden": true,
    "scrolled": false
   },
   "outputs": [
    {
     "data": {
      "text/html": [
       "<div>\n",
       "<style scoped>\n",
       "    .dataframe tbody tr th:only-of-type {\n",
       "        vertical-align: middle;\n",
       "    }\n",
       "\n",
       "    .dataframe tbody tr th {\n",
       "        vertical-align: top;\n",
       "    }\n",
       "\n",
       "    .dataframe thead th {\n",
       "        text-align: right;\n",
       "    }\n",
       "</style>\n",
       "<table border=\"1\" class=\"dataframe\">\n",
       "  <thead>\n",
       "    <tr style=\"text-align: right;\">\n",
       "      <th></th>\n",
       "      <th>user_id</th>\n",
       "      <th>anime_id</th>\n",
       "      <th>complete</th>\n",
       "      <th>Name</th>\n",
       "    </tr>\n",
       "  </thead>\n",
       "  <tbody>\n",
       "    <tr>\n",
       "      <th>0</th>\n",
       "      <td>1</td>\n",
       "      <td>22535</td>\n",
       "      <td>1</td>\n",
       "      <td>Kiseijuu: Sei no Kakuritsu</td>\n",
       "    </tr>\n",
       "    <tr>\n",
       "      <th>1</th>\n",
       "      <td>3</td>\n",
       "      <td>22535</td>\n",
       "      <td>1</td>\n",
       "      <td>Kiseijuu: Sei no Kakuritsu</td>\n",
       "    </tr>\n",
       "    <tr>\n",
       "      <th>2</th>\n",
       "      <td>17</td>\n",
       "      <td>22535</td>\n",
       "      <td>1</td>\n",
       "      <td>Kiseijuu: Sei no Kakuritsu</td>\n",
       "    </tr>\n",
       "    <tr>\n",
       "      <th>3</th>\n",
       "      <td>19</td>\n",
       "      <td>22535</td>\n",
       "      <td>1</td>\n",
       "      <td>Kiseijuu: Sei no Kakuritsu</td>\n",
       "    </tr>\n",
       "    <tr>\n",
       "      <th>4</th>\n",
       "      <td>42</td>\n",
       "      <td>22535</td>\n",
       "      <td>1</td>\n",
       "      <td>Kiseijuu: Sei no Kakuritsu</td>\n",
       "    </tr>\n",
       "    <tr>\n",
       "      <th>...</th>\n",
       "      <td>...</td>\n",
       "      <td>...</td>\n",
       "      <td>...</td>\n",
       "      <td>...</td>\n",
       "    </tr>\n",
       "    <tr>\n",
       "      <th>664214</th>\n",
       "      <td>4944</td>\n",
       "      <td>8146</td>\n",
       "      <td>1</td>\n",
       "      <td>Gegege no Kitarou: Daikaijuu</td>\n",
       "    </tr>\n",
       "    <tr>\n",
       "      <th>664215</th>\n",
       "      <td>4944</td>\n",
       "      <td>32888</td>\n",
       "      <td>1</td>\n",
       "      <td>Sinbad: Mahiru no Yoru to Fushigi no Mon</td>\n",
       "    </tr>\n",
       "    <tr>\n",
       "      <th>664216</th>\n",
       "      <td>4944</td>\n",
       "      <td>21305</td>\n",
       "      <td>1</td>\n",
       "      <td>Trick or Alice</td>\n",
       "    </tr>\n",
       "    <tr>\n",
       "      <th>664217</th>\n",
       "      <td>4986</td>\n",
       "      <td>39284</td>\n",
       "      <td>1</td>\n",
       "      <td>Tsuki no Uta</td>\n",
       "    </tr>\n",
       "    <tr>\n",
       "      <th>664218</th>\n",
       "      <td>4993</td>\n",
       "      <td>16756</td>\n",
       "      <td>1</td>\n",
       "      <td>Kuiba: Zhi Shiwanhuoji</td>\n",
       "    </tr>\n",
       "  </tbody>\n",
       "</table>\n",
       "<p>664219 rows × 4 columns</p>\n",
       "</div>"
      ],
      "text/plain": [
       "        user_id  anime_id  complete                                      Name\n",
       "0             1     22535         1                Kiseijuu: Sei no Kakuritsu\n",
       "1             3     22535         1                Kiseijuu: Sei no Kakuritsu\n",
       "2            17     22535         1                Kiseijuu: Sei no Kakuritsu\n",
       "3            19     22535         1                Kiseijuu: Sei no Kakuritsu\n",
       "4            42     22535         1                Kiseijuu: Sei no Kakuritsu\n",
       "...         ...       ...       ...                                       ...\n",
       "664214     4944      8146         1              Gegege no Kitarou: Daikaijuu\n",
       "664215     4944     32888         1  Sinbad: Mahiru no Yoru to Fushigi no Mon\n",
       "664216     4944     21305         1                            Trick or Alice\n",
       "664217     4986     39284         1                              Tsuki no Uta\n",
       "664218     4993     16756         1                    Kuiba: Zhi Shiwanhuoji\n",
       "\n",
       "[664219 rows x 4 columns]"
      ]
     },
     "execution_count": 41,
     "metadata": {},
     "output_type": "execute_result"
    }
   ],
   "source": [
    "rating_complete_df_100PlusRatings_partial_merge['rating'] = 1\n",
    "rating_complete_df_100PlusRatings_partial_merge.rename(columns={'rating' : 'complete'}, inplace =True)\n",
    "rating_complete_df_100PlusRatings_partial_merge"
   ]
  },
  {
   "cell_type": "code",
   "execution_count": 42,
   "id": "b9d3c7f9",
   "metadata": {
    "hidden": true
   },
   "outputs": [],
   "source": [
    "rating_complete_df_100PlusRatings_partial_pivot = rating_complete_df_100PlusRatings_partial_merge.pivot_table(index='anime_id',columns='user_id',values='complete').fillna(0)"
   ]
  },
  {
   "cell_type": "code",
   "execution_count": 43,
   "id": "c0652f04",
   "metadata": {
    "hidden": true,
    "scrolled": true
   },
   "outputs": [],
   "source": [
    "rating_complete_df_100PlusRatings_partial_pivot = rating_complete_df_100PlusRatings_partial_pivot.merge(anime_Genres_df_encoded, how='inner',left_index=True, right_index=True)"
   ]
  },
  {
   "cell_type": "code",
   "execution_count": 44,
   "id": "32cb49e2",
   "metadata": {
    "hidden": true
   },
   "outputs": [
    {
     "data": {
      "text/html": [
       "<div>\n",
       "<style scoped>\n",
       "    .dataframe tbody tr th:only-of-type {\n",
       "        vertical-align: middle;\n",
       "    }\n",
       "\n",
       "    .dataframe tbody tr th {\n",
       "        vertical-align: top;\n",
       "    }\n",
       "\n",
       "    .dataframe thead th {\n",
       "        text-align: right;\n",
       "    }\n",
       "</style>\n",
       "<table border=\"1\" class=\"dataframe\">\n",
       "  <thead>\n",
       "    <tr style=\"text-align: right;\">\n",
       "      <th></th>\n",
       "      <th>1</th>\n",
       "      <th>3</th>\n",
       "      <th>4</th>\n",
       "      <th>6</th>\n",
       "      <th>11</th>\n",
       "      <th>16</th>\n",
       "      <th>17</th>\n",
       "      <th>19</th>\n",
       "      <th>21</th>\n",
       "      <th>25</th>\n",
       "      <th>...</th>\n",
       "      <th>Shoujo Ai</th>\n",
       "      <th>Shounen</th>\n",
       "      <th>Shounen Ai</th>\n",
       "      <th>Slice of Life</th>\n",
       "      <th>Space</th>\n",
       "      <th>Sports</th>\n",
       "      <th>Super Power</th>\n",
       "      <th>Supernatural</th>\n",
       "      <th>Thriller</th>\n",
       "      <th>Vampire</th>\n",
       "    </tr>\n",
       "    <tr>\n",
       "      <th>anime_id</th>\n",
       "      <th></th>\n",
       "      <th></th>\n",
       "      <th></th>\n",
       "      <th></th>\n",
       "      <th></th>\n",
       "      <th></th>\n",
       "      <th></th>\n",
       "      <th></th>\n",
       "      <th></th>\n",
       "      <th></th>\n",
       "      <th></th>\n",
       "      <th></th>\n",
       "      <th></th>\n",
       "      <th></th>\n",
       "      <th></th>\n",
       "      <th></th>\n",
       "      <th></th>\n",
       "      <th></th>\n",
       "      <th></th>\n",
       "      <th></th>\n",
       "      <th></th>\n",
       "    </tr>\n",
       "  </thead>\n",
       "  <tbody>\n",
       "    <tr>\n",
       "      <th>1</th>\n",
       "      <td>0.0</td>\n",
       "      <td>1.0</td>\n",
       "      <td>0.0</td>\n",
       "      <td>1.0</td>\n",
       "      <td>0.0</td>\n",
       "      <td>0.0</td>\n",
       "      <td>0.0</td>\n",
       "      <td>1.0</td>\n",
       "      <td>0.0</td>\n",
       "      <td>0.0</td>\n",
       "      <td>...</td>\n",
       "      <td>0</td>\n",
       "      <td>0</td>\n",
       "      <td>0</td>\n",
       "      <td>0</td>\n",
       "      <td>1</td>\n",
       "      <td>0</td>\n",
       "      <td>0</td>\n",
       "      <td>0</td>\n",
       "      <td>0</td>\n",
       "      <td>0</td>\n",
       "    </tr>\n",
       "    <tr>\n",
       "      <th>5</th>\n",
       "      <td>0.0</td>\n",
       "      <td>0.0</td>\n",
       "      <td>0.0</td>\n",
       "      <td>0.0</td>\n",
       "      <td>0.0</td>\n",
       "      <td>0.0</td>\n",
       "      <td>0.0</td>\n",
       "      <td>1.0</td>\n",
       "      <td>0.0</td>\n",
       "      <td>0.0</td>\n",
       "      <td>...</td>\n",
       "      <td>0</td>\n",
       "      <td>0</td>\n",
       "      <td>0</td>\n",
       "      <td>0</td>\n",
       "      <td>1</td>\n",
       "      <td>0</td>\n",
       "      <td>0</td>\n",
       "      <td>0</td>\n",
       "      <td>0</td>\n",
       "      <td>0</td>\n",
       "    </tr>\n",
       "    <tr>\n",
       "      <th>6</th>\n",
       "      <td>0.0</td>\n",
       "      <td>0.0</td>\n",
       "      <td>0.0</td>\n",
       "      <td>0.0</td>\n",
       "      <td>0.0</td>\n",
       "      <td>0.0</td>\n",
       "      <td>0.0</td>\n",
       "      <td>1.0</td>\n",
       "      <td>0.0</td>\n",
       "      <td>0.0</td>\n",
       "      <td>...</td>\n",
       "      <td>0</td>\n",
       "      <td>1</td>\n",
       "      <td>0</td>\n",
       "      <td>0</td>\n",
       "      <td>0</td>\n",
       "      <td>0</td>\n",
       "      <td>0</td>\n",
       "      <td>0</td>\n",
       "      <td>0</td>\n",
       "      <td>0</td>\n",
       "    </tr>\n",
       "    <tr>\n",
       "      <th>7</th>\n",
       "      <td>0.0</td>\n",
       "      <td>0.0</td>\n",
       "      <td>0.0</td>\n",
       "      <td>0.0</td>\n",
       "      <td>0.0</td>\n",
       "      <td>0.0</td>\n",
       "      <td>0.0</td>\n",
       "      <td>0.0</td>\n",
       "      <td>0.0</td>\n",
       "      <td>0.0</td>\n",
       "      <td>...</td>\n",
       "      <td>0</td>\n",
       "      <td>0</td>\n",
       "      <td>0</td>\n",
       "      <td>0</td>\n",
       "      <td>0</td>\n",
       "      <td>0</td>\n",
       "      <td>0</td>\n",
       "      <td>1</td>\n",
       "      <td>0</td>\n",
       "      <td>0</td>\n",
       "    </tr>\n",
       "    <tr>\n",
       "      <th>8</th>\n",
       "      <td>0.0</td>\n",
       "      <td>0.0</td>\n",
       "      <td>0.0</td>\n",
       "      <td>0.0</td>\n",
       "      <td>1.0</td>\n",
       "      <td>0.0</td>\n",
       "      <td>0.0</td>\n",
       "      <td>0.0</td>\n",
       "      <td>0.0</td>\n",
       "      <td>0.0</td>\n",
       "      <td>...</td>\n",
       "      <td>0</td>\n",
       "      <td>1</td>\n",
       "      <td>0</td>\n",
       "      <td>0</td>\n",
       "      <td>0</td>\n",
       "      <td>0</td>\n",
       "      <td>0</td>\n",
       "      <td>1</td>\n",
       "      <td>0</td>\n",
       "      <td>0</td>\n",
       "    </tr>\n",
       "    <tr>\n",
       "      <th>...</th>\n",
       "      <td>...</td>\n",
       "      <td>...</td>\n",
       "      <td>...</td>\n",
       "      <td>...</td>\n",
       "      <td>...</td>\n",
       "      <td>...</td>\n",
       "      <td>...</td>\n",
       "      <td>...</td>\n",
       "      <td>...</td>\n",
       "      <td>...</td>\n",
       "      <td>...</td>\n",
       "      <td>...</td>\n",
       "      <td>...</td>\n",
       "      <td>...</td>\n",
       "      <td>...</td>\n",
       "      <td>...</td>\n",
       "      <td>...</td>\n",
       "      <td>...</td>\n",
       "      <td>...</td>\n",
       "      <td>...</td>\n",
       "      <td>...</td>\n",
       "    </tr>\n",
       "    <tr>\n",
       "      <th>47398</th>\n",
       "      <td>0.0</td>\n",
       "      <td>0.0</td>\n",
       "      <td>0.0</td>\n",
       "      <td>0.0</td>\n",
       "      <td>0.0</td>\n",
       "      <td>0.0</td>\n",
       "      <td>0.0</td>\n",
       "      <td>0.0</td>\n",
       "      <td>0.0</td>\n",
       "      <td>0.0</td>\n",
       "      <td>...</td>\n",
       "      <td>0</td>\n",
       "      <td>0</td>\n",
       "      <td>0</td>\n",
       "      <td>0</td>\n",
       "      <td>0</td>\n",
       "      <td>0</td>\n",
       "      <td>0</td>\n",
       "      <td>0</td>\n",
       "      <td>0</td>\n",
       "      <td>0</td>\n",
       "    </tr>\n",
       "    <tr>\n",
       "      <th>47402</th>\n",
       "      <td>0.0</td>\n",
       "      <td>0.0</td>\n",
       "      <td>0.0</td>\n",
       "      <td>0.0</td>\n",
       "      <td>0.0</td>\n",
       "      <td>0.0</td>\n",
       "      <td>0.0</td>\n",
       "      <td>0.0</td>\n",
       "      <td>0.0</td>\n",
       "      <td>0.0</td>\n",
       "      <td>...</td>\n",
       "      <td>0</td>\n",
       "      <td>0</td>\n",
       "      <td>0</td>\n",
       "      <td>0</td>\n",
       "      <td>0</td>\n",
       "      <td>0</td>\n",
       "      <td>0</td>\n",
       "      <td>0</td>\n",
       "      <td>0</td>\n",
       "      <td>0</td>\n",
       "    </tr>\n",
       "    <tr>\n",
       "      <th>47614</th>\n",
       "      <td>0.0</td>\n",
       "      <td>0.0</td>\n",
       "      <td>0.0</td>\n",
       "      <td>0.0</td>\n",
       "      <td>0.0</td>\n",
       "      <td>0.0</td>\n",
       "      <td>0.0</td>\n",
       "      <td>0.0</td>\n",
       "      <td>0.0</td>\n",
       "      <td>0.0</td>\n",
       "      <td>...</td>\n",
       "      <td>0</td>\n",
       "      <td>0</td>\n",
       "      <td>0</td>\n",
       "      <td>1</td>\n",
       "      <td>0</td>\n",
       "      <td>0</td>\n",
       "      <td>0</td>\n",
       "      <td>0</td>\n",
       "      <td>0</td>\n",
       "      <td>0</td>\n",
       "    </tr>\n",
       "    <tr>\n",
       "      <th>47616</th>\n",
       "      <td>0.0</td>\n",
       "      <td>0.0</td>\n",
       "      <td>0.0</td>\n",
       "      <td>0.0</td>\n",
       "      <td>0.0</td>\n",
       "      <td>0.0</td>\n",
       "      <td>0.0</td>\n",
       "      <td>0.0</td>\n",
       "      <td>0.0</td>\n",
       "      <td>0.0</td>\n",
       "      <td>...</td>\n",
       "      <td>0</td>\n",
       "      <td>1</td>\n",
       "      <td>0</td>\n",
       "      <td>0</td>\n",
       "      <td>0</td>\n",
       "      <td>0</td>\n",
       "      <td>0</td>\n",
       "      <td>1</td>\n",
       "      <td>1</td>\n",
       "      <td>0</td>\n",
       "    </tr>\n",
       "    <tr>\n",
       "      <th>48456</th>\n",
       "      <td>0.0</td>\n",
       "      <td>0.0</td>\n",
       "      <td>0.0</td>\n",
       "      <td>0.0</td>\n",
       "      <td>0.0</td>\n",
       "      <td>0.0</td>\n",
       "      <td>0.0</td>\n",
       "      <td>0.0</td>\n",
       "      <td>0.0</td>\n",
       "      <td>0.0</td>\n",
       "      <td>...</td>\n",
       "      <td>0</td>\n",
       "      <td>0</td>\n",
       "      <td>0</td>\n",
       "      <td>0</td>\n",
       "      <td>0</td>\n",
       "      <td>1</td>\n",
       "      <td>0</td>\n",
       "      <td>0</td>\n",
       "      <td>0</td>\n",
       "      <td>0</td>\n",
       "    </tr>\n",
       "  </tbody>\n",
       "</table>\n",
       "<p>9990 rows × 2351 columns</p>\n",
       "</div>"
      ],
      "text/plain": [
       "            1    3    4    6   11   16   17   19   21   25  ...  Shoujo Ai  \\\n",
       "anime_id                                                    ...              \n",
       "1         0.0  1.0  0.0  1.0  0.0  0.0  0.0  1.0  0.0  0.0  ...          0   \n",
       "5         0.0  0.0  0.0  0.0  0.0  0.0  0.0  1.0  0.0  0.0  ...          0   \n",
       "6         0.0  0.0  0.0  0.0  0.0  0.0  0.0  1.0  0.0  0.0  ...          0   \n",
       "7         0.0  0.0  0.0  0.0  0.0  0.0  0.0  0.0  0.0  0.0  ...          0   \n",
       "8         0.0  0.0  0.0  0.0  1.0  0.0  0.0  0.0  0.0  0.0  ...          0   \n",
       "...       ...  ...  ...  ...  ...  ...  ...  ...  ...  ...  ...        ...   \n",
       "47398     0.0  0.0  0.0  0.0  0.0  0.0  0.0  0.0  0.0  0.0  ...          0   \n",
       "47402     0.0  0.0  0.0  0.0  0.0  0.0  0.0  0.0  0.0  0.0  ...          0   \n",
       "47614     0.0  0.0  0.0  0.0  0.0  0.0  0.0  0.0  0.0  0.0  ...          0   \n",
       "47616     0.0  0.0  0.0  0.0  0.0  0.0  0.0  0.0  0.0  0.0  ...          0   \n",
       "48456     0.0  0.0  0.0  0.0  0.0  0.0  0.0  0.0  0.0  0.0  ...          0   \n",
       "\n",
       "          Shounen  Shounen Ai  Slice of Life  Space  Sports  Super Power  \\\n",
       "anime_id                                                                   \n",
       "1               0           0              0      1       0            0   \n",
       "5               0           0              0      1       0            0   \n",
       "6               1           0              0      0       0            0   \n",
       "7               0           0              0      0       0            0   \n",
       "8               1           0              0      0       0            0   \n",
       "...           ...         ...            ...    ...     ...          ...   \n",
       "47398           0           0              0      0       0            0   \n",
       "47402           0           0              0      0       0            0   \n",
       "47614           0           0              1      0       0            0   \n",
       "47616           1           0              0      0       0            0   \n",
       "48456           0           0              0      0       1            0   \n",
       "\n",
       "          Supernatural  Thriller  Vampire  \n",
       "anime_id                                   \n",
       "1                    0         0        0  \n",
       "5                    0         0        0  \n",
       "6                    0         0        0  \n",
       "7                    1         0        0  \n",
       "8                    1         0        0  \n",
       "...                ...       ...      ...  \n",
       "47398                0         0        0  \n",
       "47402                0         0        0  \n",
       "47614                0         0        0  \n",
       "47616                1         1        0  \n",
       "48456                0         0        0  \n",
       "\n",
       "[9990 rows x 2351 columns]"
      ]
     },
     "execution_count": 44,
     "metadata": {},
     "output_type": "execute_result"
    }
   ],
   "source": [
    "rating_complete_df_100PlusRatings_partial_pivot"
   ]
  },
  {
   "cell_type": "code",
   "execution_count": 45,
   "id": "e2f8c75e",
   "metadata": {
    "hidden": true,
    "scrolled": true
   },
   "outputs": [
    {
     "data": {
      "text/html": [
       "<div>\n",
       "<style scoped>\n",
       "    .dataframe tbody tr th:only-of-type {\n",
       "        vertical-align: middle;\n",
       "    }\n",
       "\n",
       "    .dataframe tbody tr th {\n",
       "        vertical-align: top;\n",
       "    }\n",
       "\n",
       "    .dataframe thead th {\n",
       "        text-align: right;\n",
       "    }\n",
       "</style>\n",
       "<table border=\"1\" class=\"dataframe\">\n",
       "  <thead>\n",
       "    <tr style=\"text-align: right;\">\n",
       "      <th></th>\n",
       "      <th>anime_id</th>\n",
       "      <th>Name</th>\n",
       "    </tr>\n",
       "  </thead>\n",
       "  <tbody>\n",
       "    <tr>\n",
       "      <th>0</th>\n",
       "      <td>1</td>\n",
       "      <td>Cowboy Bebop</td>\n",
       "    </tr>\n",
       "    <tr>\n",
       "      <th>1</th>\n",
       "      <td>5</td>\n",
       "      <td>Cowboy Bebop: Tengoku no Tobira</td>\n",
       "    </tr>\n",
       "    <tr>\n",
       "      <th>2</th>\n",
       "      <td>6</td>\n",
       "      <td>Trigun</td>\n",
       "    </tr>\n",
       "    <tr>\n",
       "      <th>3</th>\n",
       "      <td>7</td>\n",
       "      <td>Witch Hunter Robin</td>\n",
       "    </tr>\n",
       "    <tr>\n",
       "      <th>4</th>\n",
       "      <td>8</td>\n",
       "      <td>Bouken Ou Beet</td>\n",
       "    </tr>\n",
       "    <tr>\n",
       "      <th>...</th>\n",
       "      <td>...</td>\n",
       "      <td>...</td>\n",
       "    </tr>\n",
       "    <tr>\n",
       "      <th>9985</th>\n",
       "      <td>47398</td>\n",
       "      <td>Kimetsu Gakuen: Valentine-hen</td>\n",
       "    </tr>\n",
       "    <tr>\n",
       "      <th>9986</th>\n",
       "      <td>47402</td>\n",
       "      <td>Heikousen</td>\n",
       "    </tr>\n",
       "    <tr>\n",
       "      <th>9987</th>\n",
       "      <td>47614</td>\n",
       "      <td>Nu Wushen de Canzhuo Spring Festival Special</td>\n",
       "    </tr>\n",
       "    <tr>\n",
       "      <th>9988</th>\n",
       "      <td>47616</td>\n",
       "      <td>Yakusoku no Neverland 2nd Season: Michishirube</td>\n",
       "    </tr>\n",
       "    <tr>\n",
       "      <th>9989</th>\n",
       "      <td>48456</td>\n",
       "      <td>SK∞: Crazy Rock Jam</td>\n",
       "    </tr>\n",
       "  </tbody>\n",
       "</table>\n",
       "<p>9990 rows × 2 columns</p>\n",
       "</div>"
      ],
      "text/plain": [
       "      anime_id                                            Name\n",
       "0            1                                    Cowboy Bebop\n",
       "1            5                 Cowboy Bebop: Tengoku no Tobira\n",
       "2            6                                          Trigun\n",
       "3            7                              Witch Hunter Robin\n",
       "4            8                                  Bouken Ou Beet\n",
       "...        ...                                             ...\n",
       "9985     47398                   Kimetsu Gakuen: Valentine-hen\n",
       "9986     47402                                       Heikousen\n",
       "9987     47614    Nu Wushen de Canzhuo Spring Festival Special\n",
       "9988     47616  Yakusoku no Neverland 2nd Season: Michishirube\n",
       "9989     48456                             SK∞: Crazy Rock Jam\n",
       "\n",
       "[9990 rows x 2 columns]"
      ]
     },
     "execution_count": 45,
     "metadata": {},
     "output_type": "execute_result"
    }
   ],
   "source": [
    "anime_complete_id_name_df_100PlusRatings = rating_complete_df_100PlusRatings_partial_merge[['anime_id','Name']].drop_duplicates()\n",
    "anime_complete_id_name_df_100PlusRatings = anime_complete_id_name_df_100PlusRatings.sort_values('anime_id')\n",
    "anime_complete_id_name_df_100PlusRatings = anime_complete_id_name_df_100PlusRatings.reset_index().drop(columns = 'index')\n",
    "anime_complete_id_name_df_100PlusRatings"
   ]
  },
  {
   "cell_type": "markdown",
   "id": "968c6ea9",
   "metadata": {},
   "source": [
    "## reduction of param (PCA or SVD)"
   ]
  },
  {
   "cell_type": "code",
   "execution_count": null,
   "id": "5efd2078",
   "metadata": {},
   "outputs": [],
   "source": [
    "active_users_df_10PlusRatings_partial_pivot\n",
    "active_users_df_100PlusRatings_partial_pivot\n",
    "\n",
    "rating_complete_df_10PlusRatings_partial_pivot\n",
    "rating_complete_df_100PlusRatings_partial_pivot"
   ]
  },
  {
   "cell_type": "code",
   "execution_count": 100,
   "id": "3d8e5d15",
   "metadata": {},
   "outputs": [],
   "source": [
    "pca_active_users_10Plus = PCA(n_components=3)\n",
    "pca_active_users_10Plus.fit(active_users_df_10PlusRatings_partial_pivot)\n",
    "pca_active_users_10Plus_df = pca_active_users_10Plus.transform(active_users_df_10PlusRatings_partial_pivot)"
   ]
  },
  {
   "cell_type": "code",
   "execution_count": 101,
   "id": "6e5e56dd",
   "metadata": {},
   "outputs": [],
   "source": [
    "ps = pd.DataFrame(pca_active_users_10Plus_df)"
   ]
  },
  {
   "cell_type": "code",
   "execution_count": 102,
   "id": "738d2e46",
   "metadata": {
    "collapsed": true
   },
   "outputs": [
    {
     "data": {
      "text/html": [
       "<div>\n",
       "<style scoped>\n",
       "    .dataframe tbody tr th:only-of-type {\n",
       "        vertical-align: middle;\n",
       "    }\n",
       "\n",
       "    .dataframe tbody tr th {\n",
       "        vertical-align: top;\n",
       "    }\n",
       "\n",
       "    .dataframe thead th {\n",
       "        text-align: right;\n",
       "    }\n",
       "</style>\n",
       "<table border=\"1\" class=\"dataframe\">\n",
       "  <thead>\n",
       "    <tr style=\"text-align: right;\">\n",
       "      <th></th>\n",
       "      <th>0</th>\n",
       "      <th>1</th>\n",
       "      <th>2</th>\n",
       "    </tr>\n",
       "  </thead>\n",
       "  <tbody>\n",
       "    <tr>\n",
       "      <th>0</th>\n",
       "      <td>14.973474</td>\n",
       "      <td>-7.181332</td>\n",
       "      <td>9.280272</td>\n",
       "    </tr>\n",
       "    <tr>\n",
       "      <th>1</th>\n",
       "      <td>5.144747</td>\n",
       "      <td>-5.312005</td>\n",
       "      <td>4.864335</td>\n",
       "    </tr>\n",
       "    <tr>\n",
       "      <th>2</th>\n",
       "      <td>8.543868</td>\n",
       "      <td>-6.687881</td>\n",
       "      <td>4.234835</td>\n",
       "    </tr>\n",
       "    <tr>\n",
       "      <th>3</th>\n",
       "      <td>0.570770</td>\n",
       "      <td>-2.244989</td>\n",
       "      <td>0.798736</td>\n",
       "    </tr>\n",
       "    <tr>\n",
       "      <th>4</th>\n",
       "      <td>-0.906365</td>\n",
       "      <td>-0.307924</td>\n",
       "      <td>0.190092</td>\n",
       "    </tr>\n",
       "    <tr>\n",
       "      <th>...</th>\n",
       "      <td>...</td>\n",
       "      <td>...</td>\n",
       "      <td>...</td>\n",
       "    </tr>\n",
       "    <tr>\n",
       "      <th>10177</th>\n",
       "      <td>-1.058466</td>\n",
       "      <td>0.310484</td>\n",
       "      <td>0.160363</td>\n",
       "    </tr>\n",
       "    <tr>\n",
       "      <th>10178</th>\n",
       "      <td>-1.255976</td>\n",
       "      <td>0.223132</td>\n",
       "      <td>0.032972</td>\n",
       "    </tr>\n",
       "    <tr>\n",
       "      <th>10179</th>\n",
       "      <td>-1.252122</td>\n",
       "      <td>0.215586</td>\n",
       "      <td>0.008045</td>\n",
       "    </tr>\n",
       "    <tr>\n",
       "      <th>10180</th>\n",
       "      <td>-1.078276</td>\n",
       "      <td>0.319846</td>\n",
       "      <td>0.257112</td>\n",
       "    </tr>\n",
       "    <tr>\n",
       "      <th>10181</th>\n",
       "      <td>-1.217555</td>\n",
       "      <td>0.250836</td>\n",
       "      <td>0.067299</td>\n",
       "    </tr>\n",
       "  </tbody>\n",
       "</table>\n",
       "<p>10182 rows × 3 columns</p>\n",
       "</div>"
      ],
      "text/plain": [
       "               0         1         2\n",
       "0      14.973474 -7.181332  9.280272\n",
       "1       5.144747 -5.312005  4.864335\n",
       "2       8.543868 -6.687881  4.234835\n",
       "3       0.570770 -2.244989  0.798736\n",
       "4      -0.906365 -0.307924  0.190092\n",
       "...          ...       ...       ...\n",
       "10177  -1.058466  0.310484  0.160363\n",
       "10178  -1.255976  0.223132  0.032972\n",
       "10179  -1.252122  0.215586  0.008045\n",
       "10180  -1.078276  0.319846  0.257112\n",
       "10181  -1.217555  0.250836  0.067299\n",
       "\n",
       "[10182 rows x 3 columns]"
      ]
     },
     "execution_count": 102,
     "metadata": {},
     "output_type": "execute_result"
    }
   ],
   "source": [
    "ps"
   ]
  },
  {
   "cell_type": "code",
   "execution_count": 103,
   "id": "2422a20c",
   "metadata": {},
   "outputs": [],
   "source": [
    "tocluster = pd.DataFrame(ps[[0,1,2]])"
   ]
  },
  {
   "cell_type": "code",
   "execution_count": 109,
   "id": "de66680c",
   "metadata": {
    "collapsed": true
   },
   "outputs": [
    {
     "name": "stderr",
     "output_type": "stream",
     "text": [
      "/tmp/ipykernel_1781/2303771990.py:5: MatplotlibDeprecationWarning: Axes3D(fig) adding itself to the figure is deprecated since 3.4. Pass the keyword argument auto_add_to_figure=False and use fig.add_axes(ax) to suppress this warning. The default value of auto_add_to_figure will change to False in mpl3.5 and True values will no longer work in 3.6.  This is consistent with other Axes classes.\n",
      "  ax = Axes3D(fig)\n"
     ]
    },
    {
     "data": {
      "image/png": "[encoded data removed]",
      "text/plain": [
       "<Figure size 1152x648 with 1 Axes>"
      ]
     },
     "metadata": {
      "needs_background": "light"
     },
     "output_type": "display_data"
    }
   ],
   "source": [
    "plt.rcParams['figure.figsize'] = (16, 9)\n",
    "\n",
    "\n",
    "fig = plt.figure()\n",
    "ax = Axes3D(fig)\n",
    "ax.scatter(tocluster[0], tocluster[2], tocluster[1])\n",
    "\n",
    "plt.title('Data points in 3D PCA axis', fontsize=20)\n",
    "plt.show()"
   ]
  },
  {
   "cell_type": "markdown",
   "id": "73041a59",
   "metadata": {},
   "source": [
    "## KNN"
   ]
  },
  {
   "cell_type": "markdown",
   "id": "d59cf7ca",
   "metadata": {},
   "source": [
    "### for active_users_df_10PlusRatings_partial_pivot"
   ]
  },
  {
   "cell_type": "code",
   "execution_count": 119,
   "id": "bf76342f",
   "metadata": {
    "scrolled": true
   },
   "outputs": [
    {
     "name": "stdout",
     "output_type": "stream",
     "text": [
      "CPU times: user 17.6 s, sys: 15.6 s, total: 33.2 s\n",
      "Wall time: 34 s\n"
     ]
    },
    {
     "data": {
      "text/plain": [
       "NearestNeighbors(algorithm='brute', metric='cosine')"
      ]
     },
     "execution_count": 119,
     "metadata": {},
     "output_type": "execute_result"
    }
   ],
   "source": [
    "%%time\n",
    "\n",
    "#test model knn for users\n",
    "active_users_df_10PlusRatings_partial_pivot_matrix = csr_matrix(active_users_df_10PlusRatings_partial_pivot.values)\n",
    "\n",
    "model_knn_10PlusRatings = NearestNeighbors(metric = 'cosine', algorithm = 'brute')\n",
    "model_knn_10PlusRatings.fit(active_users_df_10PlusRatings_partial_pivot_matrix)"
   ]
  },
  {
   "cell_type": "markdown",
   "id": "66ac6d23",
   "metadata": {},
   "source": [
    "### for active_users_df_10PlusRatings_partial_pivot after pca"
   ]
  },
  {
   "cell_type": "code",
   "execution_count": 120,
   "id": "65c3d539",
   "metadata": {},
   "outputs": [
    {
     "name": "stdout",
     "output_type": "stream",
     "text": [
      "CPU times: user 5.54 ms, sys: 0 ns, total: 5.54 ms\n",
      "Wall time: 3.93 ms\n"
     ]
    },
    {
     "data": {
      "text/plain": [
       "NearestNeighbors(algorithm='brute', metric='cosine')"
      ]
     },
     "execution_count": 120,
     "metadata": {},
     "output_type": "execute_result"
    }
   ],
   "source": [
    "%%time\n",
    "\n",
    "#test model knn for users\n",
    "active_users_df_10PlusRatings_partial_pivot_matrix_pca = csr_matrix(ps.values)\n",
    "\n",
    "model_knn_pca_10PlusRatings = NearestNeighbors(metric = 'cosine', algorithm = 'brute')\n",
    "model_knn_pca_10PlusRatings.fit(active_users_df_10PlusRatings_partial_pivot_matrix_pca)"
   ]
  },
  {
   "cell_type": "markdown",
   "id": "e39ce28e",
   "metadata": {
    "heading_collapsed": true
   },
   "source": [
    "### active_users_df_100PlusRatings_partial_pivot"
   ]
  },
  {
   "cell_type": "code",
   "execution_count": 47,
   "id": "2446678e",
   "metadata": {
    "hidden": true,
    "scrolled": true
   },
   "outputs": [
    {
     "data": {
      "text/plain": [
       "NearestNeighbors(algorithm='brute', metric='cosine')"
      ]
     },
     "execution_count": 47,
     "metadata": {},
     "output_type": "execute_result"
    }
   ],
   "source": [
    "#test model knn for users\n",
    "active_users_df_100PlusRatings_partial_pivot_matrix = csr_matrix(active_users_df_100PlusRatings_partial_pivot.values)\n",
    "\n",
    "model_knn_100PlusRatings = NearestNeighbors(metric = 'cosine', algorithm = 'brute')\n",
    "model_knn_100PlusRatings.fit(active_users_df_100PlusRatings_partial_pivot_matrix)"
   ]
  },
  {
   "cell_type": "markdown",
   "id": "c05a13a4",
   "metadata": {
    "heading_collapsed": true
   },
   "source": [
    "### rating_complete_df_10_partial_pivot"
   ]
  },
  {
   "cell_type": "code",
   "execution_count": 48,
   "id": "52c30ab5",
   "metadata": {
    "hidden": true
   },
   "outputs": [
    {
     "data": {
      "text/plain": [
       "NearestNeighbors(algorithm='brute', metric='cosine')"
      ]
     },
     "execution_count": 48,
     "metadata": {},
     "output_type": "execute_result"
    }
   ],
   "source": [
    "#test model knn for users\n",
    "rating_complete_df_10PlusRatings_partial_pivot_matrix = csr_matrix(rating_complete_df_10PlusRatings_partial_pivot.values)\n",
    "\n",
    "model_knn_complete_10PlusRatings = NearestNeighbors(metric = 'cosine', algorithm = 'brute')\n",
    "model_knn_complete_10PlusRatings.fit(rating_complete_df_10PlusRatings_partial_pivot_matrix)"
   ]
  },
  {
   "cell_type": "markdown",
   "id": "b4aef42d",
   "metadata": {
    "heading_collapsed": true
   },
   "source": [
    "### rating_complete_df_100_partial_pivot"
   ]
  },
  {
   "cell_type": "code",
   "execution_count": 49,
   "id": "0377d819",
   "metadata": {
    "hidden": true
   },
   "outputs": [
    {
     "data": {
      "text/plain": [
       "NearestNeighbors(algorithm='brute', metric='cosine')"
      ]
     },
     "execution_count": 49,
     "metadata": {},
     "output_type": "execute_result"
    }
   ],
   "source": [
    "rating_complete_df_100PlusRatings_partial_pivot_matrix = csr_matrix(rating_complete_df_100PlusRatings_partial_pivot.values)\n",
    "\n",
    "model_knn_complete_100PlusRatings = NearestNeighbors(metric = 'cosine', algorithm = 'brute')\n",
    "model_knn_complete_100PlusRatings.fit(rating_complete_df_100PlusRatings_partial_pivot_matrix)"
   ]
  },
  {
   "cell_type": "markdown",
   "id": "93261606",
   "metadata": {
    "heading_collapsed": true
   },
   "source": [
    "### Predictions and comparaisons of model with index row"
   ]
  },
  {
   "cell_type": "code",
   "execution_count": 50,
   "id": "38686097",
   "metadata": {
    "hidden": true
   },
   "outputs": [],
   "source": [
    "# don't forget to when the distance for knn prediction is 0.0 is probably due lack of data and \n",
    "# not an extreme proximity of the anime"
   ]
  },
  {
   "cell_type": "code",
   "execution_count": 51,
   "id": "360409aa",
   "metadata": {
    "hidden": true,
    "scrolled": true
   },
   "outputs": [],
   "source": [
    "#Chose the anime 5 who is the same on the two vectorized data\n",
    "index_nb = 25\n",
    "n_neighbors = 15\n",
    "distances, indices = model_knn_10PlusRatings.kneighbors(active_users_df_10PlusRatings_partial_pivot.iloc[index_nb,:].values.reshape(1, -1), n_neighbors = n_neighbors)"
   ]
  },
  {
   "cell_type": "code",
   "execution_count": 52,
   "id": "e1b11833",
   "metadata": {
    "hidden": true
   },
   "outputs": [
    {
     "data": {
      "text/plain": [
       "10166"
      ]
     },
     "execution_count": 52,
     "metadata": {},
     "output_type": "execute_result"
    }
   ],
   "source": [
    "active_users_df_100PlusRatings_partial_pivot.shape[0]"
   ]
  },
  {
   "cell_type": "code",
   "execution_count": 53,
   "id": "9012b4c4",
   "metadata": {
    "hidden": true
   },
   "outputs": [
    {
     "data": {
      "text/plain": [
       "'Rurouni Kenshin: Meiji Kenkaku Romantan - Tsuioku-hen'"
      ]
     },
     "execution_count": 53,
     "metadata": {},
     "output_type": "execute_result"
    }
   ],
   "source": [
    "anime_id_name_df_10PlusRatings.loc[25].Name"
   ]
  },
  {
   "cell_type": "code",
   "execution_count": 54,
   "id": "194609d0",
   "metadata": {
    "hidden": true
   },
   "outputs": [
    {
     "data": {
      "text/plain": [
       "array([[0., 0., 0., ..., 0., 0., 0.]])"
      ]
     },
     "execution_count": 54,
     "metadata": {},
     "output_type": "execute_result"
    }
   ],
   "source": [
    "active_users_df_100PlusRatings_partial_pivot.iloc[index_nb,:].values.reshape(1, -1)"
   ]
  },
  {
   "cell_type": "code",
   "execution_count": 55,
   "id": "a334237b",
   "metadata": {
    "hidden": true
   },
   "outputs": [
    {
     "name": "stdout",
     "output_type": "stream",
     "text": [
      "Recommendations for 44:\n",
      "\n",
      "1: 401, with distance of 0.3584510704225097:\n",
      "2: 45, with distance of 0.4412344920491553:\n",
      "3: 46, with distance of 0.5198177735481421:\n",
      "4: 205, with distance of 0.6306822911114232:\n",
      "5: 164, with distance of 0.6514185282119336:\n",
      "6: 1, with distance of 0.6532132499033737:\n",
      "7: 6, with distance of 0.6594495192648324:\n",
      "8: 11441, with distance of 0.6777024884985369:\n",
      "9: 72, with distance of 0.6832907565108806:\n",
      "10: 5, with distance of 0.6833175351648948:\n",
      "11: 267, with distance of 0.6848829520995819:\n",
      "12: 2418, with distance of 0.6856527651060023:\n",
      "13: 33, with distance of 0.6876457091619872:\n",
      "14: 1818, with distance of 0.6882241799505108:\n"
     ]
    }
   ],
   "source": [
    "#10PlusRatings\n",
    "for i in range(0, len(distances.flatten())):\n",
    "    if i == 0:\n",
    "        print('Recommendations for {0}:\\n'.format(active_users_df_10PlusRatings_partial_pivot.index[index_nb]))\n",
    "    else:\n",
    "        print('{0}: {1}, with distance of {2}:'.format(i, active_users_df_10PlusRatings_partial_pivot.index[indices.flatten()[i]], distances.flatten()[i]))"
   ]
  },
  {
   "cell_type": "code",
   "execution_count": 56,
   "id": "41059473",
   "metadata": {
    "hidden": true
   },
   "outputs": [],
   "source": [
    "distances, indices = model_knn_10PlusRatings.kneighbors(active_users_df_10PlusRatings_partial_pivot.iloc[index_nb,:].values.reshape(1, -1), n_neighbors = n_neighbors)"
   ]
  },
  {
   "cell_type": "code",
   "execution_count": 57,
   "id": "79d29bc5",
   "metadata": {
    "hidden": true,
    "scrolled": true
   },
   "outputs": [
    {
     "data": {
      "text/html": [
       "<div>\n",
       "<style scoped>\n",
       "    .dataframe tbody tr th:only-of-type {\n",
       "        vertical-align: middle;\n",
       "    }\n",
       "\n",
       "    .dataframe tbody tr th {\n",
       "        vertical-align: top;\n",
       "    }\n",
       "\n",
       "    .dataframe thead th {\n",
       "        text-align: right;\n",
       "    }\n",
       "</style>\n",
       "<table border=\"1\" class=\"dataframe\">\n",
       "  <thead>\n",
       "    <tr style=\"text-align: right;\">\n",
       "      <th></th>\n",
       "      <th>anime_id</th>\n",
       "      <th>Name</th>\n",
       "    </tr>\n",
       "  </thead>\n",
       "  <tbody>\n",
       "    <tr>\n",
       "      <th>25</th>\n",
       "      <td>44</td>\n",
       "      <td>Rurouni Kenshin: Meiji Kenkaku Romantan - Tsui...</td>\n",
       "    </tr>\n",
       "  </tbody>\n",
       "</table>\n",
       "</div>"
      ],
      "text/plain": [
       "    anime_id                                               Name\n",
       "25        44  Rurouni Kenshin: Meiji Kenkaku Romantan - Tsui..."
      ]
     },
     "execution_count": 57,
     "metadata": {},
     "output_type": "execute_result"
    }
   ],
   "source": [
    "anime_id_name_df_10PlusRatings.query('anime_id == 44')"
   ]
  },
  {
   "cell_type": "code",
   "execution_count": 58,
   "id": "75ea65d2",
   "metadata": {
    "hidden": true,
    "scrolled": true
   },
   "outputs": [
    {
     "data": {
      "text/plain": [
       "'Rurouni Kenshin: Meiji Kenkaku Romantan - Tsuioku-hen'"
      ]
     },
     "execution_count": 58,
     "metadata": {},
     "output_type": "execute_result"
    }
   ],
   "source": [
    "# How to obtain the nma of the anime from is anime_id\n",
    "anime_id_name_df_10PlusRatings.query('anime_id == 44').iloc[0].Name"
   ]
  },
  {
   "cell_type": "code",
   "execution_count": 59,
   "id": "27c34f14",
   "metadata": {
    "hidden": true
   },
   "outputs": [
    {
     "name": "stdout",
     "output_type": "stream",
     "text": [
      "Rurouni Kenshin: Meiji Kenkaku Romantan - Tsuioku-hen\n"
     ]
    }
   ],
   "source": [
    "print(anime_id_name_df_10PlusRatings.query('anime_id == 44').iloc[0].Name)"
   ]
  },
  {
   "cell_type": "code",
   "execution_count": 60,
   "id": "3193238e",
   "metadata": {
    "hidden": true
   },
   "outputs": [
    {
     "data": {
      "text/plain": [
       "'Rurouni Kenshin: Meiji Kenkaku Romantan - Tsuioku-hen'"
      ]
     },
     "execution_count": 60,
     "metadata": {},
     "output_type": "execute_result"
    }
   ],
   "source": [
    "nb = 44\n",
    "anime_id_name_df_10PlusRatings.query(f'anime_id == {nb}').iloc[0].Name"
   ]
  },
  {
   "cell_type": "code",
   "execution_count": 61,
   "id": "32f31925",
   "metadata": {
    "hidden": true
   },
   "outputs": [
    {
     "name": "stdout",
     "output_type": "stream",
     "text": [
      "Recommendations for Rurouni Kenshin: Meiji Kenkaku Romantan - Tsuioku-hen:\n",
      "Rurouni Kenshin: Meiji Kenkaku Romantan - Seisou-hen, with distance of 0.3584510704225097\n",
      "Rurouni Kenshin: Meiji Kenkaku Romantan, with distance of 0.4412344920491553\n",
      "Rurouni Kenshin: Meiji Kenkaku Romantan - Ishinshishi e no Chinkonka, with distance of 0.5198177735481421\n",
      "Samurai Champloo, with distance of 0.6306822911114232\n",
      "Mononoke Hime, with distance of 0.6514185282119336\n",
      "Cowboy Bebop, with distance of 0.6532132499033737\n",
      "Trigun, with distance of 0.6594495192648324\n",
      "Rurouni Kenshin: Meiji Kenkaku Romantan - Shin Kyoto-hen, with distance of 0.6777024884985369\n",
      "Full Metal Panic? Fumoffu, with distance of 0.6832907565108806\n",
      "Cowboy Bebop: Tengoku no Tobira, with distance of 0.6833175351648948\n",
      "Gungrave, with distance of 0.6848829520995819\n",
      "Stranger: Mukou Hadan, with distance of 0.6856527651060023\n",
      "Kenpuu Denki Berserk, with distance of 0.6876457091619872\n",
      "Claymore, with distance of 0.6882241799505108\n"
     ]
    }
   ],
   "source": [
    "#10PlusRatings list\n",
    "distances, indices = model_knn_10PlusRatings.kneighbors(active_users_df_10PlusRatings_partial_pivot.iloc[index_nb,:].values.reshape(1, -1), n_neighbors = n_neighbors)\n",
    "\n",
    "prediction_10PlusRatings = []\n",
    "for i in range(0, len(distances.flatten())):\n",
    "    if i == 0:\n",
    "        prediction_10PlusRatings.append([active_users_df_10PlusRatings_partial_pivot.index[indices.flatten()[i]],0])\n",
    "    else:\n",
    "        prediction_10PlusRatings.append([active_users_df_10PlusRatings_partial_pivot.index[indices.flatten()[i]],distances.flatten()[i]])\n",
    "\n",
    "for i in range(len(prediction_10PlusRatings)):\n",
    "    anime_name = anime_id_name_df_10PlusRatings.query(f'anime_id == {prediction_10PlusRatings[i][0]}').iloc[0].Name\n",
    "    distance = prediction_10PlusRatings[i][1]\n",
    "    if i == 0:\n",
    "        print(f'Recommendations for {anime_name}:')\n",
    "    else:\n",
    "        print(f'{anime_name}, with distance of {distance}')"
   ]
  },
  {
   "cell_type": "code",
   "execution_count": 62,
   "id": "f81b5e20",
   "metadata": {
    "hidden": true
   },
   "outputs": [
    {
     "data": {
      "text/plain": [
       "'Rurouni Kenshin: Meiji Kenkaku Romantan - Tsuioku-hen'"
      ]
     },
     "execution_count": 62,
     "metadata": {},
     "output_type": "execute_result"
    }
   ],
   "source": [
    "anime_id_name_df_10PlusRatings.query(f'anime_id == {prediction_10PlusRatings[0][0]}').iloc[0].Name"
   ]
  },
  {
   "cell_type": "code",
   "execution_count": 63,
   "id": "866f29a7",
   "metadata": {
    "hidden": true,
    "scrolled": true
   },
   "outputs": [
    {
     "data": {
      "text/plain": [
       "44"
      ]
     },
     "execution_count": 63,
     "metadata": {},
     "output_type": "execute_result"
    }
   ],
   "source": [
    "prediction_10PlusRatings[0][0]"
   ]
  },
  {
   "cell_type": "code",
   "execution_count": 64,
   "id": "2ecddcd0",
   "metadata": {
    "hidden": true
   },
   "outputs": [
    {
     "name": "stdout",
     "output_type": "stream",
     "text": [
      "Recommendations for Rurouni Kenshin: Meiji Kenkaku Romantan - Tsuioku-hen:\n",
      "Rurouni Kenshin: Meiji Kenkaku Romantan - Seisou-hen, with distance of 0.3328569482940108\n",
      "Rurouni Kenshin: Meiji Kenkaku Romantan, with distance of 0.4025112118624564\n",
      "Rurouni Kenshin: Meiji Kenkaku Romantan - Ishinshishi e no Chinkonka, with distance of 0.47648033772070286\n",
      "Samurai Champloo, with distance of 0.5976485135355779\n",
      "Trigun, with distance of 0.6350663596971027\n",
      "Full Metal Panic? Fumoffu, with distance of 0.6361281063333539\n",
      "Cowboy Bebop, with distance of 0.6362672287529976\n",
      "Mononoke Hime, with distance of 0.6364660462779358\n",
      "Rurouni Kenshin: Meiji Kenkaku Romantan - Shin Kyoto-hen, with distance of 0.6406270910188878\n",
      "Gungrave, with distance of 0.6416285075724968\n",
      "Full Metal Panic!, with distance of 0.6491594950121563\n",
      "Fullmetal Alchemist, with distance of 0.6537517787465945\n",
      "Cowboy Bebop: Tengoku no Tobira, with distance of 0.6546939282738695\n",
      "Claymore, with distance of 0.6564810887608559\n"
     ]
    }
   ],
   "source": [
    "#100PlusRatings list\n",
    "distances, indices = model_knn_100PlusRatings.kneighbors(active_users_df_100PlusRatings_partial_pivot.iloc[index_nb,:].values.reshape(1, -1), n_neighbors = n_neighbors)\n",
    "prediction_100PlusRatings = []\n",
    "for i in range(len(distances.flatten())):\n",
    "    if i == 0:\n",
    "        prediction_100PlusRatings.append([active_users_df_100PlusRatings_partial_pivot.index[indices.flatten()[i]],0])\n",
    "    else:\n",
    "        prediction_100PlusRatings.append([active_users_df_100PlusRatings_partial_pivot.index[indices.flatten()[i]],distances.flatten()[i]])\n",
    "\n",
    "for i in range(len(prediction_100PlusRatings)):\n",
    "    anime_name = anime_id_name_df_100PlusRatings.query(f'anime_id == {prediction_100PlusRatings[i][0]}').iloc[0].Name\n",
    "    distance = prediction_100PlusRatings[i][1]\n",
    "    if i == 0:\n",
    "        print(f'Recommendations for {anime_name}:')\n",
    "    else:\n",
    "        print(f'{anime_name}, with distance of {distance}')"
   ]
  },
  {
   "cell_type": "markdown",
   "id": "b6e7e925",
   "metadata": {
    "heading_collapsed": true
   },
   "source": [
    "### prediction and comparaison with an anime name"
   ]
  },
  {
   "cell_type": "code",
   "execution_count": 65,
   "id": "e1fce9a4",
   "metadata": {
    "hidden": true,
    "scrolled": false
   },
   "outputs": [
    {
     "data": {
      "text/html": [
       "<div>\n",
       "<style scoped>\n",
       "    .dataframe tbody tr th:only-of-type {\n",
       "        vertical-align: middle;\n",
       "    }\n",
       "\n",
       "    .dataframe tbody tr th {\n",
       "        vertical-align: top;\n",
       "    }\n",
       "\n",
       "    .dataframe thead th {\n",
       "        text-align: right;\n",
       "    }\n",
       "</style>\n",
       "<table border=\"1\" class=\"dataframe\">\n",
       "  <thead>\n",
       "    <tr style=\"text-align: right;\">\n",
       "      <th></th>\n",
       "      <th>anime_id</th>\n",
       "      <th>Name</th>\n",
       "    </tr>\n",
       "  </thead>\n",
       "  <tbody>\n",
       "    <tr>\n",
       "      <th>10</th>\n",
       "      <td>20</td>\n",
       "      <td>Naruto</td>\n",
       "    </tr>\n",
       "  </tbody>\n",
       "</table>\n",
       "</div>"
      ],
      "text/plain": [
       "    anime_id    Name\n",
       "10        20  Naruto"
      ]
     },
     "execution_count": 65,
     "metadata": {},
     "output_type": "execute_result"
    }
   ],
   "source": [
    "anime_id_name_df_10PlusRatings.query('Name == \"Naruto\"')"
   ]
  },
  {
   "cell_type": "code",
   "execution_count": 66,
   "id": "cf894d42",
   "metadata": {
    "hidden": true
   },
   "outputs": [],
   "source": [
    "n_neighbors = 15"
   ]
  },
  {
   "cell_type": "code",
   "execution_count": 67,
   "id": "e52d1de4",
   "metadata": {
    "hidden": true
   },
   "outputs": [],
   "source": [
    "index_nb = anime_id_name_df_10PlusRatings.index[anime_id_name_df_10PlusRatings['Name'] == \"Naruto\"].tolist()[0]"
   ]
  },
  {
   "cell_type": "code",
   "execution_count": 68,
   "id": "91e97dc5",
   "metadata": {
    "hidden": true
   },
   "outputs": [
    {
     "data": {
      "text/plain": [
       "10"
      ]
     },
     "execution_count": 68,
     "metadata": {},
     "output_type": "execute_result"
    }
   ],
   "source": [
    "anime_id_name_df_10PlusRatings.index[anime_id_name_df_10PlusRatings['Name'] == \"Naruto\"].tolist()[0]"
   ]
  },
  {
   "cell_type": "code",
   "execution_count": 69,
   "id": "a9b30979",
   "metadata": {
    "hidden": true
   },
   "outputs": [
    {
     "data": {
      "text/plain": [
       "10"
      ]
     },
     "execution_count": 69,
     "metadata": {},
     "output_type": "execute_result"
    }
   ],
   "source": [
    "index_nb"
   ]
  },
  {
   "cell_type": "code",
   "execution_count": 70,
   "id": "c94d6315",
   "metadata": {
    "hidden": true
   },
   "outputs": [
    {
     "name": "stdout",
     "output_type": "stream",
     "text": [
      "Recommendations for Naruto:\n",
      "Naruto: Shippuuden, with distance of 0.18049078542744756\n",
      "Death Note, with distance of 0.3272437518799032\n",
      "Bleach, with distance of 0.35922338431707357\n",
      "Shingeki no Kyojin, with distance of 0.3764965221555533\n",
      "Fullmetal Alchemist: Brotherhood, with distance of 0.4092187913883145\n",
      "Code Geass: Hangyaku no Lelouch, with distance of 0.41415931597920275\n",
      "Sword Art Online, with distance of 0.4145034622526955\n",
      "One Piece, with distance of 0.43246932997058873\n",
      "Fairy Tail, with distance of 0.43374727465720253\n",
      "One Punch Man, with distance of 0.4406721372998613\n",
      "Code Geass: Hangyaku no Lelouch R2, with distance of 0.44317776537599707\n",
      "Tokyo Ghoul, with distance of 0.4478750610328678\n",
      "Boku no Hero Academia, with distance of 0.45097734755300867\n",
      "Fullmetal Alchemist, with distance of 0.45734048611945133\n"
     ]
    }
   ],
   "source": [
    "#10PlusRatings list\n",
    "distances, indices = model_knn_10PlusRatings.kneighbors(active_users_df_10PlusRatings_partial_pivot.iloc[index_nb,:].values.reshape(1, -1), n_neighbors = n_neighbors)\n",
    "\n",
    "prediction_10PlusRatings = []\n",
    "for i in range(0, len(distances.flatten())):\n",
    "    if i == 0:\n",
    "        prediction_10PlusRatings.append([active_users_df_10PlusRatings_partial_pivot.index[indices.flatten()[i]],0])\n",
    "    else:\n",
    "        prediction_10PlusRatings.append([active_users_df_10PlusRatings_partial_pivot.index[indices.flatten()[i]],distances.flatten()[i]])\n",
    "\n",
    "for i in range(len(prediction_10PlusRatings)):\n",
    "    anime_name = anime_id_name_df_10PlusRatings.query(f'anime_id == {prediction_10PlusRatings[i][0]}').iloc[0].Name\n",
    "    distance = prediction_10PlusRatings[i][1]\n",
    "    if i == 0:\n",
    "        print(f'Recommendations for {anime_name}:')\n",
    "    else:\n",
    "        print(f'{anime_name}, with distance of {distance}')"
   ]
  },
  {
   "cell_type": "code",
   "execution_count": 71,
   "id": "6ffe6726",
   "metadata": {
    "hidden": true,
    "scrolled": false
   },
   "outputs": [
    {
     "data": {
      "text/html": [
       "<div>\n",
       "<style scoped>\n",
       "    .dataframe tbody tr th:only-of-type {\n",
       "        vertical-align: middle;\n",
       "    }\n",
       "\n",
       "    .dataframe tbody tr th {\n",
       "        vertical-align: top;\n",
       "    }\n",
       "\n",
       "    .dataframe thead th {\n",
       "        text-align: right;\n",
       "    }\n",
       "</style>\n",
       "<table border=\"1\" class=\"dataframe\">\n",
       "  <thead>\n",
       "    <tr style=\"text-align: right;\">\n",
       "      <th></th>\n",
       "      <th>anime_id</th>\n",
       "      <th>Name</th>\n",
       "    </tr>\n",
       "  </thead>\n",
       "  <tbody>\n",
       "    <tr>\n",
       "      <th>10</th>\n",
       "      <td>20</td>\n",
       "      <td>Naruto</td>\n",
       "    </tr>\n",
       "  </tbody>\n",
       "</table>\n",
       "</div>"
      ],
      "text/plain": [
       "    anime_id    Name\n",
       "10        20  Naruto"
      ]
     },
     "execution_count": 71,
     "metadata": {},
     "output_type": "execute_result"
    }
   ],
   "source": [
    "anime_id_name_df_100PlusRatings.query('Name == \"Naruto\"')"
   ]
  },
  {
   "cell_type": "code",
   "execution_count": 72,
   "id": "8a306d13",
   "metadata": {
    "hidden": true
   },
   "outputs": [],
   "source": [
    "index_nb = anime_id_name_df_100PlusRatings.index[anime_id_name_df_100PlusRatings['Name'] == \"Naruto\"].tolist()[0]"
   ]
  },
  {
   "cell_type": "code",
   "execution_count": 73,
   "id": "db55134c",
   "metadata": {
    "hidden": true,
    "scrolled": true
   },
   "outputs": [
    {
     "data": {
      "text/plain": [
       "10"
      ]
     },
     "execution_count": 73,
     "metadata": {},
     "output_type": "execute_result"
    }
   ],
   "source": [
    "index_nb"
   ]
  },
  {
   "cell_type": "code",
   "execution_count": 74,
   "id": "0904670a",
   "metadata": {
    "hidden": true,
    "scrolled": false
   },
   "outputs": [
    {
     "name": "stdout",
     "output_type": "stream",
     "text": [
      "Recommendations for Naruto:\n",
      "Naruto: Shippuuden, with distance of 0.15516967217154087\n",
      "Death Note, with distance of 0.2848835714687815\n",
      "Bleach, with distance of 0.3062895355389962\n",
      "Shingeki no Kyojin, with distance of 0.3096722585912889\n",
      "Fullmetal Alchemist: Brotherhood, with distance of 0.338931604784668\n",
      "Sword Art Online, with distance of 0.34410873051357505\n",
      "Code Geass: Hangyaku no Lelouch, with distance of 0.3462897298922615\n",
      "Fairy Tail, with distance of 0.3694736560717937\n",
      "One Punch Man, with distance of 0.37036467228899506\n",
      "Code Geass: Hangyaku no Lelouch R2, with distance of 0.37518298931842653\n",
      "Tokyo Ghoul, with distance of 0.37811452786857214\n",
      "Boku no Hero Academia, with distance of 0.38078608955758164\n",
      "One Piece, with distance of 0.3850372607381164\n",
      "Ao no Exorcist, with distance of 0.3885017578704102\n"
     ]
    }
   ],
   "source": [
    "#100PlusRatings list\n",
    "distances, indices = model_knn_100PlusRatings.kneighbors(active_users_df_100PlusRatings_partial_pivot.iloc[index_nb,:].values.reshape(1, -1), n_neighbors = n_neighbors)\n",
    "prediction_100PlusRatings = []\n",
    "for i in range(len(distances.flatten())):\n",
    "    if i == 0:\n",
    "        prediction_100PlusRatings.append([active_users_df_100PlusRatings_partial_pivot.index[indices.flatten()[i]],0])\n",
    "    else:\n",
    "        prediction_100PlusRatings.append([active_users_df_100PlusRatings_partial_pivot.index[indices.flatten()[i]],distances.flatten()[i]])\n",
    "\n",
    "for i in range(len(prediction_100PlusRatings)):\n",
    "    anime_name = anime_id_name_df_100PlusRatings.query(f'anime_id == {prediction_100PlusRatings[i][0]}').iloc[0].Name\n",
    "    distance = prediction_100PlusRatings[i][1]\n",
    "    if i == 0:\n",
    "        print(f'Recommendations for {anime_name}:')\n",
    "    else:\n",
    "        print(f'{anime_name}, with distance of {distance}')"
   ]
  },
  {
   "cell_type": "code",
   "execution_count": 75,
   "id": "d4766083",
   "metadata": {
    "hidden": true
   },
   "outputs": [
    {
     "data": {
      "text/html": [
       "<div>\n",
       "<style scoped>\n",
       "    .dataframe tbody tr th:only-of-type {\n",
       "        vertical-align: middle;\n",
       "    }\n",
       "\n",
       "    .dataframe tbody tr th {\n",
       "        vertical-align: top;\n",
       "    }\n",
       "\n",
       "    .dataframe thead th {\n",
       "        text-align: right;\n",
       "    }\n",
       "</style>\n",
       "<table border=\"1\" class=\"dataframe\">\n",
       "  <thead>\n",
       "    <tr style=\"text-align: right;\">\n",
       "      <th></th>\n",
       "      <th>anime_id</th>\n",
       "      <th>Name</th>\n",
       "    </tr>\n",
       "  </thead>\n",
       "  <tbody>\n",
       "    <tr>\n",
       "      <th>417</th>\n",
       "      <td>457</td>\n",
       "      <td>Mushishi</td>\n",
       "    </tr>\n",
       "  </tbody>\n",
       "</table>\n",
       "</div>"
      ],
      "text/plain": [
       "     anime_id      Name\n",
       "417       457  Mushishi"
      ]
     },
     "execution_count": 75,
     "metadata": {},
     "output_type": "execute_result"
    }
   ],
   "source": [
    "anime_id_name_df_10PlusRatings.query('Name == \"Mushishi\"')"
   ]
  },
  {
   "cell_type": "code",
   "execution_count": 76,
   "id": "d95fad68",
   "metadata": {
    "hidden": true
   },
   "outputs": [
    {
     "data": {
      "text/html": [
       "<div>\n",
       "<style scoped>\n",
       "    .dataframe tbody tr th:only-of-type {\n",
       "        vertical-align: middle;\n",
       "    }\n",
       "\n",
       "    .dataframe tbody tr th {\n",
       "        vertical-align: top;\n",
       "    }\n",
       "\n",
       "    .dataframe thead th {\n",
       "        text-align: right;\n",
       "    }\n",
       "</style>\n",
       "<table border=\"1\" class=\"dataframe\">\n",
       "  <thead>\n",
       "    <tr style=\"text-align: right;\">\n",
       "      <th></th>\n",
       "      <th>anime_id</th>\n",
       "      <th>Name</th>\n",
       "    </tr>\n",
       "  </thead>\n",
       "  <tbody>\n",
       "    <tr>\n",
       "      <th>38</th>\n",
       "      <td>57</td>\n",
       "      <td>Beck</td>\n",
       "    </tr>\n",
       "  </tbody>\n",
       "</table>\n",
       "</div>"
      ],
      "text/plain": [
       "    anime_id  Name\n",
       "38        57  Beck"
      ]
     },
     "execution_count": 76,
     "metadata": {},
     "output_type": "execute_result"
    }
   ],
   "source": [
    "anime_id_name_df_10PlusRatings.query('Name == \"Beck\"')"
   ]
  },
  {
   "cell_type": "code",
   "execution_count": 77,
   "id": "9faf3e26",
   "metadata": {
    "hidden": true
   },
   "outputs": [],
   "source": [
    "index_nb = anime_id_name_df_10PlusRatings.index[anime_id_name_df_10PlusRatings['Name'] == \"Beck\"].tolist()[0]"
   ]
  },
  {
   "cell_type": "code",
   "execution_count": 78,
   "id": "9bc7ec3e",
   "metadata": {
    "hidden": true
   },
   "outputs": [
    {
     "name": "stdout",
     "output_type": "stream",
     "text": [
      "Recommendations for Beck:\n",
      "Great Teacher Onizuka, with distance of 0.5917903101437341\n",
      "Samurai Champloo, with distance of 0.6302206837978149\n",
      "NHK ni Youkoso!, with distance of 0.631696141979681\n",
      "Black Lagoon, with distance of 0.6395070997045906\n",
      "Nodame Cantabile, with distance of 0.640647768986048\n",
      "Genshiken, with distance of 0.6516668110520863\n",
      "FLCL, with distance of 0.6545938058916252\n",
      "Detroit Metal City, with distance of 0.6567941462705711\n",
      "Koukyoushihen Eureka Seven, with distance of 0.6586769660066759\n",
      "Code Geass: Hangyaku no Lelouch, with distance of 0.6617284015963658\n",
      "Bakuman., with distance of 0.6629083622746548\n",
      "Cowboy Bebop, with distance of 0.6641822790017816\n",
      "Nana, with distance of 0.666763563661467\n",
      "Baccano!, with distance of 0.666951148201443\n"
     ]
    }
   ],
   "source": [
    "#10PlusRatings list\n",
    "distances, indices = model_knn_10PlusRatings.kneighbors(active_users_df_10PlusRatings_partial_pivot.iloc[index_nb,:].values.reshape(1, -1), n_neighbors = n_neighbors)\n",
    "\n",
    "prediction_10PlusRatings = []\n",
    "for i in range(0, len(distances.flatten())):\n",
    "    if i == 0:\n",
    "        prediction_10PlusRatings.append([active_users_df_10PlusRatings_partial_pivot.index[indices.flatten()[i]],0])\n",
    "    else:\n",
    "        prediction_10PlusRatings.append([active_users_df_10PlusRatings_partial_pivot.index[indices.flatten()[i]],distances.flatten()[i]])\n",
    "\n",
    "for i in range(len(prediction_10PlusRatings)):\n",
    "    anime_name = anime_id_name_df_10PlusRatings.query(f'anime_id == {prediction_10PlusRatings[i][0]}').iloc[0].Name\n",
    "    distance = prediction_10PlusRatings[i][1]\n",
    "    if i == 0:\n",
    "        print(f'Recommendations for {anime_name}:')\n",
    "    else:\n",
    "        print(f'{anime_name}, with distance of {distance}')"
   ]
  },
  {
   "cell_type": "code",
   "execution_count": 79,
   "id": "664d644c",
   "metadata": {
    "hidden": true
   },
   "outputs": [],
   "source": [
    "index_nb = anime_id_name_df_100PlusRatings.index[anime_id_name_df_100PlusRatings['Name'] == \"Beck\"].tolist()[0]"
   ]
  },
  {
   "cell_type": "code",
   "execution_count": 80,
   "id": "9eba154d",
   "metadata": {
    "hidden": true
   },
   "outputs": [
    {
     "name": "stdout",
     "output_type": "stream",
     "text": [
      "Recommendations for Beck:\n",
      "Great Teacher Onizuka, with distance of 0.5543059059762562\n",
      "NHK ni Youkoso!, with distance of 0.5855015252415916\n",
      "Samurai Champloo, with distance of 0.6025232343668067\n",
      "Black Lagoon, with distance of 0.6040858467601\n",
      "Nodame Cantabile, with distance of 0.604624622528213\n",
      "FLCL, with distance of 0.618604133128144\n",
      "Fullmetal Alchemist, with distance of 0.6188701456381132\n",
      "Genshiken, with distance of 0.622682725909649\n",
      "Black Lagoon: The Second Barrage, with distance of 0.6254898956891575\n",
      "Death Note, with distance of 0.6255588548621809\n",
      "Elfen Lied, with distance of 0.6270899600719407\n",
      "Nana, with distance of 0.6277005139940497\n",
      "Detroit Metal City, with distance of 0.6298809083862615\n",
      "Code Geass: Hangyaku no Lelouch, with distance of 0.6303102551076898\n"
     ]
    }
   ],
   "source": [
    "#100PlusRatings list\n",
    "distances, indices = model_knn_100PlusRatings.kneighbors(active_users_df_100PlusRatings_partial_pivot.iloc[index_nb,:].values.reshape(1, -1), n_neighbors = n_neighbors)\n",
    "prediction_100PlusRatings = []\n",
    "for i in range(len(distances.flatten())):\n",
    "    if i == 0:\n",
    "        prediction_100PlusRatings.append([active_users_df_100PlusRatings_partial_pivot.index[indices.flatten()[i]],0])\n",
    "    else:\n",
    "        prediction_100PlusRatings.append([active_users_df_100PlusRatings_partial_pivot.index[indices.flatten()[i]],distances.flatten()[i]])\n",
    "\n",
    "for i in range(len(prediction_100PlusRatings)):\n",
    "    anime_name = anime_id_name_df_100PlusRatings.query(f'anime_id == {prediction_100PlusRatings[i][0]}').iloc[0].Name\n",
    "    distance = prediction_100PlusRatings[i][1]\n",
    "    if i == 0:\n",
    "        print(f'Recommendations for {anime_name}:')\n",
    "    else:\n",
    "        print(f'{anime_name}, with distance of {distance}')"
   ]
  },
  {
   "cell_type": "code",
   "execution_count": 81,
   "id": "b1d1a095",
   "metadata": {
    "hidden": true
   },
   "outputs": [],
   "source": [
    "# the model give response that are coherent"
   ]
  },
  {
   "cell_type": "markdown",
   "id": "039e62ba",
   "metadata": {},
   "source": [
    "### Create fonction for using the model"
   ]
  },
  {
   "cell_type": "code",
   "execution_count": 82,
   "id": "afca8950",
   "metadata": {},
   "outputs": [],
   "source": [
    "def recomendation_100PlusRatings(anime_name, nb_recomendation = 10):\n",
    "    index_nb = anime_id_name_df_100PlusRatings.index[anime_id_name_df_100PlusRatings['Name'] == anime_name].tolist()[0]\n",
    "    distances, indices = model_knn_100PlusRatings.kneighbors(active_users_df_100PlusRatings_partial_pivot.iloc[index_nb,:].values.reshape(1, -1), n_neighbors = nb_recomendation+1)\n",
    "    prediction_100PlusRatings = []\n",
    "    for i in range(len(distances.flatten())):\n",
    "        if i == 0:\n",
    "            prediction_100PlusRatings.append([active_users_df_100PlusRatings_partial_pivot.index[indices.flatten()[i]],0])\n",
    "        else:\n",
    "            prediction_100PlusRatings.append([active_users_df_100PlusRatings_partial_pivot.index[indices.flatten()[i]],distances.flatten()[i]])\n",
    "    results = []\n",
    "    for i in range(len(prediction_100PlusRatings)):\n",
    "        anime_name = anime_id_name_df_100PlusRatings.query(f'anime_id == {prediction_100PlusRatings[i][0]}').iloc[0].Name\n",
    "        distance = prediction_100PlusRatings[i][1]\n",
    "        results.append([anime_name,distance])\n",
    "    return results"
   ]
  },
  {
   "cell_type": "code",
   "execution_count": 83,
   "id": "1aedf696",
   "metadata": {},
   "outputs": [],
   "source": [
    "def recomendation_10PlusRatings(anime_name, nb_recomendation = 10):\n",
    "    index_nb = anime_id_name_df_10PlusRatings.index[anime_id_name_df_10PlusRatings['Name'] == anime_name].tolist()[0]\n",
    "    distances, indices = model_knn_10PlusRatings.kneighbors(active_users_df_10PlusRatings_partial_pivot.iloc[index_nb,:].values.reshape(1, -1), n_neighbors = nb_recomendation + 1)\n",
    "\n",
    "    prediction_10PlusRatings = []\n",
    "    for i in range(0, len(distances.flatten())):\n",
    "        if i == 0:\n",
    "            prediction_10PlusRatings.append([active_users_df_10PlusRatings_partial_pivot.index[indices.flatten()[i]],0])\n",
    "        else:\n",
    "            prediction_10PlusRatings.append([active_users_df_10PlusRatings_partial_pivot.index[indices.flatten()[i]],distances.flatten()[i]])\n",
    "    results = []\n",
    "    for i in range(len(prediction_10PlusRatings)):\n",
    "        anime_name = anime_id_name_df_10PlusRatings.query(f'anime_id == {prediction_10PlusRatings[i][0]}').iloc[0].Name\n",
    "        distance = prediction_10PlusRatings[i][1]\n",
    "        results.append([anime_name,distance])\n",
    "    return results"
   ]
  },
  {
   "cell_type": "code",
   "execution_count": 84,
   "id": "f4836c66",
   "metadata": {},
   "outputs": [
    {
     "data": {
      "text/plain": [
       "57"
      ]
     },
     "execution_count": 84,
     "metadata": {},
     "output_type": "execute_result"
    }
   ],
   "source": [
    "active_users_df_10PlusRatings_partial_pivot.index[indices.flatten()[0]]"
   ]
  },
  {
   "cell_type": "code",
   "execution_count": 85,
   "id": "a4fd80ac",
   "metadata": {
    "scrolled": true
   },
   "outputs": [
    {
     "data": {
      "text/plain": [
       "Int64Index([57, 245, 1210, 205, 889, 1698, 227, 121, 240, 1519, 1535, 226, 877,\n",
       "            3692, 1575],\n",
       "           dtype='int64', name='anime_id')"
      ]
     },
     "execution_count": 85,
     "metadata": {},
     "output_type": "execute_result"
    }
   ],
   "source": [
    "active_users_df_10PlusRatings_partial_pivot.index[indices.flatten()]"
   ]
  },
  {
   "cell_type": "code",
   "execution_count": 86,
   "id": "76d48753",
   "metadata": {},
   "outputs": [
    {
     "data": {
      "text/plain": [
       "array([  38,  213, 1067,  180,  776, 1466,  195,  100,  208, 1312, 1326,\n",
       "        194,  764, 2763, 1362])"
      ]
     },
     "execution_count": 86,
     "metadata": {},
     "output_type": "execute_result"
    }
   ],
   "source": [
    "indices.flatten()"
   ]
  },
  {
   "cell_type": "code",
   "execution_count": 87,
   "id": "8a5eb7fb",
   "metadata": {},
   "outputs": [
    {
     "data": {
      "text/plain": [
       "[['Naruto', 0],\n",
       " ['Naruto: Shippuuden', 0.15516967217154087],\n",
       " ['Death Note', 0.2848835714687815],\n",
       " ['Bleach', 0.3062895355389962],\n",
       " ['Shingeki no Kyojin', 0.3096722585912889],\n",
       " ['Fullmetal Alchemist: Brotherhood', 0.338931604784668],\n",
       " ['Sword Art Online', 0.34410873051357505],\n",
       " ['Code Geass: Hangyaku no Lelouch', 0.3462897298922615],\n",
       " ['Fairy Tail', 0.3694736560717937],\n",
       " ['One Punch Man', 0.37036467228899506],\n",
       " ['Code Geass: Hangyaku no Lelouch R2', 0.37518298931842653]]"
      ]
     },
     "execution_count": 87,
     "metadata": {},
     "output_type": "execute_result"
    }
   ],
   "source": [
    "recomendation_100PlusRatings('Naruto')"
   ]
  },
  {
   "cell_type": "code",
   "execution_count": 88,
   "id": "3ccd2326",
   "metadata": {
    "scrolled": true
   },
   "outputs": [
    {
     "data": {
      "text/plain": [
       "[['Naruto', 0],\n",
       " ['Naruto: Shippuuden', 0.18049078542744756],\n",
       " ['Death Note', 0.3272437518799032],\n",
       " ['Bleach', 0.35922338431707357],\n",
       " ['Shingeki no Kyojin', 0.3764965221555533],\n",
       " ['Fullmetal Alchemist: Brotherhood', 0.4092187913883145],\n",
       " ['Code Geass: Hangyaku no Lelouch', 0.41415931597920275],\n",
       " ['Sword Art Online', 0.4145034622526955],\n",
       " ['One Piece', 0.43246932997058873],\n",
       " ['Fairy Tail', 0.43374727465720253],\n",
       " ['One Punch Man', 0.4406721372998613]]"
      ]
     },
     "execution_count": 88,
     "metadata": {},
     "output_type": "execute_result"
    }
   ],
   "source": [
    "recomendation_10PlusRatings('Naruto')"
   ]
  },
  {
   "cell_type": "code",
   "execution_count": 89,
   "id": "cd3dbbfc",
   "metadata": {},
   "outputs": [],
   "source": [
    "def recomendation_completed_10PlusRatings(anime_name, nb_recomendation = 10):\n",
    "    index_nb = anime_complete_id_name_df_10PlusRatings.index[anime_complete_id_name_df_10PlusRatings['Name'] == anime_name].tolist()[0]\n",
    "    distances, indices = model_knn_complete_10PlusRatings.kneighbors(rating_complete_df_10PlusRatings_partial_pivot.iloc[index_nb,:].values.reshape(1, -1), n_neighbors = nb_recomendation + 1)\n",
    "\n",
    "    prediction_completed_10PlusRatings = []\n",
    "    for i in range(0, len(distances.flatten())):\n",
    "        if i == 0:\n",
    "            prediction_completed_10PlusRatings.append([rating_complete_df_10PlusRatings_partial_pivot.index[indices.flatten()[i]],0])\n",
    "        else:\n",
    "            prediction_completed_10PlusRatings.append([rating_complete_df_10PlusRatings_partial_pivot.index[indices.flatten()[i]],distances.flatten()[i]])\n",
    "    results = []\n",
    "    for i in range(len(prediction_completed_10PlusRatings)):\n",
    "        anime_name = anime_complete_id_name_df_10PlusRatings.query(f'anime_id == {prediction_completed_10PlusRatings[i][0]}').iloc[0].Name\n",
    "        distance = prediction_completed_10PlusRatings[i][1]\n",
    "        results.append([anime_name,distance])\n",
    "    return results"
   ]
  },
  {
   "cell_type": "code",
   "execution_count": 90,
   "id": "b9500250",
   "metadata": {},
   "outputs": [],
   "source": [
    "def recomendation_completed_100PlusRatings(anime_name, nb_recomendation = 10):\n",
    "    index_nb = anime_complete_id_name_df_100PlusRatings.index[anime_complete_id_name_df_100PlusRatings['Name'] == anime_name].tolist()[0]\n",
    "    distances, indices = model_knn_complete_100PlusRatings.kneighbors(rating_complete_df_100PlusRatings_partial_pivot.iloc[index_nb,:].values.reshape(1, -1), n_neighbors = nb_recomendation + 1)\n",
    "\n",
    "    prediction_completed_100PlusRatings = []\n",
    "    for i in range(0, len(distances.flatten())):\n",
    "        if i == 0:\n",
    "            prediction_completed_100PlusRatings.append([rating_complete_df_100PlusRatings_partial_pivot.index[indices.flatten()[i]],0])\n",
    "        else:\n",
    "            prediction_completed_100PlusRatings.append([rating_complete_df_100PlusRatings_partial_pivot.index[indices.flatten()[i]],distances.flatten()[i]])\n",
    "    results = []\n",
    "    for i in range(len(prediction_completed_100PlusRatings)):\n",
    "        anime_name = anime_complete_id_name_df_100PlusRatings.query(f'anime_id == {prediction_completed_100PlusRatings[i][0]}').iloc[0].Name\n",
    "        distance = prediction_completed_100PlusRatings[i][1]\n",
    "        results.append([anime_name,distance])\n",
    "    return results"
   ]
  },
  {
   "cell_type": "code",
   "execution_count": 91,
   "id": "c7a9029b",
   "metadata": {},
   "outputs": [
    {
     "data": {
      "text/plain": [
       "[['Naruto', 0],\n",
       " ['Death Note', 0.35472062005651295],\n",
       " ['Naruto: Shippuuden', 0.374840981788098],\n",
       " ['Shingeki no Kyojin', 0.39225444664686926],\n",
       " ['Code Geass: Hangyaku no Lelouch', 0.4245073395092307],\n",
       " ['Sword Art Online', 0.42571517625874833],\n",
       " ['Fullmetal Alchemist: Brotherhood', 0.429908125618944],\n",
       " ['Code Geass: Hangyaku no Lelouch R2', 0.4446439257187369],\n",
       " ['One Punch Man', 0.44527795583016117],\n",
       " ['Tokyo Ghoul', 0.45396393152651604],\n",
       " ['Boku no Hero Academia', 0.45976520632968576]]"
      ]
     },
     "execution_count": 91,
     "metadata": {},
     "output_type": "execute_result"
    }
   ],
   "source": [
    "recomendation_completed_10PlusRatings('Naruto')"
   ]
  },
  {
   "cell_type": "code",
   "execution_count": 92,
   "id": "453945e4",
   "metadata": {
    "scrolled": true
   },
   "outputs": [
    {
     "data": {
      "text/plain": [
       "[['Naruto', 0],\n",
       " ['Death Note', 0.306060586793648],\n",
       " ['Shingeki no Kyojin', 0.3315084065869063],\n",
       " ['Naruto: Shippuuden', 0.3328110974311389],\n",
       " ['Sword Art Online', 0.3539271472929737],\n",
       " ['Code Geass: Hangyaku no Lelouch', 0.36683227014122066],\n",
       " ['Fullmetal Alchemist: Brotherhood', 0.36958760764705056],\n",
       " ['One Punch Man', 0.3829826998065575],\n",
       " ['Tokyo Ghoul', 0.3881276129545702],\n",
       " ['Code Geass: Hangyaku no Lelouch R2', 0.3896777611876121],\n",
       " ['Boku no Hero Academia', 0.392858166464225]]"
      ]
     },
     "execution_count": 92,
     "metadata": {},
     "output_type": "execute_result"
    }
   ],
   "source": [
    "recomendation_completed_100PlusRatings('Naruto')"
   ]
  },
  {
   "cell_type": "code",
   "execution_count": null,
   "id": "d0d31ad3",
   "metadata": {},
   "outputs": [],
   "source": []
  },
  {
   "cell_type": "code",
   "execution_count": 121,
   "id": "45d889dd",
   "metadata": {},
   "outputs": [],
   "source": [
    "def recomendation_10PlusRatings_pca(anime_name, nb_recomendation = 10):\n",
    "    index_nb = anime_id_name_df_10PlusRatings.index[anime_id_name_df_10PlusRatings['Name'] == anime_name].tolist()[0]\n",
    "    distances, indices = model_knn_pca_10PlusRatings.kneighbors(ps.iloc[index_nb,:].values.reshape(1, -1), n_neighbors = nb_recomendation + 1)\n",
    "\n",
    "    prediction_10PlusRatings = []\n",
    "    for i in range(0, len(distances.flatten())):\n",
    "        if i == 0:\n",
    "            prediction_10PlusRatings.append([ps.index[indices.flatten()[i]],0])\n",
    "        else:\n",
    "            prediction_10PlusRatings.append([ps.index[indices.flatten()[i]],distances.flatten()[i]])\n",
    "    results = []\n",
    "    for i in range(len(prediction_10PlusRatings)):\n",
    "        anime_name = anime_id_name_df_10PlusRatings.query(f'anime_id == {prediction_10PlusRatings[i][0]}').iloc[0].Name\n",
    "        distance = prediction_10PlusRatings[i][1]\n",
    "        results.append([anime_name,distance])\n",
    "    return results"
   ]
  },
  {
   "cell_type": "code",
   "execution_count": 122,
   "id": "8cf7b8a9",
   "metadata": {},
   "outputs": [
    {
     "ename": "IndexError",
     "evalue": "single positional indexer is out-of-bounds",
     "output_type": "error",
     "traceback": [
      "\u001b[0;31m---------------------------------------------------------------------------\u001b[0m",
      "\u001b[0;31mIndexError\u001b[0m                                Traceback (most recent call last)",
      "\u001b[0;32m/tmp/ipykernel_1781/1383483452.py\u001b[0m in \u001b[0;36m<module>\u001b[0;34m\u001b[0m\n\u001b[0;32m----> 1\u001b[0;31m \u001b[0mrecomendation_10PlusRatings_pca\u001b[0m\u001b[0;34m(\u001b[0m\u001b[0;34m'Naruto'\u001b[0m\u001b[0;34m)\u001b[0m\u001b[0;34m\u001b[0m\u001b[0;34m\u001b[0m\u001b[0m\n\u001b[0m",
      "\u001b[0;32m/tmp/ipykernel_1781/2040906271.py\u001b[0m in \u001b[0;36mrecomendation_10PlusRatings_pca\u001b[0;34m(anime_name, nb_recomendation)\u001b[0m\n\u001b[1;32m     11\u001b[0m     \u001b[0mresults\u001b[0m \u001b[0;34m=\u001b[0m \u001b[0;34m[\u001b[0m\u001b[0;34m]\u001b[0m\u001b[0;34m\u001b[0m\u001b[0;34m\u001b[0m\u001b[0m\n\u001b[1;32m     12\u001b[0m     \u001b[0;32mfor\u001b[0m \u001b[0mi\u001b[0m \u001b[0;32min\u001b[0m \u001b[0mrange\u001b[0m\u001b[0;34m(\u001b[0m\u001b[0mlen\u001b[0m\u001b[0;34m(\u001b[0m\u001b[0mprediction_10PlusRatings\u001b[0m\u001b[0;34m)\u001b[0m\u001b[0;34m)\u001b[0m\u001b[0;34m:\u001b[0m\u001b[0;34m\u001b[0m\u001b[0;34m\u001b[0m\u001b[0m\n\u001b[0;32m---> 13\u001b[0;31m         \u001b[0manime_name\u001b[0m \u001b[0;34m=\u001b[0m \u001b[0manime_id_name_df_10PlusRatings\u001b[0m\u001b[0;34m.\u001b[0m\u001b[0mquery\u001b[0m\u001b[0;34m(\u001b[0m\u001b[0;34mf'anime_id == {prediction_10PlusRatings[i][0]}'\u001b[0m\u001b[0;34m)\u001b[0m\u001b[0;34m.\u001b[0m\u001b[0miloc\u001b[0m\u001b[0;34m[\u001b[0m\u001b[0;36m0\u001b[0m\u001b[0;34m]\u001b[0m\u001b[0;34m.\u001b[0m\u001b[0mName\u001b[0m\u001b[0;34m\u001b[0m\u001b[0;34m\u001b[0m\u001b[0m\n\u001b[0m\u001b[1;32m     14\u001b[0m         \u001b[0mdistance\u001b[0m \u001b[0;34m=\u001b[0m \u001b[0mprediction_10PlusRatings\u001b[0m\u001b[0;34m[\u001b[0m\u001b[0mi\u001b[0m\u001b[0;34m]\u001b[0m\u001b[0;34m[\u001b[0m\u001b[0;36m1\u001b[0m\u001b[0;34m]\u001b[0m\u001b[0;34m\u001b[0m\u001b[0;34m\u001b[0m\u001b[0m\n\u001b[1;32m     15\u001b[0m         \u001b[0mresults\u001b[0m\u001b[0;34m.\u001b[0m\u001b[0mappend\u001b[0m\u001b[0;34m(\u001b[0m\u001b[0;34m[\u001b[0m\u001b[0manime_name\u001b[0m\u001b[0;34m,\u001b[0m\u001b[0mdistance\u001b[0m\u001b[0;34m]\u001b[0m\u001b[0;34m)\u001b[0m\u001b[0;34m\u001b[0m\u001b[0;34m\u001b[0m\u001b[0m\n",
      "\u001b[0;32m~/.pyenv/versions/3.8.6/envs/anime_map/lib/python3.8/site-packages/pandas/core/indexing.py\u001b[0m in \u001b[0;36m__getitem__\u001b[0;34m(self, key)\u001b[0m\n\u001b[1;32m    929\u001b[0m \u001b[0;34m\u001b[0m\u001b[0m\n\u001b[1;32m    930\u001b[0m             \u001b[0mmaybe_callable\u001b[0m \u001b[0;34m=\u001b[0m \u001b[0mcom\u001b[0m\u001b[0;34m.\u001b[0m\u001b[0mapply_if_callable\u001b[0m\u001b[0;34m(\u001b[0m\u001b[0mkey\u001b[0m\u001b[0;34m,\u001b[0m \u001b[0mself\u001b[0m\u001b[0;34m.\u001b[0m\u001b[0mobj\u001b[0m\u001b[0;34m)\u001b[0m\u001b[0;34m\u001b[0m\u001b[0;34m\u001b[0m\u001b[0m\n\u001b[0;32m--> 931\u001b[0;31m             \u001b[0;32mreturn\u001b[0m \u001b[0mself\u001b[0m\u001b[0;34m.\u001b[0m\u001b[0m_getitem_axis\u001b[0m\u001b[0;34m(\u001b[0m\u001b[0mmaybe_callable\u001b[0m\u001b[0;34m,\u001b[0m \u001b[0maxis\u001b[0m\u001b[0;34m=\u001b[0m\u001b[0maxis\u001b[0m\u001b[0;34m)\u001b[0m\u001b[0;34m\u001b[0m\u001b[0;34m\u001b[0m\u001b[0m\n\u001b[0m\u001b[1;32m    932\u001b[0m \u001b[0;34m\u001b[0m\u001b[0m\n\u001b[1;32m    933\u001b[0m     \u001b[0;32mdef\u001b[0m \u001b[0m_is_scalar_access\u001b[0m\u001b[0;34m(\u001b[0m\u001b[0mself\u001b[0m\u001b[0;34m,\u001b[0m \u001b[0mkey\u001b[0m\u001b[0;34m:\u001b[0m \u001b[0mtuple\u001b[0m\u001b[0;34m)\u001b[0m\u001b[0;34m:\u001b[0m\u001b[0;34m\u001b[0m\u001b[0;34m\u001b[0m\u001b[0m\n",
      "\u001b[0;32m~/.pyenv/versions/3.8.6/envs/anime_map/lib/python3.8/site-packages/pandas/core/indexing.py\u001b[0m in \u001b[0;36m_getitem_axis\u001b[0;34m(self, key, axis)\u001b[0m\n\u001b[1;32m   1564\u001b[0m \u001b[0;34m\u001b[0m\u001b[0m\n\u001b[1;32m   1565\u001b[0m             \u001b[0;31m# validate the location\u001b[0m\u001b[0;34m\u001b[0m\u001b[0;34m\u001b[0m\u001b[0;34m\u001b[0m\u001b[0m\n\u001b[0;32m-> 1566\u001b[0;31m             \u001b[0mself\u001b[0m\u001b[0;34m.\u001b[0m\u001b[0m_validate_integer\u001b[0m\u001b[0;34m(\u001b[0m\u001b[0mkey\u001b[0m\u001b[0;34m,\u001b[0m \u001b[0maxis\u001b[0m\u001b[0;34m)\u001b[0m\u001b[0;34m\u001b[0m\u001b[0;34m\u001b[0m\u001b[0m\n\u001b[0m\u001b[1;32m   1567\u001b[0m \u001b[0;34m\u001b[0m\u001b[0m\n\u001b[1;32m   1568\u001b[0m             \u001b[0;32mreturn\u001b[0m \u001b[0mself\u001b[0m\u001b[0;34m.\u001b[0m\u001b[0mobj\u001b[0m\u001b[0;34m.\u001b[0m\u001b[0m_ixs\u001b[0m\u001b[0;34m(\u001b[0m\u001b[0mkey\u001b[0m\u001b[0;34m,\u001b[0m \u001b[0maxis\u001b[0m\u001b[0;34m=\u001b[0m\u001b[0maxis\u001b[0m\u001b[0;34m)\u001b[0m\u001b[0;34m\u001b[0m\u001b[0;34m\u001b[0m\u001b[0m\n",
      "\u001b[0;32m~/.pyenv/versions/3.8.6/envs/anime_map/lib/python3.8/site-packages/pandas/core/indexing.py\u001b[0m in \u001b[0;36m_validate_integer\u001b[0;34m(self, key, axis)\u001b[0m\n\u001b[1;32m   1498\u001b[0m         \u001b[0mlen_axis\u001b[0m \u001b[0;34m=\u001b[0m \u001b[0mlen\u001b[0m\u001b[0;34m(\u001b[0m\u001b[0mself\u001b[0m\u001b[0;34m.\u001b[0m\u001b[0mobj\u001b[0m\u001b[0;34m.\u001b[0m\u001b[0m_get_axis\u001b[0m\u001b[0;34m(\u001b[0m\u001b[0maxis\u001b[0m\u001b[0;34m)\u001b[0m\u001b[0;34m)\u001b[0m\u001b[0;34m\u001b[0m\u001b[0;34m\u001b[0m\u001b[0m\n\u001b[1;32m   1499\u001b[0m         \u001b[0;32mif\u001b[0m \u001b[0mkey\u001b[0m \u001b[0;34m>=\u001b[0m \u001b[0mlen_axis\u001b[0m \u001b[0;32mor\u001b[0m \u001b[0mkey\u001b[0m \u001b[0;34m<\u001b[0m \u001b[0;34m-\u001b[0m\u001b[0mlen_axis\u001b[0m\u001b[0;34m:\u001b[0m\u001b[0;34m\u001b[0m\u001b[0;34m\u001b[0m\u001b[0m\n\u001b[0;32m-> 1500\u001b[0;31m             \u001b[0;32mraise\u001b[0m \u001b[0mIndexError\u001b[0m\u001b[0;34m(\u001b[0m\u001b[0;34m\"single positional indexer is out-of-bounds\"\u001b[0m\u001b[0;34m)\u001b[0m\u001b[0;34m\u001b[0m\u001b[0;34m\u001b[0m\u001b[0m\n\u001b[0m\u001b[1;32m   1501\u001b[0m \u001b[0;34m\u001b[0m\u001b[0m\n\u001b[1;32m   1502\u001b[0m     \u001b[0;31m# -------------------------------------------------------------------\u001b[0m\u001b[0;34m\u001b[0m\u001b[0;34m\u001b[0m\u001b[0;34m\u001b[0m\u001b[0m\n",
      "\u001b[0;31mIndexError\u001b[0m: single positional indexer is out-of-bounds"
     ]
    }
   ],
   "source": [
    "recomendation_10PlusRatings_pca('Naruto')"
   ]
  },
  {
   "cell_type": "markdown",
   "id": "187540a7",
   "metadata": {
    "heading_collapsed": true
   },
   "source": [
    "### fonction for comparison all model"
   ]
  },
  {
   "cell_type": "code",
   "execution_count": 93,
   "id": "7f7009ed",
   "metadata": {
    "hidden": true,
    "scrolled": true
   },
   "outputs": [
    {
     "data": {
      "text/plain": [
       "array(['Naruto', 'Naruto: Shippuuden', 'Death Note', 'Bleach',\n",
       "       'Shingeki no Kyojin', 'Fullmetal Alchemist: Brotherhood',\n",
       "       'Sword Art Online', 'Code Geass: Hangyaku no Lelouch',\n",
       "       'Fairy Tail', 'One Punch Man',\n",
       "       'Code Geass: Hangyaku no Lelouch R2'], dtype='<U34')"
      ]
     },
     "execution_count": 93,
     "metadata": {},
     "output_type": "execute_result"
    }
   ],
   "source": [
    "np.array(recomendation_100PlusRatings('Naruto'))[:,0]"
   ]
  },
  {
   "cell_type": "code",
   "execution_count": 94,
   "id": "78283e7f",
   "metadata": {
    "hidden": true
   },
   "outputs": [],
   "source": [
    "Naruto_10PlusRatings = np.array(recomendation_10PlusRatings('Naruto'))[:,0]\n",
    "Naruto_100PlusRatings = np.array(recomendation_100PlusRatings('Naruto'))[:,0]\n",
    "Naruto_completed_10PlusRatings = np.array(recomendation_completed_10PlusRatings('Naruto'))[:,0]\n",
    "Naruto_completed_100PlusRatings = np.array(recomendation_completed_100PlusRatings('Naruto'))[:,0]"
   ]
  },
  {
   "cell_type": "code",
   "execution_count": 95,
   "id": "ff151cff",
   "metadata": {
    "hidden": true,
    "scrolled": true
   },
   "outputs": [
    {
     "data": {
      "text/plain": [
       "['Naruto',\n",
       " 'Naruto: Shippuuden',\n",
       " 'Death Note',\n",
       " 'Bleach',\n",
       " 'Shingeki no Kyojin',\n",
       " 'Fullmetal Alchemist: Brotherhood',\n",
       " 'Code Geass: Hangyaku no Lelouch',\n",
       " 'Sword Art Online',\n",
       " 'One Piece',\n",
       " 'Fairy Tail',\n",
       " 'One Punch Man']"
      ]
     },
     "execution_count": 95,
     "metadata": {},
     "output_type": "execute_result"
    }
   ],
   "source": [
    "list(Naruto_10PlusRatings)"
   ]
  },
  {
   "cell_type": "code",
   "execution_count": 96,
   "id": "06ee73d6",
   "metadata": {
    "hidden": true
   },
   "outputs": [
    {
     "data": {
      "text/html": [
       "<div>\n",
       "<style scoped>\n",
       "    .dataframe tbody tr th:only-of-type {\n",
       "        vertical-align: middle;\n",
       "    }\n",
       "\n",
       "    .dataframe tbody tr th {\n",
       "        vertical-align: top;\n",
       "    }\n",
       "\n",
       "    .dataframe thead th {\n",
       "        text-align: right;\n",
       "    }\n",
       "</style>\n",
       "<table border=\"1\" class=\"dataframe\">\n",
       "  <thead>\n",
       "    <tr style=\"text-align: right;\">\n",
       "      <th></th>\n",
       "      <th>10PlusRatings</th>\n",
       "      <th>100PlusRatings</th>\n",
       "      <th>completed_10PlusRatings</th>\n",
       "      <th>completed_100PlusRatings</th>\n",
       "    </tr>\n",
       "  </thead>\n",
       "  <tbody>\n",
       "    <tr>\n",
       "      <th>0</th>\n",
       "      <td>Naruto</td>\n",
       "      <td>Naruto</td>\n",
       "      <td>Naruto</td>\n",
       "      <td>Naruto</td>\n",
       "    </tr>\n",
       "    <tr>\n",
       "      <th>1</th>\n",
       "      <td>Naruto: Shippuuden</td>\n",
       "      <td>Naruto: Shippuuden</td>\n",
       "      <td>Death Note</td>\n",
       "      <td>Death Note</td>\n",
       "    </tr>\n",
       "    <tr>\n",
       "      <th>2</th>\n",
       "      <td>Death Note</td>\n",
       "      <td>Death Note</td>\n",
       "      <td>Naruto: Shippuuden</td>\n",
       "      <td>Shingeki no Kyojin</td>\n",
       "    </tr>\n",
       "    <tr>\n",
       "      <th>3</th>\n",
       "      <td>Bleach</td>\n",
       "      <td>Bleach</td>\n",
       "      <td>Shingeki no Kyojin</td>\n",
       "      <td>Naruto: Shippuuden</td>\n",
       "    </tr>\n",
       "    <tr>\n",
       "      <th>4</th>\n",
       "      <td>Shingeki no Kyojin</td>\n",
       "      <td>Shingeki no Kyojin</td>\n",
       "      <td>Code Geass: Hangyaku no Lelouch</td>\n",
       "      <td>Sword Art Online</td>\n",
       "    </tr>\n",
       "    <tr>\n",
       "      <th>5</th>\n",
       "      <td>Fullmetal Alchemist: Brotherhood</td>\n",
       "      <td>Fullmetal Alchemist: Brotherhood</td>\n",
       "      <td>Sword Art Online</td>\n",
       "      <td>Code Geass: Hangyaku no Lelouch</td>\n",
       "    </tr>\n",
       "    <tr>\n",
       "      <th>6</th>\n",
       "      <td>Code Geass: Hangyaku no Lelouch</td>\n",
       "      <td>Sword Art Online</td>\n",
       "      <td>Fullmetal Alchemist: Brotherhood</td>\n",
       "      <td>Fullmetal Alchemist: Brotherhood</td>\n",
       "    </tr>\n",
       "    <tr>\n",
       "      <th>7</th>\n",
       "      <td>Sword Art Online</td>\n",
       "      <td>Code Geass: Hangyaku no Lelouch</td>\n",
       "      <td>Code Geass: Hangyaku no Lelouch R2</td>\n",
       "      <td>One Punch Man</td>\n",
       "    </tr>\n",
       "    <tr>\n",
       "      <th>8</th>\n",
       "      <td>One Piece</td>\n",
       "      <td>Fairy Tail</td>\n",
       "      <td>One Punch Man</td>\n",
       "      <td>Tokyo Ghoul</td>\n",
       "    </tr>\n",
       "    <tr>\n",
       "      <th>9</th>\n",
       "      <td>Fairy Tail</td>\n",
       "      <td>One Punch Man</td>\n",
       "      <td>Tokyo Ghoul</td>\n",
       "      <td>Code Geass: Hangyaku no Lelouch R2</td>\n",
       "    </tr>\n",
       "    <tr>\n",
       "      <th>10</th>\n",
       "      <td>One Punch Man</td>\n",
       "      <td>Code Geass: Hangyaku no Lelouch R2</td>\n",
       "      <td>Boku no Hero Academia</td>\n",
       "      <td>Boku no Hero Academia</td>\n",
       "    </tr>\n",
       "  </tbody>\n",
       "</table>\n",
       "</div>"
      ],
      "text/plain": [
       "                       10PlusRatings                      100PlusRatings  \\\n",
       "0                             Naruto                              Naruto   \n",
       "1                 Naruto: Shippuuden                  Naruto: Shippuuden   \n",
       "2                         Death Note                          Death Note   \n",
       "3                             Bleach                              Bleach   \n",
       "4                 Shingeki no Kyojin                  Shingeki no Kyojin   \n",
       "5   Fullmetal Alchemist: Brotherhood    Fullmetal Alchemist: Brotherhood   \n",
       "6    Code Geass: Hangyaku no Lelouch                    Sword Art Online   \n",
       "7                   Sword Art Online     Code Geass: Hangyaku no Lelouch   \n",
       "8                          One Piece                          Fairy Tail   \n",
       "9                         Fairy Tail                       One Punch Man   \n",
       "10                     One Punch Man  Code Geass: Hangyaku no Lelouch R2   \n",
       "\n",
       "               completed_10PlusRatings            completed_100PlusRatings  \n",
       "0                               Naruto                              Naruto  \n",
       "1                           Death Note                          Death Note  \n",
       "2                   Naruto: Shippuuden                  Shingeki no Kyojin  \n",
       "3                   Shingeki no Kyojin                  Naruto: Shippuuden  \n",
       "4      Code Geass: Hangyaku no Lelouch                    Sword Art Online  \n",
       "5                     Sword Art Online     Code Geass: Hangyaku no Lelouch  \n",
       "6     Fullmetal Alchemist: Brotherhood    Fullmetal Alchemist: Brotherhood  \n",
       "7   Code Geass: Hangyaku no Lelouch R2                       One Punch Man  \n",
       "8                        One Punch Man                         Tokyo Ghoul  \n",
       "9                          Tokyo Ghoul  Code Geass: Hangyaku no Lelouch R2  \n",
       "10               Boku no Hero Academia               Boku no Hero Academia  "
      ]
     },
     "execution_count": 96,
     "metadata": {},
     "output_type": "execute_result"
    }
   ],
   "source": [
    "pd.DataFrame(list(zip(list(Naruto_10PlusRatings), list(Naruto_100PlusRatings),list(Naruto_completed_10PlusRatings),list(Naruto_completed_100PlusRatings))), columns =['10PlusRatings', '100PlusRatings','completed_10PlusRatings', 'completed_100PlusRatings'])"
   ]
  },
  {
   "cell_type": "code",
   "execution_count": 97,
   "id": "084021b1",
   "metadata": {
    "hidden": true
   },
   "outputs": [],
   "source": [
    "def compare(anime_name, nb_recomendation = 10):\n",
    "    _10PlusRatings = np.array(recomendation_10PlusRatings(anime_name, nb_recomendation ))[:,0]\n",
    "    _100PlusRatings = np.array(recomendation_100PlusRatings(anime_name, nb_recomendation ))[:,0]\n",
    "    completed_10Plus = np.array(recomendation_completed_10PlusRatings(anime_name, nb_recomendation ))[:,0]\n",
    "    completed_100Plus = np.array(recomendation_completed_100PlusRatings(anime_name, nb_recomendation ))[:,0]\n",
    "    return pd.DataFrame(list(zip(list(_10PlusRatings), list(_100PlusRatings),list(completed_10Plus),list(completed_100Plus))), columns =['10PlusRatings', '100PlusRatings','completed_10Plus', 'completed_100Plus'])"
   ]
  },
  {
   "cell_type": "code",
   "execution_count": 98,
   "id": "bf222539",
   "metadata": {
    "hidden": true,
    "scrolled": true
   },
   "outputs": [
    {
     "data": {
      "text/html": [
       "<div>\n",
       "<style scoped>\n",
       "    .dataframe tbody tr th:only-of-type {\n",
       "        vertical-align: middle;\n",
       "    }\n",
       "\n",
       "    .dataframe tbody tr th {\n",
       "        vertical-align: top;\n",
       "    }\n",
       "\n",
       "    .dataframe thead th {\n",
       "        text-align: right;\n",
       "    }\n",
       "</style>\n",
       "<table border=\"1\" class=\"dataframe\">\n",
       "  <thead>\n",
       "    <tr style=\"text-align: right;\">\n",
       "      <th></th>\n",
       "      <th>10PlusRatings</th>\n",
       "      <th>100PlusRatings</th>\n",
       "      <th>completed_10Plus</th>\n",
       "      <th>completed_100Plus</th>\n",
       "    </tr>\n",
       "  </thead>\n",
       "  <tbody>\n",
       "    <tr>\n",
       "      <th>0</th>\n",
       "      <td>Naruto</td>\n",
       "      <td>Naruto</td>\n",
       "      <td>Naruto</td>\n",
       "      <td>Naruto</td>\n",
       "    </tr>\n",
       "    <tr>\n",
       "      <th>1</th>\n",
       "      <td>Naruto: Shippuuden</td>\n",
       "      <td>Naruto: Shippuuden</td>\n",
       "      <td>Death Note</td>\n",
       "      <td>Death Note</td>\n",
       "    </tr>\n",
       "    <tr>\n",
       "      <th>2</th>\n",
       "      <td>Death Note</td>\n",
       "      <td>Death Note</td>\n",
       "      <td>Naruto: Shippuuden</td>\n",
       "      <td>Shingeki no Kyojin</td>\n",
       "    </tr>\n",
       "    <tr>\n",
       "      <th>3</th>\n",
       "      <td>Bleach</td>\n",
       "      <td>Bleach</td>\n",
       "      <td>Shingeki no Kyojin</td>\n",
       "      <td>Naruto: Shippuuden</td>\n",
       "    </tr>\n",
       "    <tr>\n",
       "      <th>4</th>\n",
       "      <td>Shingeki no Kyojin</td>\n",
       "      <td>Shingeki no Kyojin</td>\n",
       "      <td>Code Geass: Hangyaku no Lelouch</td>\n",
       "      <td>Sword Art Online</td>\n",
       "    </tr>\n",
       "    <tr>\n",
       "      <th>5</th>\n",
       "      <td>Fullmetal Alchemist: Brotherhood</td>\n",
       "      <td>Fullmetal Alchemist: Brotherhood</td>\n",
       "      <td>Sword Art Online</td>\n",
       "      <td>Code Geass: Hangyaku no Lelouch</td>\n",
       "    </tr>\n",
       "    <tr>\n",
       "      <th>6</th>\n",
       "      <td>Code Geass: Hangyaku no Lelouch</td>\n",
       "      <td>Sword Art Online</td>\n",
       "      <td>Fullmetal Alchemist: Brotherhood</td>\n",
       "      <td>Fullmetal Alchemist: Brotherhood</td>\n",
       "    </tr>\n",
       "    <tr>\n",
       "      <th>7</th>\n",
       "      <td>Sword Art Online</td>\n",
       "      <td>Code Geass: Hangyaku no Lelouch</td>\n",
       "      <td>Code Geass: Hangyaku no Lelouch R2</td>\n",
       "      <td>One Punch Man</td>\n",
       "    </tr>\n",
       "    <tr>\n",
       "      <th>8</th>\n",
       "      <td>One Piece</td>\n",
       "      <td>Fairy Tail</td>\n",
       "      <td>One Punch Man</td>\n",
       "      <td>Tokyo Ghoul</td>\n",
       "    </tr>\n",
       "    <tr>\n",
       "      <th>9</th>\n",
       "      <td>Fairy Tail</td>\n",
       "      <td>One Punch Man</td>\n",
       "      <td>Tokyo Ghoul</td>\n",
       "      <td>Code Geass: Hangyaku no Lelouch R2</td>\n",
       "    </tr>\n",
       "    <tr>\n",
       "      <th>10</th>\n",
       "      <td>One Punch Man</td>\n",
       "      <td>Code Geass: Hangyaku no Lelouch R2</td>\n",
       "      <td>Boku no Hero Academia</td>\n",
       "      <td>Boku no Hero Academia</td>\n",
       "    </tr>\n",
       "  </tbody>\n",
       "</table>\n",
       "</div>"
      ],
      "text/plain": [
       "                       10PlusRatings                      100PlusRatings  \\\n",
       "0                             Naruto                              Naruto   \n",
       "1                 Naruto: Shippuuden                  Naruto: Shippuuden   \n",
       "2                         Death Note                          Death Note   \n",
       "3                             Bleach                              Bleach   \n",
       "4                 Shingeki no Kyojin                  Shingeki no Kyojin   \n",
       "5   Fullmetal Alchemist: Brotherhood    Fullmetal Alchemist: Brotherhood   \n",
       "6    Code Geass: Hangyaku no Lelouch                    Sword Art Online   \n",
       "7                   Sword Art Online     Code Geass: Hangyaku no Lelouch   \n",
       "8                          One Piece                          Fairy Tail   \n",
       "9                         Fairy Tail                       One Punch Man   \n",
       "10                     One Punch Man  Code Geass: Hangyaku no Lelouch R2   \n",
       "\n",
       "                      completed_10Plus                   completed_100Plus  \n",
       "0                               Naruto                              Naruto  \n",
       "1                           Death Note                          Death Note  \n",
       "2                   Naruto: Shippuuden                  Shingeki no Kyojin  \n",
       "3                   Shingeki no Kyojin                  Naruto: Shippuuden  \n",
       "4      Code Geass: Hangyaku no Lelouch                    Sword Art Online  \n",
       "5                     Sword Art Online     Code Geass: Hangyaku no Lelouch  \n",
       "6     Fullmetal Alchemist: Brotherhood    Fullmetal Alchemist: Brotherhood  \n",
       "7   Code Geass: Hangyaku no Lelouch R2                       One Punch Man  \n",
       "8                        One Punch Man                         Tokyo Ghoul  \n",
       "9                          Tokyo Ghoul  Code Geass: Hangyaku no Lelouch R2  \n",
       "10               Boku no Hero Academia               Boku no Hero Academia  "
      ]
     },
     "execution_count": 98,
     "metadata": {},
     "output_type": "execute_result"
    }
   ],
   "source": [
    "compare('Naruto')"
   ]
  },
  {
   "cell_type": "code",
   "execution_count": null,
   "id": "e9474b2e",
   "metadata": {
    "hidden": true
   },
   "outputs": [],
   "source": []
  }
 ],
 "metadata": {
  "kernelspec": {
   "display_name": "Python 3 (ipykernel)",
   "language": "python",
   "name": "python3"
  },
  "language_info": {
   "codemirror_mode": {
    "name": "ipython",
    "version": 3
   },
   "file_extension": ".py",
   "mimetype": "text/x-python",
   "name": "python",
   "nbconvert_exporter": "python",
   "pygments_lexer": "ipython3",
   "version": "3.8.6"
  },
  "toc": {
   "base_numbering": 1,
   "nav_menu": {},
   "number_sections": true,
   "sideBar": true,
   "skip_h1_title": false,
   "title_cell": "Table of Contents",
   "title_sidebar": "Contents",
   "toc_cell": false,
   "toc_position": {},
   "toc_section_display": true,
   "toc_window_display": false
  }
 },
 "nbformat": 4,
 "nbformat_minor": 5
}
