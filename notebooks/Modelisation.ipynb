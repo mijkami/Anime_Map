{
 "cells": [
  {
   "cell_type": "code",
   "execution_count": 1,
   "id": "385b81da",
   "metadata": {},
   "outputs": [],
   "source": [
    "import pandas as pd\n",
    "import numpy as np\n",
    "import matplotlib.pyplot as plt\n",
    "import seaborn as sns\n",
    "from mpl_toolkits.mplot3d import Axes3D\n",
    "from scipy.sparse import csr_matrix\n",
    "from sklearn.neighbors import NearestNeighbors\n",
    "from sklearn.decomposition import PCA, TruncatedSVD"
   ]
  },
  {
   "cell_type": "markdown",
   "id": "83f82ba6",
   "metadata": {},
   "source": [
    "# Start to test some model"
   ]
  },
  {
   "cell_type": "markdown",
   "id": "9fbf001c",
   "metadata": {
    "heading_collapsed": true
   },
   "source": [
    "## import of differrent sample of data set"
   ]
  },
  {
   "cell_type": "code",
   "execution_count": 2,
   "id": "201586c3",
   "metadata": {
    "hidden": true
   },
   "outputs": [],
   "source": [
    "active_users_df_10PlusRatings_partial = pd.read_csv('../data/Processed_data/active_users_df_10PlusRatings_partial.csv')"
   ]
  },
  {
   "cell_type": "code",
   "execution_count": 3,
   "id": "7b73a600",
   "metadata": {
    "hidden": true
   },
   "outputs": [],
   "source": [
    "active_users_df_100PlusRatings_partial = pd.read_csv('../data/Processed_data/active_users_df_100PlusRatings_partial.csv')"
   ]
  },
  {
   "cell_type": "code",
   "execution_count": 4,
   "id": "dfa909b2",
   "metadata": {
    "hidden": true
   },
   "outputs": [],
   "source": [
    "rating_complete_df_10PlusRatings_partial = pd.read_csv('../data/Processed_data/rating_complete_df_10PlusRatings_partial.csv')"
   ]
  },
  {
   "cell_type": "code",
   "execution_count": 5,
   "id": "ebfa1abf",
   "metadata": {
    "hidden": true
   },
   "outputs": [],
   "source": [
    "rating_complete_df_100PlusRatings_partial = pd.read_csv('../data/Processed_data/rating_complete_df_100PlusRatings_partial.csv')"
   ]
  },
  {
   "cell_type": "code",
   "execution_count": 6,
   "id": "47f2ee1e",
   "metadata": {
    "hidden": true
   },
   "outputs": [],
   "source": [
    "anime_df_relevant_PG = pd.read_csv('../data/Processed_data/anime_df_relevant_PG.csv')"
   ]
  },
  {
   "cell_type": "markdown",
   "id": "2bd84d14",
   "metadata": {
    "heading_collapsed": true
   },
   "source": [
    "## data set normalisation"
   ]
  },
  {
   "cell_type": "code",
   "execution_count": 7,
   "id": "d78bafd7",
   "metadata": {
    "hidden": true
   },
   "outputs": [],
   "source": [
    "active_users_df_10PlusRatings_partial['rating'] = active_users_df_10PlusRatings_partial['rating']/10"
   ]
  },
  {
   "cell_type": "code",
   "execution_count": 8,
   "id": "bdd93343",
   "metadata": {
    "hidden": true
   },
   "outputs": [],
   "source": [
    "active_users_df_100PlusRatings_partial['rating'] = active_users_df_100PlusRatings_partial['rating']/10"
   ]
  },
  {
   "cell_type": "code",
   "execution_count": 9,
   "id": "ba5f8dd1",
   "metadata": {
    "hidden": true
   },
   "outputs": [],
   "source": [
    "rating_complete_df_10PlusRatings_partial['rating'] = rating_complete_df_10PlusRatings_partial['rating']/10"
   ]
  },
  {
   "cell_type": "code",
   "execution_count": 10,
   "id": "fe4cb292",
   "metadata": {
    "hidden": true
   },
   "outputs": [],
   "source": [
    "rating_complete_df_100PlusRatings_partial['rating'] = rating_complete_df_100PlusRatings_partial['rating']/10"
   ]
  },
  {
   "cell_type": "markdown",
   "id": "4411cc9e",
   "metadata": {},
   "source": [
    "## data set merge"
   ]
  },
  {
   "cell_type": "code",
   "execution_count": 11,
   "id": "5b414f0d",
   "metadata": {},
   "outputs": [],
   "source": [
    "anime_name_df = anime_df_relevant_PG[['MAL_ID','Name']].rename(columns={'MAL_ID' : 'anime_id'})"
   ]
  },
  {
   "cell_type": "code",
   "execution_count": 12,
   "id": "6d05e5b7",
   "metadata": {},
   "outputs": [],
   "source": [
    "active_users_df_10PlusRatings_partial_merge = active_users_df_10PlusRatings_partial.merge(anime_name_df, on = 'anime_id', how='inner')"
   ]
  },
  {
   "cell_type": "code",
   "execution_count": 13,
   "id": "7f284ed6",
   "metadata": {},
   "outputs": [],
   "source": [
    "active_users_df_100PlusRatings_partial_merge = active_users_df_100PlusRatings_partial.merge(anime_name_df, on = 'anime_id', how='inner')"
   ]
  },
  {
   "cell_type": "code",
   "execution_count": 14,
   "id": "5963474f",
   "metadata": {},
   "outputs": [],
   "source": [
    "rating_complete_df_10PlusRatings_partial_merge = rating_complete_df_10PlusRatings_partial.merge(anime_name_df, on = 'anime_id', how='inner')"
   ]
  },
  {
   "cell_type": "code",
   "execution_count": 15,
   "id": "7332e917",
   "metadata": {},
   "outputs": [],
   "source": [
    "rating_complete_df_100PlusRatings_partial_merge = rating_complete_df_100PlusRatings_partial.merge(anime_name_df, on = 'anime_id', how='inner')"
   ]
  },
  {
   "cell_type": "markdown",
   "id": "6f080b28",
   "metadata": {},
   "source": [
    "## data set vectorization"
   ]
  },
  {
   "cell_type": "markdown",
   "id": "111165dc",
   "metadata": {},
   "source": [
    "### vectorize anime by genres"
   ]
  },
  {
   "cell_type": "code",
   "execution_count": 16,
   "id": "73b3bbcf",
   "metadata": {},
   "outputs": [],
   "source": [
    "anime_Genres_df = anime_df_relevant_PG[['MAL_ID','Genres']].rename(columns={'MAL_ID' : 'anime_id'})"
   ]
  },
  {
   "cell_type": "code",
   "execution_count": 17,
   "id": "65d64eff",
   "metadata": {
    "scrolled": false
   },
   "outputs": [
    {
     "name": "stderr",
     "output_type": "stream",
     "text": [
      "/tmp/ipykernel_2495/3467840990.py:1: FutureWarning: In a future version of pandas all arguments of DataFrame.drop except for the argument 'labels' will be keyword-only\n",
      "  anime_Genres_df_encoded = pd.concat([anime_Genres_df.drop('Genres', 1), anime_Genres_df['Genres'].str.get_dummies(sep=\", \")], 1)\n",
      "/tmp/ipykernel_2495/3467840990.py:1: FutureWarning: In a future version of pandas all arguments of concat except for the argument 'objs' will be keyword-only\n",
      "  anime_Genres_df_encoded = pd.concat([anime_Genres_df.drop('Genres', 1), anime_Genres_df['Genres'].str.get_dummies(sep=\", \")], 1)\n"
     ]
    }
   ],
   "source": [
    "anime_Genres_df_encoded = pd.concat([anime_Genres_df.drop('Genres', 1), anime_Genres_df['Genres'].str.get_dummies(sep=\", \")], 1)"
   ]
  },
  {
   "cell_type": "code",
   "execution_count": 18,
   "id": "f0bb34e0",
   "metadata": {},
   "outputs": [],
   "source": [
    "anime_Genres_df_encoded = anime_Genres_df_encoded.set_index('anime_id')"
   ]
  },
  {
   "cell_type": "code",
   "execution_count": 19,
   "id": "04e091dd",
   "metadata": {
    "scrolled": true
   },
   "outputs": [
    {
     "data": {
      "text/plain": [
       "Index(['Action', 'Adventure', 'Cars', 'Comedy', 'Dementia', 'Demons', 'Drama',\n",
       "       'Ecchi', 'Fantasy', 'Game', 'Harem', 'Historical', 'Horror', 'Josei',\n",
       "       'Kids', 'Magic', 'Martial Arts', 'Mecha', 'Military', 'Music',\n",
       "       'Mystery', 'Parody', 'Police', 'Psychological', 'Romance', 'Samurai',\n",
       "       'School', 'Sci-Fi', 'Seinen', 'Shoujo', 'Shoujo Ai', 'Shounen',\n",
       "       'Shounen Ai', 'Slice of Life', 'Space', 'Sports', 'Super Power',\n",
       "       'Supernatural', 'Thriller', 'Vampire'],\n",
       "      dtype='object')"
      ]
     },
     "execution_count": 19,
     "metadata": {},
     "output_type": "execute_result"
    }
   ],
   "source": [
    "anime_Genres_df_encoded.columns"
   ]
  },
  {
   "cell_type": "code",
   "execution_count": 20,
   "id": "b7ab15df",
   "metadata": {},
   "outputs": [
    {
     "data": {
      "text/html": [
       "<div>\n",
       "<style scoped>\n",
       "    .dataframe tbody tr th:only-of-type {\n",
       "        vertical-align: middle;\n",
       "    }\n",
       "\n",
       "    .dataframe tbody tr th {\n",
       "        vertical-align: top;\n",
       "    }\n",
       "\n",
       "    .dataframe thead th {\n",
       "        text-align: right;\n",
       "    }\n",
       "</style>\n",
       "<table border=\"1\" class=\"dataframe\">\n",
       "  <thead>\n",
       "    <tr style=\"text-align: right;\">\n",
       "      <th></th>\n",
       "      <th>anime_id</th>\n",
       "      <th>Name</th>\n",
       "    </tr>\n",
       "  </thead>\n",
       "  <tbody>\n",
       "    <tr>\n",
       "      <th>0</th>\n",
       "      <td>1</td>\n",
       "      <td>Cowboy Bebop</td>\n",
       "    </tr>\n",
       "    <tr>\n",
       "      <th>1</th>\n",
       "      <td>5</td>\n",
       "      <td>Cowboy Bebop: Tengoku no Tobira</td>\n",
       "    </tr>\n",
       "    <tr>\n",
       "      <th>2</th>\n",
       "      <td>6</td>\n",
       "      <td>Trigun</td>\n",
       "    </tr>\n",
       "    <tr>\n",
       "      <th>3</th>\n",
       "      <td>7</td>\n",
       "      <td>Witch Hunter Robin</td>\n",
       "    </tr>\n",
       "    <tr>\n",
       "      <th>4</th>\n",
       "      <td>8</td>\n",
       "      <td>Bouken Ou Beet</td>\n",
       "    </tr>\n",
       "    <tr>\n",
       "      <th>...</th>\n",
       "      <td>...</td>\n",
       "      <td>...</td>\n",
       "    </tr>\n",
       "    <tr>\n",
       "      <th>11043</th>\n",
       "      <td>47398</td>\n",
       "      <td>Kimetsu Gakuen: Valentine-hen</td>\n",
       "    </tr>\n",
       "    <tr>\n",
       "      <th>11044</th>\n",
       "      <td>47402</td>\n",
       "      <td>Heikousen</td>\n",
       "    </tr>\n",
       "    <tr>\n",
       "      <th>11045</th>\n",
       "      <td>47614</td>\n",
       "      <td>Nu Wushen de Canzhuo Spring Festival Special</td>\n",
       "    </tr>\n",
       "    <tr>\n",
       "      <th>11046</th>\n",
       "      <td>47616</td>\n",
       "      <td>Yakusoku no Neverland 2nd Season: Michishirube</td>\n",
       "    </tr>\n",
       "    <tr>\n",
       "      <th>11047</th>\n",
       "      <td>48456</td>\n",
       "      <td>SK∞: Crazy Rock Jam</td>\n",
       "    </tr>\n",
       "  </tbody>\n",
       "</table>\n",
       "<p>11048 rows × 2 columns</p>\n",
       "</div>"
      ],
      "text/plain": [
       "       anime_id                                            Name\n",
       "0             1                                    Cowboy Bebop\n",
       "1             5                 Cowboy Bebop: Tengoku no Tobira\n",
       "2             6                                          Trigun\n",
       "3             7                              Witch Hunter Robin\n",
       "4             8                                  Bouken Ou Beet\n",
       "...         ...                                             ...\n",
       "11043     47398                   Kimetsu Gakuen: Valentine-hen\n",
       "11044     47402                                       Heikousen\n",
       "11045     47614    Nu Wushen de Canzhuo Spring Festival Special\n",
       "11046     47616  Yakusoku no Neverland 2nd Season: Michishirube\n",
       "11047     48456                             SK∞: Crazy Rock Jam\n",
       "\n",
       "[11048 rows x 2 columns]"
      ]
     },
     "execution_count": 20,
     "metadata": {},
     "output_type": "execute_result"
    }
   ],
   "source": [
    "anime_name_df"
   ]
  },
  {
   "cell_type": "markdown",
   "id": "0691f175",
   "metadata": {},
   "source": [
    "### vectorize for active user and merge with  anime vectorized by genres"
   ]
  },
  {
   "cell_type": "code",
   "execution_count": 21,
   "id": "218fd1a4",
   "metadata": {},
   "outputs": [],
   "source": [
    "active_users_df_10PlusRatings_partial_pivot = active_users_df_10PlusRatings_partial_merge.pivot_table(index='anime_id',columns='user_id',values='rating').fillna(0)"
   ]
  },
  {
   "cell_type": "code",
   "execution_count": 22,
   "id": "63f3b9b2",
   "metadata": {},
   "outputs": [],
   "source": [
    "active_users_df_10PlusRatings_partial_pivot = active_users_df_10PlusRatings_partial_pivot.merge(anime_Genres_df_encoded, how='inner',left_index=True, right_index=True)"
   ]
  },
  {
   "cell_type": "code",
   "execution_count": 23,
   "id": "941c3834",
   "metadata": {},
   "outputs": [],
   "source": [
    "active_users_df_100PlusRatings_partial_pivot = active_users_df_100PlusRatings_partial_merge.pivot_table(index='anime_id',columns='user_id',values='rating').fillna(0)"
   ]
  },
  {
   "cell_type": "code",
   "execution_count": 24,
   "id": "77b3302d",
   "metadata": {},
   "outputs": [],
   "source": [
    "active_users_df_100PlusRatings_partial_pivot = active_users_df_100PlusRatings_partial_pivot.merge(anime_Genres_df_encoded, how='inner',left_index=True, right_index=True)"
   ]
  },
  {
   "cell_type": "code",
   "execution_count": 25,
   "id": "b7512699",
   "metadata": {},
   "outputs": [
    {
     "data": {
      "text/html": [
       "<div>\n",
       "<style scoped>\n",
       "    .dataframe tbody tr th:only-of-type {\n",
       "        vertical-align: middle;\n",
       "    }\n",
       "\n",
       "    .dataframe tbody tr th {\n",
       "        vertical-align: top;\n",
       "    }\n",
       "\n",
       "    .dataframe thead th {\n",
       "        text-align: right;\n",
       "    }\n",
       "</style>\n",
       "<table border=\"1\" class=\"dataframe\">\n",
       "  <thead>\n",
       "    <tr style=\"text-align: right;\">\n",
       "      <th></th>\n",
       "      <th>0</th>\n",
       "      <th>1</th>\n",
       "      <th>2</th>\n",
       "      <th>3</th>\n",
       "      <th>4</th>\n",
       "      <th>5</th>\n",
       "      <th>6</th>\n",
       "      <th>7</th>\n",
       "      <th>8</th>\n",
       "      <th>11</th>\n",
       "      <th>...</th>\n",
       "      <th>Shoujo Ai</th>\n",
       "      <th>Shounen</th>\n",
       "      <th>Shounen Ai</th>\n",
       "      <th>Slice of Life</th>\n",
       "      <th>Space</th>\n",
       "      <th>Sports</th>\n",
       "      <th>Super Power</th>\n",
       "      <th>Supernatural</th>\n",
       "      <th>Thriller</th>\n",
       "      <th>Vampire</th>\n",
       "    </tr>\n",
       "    <tr>\n",
       "      <th>anime_id</th>\n",
       "      <th></th>\n",
       "      <th></th>\n",
       "      <th></th>\n",
       "      <th></th>\n",
       "      <th></th>\n",
       "      <th></th>\n",
       "      <th></th>\n",
       "      <th></th>\n",
       "      <th></th>\n",
       "      <th></th>\n",
       "      <th></th>\n",
       "      <th></th>\n",
       "      <th></th>\n",
       "      <th></th>\n",
       "      <th></th>\n",
       "      <th></th>\n",
       "      <th></th>\n",
       "      <th></th>\n",
       "      <th></th>\n",
       "      <th></th>\n",
       "      <th></th>\n",
       "    </tr>\n",
       "  </thead>\n",
       "  <tbody>\n",
       "    <tr>\n",
       "      <th>1</th>\n",
       "      <td>0.0</td>\n",
       "      <td>0.0</td>\n",
       "      <td>0.0</td>\n",
       "      <td>0.9</td>\n",
       "      <td>0.0</td>\n",
       "      <td>0.0</td>\n",
       "      <td>0.6</td>\n",
       "      <td>0.0</td>\n",
       "      <td>0.0</td>\n",
       "      <td>0.0</td>\n",
       "      <td>...</td>\n",
       "      <td>0</td>\n",
       "      <td>0</td>\n",
       "      <td>0</td>\n",
       "      <td>0</td>\n",
       "      <td>1</td>\n",
       "      <td>0</td>\n",
       "      <td>0</td>\n",
       "      <td>0</td>\n",
       "      <td>0</td>\n",
       "      <td>0</td>\n",
       "    </tr>\n",
       "    <tr>\n",
       "      <th>5</th>\n",
       "      <td>0.0</td>\n",
       "      <td>0.0</td>\n",
       "      <td>0.0</td>\n",
       "      <td>0.0</td>\n",
       "      <td>0.0</td>\n",
       "      <td>0.0</td>\n",
       "      <td>0.0</td>\n",
       "      <td>0.0</td>\n",
       "      <td>0.0</td>\n",
       "      <td>0.0</td>\n",
       "      <td>...</td>\n",
       "      <td>0</td>\n",
       "      <td>0</td>\n",
       "      <td>0</td>\n",
       "      <td>0</td>\n",
       "      <td>1</td>\n",
       "      <td>0</td>\n",
       "      <td>0</td>\n",
       "      <td>0</td>\n",
       "      <td>0</td>\n",
       "      <td>0</td>\n",
       "    </tr>\n",
       "    <tr>\n",
       "      <th>6</th>\n",
       "      <td>0.0</td>\n",
       "      <td>0.0</td>\n",
       "      <td>0.0</td>\n",
       "      <td>0.0</td>\n",
       "      <td>0.0</td>\n",
       "      <td>0.0</td>\n",
       "      <td>0.0</td>\n",
       "      <td>0.0</td>\n",
       "      <td>0.0</td>\n",
       "      <td>0.0</td>\n",
       "      <td>...</td>\n",
       "      <td>0</td>\n",
       "      <td>1</td>\n",
       "      <td>0</td>\n",
       "      <td>0</td>\n",
       "      <td>0</td>\n",
       "      <td>0</td>\n",
       "      <td>0</td>\n",
       "      <td>0</td>\n",
       "      <td>0</td>\n",
       "      <td>0</td>\n",
       "    </tr>\n",
       "    <tr>\n",
       "      <th>7</th>\n",
       "      <td>0.0</td>\n",
       "      <td>0.0</td>\n",
       "      <td>0.0</td>\n",
       "      <td>0.0</td>\n",
       "      <td>0.0</td>\n",
       "      <td>0.0</td>\n",
       "      <td>0.0</td>\n",
       "      <td>0.0</td>\n",
       "      <td>0.0</td>\n",
       "      <td>0.0</td>\n",
       "      <td>...</td>\n",
       "      <td>0</td>\n",
       "      <td>0</td>\n",
       "      <td>0</td>\n",
       "      <td>0</td>\n",
       "      <td>0</td>\n",
       "      <td>0</td>\n",
       "      <td>0</td>\n",
       "      <td>1</td>\n",
       "      <td>0</td>\n",
       "      <td>0</td>\n",
       "    </tr>\n",
       "    <tr>\n",
       "      <th>8</th>\n",
       "      <td>0.0</td>\n",
       "      <td>0.0</td>\n",
       "      <td>0.0</td>\n",
       "      <td>0.0</td>\n",
       "      <td>0.0</td>\n",
       "      <td>0.0</td>\n",
       "      <td>0.0</td>\n",
       "      <td>0.0</td>\n",
       "      <td>0.0</td>\n",
       "      <td>1.0</td>\n",
       "      <td>...</td>\n",
       "      <td>0</td>\n",
       "      <td>1</td>\n",
       "      <td>0</td>\n",
       "      <td>0</td>\n",
       "      <td>0</td>\n",
       "      <td>0</td>\n",
       "      <td>0</td>\n",
       "      <td>1</td>\n",
       "      <td>0</td>\n",
       "      <td>0</td>\n",
       "    </tr>\n",
       "    <tr>\n",
       "      <th>...</th>\n",
       "      <td>...</td>\n",
       "      <td>...</td>\n",
       "      <td>...</td>\n",
       "      <td>...</td>\n",
       "      <td>...</td>\n",
       "      <td>...</td>\n",
       "      <td>...</td>\n",
       "      <td>...</td>\n",
       "      <td>...</td>\n",
       "      <td>...</td>\n",
       "      <td>...</td>\n",
       "      <td>...</td>\n",
       "      <td>...</td>\n",
       "      <td>...</td>\n",
       "      <td>...</td>\n",
       "      <td>...</td>\n",
       "      <td>...</td>\n",
       "      <td>...</td>\n",
       "      <td>...</td>\n",
       "      <td>...</td>\n",
       "      <td>...</td>\n",
       "    </tr>\n",
       "    <tr>\n",
       "      <th>47398</th>\n",
       "      <td>0.0</td>\n",
       "      <td>0.0</td>\n",
       "      <td>0.0</td>\n",
       "      <td>0.0</td>\n",
       "      <td>0.0</td>\n",
       "      <td>0.0</td>\n",
       "      <td>0.0</td>\n",
       "      <td>0.0</td>\n",
       "      <td>0.0</td>\n",
       "      <td>0.0</td>\n",
       "      <td>...</td>\n",
       "      <td>0</td>\n",
       "      <td>0</td>\n",
       "      <td>0</td>\n",
       "      <td>0</td>\n",
       "      <td>0</td>\n",
       "      <td>0</td>\n",
       "      <td>0</td>\n",
       "      <td>0</td>\n",
       "      <td>0</td>\n",
       "      <td>0</td>\n",
       "    </tr>\n",
       "    <tr>\n",
       "      <th>47402</th>\n",
       "      <td>0.0</td>\n",
       "      <td>0.0</td>\n",
       "      <td>0.0</td>\n",
       "      <td>0.0</td>\n",
       "      <td>0.0</td>\n",
       "      <td>0.0</td>\n",
       "      <td>0.0</td>\n",
       "      <td>0.0</td>\n",
       "      <td>0.0</td>\n",
       "      <td>0.0</td>\n",
       "      <td>...</td>\n",
       "      <td>0</td>\n",
       "      <td>0</td>\n",
       "      <td>0</td>\n",
       "      <td>0</td>\n",
       "      <td>0</td>\n",
       "      <td>0</td>\n",
       "      <td>0</td>\n",
       "      <td>0</td>\n",
       "      <td>0</td>\n",
       "      <td>0</td>\n",
       "    </tr>\n",
       "    <tr>\n",
       "      <th>47614</th>\n",
       "      <td>0.0</td>\n",
       "      <td>0.0</td>\n",
       "      <td>0.0</td>\n",
       "      <td>0.0</td>\n",
       "      <td>0.0</td>\n",
       "      <td>0.0</td>\n",
       "      <td>0.0</td>\n",
       "      <td>0.0</td>\n",
       "      <td>0.0</td>\n",
       "      <td>0.0</td>\n",
       "      <td>...</td>\n",
       "      <td>0</td>\n",
       "      <td>0</td>\n",
       "      <td>0</td>\n",
       "      <td>1</td>\n",
       "      <td>0</td>\n",
       "      <td>0</td>\n",
       "      <td>0</td>\n",
       "      <td>0</td>\n",
       "      <td>0</td>\n",
       "      <td>0</td>\n",
       "    </tr>\n",
       "    <tr>\n",
       "      <th>47616</th>\n",
       "      <td>0.0</td>\n",
       "      <td>0.0</td>\n",
       "      <td>0.0</td>\n",
       "      <td>0.0</td>\n",
       "      <td>0.0</td>\n",
       "      <td>0.0</td>\n",
       "      <td>0.0</td>\n",
       "      <td>0.0</td>\n",
       "      <td>0.0</td>\n",
       "      <td>0.0</td>\n",
       "      <td>...</td>\n",
       "      <td>0</td>\n",
       "      <td>1</td>\n",
       "      <td>0</td>\n",
       "      <td>0</td>\n",
       "      <td>0</td>\n",
       "      <td>0</td>\n",
       "      <td>0</td>\n",
       "      <td>1</td>\n",
       "      <td>1</td>\n",
       "      <td>0</td>\n",
       "    </tr>\n",
       "    <tr>\n",
       "      <th>48456</th>\n",
       "      <td>0.0</td>\n",
       "      <td>0.0</td>\n",
       "      <td>0.0</td>\n",
       "      <td>0.0</td>\n",
       "      <td>0.0</td>\n",
       "      <td>0.0</td>\n",
       "      <td>0.0</td>\n",
       "      <td>0.0</td>\n",
       "      <td>0.0</td>\n",
       "      <td>0.0</td>\n",
       "      <td>...</td>\n",
       "      <td>0</td>\n",
       "      <td>0</td>\n",
       "      <td>0</td>\n",
       "      <td>0</td>\n",
       "      <td>0</td>\n",
       "      <td>1</td>\n",
       "      <td>0</td>\n",
       "      <td>0</td>\n",
       "      <td>0</td>\n",
       "      <td>0</td>\n",
       "    </tr>\n",
       "  </tbody>\n",
       "</table>\n",
       "<p>10182 rows × 4070 columns</p>\n",
       "</div>"
      ],
      "text/plain": [
       "            0    1    2    3    4    5    6    7    8   11  ...  Shoujo Ai  \\\n",
       "anime_id                                                    ...              \n",
       "1         0.0  0.0  0.0  0.9  0.0  0.0  0.6  0.0  0.0  0.0  ...          0   \n",
       "5         0.0  0.0  0.0  0.0  0.0  0.0  0.0  0.0  0.0  0.0  ...          0   \n",
       "6         0.0  0.0  0.0  0.0  0.0  0.0  0.0  0.0  0.0  0.0  ...          0   \n",
       "7         0.0  0.0  0.0  0.0  0.0  0.0  0.0  0.0  0.0  0.0  ...          0   \n",
       "8         0.0  0.0  0.0  0.0  0.0  0.0  0.0  0.0  0.0  1.0  ...          0   \n",
       "...       ...  ...  ...  ...  ...  ...  ...  ...  ...  ...  ...        ...   \n",
       "47398     0.0  0.0  0.0  0.0  0.0  0.0  0.0  0.0  0.0  0.0  ...          0   \n",
       "47402     0.0  0.0  0.0  0.0  0.0  0.0  0.0  0.0  0.0  0.0  ...          0   \n",
       "47614     0.0  0.0  0.0  0.0  0.0  0.0  0.0  0.0  0.0  0.0  ...          0   \n",
       "47616     0.0  0.0  0.0  0.0  0.0  0.0  0.0  0.0  0.0  0.0  ...          0   \n",
       "48456     0.0  0.0  0.0  0.0  0.0  0.0  0.0  0.0  0.0  0.0  ...          0   \n",
       "\n",
       "          Shounen  Shounen Ai  Slice of Life  Space  Sports  Super Power  \\\n",
       "anime_id                                                                   \n",
       "1               0           0              0      1       0            0   \n",
       "5               0           0              0      1       0            0   \n",
       "6               1           0              0      0       0            0   \n",
       "7               0           0              0      0       0            0   \n",
       "8               1           0              0      0       0            0   \n",
       "...           ...         ...            ...    ...     ...          ...   \n",
       "47398           0           0              0      0       0            0   \n",
       "47402           0           0              0      0       0            0   \n",
       "47614           0           0              1      0       0            0   \n",
       "47616           1           0              0      0       0            0   \n",
       "48456           0           0              0      0       1            0   \n",
       "\n",
       "          Supernatural  Thriller  Vampire  \n",
       "anime_id                                   \n",
       "1                    0         0        0  \n",
       "5                    0         0        0  \n",
       "6                    0         0        0  \n",
       "7                    1         0        0  \n",
       "8                    1         0        0  \n",
       "...                ...       ...      ...  \n",
       "47398                0         0        0  \n",
       "47402                0         0        0  \n",
       "47614                0         0        0  \n",
       "47616                1         1        0  \n",
       "48456                0         0        0  \n",
       "\n",
       "[10182 rows x 4070 columns]"
      ]
     },
     "execution_count": 25,
     "metadata": {},
     "output_type": "execute_result"
    }
   ],
   "source": [
    "active_users_df_10PlusRatings_partial_pivot"
   ]
  },
  {
   "cell_type": "code",
   "execution_count": 26,
   "id": "96bca918",
   "metadata": {
    "scrolled": true
   },
   "outputs": [
    {
     "data": {
      "text/html": [
       "<div>\n",
       "<style scoped>\n",
       "    .dataframe tbody tr th:only-of-type {\n",
       "        vertical-align: middle;\n",
       "    }\n",
       "\n",
       "    .dataframe tbody tr th {\n",
       "        vertical-align: top;\n",
       "    }\n",
       "\n",
       "    .dataframe thead th {\n",
       "        text-align: right;\n",
       "    }\n",
       "</style>\n",
       "<table border=\"1\" class=\"dataframe\">\n",
       "  <thead>\n",
       "    <tr style=\"text-align: right;\">\n",
       "      <th></th>\n",
       "      <th>1</th>\n",
       "      <th>3</th>\n",
       "      <th>4</th>\n",
       "      <th>6</th>\n",
       "      <th>11</th>\n",
       "      <th>14</th>\n",
       "      <th>16</th>\n",
       "      <th>17</th>\n",
       "      <th>19</th>\n",
       "      <th>21</th>\n",
       "      <th>...</th>\n",
       "      <th>Shoujo Ai</th>\n",
       "      <th>Shounen</th>\n",
       "      <th>Shounen Ai</th>\n",
       "      <th>Slice of Life</th>\n",
       "      <th>Space</th>\n",
       "      <th>Sports</th>\n",
       "      <th>Super Power</th>\n",
       "      <th>Supernatural</th>\n",
       "      <th>Thriller</th>\n",
       "      <th>Vampire</th>\n",
       "    </tr>\n",
       "    <tr>\n",
       "      <th>anime_id</th>\n",
       "      <th></th>\n",
       "      <th></th>\n",
       "      <th></th>\n",
       "      <th></th>\n",
       "      <th></th>\n",
       "      <th></th>\n",
       "      <th></th>\n",
       "      <th></th>\n",
       "      <th></th>\n",
       "      <th></th>\n",
       "      <th></th>\n",
       "      <th></th>\n",
       "      <th></th>\n",
       "      <th></th>\n",
       "      <th></th>\n",
       "      <th></th>\n",
       "      <th></th>\n",
       "      <th></th>\n",
       "      <th></th>\n",
       "      <th></th>\n",
       "      <th></th>\n",
       "    </tr>\n",
       "  </thead>\n",
       "  <tbody>\n",
       "    <tr>\n",
       "      <th>1</th>\n",
       "      <td>0.0</td>\n",
       "      <td>0.9</td>\n",
       "      <td>0.0</td>\n",
       "      <td>0.6</td>\n",
       "      <td>0.0</td>\n",
       "      <td>0.9</td>\n",
       "      <td>0.0</td>\n",
       "      <td>0.0</td>\n",
       "      <td>0.8</td>\n",
       "      <td>0.0</td>\n",
       "      <td>...</td>\n",
       "      <td>0</td>\n",
       "      <td>0</td>\n",
       "      <td>0</td>\n",
       "      <td>0</td>\n",
       "      <td>1</td>\n",
       "      <td>0</td>\n",
       "      <td>0</td>\n",
       "      <td>0</td>\n",
       "      <td>0</td>\n",
       "      <td>0</td>\n",
       "    </tr>\n",
       "    <tr>\n",
       "      <th>5</th>\n",
       "      <td>0.0</td>\n",
       "      <td>0.0</td>\n",
       "      <td>0.0</td>\n",
       "      <td>0.0</td>\n",
       "      <td>0.0</td>\n",
       "      <td>0.0</td>\n",
       "      <td>0.0</td>\n",
       "      <td>0.0</td>\n",
       "      <td>0.6</td>\n",
       "      <td>0.0</td>\n",
       "      <td>...</td>\n",
       "      <td>0</td>\n",
       "      <td>0</td>\n",
       "      <td>0</td>\n",
       "      <td>0</td>\n",
       "      <td>1</td>\n",
       "      <td>0</td>\n",
       "      <td>0</td>\n",
       "      <td>0</td>\n",
       "      <td>0</td>\n",
       "      <td>0</td>\n",
       "    </tr>\n",
       "    <tr>\n",
       "      <th>6</th>\n",
       "      <td>0.0</td>\n",
       "      <td>0.0</td>\n",
       "      <td>0.0</td>\n",
       "      <td>0.0</td>\n",
       "      <td>0.0</td>\n",
       "      <td>0.0</td>\n",
       "      <td>0.0</td>\n",
       "      <td>0.0</td>\n",
       "      <td>0.8</td>\n",
       "      <td>0.0</td>\n",
       "      <td>...</td>\n",
       "      <td>0</td>\n",
       "      <td>1</td>\n",
       "      <td>0</td>\n",
       "      <td>0</td>\n",
       "      <td>0</td>\n",
       "      <td>0</td>\n",
       "      <td>0</td>\n",
       "      <td>0</td>\n",
       "      <td>0</td>\n",
       "      <td>0</td>\n",
       "    </tr>\n",
       "    <tr>\n",
       "      <th>7</th>\n",
       "      <td>0.0</td>\n",
       "      <td>0.0</td>\n",
       "      <td>0.0</td>\n",
       "      <td>0.0</td>\n",
       "      <td>0.0</td>\n",
       "      <td>0.0</td>\n",
       "      <td>0.0</td>\n",
       "      <td>0.0</td>\n",
       "      <td>0.0</td>\n",
       "      <td>0.0</td>\n",
       "      <td>...</td>\n",
       "      <td>0</td>\n",
       "      <td>0</td>\n",
       "      <td>0</td>\n",
       "      <td>0</td>\n",
       "      <td>0</td>\n",
       "      <td>0</td>\n",
       "      <td>0</td>\n",
       "      <td>1</td>\n",
       "      <td>0</td>\n",
       "      <td>0</td>\n",
       "    </tr>\n",
       "    <tr>\n",
       "      <th>8</th>\n",
       "      <td>0.0</td>\n",
       "      <td>0.0</td>\n",
       "      <td>0.0</td>\n",
       "      <td>0.0</td>\n",
       "      <td>1.0</td>\n",
       "      <td>0.0</td>\n",
       "      <td>0.0</td>\n",
       "      <td>0.0</td>\n",
       "      <td>0.0</td>\n",
       "      <td>0.0</td>\n",
       "      <td>...</td>\n",
       "      <td>0</td>\n",
       "      <td>1</td>\n",
       "      <td>0</td>\n",
       "      <td>0</td>\n",
       "      <td>0</td>\n",
       "      <td>0</td>\n",
       "      <td>0</td>\n",
       "      <td>1</td>\n",
       "      <td>0</td>\n",
       "      <td>0</td>\n",
       "    </tr>\n",
       "    <tr>\n",
       "      <th>...</th>\n",
       "      <td>...</td>\n",
       "      <td>...</td>\n",
       "      <td>...</td>\n",
       "      <td>...</td>\n",
       "      <td>...</td>\n",
       "      <td>...</td>\n",
       "      <td>...</td>\n",
       "      <td>...</td>\n",
       "      <td>...</td>\n",
       "      <td>...</td>\n",
       "      <td>...</td>\n",
       "      <td>...</td>\n",
       "      <td>...</td>\n",
       "      <td>...</td>\n",
       "      <td>...</td>\n",
       "      <td>...</td>\n",
       "      <td>...</td>\n",
       "      <td>...</td>\n",
       "      <td>...</td>\n",
       "      <td>...</td>\n",
       "      <td>...</td>\n",
       "    </tr>\n",
       "    <tr>\n",
       "      <th>47398</th>\n",
       "      <td>0.0</td>\n",
       "      <td>0.0</td>\n",
       "      <td>0.0</td>\n",
       "      <td>0.0</td>\n",
       "      <td>0.0</td>\n",
       "      <td>0.0</td>\n",
       "      <td>0.0</td>\n",
       "      <td>0.0</td>\n",
       "      <td>0.0</td>\n",
       "      <td>0.0</td>\n",
       "      <td>...</td>\n",
       "      <td>0</td>\n",
       "      <td>0</td>\n",
       "      <td>0</td>\n",
       "      <td>0</td>\n",
       "      <td>0</td>\n",
       "      <td>0</td>\n",
       "      <td>0</td>\n",
       "      <td>0</td>\n",
       "      <td>0</td>\n",
       "      <td>0</td>\n",
       "    </tr>\n",
       "    <tr>\n",
       "      <th>47402</th>\n",
       "      <td>0.0</td>\n",
       "      <td>0.0</td>\n",
       "      <td>0.0</td>\n",
       "      <td>0.0</td>\n",
       "      <td>0.0</td>\n",
       "      <td>0.0</td>\n",
       "      <td>0.0</td>\n",
       "      <td>0.0</td>\n",
       "      <td>0.0</td>\n",
       "      <td>0.0</td>\n",
       "      <td>...</td>\n",
       "      <td>0</td>\n",
       "      <td>0</td>\n",
       "      <td>0</td>\n",
       "      <td>0</td>\n",
       "      <td>0</td>\n",
       "      <td>0</td>\n",
       "      <td>0</td>\n",
       "      <td>0</td>\n",
       "      <td>0</td>\n",
       "      <td>0</td>\n",
       "    </tr>\n",
       "    <tr>\n",
       "      <th>47614</th>\n",
       "      <td>0.0</td>\n",
       "      <td>0.0</td>\n",
       "      <td>0.0</td>\n",
       "      <td>0.0</td>\n",
       "      <td>0.0</td>\n",
       "      <td>0.0</td>\n",
       "      <td>0.0</td>\n",
       "      <td>0.0</td>\n",
       "      <td>0.0</td>\n",
       "      <td>0.0</td>\n",
       "      <td>...</td>\n",
       "      <td>0</td>\n",
       "      <td>0</td>\n",
       "      <td>0</td>\n",
       "      <td>1</td>\n",
       "      <td>0</td>\n",
       "      <td>0</td>\n",
       "      <td>0</td>\n",
       "      <td>0</td>\n",
       "      <td>0</td>\n",
       "      <td>0</td>\n",
       "    </tr>\n",
       "    <tr>\n",
       "      <th>47616</th>\n",
       "      <td>0.0</td>\n",
       "      <td>0.0</td>\n",
       "      <td>0.0</td>\n",
       "      <td>0.0</td>\n",
       "      <td>0.0</td>\n",
       "      <td>0.0</td>\n",
       "      <td>0.0</td>\n",
       "      <td>0.0</td>\n",
       "      <td>0.0</td>\n",
       "      <td>0.0</td>\n",
       "      <td>...</td>\n",
       "      <td>0</td>\n",
       "      <td>1</td>\n",
       "      <td>0</td>\n",
       "      <td>0</td>\n",
       "      <td>0</td>\n",
       "      <td>0</td>\n",
       "      <td>0</td>\n",
       "      <td>1</td>\n",
       "      <td>1</td>\n",
       "      <td>0</td>\n",
       "    </tr>\n",
       "    <tr>\n",
       "      <th>48456</th>\n",
       "      <td>0.0</td>\n",
       "      <td>0.0</td>\n",
       "      <td>0.0</td>\n",
       "      <td>0.0</td>\n",
       "      <td>0.0</td>\n",
       "      <td>0.0</td>\n",
       "      <td>0.0</td>\n",
       "      <td>0.0</td>\n",
       "      <td>0.0</td>\n",
       "      <td>0.0</td>\n",
       "      <td>...</td>\n",
       "      <td>0</td>\n",
       "      <td>0</td>\n",
       "      <td>0</td>\n",
       "      <td>0</td>\n",
       "      <td>0</td>\n",
       "      <td>1</td>\n",
       "      <td>0</td>\n",
       "      <td>0</td>\n",
       "      <td>0</td>\n",
       "      <td>0</td>\n",
       "    </tr>\n",
       "  </tbody>\n",
       "</table>\n",
       "<p>10166 rows × 2500 columns</p>\n",
       "</div>"
      ],
      "text/plain": [
       "            1    3    4    6   11   14   16   17   19   21  ...  Shoujo Ai  \\\n",
       "anime_id                                                    ...              \n",
       "1         0.0  0.9  0.0  0.6  0.0  0.9  0.0  0.0  0.8  0.0  ...          0   \n",
       "5         0.0  0.0  0.0  0.0  0.0  0.0  0.0  0.0  0.6  0.0  ...          0   \n",
       "6         0.0  0.0  0.0  0.0  0.0  0.0  0.0  0.0  0.8  0.0  ...          0   \n",
       "7         0.0  0.0  0.0  0.0  0.0  0.0  0.0  0.0  0.0  0.0  ...          0   \n",
       "8         0.0  0.0  0.0  0.0  1.0  0.0  0.0  0.0  0.0  0.0  ...          0   \n",
       "...       ...  ...  ...  ...  ...  ...  ...  ...  ...  ...  ...        ...   \n",
       "47398     0.0  0.0  0.0  0.0  0.0  0.0  0.0  0.0  0.0  0.0  ...          0   \n",
       "47402     0.0  0.0  0.0  0.0  0.0  0.0  0.0  0.0  0.0  0.0  ...          0   \n",
       "47614     0.0  0.0  0.0  0.0  0.0  0.0  0.0  0.0  0.0  0.0  ...          0   \n",
       "47616     0.0  0.0  0.0  0.0  0.0  0.0  0.0  0.0  0.0  0.0  ...          0   \n",
       "48456     0.0  0.0  0.0  0.0  0.0  0.0  0.0  0.0  0.0  0.0  ...          0   \n",
       "\n",
       "          Shounen  Shounen Ai  Slice of Life  Space  Sports  Super Power  \\\n",
       "anime_id                                                                   \n",
       "1               0           0              0      1       0            0   \n",
       "5               0           0              0      1       0            0   \n",
       "6               1           0              0      0       0            0   \n",
       "7               0           0              0      0       0            0   \n",
       "8               1           0              0      0       0            0   \n",
       "...           ...         ...            ...    ...     ...          ...   \n",
       "47398           0           0              0      0       0            0   \n",
       "47402           0           0              0      0       0            0   \n",
       "47614           0           0              1      0       0            0   \n",
       "47616           1           0              0      0       0            0   \n",
       "48456           0           0              0      0       1            0   \n",
       "\n",
       "          Supernatural  Thriller  Vampire  \n",
       "anime_id                                   \n",
       "1                    0         0        0  \n",
       "5                    0         0        0  \n",
       "6                    0         0        0  \n",
       "7                    1         0        0  \n",
       "8                    1         0        0  \n",
       "...                ...       ...      ...  \n",
       "47398                0         0        0  \n",
       "47402                0         0        0  \n",
       "47614                0         0        0  \n",
       "47616                1         1        0  \n",
       "48456                0         0        0  \n",
       "\n",
       "[10166 rows x 2500 columns]"
      ]
     },
     "execution_count": 26,
     "metadata": {},
     "output_type": "execute_result"
    }
   ],
   "source": [
    "active_users_df_100PlusRatings_partial_pivot"
   ]
  },
  {
   "cell_type": "code",
   "execution_count": 27,
   "id": "541a0281",
   "metadata": {},
   "outputs": [
    {
     "data": {
      "text/html": [
       "<div>\n",
       "<style scoped>\n",
       "    .dataframe tbody tr th:only-of-type {\n",
       "        vertical-align: middle;\n",
       "    }\n",
       "\n",
       "    .dataframe tbody tr th {\n",
       "        vertical-align: top;\n",
       "    }\n",
       "\n",
       "    .dataframe thead th {\n",
       "        text-align: right;\n",
       "    }\n",
       "</style>\n",
       "<table border=\"1\" class=\"dataframe\">\n",
       "  <thead>\n",
       "    <tr style=\"text-align: right;\">\n",
       "      <th></th>\n",
       "      <th>anime_id</th>\n",
       "      <th>Name</th>\n",
       "    </tr>\n",
       "  </thead>\n",
       "  <tbody>\n",
       "    <tr>\n",
       "      <th>0</th>\n",
       "      <td>1</td>\n",
       "      <td>Cowboy Bebop</td>\n",
       "    </tr>\n",
       "    <tr>\n",
       "      <th>1</th>\n",
       "      <td>5</td>\n",
       "      <td>Cowboy Bebop: Tengoku no Tobira</td>\n",
       "    </tr>\n",
       "    <tr>\n",
       "      <th>2</th>\n",
       "      <td>6</td>\n",
       "      <td>Trigun</td>\n",
       "    </tr>\n",
       "    <tr>\n",
       "      <th>3</th>\n",
       "      <td>7</td>\n",
       "      <td>Witch Hunter Robin</td>\n",
       "    </tr>\n",
       "    <tr>\n",
       "      <th>4</th>\n",
       "      <td>8</td>\n",
       "      <td>Bouken Ou Beet</td>\n",
       "    </tr>\n",
       "    <tr>\n",
       "      <th>...</th>\n",
       "      <td>...</td>\n",
       "      <td>...</td>\n",
       "    </tr>\n",
       "    <tr>\n",
       "      <th>10177</th>\n",
       "      <td>47398</td>\n",
       "      <td>Kimetsu Gakuen: Valentine-hen</td>\n",
       "    </tr>\n",
       "    <tr>\n",
       "      <th>10178</th>\n",
       "      <td>47402</td>\n",
       "      <td>Heikousen</td>\n",
       "    </tr>\n",
       "    <tr>\n",
       "      <th>10179</th>\n",
       "      <td>47614</td>\n",
       "      <td>Nu Wushen de Canzhuo Spring Festival Special</td>\n",
       "    </tr>\n",
       "    <tr>\n",
       "      <th>10180</th>\n",
       "      <td>47616</td>\n",
       "      <td>Yakusoku no Neverland 2nd Season: Michishirube</td>\n",
       "    </tr>\n",
       "    <tr>\n",
       "      <th>10181</th>\n",
       "      <td>48456</td>\n",
       "      <td>SK∞: Crazy Rock Jam</td>\n",
       "    </tr>\n",
       "  </tbody>\n",
       "</table>\n",
       "<p>10182 rows × 2 columns</p>\n",
       "</div>"
      ],
      "text/plain": [
       "       anime_id                                            Name\n",
       "0             1                                    Cowboy Bebop\n",
       "1             5                 Cowboy Bebop: Tengoku no Tobira\n",
       "2             6                                          Trigun\n",
       "3             7                              Witch Hunter Robin\n",
       "4             8                                  Bouken Ou Beet\n",
       "...         ...                                             ...\n",
       "10177     47398                   Kimetsu Gakuen: Valentine-hen\n",
       "10178     47402                                       Heikousen\n",
       "10179     47614    Nu Wushen de Canzhuo Spring Festival Special\n",
       "10180     47616  Yakusoku no Neverland 2nd Season: Michishirube\n",
       "10181     48456                             SK∞: Crazy Rock Jam\n",
       "\n",
       "[10182 rows x 2 columns]"
      ]
     },
     "execution_count": 27,
     "metadata": {},
     "output_type": "execute_result"
    }
   ],
   "source": [
    "anime_id_name_df_10PlusRatings = active_users_df_10PlusRatings_partial_merge[['anime_id','Name']].drop_duplicates()\n",
    "anime_id_name_df_10PlusRatings = anime_id_name_df_10PlusRatings.sort_values('anime_id')\n",
    "anime_id_name_df_10PlusRatings = anime_id_name_df_10PlusRatings.reset_index().drop(columns = 'index')\n",
    "anime_id_name_df_10PlusRatings"
   ]
  },
  {
   "cell_type": "code",
   "execution_count": 28,
   "id": "8592d5fc",
   "metadata": {},
   "outputs": [
    {
     "data": {
      "text/html": [
       "<div>\n",
       "<style scoped>\n",
       "    .dataframe tbody tr th:only-of-type {\n",
       "        vertical-align: middle;\n",
       "    }\n",
       "\n",
       "    .dataframe tbody tr th {\n",
       "        vertical-align: top;\n",
       "    }\n",
       "\n",
       "    .dataframe thead th {\n",
       "        text-align: right;\n",
       "    }\n",
       "</style>\n",
       "<table border=\"1\" class=\"dataframe\">\n",
       "  <thead>\n",
       "    <tr style=\"text-align: right;\">\n",
       "      <th></th>\n",
       "      <th>1</th>\n",
       "      <th>3</th>\n",
       "      <th>4</th>\n",
       "      <th>6</th>\n",
       "      <th>11</th>\n",
       "      <th>14</th>\n",
       "      <th>16</th>\n",
       "      <th>17</th>\n",
       "      <th>19</th>\n",
       "      <th>21</th>\n",
       "      <th>...</th>\n",
       "      <th>Shoujo Ai</th>\n",
       "      <th>Shounen</th>\n",
       "      <th>Shounen Ai</th>\n",
       "      <th>Slice of Life</th>\n",
       "      <th>Space</th>\n",
       "      <th>Sports</th>\n",
       "      <th>Super Power</th>\n",
       "      <th>Supernatural</th>\n",
       "      <th>Thriller</th>\n",
       "      <th>Vampire</th>\n",
       "    </tr>\n",
       "    <tr>\n",
       "      <th>anime_id</th>\n",
       "      <th></th>\n",
       "      <th></th>\n",
       "      <th></th>\n",
       "      <th></th>\n",
       "      <th></th>\n",
       "      <th></th>\n",
       "      <th></th>\n",
       "      <th></th>\n",
       "      <th></th>\n",
       "      <th></th>\n",
       "      <th></th>\n",
       "      <th></th>\n",
       "      <th></th>\n",
       "      <th></th>\n",
       "      <th></th>\n",
       "      <th></th>\n",
       "      <th></th>\n",
       "      <th></th>\n",
       "      <th></th>\n",
       "      <th></th>\n",
       "      <th></th>\n",
       "    </tr>\n",
       "  </thead>\n",
       "  <tbody>\n",
       "    <tr>\n",
       "      <th>44</th>\n",
       "      <td>0.0</td>\n",
       "      <td>0.0</td>\n",
       "      <td>0.0</td>\n",
       "      <td>0.0</td>\n",
       "      <td>0.0</td>\n",
       "      <td>0.0</td>\n",
       "      <td>0.0</td>\n",
       "      <td>0.0</td>\n",
       "      <td>0.7</td>\n",
       "      <td>0.0</td>\n",
       "      <td>...</td>\n",
       "      <td>0</td>\n",
       "      <td>1</td>\n",
       "      <td>0</td>\n",
       "      <td>0</td>\n",
       "      <td>0</td>\n",
       "      <td>0</td>\n",
       "      <td>0</td>\n",
       "      <td>0</td>\n",
       "      <td>0</td>\n",
       "      <td>0</td>\n",
       "    </tr>\n",
       "  </tbody>\n",
       "</table>\n",
       "<p>1 rows × 2500 columns</p>\n",
       "</div>"
      ],
      "text/plain": [
       "            1    3    4    6   11   14   16   17   19   21  ...  Shoujo Ai  \\\n",
       "anime_id                                                    ...              \n",
       "44        0.0  0.0  0.0  0.0  0.0  0.0  0.0  0.0  0.7  0.0  ...          0   \n",
       "\n",
       "          Shounen  Shounen Ai  Slice of Life  Space  Sports  Super Power  \\\n",
       "anime_id                                                                   \n",
       "44              1           0              0      0       0            0   \n",
       "\n",
       "          Supernatural  Thriller  Vampire  \n",
       "anime_id                                   \n",
       "44                   0         0        0  \n",
       "\n",
       "[1 rows x 2500 columns]"
      ]
     },
     "execution_count": 28,
     "metadata": {},
     "output_type": "execute_result"
    }
   ],
   "source": [
    "active_users_df_100PlusRatings_partial_pivot.loc[[44]]"
   ]
  },
  {
   "cell_type": "code",
   "execution_count": 29,
   "id": "3dbb34cd",
   "metadata": {},
   "outputs": [
    {
     "data": {
      "text/html": [
       "<div>\n",
       "<style scoped>\n",
       "    .dataframe tbody tr th:only-of-type {\n",
       "        vertical-align: middle;\n",
       "    }\n",
       "\n",
       "    .dataframe tbody tr th {\n",
       "        vertical-align: top;\n",
       "    }\n",
       "\n",
       "    .dataframe thead th {\n",
       "        text-align: right;\n",
       "    }\n",
       "</style>\n",
       "<table border=\"1\" class=\"dataframe\">\n",
       "  <thead>\n",
       "    <tr style=\"text-align: right;\">\n",
       "      <th></th>\n",
       "      <th>anime_id</th>\n",
       "      <th>Name</th>\n",
       "    </tr>\n",
       "  </thead>\n",
       "  <tbody>\n",
       "    <tr>\n",
       "      <th>44</th>\n",
       "      <td>63</td>\n",
       "      <td>DearS</td>\n",
       "    </tr>\n",
       "  </tbody>\n",
       "</table>\n",
       "</div>"
      ],
      "text/plain": [
       "    anime_id   Name\n",
       "44        63  DearS"
      ]
     },
     "execution_count": 29,
     "metadata": {},
     "output_type": "execute_result"
    }
   ],
   "source": [
    "anime_id_name_df_10PlusRatings.loc[[44]]"
   ]
  },
  {
   "cell_type": "code",
   "execution_count": 30,
   "id": "24b3639c",
   "metadata": {},
   "outputs": [
    {
     "data": {
      "text/html": [
       "<div>\n",
       "<style scoped>\n",
       "    .dataframe tbody tr th:only-of-type {\n",
       "        vertical-align: middle;\n",
       "    }\n",
       "\n",
       "    .dataframe tbody tr th {\n",
       "        vertical-align: top;\n",
       "    }\n",
       "\n",
       "    .dataframe thead th {\n",
       "        text-align: right;\n",
       "    }\n",
       "</style>\n",
       "<table border=\"1\" class=\"dataframe\">\n",
       "  <thead>\n",
       "    <tr style=\"text-align: right;\">\n",
       "      <th></th>\n",
       "      <th>anime_id</th>\n",
       "      <th>Name</th>\n",
       "    </tr>\n",
       "  </thead>\n",
       "  <tbody>\n",
       "    <tr>\n",
       "      <th>10</th>\n",
       "      <td>20</td>\n",
       "      <td>Naruto</td>\n",
       "    </tr>\n",
       "  </tbody>\n",
       "</table>\n",
       "</div>"
      ],
      "text/plain": [
       "    anime_id    Name\n",
       "10        20  Naruto"
      ]
     },
     "execution_count": 30,
     "metadata": {},
     "output_type": "execute_result"
    }
   ],
   "source": [
    "anime_id_name_df_10PlusRatings.query('Name == \"Naruto\"')"
   ]
  },
  {
   "cell_type": "code",
   "execution_count": 31,
   "id": "fe6f1186",
   "metadata": {
    "scrolled": true
   },
   "outputs": [
    {
     "data": {
      "text/html": [
       "<div>\n",
       "<style scoped>\n",
       "    .dataframe tbody tr th:only-of-type {\n",
       "        vertical-align: middle;\n",
       "    }\n",
       "\n",
       "    .dataframe tbody tr th {\n",
       "        vertical-align: top;\n",
       "    }\n",
       "\n",
       "    .dataframe thead th {\n",
       "        text-align: right;\n",
       "    }\n",
       "</style>\n",
       "<table border=\"1\" class=\"dataframe\">\n",
       "  <thead>\n",
       "    <tr style=\"text-align: right;\">\n",
       "      <th></th>\n",
       "      <th>anime_id</th>\n",
       "      <th>Name</th>\n",
       "    </tr>\n",
       "  </thead>\n",
       "  <tbody>\n",
       "    <tr>\n",
       "      <th>0</th>\n",
       "      <td>1</td>\n",
       "      <td>Cowboy Bebop</td>\n",
       "    </tr>\n",
       "    <tr>\n",
       "      <th>1</th>\n",
       "      <td>5</td>\n",
       "      <td>Cowboy Bebop: Tengoku no Tobira</td>\n",
       "    </tr>\n",
       "    <tr>\n",
       "      <th>2</th>\n",
       "      <td>6</td>\n",
       "      <td>Trigun</td>\n",
       "    </tr>\n",
       "    <tr>\n",
       "      <th>3</th>\n",
       "      <td>7</td>\n",
       "      <td>Witch Hunter Robin</td>\n",
       "    </tr>\n",
       "    <tr>\n",
       "      <th>4</th>\n",
       "      <td>8</td>\n",
       "      <td>Bouken Ou Beet</td>\n",
       "    </tr>\n",
       "    <tr>\n",
       "      <th>...</th>\n",
       "      <td>...</td>\n",
       "      <td>...</td>\n",
       "    </tr>\n",
       "    <tr>\n",
       "      <th>10161</th>\n",
       "      <td>47398</td>\n",
       "      <td>Kimetsu Gakuen: Valentine-hen</td>\n",
       "    </tr>\n",
       "    <tr>\n",
       "      <th>10162</th>\n",
       "      <td>47402</td>\n",
       "      <td>Heikousen</td>\n",
       "    </tr>\n",
       "    <tr>\n",
       "      <th>10163</th>\n",
       "      <td>47614</td>\n",
       "      <td>Nu Wushen de Canzhuo Spring Festival Special</td>\n",
       "    </tr>\n",
       "    <tr>\n",
       "      <th>10164</th>\n",
       "      <td>47616</td>\n",
       "      <td>Yakusoku no Neverland 2nd Season: Michishirube</td>\n",
       "    </tr>\n",
       "    <tr>\n",
       "      <th>10165</th>\n",
       "      <td>48456</td>\n",
       "      <td>SK∞: Crazy Rock Jam</td>\n",
       "    </tr>\n",
       "  </tbody>\n",
       "</table>\n",
       "<p>10166 rows × 2 columns</p>\n",
       "</div>"
      ],
      "text/plain": [
       "       anime_id                                            Name\n",
       "0             1                                    Cowboy Bebop\n",
       "1             5                 Cowboy Bebop: Tengoku no Tobira\n",
       "2             6                                          Trigun\n",
       "3             7                              Witch Hunter Robin\n",
       "4             8                                  Bouken Ou Beet\n",
       "...         ...                                             ...\n",
       "10161     47398                   Kimetsu Gakuen: Valentine-hen\n",
       "10162     47402                                       Heikousen\n",
       "10163     47614    Nu Wushen de Canzhuo Spring Festival Special\n",
       "10164     47616  Yakusoku no Neverland 2nd Season: Michishirube\n",
       "10165     48456                             SK∞: Crazy Rock Jam\n",
       "\n",
       "[10166 rows x 2 columns]"
      ]
     },
     "execution_count": 31,
     "metadata": {},
     "output_type": "execute_result"
    }
   ],
   "source": [
    "anime_id_name_df_100PlusRatings = active_users_df_100PlusRatings_partial_merge[['anime_id','Name']].drop_duplicates()\n",
    "anime_id_name_df_100PlusRatings = anime_id_name_df_100PlusRatings.sort_values('anime_id')\n",
    "anime_id_name_df_100PlusRatings = anime_id_name_df_100PlusRatings.reset_index().drop(columns = 'index')\n",
    "anime_id_name_df_100PlusRatings"
   ]
  },
  {
   "cell_type": "code",
   "execution_count": 32,
   "id": "aedf109f",
   "metadata": {},
   "outputs": [
    {
     "data": {
      "text/html": [
       "<div>\n",
       "<style scoped>\n",
       "    .dataframe tbody tr th:only-of-type {\n",
       "        vertical-align: middle;\n",
       "    }\n",
       "\n",
       "    .dataframe tbody tr th {\n",
       "        vertical-align: top;\n",
       "    }\n",
       "\n",
       "    .dataframe thead th {\n",
       "        text-align: right;\n",
       "    }\n",
       "</style>\n",
       "<table border=\"1\" class=\"dataframe\">\n",
       "  <thead>\n",
       "    <tr style=\"text-align: right;\">\n",
       "      <th></th>\n",
       "      <th>anime_id</th>\n",
       "      <th>Name</th>\n",
       "    </tr>\n",
       "  </thead>\n",
       "  <tbody>\n",
       "    <tr>\n",
       "      <th>10</th>\n",
       "      <td>20</td>\n",
       "      <td>Naruto</td>\n",
       "    </tr>\n",
       "  </tbody>\n",
       "</table>\n",
       "</div>"
      ],
      "text/plain": [
       "    anime_id    Name\n",
       "10        20  Naruto"
      ]
     },
     "execution_count": 32,
     "metadata": {},
     "output_type": "execute_result"
    }
   ],
   "source": [
    "anime_id_name_df_10PlusRatings.query('Name == \"Naruto\"')"
   ]
  },
  {
   "cell_type": "code",
   "execution_count": 33,
   "id": "fdac071f",
   "metadata": {},
   "outputs": [],
   "source": [
    "#pca can do at this step but not on a sample data set"
   ]
  },
  {
   "cell_type": "markdown",
   "id": "2f6101aa",
   "metadata": {
    "heading_collapsed": true
   },
   "source": [
    "### vectorize for anime completed and merge with  anime vectorized by genres"
   ]
  },
  {
   "cell_type": "code",
   "execution_count": 34,
   "id": "f4ee01d1",
   "metadata": {
    "hidden": true
   },
   "outputs": [],
   "source": [
    "rating_complete_df_10PlusRatings_partial_merge['rating'] = 1"
   ]
  },
  {
   "cell_type": "code",
   "execution_count": 35,
   "id": "1166e439",
   "metadata": {
    "hidden": true
   },
   "outputs": [],
   "source": [
    "rating_complete_df_10PlusRatings_partial_merge.rename(columns={'rating' : 'complete'}, inplace =True)"
   ]
  },
  {
   "cell_type": "code",
   "execution_count": 36,
   "id": "fcc17406",
   "metadata": {
    "hidden": true
   },
   "outputs": [
    {
     "data": {
      "text/html": [
       "<div>\n",
       "<style scoped>\n",
       "    .dataframe tbody tr th:only-of-type {\n",
       "        vertical-align: middle;\n",
       "    }\n",
       "\n",
       "    .dataframe tbody tr th {\n",
       "        vertical-align: top;\n",
       "    }\n",
       "\n",
       "    .dataframe thead th {\n",
       "        text-align: right;\n",
       "    }\n",
       "</style>\n",
       "<table border=\"1\" class=\"dataframe\">\n",
       "  <thead>\n",
       "    <tr style=\"text-align: right;\">\n",
       "      <th></th>\n",
       "      <th>user_id</th>\n",
       "      <th>anime_id</th>\n",
       "      <th>complete</th>\n",
       "      <th>Name</th>\n",
       "    </tr>\n",
       "  </thead>\n",
       "  <tbody>\n",
       "    <tr>\n",
       "      <th>0</th>\n",
       "      <td>0</td>\n",
       "      <td>430</td>\n",
       "      <td>1</td>\n",
       "      <td>Fullmetal Alchemist: The Conqueror of Shamballa</td>\n",
       "    </tr>\n",
       "    <tr>\n",
       "      <th>1</th>\n",
       "      <td>6</td>\n",
       "      <td>430</td>\n",
       "      <td>1</td>\n",
       "      <td>Fullmetal Alchemist: The Conqueror of Shamballa</td>\n",
       "    </tr>\n",
       "    <tr>\n",
       "      <th>2</th>\n",
       "      <td>18</td>\n",
       "      <td>430</td>\n",
       "      <td>1</td>\n",
       "      <td>Fullmetal Alchemist: The Conqueror of Shamballa</td>\n",
       "    </tr>\n",
       "    <tr>\n",
       "      <th>3</th>\n",
       "      <td>19</td>\n",
       "      <td>430</td>\n",
       "      <td>1</td>\n",
       "      <td>Fullmetal Alchemist: The Conqueror of Shamballa</td>\n",
       "    </tr>\n",
       "    <tr>\n",
       "      <th>4</th>\n",
       "      <td>33</td>\n",
       "      <td>430</td>\n",
       "      <td>1</td>\n",
       "      <td>Fullmetal Alchemist: The Conqueror of Shamballa</td>\n",
       "    </tr>\n",
       "    <tr>\n",
       "      <th>...</th>\n",
       "      <td>...</td>\n",
       "      <td>...</td>\n",
       "      <td>...</td>\n",
       "      <td>...</td>\n",
       "    </tr>\n",
       "    <tr>\n",
       "      <th>744818</th>\n",
       "      <td>4944</td>\n",
       "      <td>8146</td>\n",
       "      <td>1</td>\n",
       "      <td>Gegege no Kitarou: Daikaijuu</td>\n",
       "    </tr>\n",
       "    <tr>\n",
       "      <th>744819</th>\n",
       "      <td>4944</td>\n",
       "      <td>32888</td>\n",
       "      <td>1</td>\n",
       "      <td>Sinbad: Mahiru no Yoru to Fushigi no Mon</td>\n",
       "    </tr>\n",
       "    <tr>\n",
       "      <th>744820</th>\n",
       "      <td>4944</td>\n",
       "      <td>21305</td>\n",
       "      <td>1</td>\n",
       "      <td>Trick or Alice</td>\n",
       "    </tr>\n",
       "    <tr>\n",
       "      <th>744821</th>\n",
       "      <td>4986</td>\n",
       "      <td>39284</td>\n",
       "      <td>1</td>\n",
       "      <td>Tsuki no Uta</td>\n",
       "    </tr>\n",
       "    <tr>\n",
       "      <th>744822</th>\n",
       "      <td>4993</td>\n",
       "      <td>16756</td>\n",
       "      <td>1</td>\n",
       "      <td>Kuiba: Zhi Shiwanhuoji</td>\n",
       "    </tr>\n",
       "  </tbody>\n",
       "</table>\n",
       "<p>744823 rows × 4 columns</p>\n",
       "</div>"
      ],
      "text/plain": [
       "        user_id  anime_id  complete  \\\n",
       "0             0       430         1   \n",
       "1             6       430         1   \n",
       "2            18       430         1   \n",
       "3            19       430         1   \n",
       "4            33       430         1   \n",
       "...         ...       ...       ...   \n",
       "744818     4944      8146         1   \n",
       "744819     4944     32888         1   \n",
       "744820     4944     21305         1   \n",
       "744821     4986     39284         1   \n",
       "744822     4993     16756         1   \n",
       "\n",
       "                                                   Name  \n",
       "0       Fullmetal Alchemist: The Conqueror of Shamballa  \n",
       "1       Fullmetal Alchemist: The Conqueror of Shamballa  \n",
       "2       Fullmetal Alchemist: The Conqueror of Shamballa  \n",
       "3       Fullmetal Alchemist: The Conqueror of Shamballa  \n",
       "4       Fullmetal Alchemist: The Conqueror of Shamballa  \n",
       "...                                                 ...  \n",
       "744818                     Gegege no Kitarou: Daikaijuu  \n",
       "744819         Sinbad: Mahiru no Yoru to Fushigi no Mon  \n",
       "744820                                   Trick or Alice  \n",
       "744821                                     Tsuki no Uta  \n",
       "744822                           Kuiba: Zhi Shiwanhuoji  \n",
       "\n",
       "[744823 rows x 4 columns]"
      ]
     },
     "execution_count": 36,
     "metadata": {},
     "output_type": "execute_result"
    }
   ],
   "source": [
    "rating_complete_df_10PlusRatings_partial_merge"
   ]
  },
  {
   "cell_type": "code",
   "execution_count": 37,
   "id": "457bfd22",
   "metadata": {
    "hidden": true
   },
   "outputs": [],
   "source": [
    "rating_complete_df_10PlusRatings_partial_pivot = rating_complete_df_10PlusRatings_partial_merge.pivot_table(index='anime_id',columns='user_id',values='complete').fillna(0)"
   ]
  },
  {
   "cell_type": "code",
   "execution_count": 38,
   "id": "ac79a024",
   "metadata": {
    "hidden": true
   },
   "outputs": [],
   "source": [
    "rating_complete_df_10PlusRatings_partial_pivot = rating_complete_df_10PlusRatings_partial_pivot.merge(anime_Genres_df_encoded, how='inner',left_index=True, right_index=True)"
   ]
  },
  {
   "cell_type": "code",
   "execution_count": 39,
   "id": "9d933063",
   "metadata": {
    "hidden": true
   },
   "outputs": [
    {
     "data": {
      "text/html": [
       "<div>\n",
       "<style scoped>\n",
       "    .dataframe tbody tr th:only-of-type {\n",
       "        vertical-align: middle;\n",
       "    }\n",
       "\n",
       "    .dataframe tbody tr th {\n",
       "        vertical-align: top;\n",
       "    }\n",
       "\n",
       "    .dataframe thead th {\n",
       "        text-align: right;\n",
       "    }\n",
       "</style>\n",
       "<table border=\"1\" class=\"dataframe\">\n",
       "  <thead>\n",
       "    <tr style=\"text-align: right;\">\n",
       "      <th></th>\n",
       "      <th>0</th>\n",
       "      <th>1</th>\n",
       "      <th>2</th>\n",
       "      <th>3</th>\n",
       "      <th>4</th>\n",
       "      <th>5</th>\n",
       "      <th>6</th>\n",
       "      <th>7</th>\n",
       "      <th>8</th>\n",
       "      <th>11</th>\n",
       "      <th>...</th>\n",
       "      <th>Shoujo Ai</th>\n",
       "      <th>Shounen</th>\n",
       "      <th>Shounen Ai</th>\n",
       "      <th>Slice of Life</th>\n",
       "      <th>Space</th>\n",
       "      <th>Sports</th>\n",
       "      <th>Super Power</th>\n",
       "      <th>Supernatural</th>\n",
       "      <th>Thriller</th>\n",
       "      <th>Vampire</th>\n",
       "    </tr>\n",
       "    <tr>\n",
       "      <th>anime_id</th>\n",
       "      <th></th>\n",
       "      <th></th>\n",
       "      <th></th>\n",
       "      <th></th>\n",
       "      <th></th>\n",
       "      <th></th>\n",
       "      <th></th>\n",
       "      <th></th>\n",
       "      <th></th>\n",
       "      <th></th>\n",
       "      <th></th>\n",
       "      <th></th>\n",
       "      <th></th>\n",
       "      <th></th>\n",
       "      <th></th>\n",
       "      <th></th>\n",
       "      <th></th>\n",
       "      <th></th>\n",
       "      <th></th>\n",
       "      <th></th>\n",
       "      <th></th>\n",
       "    </tr>\n",
       "  </thead>\n",
       "  <tbody>\n",
       "    <tr>\n",
       "      <th>1</th>\n",
       "      <td>0.0</td>\n",
       "      <td>0.0</td>\n",
       "      <td>0.0</td>\n",
       "      <td>1.0</td>\n",
       "      <td>0.0</td>\n",
       "      <td>0.0</td>\n",
       "      <td>1.0</td>\n",
       "      <td>0.0</td>\n",
       "      <td>0.0</td>\n",
       "      <td>0.0</td>\n",
       "      <td>...</td>\n",
       "      <td>0</td>\n",
       "      <td>0</td>\n",
       "      <td>0</td>\n",
       "      <td>0</td>\n",
       "      <td>1</td>\n",
       "      <td>0</td>\n",
       "      <td>0</td>\n",
       "      <td>0</td>\n",
       "      <td>0</td>\n",
       "      <td>0</td>\n",
       "    </tr>\n",
       "    <tr>\n",
       "      <th>5</th>\n",
       "      <td>0.0</td>\n",
       "      <td>0.0</td>\n",
       "      <td>0.0</td>\n",
       "      <td>0.0</td>\n",
       "      <td>0.0</td>\n",
       "      <td>0.0</td>\n",
       "      <td>0.0</td>\n",
       "      <td>0.0</td>\n",
       "      <td>0.0</td>\n",
       "      <td>0.0</td>\n",
       "      <td>...</td>\n",
       "      <td>0</td>\n",
       "      <td>0</td>\n",
       "      <td>0</td>\n",
       "      <td>0</td>\n",
       "      <td>1</td>\n",
       "      <td>0</td>\n",
       "      <td>0</td>\n",
       "      <td>0</td>\n",
       "      <td>0</td>\n",
       "      <td>0</td>\n",
       "    </tr>\n",
       "    <tr>\n",
       "      <th>6</th>\n",
       "      <td>0.0</td>\n",
       "      <td>0.0</td>\n",
       "      <td>0.0</td>\n",
       "      <td>0.0</td>\n",
       "      <td>0.0</td>\n",
       "      <td>0.0</td>\n",
       "      <td>0.0</td>\n",
       "      <td>0.0</td>\n",
       "      <td>0.0</td>\n",
       "      <td>0.0</td>\n",
       "      <td>...</td>\n",
       "      <td>0</td>\n",
       "      <td>1</td>\n",
       "      <td>0</td>\n",
       "      <td>0</td>\n",
       "      <td>0</td>\n",
       "      <td>0</td>\n",
       "      <td>0</td>\n",
       "      <td>0</td>\n",
       "      <td>0</td>\n",
       "      <td>0</td>\n",
       "    </tr>\n",
       "    <tr>\n",
       "      <th>7</th>\n",
       "      <td>0.0</td>\n",
       "      <td>0.0</td>\n",
       "      <td>0.0</td>\n",
       "      <td>0.0</td>\n",
       "      <td>0.0</td>\n",
       "      <td>0.0</td>\n",
       "      <td>0.0</td>\n",
       "      <td>0.0</td>\n",
       "      <td>0.0</td>\n",
       "      <td>0.0</td>\n",
       "      <td>...</td>\n",
       "      <td>0</td>\n",
       "      <td>0</td>\n",
       "      <td>0</td>\n",
       "      <td>0</td>\n",
       "      <td>0</td>\n",
       "      <td>0</td>\n",
       "      <td>0</td>\n",
       "      <td>1</td>\n",
       "      <td>0</td>\n",
       "      <td>0</td>\n",
       "    </tr>\n",
       "    <tr>\n",
       "      <th>8</th>\n",
       "      <td>0.0</td>\n",
       "      <td>0.0</td>\n",
       "      <td>0.0</td>\n",
       "      <td>0.0</td>\n",
       "      <td>0.0</td>\n",
       "      <td>0.0</td>\n",
       "      <td>0.0</td>\n",
       "      <td>0.0</td>\n",
       "      <td>0.0</td>\n",
       "      <td>1.0</td>\n",
       "      <td>...</td>\n",
       "      <td>0</td>\n",
       "      <td>1</td>\n",
       "      <td>0</td>\n",
       "      <td>0</td>\n",
       "      <td>0</td>\n",
       "      <td>0</td>\n",
       "      <td>0</td>\n",
       "      <td>1</td>\n",
       "      <td>0</td>\n",
       "      <td>0</td>\n",
       "    </tr>\n",
       "    <tr>\n",
       "      <th>...</th>\n",
       "      <td>...</td>\n",
       "      <td>...</td>\n",
       "      <td>...</td>\n",
       "      <td>...</td>\n",
       "      <td>...</td>\n",
       "      <td>...</td>\n",
       "      <td>...</td>\n",
       "      <td>...</td>\n",
       "      <td>...</td>\n",
       "      <td>...</td>\n",
       "      <td>...</td>\n",
       "      <td>...</td>\n",
       "      <td>...</td>\n",
       "      <td>...</td>\n",
       "      <td>...</td>\n",
       "      <td>...</td>\n",
       "      <td>...</td>\n",
       "      <td>...</td>\n",
       "      <td>...</td>\n",
       "      <td>...</td>\n",
       "      <td>...</td>\n",
       "    </tr>\n",
       "    <tr>\n",
       "      <th>47398</th>\n",
       "      <td>0.0</td>\n",
       "      <td>0.0</td>\n",
       "      <td>0.0</td>\n",
       "      <td>0.0</td>\n",
       "      <td>0.0</td>\n",
       "      <td>0.0</td>\n",
       "      <td>0.0</td>\n",
       "      <td>0.0</td>\n",
       "      <td>0.0</td>\n",
       "      <td>0.0</td>\n",
       "      <td>...</td>\n",
       "      <td>0</td>\n",
       "      <td>0</td>\n",
       "      <td>0</td>\n",
       "      <td>0</td>\n",
       "      <td>0</td>\n",
       "      <td>0</td>\n",
       "      <td>0</td>\n",
       "      <td>0</td>\n",
       "      <td>0</td>\n",
       "      <td>0</td>\n",
       "    </tr>\n",
       "    <tr>\n",
       "      <th>47402</th>\n",
       "      <td>0.0</td>\n",
       "      <td>0.0</td>\n",
       "      <td>0.0</td>\n",
       "      <td>0.0</td>\n",
       "      <td>0.0</td>\n",
       "      <td>0.0</td>\n",
       "      <td>0.0</td>\n",
       "      <td>0.0</td>\n",
       "      <td>0.0</td>\n",
       "      <td>0.0</td>\n",
       "      <td>...</td>\n",
       "      <td>0</td>\n",
       "      <td>0</td>\n",
       "      <td>0</td>\n",
       "      <td>0</td>\n",
       "      <td>0</td>\n",
       "      <td>0</td>\n",
       "      <td>0</td>\n",
       "      <td>0</td>\n",
       "      <td>0</td>\n",
       "      <td>0</td>\n",
       "    </tr>\n",
       "    <tr>\n",
       "      <th>47614</th>\n",
       "      <td>0.0</td>\n",
       "      <td>0.0</td>\n",
       "      <td>0.0</td>\n",
       "      <td>0.0</td>\n",
       "      <td>0.0</td>\n",
       "      <td>0.0</td>\n",
       "      <td>0.0</td>\n",
       "      <td>0.0</td>\n",
       "      <td>0.0</td>\n",
       "      <td>0.0</td>\n",
       "      <td>...</td>\n",
       "      <td>0</td>\n",
       "      <td>0</td>\n",
       "      <td>0</td>\n",
       "      <td>1</td>\n",
       "      <td>0</td>\n",
       "      <td>0</td>\n",
       "      <td>0</td>\n",
       "      <td>0</td>\n",
       "      <td>0</td>\n",
       "      <td>0</td>\n",
       "    </tr>\n",
       "    <tr>\n",
       "      <th>47616</th>\n",
       "      <td>0.0</td>\n",
       "      <td>0.0</td>\n",
       "      <td>0.0</td>\n",
       "      <td>0.0</td>\n",
       "      <td>0.0</td>\n",
       "      <td>0.0</td>\n",
       "      <td>0.0</td>\n",
       "      <td>0.0</td>\n",
       "      <td>0.0</td>\n",
       "      <td>0.0</td>\n",
       "      <td>...</td>\n",
       "      <td>0</td>\n",
       "      <td>1</td>\n",
       "      <td>0</td>\n",
       "      <td>0</td>\n",
       "      <td>0</td>\n",
       "      <td>0</td>\n",
       "      <td>0</td>\n",
       "      <td>1</td>\n",
       "      <td>1</td>\n",
       "      <td>0</td>\n",
       "    </tr>\n",
       "    <tr>\n",
       "      <th>48456</th>\n",
       "      <td>0.0</td>\n",
       "      <td>0.0</td>\n",
       "      <td>0.0</td>\n",
       "      <td>0.0</td>\n",
       "      <td>0.0</td>\n",
       "      <td>0.0</td>\n",
       "      <td>0.0</td>\n",
       "      <td>0.0</td>\n",
       "      <td>0.0</td>\n",
       "      <td>0.0</td>\n",
       "      <td>...</td>\n",
       "      <td>0</td>\n",
       "      <td>0</td>\n",
       "      <td>0</td>\n",
       "      <td>0</td>\n",
       "      <td>0</td>\n",
       "      <td>1</td>\n",
       "      <td>0</td>\n",
       "      <td>0</td>\n",
       "      <td>0</td>\n",
       "      <td>0</td>\n",
       "    </tr>\n",
       "  </tbody>\n",
       "</table>\n",
       "<p>10008 rows × 3986 columns</p>\n",
       "</div>"
      ],
      "text/plain": [
       "            0    1    2    3    4    5    6    7    8   11  ...  Shoujo Ai  \\\n",
       "anime_id                                                    ...              \n",
       "1         0.0  0.0  0.0  1.0  0.0  0.0  1.0  0.0  0.0  0.0  ...          0   \n",
       "5         0.0  0.0  0.0  0.0  0.0  0.0  0.0  0.0  0.0  0.0  ...          0   \n",
       "6         0.0  0.0  0.0  0.0  0.0  0.0  0.0  0.0  0.0  0.0  ...          0   \n",
       "7         0.0  0.0  0.0  0.0  0.0  0.0  0.0  0.0  0.0  0.0  ...          0   \n",
       "8         0.0  0.0  0.0  0.0  0.0  0.0  0.0  0.0  0.0  1.0  ...          0   \n",
       "...       ...  ...  ...  ...  ...  ...  ...  ...  ...  ...  ...        ...   \n",
       "47398     0.0  0.0  0.0  0.0  0.0  0.0  0.0  0.0  0.0  0.0  ...          0   \n",
       "47402     0.0  0.0  0.0  0.0  0.0  0.0  0.0  0.0  0.0  0.0  ...          0   \n",
       "47614     0.0  0.0  0.0  0.0  0.0  0.0  0.0  0.0  0.0  0.0  ...          0   \n",
       "47616     0.0  0.0  0.0  0.0  0.0  0.0  0.0  0.0  0.0  0.0  ...          0   \n",
       "48456     0.0  0.0  0.0  0.0  0.0  0.0  0.0  0.0  0.0  0.0  ...          0   \n",
       "\n",
       "          Shounen  Shounen Ai  Slice of Life  Space  Sports  Super Power  \\\n",
       "anime_id                                                                   \n",
       "1               0           0              0      1       0            0   \n",
       "5               0           0              0      1       0            0   \n",
       "6               1           0              0      0       0            0   \n",
       "7               0           0              0      0       0            0   \n",
       "8               1           0              0      0       0            0   \n",
       "...           ...         ...            ...    ...     ...          ...   \n",
       "47398           0           0              0      0       0            0   \n",
       "47402           0           0              0      0       0            0   \n",
       "47614           0           0              1      0       0            0   \n",
       "47616           1           0              0      0       0            0   \n",
       "48456           0           0              0      0       1            0   \n",
       "\n",
       "          Supernatural  Thriller  Vampire  \n",
       "anime_id                                   \n",
       "1                    0         0        0  \n",
       "5                    0         0        0  \n",
       "6                    0         0        0  \n",
       "7                    1         0        0  \n",
       "8                    1         0        0  \n",
       "...                ...       ...      ...  \n",
       "47398                0         0        0  \n",
       "47402                0         0        0  \n",
       "47614                0         0        0  \n",
       "47616                1         1        0  \n",
       "48456                0         0        0  \n",
       "\n",
       "[10008 rows x 3986 columns]"
      ]
     },
     "execution_count": 39,
     "metadata": {},
     "output_type": "execute_result"
    }
   ],
   "source": [
    "rating_complete_df_10PlusRatings_partial_pivot"
   ]
  },
  {
   "cell_type": "code",
   "execution_count": 40,
   "id": "f614a8a7",
   "metadata": {
    "hidden": true
   },
   "outputs": [
    {
     "data": {
      "text/html": [
       "<div>\n",
       "<style scoped>\n",
       "    .dataframe tbody tr th:only-of-type {\n",
       "        vertical-align: middle;\n",
       "    }\n",
       "\n",
       "    .dataframe tbody tr th {\n",
       "        vertical-align: top;\n",
       "    }\n",
       "\n",
       "    .dataframe thead th {\n",
       "        text-align: right;\n",
       "    }\n",
       "</style>\n",
       "<table border=\"1\" class=\"dataframe\">\n",
       "  <thead>\n",
       "    <tr style=\"text-align: right;\">\n",
       "      <th></th>\n",
       "      <th>anime_id</th>\n",
       "      <th>Name</th>\n",
       "    </tr>\n",
       "  </thead>\n",
       "  <tbody>\n",
       "    <tr>\n",
       "      <th>0</th>\n",
       "      <td>1</td>\n",
       "      <td>Cowboy Bebop</td>\n",
       "    </tr>\n",
       "    <tr>\n",
       "      <th>1</th>\n",
       "      <td>5</td>\n",
       "      <td>Cowboy Bebop: Tengoku no Tobira</td>\n",
       "    </tr>\n",
       "    <tr>\n",
       "      <th>2</th>\n",
       "      <td>6</td>\n",
       "      <td>Trigun</td>\n",
       "    </tr>\n",
       "    <tr>\n",
       "      <th>3</th>\n",
       "      <td>7</td>\n",
       "      <td>Witch Hunter Robin</td>\n",
       "    </tr>\n",
       "    <tr>\n",
       "      <th>4</th>\n",
       "      <td>8</td>\n",
       "      <td>Bouken Ou Beet</td>\n",
       "    </tr>\n",
       "    <tr>\n",
       "      <th>...</th>\n",
       "      <td>...</td>\n",
       "      <td>...</td>\n",
       "    </tr>\n",
       "    <tr>\n",
       "      <th>10003</th>\n",
       "      <td>47398</td>\n",
       "      <td>Kimetsu Gakuen: Valentine-hen</td>\n",
       "    </tr>\n",
       "    <tr>\n",
       "      <th>10004</th>\n",
       "      <td>47402</td>\n",
       "      <td>Heikousen</td>\n",
       "    </tr>\n",
       "    <tr>\n",
       "      <th>10005</th>\n",
       "      <td>47614</td>\n",
       "      <td>Nu Wushen de Canzhuo Spring Festival Special</td>\n",
       "    </tr>\n",
       "    <tr>\n",
       "      <th>10006</th>\n",
       "      <td>47616</td>\n",
       "      <td>Yakusoku no Neverland 2nd Season: Michishirube</td>\n",
       "    </tr>\n",
       "    <tr>\n",
       "      <th>10007</th>\n",
       "      <td>48456</td>\n",
       "      <td>SK∞: Crazy Rock Jam</td>\n",
       "    </tr>\n",
       "  </tbody>\n",
       "</table>\n",
       "<p>10008 rows × 2 columns</p>\n",
       "</div>"
      ],
      "text/plain": [
       "       anime_id                                            Name\n",
       "0             1                                    Cowboy Bebop\n",
       "1             5                 Cowboy Bebop: Tengoku no Tobira\n",
       "2             6                                          Trigun\n",
       "3             7                              Witch Hunter Robin\n",
       "4             8                                  Bouken Ou Beet\n",
       "...         ...                                             ...\n",
       "10003     47398                   Kimetsu Gakuen: Valentine-hen\n",
       "10004     47402                                       Heikousen\n",
       "10005     47614    Nu Wushen de Canzhuo Spring Festival Special\n",
       "10006     47616  Yakusoku no Neverland 2nd Season: Michishirube\n",
       "10007     48456                             SK∞: Crazy Rock Jam\n",
       "\n",
       "[10008 rows x 2 columns]"
      ]
     },
     "execution_count": 40,
     "metadata": {},
     "output_type": "execute_result"
    }
   ],
   "source": [
    "anime_complete_id_name_df_10PlusRatings = rating_complete_df_10PlusRatings_partial_merge[['anime_id','Name']].drop_duplicates()\n",
    "anime_complete_id_name_df_10PlusRatings = anime_complete_id_name_df_10PlusRatings.sort_values('anime_id')\n",
    "anime_complete_id_name_df_10PlusRatings = anime_complete_id_name_df_10PlusRatings.reset_index().drop(columns = 'index')\n",
    "anime_complete_id_name_df_10PlusRatings"
   ]
  },
  {
   "cell_type": "code",
   "execution_count": 41,
   "id": "39ced0e0",
   "metadata": {
    "hidden": true,
    "scrolled": false
   },
   "outputs": [
    {
     "data": {
      "text/html": [
       "<div>\n",
       "<style scoped>\n",
       "    .dataframe tbody tr th:only-of-type {\n",
       "        vertical-align: middle;\n",
       "    }\n",
       "\n",
       "    .dataframe tbody tr th {\n",
       "        vertical-align: top;\n",
       "    }\n",
       "\n",
       "    .dataframe thead th {\n",
       "        text-align: right;\n",
       "    }\n",
       "</style>\n",
       "<table border=\"1\" class=\"dataframe\">\n",
       "  <thead>\n",
       "    <tr style=\"text-align: right;\">\n",
       "      <th></th>\n",
       "      <th>user_id</th>\n",
       "      <th>anime_id</th>\n",
       "      <th>complete</th>\n",
       "      <th>Name</th>\n",
       "    </tr>\n",
       "  </thead>\n",
       "  <tbody>\n",
       "    <tr>\n",
       "      <th>0</th>\n",
       "      <td>1</td>\n",
       "      <td>22535</td>\n",
       "      <td>1</td>\n",
       "      <td>Kiseijuu: Sei no Kakuritsu</td>\n",
       "    </tr>\n",
       "    <tr>\n",
       "      <th>1</th>\n",
       "      <td>3</td>\n",
       "      <td>22535</td>\n",
       "      <td>1</td>\n",
       "      <td>Kiseijuu: Sei no Kakuritsu</td>\n",
       "    </tr>\n",
       "    <tr>\n",
       "      <th>2</th>\n",
       "      <td>17</td>\n",
       "      <td>22535</td>\n",
       "      <td>1</td>\n",
       "      <td>Kiseijuu: Sei no Kakuritsu</td>\n",
       "    </tr>\n",
       "    <tr>\n",
       "      <th>3</th>\n",
       "      <td>19</td>\n",
       "      <td>22535</td>\n",
       "      <td>1</td>\n",
       "      <td>Kiseijuu: Sei no Kakuritsu</td>\n",
       "    </tr>\n",
       "    <tr>\n",
       "      <th>4</th>\n",
       "      <td>42</td>\n",
       "      <td>22535</td>\n",
       "      <td>1</td>\n",
       "      <td>Kiseijuu: Sei no Kakuritsu</td>\n",
       "    </tr>\n",
       "    <tr>\n",
       "      <th>...</th>\n",
       "      <td>...</td>\n",
       "      <td>...</td>\n",
       "      <td>...</td>\n",
       "      <td>...</td>\n",
       "    </tr>\n",
       "    <tr>\n",
       "      <th>664214</th>\n",
       "      <td>4944</td>\n",
       "      <td>8146</td>\n",
       "      <td>1</td>\n",
       "      <td>Gegege no Kitarou: Daikaijuu</td>\n",
       "    </tr>\n",
       "    <tr>\n",
       "      <th>664215</th>\n",
       "      <td>4944</td>\n",
       "      <td>32888</td>\n",
       "      <td>1</td>\n",
       "      <td>Sinbad: Mahiru no Yoru to Fushigi no Mon</td>\n",
       "    </tr>\n",
       "    <tr>\n",
       "      <th>664216</th>\n",
       "      <td>4944</td>\n",
       "      <td>21305</td>\n",
       "      <td>1</td>\n",
       "      <td>Trick or Alice</td>\n",
       "    </tr>\n",
       "    <tr>\n",
       "      <th>664217</th>\n",
       "      <td>4986</td>\n",
       "      <td>39284</td>\n",
       "      <td>1</td>\n",
       "      <td>Tsuki no Uta</td>\n",
       "    </tr>\n",
       "    <tr>\n",
       "      <th>664218</th>\n",
       "      <td>4993</td>\n",
       "      <td>16756</td>\n",
       "      <td>1</td>\n",
       "      <td>Kuiba: Zhi Shiwanhuoji</td>\n",
       "    </tr>\n",
       "  </tbody>\n",
       "</table>\n",
       "<p>664219 rows × 4 columns</p>\n",
       "</div>"
      ],
      "text/plain": [
       "        user_id  anime_id  complete                                      Name\n",
       "0             1     22535         1                Kiseijuu: Sei no Kakuritsu\n",
       "1             3     22535         1                Kiseijuu: Sei no Kakuritsu\n",
       "2            17     22535         1                Kiseijuu: Sei no Kakuritsu\n",
       "3            19     22535         1                Kiseijuu: Sei no Kakuritsu\n",
       "4            42     22535         1                Kiseijuu: Sei no Kakuritsu\n",
       "...         ...       ...       ...                                       ...\n",
       "664214     4944      8146         1              Gegege no Kitarou: Daikaijuu\n",
       "664215     4944     32888         1  Sinbad: Mahiru no Yoru to Fushigi no Mon\n",
       "664216     4944     21305         1                            Trick or Alice\n",
       "664217     4986     39284         1                              Tsuki no Uta\n",
       "664218     4993     16756         1                    Kuiba: Zhi Shiwanhuoji\n",
       "\n",
       "[664219 rows x 4 columns]"
      ]
     },
     "execution_count": 41,
     "metadata": {},
     "output_type": "execute_result"
    }
   ],
   "source": [
    "rating_complete_df_100PlusRatings_partial_merge['rating'] = 1\n",
    "rating_complete_df_100PlusRatings_partial_merge.rename(columns={'rating' : 'complete'}, inplace =True)\n",
    "rating_complete_df_100PlusRatings_partial_merge"
   ]
  },
  {
   "cell_type": "code",
   "execution_count": 42,
   "id": "00a4c76a",
   "metadata": {
    "hidden": true
   },
   "outputs": [],
   "source": [
    "rating_complete_df_100PlusRatings_partial_pivot = rating_complete_df_100PlusRatings_partial_merge.pivot_table(index='anime_id',columns='user_id',values='complete').fillna(0)"
   ]
  },
  {
   "cell_type": "code",
   "execution_count": 43,
   "id": "84297174",
   "metadata": {
    "hidden": true,
    "scrolled": true
   },
   "outputs": [],
   "source": [
    "rating_complete_df_100PlusRatings_partial_pivot = rating_complete_df_100PlusRatings_partial_pivot.merge(anime_Genres_df_encoded, how='inner',left_index=True, right_index=True)"
   ]
  },
  {
   "cell_type": "code",
   "execution_count": 44,
   "id": "e959c69d",
   "metadata": {
    "hidden": true
   },
   "outputs": [
    {
     "data": {
      "text/html": [
       "<div>\n",
       "<style scoped>\n",
       "    .dataframe tbody tr th:only-of-type {\n",
       "        vertical-align: middle;\n",
       "    }\n",
       "\n",
       "    .dataframe tbody tr th {\n",
       "        vertical-align: top;\n",
       "    }\n",
       "\n",
       "    .dataframe thead th {\n",
       "        text-align: right;\n",
       "    }\n",
       "</style>\n",
       "<table border=\"1\" class=\"dataframe\">\n",
       "  <thead>\n",
       "    <tr style=\"text-align: right;\">\n",
       "      <th></th>\n",
       "      <th>1</th>\n",
       "      <th>3</th>\n",
       "      <th>4</th>\n",
       "      <th>6</th>\n",
       "      <th>11</th>\n",
       "      <th>16</th>\n",
       "      <th>17</th>\n",
       "      <th>19</th>\n",
       "      <th>21</th>\n",
       "      <th>25</th>\n",
       "      <th>...</th>\n",
       "      <th>Shoujo Ai</th>\n",
       "      <th>Shounen</th>\n",
       "      <th>Shounen Ai</th>\n",
       "      <th>Slice of Life</th>\n",
       "      <th>Space</th>\n",
       "      <th>Sports</th>\n",
       "      <th>Super Power</th>\n",
       "      <th>Supernatural</th>\n",
       "      <th>Thriller</th>\n",
       "      <th>Vampire</th>\n",
       "    </tr>\n",
       "    <tr>\n",
       "      <th>anime_id</th>\n",
       "      <th></th>\n",
       "      <th></th>\n",
       "      <th></th>\n",
       "      <th></th>\n",
       "      <th></th>\n",
       "      <th></th>\n",
       "      <th></th>\n",
       "      <th></th>\n",
       "      <th></th>\n",
       "      <th></th>\n",
       "      <th></th>\n",
       "      <th></th>\n",
       "      <th></th>\n",
       "      <th></th>\n",
       "      <th></th>\n",
       "      <th></th>\n",
       "      <th></th>\n",
       "      <th></th>\n",
       "      <th></th>\n",
       "      <th></th>\n",
       "      <th></th>\n",
       "    </tr>\n",
       "  </thead>\n",
       "  <tbody>\n",
       "    <tr>\n",
       "      <th>1</th>\n",
       "      <td>0.0</td>\n",
       "      <td>1.0</td>\n",
       "      <td>0.0</td>\n",
       "      <td>1.0</td>\n",
       "      <td>0.0</td>\n",
       "      <td>0.0</td>\n",
       "      <td>0.0</td>\n",
       "      <td>1.0</td>\n",
       "      <td>0.0</td>\n",
       "      <td>0.0</td>\n",
       "      <td>...</td>\n",
       "      <td>0</td>\n",
       "      <td>0</td>\n",
       "      <td>0</td>\n",
       "      <td>0</td>\n",
       "      <td>1</td>\n",
       "      <td>0</td>\n",
       "      <td>0</td>\n",
       "      <td>0</td>\n",
       "      <td>0</td>\n",
       "      <td>0</td>\n",
       "    </tr>\n",
       "    <tr>\n",
       "      <th>5</th>\n",
       "      <td>0.0</td>\n",
       "      <td>0.0</td>\n",
       "      <td>0.0</td>\n",
       "      <td>0.0</td>\n",
       "      <td>0.0</td>\n",
       "      <td>0.0</td>\n",
       "      <td>0.0</td>\n",
       "      <td>1.0</td>\n",
       "      <td>0.0</td>\n",
       "      <td>0.0</td>\n",
       "      <td>...</td>\n",
       "      <td>0</td>\n",
       "      <td>0</td>\n",
       "      <td>0</td>\n",
       "      <td>0</td>\n",
       "      <td>1</td>\n",
       "      <td>0</td>\n",
       "      <td>0</td>\n",
       "      <td>0</td>\n",
       "      <td>0</td>\n",
       "      <td>0</td>\n",
       "    </tr>\n",
       "    <tr>\n",
       "      <th>6</th>\n",
       "      <td>0.0</td>\n",
       "      <td>0.0</td>\n",
       "      <td>0.0</td>\n",
       "      <td>0.0</td>\n",
       "      <td>0.0</td>\n",
       "      <td>0.0</td>\n",
       "      <td>0.0</td>\n",
       "      <td>1.0</td>\n",
       "      <td>0.0</td>\n",
       "      <td>0.0</td>\n",
       "      <td>...</td>\n",
       "      <td>0</td>\n",
       "      <td>1</td>\n",
       "      <td>0</td>\n",
       "      <td>0</td>\n",
       "      <td>0</td>\n",
       "      <td>0</td>\n",
       "      <td>0</td>\n",
       "      <td>0</td>\n",
       "      <td>0</td>\n",
       "      <td>0</td>\n",
       "    </tr>\n",
       "    <tr>\n",
       "      <th>7</th>\n",
       "      <td>0.0</td>\n",
       "      <td>0.0</td>\n",
       "      <td>0.0</td>\n",
       "      <td>0.0</td>\n",
       "      <td>0.0</td>\n",
       "      <td>0.0</td>\n",
       "      <td>0.0</td>\n",
       "      <td>0.0</td>\n",
       "      <td>0.0</td>\n",
       "      <td>0.0</td>\n",
       "      <td>...</td>\n",
       "      <td>0</td>\n",
       "      <td>0</td>\n",
       "      <td>0</td>\n",
       "      <td>0</td>\n",
       "      <td>0</td>\n",
       "      <td>0</td>\n",
       "      <td>0</td>\n",
       "      <td>1</td>\n",
       "      <td>0</td>\n",
       "      <td>0</td>\n",
       "    </tr>\n",
       "    <tr>\n",
       "      <th>8</th>\n",
       "      <td>0.0</td>\n",
       "      <td>0.0</td>\n",
       "      <td>0.0</td>\n",
       "      <td>0.0</td>\n",
       "      <td>1.0</td>\n",
       "      <td>0.0</td>\n",
       "      <td>0.0</td>\n",
       "      <td>0.0</td>\n",
       "      <td>0.0</td>\n",
       "      <td>0.0</td>\n",
       "      <td>...</td>\n",
       "      <td>0</td>\n",
       "      <td>1</td>\n",
       "      <td>0</td>\n",
       "      <td>0</td>\n",
       "      <td>0</td>\n",
       "      <td>0</td>\n",
       "      <td>0</td>\n",
       "      <td>1</td>\n",
       "      <td>0</td>\n",
       "      <td>0</td>\n",
       "    </tr>\n",
       "    <tr>\n",
       "      <th>...</th>\n",
       "      <td>...</td>\n",
       "      <td>...</td>\n",
       "      <td>...</td>\n",
       "      <td>...</td>\n",
       "      <td>...</td>\n",
       "      <td>...</td>\n",
       "      <td>...</td>\n",
       "      <td>...</td>\n",
       "      <td>...</td>\n",
       "      <td>...</td>\n",
       "      <td>...</td>\n",
       "      <td>...</td>\n",
       "      <td>...</td>\n",
       "      <td>...</td>\n",
       "      <td>...</td>\n",
       "      <td>...</td>\n",
       "      <td>...</td>\n",
       "      <td>...</td>\n",
       "      <td>...</td>\n",
       "      <td>...</td>\n",
       "      <td>...</td>\n",
       "    </tr>\n",
       "    <tr>\n",
       "      <th>47398</th>\n",
       "      <td>0.0</td>\n",
       "      <td>0.0</td>\n",
       "      <td>0.0</td>\n",
       "      <td>0.0</td>\n",
       "      <td>0.0</td>\n",
       "      <td>0.0</td>\n",
       "      <td>0.0</td>\n",
       "      <td>0.0</td>\n",
       "      <td>0.0</td>\n",
       "      <td>0.0</td>\n",
       "      <td>...</td>\n",
       "      <td>0</td>\n",
       "      <td>0</td>\n",
       "      <td>0</td>\n",
       "      <td>0</td>\n",
       "      <td>0</td>\n",
       "      <td>0</td>\n",
       "      <td>0</td>\n",
       "      <td>0</td>\n",
       "      <td>0</td>\n",
       "      <td>0</td>\n",
       "    </tr>\n",
       "    <tr>\n",
       "      <th>47402</th>\n",
       "      <td>0.0</td>\n",
       "      <td>0.0</td>\n",
       "      <td>0.0</td>\n",
       "      <td>0.0</td>\n",
       "      <td>0.0</td>\n",
       "      <td>0.0</td>\n",
       "      <td>0.0</td>\n",
       "      <td>0.0</td>\n",
       "      <td>0.0</td>\n",
       "      <td>0.0</td>\n",
       "      <td>...</td>\n",
       "      <td>0</td>\n",
       "      <td>0</td>\n",
       "      <td>0</td>\n",
       "      <td>0</td>\n",
       "      <td>0</td>\n",
       "      <td>0</td>\n",
       "      <td>0</td>\n",
       "      <td>0</td>\n",
       "      <td>0</td>\n",
       "      <td>0</td>\n",
       "    </tr>\n",
       "    <tr>\n",
       "      <th>47614</th>\n",
       "      <td>0.0</td>\n",
       "      <td>0.0</td>\n",
       "      <td>0.0</td>\n",
       "      <td>0.0</td>\n",
       "      <td>0.0</td>\n",
       "      <td>0.0</td>\n",
       "      <td>0.0</td>\n",
       "      <td>0.0</td>\n",
       "      <td>0.0</td>\n",
       "      <td>0.0</td>\n",
       "      <td>...</td>\n",
       "      <td>0</td>\n",
       "      <td>0</td>\n",
       "      <td>0</td>\n",
       "      <td>1</td>\n",
       "      <td>0</td>\n",
       "      <td>0</td>\n",
       "      <td>0</td>\n",
       "      <td>0</td>\n",
       "      <td>0</td>\n",
       "      <td>0</td>\n",
       "    </tr>\n",
       "    <tr>\n",
       "      <th>47616</th>\n",
       "      <td>0.0</td>\n",
       "      <td>0.0</td>\n",
       "      <td>0.0</td>\n",
       "      <td>0.0</td>\n",
       "      <td>0.0</td>\n",
       "      <td>0.0</td>\n",
       "      <td>0.0</td>\n",
       "      <td>0.0</td>\n",
       "      <td>0.0</td>\n",
       "      <td>0.0</td>\n",
       "      <td>...</td>\n",
       "      <td>0</td>\n",
       "      <td>1</td>\n",
       "      <td>0</td>\n",
       "      <td>0</td>\n",
       "      <td>0</td>\n",
       "      <td>0</td>\n",
       "      <td>0</td>\n",
       "      <td>1</td>\n",
       "      <td>1</td>\n",
       "      <td>0</td>\n",
       "    </tr>\n",
       "    <tr>\n",
       "      <th>48456</th>\n",
       "      <td>0.0</td>\n",
       "      <td>0.0</td>\n",
       "      <td>0.0</td>\n",
       "      <td>0.0</td>\n",
       "      <td>0.0</td>\n",
       "      <td>0.0</td>\n",
       "      <td>0.0</td>\n",
       "      <td>0.0</td>\n",
       "      <td>0.0</td>\n",
       "      <td>0.0</td>\n",
       "      <td>...</td>\n",
       "      <td>0</td>\n",
       "      <td>0</td>\n",
       "      <td>0</td>\n",
       "      <td>0</td>\n",
       "      <td>0</td>\n",
       "      <td>1</td>\n",
       "      <td>0</td>\n",
       "      <td>0</td>\n",
       "      <td>0</td>\n",
       "      <td>0</td>\n",
       "    </tr>\n",
       "  </tbody>\n",
       "</table>\n",
       "<p>9990 rows × 2351 columns</p>\n",
       "</div>"
      ],
      "text/plain": [
       "            1    3    4    6   11   16   17   19   21   25  ...  Shoujo Ai  \\\n",
       "anime_id                                                    ...              \n",
       "1         0.0  1.0  0.0  1.0  0.0  0.0  0.0  1.0  0.0  0.0  ...          0   \n",
       "5         0.0  0.0  0.0  0.0  0.0  0.0  0.0  1.0  0.0  0.0  ...          0   \n",
       "6         0.0  0.0  0.0  0.0  0.0  0.0  0.0  1.0  0.0  0.0  ...          0   \n",
       "7         0.0  0.0  0.0  0.0  0.0  0.0  0.0  0.0  0.0  0.0  ...          0   \n",
       "8         0.0  0.0  0.0  0.0  1.0  0.0  0.0  0.0  0.0  0.0  ...          0   \n",
       "...       ...  ...  ...  ...  ...  ...  ...  ...  ...  ...  ...        ...   \n",
       "47398     0.0  0.0  0.0  0.0  0.0  0.0  0.0  0.0  0.0  0.0  ...          0   \n",
       "47402     0.0  0.0  0.0  0.0  0.0  0.0  0.0  0.0  0.0  0.0  ...          0   \n",
       "47614     0.0  0.0  0.0  0.0  0.0  0.0  0.0  0.0  0.0  0.0  ...          0   \n",
       "47616     0.0  0.0  0.0  0.0  0.0  0.0  0.0  0.0  0.0  0.0  ...          0   \n",
       "48456     0.0  0.0  0.0  0.0  0.0  0.0  0.0  0.0  0.0  0.0  ...          0   \n",
       "\n",
       "          Shounen  Shounen Ai  Slice of Life  Space  Sports  Super Power  \\\n",
       "anime_id                                                                   \n",
       "1               0           0              0      1       0            0   \n",
       "5               0           0              0      1       0            0   \n",
       "6               1           0              0      0       0            0   \n",
       "7               0           0              0      0       0            0   \n",
       "8               1           0              0      0       0            0   \n",
       "...           ...         ...            ...    ...     ...          ...   \n",
       "47398           0           0              0      0       0            0   \n",
       "47402           0           0              0      0       0            0   \n",
       "47614           0           0              1      0       0            0   \n",
       "47616           1           0              0      0       0            0   \n",
       "48456           0           0              0      0       1            0   \n",
       "\n",
       "          Supernatural  Thriller  Vampire  \n",
       "anime_id                                   \n",
       "1                    0         0        0  \n",
       "5                    0         0        0  \n",
       "6                    0         0        0  \n",
       "7                    1         0        0  \n",
       "8                    1         0        0  \n",
       "...                ...       ...      ...  \n",
       "47398                0         0        0  \n",
       "47402                0         0        0  \n",
       "47614                0         0        0  \n",
       "47616                1         1        0  \n",
       "48456                0         0        0  \n",
       "\n",
       "[9990 rows x 2351 columns]"
      ]
     },
     "execution_count": 44,
     "metadata": {},
     "output_type": "execute_result"
    }
   ],
   "source": [
    "rating_complete_df_100PlusRatings_partial_pivot"
   ]
  },
  {
   "cell_type": "code",
   "execution_count": 45,
   "id": "e2f8c75e",
   "metadata": {
    "hidden": true,
    "scrolled": true
   },
   "outputs": [
    {
     "data": {
      "text/html": [
       "<div>\n",
       "<style scoped>\n",
       "    .dataframe tbody tr th:only-of-type {\n",
       "        vertical-align: middle;\n",
       "    }\n",
       "\n",
       "    .dataframe tbody tr th {\n",
       "        vertical-align: top;\n",
       "    }\n",
       "\n",
       "    .dataframe thead th {\n",
       "        text-align: right;\n",
       "    }\n",
       "</style>\n",
       "<table border=\"1\" class=\"dataframe\">\n",
       "  <thead>\n",
       "    <tr style=\"text-align: right;\">\n",
       "      <th></th>\n",
       "      <th>anime_id</th>\n",
       "      <th>Name</th>\n",
       "    </tr>\n",
       "  </thead>\n",
       "  <tbody>\n",
       "    <tr>\n",
       "      <th>0</th>\n",
       "      <td>1</td>\n",
       "      <td>Cowboy Bebop</td>\n",
       "    </tr>\n",
       "    <tr>\n",
       "      <th>1</th>\n",
       "      <td>5</td>\n",
       "      <td>Cowboy Bebop: Tengoku no Tobira</td>\n",
       "    </tr>\n",
       "    <tr>\n",
       "      <th>2</th>\n",
       "      <td>6</td>\n",
       "      <td>Trigun</td>\n",
       "    </tr>\n",
       "    <tr>\n",
       "      <th>3</th>\n",
       "      <td>7</td>\n",
       "      <td>Witch Hunter Robin</td>\n",
       "    </tr>\n",
       "    <tr>\n",
       "      <th>4</th>\n",
       "      <td>8</td>\n",
       "      <td>Bouken Ou Beet</td>\n",
       "    </tr>\n",
       "    <tr>\n",
       "      <th>...</th>\n",
       "      <td>...</td>\n",
       "      <td>...</td>\n",
       "    </tr>\n",
       "    <tr>\n",
       "      <th>9985</th>\n",
       "      <td>47398</td>\n",
       "      <td>Kimetsu Gakuen: Valentine-hen</td>\n",
       "    </tr>\n",
       "    <tr>\n",
       "      <th>9986</th>\n",
       "      <td>47402</td>\n",
       "      <td>Heikousen</td>\n",
       "    </tr>\n",
       "    <tr>\n",
       "      <th>9987</th>\n",
       "      <td>47614</td>\n",
       "      <td>Nu Wushen de Canzhuo Spring Festival Special</td>\n",
       "    </tr>\n",
       "    <tr>\n",
       "      <th>9988</th>\n",
       "      <td>47616</td>\n",
       "      <td>Yakusoku no Neverland 2nd Season: Michishirube</td>\n",
       "    </tr>\n",
       "    <tr>\n",
       "      <th>9989</th>\n",
       "      <td>48456</td>\n",
       "      <td>SK∞: Crazy Rock Jam</td>\n",
       "    </tr>\n",
       "  </tbody>\n",
       "</table>\n",
       "<p>9990 rows × 2 columns</p>\n",
       "</div>"
      ],
      "text/plain": [
       "      anime_id                                            Name\n",
       "0            1                                    Cowboy Bebop\n",
       "1            5                 Cowboy Bebop: Tengoku no Tobira\n",
       "2            6                                          Trigun\n",
       "3            7                              Witch Hunter Robin\n",
       "4            8                                  Bouken Ou Beet\n",
       "...        ...                                             ...\n",
       "9985     47398                   Kimetsu Gakuen: Valentine-hen\n",
       "9986     47402                                       Heikousen\n",
       "9987     47614    Nu Wushen de Canzhuo Spring Festival Special\n",
       "9988     47616  Yakusoku no Neverland 2nd Season: Michishirube\n",
       "9989     48456                             SK∞: Crazy Rock Jam\n",
       "\n",
       "[9990 rows x 2 columns]"
      ]
     },
     "execution_count": 45,
     "metadata": {},
     "output_type": "execute_result"
    }
   ],
   "source": [
    "anime_complete_id_name_df_100PlusRatings = rating_complete_df_100PlusRatings_partial_merge[['anime_id','Name']].drop_duplicates()\n",
    "anime_complete_id_name_df_100PlusRatings = anime_complete_id_name_df_100PlusRatings.sort_values('anime_id')\n",
    "anime_complete_id_name_df_100PlusRatings = anime_complete_id_name_df_100PlusRatings.reset_index().drop(columns = 'index')\n",
    "anime_complete_id_name_df_100PlusRatings"
   ]
  },
  {
   "cell_type": "markdown",
   "id": "9de5e478",
   "metadata": {},
   "source": [
    "## reduction of param (PCA or SVD)"
   ]
  },
  {
   "cell_type": "raw",
   "id": "6463bf5d",
   "metadata": {},
   "source": [
    "active_users_df_10PlusRatings_partial_pivot\n",
    "active_users_df_100PlusRatings_partial_pivot\n",
    "\n",
    "rating_complete_df_10PlusRatings_partial_pivot\n",
    "rating_complete_df_100PlusRatings_partial_pivot"
   ]
  },
  {
   "cell_type": "code",
   "execution_count": 46,
   "id": "07879c9a",
   "metadata": {},
   "outputs": [],
   "source": [
    "pca_active_users_10Plus = PCA(n_components=3)\n",
    "pca_active_users_10Plus.fit(active_users_df_10PlusRatings_partial_pivot)\n",
    "pca_active_users_10Plus_array = pca_active_users_10Plus.transform(active_users_df_10PlusRatings_partial_pivot)"
   ]
  },
  {
   "cell_type": "code",
   "execution_count": 47,
   "id": "5962b762",
   "metadata": {},
   "outputs": [],
   "source": [
    "pca_pivot = pd.DataFrame(pca_active_users_10Plus_array)"
   ]
  },
  {
   "cell_type": "code",
   "execution_count": 48,
   "id": "5ec196f7",
   "metadata": {
    "scrolled": false
   },
   "outputs": [
    {
     "data": {
      "text/plain": [
       "(10182, 3)"
      ]
     },
     "execution_count": 48,
     "metadata": {},
     "output_type": "execute_result"
    }
   ],
   "source": [
    "pca_pivot.shape"
   ]
  },
  {
   "cell_type": "code",
   "execution_count": 117,
   "id": "a6b49de0",
   "metadata": {
    "collapsed": true
   },
   "outputs": [
    {
     "data": {
      "text/html": [
       "<div>\n",
       "<style scoped>\n",
       "    .dataframe tbody tr th:only-of-type {\n",
       "        vertical-align: middle;\n",
       "    }\n",
       "\n",
       "    .dataframe tbody tr th {\n",
       "        vertical-align: top;\n",
       "    }\n",
       "\n",
       "    .dataframe thead th {\n",
       "        text-align: right;\n",
       "    }\n",
       "</style>\n",
       "<table border=\"1\" class=\"dataframe\">\n",
       "  <thead>\n",
       "    <tr style=\"text-align: right;\">\n",
       "      <th></th>\n",
       "      <th>0</th>\n",
       "      <th>1</th>\n",
       "      <th>2</th>\n",
       "    </tr>\n",
       "  </thead>\n",
       "  <tbody>\n",
       "    <tr>\n",
       "      <th>0</th>\n",
       "      <td>14.973474</td>\n",
       "      <td>-7.181331</td>\n",
       "      <td>9.280269</td>\n",
       "    </tr>\n",
       "    <tr>\n",
       "      <th>1</th>\n",
       "      <td>5.144747</td>\n",
       "      <td>-5.312005</td>\n",
       "      <td>4.864345</td>\n",
       "    </tr>\n",
       "    <tr>\n",
       "      <th>2</th>\n",
       "      <td>8.543868</td>\n",
       "      <td>-6.687881</td>\n",
       "      <td>4.234830</td>\n",
       "    </tr>\n",
       "    <tr>\n",
       "      <th>3</th>\n",
       "      <td>0.570770</td>\n",
       "      <td>-2.244989</td>\n",
       "      <td>0.798736</td>\n",
       "    </tr>\n",
       "    <tr>\n",
       "      <th>4</th>\n",
       "      <td>-0.906365</td>\n",
       "      <td>-0.307923</td>\n",
       "      <td>0.190090</td>\n",
       "    </tr>\n",
       "    <tr>\n",
       "      <th>...</th>\n",
       "      <td>...</td>\n",
       "      <td>...</td>\n",
       "      <td>...</td>\n",
       "    </tr>\n",
       "    <tr>\n",
       "      <th>10177</th>\n",
       "      <td>-1.058466</td>\n",
       "      <td>0.310484</td>\n",
       "      <td>0.160363</td>\n",
       "    </tr>\n",
       "    <tr>\n",
       "      <th>10178</th>\n",
       "      <td>-1.255976</td>\n",
       "      <td>0.223132</td>\n",
       "      <td>0.032974</td>\n",
       "    </tr>\n",
       "    <tr>\n",
       "      <th>10179</th>\n",
       "      <td>-1.252122</td>\n",
       "      <td>0.215585</td>\n",
       "      <td>0.008044</td>\n",
       "    </tr>\n",
       "    <tr>\n",
       "      <th>10180</th>\n",
       "      <td>-1.078276</td>\n",
       "      <td>0.319846</td>\n",
       "      <td>0.257111</td>\n",
       "    </tr>\n",
       "    <tr>\n",
       "      <th>10181</th>\n",
       "      <td>-1.217555</td>\n",
       "      <td>0.250836</td>\n",
       "      <td>0.067298</td>\n",
       "    </tr>\n",
       "  </tbody>\n",
       "</table>\n",
       "<p>10182 rows × 3 columns</p>\n",
       "</div>"
      ],
      "text/plain": [
       "               0         1         2\n",
       "0      14.973474 -7.181331  9.280269\n",
       "1       5.144747 -5.312005  4.864345\n",
       "2       8.543868 -6.687881  4.234830\n",
       "3       0.570770 -2.244989  0.798736\n",
       "4      -0.906365 -0.307923  0.190090\n",
       "...          ...       ...       ...\n",
       "10177  -1.058466  0.310484  0.160363\n",
       "10178  -1.255976  0.223132  0.032974\n",
       "10179  -1.252122  0.215585  0.008044\n",
       "10180  -1.078276  0.319846  0.257111\n",
       "10181  -1.217555  0.250836  0.067298\n",
       "\n",
       "[10182 rows x 3 columns]"
      ]
     },
     "execution_count": 117,
     "metadata": {},
     "output_type": "execute_result"
    }
   ],
   "source": [
    "pca_pivot"
   ]
  },
  {
   "cell_type": "code",
   "execution_count": 126,
   "id": "09fdaafc",
   "metadata": {},
   "outputs": [],
   "source": [
    "pca_pivot_ = pca_pivot.merge(anime_id_name_df_10PlusRatings[['anime_id']], how='inner',left_index=True, right_index=True)"
   ]
  },
  {
   "cell_type": "code",
   "execution_count": 173,
   "id": "bf76ef73",
   "metadata": {},
   "outputs": [],
   "source": [
    "pca_pivot_.set_index('anime_id', inplace = True)"
   ]
  },
  {
   "cell_type": "code",
   "execution_count": 174,
   "id": "562f9256",
   "metadata": {},
   "outputs": [
    {
     "data": {
      "text/html": [
       "<div>\n",
       "<style scoped>\n",
       "    .dataframe tbody tr th:only-of-type {\n",
       "        vertical-align: middle;\n",
       "    }\n",
       "\n",
       "    .dataframe tbody tr th {\n",
       "        vertical-align: top;\n",
       "    }\n",
       "\n",
       "    .dataframe thead th {\n",
       "        text-align: right;\n",
       "    }\n",
       "</style>\n",
       "<table border=\"1\" class=\"dataframe\">\n",
       "  <thead>\n",
       "    <tr style=\"text-align: right;\">\n",
       "      <th></th>\n",
       "      <th>0</th>\n",
       "      <th>1</th>\n",
       "      <th>2</th>\n",
       "    </tr>\n",
       "    <tr>\n",
       "      <th>anime_id</th>\n",
       "      <th></th>\n",
       "      <th></th>\n",
       "      <th></th>\n",
       "    </tr>\n",
       "  </thead>\n",
       "  <tbody>\n",
       "    <tr>\n",
       "      <th>1</th>\n",
       "      <td>14.973474</td>\n",
       "      <td>-7.181331</td>\n",
       "      <td>9.280269</td>\n",
       "    </tr>\n",
       "    <tr>\n",
       "      <th>5</th>\n",
       "      <td>5.144747</td>\n",
       "      <td>-5.312005</td>\n",
       "      <td>4.864345</td>\n",
       "    </tr>\n",
       "    <tr>\n",
       "      <th>6</th>\n",
       "      <td>8.543868</td>\n",
       "      <td>-6.687881</td>\n",
       "      <td>4.234830</td>\n",
       "    </tr>\n",
       "    <tr>\n",
       "      <th>7</th>\n",
       "      <td>0.570770</td>\n",
       "      <td>-2.244989</td>\n",
       "      <td>0.798736</td>\n",
       "    </tr>\n",
       "    <tr>\n",
       "      <th>8</th>\n",
       "      <td>-0.906365</td>\n",
       "      <td>-0.307923</td>\n",
       "      <td>0.190090</td>\n",
       "    </tr>\n",
       "    <tr>\n",
       "      <th>...</th>\n",
       "      <td>...</td>\n",
       "      <td>...</td>\n",
       "      <td>...</td>\n",
       "    </tr>\n",
       "    <tr>\n",
       "      <th>47398</th>\n",
       "      <td>-1.058466</td>\n",
       "      <td>0.310484</td>\n",
       "      <td>0.160363</td>\n",
       "    </tr>\n",
       "    <tr>\n",
       "      <th>47402</th>\n",
       "      <td>-1.255976</td>\n",
       "      <td>0.223132</td>\n",
       "      <td>0.032974</td>\n",
       "    </tr>\n",
       "    <tr>\n",
       "      <th>47614</th>\n",
       "      <td>-1.252122</td>\n",
       "      <td>0.215585</td>\n",
       "      <td>0.008044</td>\n",
       "    </tr>\n",
       "    <tr>\n",
       "      <th>47616</th>\n",
       "      <td>-1.078276</td>\n",
       "      <td>0.319846</td>\n",
       "      <td>0.257111</td>\n",
       "    </tr>\n",
       "    <tr>\n",
       "      <th>48456</th>\n",
       "      <td>-1.217555</td>\n",
       "      <td>0.250836</td>\n",
       "      <td>0.067298</td>\n",
       "    </tr>\n",
       "  </tbody>\n",
       "</table>\n",
       "<p>10182 rows × 3 columns</p>\n",
       "</div>"
      ],
      "text/plain": [
       "                  0         1         2\n",
       "anime_id                               \n",
       "1         14.973474 -7.181331  9.280269\n",
       "5          5.144747 -5.312005  4.864345\n",
       "6          8.543868 -6.687881  4.234830\n",
       "7          0.570770 -2.244989  0.798736\n",
       "8         -0.906365 -0.307923  0.190090\n",
       "...             ...       ...       ...\n",
       "47398     -1.058466  0.310484  0.160363\n",
       "47402     -1.255976  0.223132  0.032974\n",
       "47614     -1.252122  0.215585  0.008044\n",
       "47616     -1.078276  0.319846  0.257111\n",
       "48456     -1.217555  0.250836  0.067298\n",
       "\n",
       "[10182 rows x 3 columns]"
      ]
     },
     "execution_count": 174,
     "metadata": {},
     "output_type": "execute_result"
    }
   ],
   "source": [
    "pca_pivot_"
   ]
  },
  {
   "cell_type": "code",
   "execution_count": 50,
   "id": "5bb06956",
   "metadata": {},
   "outputs": [
    {
     "name": "stderr",
     "output_type": "stream",
     "text": [
      "/tmp/ipykernel_2495/4172376148.py:5: MatplotlibDeprecationWarning: Axes3D(fig) adding itself to the figure is deprecated since 3.4. Pass the keyword argument auto_add_to_figure=False and use fig.add_axes(ax) to suppress this warning. The default value of auto_add_to_figure will change to False in mpl3.5 and True values will no longer work in 3.6.  This is consistent with other Axes classes.\n",
      "  ax = Axes3D(fig)\n"
     ]
    },
    {
     "data": {
      "image/png": "[encoded data removed]",
      "text/plain": [
       "<Figure size 1152x648 with 1 Axes>"
      ]
     },
     "metadata": {
      "needs_background": "light"
     },
     "output_type": "display_data"
    }
   ],
   "source": [
    "plt.rcParams['figure.figsize'] = (16, 9)\n",
    "\n",
    "\n",
    "fig = plt.figure()\n",
    "ax = Axes3D(fig)\n",
    "ax.scatter(pca_pivot[0], pca_pivot[2], pca_pivot[1])\n",
    "\n",
    "plt.title('Data points in 3D PCA axis', fontsize=20)\n",
    "plt.show()"
   ]
  },
  {
   "cell_type": "markdown",
   "id": "73041a59",
   "metadata": {},
   "source": [
    "## KNN"
   ]
  },
  {
   "cell_type": "markdown",
   "id": "d59cf7ca",
   "metadata": {},
   "source": [
    "### for active_users_df_10PlusRatings_partial_pivot"
   ]
  },
  {
   "cell_type": "code",
   "execution_count": 51,
   "id": "bf76342f",
   "metadata": {
    "scrolled": true
   },
   "outputs": [
    {
     "name": "stdout",
     "output_type": "stream",
     "text": [
      "CPU times: user 166 ms, sys: 216 ms, total: 382 ms\n",
      "Wall time: 379 ms\n"
     ]
    },
    {
     "data": {
      "text/plain": [
       "NearestNeighbors(algorithm='brute', metric='cosine')"
      ]
     },
     "execution_count": 51,
     "metadata": {},
     "output_type": "execute_result"
    }
   ],
   "source": [
    "%%time\n",
    "\n",
    "#test model knn for users\n",
    "model_knn_10PlusRatings = NearestNeighbors(metric = 'cosine', algorithm = 'brute')\n",
    "model_knn_10PlusRatings.fit(active_users_df_10PlusRatings_partial_pivot)"
   ]
  },
  {
   "cell_type": "markdown",
   "id": "64490144",
   "metadata": {},
   "source": [
    "### for active_users_df_10PlusRatings_partial_pivot after pca"
   ]
  },
  {
   "cell_type": "code",
   "execution_count": 134,
   "id": "7c162136",
   "metadata": {},
   "outputs": [
    {
     "name": "stdout",
     "output_type": "stream",
     "text": [
      "CPU times: user 1.78 ms, sys: 0 ns, total: 1.78 ms\n",
      "Wall time: 1.71 ms\n"
     ]
    },
    {
     "data": {
      "text/plain": [
       "NearestNeighbors(algorithm='brute', metric='cosine')"
      ]
     },
     "execution_count": 134,
     "metadata": {},
     "output_type": "execute_result"
    }
   ],
   "source": [
    "%%time\n",
    "\n",
    "#test model knn for users\n",
    "model_knn_pca_10PlusRatings = NearestNeighbors(metric = 'cosine', algorithm = 'brute')\n",
    "model_knn_pca_10PlusRatings.fit(pca_pivot)"
   ]
  },
  {
   "cell_type": "code",
   "execution_count": 178,
   "id": "0bd07a8d",
   "metadata": {},
   "outputs": [
    {
     "name": "stdout",
     "output_type": "stream",
     "text": [
      "CPU times: user 3.32 ms, sys: 0 ns, total: 3.32 ms\n",
      "Wall time: 3 ms\n"
     ]
    },
    {
     "data": {
      "text/plain": [
       "NearestNeighbors(algorithm='brute', metric='cosine')"
      ]
     },
     "execution_count": 178,
     "metadata": {},
     "output_type": "execute_result"
    }
   ],
   "source": [
    "%%time\n",
    "\n",
    "#test model knn for users\n",
    "model_knn_pca_10PlusRatings_ = NearestNeighbors(metric = 'cosine', algorithm = 'brute')\n",
    "model_knn_pca_10PlusRatings_.fit(pca_pivot_)"
   ]
  },
  {
   "cell_type": "markdown",
   "id": "e39ce28e",
   "metadata": {},
   "source": [
    "### active_users_df_100PlusRatings_partial_pivot"
   ]
  },
  {
   "cell_type": "code",
   "execution_count": 54,
   "id": "2446678e",
   "metadata": {
    "scrolled": true
   },
   "outputs": [
    {
     "data": {
      "text/plain": [
       "NearestNeighbors(algorithm='brute', metric='cosine')"
      ]
     },
     "execution_count": 54,
     "metadata": {},
     "output_type": "execute_result"
    }
   ],
   "source": [
    "#test model knn for users\n",
    "\n",
    "model_knn_100PlusRatings = NearestNeighbors(metric = 'cosine', algorithm = 'brute')\n",
    "model_knn_100PlusRatings.fit(active_users_df_100PlusRatings_partial_pivot)"
   ]
  },
  {
   "cell_type": "markdown",
   "id": "c05a13a4",
   "metadata": {},
   "source": [
    "### rating_complete_df_10_partial_pivot"
   ]
  },
  {
   "cell_type": "code",
   "execution_count": 55,
   "id": "52c30ab5",
   "metadata": {},
   "outputs": [
    {
     "data": {
      "text/plain": [
       "NearestNeighbors(algorithm='brute', metric='cosine')"
      ]
     },
     "execution_count": 55,
     "metadata": {},
     "output_type": "execute_result"
    }
   ],
   "source": [
    "#test model knn for users\n",
    "\n",
    "model_knn_complete_10PlusRatings = NearestNeighbors(metric = 'cosine', algorithm = 'brute')\n",
    "model_knn_complete_10PlusRatings.fit(rating_complete_df_10PlusRatings_partial_pivot)"
   ]
  },
  {
   "cell_type": "markdown",
   "id": "b4aef42d",
   "metadata": {},
   "source": [
    "### rating_complete_df_100_partial_pivot"
   ]
  },
  {
   "cell_type": "code",
   "execution_count": 56,
   "id": "0377d819",
   "metadata": {},
   "outputs": [
    {
     "data": {
      "text/plain": [
       "NearestNeighbors(algorithm='brute', metric='cosine')"
      ]
     },
     "execution_count": 56,
     "metadata": {},
     "output_type": "execute_result"
    }
   ],
   "source": [
    "\n",
    "model_knn_complete_100PlusRatings = NearestNeighbors(metric = 'cosine', algorithm = 'brute')\n",
    "model_knn_complete_100PlusRatings.fit(rating_complete_df_100PlusRatings_partial_pivot)"
   ]
  },
  {
   "cell_type": "markdown",
   "id": "93261606",
   "metadata": {},
   "source": [
    "### Predictions and comparaisons of model with index row"
   ]
  },
  {
   "cell_type": "code",
   "execution_count": 57,
   "id": "38686097",
   "metadata": {},
   "outputs": [],
   "source": [
    "# don't forget to when the distance for knn prediction is 0.0 is probably due lack of data and \n",
    "# not an extreme proximity of the anime"
   ]
  },
  {
   "cell_type": "code",
   "execution_count": 58,
   "id": "360409aa",
   "metadata": {
    "scrolled": true
   },
   "outputs": [],
   "source": [
    "#Chose the anime 5 who is the same on the two vectorized data\n",
    "index_nb = 25\n",
    "n_neighbors = 15\n",
    "distances, indices = model_knn_10PlusRatings.kneighbors(active_users_df_10PlusRatings_partial_pivot.iloc[index_nb,:].values.reshape(1, -1), n_neighbors = n_neighbors)"
   ]
  },
  {
   "cell_type": "code",
   "execution_count": 59,
   "id": "e1b11833",
   "metadata": {},
   "outputs": [
    {
     "data": {
      "text/plain": [
       "10166"
      ]
     },
     "execution_count": 59,
     "metadata": {},
     "output_type": "execute_result"
    }
   ],
   "source": [
    "active_users_df_100PlusRatings_partial_pivot.shape[0]"
   ]
  },
  {
   "cell_type": "code",
   "execution_count": 60,
   "id": "9012b4c4",
   "metadata": {},
   "outputs": [
    {
     "data": {
      "text/plain": [
       "'Rurouni Kenshin: Meiji Kenkaku Romantan - Tsuioku-hen'"
      ]
     },
     "execution_count": 60,
     "metadata": {},
     "output_type": "execute_result"
    }
   ],
   "source": [
    "anime_id_name_df_10PlusRatings.loc[25].Name"
   ]
  },
  {
   "cell_type": "code",
   "execution_count": 61,
   "id": "194609d0",
   "metadata": {},
   "outputs": [
    {
     "data": {
      "text/plain": [
       "array([[0., 0., 0., ..., 0., 0., 0.]])"
      ]
     },
     "execution_count": 61,
     "metadata": {},
     "output_type": "execute_result"
    }
   ],
   "source": [
    "active_users_df_100PlusRatings_partial_pivot.iloc[index_nb,:].values.reshape(1, -1)"
   ]
  },
  {
   "cell_type": "code",
   "execution_count": 62,
   "id": "a334237b",
   "metadata": {},
   "outputs": [
    {
     "name": "stdout",
     "output_type": "stream",
     "text": [
      "Recommendations for 44:\n",
      "\n",
      "1: 401, with distance of 0.35845107042250957:\n",
      "2: 45, with distance of 0.4412344920491553:\n",
      "3: 46, with distance of 0.5198177735481421:\n",
      "4: 205, with distance of 0.630682291111423:\n",
      "5: 164, with distance of 0.6514185282119336:\n",
      "6: 1, with distance of 0.6532132499033738:\n",
      "7: 6, with distance of 0.6594495192648324:\n",
      "8: 11441, with distance of 0.6777024884985369:\n",
      "9: 72, with distance of 0.6832907565108806:\n",
      "10: 5, with distance of 0.6833175351648948:\n",
      "11: 267, with distance of 0.6848829520995819:\n",
      "12: 2418, with distance of 0.6856527651060023:\n",
      "13: 33, with distance of 0.6876457091619872:\n",
      "14: 1818, with distance of 0.6882241799505109:\n"
     ]
    }
   ],
   "source": [
    "#10PlusRatings\n",
    "for i in range(0, len(distances.flatten())):\n",
    "    if i == 0:\n",
    "        print('Recommendations for {0}:\\n'.format(active_users_df_10PlusRatings_partial_pivot.index[index_nb]))\n",
    "    else:\n",
    "        print('{0}: {1}, with distance of {2}:'.format(i, active_users_df_10PlusRatings_partial_pivot.index[indices.flatten()[i]], distances.flatten()[i]))"
   ]
  },
  {
   "cell_type": "code",
   "execution_count": 63,
   "id": "41059473",
   "metadata": {},
   "outputs": [],
   "source": [
    "distances, indices = model_knn_10PlusRatings.kneighbors(active_users_df_10PlusRatings_partial_pivot.iloc[index_nb,:].values.reshape(1, -1), n_neighbors = n_neighbors)"
   ]
  },
  {
   "cell_type": "code",
   "execution_count": 64,
   "id": "79d29bc5",
   "metadata": {
    "scrolled": true
   },
   "outputs": [
    {
     "data": {
      "text/html": [
       "<div>\n",
       "<style scoped>\n",
       "    .dataframe tbody tr th:only-of-type {\n",
       "        vertical-align: middle;\n",
       "    }\n",
       "\n",
       "    .dataframe tbody tr th {\n",
       "        vertical-align: top;\n",
       "    }\n",
       "\n",
       "    .dataframe thead th {\n",
       "        text-align: right;\n",
       "    }\n",
       "</style>\n",
       "<table border=\"1\" class=\"dataframe\">\n",
       "  <thead>\n",
       "    <tr style=\"text-align: right;\">\n",
       "      <th></th>\n",
       "      <th>anime_id</th>\n",
       "      <th>Name</th>\n",
       "    </tr>\n",
       "  </thead>\n",
       "  <tbody>\n",
       "    <tr>\n",
       "      <th>25</th>\n",
       "      <td>44</td>\n",
       "      <td>Rurouni Kenshin: Meiji Kenkaku Romantan - Tsui...</td>\n",
       "    </tr>\n",
       "  </tbody>\n",
       "</table>\n",
       "</div>"
      ],
      "text/plain": [
       "    anime_id                                               Name\n",
       "25        44  Rurouni Kenshin: Meiji Kenkaku Romantan - Tsui..."
      ]
     },
     "execution_count": 64,
     "metadata": {},
     "output_type": "execute_result"
    }
   ],
   "source": [
    "anime_id_name_df_10PlusRatings.query('anime_id == 44')"
   ]
  },
  {
   "cell_type": "code",
   "execution_count": 65,
   "id": "75ea65d2",
   "metadata": {
    "scrolled": true
   },
   "outputs": [
    {
     "data": {
      "text/plain": [
       "'Rurouni Kenshin: Meiji Kenkaku Romantan - Tsuioku-hen'"
      ]
     },
     "execution_count": 65,
     "metadata": {},
     "output_type": "execute_result"
    }
   ],
   "source": [
    "# How to obtain the nma of the anime from is anime_id\n",
    "anime_id_name_df_10PlusRatings.query('anime_id == 44').iloc[0].Name"
   ]
  },
  {
   "cell_type": "code",
   "execution_count": 66,
   "id": "27c34f14",
   "metadata": {},
   "outputs": [
    {
     "name": "stdout",
     "output_type": "stream",
     "text": [
      "Rurouni Kenshin: Meiji Kenkaku Romantan - Tsuioku-hen\n"
     ]
    }
   ],
   "source": [
    "print(anime_id_name_df_10PlusRatings.query('anime_id == 44').iloc[0].Name)"
   ]
  },
  {
   "cell_type": "code",
   "execution_count": 67,
   "id": "3193238e",
   "metadata": {},
   "outputs": [
    {
     "data": {
      "text/plain": [
       "'Rurouni Kenshin: Meiji Kenkaku Romantan - Tsuioku-hen'"
      ]
     },
     "execution_count": 67,
     "metadata": {},
     "output_type": "execute_result"
    }
   ],
   "source": [
    "nb = 44\n",
    "anime_id_name_df_10PlusRatings.query(f'anime_id == {nb}').iloc[0].Name"
   ]
  },
  {
   "cell_type": "code",
   "execution_count": 68,
   "id": "32f31925",
   "metadata": {},
   "outputs": [
    {
     "name": "stdout",
     "output_type": "stream",
     "text": [
      "Recommendations for Rurouni Kenshin: Meiji Kenkaku Romantan - Tsuioku-hen:\n",
      "Rurouni Kenshin: Meiji Kenkaku Romantan - Seisou-hen, with distance of 0.35845107042250957\n",
      "Rurouni Kenshin: Meiji Kenkaku Romantan, with distance of 0.4412344920491553\n",
      "Rurouni Kenshin: Meiji Kenkaku Romantan - Ishinshishi e no Chinkonka, with distance of 0.5198177735481421\n",
      "Samurai Champloo, with distance of 0.630682291111423\n",
      "Mononoke Hime, with distance of 0.6514185282119336\n",
      "Cowboy Bebop, with distance of 0.6532132499033738\n",
      "Trigun, with distance of 0.6594495192648324\n",
      "Rurouni Kenshin: Meiji Kenkaku Romantan - Shin Kyoto-hen, with distance of 0.6777024884985369\n",
      "Full Metal Panic? Fumoffu, with distance of 0.6832907565108806\n",
      "Cowboy Bebop: Tengoku no Tobira, with distance of 0.6833175351648948\n",
      "Gungrave, with distance of 0.6848829520995819\n",
      "Stranger: Mukou Hadan, with distance of 0.6856527651060023\n",
      "Kenpuu Denki Berserk, with distance of 0.6876457091619872\n",
      "Claymore, with distance of 0.6882241799505109\n"
     ]
    }
   ],
   "source": [
    "#10PlusRatings list\n",
    "distances, indices = model_knn_10PlusRatings.kneighbors(active_users_df_10PlusRatings_partial_pivot.iloc[index_nb,:].values.reshape(1, -1), n_neighbors = n_neighbors)\n",
    "\n",
    "prediction_10PlusRatings = []\n",
    "for i in range(0, len(distances.flatten())):\n",
    "    if i == 0:\n",
    "        prediction_10PlusRatings.append([active_users_df_10PlusRatings_partial_pivot.index[indices.flatten()[i]],0])\n",
    "    else:\n",
    "        prediction_10PlusRatings.append([active_users_df_10PlusRatings_partial_pivot.index[indices.flatten()[i]],distances.flatten()[i]])\n",
    "\n",
    "for i in range(len(prediction_10PlusRatings)):\n",
    "    anime_name = anime_id_name_df_10PlusRatings.query(f'anime_id == {prediction_10PlusRatings[i][0]}').iloc[0].Name\n",
    "    distance = prediction_10PlusRatings[i][1]\n",
    "    if i == 0:\n",
    "        print(f'Recommendations for {anime_name}:')\n",
    "    else:\n",
    "        print(f'{anime_name}, with distance of {distance}')"
   ]
  },
  {
   "cell_type": "code",
   "execution_count": 69,
   "id": "f81b5e20",
   "metadata": {},
   "outputs": [
    {
     "data": {
      "text/plain": [
       "'Rurouni Kenshin: Meiji Kenkaku Romantan - Tsuioku-hen'"
      ]
     },
     "execution_count": 69,
     "metadata": {},
     "output_type": "execute_result"
    }
   ],
   "source": [
    "anime_id_name_df_10PlusRatings.query(f'anime_id == {prediction_10PlusRatings[0][0]}').iloc[0].Name"
   ]
  },
  {
   "cell_type": "code",
   "execution_count": 70,
   "id": "866f29a7",
   "metadata": {
    "scrolled": true
   },
   "outputs": [
    {
     "data": {
      "text/plain": [
       "44"
      ]
     },
     "execution_count": 70,
     "metadata": {},
     "output_type": "execute_result"
    }
   ],
   "source": [
    "prediction_10PlusRatings[0][0]"
   ]
  },
  {
   "cell_type": "code",
   "execution_count": 71,
   "id": "2ecddcd0",
   "metadata": {},
   "outputs": [
    {
     "name": "stdout",
     "output_type": "stream",
     "text": [
      "Recommendations for Rurouni Kenshin: Meiji Kenkaku Romantan - Tsuioku-hen:\n",
      "Rurouni Kenshin: Meiji Kenkaku Romantan - Seisou-hen, with distance of 0.3328569482940109\n",
      "Rurouni Kenshin: Meiji Kenkaku Romantan, with distance of 0.40251121186245653\n",
      "Rurouni Kenshin: Meiji Kenkaku Romantan - Ishinshishi e no Chinkonka, with distance of 0.47648033772070286\n",
      "Samurai Champloo, with distance of 0.5976485135355778\n",
      "Trigun, with distance of 0.6350663596971027\n",
      "Full Metal Panic? Fumoffu, with distance of 0.6361281063333539\n",
      "Cowboy Bebop, with distance of 0.6362672287529976\n",
      "Mononoke Hime, with distance of 0.6364660462779357\n",
      "Rurouni Kenshin: Meiji Kenkaku Romantan - Shin Kyoto-hen, with distance of 0.6406270910188878\n",
      "Gungrave, with distance of 0.6416285075724968\n",
      "Full Metal Panic!, with distance of 0.6491594950121562\n",
      "Fullmetal Alchemist, with distance of 0.6537517787465945\n",
      "Cowboy Bebop: Tengoku no Tobira, with distance of 0.6546939282738695\n",
      "Claymore, with distance of 0.6564810887608559\n"
     ]
    }
   ],
   "source": [
    "#100PlusRatings list\n",
    "distances, indices = model_knn_100PlusRatings.kneighbors(active_users_df_100PlusRatings_partial_pivot.iloc[index_nb,:].values.reshape(1, -1), n_neighbors = n_neighbors)\n",
    "prediction_100PlusRatings = []\n",
    "for i in range(len(distances.flatten())):\n",
    "    if i == 0:\n",
    "        prediction_100PlusRatings.append([active_users_df_100PlusRatings_partial_pivot.index[indices.flatten()[i]],0])\n",
    "    else:\n",
    "        prediction_100PlusRatings.append([active_users_df_100PlusRatings_partial_pivot.index[indices.flatten()[i]],distances.flatten()[i]])\n",
    "\n",
    "for i in range(len(prediction_100PlusRatings)):\n",
    "    anime_name = anime_id_name_df_100PlusRatings.query(f'anime_id == {prediction_100PlusRatings[i][0]}').iloc[0].Name\n",
    "    distance = prediction_100PlusRatings[i][1]\n",
    "    if i == 0:\n",
    "        print(f'Recommendations for {anime_name}:')\n",
    "    else:\n",
    "        print(f'{anime_name}, with distance of {distance}')"
   ]
  },
  {
   "cell_type": "markdown",
   "id": "b6e7e925",
   "metadata": {},
   "source": [
    "### prediction and comparaison with an anime name"
   ]
  },
  {
   "cell_type": "code",
   "execution_count": 72,
   "id": "e1fce9a4",
   "metadata": {
    "scrolled": false
   },
   "outputs": [
    {
     "data": {
      "text/html": [
       "<div>\n",
       "<style scoped>\n",
       "    .dataframe tbody tr th:only-of-type {\n",
       "        vertical-align: middle;\n",
       "    }\n",
       "\n",
       "    .dataframe tbody tr th {\n",
       "        vertical-align: top;\n",
       "    }\n",
       "\n",
       "    .dataframe thead th {\n",
       "        text-align: right;\n",
       "    }\n",
       "</style>\n",
       "<table border=\"1\" class=\"dataframe\">\n",
       "  <thead>\n",
       "    <tr style=\"text-align: right;\">\n",
       "      <th></th>\n",
       "      <th>anime_id</th>\n",
       "      <th>Name</th>\n",
       "    </tr>\n",
       "  </thead>\n",
       "  <tbody>\n",
       "    <tr>\n",
       "      <th>10</th>\n",
       "      <td>20</td>\n",
       "      <td>Naruto</td>\n",
       "    </tr>\n",
       "  </tbody>\n",
       "</table>\n",
       "</div>"
      ],
      "text/plain": [
       "    anime_id    Name\n",
       "10        20  Naruto"
      ]
     },
     "execution_count": 72,
     "metadata": {},
     "output_type": "execute_result"
    }
   ],
   "source": [
    "anime_id_name_df_10PlusRatings.query('Name == \"Naruto\"')"
   ]
  },
  {
   "cell_type": "code",
   "execution_count": 73,
   "id": "cf894d42",
   "metadata": {},
   "outputs": [],
   "source": [
    "n_neighbors = 15"
   ]
  },
  {
   "cell_type": "code",
   "execution_count": 74,
   "id": "e52d1de4",
   "metadata": {},
   "outputs": [],
   "source": [
    "index_nb = anime_id_name_df_10PlusRatings.index[anime_id_name_df_10PlusRatings['Name'] == \"Naruto\"].tolist()[0]"
   ]
  },
  {
   "cell_type": "code",
   "execution_count": 75,
   "id": "2aefc855",
   "metadata": {},
   "outputs": [
    {
     "data": {
      "text/plain": [
       "10"
      ]
     },
     "execution_count": 75,
     "metadata": {},
     "output_type": "execute_result"
    }
   ],
   "source": [
    "anime_id_name_df_10PlusRatings.index[anime_id_name_df_10PlusRatings['Name'] == \"Naruto\"].tolist()[0]"
   ]
  },
  {
   "cell_type": "code",
   "execution_count": 76,
   "id": "a9b30979",
   "metadata": {},
   "outputs": [
    {
     "data": {
      "text/plain": [
       "10"
      ]
     },
     "execution_count": 76,
     "metadata": {},
     "output_type": "execute_result"
    }
   ],
   "source": [
    "index_nb"
   ]
  },
  {
   "cell_type": "code",
   "execution_count": 77,
   "id": "c94d6315",
   "metadata": {},
   "outputs": [
    {
     "name": "stdout",
     "output_type": "stream",
     "text": [
      "Recommendations for Naruto:\n",
      "Naruto: Shippuuden, with distance of 0.18049078542744768\n",
      "Death Note, with distance of 0.32724375187989996\n",
      "Bleach, with distance of 0.35922338431707146\n",
      "Shingeki no Kyojin, with distance of 0.3764965221555553\n",
      "Fullmetal Alchemist: Brotherhood, with distance of 0.4092187913883153\n",
      "Code Geass: Hangyaku no Lelouch, with distance of 0.4141593159792041\n",
      "Sword Art Online, with distance of 0.4145034622526954\n",
      "One Piece, with distance of 0.4324693299705893\n",
      "Fairy Tail, with distance of 0.43374727465720364\n",
      "One Punch Man, with distance of 0.440672137299862\n",
      "Code Geass: Hangyaku no Lelouch R2, with distance of 0.44317776537599496\n",
      "Tokyo Ghoul, with distance of 0.4478750610328671\n",
      "Boku no Hero Academia, with distance of 0.4509773475530082\n",
      "Fullmetal Alchemist, with distance of 0.45734048611945144\n"
     ]
    }
   ],
   "source": [
    "#10PlusRatings list\n",
    "distances, indices = model_knn_10PlusRatings.kneighbors(active_users_df_10PlusRatings_partial_pivot.iloc[index_nb,:].values.reshape(1, -1), n_neighbors = n_neighbors)\n",
    "\n",
    "prediction_10PlusRatings = []\n",
    "for i in range(0, len(distances.flatten())):\n",
    "    if i == 0:\n",
    "        prediction_10PlusRatings.append([active_users_df_10PlusRatings_partial_pivot.index[indices.flatten()[i]],0])\n",
    "    else:\n",
    "        prediction_10PlusRatings.append([active_users_df_10PlusRatings_partial_pivot.index[indices.flatten()[i]],distances.flatten()[i]])\n",
    "\n",
    "for i in range(len(prediction_10PlusRatings)):\n",
    "    anime_name = anime_id_name_df_10PlusRatings.query(f'anime_id == {prediction_10PlusRatings[i][0]}').iloc[0].Name\n",
    "    distance = prediction_10PlusRatings[i][1]\n",
    "    if i == 0:\n",
    "        print(f'Recommendations for {anime_name}:')\n",
    "    else:\n",
    "        print(f'{anime_name}, with distance of {distance}')"
   ]
  },
  {
   "cell_type": "code",
   "execution_count": 78,
   "id": "6ffe6726",
   "metadata": {
    "scrolled": false
   },
   "outputs": [
    {
     "data": {
      "text/html": [
       "<div>\n",
       "<style scoped>\n",
       "    .dataframe tbody tr th:only-of-type {\n",
       "        vertical-align: middle;\n",
       "    }\n",
       "\n",
       "    .dataframe tbody tr th {\n",
       "        vertical-align: top;\n",
       "    }\n",
       "\n",
       "    .dataframe thead th {\n",
       "        text-align: right;\n",
       "    }\n",
       "</style>\n",
       "<table border=\"1\" class=\"dataframe\">\n",
       "  <thead>\n",
       "    <tr style=\"text-align: right;\">\n",
       "      <th></th>\n",
       "      <th>anime_id</th>\n",
       "      <th>Name</th>\n",
       "    </tr>\n",
       "  </thead>\n",
       "  <tbody>\n",
       "    <tr>\n",
       "      <th>10</th>\n",
       "      <td>20</td>\n",
       "      <td>Naruto</td>\n",
       "    </tr>\n",
       "  </tbody>\n",
       "</table>\n",
       "</div>"
      ],
      "text/plain": [
       "    anime_id    Name\n",
       "10        20  Naruto"
      ]
     },
     "execution_count": 78,
     "metadata": {},
     "output_type": "execute_result"
    }
   ],
   "source": [
    "anime_id_name_df_100PlusRatings.query('Name == \"Naruto\"')"
   ]
  },
  {
   "cell_type": "code",
   "execution_count": 79,
   "id": "8a306d13",
   "metadata": {},
   "outputs": [],
   "source": [
    "index_nb = anime_id_name_df_100PlusRatings.index[anime_id_name_df_100PlusRatings['Name'] == \"Naruto\"].tolist()[0]"
   ]
  },
  {
   "cell_type": "code",
   "execution_count": 80,
   "id": "db55134c",
   "metadata": {
    "scrolled": true
   },
   "outputs": [
    {
     "data": {
      "text/plain": [
       "10"
      ]
     },
     "execution_count": 80,
     "metadata": {},
     "output_type": "execute_result"
    }
   ],
   "source": [
    "index_nb"
   ]
  },
  {
   "cell_type": "code",
   "execution_count": 81,
   "id": "0904670a",
   "metadata": {
    "scrolled": false
   },
   "outputs": [
    {
     "name": "stdout",
     "output_type": "stream",
     "text": [
      "Recommendations for Naruto:\n",
      "Naruto: Shippuuden, with distance of 0.15516967217154098\n",
      "Death Note, with distance of 0.2848835714687844\n",
      "Bleach, with distance of 0.3062895355389935\n",
      "Shingeki no Kyojin, with distance of 0.3096722585912892\n",
      "Fullmetal Alchemist: Brotherhood, with distance of 0.33893160478466666\n",
      "Sword Art Online, with distance of 0.3441087305135756\n",
      "Code Geass: Hangyaku no Lelouch, with distance of 0.34628972989226114\n",
      "Fairy Tail, with distance of 0.36947365607179394\n",
      "One Punch Man, with distance of 0.3703646722889954\n",
      "Code Geass: Hangyaku no Lelouch R2, with distance of 0.37518298931842753\n",
      "Tokyo Ghoul, with distance of 0.3781145278685727\n",
      "Boku no Hero Academia, with distance of 0.38078608955757987\n",
      "One Piece, with distance of 0.3850372607381153\n",
      "Ao no Exorcist, with distance of 0.3885017578704081\n"
     ]
    }
   ],
   "source": [
    "#100PlusRatings list\n",
    "distances, indices = model_knn_100PlusRatings.kneighbors(active_users_df_100PlusRatings_partial_pivot.iloc[index_nb,:].values.reshape(1, -1), n_neighbors = n_neighbors)\n",
    "prediction_100PlusRatings = []\n",
    "for i in range(len(distances.flatten())):\n",
    "    if i == 0:\n",
    "        prediction_100PlusRatings.append([active_users_df_100PlusRatings_partial_pivot.index[indices.flatten()[i]],0])\n",
    "    else:\n",
    "        prediction_100PlusRatings.append([active_users_df_100PlusRatings_partial_pivot.index[indices.flatten()[i]],distances.flatten()[i]])\n",
    "\n",
    "for i in range(len(prediction_100PlusRatings)):\n",
    "    anime_name = anime_id_name_df_100PlusRatings.query(f'anime_id == {prediction_100PlusRatings[i][0]}').iloc[0].Name\n",
    "    distance = prediction_100PlusRatings[i][1]\n",
    "    if i == 0:\n",
    "        print(f'Recommendations for {anime_name}:')\n",
    "    else:\n",
    "        print(f'{anime_name}, with distance of {distance}')"
   ]
  },
  {
   "cell_type": "code",
   "execution_count": 82,
   "id": "d4766083",
   "metadata": {},
   "outputs": [
    {
     "data": {
      "text/html": [
       "<div>\n",
       "<style scoped>\n",
       "    .dataframe tbody tr th:only-of-type {\n",
       "        vertical-align: middle;\n",
       "    }\n",
       "\n",
       "    .dataframe tbody tr th {\n",
       "        vertical-align: top;\n",
       "    }\n",
       "\n",
       "    .dataframe thead th {\n",
       "        text-align: right;\n",
       "    }\n",
       "</style>\n",
       "<table border=\"1\" class=\"dataframe\">\n",
       "  <thead>\n",
       "    <tr style=\"text-align: right;\">\n",
       "      <th></th>\n",
       "      <th>anime_id</th>\n",
       "      <th>Name</th>\n",
       "    </tr>\n",
       "  </thead>\n",
       "  <tbody>\n",
       "    <tr>\n",
       "      <th>417</th>\n",
       "      <td>457</td>\n",
       "      <td>Mushishi</td>\n",
       "    </tr>\n",
       "  </tbody>\n",
       "</table>\n",
       "</div>"
      ],
      "text/plain": [
       "     anime_id      Name\n",
       "417       457  Mushishi"
      ]
     },
     "execution_count": 82,
     "metadata": {},
     "output_type": "execute_result"
    }
   ],
   "source": [
    "anime_id_name_df_10PlusRatings.query('Name == \"Mushishi\"')"
   ]
  },
  {
   "cell_type": "code",
   "execution_count": 83,
   "id": "d95fad68",
   "metadata": {},
   "outputs": [
    {
     "data": {
      "text/html": [
       "<div>\n",
       "<style scoped>\n",
       "    .dataframe tbody tr th:only-of-type {\n",
       "        vertical-align: middle;\n",
       "    }\n",
       "\n",
       "    .dataframe tbody tr th {\n",
       "        vertical-align: top;\n",
       "    }\n",
       "\n",
       "    .dataframe thead th {\n",
       "        text-align: right;\n",
       "    }\n",
       "</style>\n",
       "<table border=\"1\" class=\"dataframe\">\n",
       "  <thead>\n",
       "    <tr style=\"text-align: right;\">\n",
       "      <th></th>\n",
       "      <th>anime_id</th>\n",
       "      <th>Name</th>\n",
       "    </tr>\n",
       "  </thead>\n",
       "  <tbody>\n",
       "    <tr>\n",
       "      <th>38</th>\n",
       "      <td>57</td>\n",
       "      <td>Beck</td>\n",
       "    </tr>\n",
       "  </tbody>\n",
       "</table>\n",
       "</div>"
      ],
      "text/plain": [
       "    anime_id  Name\n",
       "38        57  Beck"
      ]
     },
     "execution_count": 83,
     "metadata": {},
     "output_type": "execute_result"
    }
   ],
   "source": [
    "anime_id_name_df_10PlusRatings.query('Name == \"Beck\"')"
   ]
  },
  {
   "cell_type": "code",
   "execution_count": 84,
   "id": "9faf3e26",
   "metadata": {},
   "outputs": [],
   "source": [
    "index_nb = anime_id_name_df_10PlusRatings.index[anime_id_name_df_10PlusRatings['Name'] == \"Beck\"].tolist()[0]"
   ]
  },
  {
   "cell_type": "code",
   "execution_count": 85,
   "id": "9bc7ec3e",
   "metadata": {},
   "outputs": [
    {
     "name": "stdout",
     "output_type": "stream",
     "text": [
      "Recommendations for Beck:\n",
      "Great Teacher Onizuka, with distance of 0.591790310143734\n",
      "Samurai Champloo, with distance of 0.6302206837978148\n",
      "NHK ni Youkoso!, with distance of 0.6316961419796813\n",
      "Black Lagoon, with distance of 0.6395070997045907\n",
      "Nodame Cantabile, with distance of 0.640647768986048\n",
      "Genshiken, with distance of 0.6516668110520863\n",
      "FLCL, with distance of 0.6545938058916254\n",
      "Detroit Metal City, with distance of 0.6567941462705711\n",
      "Koukyoushihen Eureka Seven, with distance of 0.6586769660066759\n",
      "Code Geass: Hangyaku no Lelouch, with distance of 0.6617284015963658\n",
      "Bakuman., with distance of 0.6629083622746548\n",
      "Cowboy Bebop, with distance of 0.6641822790017817\n",
      "Nana, with distance of 0.666763563661467\n",
      "Baccano!, with distance of 0.6669511482014431\n"
     ]
    }
   ],
   "source": [
    "#10PlusRatings list\n",
    "distances, indices = model_knn_10PlusRatings.kneighbors(active_users_df_10PlusRatings_partial_pivot.iloc[index_nb,:].values.reshape(1, -1), n_neighbors = n_neighbors)\n",
    "\n",
    "prediction_10PlusRatings = []\n",
    "for i in range(0, len(distances.flatten())):\n",
    "    if i == 0:\n",
    "        prediction_10PlusRatings.append([active_users_df_10PlusRatings_partial_pivot.index[indices.flatten()[i]],0])\n",
    "    else:\n",
    "        prediction_10PlusRatings.append([active_users_df_10PlusRatings_partial_pivot.index[indices.flatten()[i]],distances.flatten()[i]])\n",
    "\n",
    "for i in range(len(prediction_10PlusRatings)):\n",
    "    anime_name = anime_id_name_df_10PlusRatings.query(f'anime_id == {prediction_10PlusRatings[i][0]}').iloc[0].Name\n",
    "    distance = prediction_10PlusRatings[i][1]\n",
    "    if i == 0:\n",
    "        print(f'Recommendations for {anime_name}:')\n",
    "    else:\n",
    "        print(f'{anime_name}, with distance of {distance}')"
   ]
  },
  {
   "cell_type": "code",
   "execution_count": 86,
   "id": "664d644c",
   "metadata": {},
   "outputs": [],
   "source": [
    "index_nb = anime_id_name_df_100PlusRatings.index[anime_id_name_df_100PlusRatings['Name'] == \"Beck\"].tolist()[0]"
   ]
  },
  {
   "cell_type": "code",
   "execution_count": 87,
   "id": "9eba154d",
   "metadata": {},
   "outputs": [
    {
     "name": "stdout",
     "output_type": "stream",
     "text": [
      "Recommendations for Beck:\n",
      "Great Teacher Onizuka, with distance of 0.5543059059762561\n",
      "NHK ni Youkoso!, with distance of 0.5855015252415916\n",
      "Samurai Champloo, with distance of 0.6025232343668067\n",
      "Black Lagoon, with distance of 0.6040858467601\n",
      "Nodame Cantabile, with distance of 0.6046246225282129\n",
      "FLCL, with distance of 0.618604133128144\n",
      "Fullmetal Alchemist, with distance of 0.6188701456381132\n",
      "Genshiken, with distance of 0.6226827259096492\n",
      "Black Lagoon: The Second Barrage, with distance of 0.6254898956891575\n",
      "Death Note, with distance of 0.6255588548621807\n",
      "Elfen Lied, with distance of 0.6270899600719408\n",
      "Nana, with distance of 0.6277005139940497\n",
      "Detroit Metal City, with distance of 0.6298809083862615\n",
      "Code Geass: Hangyaku no Lelouch, with distance of 0.63031025510769\n"
     ]
    }
   ],
   "source": [
    "#100PlusRatings list\n",
    "distances, indices = model_knn_100PlusRatings.kneighbors(active_users_df_100PlusRatings_partial_pivot.iloc[index_nb,:].values.reshape(1, -1), n_neighbors = n_neighbors)\n",
    "prediction_100PlusRatings = []\n",
    "for i in range(len(distances.flatten())):\n",
    "    if i == 0:\n",
    "        prediction_100PlusRatings.append([active_users_df_100PlusRatings_partial_pivot.index[indices.flatten()[i]],0])\n",
    "    else:\n",
    "        prediction_100PlusRatings.append([active_users_df_100PlusRatings_partial_pivot.index[indices.flatten()[i]],distances.flatten()[i]])\n",
    "\n",
    "for i in range(len(prediction_100PlusRatings)):\n",
    "    anime_name = anime_id_name_df_100PlusRatings.query(f'anime_id == {prediction_100PlusRatings[i][0]}').iloc[0].Name\n",
    "    distance = prediction_100PlusRatings[i][1]\n",
    "    if i == 0:\n",
    "        print(f'Recommendations for {anime_name}:')\n",
    "    else:\n",
    "        print(f'{anime_name}, with distance of {distance}')"
   ]
  },
  {
   "cell_type": "code",
   "execution_count": 88,
   "id": "b1d1a095",
   "metadata": {},
   "outputs": [],
   "source": [
    "# the model give response that are coherent"
   ]
  },
  {
   "cell_type": "markdown",
   "id": "039e62ba",
   "metadata": {},
   "source": [
    "### Create fonction for using the model"
   ]
  },
  {
   "cell_type": "code",
   "execution_count": 156,
   "id": "afca8950",
   "metadata": {},
   "outputs": [],
   "source": [
    "def recomendation_100PlusRatings(anime_name, nb_recomendation = 10):\n",
    "    index_nb = anime_name_df.index[anime_name_df['Name'] == anime_name].tolist()[0]\n",
    "    distances, indices = model_knn_100PlusRatings.kneighbors(active_users_df_100PlusRatings_partial_pivot.iloc[index_nb,:].values.reshape(1, -1), n_neighbors = nb_recomendation+1)\n",
    "    \n",
    "    prediction = []\n",
    "    for i in range(len(distances.flatten())):\n",
    "        if i == 0:\n",
    "            prediction.append([active_users_df_100PlusRatings_partial_pivot.index[indices.flatten()[i]],0])\n",
    "        else:\n",
    "            prediction.append([active_users_df_100PlusRatings_partial_pivot.index[indices.flatten()[i]],distances.flatten()[i]])\n",
    "    results = []\n",
    "    for i in range(len(prediction)):\n",
    "        anime_name = anime_name_df.query(f'anime_id == {prediction[i][0]}').iloc[0].Name\n",
    "        distance = prediction[i][1]\n",
    "        results.append([anime_name,distance])\n",
    "    return results"
   ]
  },
  {
   "cell_type": "code",
   "execution_count": 157,
   "id": "1aedf696",
   "metadata": {},
   "outputs": [],
   "source": [
    "def recomendation_10PlusRatings(anime_name, nb_recomendation = 10):\n",
    "    index_nb = anime_name_df.index[anime_name_df['Name'] == anime_name].tolist()[0]\n",
    "    distances, indices = model_knn_10PlusRatings.kneighbors(active_users_df_10PlusRatings_partial_pivot.iloc[index_nb,:].values.reshape(1, -1), n_neighbors = nb_recomendation + 1)\n",
    "\n",
    "    prediction = []\n",
    "    for i in range(0, len(distances.flatten())):\n",
    "        if i == 0:\n",
    "            prediction.append([active_users_df_10PlusRatings_partial_pivot.index[indices.flatten()[i]],0])\n",
    "        else:\n",
    "            prediction.append([active_users_df_10PlusRatings_partial_pivot.index[indices.flatten()[i]],distances.flatten()[i]])\n",
    "    results = []\n",
    "    for i in range(len(prediction)):\n",
    "        anime_name = anime_name_df.query(f'anime_id == {prediction[i][0]}').iloc[0].Name\n",
    "        distance = prediction[i][1]\n",
    "        results.append([anime_name,distance])\n",
    "    return results"
   ]
  },
  {
   "cell_type": "code",
   "execution_count": 158,
   "id": "d7fd6dec",
   "metadata": {},
   "outputs": [
    {
     "data": {
      "text/plain": [
       "20"
      ]
     },
     "execution_count": 158,
     "metadata": {},
     "output_type": "execute_result"
    }
   ],
   "source": [
    "active_users_df_10PlusRatings_partial_pivot.index[indices.flatten()[0]]"
   ]
  },
  {
   "cell_type": "code",
   "execution_count": 159,
   "id": "6ad3f52b",
   "metadata": {
    "scrolled": true
   },
   "outputs": [
    {
     "data": {
      "text/plain": [
       "Int64Index([20, 21, 30, 19, 6, 32, 5, 33, 47, 43, 16], dtype='int64', name='anime_id')"
      ]
     },
     "execution_count": 159,
     "metadata": {},
     "output_type": "execute_result"
    }
   ],
   "source": [
    "active_users_df_10PlusRatings_partial_pivot.index[indices.flatten()]"
   ]
  },
  {
   "cell_type": "code",
   "execution_count": 160,
   "id": "af78ea2f",
   "metadata": {},
   "outputs": [
    {
     "data": {
      "text/plain": [
       "array([10, 11, 20,  9,  2, 22,  1, 23, 28, 24,  6])"
      ]
     },
     "execution_count": 160,
     "metadata": {},
     "output_type": "execute_result"
    }
   ],
   "source": [
    "indices.flatten()"
   ]
  },
  {
   "cell_type": "code",
   "execution_count": 161,
   "id": "8a5eb7fb",
   "metadata": {},
   "outputs": [
    {
     "data": {
      "text/plain": [
       "[['Naruto', 0],\n",
       " ['Naruto: Shippuuden', 0.15516967217154098],\n",
       " ['Death Note', 0.2848835714687844],\n",
       " ['Bleach', 0.3062895355389935],\n",
       " ['Shingeki no Kyojin', 0.3096722585912892],\n",
       " ['Fullmetal Alchemist: Brotherhood', 0.33893160478466666],\n",
       " ['Sword Art Online', 0.3441087305135756],\n",
       " ['Code Geass: Hangyaku no Lelouch', 0.34628972989226114],\n",
       " ['Fairy Tail', 0.36947365607179394],\n",
       " ['One Punch Man', 0.3703646722889954],\n",
       " ['Code Geass: Hangyaku no Lelouch R2', 0.37518298931842753]]"
      ]
     },
     "execution_count": 161,
     "metadata": {},
     "output_type": "execute_result"
    }
   ],
   "source": [
    "recomendation_100PlusRatings('Naruto')"
   ]
  },
  {
   "cell_type": "code",
   "execution_count": 162,
   "id": "3ccd2326",
   "metadata": {
    "scrolled": true
   },
   "outputs": [
    {
     "data": {
      "text/plain": [
       "[['Naruto', 0],\n",
       " ['Naruto: Shippuuden', 0.18049078542744768],\n",
       " ['Death Note', 0.32724375187989996],\n",
       " ['Bleach', 0.35922338431707146],\n",
       " ['Shingeki no Kyojin', 0.3764965221555553],\n",
       " ['Fullmetal Alchemist: Brotherhood', 0.4092187913883153],\n",
       " ['Code Geass: Hangyaku no Lelouch', 0.4141593159792041],\n",
       " ['Sword Art Online', 0.4145034622526954],\n",
       " ['One Piece', 0.4324693299705893],\n",
       " ['Fairy Tail', 0.43374727465720364],\n",
       " ['One Punch Man', 0.440672137299862]]"
      ]
     },
     "execution_count": 162,
     "metadata": {},
     "output_type": "execute_result"
    }
   ],
   "source": [
    "recomendation_10PlusRatings('Naruto')"
   ]
  },
  {
   "cell_type": "code",
   "execution_count": 163,
   "id": "cd3dbbfc",
   "metadata": {},
   "outputs": [],
   "source": [
    "def recomendation_completed_10PlusRatings(anime_name, nb_recomendation = 10):\n",
    "    index_nb = anime_name_df.index[anime_name_df['Name'] == anime_name].tolist()[0]\n",
    "    distances, indices = model_knn_complete_10PlusRatings.kneighbors(rating_complete_df_10PlusRatings_partial_pivot.iloc[index_nb,:].values.reshape(1, -1), n_neighbors = nb_recomendation + 1)\n",
    "\n",
    "    prediction = []\n",
    "    for i in range(0, len(distances.flatten())):\n",
    "        if i == 0:\n",
    "            prediction.append([rating_complete_df_10PlusRatings_partial_pivot.index[indices.flatten()[i]],0])\n",
    "        else:\n",
    "            prediction.append([rating_complete_df_10PlusRatings_partial_pivot.index[indices.flatten()[i]],distances.flatten()[i]])\n",
    "    results = []\n",
    "    for i in range(len(prediction)):\n",
    "        anime_name = anime_name_df.query(f'anime_id == {prediction[i][0]}').iloc[0].Name\n",
    "        distance = prediction[i][1]\n",
    "        results.append([anime_name,distance])\n",
    "    return results"
   ]
  },
  {
   "cell_type": "code",
   "execution_count": 164,
   "id": "4cb1b2b6",
   "metadata": {},
   "outputs": [],
   "source": [
    "def recomendation_completed_100PlusRatings(anime_name, nb_recomendation = 10):\n",
    "    index_nb = anime_name_df.index[anime_name_df['Name'] == anime_name].tolist()[0]\n",
    "    distances, indices = model_knn_complete_100PlusRatings.kneighbors(rating_complete_df_100PlusRatings_partial_pivot.iloc[index_nb,:].values.reshape(1, -1), n_neighbors = nb_recomendation + 1)\n",
    "\n",
    "    prediction= []\n",
    "    for i in range(0, len(distances.flatten())):\n",
    "        if i == 0:\n",
    "            prediction.append([rating_complete_df_100PlusRatings_partial_pivot.index[indices.flatten()[i]],0])\n",
    "        else:\n",
    "            prediction.append([rating_complete_df_100PlusRatings_partial_pivot.index[indices.flatten()[i]],distances.flatten()[i]])\n",
    "    results = []\n",
    "    for i in range(len(prediction)):\n",
    "        anime_name = anime_name_df.query(f'anime_id == {prediction[i][0]}').iloc[0].Name\n",
    "        distance = prediction[i][1]\n",
    "        results.append([anime_name,distance])\n",
    "    return results"
   ]
  },
  {
   "cell_type": "code",
   "execution_count": 165,
   "id": "7a6b76d6",
   "metadata": {},
   "outputs": [
    {
     "data": {
      "text/plain": [
       "[['Naruto', 0],\n",
       " ['Death Note', 0.35472062005651495],\n",
       " ['Naruto: Shippuuden', 0.3748409817880938],\n",
       " ['Shingeki no Kyojin', 0.3922544466468775],\n",
       " ['Code Geass: Hangyaku no Lelouch', 0.42450733950923025],\n",
       " ['Sword Art Online', 0.42571517625874866],\n",
       " ['Fullmetal Alchemist: Brotherhood', 0.42990812561893743],\n",
       " ['Code Geass: Hangyaku no Lelouch R2', 0.44464392571874023],\n",
       " ['One Punch Man', 0.44527795583016394],\n",
       " ['Tokyo Ghoul', 0.4539639315265106],\n",
       " ['Boku no Hero Academia', 0.45976520632968665]]"
      ]
     },
     "execution_count": 165,
     "metadata": {},
     "output_type": "execute_result"
    }
   ],
   "source": [
    "recomendation_completed_10PlusRatings('Naruto')"
   ]
  },
  {
   "cell_type": "code",
   "execution_count": 166,
   "id": "8d2b348c",
   "metadata": {
    "scrolled": true
   },
   "outputs": [
    {
     "data": {
      "text/plain": [
       "[['Naruto', 0],\n",
       " ['Death Note', 0.30606058679364234],\n",
       " ['Shingeki no Kyojin', 0.33150840658690084],\n",
       " ['Naruto: Shippuuden', 0.33281109743113657],\n",
       " ['Sword Art Online', 0.35392714729298],\n",
       " ['Code Geass: Hangyaku no Lelouch', 0.366832270141216],\n",
       " ['Fullmetal Alchemist: Brotherhood', 0.3695876076470451],\n",
       " ['One Punch Man', 0.38298269980655464],\n",
       " ['Tokyo Ghoul', 0.3881276129545641],\n",
       " ['Code Geass: Hangyaku no Lelouch R2', 0.3896777611876161],\n",
       " ['Boku no Hero Academia', 0.39285816646421867]]"
      ]
     },
     "execution_count": 166,
     "metadata": {},
     "output_type": "execute_result"
    }
   ],
   "source": [
    "recomendation_completed_100PlusRatings('Naruto')"
   ]
  },
  {
   "cell_type": "code",
   "execution_count": 167,
   "id": "b73d1b9d",
   "metadata": {},
   "outputs": [],
   "source": [
    "def recomendation_10PlusRatings_pca(anime_name, nb_recomendation = 10):\n",
    "    index_nb = anime_name_df.index[anime_name_df['Name'] == anime_name].tolist()[0]\n",
    "    distances, indices = model_knn_pca_10PlusRatings.kneighbors(pca_pivot.iloc[index_nb,:].values.reshape(1, -1), n_neighbors = nb_recomendation + 1)\n",
    "\n",
    "    prediction = []\n",
    "    for i in range(0, len(distances.flatten())):\n",
    "        if i == 0:\n",
    "            prediction.append([pca_pivot.index[indices.flatten()[i]],0])\n",
    "        else:\n",
    "            prediction.append([pca_pivot.index[indices.flatten()[i]],distances.flatten()[i]])\n",
    "    results = []\n",
    "    for i in range(len(prediction)):\n",
    "        anime_name = anime_id_name_df_10PlusRatings.iloc[prediction[i][0]].Name\n",
    "        distance = prediction[i][1]\n",
    "        results.append([anime_name,distance])\n",
    "    return results"
   ]
  },
  {
   "cell_type": "code",
   "execution_count": 179,
   "id": "9a0c2a83",
   "metadata": {},
   "outputs": [],
   "source": [
    "def recomendation_10PlusRatings_pca_(anime_name, nb_recomendation = 10):\n",
    "    index_nb = anime_name_df.index[anime_name_df['Name'] == anime_name].tolist()[0]\n",
    "    distances, indices = model_knn_pca_10PlusRatings_.kneighbors(pca_pivot_.iloc[index_nb,:].values.reshape(1, -1), n_neighbors = nb_recomendation + 1)\n",
    "\n",
    "    prediction = []\n",
    "    for i in range(0, len(distances.flatten())):\n",
    "        if i == 0:\n",
    "            prediction.append([pca_pivot_.index[indices.flatten()[i]],0])\n",
    "        else:\n",
    "            prediction.append([pca_pivot_.index[indices.flatten()[i]],distances.flatten()[i]])\n",
    "    results = []\n",
    "    for i in range(len(prediction)):\n",
    "        anime_name = anime_name_df.query(f'anime_id == {prediction[i][0]}').iloc[0].Name\n",
    "        distance = prediction[i][1]\n",
    "        results.append([anime_name,distance])\n",
    "    return results"
   ]
  },
  {
   "cell_type": "code",
   "execution_count": 180,
   "id": "4d424576",
   "metadata": {
    "scrolled": true
   },
   "outputs": [
    {
     "data": {
      "text/plain": [
       "[['Naruto', 0],\n",
       " ['Fullmetal Alchemist: Brotherhood', 0.00027749554320488645],\n",
       " ['Free!', 0.0004866515980220809],\n",
       " ['Diabolik Lovers', 0.0007041167084627098],\n",
       " ['Donten ni Warau', 0.0011186474150184367],\n",
       " ['Hotarubi no Mori e', 0.0011588159444619883],\n",
       " [\"Gintama': Enchousen\", 0.001196681315907444],\n",
       " ['Death Billiards', 0.001456502041596086],\n",
       " ['Death Note', 0.001598559429833446],\n",
       " ['Ookami Kodomo no Ame to Yuki', 0.0026842677121099445],\n",
       " ['Hajime no Ippo: Rising', 0.003162657297030136]]"
      ]
     },
     "execution_count": 180,
     "metadata": {},
     "output_type": "execute_result"
    }
   ],
   "source": [
    "recomendation_10PlusRatings_pca('Naruto')"
   ]
  },
  {
   "cell_type": "code",
   "execution_count": 181,
   "id": "e1c6fd5b",
   "metadata": {},
   "outputs": [
    {
     "data": {
      "text/plain": [
       "[['Naruto', 0],\n",
       " ['Fullmetal Alchemist: Brotherhood', 0.00027749554320488645],\n",
       " ['Free!', 0.0004866515980220809],\n",
       " ['Diabolik Lovers', 0.0007041167084627098],\n",
       " ['Donten ni Warau', 0.0011186474150184367],\n",
       " ['Hotarubi no Mori e', 0.0011588159444619883],\n",
       " [\"Gintama': Enchousen\", 0.001196681315907333],\n",
       " ['Death Billiards', 0.001456502041596086],\n",
       " ['Death Note', 0.001598559429833224],\n",
       " ['Ookami Kodomo no Ame to Yuki', 0.0026842677121099445],\n",
       " ['Hajime no Ippo: Rising', 0.003162657297030136]]"
      ]
     },
     "execution_count": 181,
     "metadata": {},
     "output_type": "execute_result"
    }
   ],
   "source": [
    "recomendation_10PlusRatings_pca_('Naruto')"
   ]
  },
  {
   "cell_type": "code",
   "execution_count": 144,
   "id": "e65b2bb3",
   "metadata": {},
   "outputs": [],
   "source": [
    "nb_recomendation =10\n",
    "anime_name = 'Naruto'"
   ]
  },
  {
   "cell_type": "code",
   "execution_count": 145,
   "id": "a43106a7",
   "metadata": {},
   "outputs": [],
   "source": [
    "index_nb = anime_name_df.index[anime_name_df['Name'] == anime_name].tolist()[0]\n",
    "distances, indices = model_knn_pca_10PlusRatings_.kneighbors(pca_pivot_.iloc[index_nb,:].values.reshape(1, -1), n_neighbors = nb_recomendation + 1)"
   ]
  },
  {
   "cell_type": "code",
   "execution_count": 155,
   "id": "f858dbaa",
   "metadata": {},
   "outputs": [
    {
     "data": {
      "text/plain": [
       "10"
      ]
     },
     "execution_count": 155,
     "metadata": {},
     "output_type": "execute_result"
    }
   ],
   "source": [
    "index_nb"
   ]
  },
  {
   "cell_type": "code",
   "execution_count": 146,
   "id": "e1400aa7",
   "metadata": {
    "scrolled": true
   },
   "outputs": [
    {
     "data": {
      "text/plain": [
       "array([[10, 11, 20,  9,  2, 22,  1, 23, 28, 24,  6]])"
      ]
     },
     "execution_count": 146,
     "metadata": {},
     "output_type": "execute_result"
    }
   ],
   "source": [
    "indices"
   ]
  },
  {
   "cell_type": "code",
   "execution_count": 172,
   "id": "8f6360cf",
   "metadata": {},
   "outputs": [
    {
     "data": {
      "text/plain": [
       "10"
      ]
     },
     "execution_count": 172,
     "metadata": {},
     "output_type": "execute_result"
    }
   ],
   "source": [
    "anime_name_df.index[anime_name_df['Name'] == anime_name].tolist()[0]"
   ]
  },
  {
   "cell_type": "code",
   "execution_count": 111,
   "id": "ecba6b66",
   "metadata": {},
   "outputs": [
    {
     "data": {
      "text/plain": [
       "0    14.973474\n",
       "1    -7.181331\n",
       "2     9.280269\n",
       "Name: 0, dtype: float64"
      ]
     },
     "execution_count": 111,
     "metadata": {},
     "output_type": "execute_result"
    }
   ],
   "source": [
    "pca_pivot.iloc[index_nb,:]"
   ]
  },
  {
   "cell_type": "code",
   "execution_count": 112,
   "id": "8d430139",
   "metadata": {},
   "outputs": [
    {
     "data": {
      "text/plain": [
       "array([[14.97347442, -7.1813315 ,  9.28026905]])"
      ]
     },
     "execution_count": 112,
     "metadata": {},
     "output_type": "execute_result"
    }
   ],
   "source": [
    "pca_pivot.iloc[index_nb,:].values.reshape(1, -1)"
   ]
  },
  {
   "cell_type": "code",
   "execution_count": 114,
   "id": "135fb29f",
   "metadata": {},
   "outputs": [
    {
     "data": {
      "text/plain": [
       "(array([[0.        , 0.00013807]]), array([[  0, 142]]))"
      ]
     },
     "execution_count": 114,
     "metadata": {},
     "output_type": "execute_result"
    }
   ],
   "source": [
    "model_knn_pca_10PlusRatings.kneighbors(pca_pivot.iloc[index_nb,:].values.reshape(1, -1), n_neighbors = 2)"
   ]
  },
  {
   "cell_type": "code",
   "execution_count": 116,
   "id": "7b4a8b7f",
   "metadata": {},
   "outputs": [
    {
     "data": {
      "text/html": [
       "<div>\n",
       "<style scoped>\n",
       "    .dataframe tbody tr th:only-of-type {\n",
       "        vertical-align: middle;\n",
       "    }\n",
       "\n",
       "    .dataframe tbody tr th {\n",
       "        vertical-align: top;\n",
       "    }\n",
       "\n",
       "    .dataframe thead th {\n",
       "        text-align: right;\n",
       "    }\n",
       "</style>\n",
       "<table border=\"1\" class=\"dataframe\">\n",
       "  <thead>\n",
       "    <tr style=\"text-align: right;\">\n",
       "      <th></th>\n",
       "      <th>anime_id</th>\n",
       "      <th>Name</th>\n",
       "    </tr>\n",
       "  </thead>\n",
       "  <tbody>\n",
       "  </tbody>\n",
       "</table>\n",
       "</div>"
      ],
      "text/plain": [
       "Empty DataFrame\n",
       "Columns: [anime_id, Name]\n",
       "Index: []"
      ]
     },
     "execution_count": 116,
     "metadata": {},
     "output_type": "execute_result"
    }
   ],
   "source": [
    "anime_name_df.query(f'anime_id == 5138')"
   ]
  },
  {
   "cell_type": "code",
   "execution_count": null,
   "id": "0cc4d5df",
   "metadata": {},
   "outputs": [],
   "source": []
  },
  {
   "cell_type": "markdown",
   "id": "fe6496f3",
   "metadata": {},
   "source": [
    "### fonction for comparison all model"
   ]
  },
  {
   "cell_type": "code",
   "execution_count": null,
   "id": "fdd67fed",
   "metadata": {
    "scrolled": true
   },
   "outputs": [],
   "source": [
    "np.array(recomendation_100PlusRatings('Naruto'))[:,0]"
   ]
  },
  {
   "cell_type": "code",
   "execution_count": null,
   "id": "7e5b264c",
   "metadata": {},
   "outputs": [],
   "source": [
    "Naruto_10PlusRatings = np.array(recomendation_10PlusRatings('Naruto'))[:,0]\n",
    "Naruto_100PlusRatings = np.array(recomendation_100PlusRatings('Naruto'))[:,0]\n",
    "Naruto_completed_10PlusRatings = np.array(recomendation_completed_10PlusRatings('Naruto'))[:,0]\n",
    "Naruto_completed_100PlusRatings = np.array(recomendation_completed_100PlusRatings('Naruto'))[:,0]"
   ]
  },
  {
   "cell_type": "code",
   "execution_count": null,
   "id": "3fd6c6a2",
   "metadata": {
    "scrolled": true
   },
   "outputs": [],
   "source": [
    "list(Naruto_10PlusRatings)"
   ]
  },
  {
   "cell_type": "code",
   "execution_count": null,
   "id": "a3bca948",
   "metadata": {},
   "outputs": [],
   "source": [
    "pd.DataFrame(list(zip(list(Naruto_10PlusRatings), list(Naruto_100PlusRatings),list(Naruto_completed_10PlusRatings),list(Naruto_completed_100PlusRatings))), columns =['10PlusRatings', '100PlusRatings','completed_10PlusRatings', 'completed_100PlusRatings'])"
   ]
  },
  {
   "cell_type": "code",
   "execution_count": null,
   "id": "6741e9c6",
   "metadata": {},
   "outputs": [],
   "source": [
    "def compare(anime_name, nb_recomendation = 10):\n",
    "    _10PlusRatings = np.array(recomendation_10PlusRatings(anime_name, nb_recomendation ))[:,0]\n",
    "    _100PlusRatings = np.array(recomendation_100PlusRatings(anime_name, nb_recomendation ))[:,0]\n",
    "    completed_10Plus = np.array(recomendation_completed_10PlusRatings(anime_name, nb_recomendation ))[:,0]\n",
    "    completed_100Plus = np.array(recomendation_completed_100PlusRatings(anime_name, nb_recomendation ))[:,0]\n",
    "    return pd.DataFrame(list(zip(list(_10PlusRatings), list(_100PlusRatings),list(completed_10Plus),list(completed_100Plus))), columns =['10PlusRatings', '100PlusRatings','completed_10Plus', 'completed_100Plus'])"
   ]
  },
  {
   "cell_type": "code",
   "execution_count": null,
   "id": "6ea1ef79",
   "metadata": {
    "scrolled": false
   },
   "outputs": [],
   "source": [
    "compare('Naruto')"
   ]
  },
  {
   "cell_type": "code",
   "execution_count": null,
   "id": "b860ce61",
   "metadata": {},
   "outputs": [],
   "source": []
  }
 ],
 "metadata": {
  "kernelspec": {
   "display_name": "Python 3 (ipykernel)",
   "language": "python",
   "name": "python3"
  },
  "language_info": {
   "codemirror_mode": {
    "name": "ipython",
    "version": 3
   },
   "file_extension": ".py",
   "mimetype": "text/x-python",
   "name": "python",
   "nbconvert_exporter": "python",
   "pygments_lexer": "ipython3",
   "version": "3.8.6"
  },
  "toc": {
   "base_numbering": 1,
   "nav_menu": {},
   "number_sections": true,
   "sideBar": true,
   "skip_h1_title": false,
   "title_cell": "Table of Contents",
   "title_sidebar": "Contents",
   "toc_cell": false,
   "toc_position": {},
   "toc_section_display": true,
   "toc_window_display": false
  }
 },
 "nbformat": 4,
 "nbformat_minor": 5
}
